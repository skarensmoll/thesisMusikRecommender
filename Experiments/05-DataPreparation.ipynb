{
 "cells": [
  {
   "cell_type": "markdown",
   "id": "e6c7226c-4b82-42fa-a594-4ccc30b7e72d",
   "metadata": {},
   "source": [
    "# Data Preparation"
   ]
  },
  {
   "cell_type": "code",
   "execution_count": 9,
   "id": "b3c292c7-465f-409d-9e2b-789d92b796c9",
   "metadata": {},
   "outputs": [],
   "source": [
    "import os \n",
    "import pandas as pd\n",
    "import seaborn as sns\n",
    "from matplotlib import pyplot as plt\n",
    "import numpy as np\n",
    "import plotly.express as px\n",
    "import seaborn as sns\n",
    "from sklearn.preprocessing import OneHotEncoder, KBinsDiscretizer\n",
    "from sklearn.preprocessing import StandardScaler\n",
    "from ipynb.fs.full.Utils import loadDataFrames"
   ]
  },
  {
   "cell_type": "code",
   "execution_count": 10,
   "id": "588a1624-7fa9-4e21-b243-3ed9449f9ff6",
   "metadata": {},
   "outputs": [],
   "source": [
    "def deleteOutliersByField(df, field):\n",
    "    iqr = 1.5 * (np.percentile(df[field], 75)) - (np.percentile(df[field], 25))\n",
    "    greaterThan75 = df[df[field] > (iqr + np.percentile(df[field], 75))]\n",
    "    print('amount of rows to delete greater than 75' , len(greaterThan75))\n",
    "    lesserThan25 = df[df[field] < (np.percentile(df[field], 25) - iqr )]\n",
    "    print('amount of rows to delete lesser than 25' , len(lesserThan25))\n",
    "    df.drop(greaterThan75.index, inplace = True)\n",
    "    df.drop(lesserThan25.index, inplace = True)\n",
    "    \n",
    "def printNewShapeDF(df):\n",
    "    print('::: New Shape Dataframe', df.shape)\n",
    "    \n",
    "def getRenameObject(enc, columnNames):\n",
    "    encodedFeaturesNames = enc.get_feature_names_out(columnNames)\n",
    "    columns = {}\n",
    "    for i in range(0,len(encodedFeaturesNames)):\n",
    "        columns[i] = encodedFeaturesNames[i]\n",
    "    return columns, encodedFeaturesNames\n",
    "\n",
    "\n",
    "## -0.000999, 0.000186]    1\n",
    "## (0.000186, 0.985]       2\n",
    "##  0 = 0\n",
    "\n",
    "def getInstrumentalnessCat(row):\n",
    "    inst = row.instrumentalness\n",
    "    if inst == 0:\n",
    "        val = 0\n",
    "    elif inst >= -0.000999 and inst < 0.000186:\n",
    "        val = 1\n",
    "    else:\n",
    "        val = 2\n",
    "    return val"
   ]
  },
  {
   "cell_type": "code",
   "execution_count": 83,
   "id": "b11a8889-dc79-45f1-9080-c29dbfe9c98a",
   "metadata": {},
   "outputs": [],
   "source": [
    "spotifyFeatures, transitionMatrices, df = loadDataFrames()"
   ]
  },
  {
   "cell_type": "code",
   "execution_count": 84,
   "id": "113bffb4-7940-4d8e-ad41-f7f1bad21967",
   "metadata": {},
   "outputs": [
    {
     "data": {
      "text/plain": [
       "<bound method DataFrame.mode of                id_spotify_track  \\\n",
       "id                                \n",
       "23       2ap1hCe7wyOWkMJsnIn0V1   \n",
       "105      0KlWpxzYGq2sjVmwPHprxM   \n",
       "118      75a66iUfwKdJb5n9juvXRI   \n",
       "120      3QPQItOROGQUBbStogfu2g   \n",
       "292      4w2Yq2cklbssmUtUy5Vh6H   \n",
       "...                         ...   \n",
       "5000017  34dnNAUoIPcwnK0RtVMBWZ   \n",
       "5000018  49Nzxf1LskunwmZ6EyWUew   \n",
       "5000019  49ilSrZNQcle6PYw8rtvzM   \n",
       "5000020  66Z3LdLjtwfIdHFF0wZa5B   \n",
       "5000023  6f46TyGZm5oeKIP54PLvql   \n",
       "\n",
       "                                                  id_track  danceability  \\\n",
       "id                                                                         \n",
       "23                                                       1         0.494   \n",
       "105                                                     11         0.582   \n",
       "118                                                     14         0.614   \n",
       "120                                                     18         0.319   \n",
       "292                                                     23         0.496   \n",
       "...                                                    ...           ...   \n",
       "5000017  The Scientist - Coldplay Cover (ft. Kina Grann...         0.453   \n",
       "5000018  The Scientist - Coldplay _ Alex Goot & Jada Fa...         0.525   \n",
       "5000019  The Scientist - The Petersens (LIVE) (128kbit_...         0.549   \n",
       "5000020  Wicker Park - The Scientist (Coldplay) (192kbi...         0.493   \n",
       "5000023      gleechapversionthescientist-converted.mp3.csv         0.495   \n",
       "\n",
       "         energy  key  loudness  mode  speechiness  acousticness  \\\n",
       "id                                                                \n",
       "23        0.756    7    -8.504     1       0.0432      0.001400   \n",
       "105       0.744    7    -9.155     1       0.0336      0.000458   \n",
       "118       0.755    2    -5.829     1       0.0276      0.016200   \n",
       "120       0.807   11    -6.504     0       0.0388      0.001040   \n",
       "292       0.527    6    -7.234     1       0.0339      0.195000   \n",
       "...         ...  ...       ...   ...          ...           ...   \n",
       "5000017   0.295    7   -12.881     1       0.0291      0.518000   \n",
       "5000018   0.292    9    -8.809     1       0.0260      0.910000   \n",
       "5000019   0.283    9   -11.006     1       0.0284      0.661000   \n",
       "5000020   0.270    5   -11.910     1       0.0278      0.244000   \n",
       "5000023   0.489    2    -6.083     1       0.0270      0.497000   \n",
       "\n",
       "         instrumentalness  ...  1276  1278      1281  1286  1287 1288  1290  \\\n",
       "id                         ...                                                \n",
       "23               0.005200  ...   0.0   0.0  0.000000   0.0   0.0  0.0   0.0   \n",
       "105              0.001320  ...   0.0   0.0  0.000000   0.0   0.0  0.0   0.0   \n",
       "118              0.000002  ...   0.0   0.0  0.000000   0.0   0.0  0.0   0.0   \n",
       "120              0.290000  ...   0.0   0.0  0.000000   0.0   0.0  0.0   0.0   \n",
       "292              0.000000  ...   0.0   0.0  0.000000   0.0   0.0  0.0   0.0   \n",
       "...                   ...  ...   ...   ...       ...   ...   ...  ...   ...   \n",
       "5000017          0.000110  ...   0.0   0.0  0.000000   0.0   0.0  0.0   0.0   \n",
       "5000018          0.000000  ...   0.0   0.0  0.000000   0.0   0.0  0.0   0.0   \n",
       "5000019          0.000008  ...   0.0   0.0  0.000000   0.0   0.0  0.0   0.0   \n",
       "5000020          0.000000  ...   0.0   0.0  0.000000   0.0   0.0  0.0   0.0   \n",
       "5000023          0.000000  ...   0.0   0.0  0.010638   0.0   0.0  0.0   0.0   \n",
       "\n",
       "        1292 1294  1295  \n",
       "id                       \n",
       "23       0.0  0.0   0.0  \n",
       "105      0.0  0.0   0.0  \n",
       "118      0.0  0.0   0.0  \n",
       "120      0.0  0.0   0.0  \n",
       "292      0.0  0.0   0.0  \n",
       "...      ...  ...   ...  \n",
       "5000017  0.0  0.0   0.0  \n",
       "5000018  0.0  0.0   0.0  \n",
       "5000019  0.0  0.0   0.0  \n",
       "5000020  0.0  0.0   0.0  \n",
       "5000023  0.0  0.0   0.0  \n",
       "\n",
       "[3493 rows x 684 columns]>"
      ]
     },
     "execution_count": 84,
     "metadata": {},
     "output_type": "execute_result"
    }
   ],
   "source": [
    "df.mode"
   ]
  },
  {
   "cell_type": "code",
   "execution_count": 12,
   "id": "222282f5-7b40-4509-8bf6-5e33da537216",
   "metadata": {},
   "outputs": [
    {
     "name": "stdout",
     "output_type": "stream",
     "text": [
      "fraction of unique values over the sample size 0.19839679358717435\n",
      "The ratio of the frequency of the most prevalent value to the frequency of the second most prevalent value is large 0.19839679358717435\n"
     ]
    }
   ],
   "source": [
    "columnName = 'speechiness'\n",
    "numOfUniqueValues = len(df[columnName].value_counts())\n",
    "print( 'fraction of unique values over the sample size', numOfUniqueValues / len(df) )\n",
    "print( 'The ratio of the frequency of the most prevalent value to the frequency of the second most prevalent value is large', numOfUniqueValues / len(df) )"
   ]
  },
  {
   "cell_type": "markdown",
   "id": "07b53dc3-b844-4e29-ae7a-b258d0cdf2d5",
   "metadata": {},
   "source": [
    "## Rule of thumb from book applied predictive modeling related to variance"
   ]
  },
  {
   "cell_type": "markdown",
   "id": "0042f165-15c2-4d51-b6ac-7788898aa381",
   "metadata": {},
   "source": [
    "- The fraction of unique values over the sample size is low (say 10 %).\n",
    "- The ratio of the frequency of the most prevalent value to the frequency of the second most prevalent value is large (say around 20).\n",
    "\n",
    "\n",
    "If both of these criteria are true and the model in question is susceptible to this type of predictor, it may be advantageous to remove the variable from the model.\n"
   ]
  },
  {
   "cell_type": "markdown",
   "id": "47388edc-4130-48bd-a478-32f164574a39",
   "metadata": {},
   "source": [
    "## Cleaning Data"
   ]
  },
  {
   "cell_type": "code",
   "execution_count": 13,
   "id": "d51591c3-9926-44e5-9f1b-18fbcf979c54",
   "metadata": {},
   "outputs": [
    {
     "data": {
      "text/html": [
       "<div>\n",
       "<style scoped>\n",
       "    .dataframe tbody tr th:only-of-type {\n",
       "        vertical-align: middle;\n",
       "    }\n",
       "\n",
       "    .dataframe tbody tr th {\n",
       "        vertical-align: top;\n",
       "    }\n",
       "\n",
       "    .dataframe thead th {\n",
       "        text-align: right;\n",
       "    }\n",
       "</style>\n",
       "<table border=\"1\" class=\"dataframe\">\n",
       "  <thead>\n",
       "    <tr style=\"text-align: right;\">\n",
       "      <th></th>\n",
       "      <th>id_spotify_track</th>\n",
       "      <th>id_track</th>\n",
       "      <th>danceability</th>\n",
       "      <th>energy</th>\n",
       "      <th>key</th>\n",
       "      <th>loudness</th>\n",
       "      <th>mode</th>\n",
       "      <th>speechiness</th>\n",
       "      <th>acousticness</th>\n",
       "      <th>instrumentalness</th>\n",
       "      <th>...</th>\n",
       "      <th>valence</th>\n",
       "      <th>tempo</th>\n",
       "      <th>duration_ms</th>\n",
       "      <th>time_signature</th>\n",
       "      <th>name</th>\n",
       "      <th>popularity</th>\n",
       "      <th>album_name</th>\n",
       "      <th>release_date</th>\n",
       "      <th>year</th>\n",
       "      <th>mood</th>\n",
       "    </tr>\n",
       "    <tr>\n",
       "      <th>id</th>\n",
       "      <th></th>\n",
       "      <th></th>\n",
       "      <th></th>\n",
       "      <th></th>\n",
       "      <th></th>\n",
       "      <th></th>\n",
       "      <th></th>\n",
       "      <th></th>\n",
       "      <th></th>\n",
       "      <th></th>\n",
       "      <th></th>\n",
       "      <th></th>\n",
       "      <th></th>\n",
       "      <th></th>\n",
       "      <th></th>\n",
       "      <th></th>\n",
       "      <th></th>\n",
       "      <th></th>\n",
       "      <th></th>\n",
       "      <th></th>\n",
       "      <th></th>\n",
       "    </tr>\n",
       "  </thead>\n",
       "  <tbody>\n",
       "    <tr>\n",
       "      <th>23</th>\n",
       "      <td>2ap1hCe7wyOWkMJsnIn0V1</td>\n",
       "      <td>1</td>\n",
       "      <td>0.494</td>\n",
       "      <td>0.756</td>\n",
       "      <td>7</td>\n",
       "      <td>-8.504</td>\n",
       "      <td>1</td>\n",
       "      <td>0.0432</td>\n",
       "      <td>0.001400</td>\n",
       "      <td>0.005200</td>\n",
       "      <td>...</td>\n",
       "      <td>0.589</td>\n",
       "      <td>133.337</td>\n",
       "      <td>205547.0</td>\n",
       "      <td>4.0</td>\n",
       "      <td>beer drinkers and hell raisers</td>\n",
       "      <td>51.0</td>\n",
       "      <td>Tres Hombres (Expanded 2006 Remaster)</td>\n",
       "      <td>1973-07-26</td>\n",
       "      <td>1973.0</td>\n",
       "      <td>7.0</td>\n",
       "    </tr>\n",
       "    <tr>\n",
       "      <th>105</th>\n",
       "      <td>0KlWpxzYGq2sjVmwPHprxM</td>\n",
       "      <td>11</td>\n",
       "      <td>0.582</td>\n",
       "      <td>0.744</td>\n",
       "      <td>7</td>\n",
       "      <td>-9.155</td>\n",
       "      <td>1</td>\n",
       "      <td>0.0336</td>\n",
       "      <td>0.000458</td>\n",
       "      <td>0.001320</td>\n",
       "      <td>...</td>\n",
       "      <td>0.674</td>\n",
       "      <td>133.344</td>\n",
       "      <td>272533.0</td>\n",
       "      <td>4.0</td>\n",
       "      <td>ball and chain</td>\n",
       "      <td>26.0</td>\n",
       "      <td>English Settlement</td>\n",
       "      <td>1982-02-12</td>\n",
       "      <td>1982.0</td>\n",
       "      <td>10.0</td>\n",
       "    </tr>\n",
       "    <tr>\n",
       "      <th>118</th>\n",
       "      <td>75a66iUfwKdJb5n9juvXRI</td>\n",
       "      <td>14</td>\n",
       "      <td>0.614</td>\n",
       "      <td>0.755</td>\n",
       "      <td>2</td>\n",
       "      <td>-5.829</td>\n",
       "      <td>1</td>\n",
       "      <td>0.0276</td>\n",
       "      <td>0.016200</td>\n",
       "      <td>0.000002</td>\n",
       "      <td>...</td>\n",
       "      <td>0.645</td>\n",
       "      <td>92.622</td>\n",
       "      <td>144787.0</td>\n",
       "      <td>4.0</td>\n",
       "      <td>los angeles</td>\n",
       "      <td>45.0</td>\n",
       "      <td>Los Angeles</td>\n",
       "      <td>1980-04-26</td>\n",
       "      <td>1980.0</td>\n",
       "      <td>7.0</td>\n",
       "    </tr>\n",
       "    <tr>\n",
       "      <th>120</th>\n",
       "      <td>3QPQItOROGQUBbStogfu2g</td>\n",
       "      <td>18</td>\n",
       "      <td>0.319</td>\n",
       "      <td>0.807</td>\n",
       "      <td>11</td>\n",
       "      <td>-6.504</td>\n",
       "      <td>0</td>\n",
       "      <td>0.0388</td>\n",
       "      <td>0.001040</td>\n",
       "      <td>0.290000</td>\n",
       "      <td>...</td>\n",
       "      <td>0.601</td>\n",
       "      <td>118.097</td>\n",
       "      <td>226680.0</td>\n",
       "      <td>4.0</td>\n",
       "      <td>the hungry wolf</td>\n",
       "      <td>10.0</td>\n",
       "      <td>Under The Big Black Sun</td>\n",
       "      <td>1982</td>\n",
       "      <td>1982.0</td>\n",
       "      <td>7.0</td>\n",
       "    </tr>\n",
       "    <tr>\n",
       "      <th>234</th>\n",
       "      <td>0L2vsEl6rki4Pz0OsoIrNb</td>\n",
       "      <td>20</td>\n",
       "      <td>0.673</td>\n",
       "      <td>0.706</td>\n",
       "      <td>3</td>\n",
       "      <td>-10.107</td>\n",
       "      <td>1</td>\n",
       "      <td>0.0283</td>\n",
       "      <td>0.444000</td>\n",
       "      <td>0.003360</td>\n",
       "      <td>...</td>\n",
       "      <td>0.953</td>\n",
       "      <td>93.157</td>\n",
       "      <td>275067.0</td>\n",
       "      <td>4.0</td>\n",
       "      <td>roses are free</td>\n",
       "      <td>24.0</td>\n",
       "      <td>Chocolate &amp; Cheese</td>\n",
       "      <td>1994-09-27</td>\n",
       "      <td>1994.0</td>\n",
       "      <td>10.0</td>\n",
       "    </tr>\n",
       "    <tr>\n",
       "      <th>...</th>\n",
       "      <td>...</td>\n",
       "      <td>...</td>\n",
       "      <td>...</td>\n",
       "      <td>...</td>\n",
       "      <td>...</td>\n",
       "      <td>...</td>\n",
       "      <td>...</td>\n",
       "      <td>...</td>\n",
       "      <td>...</td>\n",
       "      <td>...</td>\n",
       "      <td>...</td>\n",
       "      <td>...</td>\n",
       "      <td>...</td>\n",
       "      <td>...</td>\n",
       "      <td>...</td>\n",
       "      <td>...</td>\n",
       "      <td>...</td>\n",
       "      <td>...</td>\n",
       "      <td>...</td>\n",
       "      <td>...</td>\n",
       "      <td>...</td>\n",
       "    </tr>\n",
       "    <tr>\n",
       "      <th>5000013</th>\n",
       "      <td>2LbHYfTYW6TipHInIjqdaQ</td>\n",
       "      <td>The Scientist - Coldplay (Boyce Avenue feat. H...</td>\n",
       "      <td>0.334</td>\n",
       "      <td>0.252</td>\n",
       "      <td>8</td>\n",
       "      <td>-11.776</td>\n",
       "      <td>1</td>\n",
       "      <td>0.0287</td>\n",
       "      <td>0.722000</td>\n",
       "      <td>0.000000</td>\n",
       "      <td>...</td>\n",
       "      <td>0.214</td>\n",
       "      <td>153.879</td>\n",
       "      <td>251514.0</td>\n",
       "      <td>4.0</td>\n",
       "      <td>NaN</td>\n",
       "      <td>NaN</td>\n",
       "      <td>NaN</td>\n",
       "      <td>NaN</td>\n",
       "      <td>NaN</td>\n",
       "      <td>NaN</td>\n",
       "    </tr>\n",
       "    <tr>\n",
       "      <th>5000018</th>\n",
       "      <td>49Nzxf1LskunwmZ6EyWUew</td>\n",
       "      <td>The Scientist - Coldplay _ Alex Goot &amp; Jada Fa...</td>\n",
       "      <td>0.525</td>\n",
       "      <td>0.292</td>\n",
       "      <td>9</td>\n",
       "      <td>-8.809</td>\n",
       "      <td>1</td>\n",
       "      <td>0.0260</td>\n",
       "      <td>0.910000</td>\n",
       "      <td>0.000000</td>\n",
       "      <td>...</td>\n",
       "      <td>0.133</td>\n",
       "      <td>75.009</td>\n",
       "      <td>248227.0</td>\n",
       "      <td>4.0</td>\n",
       "      <td>NaN</td>\n",
       "      <td>NaN</td>\n",
       "      <td>NaN</td>\n",
       "      <td>NaN</td>\n",
       "      <td>NaN</td>\n",
       "      <td>NaN</td>\n",
       "    </tr>\n",
       "    <tr>\n",
       "      <th>5000019</th>\n",
       "      <td>49ilSrZNQcle6PYw8rtvzM</td>\n",
       "      <td>The Scientist - The Petersens (LIVE) (128kbit_...</td>\n",
       "      <td>0.549</td>\n",
       "      <td>0.283</td>\n",
       "      <td>9</td>\n",
       "      <td>-11.006</td>\n",
       "      <td>1</td>\n",
       "      <td>0.0284</td>\n",
       "      <td>0.661000</td>\n",
       "      <td>0.000008</td>\n",
       "      <td>...</td>\n",
       "      <td>0.163</td>\n",
       "      <td>76.992</td>\n",
       "      <td>303426.0</td>\n",
       "      <td>4.0</td>\n",
       "      <td>NaN</td>\n",
       "      <td>NaN</td>\n",
       "      <td>NaN</td>\n",
       "      <td>NaN</td>\n",
       "      <td>NaN</td>\n",
       "      <td>NaN</td>\n",
       "    </tr>\n",
       "    <tr>\n",
       "      <th>5000020</th>\n",
       "      <td>66Z3LdLjtwfIdHFF0wZa5B</td>\n",
       "      <td>Wicker Park - The Scientist (Coldplay) (192kbi...</td>\n",
       "      <td>0.493</td>\n",
       "      <td>0.270</td>\n",
       "      <td>5</td>\n",
       "      <td>-11.910</td>\n",
       "      <td>1</td>\n",
       "      <td>0.0278</td>\n",
       "      <td>0.244000</td>\n",
       "      <td>0.000000</td>\n",
       "      <td>...</td>\n",
       "      <td>0.176</td>\n",
       "      <td>73.001</td>\n",
       "      <td>305868.0</td>\n",
       "      <td>4.0</td>\n",
       "      <td>NaN</td>\n",
       "      <td>NaN</td>\n",
       "      <td>NaN</td>\n",
       "      <td>NaN</td>\n",
       "      <td>NaN</td>\n",
       "      <td>NaN</td>\n",
       "    </tr>\n",
       "    <tr>\n",
       "      <th>5000023</th>\n",
       "      <td>6f46TyGZm5oeKIP54PLvql</td>\n",
       "      <td>gleechapversionthescientist-converted.mp3.csv</td>\n",
       "      <td>0.495</td>\n",
       "      <td>0.489</td>\n",
       "      <td>2</td>\n",
       "      <td>-6.083</td>\n",
       "      <td>1</td>\n",
       "      <td>0.0270</td>\n",
       "      <td>0.497000</td>\n",
       "      <td>0.000000</td>\n",
       "      <td>...</td>\n",
       "      <td>0.248</td>\n",
       "      <td>148.928</td>\n",
       "      <td>255293.0</td>\n",
       "      <td>4.0</td>\n",
       "      <td>NaN</td>\n",
       "      <td>NaN</td>\n",
       "      <td>NaN</td>\n",
       "      <td>NaN</td>\n",
       "      <td>NaN</td>\n",
       "      <td>NaN</td>\n",
       "    </tr>\n",
       "  </tbody>\n",
       "</table>\n",
       "<p>3495 rows × 21 columns</p>\n",
       "</div>"
      ],
      "text/plain": [
       "               id_spotify_track  \\\n",
       "id                                \n",
       "23       2ap1hCe7wyOWkMJsnIn0V1   \n",
       "105      0KlWpxzYGq2sjVmwPHprxM   \n",
       "118      75a66iUfwKdJb5n9juvXRI   \n",
       "120      3QPQItOROGQUBbStogfu2g   \n",
       "234      0L2vsEl6rki4Pz0OsoIrNb   \n",
       "...                         ...   \n",
       "5000013  2LbHYfTYW6TipHInIjqdaQ   \n",
       "5000018  49Nzxf1LskunwmZ6EyWUew   \n",
       "5000019  49ilSrZNQcle6PYw8rtvzM   \n",
       "5000020  66Z3LdLjtwfIdHFF0wZa5B   \n",
       "5000023  6f46TyGZm5oeKIP54PLvql   \n",
       "\n",
       "                                                  id_track  danceability  \\\n",
       "id                                                                         \n",
       "23                                                       1         0.494   \n",
       "105                                                     11         0.582   \n",
       "118                                                     14         0.614   \n",
       "120                                                     18         0.319   \n",
       "234                                                     20         0.673   \n",
       "...                                                    ...           ...   \n",
       "5000013  The Scientist - Coldplay (Boyce Avenue feat. H...         0.334   \n",
       "5000018  The Scientist - Coldplay _ Alex Goot & Jada Fa...         0.525   \n",
       "5000019  The Scientist - The Petersens (LIVE) (128kbit_...         0.549   \n",
       "5000020  Wicker Park - The Scientist (Coldplay) (192kbi...         0.493   \n",
       "5000023      gleechapversionthescientist-converted.mp3.csv         0.495   \n",
       "\n",
       "         energy  key  loudness  mode  speechiness  acousticness  \\\n",
       "id                                                                \n",
       "23        0.756    7    -8.504     1       0.0432      0.001400   \n",
       "105       0.744    7    -9.155     1       0.0336      0.000458   \n",
       "118       0.755    2    -5.829     1       0.0276      0.016200   \n",
       "120       0.807   11    -6.504     0       0.0388      0.001040   \n",
       "234       0.706    3   -10.107     1       0.0283      0.444000   \n",
       "...         ...  ...       ...   ...          ...           ...   \n",
       "5000013   0.252    8   -11.776     1       0.0287      0.722000   \n",
       "5000018   0.292    9    -8.809     1       0.0260      0.910000   \n",
       "5000019   0.283    9   -11.006     1       0.0284      0.661000   \n",
       "5000020   0.270    5   -11.910     1       0.0278      0.244000   \n",
       "5000023   0.489    2    -6.083     1       0.0270      0.497000   \n",
       "\n",
       "         instrumentalness  ...  valence    tempo  duration_ms  time_signature  \\\n",
       "id                         ...                                                  \n",
       "23               0.005200  ...    0.589  133.337     205547.0             4.0   \n",
       "105              0.001320  ...    0.674  133.344     272533.0             4.0   \n",
       "118              0.000002  ...    0.645   92.622     144787.0             4.0   \n",
       "120              0.290000  ...    0.601  118.097     226680.0             4.0   \n",
       "234              0.003360  ...    0.953   93.157     275067.0             4.0   \n",
       "...                   ...  ...      ...      ...          ...             ...   \n",
       "5000013          0.000000  ...    0.214  153.879     251514.0             4.0   \n",
       "5000018          0.000000  ...    0.133   75.009     248227.0             4.0   \n",
       "5000019          0.000008  ...    0.163   76.992     303426.0             4.0   \n",
       "5000020          0.000000  ...    0.176   73.001     305868.0             4.0   \n",
       "5000023          0.000000  ...    0.248  148.928     255293.0             4.0   \n",
       "\n",
       "                                   name popularity  \\\n",
       "id                                                   \n",
       "23       beer drinkers and hell raisers       51.0   \n",
       "105                      ball and chain       26.0   \n",
       "118                         los angeles       45.0   \n",
       "120                     the hungry wolf       10.0   \n",
       "234                      roses are free       24.0   \n",
       "...                                 ...        ...   \n",
       "5000013                             NaN        NaN   \n",
       "5000018                             NaN        NaN   \n",
       "5000019                             NaN        NaN   \n",
       "5000020                             NaN        NaN   \n",
       "5000023                             NaN        NaN   \n",
       "\n",
       "                                    album_name release_date    year  mood  \n",
       "id                                                                         \n",
       "23       Tres Hombres (Expanded 2006 Remaster)   1973-07-26  1973.0   7.0  \n",
       "105                         English Settlement   1982-02-12  1982.0  10.0  \n",
       "118                                Los Angeles   1980-04-26  1980.0   7.0  \n",
       "120                    Under The Big Black Sun         1982  1982.0   7.0  \n",
       "234                         Chocolate & Cheese   1994-09-27  1994.0  10.0  \n",
       "...                                        ...          ...     ...   ...  \n",
       "5000013                                    NaN          NaN     NaN   NaN  \n",
       "5000018                                    NaN          NaN     NaN   NaN  \n",
       "5000019                                    NaN          NaN     NaN   NaN  \n",
       "5000020                                    NaN          NaN     NaN   NaN  \n",
       "5000023                                    NaN          NaN     NaN   NaN  \n",
       "\n",
       "[3495 rows x 21 columns]"
      ]
     },
     "execution_count": 13,
     "metadata": {},
     "output_type": "execute_result"
    }
   ],
   "source": [
    "spotifyFeatures"
   ]
  },
  {
   "cell_type": "code",
   "execution_count": 14,
   "id": "6a987573-f832-4519-ab38-c27b51f7c3fa",
   "metadata": {},
   "outputs": [
    {
     "name": "stdout",
     "output_type": "stream",
     "text": [
      "spotifyFeatures len : 3495\n",
      "transitionMatrices len : 3511\n"
     ]
    }
   ],
   "source": [
    "print('spotifyFeatures len :', len(spotifyFeatures))\n",
    "print('transitionMatrices len :', len(transitionMatrices))"
   ]
  },
  {
   "cell_type": "code",
   "execution_count": 15,
   "id": "736fe5e3-6d5b-45cd-9dc5-e86095c1746b",
   "metadata": {},
   "outputs": [
    {
     "data": {
      "text/html": [
       "<div>\n",
       "<style scoped>\n",
       "    .dataframe tbody tr th:only-of-type {\n",
       "        vertical-align: middle;\n",
       "    }\n",
       "\n",
       "    .dataframe tbody tr th {\n",
       "        vertical-align: top;\n",
       "    }\n",
       "\n",
       "    .dataframe thead th {\n",
       "        text-align: right;\n",
       "    }\n",
       "</style>\n",
       "<table border=\"1\" class=\"dataframe\">\n",
       "  <thead>\n",
       "    <tr style=\"text-align: right;\">\n",
       "      <th></th>\n",
       "      <th>id_spotify_track</th>\n",
       "      <th>id_track</th>\n",
       "      <th>danceability</th>\n",
       "      <th>energy</th>\n",
       "      <th>key</th>\n",
       "      <th>loudness</th>\n",
       "      <th>mode</th>\n",
       "      <th>speechiness</th>\n",
       "      <th>acousticness</th>\n",
       "      <th>instrumentalness</th>\n",
       "      <th>...</th>\n",
       "      <th>1276</th>\n",
       "      <th>1278</th>\n",
       "      <th>1281</th>\n",
       "      <th>1286</th>\n",
       "      <th>1287</th>\n",
       "      <th>1288</th>\n",
       "      <th>1290</th>\n",
       "      <th>1292</th>\n",
       "      <th>1294</th>\n",
       "      <th>1295</th>\n",
       "    </tr>\n",
       "    <tr>\n",
       "      <th>id</th>\n",
       "      <th></th>\n",
       "      <th></th>\n",
       "      <th></th>\n",
       "      <th></th>\n",
       "      <th></th>\n",
       "      <th></th>\n",
       "      <th></th>\n",
       "      <th></th>\n",
       "      <th></th>\n",
       "      <th></th>\n",
       "      <th></th>\n",
       "      <th></th>\n",
       "      <th></th>\n",
       "      <th></th>\n",
       "      <th></th>\n",
       "      <th></th>\n",
       "      <th></th>\n",
       "      <th></th>\n",
       "      <th></th>\n",
       "      <th></th>\n",
       "      <th></th>\n",
       "    </tr>\n",
       "  </thead>\n",
       "  <tbody>\n",
       "  </tbody>\n",
       "</table>\n",
       "<p>0 rows × 684 columns</p>\n",
       "</div>"
      ],
      "text/plain": [
       "Empty DataFrame\n",
       "Columns: [id_spotify_track, id_track, danceability, energy, key, loudness, mode, speechiness, acousticness, instrumentalness, liveness, valence, tempo, duration_ms, time_signature, name, popularity, album_name, release_date, year, mood, 0, 1, 2, 4, 5, 6, 7, 8, 9, 11, 12, 13, 14, 15, 16, 17, 18, 19, 20, 21, 22, 23, 26, 27, 28, 29, 30, 32, 33, 34, 35, 36, 37, 39, 41, 42, 43, 45, 47, 50, 51, 52, 54, 56, 57, 58, 60, 62, 63, 64, 66, 69, 71, 72, 74, 78, 83, 87, 93, 99, 108, 111, 113, 114, 119, 120, 123, 124, 126, 129, 132, 135, 140, 141, 143, 144, 155, 156, 159, ...]\n",
       "Index: []\n",
       "\n",
       "[0 rows x 684 columns]"
      ]
     },
     "execution_count": 15,
     "metadata": {},
     "output_type": "execute_result"
    }
   ],
   "source": [
    "df[df.duplicated(subset=['id_track'])]"
   ]
  },
  {
   "cell_type": "code",
   "execution_count": 16,
   "id": "147cc9f7-e50c-4a5b-8fd8-2e7138ab8f30",
   "metadata": {},
   "outputs": [
    {
     "data": {
      "text/plain": [
       "684"
      ]
     },
     "execution_count": 16,
     "metadata": {},
     "output_type": "execute_result"
    }
   ],
   "source": [
    "len(df.columns.tolist())"
   ]
  },
  {
   "cell_type": "code",
   "execution_count": 17,
   "id": "affeaaf4-b534-48f8-9ddd-77fb62080133",
   "metadata": {
    "tags": []
   },
   "outputs": [
    {
     "data": {
      "text/plain": [
       "Index(['key', 'mode', 'time_signature', 'mood', '2', '4', '8', '9', '13', '16',\n",
       "       ...\n",
       "       '1267', '1271', '1275', '1276', '1278', '1286', '1288', '1290', '1294',\n",
       "       '1295'],\n",
       "      dtype='object', length=435)"
      ]
     },
     "execution_count": 17,
     "metadata": {},
     "output_type": "execute_result"
    }
   ],
   "source": [
    "s = df.nunique(axis=0)\n",
    "s[s < 15].index"
   ]
  },
  {
   "cell_type": "code",
   "execution_count": 18,
   "id": "e3972dfb-b71b-49d3-b51a-f322a9084ee4",
   "metadata": {},
   "outputs": [
    {
     "data": {
      "text/plain": [
       "Index(['id_spotify_track', 'id_track', 'danceability', 'energy', 'key',\n",
       "       'loudness', 'mode', 'speechiness', 'acousticness', 'instrumentalness',\n",
       "       'liveness', 'valence', 'tempo', 'duration_ms', 'time_signature', 'name',\n",
       "       'popularity', 'album_name', 'release_date', 'year', 'mood'],\n",
       "      dtype='object')"
      ]
     },
     "execution_count": 18,
     "metadata": {},
     "output_type": "execute_result"
    }
   ],
   "source": [
    "spotifyFeatures.columns"
   ]
  },
  {
   "cell_type": "markdown",
   "id": "53113f88-0519-43cf-b250-f0ba29263400",
   "metadata": {},
   "source": [
    "## Removing useless columns"
   ]
  },
  {
   "cell_type": "code",
   "execution_count": 19,
   "id": "2aac325d-4232-4fb0-a155-245075f526ac",
   "metadata": {},
   "outputs": [],
   "source": [
    "df = df.drop(['id_spotify_track', 'id_track', 'popularity', 'duration_ms', 'release_date', 'name', 'album_name'], axis=1)"
   ]
  },
  {
   "cell_type": "code",
   "execution_count": 20,
   "id": "ca69de3e-0d50-4cd9-8986-182d3858dda5",
   "metadata": {},
   "outputs": [
    {
     "data": {
      "text/html": [
       "<div>\n",
       "<style scoped>\n",
       "    .dataframe tbody tr th:only-of-type {\n",
       "        vertical-align: middle;\n",
       "    }\n",
       "\n",
       "    .dataframe tbody tr th {\n",
       "        vertical-align: top;\n",
       "    }\n",
       "\n",
       "    .dataframe thead th {\n",
       "        text-align: right;\n",
       "    }\n",
       "</style>\n",
       "<table border=\"1\" class=\"dataframe\">\n",
       "  <thead>\n",
       "    <tr style=\"text-align: right;\">\n",
       "      <th></th>\n",
       "      <th>danceability</th>\n",
       "      <th>energy</th>\n",
       "      <th>key</th>\n",
       "      <th>loudness</th>\n",
       "      <th>mode</th>\n",
       "      <th>speechiness</th>\n",
       "      <th>acousticness</th>\n",
       "      <th>instrumentalness</th>\n",
       "      <th>liveness</th>\n",
       "      <th>valence</th>\n",
       "      <th>...</th>\n",
       "      <th>1276</th>\n",
       "      <th>1278</th>\n",
       "      <th>1281</th>\n",
       "      <th>1286</th>\n",
       "      <th>1287</th>\n",
       "      <th>1288</th>\n",
       "      <th>1290</th>\n",
       "      <th>1292</th>\n",
       "      <th>1294</th>\n",
       "      <th>1295</th>\n",
       "    </tr>\n",
       "    <tr>\n",
       "      <th>id</th>\n",
       "      <th></th>\n",
       "      <th></th>\n",
       "      <th></th>\n",
       "      <th></th>\n",
       "      <th></th>\n",
       "      <th></th>\n",
       "      <th></th>\n",
       "      <th></th>\n",
       "      <th></th>\n",
       "      <th></th>\n",
       "      <th></th>\n",
       "      <th></th>\n",
       "      <th></th>\n",
       "      <th></th>\n",
       "      <th></th>\n",
       "      <th></th>\n",
       "      <th></th>\n",
       "      <th></th>\n",
       "      <th></th>\n",
       "      <th></th>\n",
       "      <th></th>\n",
       "    </tr>\n",
       "  </thead>\n",
       "  <tbody>\n",
       "    <tr>\n",
       "      <th>23</th>\n",
       "      <td>0.494</td>\n",
       "      <td>0.756</td>\n",
       "      <td>7</td>\n",
       "      <td>-8.504</td>\n",
       "      <td>1</td>\n",
       "      <td>0.0432</td>\n",
       "      <td>0.001400</td>\n",
       "      <td>0.005200</td>\n",
       "      <td>0.1640</td>\n",
       "      <td>0.589</td>\n",
       "      <td>...</td>\n",
       "      <td>0.0</td>\n",
       "      <td>0.0</td>\n",
       "      <td>0.0</td>\n",
       "      <td>0.0</td>\n",
       "      <td>0.0</td>\n",
       "      <td>0.0</td>\n",
       "      <td>0.0</td>\n",
       "      <td>0.0</td>\n",
       "      <td>0.0</td>\n",
       "      <td>0.0</td>\n",
       "    </tr>\n",
       "    <tr>\n",
       "      <th>105</th>\n",
       "      <td>0.582</td>\n",
       "      <td>0.744</td>\n",
       "      <td>7</td>\n",
       "      <td>-9.155</td>\n",
       "      <td>1</td>\n",
       "      <td>0.0336</td>\n",
       "      <td>0.000458</td>\n",
       "      <td>0.001320</td>\n",
       "      <td>0.0405</td>\n",
       "      <td>0.674</td>\n",
       "      <td>...</td>\n",
       "      <td>0.0</td>\n",
       "      <td>0.0</td>\n",
       "      <td>0.0</td>\n",
       "      <td>0.0</td>\n",
       "      <td>0.0</td>\n",
       "      <td>0.0</td>\n",
       "      <td>0.0</td>\n",
       "      <td>0.0</td>\n",
       "      <td>0.0</td>\n",
       "      <td>0.0</td>\n",
       "    </tr>\n",
       "    <tr>\n",
       "      <th>118</th>\n",
       "      <td>0.614</td>\n",
       "      <td>0.755</td>\n",
       "      <td>2</td>\n",
       "      <td>-5.829</td>\n",
       "      <td>1</td>\n",
       "      <td>0.0276</td>\n",
       "      <td>0.016200</td>\n",
       "      <td>0.000002</td>\n",
       "      <td>0.0831</td>\n",
       "      <td>0.645</td>\n",
       "      <td>...</td>\n",
       "      <td>0.0</td>\n",
       "      <td>0.0</td>\n",
       "      <td>0.0</td>\n",
       "      <td>0.0</td>\n",
       "      <td>0.0</td>\n",
       "      <td>0.0</td>\n",
       "      <td>0.0</td>\n",
       "      <td>0.0</td>\n",
       "      <td>0.0</td>\n",
       "      <td>0.0</td>\n",
       "    </tr>\n",
       "    <tr>\n",
       "      <th>120</th>\n",
       "      <td>0.319</td>\n",
       "      <td>0.807</td>\n",
       "      <td>11</td>\n",
       "      <td>-6.504</td>\n",
       "      <td>0</td>\n",
       "      <td>0.0388</td>\n",
       "      <td>0.001040</td>\n",
       "      <td>0.290000</td>\n",
       "      <td>0.1310</td>\n",
       "      <td>0.601</td>\n",
       "      <td>...</td>\n",
       "      <td>0.0</td>\n",
       "      <td>0.0</td>\n",
       "      <td>0.0</td>\n",
       "      <td>0.0</td>\n",
       "      <td>0.0</td>\n",
       "      <td>0.0</td>\n",
       "      <td>0.0</td>\n",
       "      <td>0.0</td>\n",
       "      <td>0.0</td>\n",
       "      <td>0.0</td>\n",
       "    </tr>\n",
       "    <tr>\n",
       "      <th>292</th>\n",
       "      <td>0.496</td>\n",
       "      <td>0.527</td>\n",
       "      <td>6</td>\n",
       "      <td>-7.234</td>\n",
       "      <td>1</td>\n",
       "      <td>0.0339</td>\n",
       "      <td>0.195000</td>\n",
       "      <td>0.000000</td>\n",
       "      <td>0.1380</td>\n",
       "      <td>0.283</td>\n",
       "      <td>...</td>\n",
       "      <td>0.0</td>\n",
       "      <td>0.0</td>\n",
       "      <td>0.0</td>\n",
       "      <td>0.0</td>\n",
       "      <td>0.0</td>\n",
       "      <td>0.0</td>\n",
       "      <td>0.0</td>\n",
       "      <td>0.0</td>\n",
       "      <td>0.0</td>\n",
       "      <td>0.0</td>\n",
       "    </tr>\n",
       "  </tbody>\n",
       "</table>\n",
       "<p>5 rows × 677 columns</p>\n",
       "</div>"
      ],
      "text/plain": [
       "     danceability  energy  key  loudness  mode  speechiness  acousticness  \\\n",
       "id                                                                          \n",
       "23          0.494   0.756    7    -8.504     1       0.0432      0.001400   \n",
       "105         0.582   0.744    7    -9.155     1       0.0336      0.000458   \n",
       "118         0.614   0.755    2    -5.829     1       0.0276      0.016200   \n",
       "120         0.319   0.807   11    -6.504     0       0.0388      0.001040   \n",
       "292         0.496   0.527    6    -7.234     1       0.0339      0.195000   \n",
       "\n",
       "     instrumentalness  liveness  valence  ...  1276  1278  1281  1286  1287  \\\n",
       "id                                        ...                                 \n",
       "23           0.005200    0.1640    0.589  ...   0.0   0.0   0.0   0.0   0.0   \n",
       "105          0.001320    0.0405    0.674  ...   0.0   0.0   0.0   0.0   0.0   \n",
       "118          0.000002    0.0831    0.645  ...   0.0   0.0   0.0   0.0   0.0   \n",
       "120          0.290000    0.1310    0.601  ...   0.0   0.0   0.0   0.0   0.0   \n",
       "292          0.000000    0.1380    0.283  ...   0.0   0.0   0.0   0.0   0.0   \n",
       "\n",
       "     1288  1290  1292  1294  1295  \n",
       "id                                 \n",
       "23    0.0   0.0   0.0   0.0   0.0  \n",
       "105   0.0   0.0   0.0   0.0   0.0  \n",
       "118   0.0   0.0   0.0   0.0   0.0  \n",
       "120   0.0   0.0   0.0   0.0   0.0  \n",
       "292   0.0   0.0   0.0   0.0   0.0  \n",
       "\n",
       "[5 rows x 677 columns]"
      ]
     },
     "execution_count": 20,
     "metadata": {},
     "output_type": "execute_result"
    }
   ],
   "source": [
    "df.head()"
   ]
  },
  {
   "cell_type": "markdown",
   "id": "fd1f3177-711b-4875-b1ce-c1a94a60d49b",
   "metadata": {},
   "source": [
    "## Checking Skewness [here](https://www.spcforexcel.com/knowledge/basic-statistics/are-skewness-and-kurtosis-useful-statistics#:~:text=If%20the%20skewness%20is%20between,the%20data%20are%20highly%20skewed)"
   ]
  },
  {
   "cell_type": "markdown",
   "id": "cae79348-f364-4775-a94b-2f114cb93275",
   "metadata": {},
   "source": [
    "<font color=\"blue\"> \n",
    "Analyzing the skewness of the continous variables it is found that:\n",
    "</font>\n",
    "\n",
    "    \n",
    "Fairly Simetrical (-0.5, 0.5):\n",
    "- danceability\n",
    "- energy\n",
    "- valence\n",
    "- tempo\n",
    "    \n",
    "Moderately skewed (-1, 0.5) or (0.5, 1)\n",
    "- acousticness\n",
    "\n",
    "Highely skewed less than -1 or greater than 1\n",
    "- instrumentalness\n",
    "- liveness\n",
    "- speechiness\n",
    "- loudness"
   ]
  },
  {
   "cell_type": "code",
   "execution_count": 23,
   "id": "4bfa4c5f-93e5-4e5a-b3ec-7c98ac3efb4e",
   "metadata": {},
   "outputs": [],
   "source": [
    "continousVariables = ['loudness', 'danceability','energy', 'speechiness', 'acousticness', 'instrumentalness', 'liveness', 'valence', 'tempo']"
   ]
  },
  {
   "cell_type": "code",
   "execution_count": 24,
   "id": "91a22721-e17e-411e-aaa8-4abdcc8aeaa2",
   "metadata": {},
   "outputs": [
    {
     "data": {
      "text/plain": [
       "loudness           -1.248593\n",
       "danceability       -0.081727\n",
       "energy             -0.154516\n",
       "speechiness         5.709233\n",
       "acousticness        0.524834\n",
       "instrumentalness    5.566510\n",
       "liveness            2.580310\n",
       "valence             0.437050\n",
       "tempo               0.298171\n",
       "dtype: float64"
      ]
     },
     "execution_count": 24,
     "metadata": {},
     "output_type": "execute_result"
    }
   ],
   "source": [
    "df[continousVariables].skew(axis = 0, skipna = True)"
   ]
  },
  {
   "cell_type": "markdown",
   "id": "d2e460e5-23b5-4ef7-9d4a-8eff6f733e3f",
   "metadata": {},
   "source": [
    "### Check columns with low variance"
   ]
  },
  {
   "cell_type": "code",
   "execution_count": 25,
   "id": "882ee51c-645d-4547-834c-c120fae69fff",
   "metadata": {},
   "outputs": [
    {
     "data": {
      "text/plain": [
       "danceability        2.105984e-02\n",
       "energy              5.130312e-02\n",
       "key                 1.240360e+01\n",
       "loudness            1.446477e+01\n",
       "mode                1.737347e-01\n",
       "speechiness         2.029607e-03\n",
       "acousticness        1.027884e-01\n",
       "instrumentalness    1.720458e-02\n",
       "liveness            2.752163e-02\n",
       "valence             5.227496e-02\n",
       "tempo               8.606195e+02\n",
       "duration_ms         4.995677e+09\n",
       "time_signature      1.178481e-01\n",
       "popularity          3.431477e+02\n",
       "year                2.408412e+02\n",
       "mood                8.798950e+00\n",
       "dtype: float64"
      ]
     },
     "execution_count": 25,
     "metadata": {},
     "output_type": "execute_result"
    }
   ],
   "source": [
    "spotifyFeatures.var()"
   ]
  },
  {
   "cell_type": "markdown",
   "id": "192e0ce8-fbae-4974-b5a1-d5da7eaa5feb",
   "metadata": {},
   "source": [
    "# (?) Check whether its better to apply outliers techniques, although this logic is being infered from descriptions and data"
   ]
  },
  {
   "cell_type": "code",
   "execution_count": 26,
   "id": "ec67b699-343f-4b8b-9423-99a8e5b62298",
   "metadata": {},
   "outputs": [
    {
     "data": {
      "image/png": "[encoded data removed]",
      "text/plain": [
       "<Figure size 1080x1296 with 9 Axes>"
      ]
     },
     "metadata": {
      "needs_background": "light"
     },
     "output_type": "display_data"
    }
   ],
   "source": [
    "plt.figure(figsize=(15,18))\n",
    "\n",
    "numRows = 5\n",
    "numColumns = 2\n",
    "\n",
    "plt.subplot(numRows, numColumns, 1); \n",
    "sns.histplot(df['speechiness'])\n",
    "\n",
    "plt.subplot(numRows,numColumns,2)\n",
    "sns.histplot(df['loudness'])\n",
    "\n",
    "plt.subplot(numRows, numColumns, 3);\n",
    "sns.histplot(df['acousticness'])\n",
    "\n",
    "plt.subplot(numRows, numColumns, 4);\n",
    "sns.histplot(df['liveness'])\n",
    "\n",
    "plt.subplot(numRows, numColumns, 5);\n",
    "sns.histplot(df['instrumentalness'])\n",
    "\n",
    "plt.subplot(numRows, numColumns, 6); \n",
    "sns.histplot(df['danceability'])\n",
    "\n",
    "plt.subplot(numRows, numColumns, 7); \n",
    "sns.histplot(df['valence'])\n",
    "\n",
    "plt.subplot(numRows, numColumns, 8); \n",
    "sns.histplot(df['energy'])\n",
    "\n",
    "plt.subplot(numRows, numColumns, 9); \n",
    "sns.histplot(df['tempo'])\n",
    "\n",
    "\n",
    "plt.show()"
   ]
  },
  {
   "cell_type": "code",
   "execution_count": 53,
   "id": "031da3dd-179a-47a5-9eae-5fde2373c4af",
   "metadata": {
    "tags": []
   },
   "outputs": [
    {
     "data": {
      "text/plain": [
       "<AxesSubplot:xlabel='tempo', ylabel='Density'>"
      ]
     },
     "execution_count": 53,
     "metadata": {},
     "output_type": "execute_result"
    },
    {
     "data": {
      "image/png": "[encoded data removed]",
      "text/plain": [
       "<Figure size 1080x1296 with 9 Axes>"
      ]
     },
     "metadata": {
      "needs_background": "light"
     },
     "output_type": "display_data"
    }
   ],
   "source": [
    "plt.figure(figsize=(15,18))\n",
    "\n",
    "numRows = 5\n",
    "numColumns = 2\n",
    "\n",
    "plt.subplot(numRows, numColumns, 1); \n",
    "sns.kdeplot(data=df, x=\"speechiness\")\n",
    "\n",
    "plt.subplot(numRows, numColumns,2)\n",
    "sns.kdeplot(data=df, x=\"loudness\")\n",
    "\n",
    "plt.subplot(numRows, numColumns, 3);\n",
    "sns.kdeplot(data=df, x=\"acousticness\")\n",
    "\n",
    "plt.subplot(numRows, numColumns, 4);\n",
    "sns.kdeplot(data=df, x=\"liveness\")\n",
    "\n",
    "plt.subplot(numRows, numColumns,5);\n",
    "sns.kdeplot(data=df, x=\"instrumentalness\")\n",
    "\n",
    "plt.subplot(numRows, numColumns, 6); \n",
    "sns.kdeplot(df['danceability'])\n",
    "\n",
    "plt.subplot(numRows, numColumns, 7); \n",
    "sns.kdeplot(df['valence'])\n",
    "\n",
    "plt.subplot(numRows, numColumns, 8); \n",
    "sns.kdeplot(df['energy'])\n",
    "\n",
    "plt.subplot(numRows, numColumns, 9); \n",
    "sns.kdeplot(df['tempo'])\n",
    "\n"
   ]
  },
  {
   "cell_type": "markdown",
   "id": "e37dcbd5-610e-4cbd-b767-a0eb241a926e",
   "metadata": {},
   "source": [
    "## Speechiness\n",
    "\n",
    "One way to do it would be to rely merely on the data understanding too.\n",
    "df = df.loc[df.speechiness <= 0.33]"
   ]
  },
  {
   "cell_type": "markdown",
   "id": "30104b09-09e0-45b4-874a-7dc109ab483c",
   "metadata": {},
   "source": [
    "<font color=\"blue\"> \n",
    "    \n",
    "It was found there was not a high representation for tracks with speech-like tracks, only 18 register fit under this category. Therefore an outlier treatment was applied for this case. The skewness went from highly to moderate.\n",
    "</font>"
   ]
  },
  {
   "cell_type": "code",
   "execution_count": 29,
   "id": "2527ce5c-1736-4070-a46b-9886cd13b2e5",
   "metadata": {},
   "outputs": [
    {
     "data": {
      "text/plain": [
       "count    3493.000000\n",
       "mean        0.049138\n",
       "std         0.045063\n",
       "min         0.022400\n",
       "25%         0.030100\n",
       "50%         0.035600\n",
       "75%         0.047600\n",
       "max         0.861000\n",
       "Name: speechiness, dtype: float64"
      ]
     },
     "execution_count": 29,
     "metadata": {},
     "output_type": "execute_result"
    }
   ],
   "source": [
    "df.speechiness.describe()"
   ]
  },
  {
   "cell_type": "code",
   "execution_count": 30,
   "id": "a5537722-450c-4216-9781-3d05b2ae1af1",
   "metadata": {},
   "outputs": [
    {
     "data": {
      "text/plain": [
       "18"
      ]
     },
     "execution_count": 30,
     "metadata": {},
     "output_type": "execute_result"
    }
   ],
   "source": [
    "len(df.loc[df.speechiness > 0.33][['speechiness']])"
   ]
  },
  {
   "cell_type": "markdown",
   "id": "120f86c4-0b90-4681-8c6d-a2203c003612",
   "metadata": {},
   "source": [
    "### Checking Variance"
   ]
  },
  {
   "cell_type": "code",
   "execution_count": 31,
   "id": "5e818e56-8d5c-46ba-afaa-aec40e8008a9",
   "metadata": {},
   "outputs": [
    {
     "name": "stdout",
     "output_type": "stream",
     "text": [
      "0.0020306414441581574\n"
     ]
    }
   ],
   "source": [
    "print(df.speechiness.var())"
   ]
  },
  {
   "cell_type": "code",
   "execution_count": 32,
   "id": "483aa70d-8bc8-4408-a017-69f876865ff6",
   "metadata": {},
   "outputs": [
    {
     "data": {
      "text/plain": [
       "0.0278    31\n",
       "0.0299    27\n",
       "0.0324    26\n",
       "0.0279    26\n",
       "0.0308    26\n",
       "          ..\n",
       "0.1230     1\n",
       "0.0987     1\n",
       "0.0558     1\n",
       "0.0575     1\n",
       "0.0580     1\n",
       "Name: speechiness, Length: 693, dtype: int64"
      ]
     },
     "execution_count": 32,
     "metadata": {},
     "output_type": "execute_result"
    }
   ],
   "source": [
    "df.speechiness.value_counts()"
   ]
  },
  {
   "cell_type": "code",
   "execution_count": 33,
   "id": "fb71d1f9-b612-467c-ad07-eb9458045c6f",
   "metadata": {},
   "outputs": [
    {
     "name": "stderr",
     "output_type": "stream",
     "text": [
      "/usr/local/lib/python3.9/site-packages/seaborn/_decorators.py:36: FutureWarning: Pass the following variable as a keyword arg: x. From version 0.12, the only valid positional argument will be `data`, and passing other arguments without an explicit keyword will result in an error or misinterpretation.\n",
      "  warnings.warn(\n"
     ]
    },
    {
     "data": {
      "image/png": "[encoded data removed]",
      "text/plain": [
       "<Figure size 720x288 with 1 Axes>"
      ]
     },
     "metadata": {
      "needs_background": "light"
     },
     "output_type": "display_data"
    }
   ],
   "source": [
    "\n",
    "plt.figure(figsize=(10,4))\n",
    "plt.title('Box plot')\n",
    "sns.boxplot(df.speechiness)\n",
    "plt.show()"
   ]
  },
  {
   "cell_type": "code",
   "execution_count": 34,
   "id": "5c4c1c37-9188-4c06-902c-fa874adffa0a",
   "metadata": {},
   "outputs": [
    {
     "data": {
      "text/plain": [
       "<Figure size 720x288 with 0 Axes>"
      ]
     },
     "metadata": {},
     "output_type": "display_data"
    },
    {
     "data": {
      "image/png": "[encoded data removed]",
      "text/plain": [
       "<Figure size 432x288 with 1 Axes>"
      ]
     },
     "metadata": {
      "needs_background": "light"
     },
     "output_type": "display_data"
    }
   ],
   "source": [
    "from statsmodels.graphics.gofplots import qqplot\n",
    "plt.figure(figsize=(10,4))\n",
    "qqplot(df.speechiness, line='s')\n",
    "plt.show()"
   ]
  },
  {
   "cell_type": "code",
   "execution_count": 35,
   "id": "c7213435-dea1-4ac9-8cac-f29a97bdc252",
   "metadata": {},
   "outputs": [
    {
     "name": "stdout",
     "output_type": "stream",
     "text": [
      "less than 0.33          |  0.9948468365302032 3475\n",
      "btw than 0.33 and 0.66  |  0.000286286859433152 1\n",
      "over than 0.5           |  0.000286286859433152 1\n"
     ]
    }
   ],
   "source": [
    "totalRows = len(df.speechiness)\n",
    "range1 = len(df.speechiness[df.speechiness <= 0.33])\n",
    "range2 = len(df.speechiness.loc[(df.speechiness > 0.33) & (df.speechiness >= 0.66)])\n",
    "range3 = len(df.speechiness.loc[(df.speechiness > 0.66)])\n",
    "\n",
    "\n",
    "print('less than 0.33          | ', range1/totalRows , str(round(range1, 2)) )\n",
    "print('btw than 0.33 and 0.66  | ', range2/totalRows , str(round(range2, 2)))\n",
    "print('over than 0.5           | ', range3/totalRows, str(round(range3, 2)))"
   ]
  },
  {
   "cell_type": "markdown",
   "id": "821c1916-50d3-47da-930c-b661e4baa3fb",
   "metadata": {},
   "source": [
    "<font color=\"blue\"> \n",
    "As it can be seen data is not falling into the red reference line what means that data is not normally distributed\n",
    "</font>"
   ]
  },
  {
   "cell_type": "code",
   "execution_count": 36,
   "id": "22c59123-0a55-4587-8d2d-326f48af8576",
   "metadata": {},
   "outputs": [
    {
     "name": "stdout",
     "output_type": "stream",
     "text": [
      "amount of rows to delete greater than 75 293\n",
      "amount of rows to delete lesser than 25 0\n",
      "::: New Shape Dataframe (3200, 677)\n"
     ]
    }
   ],
   "source": [
    "deleteOutliersByField(df, 'speechiness')\n",
    "printNewShapeDF(df)"
   ]
  },
  {
   "cell_type": "code",
   "execution_count": 37,
   "id": "aff7b185-a25f-41ce-bc38-71e000ac8ff5",
   "metadata": {},
   "outputs": [
    {
     "name": "stderr",
     "output_type": "stream",
     "text": [
      "/usr/local/lib/python3.9/site-packages/seaborn/_decorators.py:36: FutureWarning: Pass the following variable as a keyword arg: x. From version 0.12, the only valid positional argument will be `data`, and passing other arguments without an explicit keyword will result in an error or misinterpretation.\n",
      "  warnings.warn(\n"
     ]
    },
    {
     "data": {
      "image/png": "[encoded data removed]",
      "text/plain": [
       "<Figure size 720x288 with 1 Axes>"
      ]
     },
     "metadata": {
      "needs_background": "light"
     },
     "output_type": "display_data"
    }
   ],
   "source": [
    "plt.figure(figsize=(10,4))\n",
    "plt.title('Box plot')\n",
    "sns.boxplot(df.speechiness)\n",
    "plt.show()"
   ]
  },
  {
   "cell_type": "code",
   "execution_count": 38,
   "id": "985bba78-d1c1-40b1-9fe7-0eb148a7cbab",
   "metadata": {},
   "outputs": [
    {
     "name": "stdout",
     "output_type": "stream",
     "text": [
      "less than 0.33          |  1.0 3200\n",
      "btw than 0.33 and 0.66  |  0.0 0\n",
      "over than 0.5           |  0.0 0\n"
     ]
    }
   ],
   "source": [
    "totalRows = len(df.speechiness)\n",
    "range1 = len(df.speechiness[df.speechiness <= 0.33])\n",
    "range2 = len(df.speechiness.loc[(df.speechiness > 0.33) & (df.speechiness >= 0.66)])\n",
    "range3 = len(df.speechiness.loc[(df.speechiness > 0.66)])\n",
    "\n",
    "\n",
    "print('less than 0.33          | ', range1/totalRows , str(round(range1, 2)) )\n",
    "print('btw than 0.33 and 0.66  | ', range2/totalRows , str(round(range2, 2)))\n",
    "print('over than 0.5           | ', range3/totalRows, str(round(range3, 2)))"
   ]
  },
  {
   "cell_type": "code",
   "execution_count": 39,
   "id": "08717b05-abd3-4870-a21a-de9a76ad6bab",
   "metadata": {},
   "outputs": [
    {
     "data": {
      "text/plain": [
       "<Figure size 720x288 with 0 Axes>"
      ]
     },
     "metadata": {},
     "output_type": "display_data"
    },
    {
     "data": {
      "image/png": "[encoded data removed]",
      "text/plain": [
       "<Figure size 432x288 with 1 Axes>"
      ]
     },
     "metadata": {
      "needs_background": "light"
     },
     "output_type": "display_data"
    }
   ],
   "source": [
    "from statsmodels.graphics.gofplots import qqplot\n",
    "plt.figure(figsize=(10,4))\n",
    "qqplot(df.speechiness, line='s')\n",
    "plt.show()"
   ]
  },
  {
   "cell_type": "markdown",
   "id": "1082293d-7591-4be7-ab7a-d7d83c1d521a",
   "metadata": {},
   "source": [
    "***After removing outliers the skewness of speechiness improved significantly, now it is moderate***"
   ]
  },
  {
   "cell_type": "code",
   "execution_count": 40,
   "id": "fc225446-25ba-423b-a966-1ae7d53cd4aa",
   "metadata": {},
   "outputs": [
    {
     "data": {
      "text/plain": [
       "speechiness    1.630504\n",
       "dtype: float64"
      ]
     },
     "execution_count": 40,
     "metadata": {},
     "output_type": "execute_result"
    }
   ],
   "source": [
    "df[['speechiness']].skew(axis = 0, skipna = True)"
   ]
  },
  {
   "cell_type": "code",
   "execution_count": 41,
   "id": "7dea7ab7-644f-45c2-b867-bab956c40271",
   "metadata": {},
   "outputs": [
    {
     "name": "stdout",
     "output_type": "stream",
     "text": [
      "0.00016558631584479523\n"
     ]
    }
   ],
   "source": [
    "print(df.speechiness.var())"
   ]
  },
  {
   "cell_type": "markdown",
   "id": "70f86261-ee98-42b5-83b6-3f46da25ce16",
   "metadata": {},
   "source": [
    "## Instrumentalness highly skewed"
   ]
  },
  {
   "cell_type": "markdown",
   "id": "b33cc168-6e8e-4584-8e1a-fa609259bee3",
   "metadata": {},
   "source": [
    "https://towardsdatascience.com/top-3-methods-for-handling-skewed-data-1334e0debf45\n",
    "    https://towardsdatascience.com/avoid-mistakes-in-machine-learning-models-with-skewed-count-data-e3512b94d745"
   ]
  },
  {
   "cell_type": "markdown",
   "id": "d89a642f-4631-463a-b9f0-9329af899703",
   "metadata": {},
   "source": [
    "<font color=\"blue\"> \n",
    "Instrumentalness is a valuable feature because it determines how much vocal a song includes, however it contains continous features and it is highly skewed, so we're going to check whether binning here makes more sense.\n",
    "</font>"
   ]
  },
  {
   "cell_type": "code",
   "execution_count": 42,
   "id": "48ad810d-731f-486c-822a-a1672fc770dc",
   "metadata": {},
   "outputs": [
    {
     "data": {
      "text/plain": [
       "count    3200.000000\n",
       "mean        0.029387\n",
       "std         0.133261\n",
       "min         0.000000\n",
       "25%         0.000000\n",
       "50%         0.000004\n",
       "75%         0.000345\n",
       "max         0.985000\n",
       "Name: instrumentalness, dtype: float64"
      ]
     },
     "execution_count": 42,
     "metadata": {},
     "output_type": "execute_result"
    }
   ],
   "source": [
    "df.instrumentalness.describe()"
   ]
  },
  {
   "cell_type": "code",
   "execution_count": 43,
   "id": "3b8f958f-ac0d-4cea-8f53-510b50aabe56",
   "metadata": {},
   "outputs": [
    {
     "name": "stdout",
     "output_type": "stream",
     "text": [
      "less than 0.5 0.974375 3118\n",
      "over than 0.5 0.025625 82\n"
     ]
    }
   ],
   "source": [
    "totalRows = len(df.instrumentalness)\n",
    "range1 = len(df.instrumentalness[df.instrumentalness < 0.5])\n",
    "range2 = len(df.instrumentalness[df.instrumentalness > 0.5])\n",
    "print('less than 0.5', range1/totalRows , range1)\n",
    "print('over than 0.5', range2/totalRows, range2)"
   ]
  },
  {
   "cell_type": "code",
   "execution_count": 44,
   "id": "3e083dcb-a921-460a-a405-c66e1cf370f2",
   "metadata": {},
   "outputs": [
    {
     "data": {
      "text/plain": [
       "<Figure size 720x288 with 0 Axes>"
      ]
     },
     "metadata": {},
     "output_type": "display_data"
    },
    {
     "data": {
      "image/png": "[encoded data removed]",
      "text/plain": [
       "<Figure size 432x288 with 1 Axes>"
      ]
     },
     "metadata": {
      "needs_background": "light"
     },
     "output_type": "display_data"
    }
   ],
   "source": [
    "from statsmodels.graphics.gofplots import qqplot\n",
    "plt.figure(figsize=(10,4))\n",
    "qqplot(df.instrumentalness, line='s')\n",
    "plt.show()"
   ]
  },
  {
   "cell_type": "code",
   "execution_count": 45,
   "id": "1bda0b85-1505-4b55-b6ed-79248f8485a3",
   "metadata": {},
   "outputs": [
    {
     "name": "stderr",
     "output_type": "stream",
     "text": [
      "/usr/local/lib/python3.9/site-packages/seaborn/_decorators.py:36: FutureWarning: Pass the following variable as a keyword arg: x. From version 0.12, the only valid positional argument will be `data`, and passing other arguments without an explicit keyword will result in an error or misinterpretation.\n",
      "  warnings.warn(\n"
     ]
    },
    {
     "data": {
      "image/png": "[encoded data removed]",
      "text/plain": [
       "<Figure size 720x288 with 1 Axes>"
      ]
     },
     "metadata": {
      "needs_background": "light"
     },
     "output_type": "display_data"
    }
   ],
   "source": [
    "plt.figure(figsize=(10,4))\n",
    "plt.title('Box plot')\n",
    "sns.boxplot(df.instrumentalness)\n",
    "plt.show()"
   ]
  },
  {
   "cell_type": "markdown",
   "id": "ee64c3d7-6655-4172-9342-4ff2c376cfc5",
   "metadata": {},
   "source": [
    "<font color=\"blue\"> \n",
    "    Since Values below 0.5 represent almost the 98% or observations a binning approach has been decided, since logarithm approach was not appropiate in this case\n",
    "</font>"
   ]
  },
  {
   "cell_type": "code",
   "execution_count": 54,
   "id": "3601e127-f558-440b-bb0a-7d967738335c",
   "metadata": {
    "tags": []
   },
   "outputs": [
    {
     "data": {
      "text/plain": [
       "<seaborn.axisgrid.FacetGrid at 0x13d182520>"
      ]
     },
     "execution_count": 54,
     "metadata": {},
     "output_type": "execute_result"
    },
    {
     "data": {
      "image/png": "[encoded data removed]",
      "text/plain": [
       "<Figure size 360x360 with 1 Axes>"
      ]
     },
     "metadata": {
      "needs_background": "light"
     },
     "output_type": "display_data"
    }
   ],
   "source": [
    " sns.displot(data=df, x=\"instrumentalness\", kde=True, bins=10)"
   ]
  },
  {
   "cell_type": "markdown",
   "id": "ee3b5c24-93b7-45b3-91d5-a56dc53a853b",
   "metadata": {},
   "source": [
    "**The following bins were created**"
   ]
  },
  {
   "cell_type": "code",
   "execution_count": 55,
   "id": "5829f9b3-d6ac-46ba-9048-9abf37e61516",
   "metadata": {},
   "outputs": [
    {
     "data": {
      "text/plain": [
       "0.000000    1493\n",
       "0.001040       6\n",
       "0.000001       5\n",
       "0.000011       5\n",
       "0.000002       5\n",
       "            ... \n",
       "0.000824       1\n",
       "0.682000       1\n",
       "0.000064       1\n",
       "0.001170       1\n",
       "0.005870       1\n",
       "Name: instrumentalness, Length: 1484, dtype: int64"
      ]
     },
     "execution_count": 55,
     "metadata": {},
     "output_type": "execute_result"
    }
   ],
   "source": [
    "df.instrumentalness.value_counts()"
   ]
  },
  {
   "cell_type": "markdown",
   "id": "e61d1ead-5ae8-45e4-86d3-6b9aa63e7da4",
   "metadata": {},
   "source": [
    "<font color=\"blue\"> \n",
    "Binning using quantiles a total of 3 categories were created\n",
    "</font>"
   ]
  },
  {
   "cell_type": "code",
   "execution_count": 56,
   "id": "0ff2c0c8-2e8f-47d1-a208-4c9ce1d9e9c9",
   "metadata": {},
   "outputs": [],
   "source": [
    "\n",
    "df['instrumentalness_cat'] = df.apply(getInstrumentalnessCat, axis=1)"
   ]
  },
  {
   "cell_type": "code",
   "execution_count": 57,
   "id": "ed381804-8cc6-469e-a386-83045291e75d",
   "metadata": {},
   "outputs": [
    {
     "data": {
      "text/plain": [
       "0    1493\n",
       "1    1003\n",
       "2     997\n",
       "Name: instrumentalness_cat, dtype: int64"
      ]
     },
     "execution_count": 57,
     "metadata": {},
     "output_type": "execute_result"
    }
   ],
   "source": [
    "df['instrumentalness_cat'].value_counts()"
   ]
  },
  {
   "cell_type": "markdown",
   "id": "c859f058-4afb-49d4-8474-7a792abb0308",
   "metadata": {},
   "source": [
    "***Dropping the previous instrumentalness column**"
   ]
  },
  {
   "cell_type": "code",
   "execution_count": 58,
   "id": "b31fc692-a98d-4202-af5e-0d049e866f85",
   "metadata": {},
   "outputs": [],
   "source": [
    "df = df.drop(['instrumentalness'], axis=1)"
   ]
  },
  {
   "cell_type": "markdown",
   "id": "adb1aba7-f3d1-41f5-9c6d-d3fdc2e93e33",
   "metadata": {},
   "source": [
    "## Liveness"
   ]
  },
  {
   "cell_type": "code",
   "execution_count": 59,
   "id": "3454fcdd-1628-4bbc-a1e6-499dc3c0cff6",
   "metadata": {},
   "outputs": [
    {
     "data": {
      "text/plain": [
       "count    3493.000000\n",
       "mean        0.186559\n",
       "std         0.165943\n",
       "min         0.019700\n",
       "25%         0.097200\n",
       "50%         0.119000\n",
       "75%         0.206000\n",
       "max         0.993000\n",
       "Name: liveness, dtype: float64"
      ]
     },
     "execution_count": 59,
     "metadata": {},
     "output_type": "execute_result"
    }
   ],
   "source": [
    "df.liveness.describe()"
   ]
  },
  {
   "cell_type": "code",
   "execution_count": 60,
   "id": "009a396c-bb62-459c-a3af-514b5f9de6c9",
   "metadata": {},
   "outputs": [
    {
     "name": "stderr",
     "output_type": "stream",
     "text": [
      "/usr/local/lib/python3.9/site-packages/seaborn/_decorators.py:36: FutureWarning: Pass the following variable as a keyword arg: x. From version 0.12, the only valid positional argument will be `data`, and passing other arguments without an explicit keyword will result in an error or misinterpretation.\n",
      "  warnings.warn(\n"
     ]
    },
    {
     "data": {
      "image/png": "[encoded data removed]",
      "text/plain": [
       "<Figure size 720x288 with 1 Axes>"
      ]
     },
     "metadata": {
      "needs_background": "light"
     },
     "output_type": "display_data"
    }
   ],
   "source": [
    "plt.figure(figsize=(10,4))\n",
    "plt.title('Box plot')\n",
    "sns.boxplot(df.liveness)\n",
    "plt.show()"
   ]
  },
  {
   "cell_type": "markdown",
   "id": "6164ba0f-0d9c-4ee3-af23-78f89dc7c24e",
   "metadata": {},
   "source": [
    "## Hot Encoding Categorical features"
   ]
  },
  {
   "cell_type": "code",
   "execution_count": 61,
   "id": "050a2cb1-6169-4129-b3c7-0b0425f0aec8",
   "metadata": {},
   "outputs": [
    {
     "data": {
      "text/plain": [
       "Index(['id_spotify_track', 'id_track', 'danceability', 'energy', 'key',\n",
       "       'loudness', 'mode', 'speechiness', 'acousticness', 'liveness',\n",
       "       ...\n",
       "       '1278', '1281', '1286', '1287', '1288', '1290', '1292', '1294', '1295',\n",
       "       'instrumentalness_cat'],\n",
       "      dtype='object', length=684)"
      ]
     },
     "execution_count": 61,
     "metadata": {},
     "output_type": "execute_result"
    }
   ],
   "source": [
    "df.columns"
   ]
  },
  {
   "cell_type": "code",
   "execution_count": 65,
   "id": "eb41a2f1-989c-4176-b096-a1978c2c54b6",
   "metadata": {},
   "outputs": [
    {
     "ename": "ValueError",
     "evalue": "Cannot convert non-finite values (NA or inf) to integer",
     "output_type": "error",
     "traceback": [
      "\u001b[0;31m---------------------------------------------------------------------------\u001b[0m",
      "\u001b[0;31mValueError\u001b[0m                                Traceback (most recent call last)",
      "\u001b[0;32m<ipython-input-65-c352be960a74>\u001b[0m in \u001b[0;36m<module>\u001b[0;34m\u001b[0m\n\u001b[1;32m      1\u001b[0m \u001b[0;31m# changing types\u001b[0m\u001b[0;34m\u001b[0m\u001b[0;34m\u001b[0m\u001b[0m\n\u001b[1;32m      2\u001b[0m \u001b[0mcategoricalFeatures\u001b[0m \u001b[0;34m=\u001b[0m \u001b[0;34m[\u001b[0m\u001b[0;34m'key'\u001b[0m\u001b[0;34m,\u001b[0m \u001b[0;34m'time_signature'\u001b[0m\u001b[0;34m,\u001b[0m \u001b[0;34m'mode'\u001b[0m\u001b[0;34m,\u001b[0m \u001b[0;34m'mood'\u001b[0m\u001b[0;34m,\u001b[0m \u001b[0;34m'instrumentalness_cat'\u001b[0m\u001b[0;34m]\u001b[0m\u001b[0;34m\u001b[0m\u001b[0;34m\u001b[0m\u001b[0m\n\u001b[0;32m----> 3\u001b[0;31m \u001b[0mdf\u001b[0m \u001b[0;34m=\u001b[0m \u001b[0mdf\u001b[0m\u001b[0;34m.\u001b[0m\u001b[0mastype\u001b[0m\u001b[0;34m(\u001b[0m\u001b[0;34m{\u001b[0m\u001b[0;34m\"key\"\u001b[0m\u001b[0;34m:\u001b[0m \u001b[0mint\u001b[0m\u001b[0;34m,\u001b[0m\u001b[0;34m\"time_signature\"\u001b[0m\u001b[0;34m:\u001b[0m \u001b[0mint\u001b[0m\u001b[0;34m,\u001b[0m \u001b[0;34m\"mode\"\u001b[0m\u001b[0;34m:\u001b[0m \u001b[0mint\u001b[0m\u001b[0;34m,\u001b[0m \u001b[0;34m\"mood\"\u001b[0m\u001b[0;34m:\u001b[0m \u001b[0mint\u001b[0m \u001b[0;34m}\u001b[0m\u001b[0;34m)\u001b[0m\u001b[0;34m\u001b[0m\u001b[0;34m\u001b[0m\u001b[0m\n\u001b[0m",
      "\u001b[0;32m/usr/local/lib/python3.9/site-packages/pandas/core/generic.py\u001b[0m in \u001b[0;36mastype\u001b[0;34m(self, dtype, copy, errors)\u001b[0m\n\u001b[1;32m   5860\u001b[0m                 \u001b[0;32mif\u001b[0m \u001b[0mcol_name\u001b[0m \u001b[0;32min\u001b[0m \u001b[0mdtype\u001b[0m\u001b[0;34m:\u001b[0m\u001b[0;34m\u001b[0m\u001b[0;34m\u001b[0m\u001b[0m\n\u001b[1;32m   5861\u001b[0m                     results.append(\n\u001b[0;32m-> 5862\u001b[0;31m                         \u001b[0mcol\u001b[0m\u001b[0;34m.\u001b[0m\u001b[0mastype\u001b[0m\u001b[0;34m(\u001b[0m\u001b[0mdtype\u001b[0m\u001b[0;34m=\u001b[0m\u001b[0mdtype\u001b[0m\u001b[0;34m[\u001b[0m\u001b[0mcol_name\u001b[0m\u001b[0;34m]\u001b[0m\u001b[0;34m,\u001b[0m \u001b[0mcopy\u001b[0m\u001b[0;34m=\u001b[0m\u001b[0mcopy\u001b[0m\u001b[0;34m,\u001b[0m \u001b[0merrors\u001b[0m\u001b[0;34m=\u001b[0m\u001b[0merrors\u001b[0m\u001b[0;34m)\u001b[0m\u001b[0;34m\u001b[0m\u001b[0;34m\u001b[0m\u001b[0m\n\u001b[0m\u001b[1;32m   5863\u001b[0m                     )\n\u001b[1;32m   5864\u001b[0m                 \u001b[0;32melse\u001b[0m\u001b[0;34m:\u001b[0m\u001b[0;34m\u001b[0m\u001b[0;34m\u001b[0m\u001b[0m\n",
      "\u001b[0;32m/usr/local/lib/python3.9/site-packages/pandas/core/generic.py\u001b[0m in \u001b[0;36mastype\u001b[0;34m(self, dtype, copy, errors)\u001b[0m\n\u001b[1;32m   5875\u001b[0m         \u001b[0;32melse\u001b[0m\u001b[0;34m:\u001b[0m\u001b[0;34m\u001b[0m\u001b[0;34m\u001b[0m\u001b[0m\n\u001b[1;32m   5876\u001b[0m             \u001b[0;31m# else, only a single dtype is given\u001b[0m\u001b[0;34m\u001b[0m\u001b[0;34m\u001b[0m\u001b[0m\n\u001b[0;32m-> 5877\u001b[0;31m             \u001b[0mnew_data\u001b[0m \u001b[0;34m=\u001b[0m \u001b[0mself\u001b[0m\u001b[0;34m.\u001b[0m\u001b[0m_mgr\u001b[0m\u001b[0;34m.\u001b[0m\u001b[0mastype\u001b[0m\u001b[0;34m(\u001b[0m\u001b[0mdtype\u001b[0m\u001b[0;34m=\u001b[0m\u001b[0mdtype\u001b[0m\u001b[0;34m,\u001b[0m \u001b[0mcopy\u001b[0m\u001b[0;34m=\u001b[0m\u001b[0mcopy\u001b[0m\u001b[0;34m,\u001b[0m \u001b[0merrors\u001b[0m\u001b[0;34m=\u001b[0m\u001b[0merrors\u001b[0m\u001b[0;34m)\u001b[0m\u001b[0;34m\u001b[0m\u001b[0;34m\u001b[0m\u001b[0m\n\u001b[0m\u001b[1;32m   5878\u001b[0m             \u001b[0;32mreturn\u001b[0m \u001b[0mself\u001b[0m\u001b[0;34m.\u001b[0m\u001b[0m_constructor\u001b[0m\u001b[0;34m(\u001b[0m\u001b[0mnew_data\u001b[0m\u001b[0;34m)\u001b[0m\u001b[0;34m.\u001b[0m\u001b[0m__finalize__\u001b[0m\u001b[0;34m(\u001b[0m\u001b[0mself\u001b[0m\u001b[0;34m,\u001b[0m \u001b[0mmethod\u001b[0m\u001b[0;34m=\u001b[0m\u001b[0;34m\"astype\"\u001b[0m\u001b[0;34m)\u001b[0m\u001b[0;34m\u001b[0m\u001b[0;34m\u001b[0m\u001b[0m\n\u001b[1;32m   5879\u001b[0m \u001b[0;34m\u001b[0m\u001b[0m\n",
      "\u001b[0;32m/usr/local/lib/python3.9/site-packages/pandas/core/internals/managers.py\u001b[0m in \u001b[0;36mastype\u001b[0;34m(self, dtype, copy, errors)\u001b[0m\n\u001b[1;32m    629\u001b[0m         \u001b[0mself\u001b[0m\u001b[0;34m,\u001b[0m \u001b[0mdtype\u001b[0m\u001b[0;34m,\u001b[0m \u001b[0mcopy\u001b[0m\u001b[0;34m:\u001b[0m \u001b[0mbool\u001b[0m \u001b[0;34m=\u001b[0m \u001b[0;32mFalse\u001b[0m\u001b[0;34m,\u001b[0m \u001b[0merrors\u001b[0m\u001b[0;34m:\u001b[0m \u001b[0mstr\u001b[0m \u001b[0;34m=\u001b[0m \u001b[0;34m\"raise\"\u001b[0m\u001b[0;34m\u001b[0m\u001b[0;34m\u001b[0m\u001b[0m\n\u001b[1;32m    630\u001b[0m     ) -> \"BlockManager\":\n\u001b[0;32m--> 631\u001b[0;31m         \u001b[0;32mreturn\u001b[0m \u001b[0mself\u001b[0m\u001b[0;34m.\u001b[0m\u001b[0mapply\u001b[0m\u001b[0;34m(\u001b[0m\u001b[0;34m\"astype\"\u001b[0m\u001b[0;34m,\u001b[0m \u001b[0mdtype\u001b[0m\u001b[0;34m=\u001b[0m\u001b[0mdtype\u001b[0m\u001b[0;34m,\u001b[0m \u001b[0mcopy\u001b[0m\u001b[0;34m=\u001b[0m\u001b[0mcopy\u001b[0m\u001b[0;34m,\u001b[0m \u001b[0merrors\u001b[0m\u001b[0;34m=\u001b[0m\u001b[0merrors\u001b[0m\u001b[0;34m)\u001b[0m\u001b[0;34m\u001b[0m\u001b[0;34m\u001b[0m\u001b[0m\n\u001b[0m\u001b[1;32m    632\u001b[0m \u001b[0;34m\u001b[0m\u001b[0m\n\u001b[1;32m    633\u001b[0m     def convert(\n",
      "\u001b[0;32m/usr/local/lib/python3.9/site-packages/pandas/core/internals/managers.py\u001b[0m in \u001b[0;36mapply\u001b[0;34m(self, f, align_keys, ignore_failures, **kwargs)\u001b[0m\n\u001b[1;32m    425\u001b[0m                     \u001b[0mapplied\u001b[0m \u001b[0;34m=\u001b[0m \u001b[0mb\u001b[0m\u001b[0;34m.\u001b[0m\u001b[0mapply\u001b[0m\u001b[0;34m(\u001b[0m\u001b[0mf\u001b[0m\u001b[0;34m,\u001b[0m \u001b[0;34m**\u001b[0m\u001b[0mkwargs\u001b[0m\u001b[0;34m)\u001b[0m\u001b[0;34m\u001b[0m\u001b[0;34m\u001b[0m\u001b[0m\n\u001b[1;32m    426\u001b[0m                 \u001b[0;32melse\u001b[0m\u001b[0;34m:\u001b[0m\u001b[0;34m\u001b[0m\u001b[0;34m\u001b[0m\u001b[0m\n\u001b[0;32m--> 427\u001b[0;31m                     \u001b[0mapplied\u001b[0m \u001b[0;34m=\u001b[0m \u001b[0mgetattr\u001b[0m\u001b[0;34m(\u001b[0m\u001b[0mb\u001b[0m\u001b[0;34m,\u001b[0m \u001b[0mf\u001b[0m\u001b[0;34m)\u001b[0m\u001b[0;34m(\u001b[0m\u001b[0;34m**\u001b[0m\u001b[0mkwargs\u001b[0m\u001b[0;34m)\u001b[0m\u001b[0;34m\u001b[0m\u001b[0;34m\u001b[0m\u001b[0m\n\u001b[0m\u001b[1;32m    428\u001b[0m             \u001b[0;32mexcept\u001b[0m \u001b[0;34m(\u001b[0m\u001b[0mTypeError\u001b[0m\u001b[0;34m,\u001b[0m \u001b[0mNotImplementedError\u001b[0m\u001b[0;34m)\u001b[0m\u001b[0;34m:\u001b[0m\u001b[0;34m\u001b[0m\u001b[0;34m\u001b[0m\u001b[0m\n\u001b[1;32m    429\u001b[0m                 \u001b[0;32mif\u001b[0m \u001b[0;32mnot\u001b[0m \u001b[0mignore_failures\u001b[0m\u001b[0;34m:\u001b[0m\u001b[0;34m\u001b[0m\u001b[0;34m\u001b[0m\u001b[0m\n",
      "\u001b[0;32m/usr/local/lib/python3.9/site-packages/pandas/core/internals/blocks.py\u001b[0m in \u001b[0;36mastype\u001b[0;34m(self, dtype, copy, errors)\u001b[0m\n\u001b[1;32m    671\u001b[0m             \u001b[0mvals1d\u001b[0m \u001b[0;34m=\u001b[0m \u001b[0mvalues\u001b[0m\u001b[0;34m.\u001b[0m\u001b[0mravel\u001b[0m\u001b[0;34m(\u001b[0m\u001b[0;34m)\u001b[0m\u001b[0;34m\u001b[0m\u001b[0;34m\u001b[0m\u001b[0m\n\u001b[1;32m    672\u001b[0m             \u001b[0;32mtry\u001b[0m\u001b[0;34m:\u001b[0m\u001b[0;34m\u001b[0m\u001b[0;34m\u001b[0m\u001b[0m\n\u001b[0;32m--> 673\u001b[0;31m                 \u001b[0mvalues\u001b[0m \u001b[0;34m=\u001b[0m \u001b[0mastype_nansafe\u001b[0m\u001b[0;34m(\u001b[0m\u001b[0mvals1d\u001b[0m\u001b[0;34m,\u001b[0m \u001b[0mdtype\u001b[0m\u001b[0;34m,\u001b[0m \u001b[0mcopy\u001b[0m\u001b[0;34m=\u001b[0m\u001b[0;32mTrue\u001b[0m\u001b[0;34m)\u001b[0m\u001b[0;34m\u001b[0m\u001b[0;34m\u001b[0m\u001b[0m\n\u001b[0m\u001b[1;32m    674\u001b[0m             \u001b[0;32mexcept\u001b[0m \u001b[0;34m(\u001b[0m\u001b[0mValueError\u001b[0m\u001b[0;34m,\u001b[0m \u001b[0mTypeError\u001b[0m\u001b[0;34m)\u001b[0m\u001b[0;34m:\u001b[0m\u001b[0;34m\u001b[0m\u001b[0;34m\u001b[0m\u001b[0m\n\u001b[1;32m    675\u001b[0m                 \u001b[0;31m# e.g. astype_nansafe can fail on object-dtype of strings\u001b[0m\u001b[0;34m\u001b[0m\u001b[0;34m\u001b[0m\u001b[0m\n",
      "\u001b[0;32m/usr/local/lib/python3.9/site-packages/pandas/core/dtypes/cast.py\u001b[0m in \u001b[0;36mastype_nansafe\u001b[0;34m(arr, dtype, copy, skipna)\u001b[0m\n\u001b[1;32m   1066\u001b[0m \u001b[0;34m\u001b[0m\u001b[0m\n\u001b[1;32m   1067\u001b[0m         \u001b[0;32mif\u001b[0m \u001b[0;32mnot\u001b[0m \u001b[0mnp\u001b[0m\u001b[0;34m.\u001b[0m\u001b[0misfinite\u001b[0m\u001b[0;34m(\u001b[0m\u001b[0marr\u001b[0m\u001b[0;34m)\u001b[0m\u001b[0;34m.\u001b[0m\u001b[0mall\u001b[0m\u001b[0;34m(\u001b[0m\u001b[0;34m)\u001b[0m\u001b[0;34m:\u001b[0m\u001b[0;34m\u001b[0m\u001b[0;34m\u001b[0m\u001b[0m\n\u001b[0;32m-> 1068\u001b[0;31m             \u001b[0;32mraise\u001b[0m \u001b[0mValueError\u001b[0m\u001b[0;34m(\u001b[0m\u001b[0;34m\"Cannot convert non-finite values (NA or inf) to integer\"\u001b[0m\u001b[0;34m)\u001b[0m\u001b[0;34m\u001b[0m\u001b[0;34m\u001b[0m\u001b[0m\n\u001b[0m\u001b[1;32m   1069\u001b[0m \u001b[0;34m\u001b[0m\u001b[0m\n\u001b[1;32m   1070\u001b[0m     \u001b[0;32melif\u001b[0m \u001b[0mis_object_dtype\u001b[0m\u001b[0;34m(\u001b[0m\u001b[0marr\u001b[0m\u001b[0;34m)\u001b[0m\u001b[0;34m:\u001b[0m\u001b[0;34m\u001b[0m\u001b[0;34m\u001b[0m\u001b[0m\n",
      "\u001b[0;31mValueError\u001b[0m: Cannot convert non-finite values (NA or inf) to integer"
     ]
    }
   ],
   "source": [
    "# changing types \n",
    "categoricalFeatures = ['key', 'time_signature', 'mode', 'mood', 'instrumentalness_cat']\n",
    "df = df.astype({\"key\": int,\"time_signature\": int, \"mode\": int, \"mood\": int })"
   ]
  },
  {
   "cell_type": "code",
   "execution_count": 66,
   "id": "0383556c-aaab-4f6f-a1b6-92cf76b0886f",
   "metadata": {},
   "outputs": [
    {
     "ename": "ValueError",
     "evalue": "Could not interpret value `instrumentalness_cat` for parameter `x`",
     "output_type": "error",
     "traceback": [
      "\u001b[0;31m---------------------------------------------------------------------------\u001b[0m",
      "\u001b[0;31mValueError\u001b[0m                                Traceback (most recent call last)",
      "\u001b[0;32m<ipython-input-66-9199c23c2252>\u001b[0m in \u001b[0;36m<module>\u001b[0;34m\u001b[0m\n\u001b[1;32m      7\u001b[0m \u001b[0msns\u001b[0m\u001b[0;34m.\u001b[0m\u001b[0mhistplot\u001b[0m\u001b[0;34m(\u001b[0m\u001b[0mdata\u001b[0m\u001b[0;34m=\u001b[0m\u001b[0mdf\u001b[0m\u001b[0;34m,\u001b[0m \u001b[0mx\u001b[0m\u001b[0;34m=\u001b[0m\u001b[0;34m\"mode\"\u001b[0m\u001b[0;34m,\u001b[0m \u001b[0mkde\u001b[0m\u001b[0;34m=\u001b[0m\u001b[0;32mTrue\u001b[0m\u001b[0;34m,\u001b[0m \u001b[0mcolor\u001b[0m\u001b[0;34m=\u001b[0m\u001b[0;34m\"gold\"\u001b[0m\u001b[0;34m,\u001b[0m \u001b[0max\u001b[0m\u001b[0;34m=\u001b[0m\u001b[0maxs\u001b[0m\u001b[0;34m[\u001b[0m\u001b[0;36m1\u001b[0m\u001b[0;34m,\u001b[0m \u001b[0;36m0\u001b[0m\u001b[0;34m]\u001b[0m\u001b[0;34m)\u001b[0m\u001b[0;34m\u001b[0m\u001b[0;34m\u001b[0m\u001b[0m\n\u001b[1;32m      8\u001b[0m \u001b[0msns\u001b[0m\u001b[0;34m.\u001b[0m\u001b[0mhistplot\u001b[0m\u001b[0;34m(\u001b[0m\u001b[0mdata\u001b[0m\u001b[0;34m=\u001b[0m\u001b[0mdf\u001b[0m\u001b[0;34m,\u001b[0m \u001b[0mx\u001b[0m\u001b[0;34m=\u001b[0m\u001b[0;34m\"mood\"\u001b[0m\u001b[0;34m,\u001b[0m \u001b[0mkde\u001b[0m\u001b[0;34m=\u001b[0m\u001b[0;32mTrue\u001b[0m\u001b[0;34m,\u001b[0m \u001b[0mcolor\u001b[0m\u001b[0;34m=\u001b[0m\u001b[0;34m\"teal\"\u001b[0m\u001b[0;34m,\u001b[0m \u001b[0max\u001b[0m\u001b[0;34m=\u001b[0m\u001b[0maxs\u001b[0m\u001b[0;34m[\u001b[0m\u001b[0;36m1\u001b[0m\u001b[0;34m,\u001b[0m \u001b[0;36m1\u001b[0m\u001b[0;34m]\u001b[0m\u001b[0;34m)\u001b[0m\u001b[0;34m\u001b[0m\u001b[0;34m\u001b[0m\u001b[0m\n\u001b[0;32m----> 9\u001b[0;31m \u001b[0msns\u001b[0m\u001b[0;34m.\u001b[0m\u001b[0mhistplot\u001b[0m\u001b[0;34m(\u001b[0m\u001b[0mdata\u001b[0m\u001b[0;34m=\u001b[0m\u001b[0mdf\u001b[0m\u001b[0;34m,\u001b[0m \u001b[0mx\u001b[0m\u001b[0;34m=\u001b[0m\u001b[0;34m\"instrumentalness_cat\"\u001b[0m\u001b[0;34m,\u001b[0m \u001b[0mkde\u001b[0m\u001b[0;34m=\u001b[0m\u001b[0;32mTrue\u001b[0m\u001b[0;34m,\u001b[0m \u001b[0mcolor\u001b[0m\u001b[0;34m=\u001b[0m\u001b[0;34m\"teal\"\u001b[0m\u001b[0;34m,\u001b[0m \u001b[0max\u001b[0m\u001b[0;34m=\u001b[0m\u001b[0maxs\u001b[0m\u001b[0;34m[\u001b[0m\u001b[0;36m2\u001b[0m\u001b[0;34m,\u001b[0m \u001b[0;36m0\u001b[0m\u001b[0;34m]\u001b[0m\u001b[0;34m)\u001b[0m\u001b[0;34m\u001b[0m\u001b[0;34m\u001b[0m\u001b[0m\n\u001b[0m",
      "\u001b[0;32m/usr/local/lib/python3.9/site-packages/seaborn/distributions.py\u001b[0m in \u001b[0;36mhistplot\u001b[0;34m(data, x, y, hue, weights, stat, bins, binwidth, binrange, discrete, cumulative, common_bins, common_norm, multiple, element, fill, shrink, kde, kde_kws, line_kws, thresh, pthresh, pmax, cbar, cbar_ax, cbar_kws, palette, hue_order, hue_norm, color, log_scale, legend, ax, **kwargs)\u001b[0m\n\u001b[1;32m   1428\u001b[0m ):\n\u001b[1;32m   1429\u001b[0m \u001b[0;34m\u001b[0m\u001b[0m\n\u001b[0;32m-> 1430\u001b[0;31m     p = _DistributionPlotter(\n\u001b[0m\u001b[1;32m   1431\u001b[0m         \u001b[0mdata\u001b[0m\u001b[0;34m=\u001b[0m\u001b[0mdata\u001b[0m\u001b[0;34m,\u001b[0m\u001b[0;34m\u001b[0m\u001b[0;34m\u001b[0m\u001b[0m\n\u001b[1;32m   1432\u001b[0m         \u001b[0mvariables\u001b[0m\u001b[0;34m=\u001b[0m\u001b[0m_DistributionPlotter\u001b[0m\u001b[0;34m.\u001b[0m\u001b[0mget_semantics\u001b[0m\u001b[0;34m(\u001b[0m\u001b[0mlocals\u001b[0m\u001b[0;34m(\u001b[0m\u001b[0;34m)\u001b[0m\u001b[0;34m)\u001b[0m\u001b[0;34m\u001b[0m\u001b[0;34m\u001b[0m\u001b[0m\n",
      "\u001b[0;32m/usr/local/lib/python3.9/site-packages/seaborn/distributions.py\u001b[0m in \u001b[0;36m__init__\u001b[0;34m(self, data, variables)\u001b[0m\n\u001b[1;32m    109\u001b[0m     ):\n\u001b[1;32m    110\u001b[0m \u001b[0;34m\u001b[0m\u001b[0m\n\u001b[0;32m--> 111\u001b[0;31m         \u001b[0msuper\u001b[0m\u001b[0;34m(\u001b[0m\u001b[0;34m)\u001b[0m\u001b[0;34m.\u001b[0m\u001b[0m__init__\u001b[0m\u001b[0;34m(\u001b[0m\u001b[0mdata\u001b[0m\u001b[0;34m=\u001b[0m\u001b[0mdata\u001b[0m\u001b[0;34m,\u001b[0m \u001b[0mvariables\u001b[0m\u001b[0;34m=\u001b[0m\u001b[0mvariables\u001b[0m\u001b[0;34m)\u001b[0m\u001b[0;34m\u001b[0m\u001b[0;34m\u001b[0m\u001b[0m\n\u001b[0m\u001b[1;32m    112\u001b[0m \u001b[0;34m\u001b[0m\u001b[0m\n\u001b[1;32m    113\u001b[0m     \u001b[0;34m@\u001b[0m\u001b[0mproperty\u001b[0m\u001b[0;34m\u001b[0m\u001b[0;34m\u001b[0m\u001b[0m\n",
      "\u001b[0;32m/usr/local/lib/python3.9/site-packages/seaborn/_core.py\u001b[0m in \u001b[0;36m__init__\u001b[0;34m(self, data, variables)\u001b[0m\n\u001b[1;32m    603\u001b[0m     \u001b[0;32mdef\u001b[0m \u001b[0m__init__\u001b[0m\u001b[0;34m(\u001b[0m\u001b[0mself\u001b[0m\u001b[0;34m,\u001b[0m \u001b[0mdata\u001b[0m\u001b[0;34m=\u001b[0m\u001b[0;32mNone\u001b[0m\u001b[0;34m,\u001b[0m \u001b[0mvariables\u001b[0m\u001b[0;34m=\u001b[0m\u001b[0;34m{\u001b[0m\u001b[0;34m}\u001b[0m\u001b[0;34m)\u001b[0m\u001b[0;34m:\u001b[0m\u001b[0;34m\u001b[0m\u001b[0;34m\u001b[0m\u001b[0m\n\u001b[1;32m    604\u001b[0m \u001b[0;34m\u001b[0m\u001b[0m\n\u001b[0;32m--> 605\u001b[0;31m         \u001b[0mself\u001b[0m\u001b[0;34m.\u001b[0m\u001b[0massign_variables\u001b[0m\u001b[0;34m(\u001b[0m\u001b[0mdata\u001b[0m\u001b[0;34m,\u001b[0m \u001b[0mvariables\u001b[0m\u001b[0;34m)\u001b[0m\u001b[0;34m\u001b[0m\u001b[0;34m\u001b[0m\u001b[0m\n\u001b[0m\u001b[1;32m    606\u001b[0m \u001b[0;34m\u001b[0m\u001b[0m\n\u001b[1;32m    607\u001b[0m         \u001b[0;32mfor\u001b[0m \u001b[0mvar\u001b[0m\u001b[0;34m,\u001b[0m \u001b[0mcls\u001b[0m \u001b[0;32min\u001b[0m \u001b[0mself\u001b[0m\u001b[0;34m.\u001b[0m\u001b[0m_semantic_mappings\u001b[0m\u001b[0;34m.\u001b[0m\u001b[0mitems\u001b[0m\u001b[0;34m(\u001b[0m\u001b[0;34m)\u001b[0m\u001b[0;34m:\u001b[0m\u001b[0;34m\u001b[0m\u001b[0;34m\u001b[0m\u001b[0m\n",
      "\u001b[0;32m/usr/local/lib/python3.9/site-packages/seaborn/_core.py\u001b[0m in \u001b[0;36massign_variables\u001b[0;34m(self, data, variables)\u001b[0m\n\u001b[1;32m    666\u001b[0m         \u001b[0;32melse\u001b[0m\u001b[0;34m:\u001b[0m\u001b[0;34m\u001b[0m\u001b[0;34m\u001b[0m\u001b[0m\n\u001b[1;32m    667\u001b[0m             \u001b[0mself\u001b[0m\u001b[0;34m.\u001b[0m\u001b[0minput_format\u001b[0m \u001b[0;34m=\u001b[0m \u001b[0;34m\"long\"\u001b[0m\u001b[0;34m\u001b[0m\u001b[0;34m\u001b[0m\u001b[0m\n\u001b[0;32m--> 668\u001b[0;31m             plot_data, variables = self._assign_variables_longform(\n\u001b[0m\u001b[1;32m    669\u001b[0m                 \u001b[0mdata\u001b[0m\u001b[0;34m,\u001b[0m \u001b[0;34m**\u001b[0m\u001b[0mvariables\u001b[0m\u001b[0;34m,\u001b[0m\u001b[0;34m\u001b[0m\u001b[0;34m\u001b[0m\u001b[0m\n\u001b[1;32m    670\u001b[0m             )\n",
      "\u001b[0;32m/usr/local/lib/python3.9/site-packages/seaborn/_core.py\u001b[0m in \u001b[0;36m_assign_variables_longform\u001b[0;34m(self, data, **kwargs)\u001b[0m\n\u001b[1;32m    901\u001b[0m \u001b[0;34m\u001b[0m\u001b[0m\n\u001b[1;32m    902\u001b[0m                 \u001b[0merr\u001b[0m \u001b[0;34m=\u001b[0m \u001b[0;34mf\"Could not interpret value `{val}` for parameter `{key}`\"\u001b[0m\u001b[0;34m\u001b[0m\u001b[0;34m\u001b[0m\u001b[0m\n\u001b[0;32m--> 903\u001b[0;31m                 \u001b[0;32mraise\u001b[0m \u001b[0mValueError\u001b[0m\u001b[0;34m(\u001b[0m\u001b[0merr\u001b[0m\u001b[0;34m)\u001b[0m\u001b[0;34m\u001b[0m\u001b[0;34m\u001b[0m\u001b[0m\n\u001b[0m\u001b[1;32m    904\u001b[0m \u001b[0;34m\u001b[0m\u001b[0m\n\u001b[1;32m    905\u001b[0m             \u001b[0;32melse\u001b[0m\u001b[0;34m:\u001b[0m\u001b[0;34m\u001b[0m\u001b[0;34m\u001b[0m\u001b[0m\n",
      "\u001b[0;31mValueError\u001b[0m: Could not interpret value `instrumentalness_cat` for parameter `x`"
     ]
    },
    {
     "data": {
      "image/png": "[encoded data removed]",
      "text/plain": [
       "<Figure size 504x504 with 6 Axes>"
      ]
     },
     "metadata": {},
     "output_type": "display_data"
    }
   ],
   "source": [
    "sns.set(style=\"darkgrid\")\n",
    "\n",
    "fig, axs = plt.subplots(3, 2, figsize=(7, 7))\n",
    "\n",
    "sns.histplot(data=df, x=\"key\", kde=True, color=\"skyblue\", ax=axs[0, 0])\n",
    "sns.histplot(data=df, x=\"time_signature\", kde=True, color=\"olive\", ax=axs[0, 1])\n",
    "sns.histplot(data=df, x=\"mode\", kde=True, color=\"gold\", ax=axs[1, 0])\n",
    "sns.histplot(data=df, x=\"mood\", kde=True, color=\"teal\", ax=axs[1, 1])\n",
    "sns.histplot(data=df, x=\"instrumentalness_cat\", kde=True, color=\"teal\", ax=axs[2, 0])"
   ]
  },
  {
   "cell_type": "markdown",
   "id": "fe4e816a-cfcc-47bc-86ad-051f5d59501d",
   "metadata": {},
   "source": [
    "#### Joining time signatures into two categories"
   ]
  },
  {
   "cell_type": "code",
   "execution_count": 645,
   "id": "ffef95ea-7dd3-4704-9fc0-2171d8e8743d",
   "metadata": {},
   "outputs": [
    {
     "data": {
      "text/plain": [
       "4    2854\n",
       "3     292\n",
       "5      34\n",
       "1       9\n",
       "Name: time_signature, dtype: int64"
      ]
     },
     "execution_count": 645,
     "metadata": {},
     "output_type": "execute_result"
    }
   ],
   "source": [
    "df.time_signature.value_counts()"
   ]
  },
  {
   "cell_type": "code",
   "execution_count": 646,
   "id": "63912a2b-476b-40cb-b9a6-66cb2c39bd8b",
   "metadata": {},
   "outputs": [],
   "source": [
    " df.time_signature = df.apply(lambda x : 1 if x.time_signature == 4 else 0, axis=1)"
   ]
  },
  {
   "cell_type": "code",
   "execution_count": 647,
   "id": "9ae0ffa7-ee8f-4fa0-b6b6-15038cbce29c",
   "metadata": {},
   "outputs": [
    {
     "data": {
      "text/plain": [
       "1    2854\n",
       "0     335\n",
       "Name: time_signature, dtype: int64"
      ]
     },
     "execution_count": 647,
     "metadata": {},
     "output_type": "execute_result"
    }
   ],
   "source": [
    "df.time_signature.value_counts()"
   ]
  },
  {
   "cell_type": "markdown",
   "id": "a0d1de8b-e5e3-4d9b-9eef-9a98e53fc371",
   "metadata": {},
   "source": [
    "### Hot encoding"
   ]
  },
  {
   "cell_type": "code",
   "execution_count": 648,
   "id": "1b448aa6-e240-4403-bbb6-2743591d4f3d",
   "metadata": {},
   "outputs": [],
   "source": [
    "categDF = df[categoricalFeatures]"
   ]
  },
  {
   "cell_type": "code",
   "execution_count": 649,
   "id": "35b21a90-b1e7-4d2e-ac28-747379a0dd6d",
   "metadata": {},
   "outputs": [
    {
     "data": {
      "text/html": [
       "<div>\n",
       "<style scoped>\n",
       "    .dataframe tbody tr th:only-of-type {\n",
       "        vertical-align: middle;\n",
       "    }\n",
       "\n",
       "    .dataframe tbody tr th {\n",
       "        vertical-align: top;\n",
       "    }\n",
       "\n",
       "    .dataframe thead th {\n",
       "        text-align: right;\n",
       "    }\n",
       "</style>\n",
       "<table border=\"1\" class=\"dataframe\">\n",
       "  <thead>\n",
       "    <tr style=\"text-align: right;\">\n",
       "      <th></th>\n",
       "      <th>key</th>\n",
       "      <th>time_signature</th>\n",
       "      <th>mode</th>\n",
       "      <th>mood</th>\n",
       "      <th>instrumentalness_cat</th>\n",
       "    </tr>\n",
       "    <tr>\n",
       "      <th>id</th>\n",
       "      <th></th>\n",
       "      <th></th>\n",
       "      <th></th>\n",
       "      <th></th>\n",
       "      <th></th>\n",
       "    </tr>\n",
       "  </thead>\n",
       "  <tbody>\n",
       "    <tr>\n",
       "      <th>23</th>\n",
       "      <td>7</td>\n",
       "      <td>1</td>\n",
       "      <td>1</td>\n",
       "      <td>7</td>\n",
       "      <td>2</td>\n",
       "    </tr>\n",
       "    <tr>\n",
       "      <th>105</th>\n",
       "      <td>7</td>\n",
       "      <td>1</td>\n",
       "      <td>1</td>\n",
       "      <td>10</td>\n",
       "      <td>2</td>\n",
       "    </tr>\n",
       "    <tr>\n",
       "      <th>118</th>\n",
       "      <td>2</td>\n",
       "      <td>1</td>\n",
       "      <td>1</td>\n",
       "      <td>7</td>\n",
       "      <td>1</td>\n",
       "    </tr>\n",
       "    <tr>\n",
       "      <th>120</th>\n",
       "      <td>11</td>\n",
       "      <td>1</td>\n",
       "      <td>0</td>\n",
       "      <td>7</td>\n",
       "      <td>2</td>\n",
       "    </tr>\n",
       "    <tr>\n",
       "      <th>292</th>\n",
       "      <td>6</td>\n",
       "      <td>1</td>\n",
       "      <td>1</td>\n",
       "      <td>3</td>\n",
       "      <td>0</td>\n",
       "    </tr>\n",
       "    <tr>\n",
       "      <th>...</th>\n",
       "      <td>...</td>\n",
       "      <td>...</td>\n",
       "      <td>...</td>\n",
       "      <td>...</td>\n",
       "      <td>...</td>\n",
       "    </tr>\n",
       "    <tr>\n",
       "      <th>3781055</th>\n",
       "      <td>1</td>\n",
       "      <td>1</td>\n",
       "      <td>1</td>\n",
       "      <td>7</td>\n",
       "      <td>0</td>\n",
       "    </tr>\n",
       "    <tr>\n",
       "      <th>3860363</th>\n",
       "      <td>10</td>\n",
       "      <td>0</td>\n",
       "      <td>1</td>\n",
       "      <td>3</td>\n",
       "      <td>0</td>\n",
       "    </tr>\n",
       "    <tr>\n",
       "      <th>3898172</th>\n",
       "      <td>6</td>\n",
       "      <td>1</td>\n",
       "      <td>1</td>\n",
       "      <td>6</td>\n",
       "      <td>2</td>\n",
       "    </tr>\n",
       "    <tr>\n",
       "      <th>3911342</th>\n",
       "      <td>5</td>\n",
       "      <td>1</td>\n",
       "      <td>1</td>\n",
       "      <td>2</td>\n",
       "      <td>0</td>\n",
       "    </tr>\n",
       "    <tr>\n",
       "      <th>4134073</th>\n",
       "      <td>6</td>\n",
       "      <td>1</td>\n",
       "      <td>0</td>\n",
       "      <td>10</td>\n",
       "      <td>2</td>\n",
       "    </tr>\n",
       "  </tbody>\n",
       "</table>\n",
       "<p>3189 rows × 5 columns</p>\n",
       "</div>"
      ],
      "text/plain": [
       "         key  time_signature  mode  mood  instrumentalness_cat\n",
       "id                                                            \n",
       "23         7               1     1     7                     2\n",
       "105        7               1     1    10                     2\n",
       "118        2               1     1     7                     1\n",
       "120       11               1     0     7                     2\n",
       "292        6               1     1     3                     0\n",
       "...      ...             ...   ...   ...                   ...\n",
       "3781055    1               1     1     7                     0\n",
       "3860363   10               0     1     3                     0\n",
       "3898172    6               1     1     6                     2\n",
       "3911342    5               1     1     2                     0\n",
       "4134073    6               1     0    10                     2\n",
       "\n",
       "[3189 rows x 5 columns]"
      ]
     },
     "execution_count": 649,
     "metadata": {},
     "output_type": "execute_result"
    }
   ],
   "source": [
    "categDF"
   ]
  },
  {
   "cell_type": "code",
   "execution_count": 650,
   "id": "ba353a2b-f592-47de-a806-10633417f643",
   "metadata": {},
   "outputs": [
    {
     "data": {
      "text/html": [
       "<style>#sk-container-id-3 {color: black;background-color: white;}#sk-container-id-3 pre{padding: 0;}#sk-container-id-3 div.sk-toggleable {background-color: white;}#sk-container-id-3 label.sk-toggleable__label {cursor: pointer;display: block;width: 100%;margin-bottom: 0;padding: 0.3em;box-sizing: border-box;text-align: center;}#sk-container-id-3 label.sk-toggleable__label-arrow:before {content: \"▸\";float: left;margin-right: 0.25em;color: #696969;}#sk-container-id-3 label.sk-toggleable__label-arrow:hover:before {color: black;}#sk-container-id-3 div.sk-estimator:hover label.sk-toggleable__label-arrow:before {color: black;}#sk-container-id-3 div.sk-toggleable__content {max-height: 0;max-width: 0;overflow: hidden;text-align: left;background-color: #f0f8ff;}#sk-container-id-3 div.sk-toggleable__content pre {margin: 0.2em;color: black;border-radius: 0.25em;background-color: #f0f8ff;}#sk-container-id-3 input.sk-toggleable__control:checked~div.sk-toggleable__content {max-height: 200px;max-width: 100%;overflow: auto;}#sk-container-id-3 input.sk-toggleable__control:checked~label.sk-toggleable__label-arrow:before {content: \"▾\";}#sk-container-id-3 div.sk-estimator input.sk-toggleable__control:checked~label.sk-toggleable__label {background-color: #d4ebff;}#sk-container-id-3 div.sk-label input.sk-toggleable__control:checked~label.sk-toggleable__label {background-color: #d4ebff;}#sk-container-id-3 input.sk-hidden--visually {border: 0;clip: rect(1px 1px 1px 1px);clip: rect(1px, 1px, 1px, 1px);height: 1px;margin: -1px;overflow: hidden;padding: 0;position: absolute;width: 1px;}#sk-container-id-3 div.sk-estimator {font-family: monospace;background-color: #f0f8ff;border: 1px dotted black;border-radius: 0.25em;box-sizing: border-box;margin-bottom: 0.5em;}#sk-container-id-3 div.sk-estimator:hover {background-color: #d4ebff;}#sk-container-id-3 div.sk-parallel-item::after {content: \"\";width: 100%;border-bottom: 1px solid gray;flex-grow: 1;}#sk-container-id-3 div.sk-label:hover label.sk-toggleable__label {background-color: #d4ebff;}#sk-container-id-3 div.sk-serial::before {content: \"\";position: absolute;border-left: 1px solid gray;box-sizing: border-box;top: 0;bottom: 0;left: 50%;z-index: 0;}#sk-container-id-3 div.sk-serial {display: flex;flex-direction: column;align-items: center;background-color: white;padding-right: 0.2em;padding-left: 0.2em;position: relative;}#sk-container-id-3 div.sk-item {position: relative;z-index: 1;}#sk-container-id-3 div.sk-parallel {display: flex;align-items: stretch;justify-content: center;background-color: white;position: relative;}#sk-container-id-3 div.sk-item::before, #sk-container-id-3 div.sk-parallel-item::before {content: \"\";position: absolute;border-left: 1px solid gray;box-sizing: border-box;top: 0;bottom: 0;left: 50%;z-index: -1;}#sk-container-id-3 div.sk-parallel-item {display: flex;flex-direction: column;z-index: 1;position: relative;background-color: white;}#sk-container-id-3 div.sk-parallel-item:first-child::after {align-self: flex-end;width: 50%;}#sk-container-id-3 div.sk-parallel-item:last-child::after {align-self: flex-start;width: 50%;}#sk-container-id-3 div.sk-parallel-item:only-child::after {width: 0;}#sk-container-id-3 div.sk-dashed-wrapped {border: 1px dashed gray;margin: 0 0.4em 0.5em 0.4em;box-sizing: border-box;padding-bottom: 0.4em;background-color: white;}#sk-container-id-3 div.sk-label label {font-family: monospace;font-weight: bold;display: inline-block;line-height: 1.2em;}#sk-container-id-3 div.sk-label-container {text-align: center;}#sk-container-id-3 div.sk-container {/* jupyter's `normalize.less` sets `[hidden] { display: none; }` but bootstrap.min.css set `[hidden] { display: none !important; }` so we also need the `!important` here to be able to override the default hidden behavior on the sphinx rendered scikit-learn.org. See: https://github.com/scikit-learn/scikit-learn/issues/21755 */display: inline-block !important;position: relative;}#sk-container-id-3 div.sk-text-repr-fallback {display: none;}</style><div id=\"sk-container-id-3\" class=\"sk-top-container\"><div class=\"sk-text-repr-fallback\"><pre>OneHotEncoder(handle_unknown=&#x27;ignore&#x27;)</pre><b>In a Jupyter environment, please rerun this cell to show the HTML representation or trust the notebook. <br />On GitHub, the HTML representation is unable to render, please try loading this page with nbviewer.org.</b></div><div class=\"sk-container\" hidden><div class=\"sk-item\"><div class=\"sk-estimator sk-toggleable\"><input class=\"sk-toggleable__control sk-hidden--visually\" id=\"sk-estimator-id-3\" type=\"checkbox\" checked><label for=\"sk-estimator-id-3\" class=\"sk-toggleable__label sk-toggleable__label-arrow\">OneHotEncoder</label><div class=\"sk-toggleable__content\"><pre>OneHotEncoder(handle_unknown=&#x27;ignore&#x27;)</pre></div></div></div></div></div>"
      ],
      "text/plain": [
       "OneHotEncoder(handle_unknown='ignore')"
      ]
     },
     "execution_count": 650,
     "metadata": {},
     "output_type": "execute_result"
    }
   ],
   "source": [
    "enc = OneHotEncoder(handle_unknown='ignore')\n",
    "enc.fit(categDF)\n",
    "OneHotEncoder(handle_unknown='ignore')"
   ]
  },
  {
   "cell_type": "code",
   "execution_count": 651,
   "id": "b0ab247d-88dc-4507-b14e-461275d95f4a",
   "metadata": {},
   "outputs": [
    {
     "data": {
      "text/plain": [
       "[array([ 0,  1,  2,  3,  4,  5,  6,  7,  8,  9, 10, 11]),\n",
       " array([0, 1]),\n",
       " array([0, 1]),\n",
       " array([ 1,  2,  3,  4,  5,  6,  7,  8,  9, 10, 11]),\n",
       " array([0, 1, 2])]"
      ]
     },
     "execution_count": 651,
     "metadata": {},
     "output_type": "execute_result"
    }
   ],
   "source": [
    "enc.categories_\n"
   ]
  },
  {
   "cell_type": "code",
   "execution_count": 652,
   "id": "730b2ddb-11e5-4c47-a68c-3d93e4ad5272",
   "metadata": {},
   "outputs": [],
   "source": [
    "hotEncodedCatFeatures = pd.DataFrame(enc.transform(categDF).toarray())"
   ]
  },
  {
   "cell_type": "code",
   "execution_count": 653,
   "id": "5b55453c-e932-4a6e-9ee4-4267c30fde9b",
   "metadata": {},
   "outputs": [
    {
     "data": {
      "text/html": [
       "<div>\n",
       "<style scoped>\n",
       "    .dataframe tbody tr th:only-of-type {\n",
       "        vertical-align: middle;\n",
       "    }\n",
       "\n",
       "    .dataframe tbody tr th {\n",
       "        vertical-align: top;\n",
       "    }\n",
       "\n",
       "    .dataframe thead th {\n",
       "        text-align: right;\n",
       "    }\n",
       "</style>\n",
       "<table border=\"1\" class=\"dataframe\">\n",
       "  <thead>\n",
       "    <tr style=\"text-align: right;\">\n",
       "      <th></th>\n",
       "      <th>0</th>\n",
       "      <th>1</th>\n",
       "      <th>2</th>\n",
       "      <th>3</th>\n",
       "      <th>4</th>\n",
       "      <th>5</th>\n",
       "      <th>6</th>\n",
       "      <th>7</th>\n",
       "      <th>8</th>\n",
       "      <th>9</th>\n",
       "      <th>...</th>\n",
       "      <th>20</th>\n",
       "      <th>21</th>\n",
       "      <th>22</th>\n",
       "      <th>23</th>\n",
       "      <th>24</th>\n",
       "      <th>25</th>\n",
       "      <th>26</th>\n",
       "      <th>27</th>\n",
       "      <th>28</th>\n",
       "      <th>29</th>\n",
       "    </tr>\n",
       "  </thead>\n",
       "  <tbody>\n",
       "    <tr>\n",
       "      <th>0</th>\n",
       "      <td>0.0</td>\n",
       "      <td>0.0</td>\n",
       "      <td>0.0</td>\n",
       "      <td>0.0</td>\n",
       "      <td>0.0</td>\n",
       "      <td>0.0</td>\n",
       "      <td>0.0</td>\n",
       "      <td>1.0</td>\n",
       "      <td>0.0</td>\n",
       "      <td>0.0</td>\n",
       "      <td>...</td>\n",
       "      <td>0.0</td>\n",
       "      <td>0.0</td>\n",
       "      <td>1.0</td>\n",
       "      <td>0.0</td>\n",
       "      <td>0.0</td>\n",
       "      <td>0.0</td>\n",
       "      <td>0.0</td>\n",
       "      <td>0.0</td>\n",
       "      <td>0.0</td>\n",
       "      <td>1.0</td>\n",
       "    </tr>\n",
       "  </tbody>\n",
       "</table>\n",
       "<p>1 rows × 30 columns</p>\n",
       "</div>"
      ],
      "text/plain": [
       "    0    1    2    3    4    5    6    7    8    9   ...   20   21   22   23  \\\n",
       "0  0.0  0.0  0.0  0.0  0.0  0.0  0.0  1.0  0.0  0.0  ...  0.0  0.0  1.0  0.0   \n",
       "\n",
       "    24   25   26   27   28   29  \n",
       "0  0.0  0.0  0.0  0.0  0.0  1.0  \n",
       "\n",
       "[1 rows x 30 columns]"
      ]
     },
     "execution_count": 653,
     "metadata": {},
     "output_type": "execute_result"
    }
   ],
   "source": [
    "hotEncodedCatFeatures.head(1)"
   ]
  },
  {
   "cell_type": "code",
   "execution_count": 655,
   "id": "d1a1568d-93f4-4c26-b276-84a6dab90646",
   "metadata": {},
   "outputs": [],
   "source": [
    "c, encodedFeaturesNames  = getRenameObject(enc, ['key', 'time_signature', 'mode', 'mood', 'instrumentalness_cat'])\n",
    "hotEncodedCatFeatures = hotEncodedCatFeatures.rename(columns=c)"
   ]
  },
  {
   "cell_type": "code",
   "execution_count": 656,
   "id": "6a8bca9c-249b-4319-a3fc-3aa3f5fde583",
   "metadata": {},
   "outputs": [
    {
     "data": {
      "text/html": [
       "<div>\n",
       "<style scoped>\n",
       "    .dataframe tbody tr th:only-of-type {\n",
       "        vertical-align: middle;\n",
       "    }\n",
       "\n",
       "    .dataframe tbody tr th {\n",
       "        vertical-align: top;\n",
       "    }\n",
       "\n",
       "    .dataframe thead th {\n",
       "        text-align: right;\n",
       "    }\n",
       "</style>\n",
       "<table border=\"1\" class=\"dataframe\">\n",
       "  <thead>\n",
       "    <tr style=\"text-align: right;\">\n",
       "      <th></th>\n",
       "      <th>key_0</th>\n",
       "      <th>key_1</th>\n",
       "      <th>key_2</th>\n",
       "      <th>key_3</th>\n",
       "      <th>key_4</th>\n",
       "      <th>key_5</th>\n",
       "      <th>key_6</th>\n",
       "      <th>key_7</th>\n",
       "      <th>key_8</th>\n",
       "      <th>key_9</th>\n",
       "      <th>...</th>\n",
       "      <th>mood_5</th>\n",
       "      <th>mood_6</th>\n",
       "      <th>mood_7</th>\n",
       "      <th>mood_8</th>\n",
       "      <th>mood_9</th>\n",
       "      <th>mood_10</th>\n",
       "      <th>mood_11</th>\n",
       "      <th>instrumentalness_cat_0</th>\n",
       "      <th>instrumentalness_cat_1</th>\n",
       "      <th>instrumentalness_cat_2</th>\n",
       "    </tr>\n",
       "  </thead>\n",
       "  <tbody>\n",
       "    <tr>\n",
       "      <th>0</th>\n",
       "      <td>0.0</td>\n",
       "      <td>0.0</td>\n",
       "      <td>0.0</td>\n",
       "      <td>0.0</td>\n",
       "      <td>0.0</td>\n",
       "      <td>0.0</td>\n",
       "      <td>0.0</td>\n",
       "      <td>1.0</td>\n",
       "      <td>0.0</td>\n",
       "      <td>0.0</td>\n",
       "      <td>...</td>\n",
       "      <td>0.0</td>\n",
       "      <td>0.0</td>\n",
       "      <td>1.0</td>\n",
       "      <td>0.0</td>\n",
       "      <td>0.0</td>\n",
       "      <td>0.0</td>\n",
       "      <td>0.0</td>\n",
       "      <td>0.0</td>\n",
       "      <td>0.0</td>\n",
       "      <td>1.0</td>\n",
       "    </tr>\n",
       "  </tbody>\n",
       "</table>\n",
       "<p>1 rows × 30 columns</p>\n",
       "</div>"
      ],
      "text/plain": [
       "   key_0  key_1  key_2  key_3  key_4  key_5  key_6  key_7  key_8  key_9  ...  \\\n",
       "0    0.0    0.0    0.0    0.0    0.0    0.0    0.0    1.0    0.0    0.0  ...   \n",
       "\n",
       "   mood_5  mood_6  mood_7  mood_8  mood_9  mood_10  mood_11  \\\n",
       "0     0.0     0.0     1.0     0.0     0.0      0.0      0.0   \n",
       "\n",
       "   instrumentalness_cat_0  instrumentalness_cat_1  instrumentalness_cat_2  \n",
       "0                     0.0                     0.0                     1.0  \n",
       "\n",
       "[1 rows x 30 columns]"
      ]
     },
     "execution_count": 656,
     "metadata": {},
     "output_type": "execute_result"
    }
   ],
   "source": [
    "hotEncodedCatFeatures.head(1)"
   ]
  },
  {
   "cell_type": "markdown",
   "id": "c3fdf294-a9f8-469d-8e27-11de67902587",
   "metadata": {},
   "source": [
    "### Checking Variance"
   ]
  },
  {
   "cell_type": "markdown",
   "id": "17449a1e-082e-4e88-ae03-f5b35c340466",
   "metadata": {},
   "source": [
    "\n",
    "<font color=\"blue\"> \n",
    "All columns passed the variance threshold\n",
    "</font>"
   ]
  },
  {
   "cell_type": "code",
   "execution_count": 67,
   "id": "1c21c695-7438-468f-b0fd-b3369b508e6b",
   "metadata": {},
   "outputs": [],
   "source": [
    "continousFeatures = df[['danceability', 'energy', 'speechiness', 'acousticness', 'liveness', 'valence', 'tempo']]"
   ]
  },
  {
   "cell_type": "code",
   "execution_count": 68,
   "id": "f99da521-91dc-4c75-9186-a866e8af150e",
   "metadata": {},
   "outputs": [],
   "source": [
    "from sklearn.feature_selection import VarianceThreshold\n",
    "\n",
    "# Create a VarianceThreshold feature selector\n",
    "sel = VarianceThreshold(threshold=0.001)\n",
    "\n",
    "# Fit the selector to normalized head_df\n",
    "sel.fit(continousFeatures / continousFeatures.mean())\n",
    "\n",
    "# Create a boolean mask\n",
    "mask = sel.get_support()\n",
    "\n",
    "# Apply the mask to create a reduced dataframe\n",
    "reduced_df = continousFeatures.loc[:, mask]"
   ]
  },
  {
   "cell_type": "markdown",
   "id": "dfbaf6dd-a25c-48d2-a3b3-8586c8d66355",
   "metadata": {},
   "source": [
    "#### Dropping ID column"
   ]
  },
  {
   "cell_type": "markdown",
   "id": "fbb6d85e-f8ef-4678-8181-ca977915a1f0",
   "metadata": {},
   "source": [
    "\n",
    "<font color=\"blue\"> \n",
    "Loudness and energy were the features with the highest correlation, which is not a surprise since loudness is a way to represent the intensity of a sound, or in other words the amount of energy in sound waves.\n",
    "</font>"
   ]
  },
  {
   "cell_type": "code",
   "execution_count": 69,
   "id": "d431a845-7415-4e79-8d50-5fe96da04c7a",
   "metadata": {
    "tags": []
   },
   "outputs": [
    {
     "ename": "KeyError",
     "evalue": "\"['instrumentalness_cat'] not found in axis\"",
     "output_type": "error",
     "traceback": [
      "\u001b[0;31m---------------------------------------------------------------------------\u001b[0m",
      "\u001b[0;31mKeyError\u001b[0m                                  Traceback (most recent call last)",
      "\u001b[0;32m<ipython-input-69-8558da2ce131>\u001b[0m in \u001b[0;36m<module>\u001b[0;34m\u001b[0m\n\u001b[0;32m----> 1\u001b[0;31m \u001b[0mdf\u001b[0m \u001b[0;34m=\u001b[0m \u001b[0mdf\u001b[0m\u001b[0;34m.\u001b[0m\u001b[0mdrop\u001b[0m\u001b[0;34m(\u001b[0m\u001b[0;34m[\u001b[0m\u001b[0;34m'key'\u001b[0m\u001b[0;34m,\u001b[0m \u001b[0;34m'time_signature'\u001b[0m\u001b[0;34m,\u001b[0m \u001b[0;34m'mode'\u001b[0m\u001b[0;34m,\u001b[0m \u001b[0;34m'mood'\u001b[0m\u001b[0;34m,\u001b[0m \u001b[0;34m'instrumentalness_cat'\u001b[0m\u001b[0;34m,\u001b[0m \u001b[0;34m'loudness'\u001b[0m\u001b[0;34m]\u001b[0m\u001b[0;34m,\u001b[0m \u001b[0maxis\u001b[0m\u001b[0;34m=\u001b[0m\u001b[0;36m1\u001b[0m\u001b[0;34m)\u001b[0m\u001b[0;34m\u001b[0m\u001b[0;34m\u001b[0m\u001b[0m\n\u001b[0m",
      "\u001b[0;32m/usr/local/lib/python3.9/site-packages/pandas/core/frame.py\u001b[0m in \u001b[0;36mdrop\u001b[0;34m(self, labels, axis, index, columns, level, inplace, errors)\u001b[0m\n\u001b[1;32m   4306\u001b[0m                 \u001b[0mweight\u001b[0m  \u001b[0;36m1.0\u001b[0m     \u001b[0;36m0.8\u001b[0m\u001b[0;34m\u001b[0m\u001b[0;34m\u001b[0m\u001b[0m\n\u001b[1;32m   4307\u001b[0m         \"\"\"\n\u001b[0;32m-> 4308\u001b[0;31m         return super().drop(\n\u001b[0m\u001b[1;32m   4309\u001b[0m             \u001b[0mlabels\u001b[0m\u001b[0;34m=\u001b[0m\u001b[0mlabels\u001b[0m\u001b[0;34m,\u001b[0m\u001b[0;34m\u001b[0m\u001b[0;34m\u001b[0m\u001b[0m\n\u001b[1;32m   4310\u001b[0m             \u001b[0maxis\u001b[0m\u001b[0;34m=\u001b[0m\u001b[0maxis\u001b[0m\u001b[0;34m,\u001b[0m\u001b[0;34m\u001b[0m\u001b[0;34m\u001b[0m\u001b[0m\n",
      "\u001b[0;32m/usr/local/lib/python3.9/site-packages/pandas/core/generic.py\u001b[0m in \u001b[0;36mdrop\u001b[0;34m(self, labels, axis, index, columns, level, inplace, errors)\u001b[0m\n\u001b[1;32m   4151\u001b[0m         \u001b[0;32mfor\u001b[0m \u001b[0maxis\u001b[0m\u001b[0;34m,\u001b[0m \u001b[0mlabels\u001b[0m \u001b[0;32min\u001b[0m \u001b[0maxes\u001b[0m\u001b[0;34m.\u001b[0m\u001b[0mitems\u001b[0m\u001b[0;34m(\u001b[0m\u001b[0;34m)\u001b[0m\u001b[0;34m:\u001b[0m\u001b[0;34m\u001b[0m\u001b[0;34m\u001b[0m\u001b[0m\n\u001b[1;32m   4152\u001b[0m             \u001b[0;32mif\u001b[0m \u001b[0mlabels\u001b[0m \u001b[0;32mis\u001b[0m \u001b[0;32mnot\u001b[0m \u001b[0;32mNone\u001b[0m\u001b[0;34m:\u001b[0m\u001b[0;34m\u001b[0m\u001b[0;34m\u001b[0m\u001b[0m\n\u001b[0;32m-> 4153\u001b[0;31m                 \u001b[0mobj\u001b[0m \u001b[0;34m=\u001b[0m \u001b[0mobj\u001b[0m\u001b[0;34m.\u001b[0m\u001b[0m_drop_axis\u001b[0m\u001b[0;34m(\u001b[0m\u001b[0mlabels\u001b[0m\u001b[0;34m,\u001b[0m \u001b[0maxis\u001b[0m\u001b[0;34m,\u001b[0m \u001b[0mlevel\u001b[0m\u001b[0;34m=\u001b[0m\u001b[0mlevel\u001b[0m\u001b[0;34m,\u001b[0m \u001b[0merrors\u001b[0m\u001b[0;34m=\u001b[0m\u001b[0merrors\u001b[0m\u001b[0;34m)\u001b[0m\u001b[0;34m\u001b[0m\u001b[0;34m\u001b[0m\u001b[0m\n\u001b[0m\u001b[1;32m   4154\u001b[0m \u001b[0;34m\u001b[0m\u001b[0m\n\u001b[1;32m   4155\u001b[0m         \u001b[0;32mif\u001b[0m \u001b[0minplace\u001b[0m\u001b[0;34m:\u001b[0m\u001b[0;34m\u001b[0m\u001b[0;34m\u001b[0m\u001b[0m\n",
      "\u001b[0;32m/usr/local/lib/python3.9/site-packages/pandas/core/generic.py\u001b[0m in \u001b[0;36m_drop_axis\u001b[0;34m(self, labels, axis, level, errors)\u001b[0m\n\u001b[1;32m   4186\u001b[0m                 \u001b[0mnew_axis\u001b[0m \u001b[0;34m=\u001b[0m \u001b[0maxis\u001b[0m\u001b[0;34m.\u001b[0m\u001b[0mdrop\u001b[0m\u001b[0;34m(\u001b[0m\u001b[0mlabels\u001b[0m\u001b[0;34m,\u001b[0m \u001b[0mlevel\u001b[0m\u001b[0;34m=\u001b[0m\u001b[0mlevel\u001b[0m\u001b[0;34m,\u001b[0m \u001b[0merrors\u001b[0m\u001b[0;34m=\u001b[0m\u001b[0merrors\u001b[0m\u001b[0;34m)\u001b[0m\u001b[0;34m\u001b[0m\u001b[0;34m\u001b[0m\u001b[0m\n\u001b[1;32m   4187\u001b[0m             \u001b[0;32melse\u001b[0m\u001b[0;34m:\u001b[0m\u001b[0;34m\u001b[0m\u001b[0;34m\u001b[0m\u001b[0m\n\u001b[0;32m-> 4188\u001b[0;31m                 \u001b[0mnew_axis\u001b[0m \u001b[0;34m=\u001b[0m \u001b[0maxis\u001b[0m\u001b[0;34m.\u001b[0m\u001b[0mdrop\u001b[0m\u001b[0;34m(\u001b[0m\u001b[0mlabels\u001b[0m\u001b[0;34m,\u001b[0m \u001b[0merrors\u001b[0m\u001b[0;34m=\u001b[0m\u001b[0merrors\u001b[0m\u001b[0;34m)\u001b[0m\u001b[0;34m\u001b[0m\u001b[0;34m\u001b[0m\u001b[0m\n\u001b[0m\u001b[1;32m   4189\u001b[0m             \u001b[0mresult\u001b[0m \u001b[0;34m=\u001b[0m \u001b[0mself\u001b[0m\u001b[0;34m.\u001b[0m\u001b[0mreindex\u001b[0m\u001b[0;34m(\u001b[0m\u001b[0;34m**\u001b[0m\u001b[0;34m{\u001b[0m\u001b[0maxis_name\u001b[0m\u001b[0;34m:\u001b[0m \u001b[0mnew_axis\u001b[0m\u001b[0;34m}\u001b[0m\u001b[0;34m)\u001b[0m\u001b[0;34m\u001b[0m\u001b[0;34m\u001b[0m\u001b[0m\n\u001b[1;32m   4190\u001b[0m \u001b[0;34m\u001b[0m\u001b[0m\n",
      "\u001b[0;32m/usr/local/lib/python3.9/site-packages/pandas/core/indexes/base.py\u001b[0m in \u001b[0;36mdrop\u001b[0;34m(self, labels, errors)\u001b[0m\n\u001b[1;32m   5590\u001b[0m         \u001b[0;32mif\u001b[0m \u001b[0mmask\u001b[0m\u001b[0;34m.\u001b[0m\u001b[0many\u001b[0m\u001b[0;34m(\u001b[0m\u001b[0;34m)\u001b[0m\u001b[0;34m:\u001b[0m\u001b[0;34m\u001b[0m\u001b[0;34m\u001b[0m\u001b[0m\n\u001b[1;32m   5591\u001b[0m             \u001b[0;32mif\u001b[0m \u001b[0merrors\u001b[0m \u001b[0;34m!=\u001b[0m \u001b[0;34m\"ignore\"\u001b[0m\u001b[0;34m:\u001b[0m\u001b[0;34m\u001b[0m\u001b[0;34m\u001b[0m\u001b[0m\n\u001b[0;32m-> 5592\u001b[0;31m                 \u001b[0;32mraise\u001b[0m \u001b[0mKeyError\u001b[0m\u001b[0;34m(\u001b[0m\u001b[0;34mf\"{labels[mask]} not found in axis\"\u001b[0m\u001b[0;34m)\u001b[0m\u001b[0;34m\u001b[0m\u001b[0;34m\u001b[0m\u001b[0m\n\u001b[0m\u001b[1;32m   5593\u001b[0m             \u001b[0mindexer\u001b[0m \u001b[0;34m=\u001b[0m \u001b[0mindexer\u001b[0m\u001b[0;34m[\u001b[0m\u001b[0;34m~\u001b[0m\u001b[0mmask\u001b[0m\u001b[0;34m]\u001b[0m\u001b[0;34m\u001b[0m\u001b[0;34m\u001b[0m\u001b[0m\n\u001b[1;32m   5594\u001b[0m         \u001b[0;32mreturn\u001b[0m \u001b[0mself\u001b[0m\u001b[0;34m.\u001b[0m\u001b[0mdelete\u001b[0m\u001b[0;34m(\u001b[0m\u001b[0mindexer\u001b[0m\u001b[0;34m)\u001b[0m\u001b[0;34m\u001b[0m\u001b[0;34m\u001b[0m\u001b[0m\n",
      "\u001b[0;31mKeyError\u001b[0m: \"['instrumentalness_cat'] not found in axis\""
     ]
    }
   ],
   "source": [
    "df = df.drop(['key', 'time_signature', 'mode', 'mood', 'instrumentalness_cat', 'loudness'], axis=1)"
   ]
  },
  {
   "cell_type": "code",
   "execution_count": 70,
   "id": "daa91461-145d-499f-9452-a0d044b326e2",
   "metadata": {},
   "outputs": [
    {
     "ename": "NameError",
     "evalue": "name 'hotEncodedCatFeatures' is not defined",
     "output_type": "error",
     "traceback": [
      "\u001b[0;31m---------------------------------------------------------------------------\u001b[0m",
      "\u001b[0;31mNameError\u001b[0m                                 Traceback (most recent call last)",
      "\u001b[0;32m<ipython-input-70-1dcd006db0ea>\u001b[0m in \u001b[0;36m<module>\u001b[0;34m\u001b[0m\n\u001b[0;32m----> 1\u001b[0;31m \u001b[0mdf\u001b[0m \u001b[0;34m=\u001b[0m \u001b[0mpd\u001b[0m\u001b[0;34m.\u001b[0m\u001b[0mconcat\u001b[0m\u001b[0;34m(\u001b[0m\u001b[0;34m[\u001b[0m\u001b[0mdf\u001b[0m\u001b[0;34m.\u001b[0m\u001b[0mreset_index\u001b[0m\u001b[0;34m(\u001b[0m\u001b[0;34m)\u001b[0m\u001b[0;34m,\u001b[0m \u001b[0mhotEncodedCatFeatures\u001b[0m\u001b[0;34m]\u001b[0m\u001b[0;34m,\u001b[0m \u001b[0maxis\u001b[0m\u001b[0;34m=\u001b[0m\u001b[0;36m1\u001b[0m\u001b[0;34m)\u001b[0m\u001b[0;34m\u001b[0m\u001b[0;34m\u001b[0m\u001b[0m\n\u001b[0m",
      "\u001b[0;31mNameError\u001b[0m: name 'hotEncodedCatFeatures' is not defined"
     ]
    }
   ],
   "source": [
    "df = pd.concat([df.reset_index(), hotEncodedCatFeatures], axis=1)"
   ]
  },
  {
   "cell_type": "code",
   "execution_count": 71,
   "id": "9640420c-fa6e-4428-8f3f-43e8c05a4784",
   "metadata": {},
   "outputs": [
    {
     "data": {
      "text/html": [
       "<div>\n",
       "<style scoped>\n",
       "    .dataframe tbody tr th:only-of-type {\n",
       "        vertical-align: middle;\n",
       "    }\n",
       "\n",
       "    .dataframe tbody tr th {\n",
       "        vertical-align: top;\n",
       "    }\n",
       "\n",
       "    .dataframe thead th {\n",
       "        text-align: right;\n",
       "    }\n",
       "</style>\n",
       "<table border=\"1\" class=\"dataframe\">\n",
       "  <thead>\n",
       "    <tr style=\"text-align: right;\">\n",
       "      <th></th>\n",
       "      <th>id_spotify_track</th>\n",
       "      <th>id_track</th>\n",
       "      <th>danceability</th>\n",
       "      <th>energy</th>\n",
       "      <th>key</th>\n",
       "      <th>loudness</th>\n",
       "      <th>mode</th>\n",
       "      <th>speechiness</th>\n",
       "      <th>acousticness</th>\n",
       "      <th>instrumentalness</th>\n",
       "      <th>...</th>\n",
       "      <th>1276</th>\n",
       "      <th>1278</th>\n",
       "      <th>1281</th>\n",
       "      <th>1286</th>\n",
       "      <th>1287</th>\n",
       "      <th>1288</th>\n",
       "      <th>1290</th>\n",
       "      <th>1292</th>\n",
       "      <th>1294</th>\n",
       "      <th>1295</th>\n",
       "    </tr>\n",
       "    <tr>\n",
       "      <th>id</th>\n",
       "      <th></th>\n",
       "      <th></th>\n",
       "      <th></th>\n",
       "      <th></th>\n",
       "      <th></th>\n",
       "      <th></th>\n",
       "      <th></th>\n",
       "      <th></th>\n",
       "      <th></th>\n",
       "      <th></th>\n",
       "      <th></th>\n",
       "      <th></th>\n",
       "      <th></th>\n",
       "      <th></th>\n",
       "      <th></th>\n",
       "      <th></th>\n",
       "      <th></th>\n",
       "      <th></th>\n",
       "      <th></th>\n",
       "      <th></th>\n",
       "      <th></th>\n",
       "    </tr>\n",
       "  </thead>\n",
       "  <tbody>\n",
       "    <tr>\n",
       "      <th>23</th>\n",
       "      <td>2ap1hCe7wyOWkMJsnIn0V1</td>\n",
       "      <td>1</td>\n",
       "      <td>0.494</td>\n",
       "      <td>0.756</td>\n",
       "      <td>7</td>\n",
       "      <td>-8.504</td>\n",
       "      <td>1</td>\n",
       "      <td>0.0432</td>\n",
       "      <td>0.0014</td>\n",
       "      <td>0.0052</td>\n",
       "      <td>...</td>\n",
       "      <td>0.0</td>\n",
       "      <td>0.0</td>\n",
       "      <td>0.0</td>\n",
       "      <td>0.0</td>\n",
       "      <td>0.0</td>\n",
       "      <td>0.0</td>\n",
       "      <td>0.0</td>\n",
       "      <td>0.0</td>\n",
       "      <td>0.0</td>\n",
       "      <td>0.0</td>\n",
       "    </tr>\n",
       "  </tbody>\n",
       "</table>\n",
       "<p>1 rows × 684 columns</p>\n",
       "</div>"
      ],
      "text/plain": [
       "          id_spotify_track id_track  danceability  energy  key  loudness  \\\n",
       "id                                                                         \n",
       "23  2ap1hCe7wyOWkMJsnIn0V1        1         0.494   0.756    7    -8.504   \n",
       "\n",
       "    mode  speechiness  acousticness  instrumentalness  ...  1276  1278  1281  \\\n",
       "id                                                     ...                     \n",
       "23     1       0.0432        0.0014            0.0052  ...   0.0   0.0   0.0   \n",
       "\n",
       "    1286  1287 1288  1290 1292 1294  1295  \n",
       "id                                         \n",
       "23   0.0   0.0  0.0   0.0  0.0  0.0   0.0  \n",
       "\n",
       "[1 rows x 684 columns]"
      ]
     },
     "execution_count": 71,
     "metadata": {},
     "output_type": "execute_result"
    }
   ],
   "source": [
    "df.head(1)"
   ]
  },
  {
   "cell_type": "code",
   "execution_count": 662,
   "id": "9f70bf36-eb70-49da-814b-9232101d0bc1",
   "metadata": {},
   "outputs": [],
   "source": [
    "os.makedirs('./data', exist_ok=True)  \n",
    "df.to_csv('./data/05-RawData.csv')"
   ]
  },
  {
   "cell_type": "code",
   "execution_count": 663,
   "id": "e95f5f67-6de8-4257-b8fe-c716123810b0",
   "metadata": {},
   "outputs": [],
   "source": [
    "y = pd.Series(encodedFeaturesNames)\n",
    "y.to_csv('./data/05-encodedFeatureNames.csv')\n"
   ]
  },
  {
   "cell_type": "code",
   "execution_count": 664,
   "id": "74c98c60-7b10-44f7-94f7-00fc49aabd8d",
   "metadata": {},
   "outputs": [
    {
     "data": {
      "text/plain": [
       "array(['key_0', 'key_1', 'key_2', 'key_3', 'key_4', 'key_5', 'key_6',\n",
       "       'key_7', 'key_8', 'key_9', 'key_10', 'key_11', 'time_signature_0',\n",
       "       'time_signature_1', 'mode_0', 'mode_1', 'mood_1', 'mood_2',\n",
       "       'mood_3', 'mood_4', 'mood_5', 'mood_6', 'mood_7', 'mood_8',\n",
       "       'mood_9', 'mood_10', 'mood_11', 'instrumentalness_cat_0',\n",
       "       'instrumentalness_cat_1', 'instrumentalness_cat_2'], dtype=object)"
      ]
     },
     "execution_count": 664,
     "metadata": {},
     "output_type": "execute_result"
    }
   ],
   "source": [
    "encodedFeaturesNames"
   ]
  },
  {
   "cell_type": "markdown",
   "id": "9c307bc6-55c1-4e34-8825-02a2903b98a5",
   "metadata": {},
   "source": []
  }
 ],
 "metadata": {
  "kernelspec": {
   "display_name": "Python 3",
   "language": "python",
   "name": "python3"
  },
  "language_info": {
   "codemirror_mode": {
    "name": "ipython",
    "version": 3
   },
   "file_extension": ".py",
   "mimetype": "text/x-python",
   "name": "python",
   "nbconvert_exporter": "python",
   "pygments_lexer": "ipython3",
   "version": "3.9.12"
  }
 },
 "nbformat": 4,
 "nbformat_minor": 5
}
