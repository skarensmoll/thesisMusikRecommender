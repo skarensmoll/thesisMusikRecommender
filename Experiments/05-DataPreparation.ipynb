{
 "cells": [
  {
   "cell_type": "markdown",
   "id": "e6c7226c-4b82-42fa-a594-4ccc30b7e72d",
   "metadata": {},
   "source": [
    "# Data Preparation"
   ]
  },
  {
   "cell_type": "code",
   "execution_count": 39,
   "id": "b3c292c7-465f-409d-9e2b-789d92b796c9",
   "metadata": {},
   "outputs": [],
   "source": [
    "import os \n",
    "import pandas as pd\n",
    "import seaborn as sns\n",
    "from matplotlib import pyplot as plt\n",
    "import numpy as np\n",
    "import plotly.express as px\n",
    "import seaborn as sns\n",
    "from sklearn.preprocessing import OneHotEncoder, KBinsDiscretizer\n",
    "from sklearn.preprocessing import StandardScaler\n",
    "from ipynb.fs.full.Utils import loadDataFrames"
   ]
  },
  {
   "cell_type": "code",
   "execution_count": 40,
   "id": "588a1624-7fa9-4e21-b243-3ed9449f9ff6",
   "metadata": {},
   "outputs": [],
   "source": [
    "def deleteOutliersByField(df, field):\n",
    "    iqr = 1.5 * (np.percentile(df[field], 75)) - (np.percentile(df[field], 25))\n",
    "    greaterThan75 = df[df[field] > (iqr + np.percentile(df[field], 75))]\n",
    "    print('amount of rows to delete greater than 75' , len(greaterThan75))\n",
    "    lesserThan25 = df[df[field] < (np.percentile(df[field], 25) - iqr )]\n",
    "    print('amount of rows to delete lesser than 25' , len(lesserThan25))\n",
    "    df.drop(greaterThan75.index, inplace = True)\n",
    "    df.drop(lesserThan25.index, inplace = True)\n",
    "    \n",
    "def printNewShapeDF(df):\n",
    "    print('::: New Shape Dataframe', df.shape)\n",
    "    \n",
    "def getRenameObject(enc, columnNames):\n",
    "    encodedFeaturesNames = enc.get_feature_names_out(columnNames)\n",
    "    columns = {}\n",
    "    for i in range(0,len(encodedFeaturesNames)):\n",
    "        columns[i] = encodedFeaturesNames[i]\n",
    "    return columns, encodedFeaturesNames\n",
    "\n",
    "\n",
    "## -0.000999, 0.000186]    1\n",
    "## (0.000186, 0.985]       2\n",
    "##  0 = 0\n",
    "\n",
    "def getInstrumentalnessCat(row):\n",
    "    inst = row.instrumentalness\n",
    "    if inst == 0:\n",
    "        val = 0\n",
    "    elif inst >= -0.000999 and inst < 0.000186:\n",
    "        val = 1\n",
    "    else:\n",
    "        val = 2\n",
    "    return val"
   ]
  },
  {
   "cell_type": "code",
   "execution_count": 41,
   "id": "b11a8889-dc79-45f1-9080-c29dbfe9c98a",
   "metadata": {},
   "outputs": [],
   "source": [
    "spotifyFeatures, transitionMatrices, df = loadDataFrames()"
   ]
  },
  {
   "cell_type": "code",
   "execution_count": 42,
   "id": "222282f5-7b40-4509-8bf6-5e33da537216",
   "metadata": {},
   "outputs": [
    {
     "name": "stdout",
     "output_type": "stream",
     "text": [
      "fraction of unique values over the sample size 0.1528683726375648\n",
      "The ratio of the frequency of the most prevalent value to the frequency of the second most prevalent value is large 0.1528683726375648\n"
     ]
    }
   ],
   "source": [
    "columnName = 'speechiness'\n",
    "numOfUniqueValues = len(df[columnName].value_counts())\n",
    "print( 'fraction of unique values over the sample size', numOfUniqueValues / len(df) )\n",
    "print( 'The ratio of the frequency of the most prevalent value to the frequency of the second most prevalent value is large', numOfUniqueValues / len(df) )"
   ]
  },
  {
   "cell_type": "markdown",
   "id": "07b53dc3-b844-4e29-ae7a-b258d0cdf2d5",
   "metadata": {},
   "source": [
    "## Rule of thumb from book applied predictive modeling related to variance"
   ]
  },
  {
   "cell_type": "markdown",
   "id": "0042f165-15c2-4d51-b6ac-7788898aa381",
   "metadata": {},
   "source": [
    "- The fraction of unique values over the sample size is low (say 10 %).\n",
    "- The ratio of the frequency of the most prevalent value to the frequency of the second most prevalent value is large (say around 20).\n",
    "\n",
    "\n",
    "If both of these criteria are true and the model in question is susceptible to this type of predictor, it may be advantageous to remove the variable from the model.\n"
   ]
  },
  {
   "cell_type": "markdown",
   "id": "47388edc-4130-48bd-a478-32f164574a39",
   "metadata": {},
   "source": [
    "## Cleaning Data"
   ]
  },
  {
   "cell_type": "code",
   "execution_count": 43,
   "id": "6a987573-f832-4519-ab38-c27b51f7c3fa",
   "metadata": {},
   "outputs": [
    {
     "name": "stdout",
     "output_type": "stream",
     "text": [
      "spotifyFeatures len : 5992\n",
      "transitionMatrices len : 5980\n"
     ]
    }
   ],
   "source": [
    "print('spotifyFeatures len :', len(spotifyFeatures))\n",
    "print('transitionMatrices len :', len(transitionMatrices))"
   ]
  },
  {
   "cell_type": "code",
   "execution_count": 44,
   "id": "736fe5e3-6d5b-45cd-9dc5-e86095c1746b",
   "metadata": {},
   "outputs": [
    {
     "data": {
      "text/html": [
       "<div>\n",
       "<style scoped>\n",
       "    .dataframe tbody tr th:only-of-type {\n",
       "        vertical-align: middle;\n",
       "    }\n",
       "\n",
       "    .dataframe tbody tr th {\n",
       "        vertical-align: top;\n",
       "    }\n",
       "\n",
       "    .dataframe thead th {\n",
       "        text-align: right;\n",
       "    }\n",
       "</style>\n",
       "<table border=\"1\" class=\"dataframe\">\n",
       "  <thead>\n",
       "    <tr style=\"text-align: right;\">\n",
       "      <th></th>\n",
       "      <th>id</th>\n",
       "      <th>id_spotify_track</th>\n",
       "      <th>id_track</th>\n",
       "      <th>danceability</th>\n",
       "      <th>energy</th>\n",
       "      <th>key</th>\n",
       "      <th>loudness</th>\n",
       "      <th>mode</th>\n",
       "      <th>speechiness</th>\n",
       "      <th>acousticness</th>\n",
       "      <th>...</th>\n",
       "      <th>1284</th>\n",
       "      <th>1286</th>\n",
       "      <th>1287</th>\n",
       "      <th>1288</th>\n",
       "      <th>1290</th>\n",
       "      <th>1291</th>\n",
       "      <th>1292</th>\n",
       "      <th>1293</th>\n",
       "      <th>1294</th>\n",
       "      <th>1295</th>\n",
       "    </tr>\n",
       "  </thead>\n",
       "  <tbody>\n",
       "  </tbody>\n",
       "</table>\n",
       "<p>0 rows × 1058 columns</p>\n",
       "</div>"
      ],
      "text/plain": [
       "Empty DataFrame\n",
       "Columns: [id, id_spotify_track, id_track, danceability, energy, key, loudness, mode, speechiness, acousticness, instrumentalness, liveness, valence, tempo, duration_ms, time_signature, name, popularity, album_name, release_date, mood, 0, 1, 2, 3, 4, 5, 6, 7, 8, 9, 10, 11, 12, 13, 14, 15, 16, 17, 18, 19, 20, 21, 22, 23, 24, 25, 26, 27, 28, 29, 30, 31, 32, 33, 34, 35, 36, 37, 38, 39, 40, 41, 42, 43, 44, 45, 47, 48, 50, 51, 52, 53, 54, 55, 56, 57, 58, 60, 61, 62, 63, 64, 66, 67, 68, 69, 71, 72, 73, 74, 77, 78, 79, 83, 84, 86, 87, 88, 90, ...]\n",
       "Index: []\n",
       "\n",
       "[0 rows x 1058 columns]"
      ]
     },
     "execution_count": 44,
     "metadata": {},
     "output_type": "execute_result"
    }
   ],
   "source": [
    "df[df.duplicated(subset=['id_track'])]"
   ]
  },
  {
   "cell_type": "code",
   "execution_count": 45,
   "id": "147cc9f7-e50c-4a5b-8fd8-2e7138ab8f30",
   "metadata": {},
   "outputs": [
    {
     "data": {
      "text/plain": [
       "1058"
      ]
     },
     "execution_count": 45,
     "metadata": {},
     "output_type": "execute_result"
    }
   ],
   "source": [
    "len(df.columns.tolist())"
   ]
  },
  {
   "cell_type": "code",
   "execution_count": 46,
   "id": "affeaaf4-b534-48f8-9ddd-77fb62080133",
   "metadata": {
    "tags": []
   },
   "outputs": [
    {
     "data": {
      "text/plain": [
       "Index(['key', 'mode', 'time_signature', 'mood', '8', '10', '13', '17', '19',\n",
       "       '23',\n",
       "       ...\n",
       "       '1276', '1279', '1280', '1282', '1284', '1290', '1291', '1293', '1294',\n",
       "       '1295'],\n",
       "      dtype='object', length=549)"
      ]
     },
     "execution_count": 46,
     "metadata": {},
     "output_type": "execute_result"
    }
   ],
   "source": [
    "s = df.nunique(axis=0)\n",
    "s[s < 15].index"
   ]
  },
  {
   "cell_type": "code",
   "execution_count": 47,
   "id": "e3972dfb-b71b-49d3-b51a-f322a9084ee4",
   "metadata": {},
   "outputs": [
    {
     "data": {
      "text/plain": [
       "Index(['id_spotify_track', 'id_track', 'danceability', 'energy', 'key',\n",
       "       'loudness', 'mode', 'speechiness', 'acousticness', 'instrumentalness',\n",
       "       'liveness', 'valence', 'tempo', 'duration_ms', 'time_signature', 'name',\n",
       "       'popularity', 'album_name', 'release_date', 'mood'],\n",
       "      dtype='object')"
      ]
     },
     "execution_count": 47,
     "metadata": {},
     "output_type": "execute_result"
    }
   ],
   "source": [
    "spotifyFeatures.columns"
   ]
  },
  {
   "cell_type": "markdown",
   "id": "53113f88-0519-43cf-b250-f0ba29263400",
   "metadata": {},
   "source": [
    "## Removing useless columns"
   ]
  },
  {
   "cell_type": "code",
   "execution_count": 48,
   "id": "2aac325d-4232-4fb0-a155-245075f526ac",
   "metadata": {},
   "outputs": [],
   "source": [
    "df = df.drop(['id_spotify_track', 'id_track', 'popularity', 'duration_ms', 'release_date', 'name', 'album_name'], axis=1)"
   ]
  },
  {
   "cell_type": "code",
   "execution_count": 49,
   "id": "ca69de3e-0d50-4cd9-8986-182d3858dda5",
   "metadata": {},
   "outputs": [
    {
     "data": {
      "text/html": [
       "<div>\n",
       "<style scoped>\n",
       "    .dataframe tbody tr th:only-of-type {\n",
       "        vertical-align: middle;\n",
       "    }\n",
       "\n",
       "    .dataframe tbody tr th {\n",
       "        vertical-align: top;\n",
       "    }\n",
       "\n",
       "    .dataframe thead th {\n",
       "        text-align: right;\n",
       "    }\n",
       "</style>\n",
       "<table border=\"1\" class=\"dataframe\">\n",
       "  <thead>\n",
       "    <tr style=\"text-align: right;\">\n",
       "      <th></th>\n",
       "      <th>id</th>\n",
       "      <th>danceability</th>\n",
       "      <th>energy</th>\n",
       "      <th>key</th>\n",
       "      <th>loudness</th>\n",
       "      <th>mode</th>\n",
       "      <th>speechiness</th>\n",
       "      <th>acousticness</th>\n",
       "      <th>instrumentalness</th>\n",
       "      <th>liveness</th>\n",
       "      <th>...</th>\n",
       "      <th>1284</th>\n",
       "      <th>1286</th>\n",
       "      <th>1287</th>\n",
       "      <th>1288</th>\n",
       "      <th>1290</th>\n",
       "      <th>1291</th>\n",
       "      <th>1292</th>\n",
       "      <th>1293</th>\n",
       "      <th>1294</th>\n",
       "      <th>1295</th>\n",
       "    </tr>\n",
       "  </thead>\n",
       "  <tbody>\n",
       "    <tr>\n",
       "      <th>0</th>\n",
       "      <td>23</td>\n",
       "      <td>0.494</td>\n",
       "      <td>0.756</td>\n",
       "      <td>7</td>\n",
       "      <td>-8.504</td>\n",
       "      <td>1</td>\n",
       "      <td>0.0432</td>\n",
       "      <td>0.001400</td>\n",
       "      <td>0.005200</td>\n",
       "      <td>0.1640</td>\n",
       "      <td>...</td>\n",
       "      <td>0.0</td>\n",
       "      <td>0.0</td>\n",
       "      <td>0.0</td>\n",
       "      <td>0.0</td>\n",
       "      <td>0.0</td>\n",
       "      <td>0.0</td>\n",
       "      <td>0.0</td>\n",
       "      <td>0.0</td>\n",
       "      <td>0.0</td>\n",
       "      <td>0.0</td>\n",
       "    </tr>\n",
       "    <tr>\n",
       "      <th>1</th>\n",
       "      <td>105</td>\n",
       "      <td>0.582</td>\n",
       "      <td>0.744</td>\n",
       "      <td>7</td>\n",
       "      <td>-9.155</td>\n",
       "      <td>1</td>\n",
       "      <td>0.0336</td>\n",
       "      <td>0.000458</td>\n",
       "      <td>0.001320</td>\n",
       "      <td>0.0405</td>\n",
       "      <td>...</td>\n",
       "      <td>0.0</td>\n",
       "      <td>0.0</td>\n",
       "      <td>0.0</td>\n",
       "      <td>0.0</td>\n",
       "      <td>0.0</td>\n",
       "      <td>0.0</td>\n",
       "      <td>0.0</td>\n",
       "      <td>0.0</td>\n",
       "      <td>0.0</td>\n",
       "      <td>0.0</td>\n",
       "    </tr>\n",
       "    <tr>\n",
       "      <th>2</th>\n",
       "      <td>118</td>\n",
       "      <td>0.614</td>\n",
       "      <td>0.755</td>\n",
       "      <td>2</td>\n",
       "      <td>-5.829</td>\n",
       "      <td>1</td>\n",
       "      <td>0.0276</td>\n",
       "      <td>0.016200</td>\n",
       "      <td>0.000002</td>\n",
       "      <td>0.0831</td>\n",
       "      <td>...</td>\n",
       "      <td>0.0</td>\n",
       "      <td>0.0</td>\n",
       "      <td>0.0</td>\n",
       "      <td>0.0</td>\n",
       "      <td>0.0</td>\n",
       "      <td>0.0</td>\n",
       "      <td>0.0</td>\n",
       "      <td>0.0</td>\n",
       "      <td>0.0</td>\n",
       "      <td>0.0</td>\n",
       "    </tr>\n",
       "    <tr>\n",
       "      <th>3</th>\n",
       "      <td>120</td>\n",
       "      <td>0.319</td>\n",
       "      <td>0.807</td>\n",
       "      <td>11</td>\n",
       "      <td>-6.504</td>\n",
       "      <td>0</td>\n",
       "      <td>0.0388</td>\n",
       "      <td>0.001040</td>\n",
       "      <td>0.290000</td>\n",
       "      <td>0.1310</td>\n",
       "      <td>...</td>\n",
       "      <td>0.0</td>\n",
       "      <td>0.0</td>\n",
       "      <td>0.0</td>\n",
       "      <td>0.0</td>\n",
       "      <td>0.0</td>\n",
       "      <td>0.0</td>\n",
       "      <td>0.0</td>\n",
       "      <td>0.0</td>\n",
       "      <td>0.0</td>\n",
       "      <td>0.0</td>\n",
       "    </tr>\n",
       "    <tr>\n",
       "      <th>4</th>\n",
       "      <td>292</td>\n",
       "      <td>0.496</td>\n",
       "      <td>0.527</td>\n",
       "      <td>6</td>\n",
       "      <td>-7.234</td>\n",
       "      <td>1</td>\n",
       "      <td>0.0339</td>\n",
       "      <td>0.195000</td>\n",
       "      <td>0.000000</td>\n",
       "      <td>0.1380</td>\n",
       "      <td>...</td>\n",
       "      <td>0.0</td>\n",
       "      <td>0.0</td>\n",
       "      <td>0.0</td>\n",
       "      <td>0.0</td>\n",
       "      <td>0.0</td>\n",
       "      <td>0.0</td>\n",
       "      <td>0.0</td>\n",
       "      <td>0.0</td>\n",
       "      <td>0.0</td>\n",
       "      <td>0.0</td>\n",
       "    </tr>\n",
       "  </tbody>\n",
       "</table>\n",
       "<p>5 rows × 1051 columns</p>\n",
       "</div>"
      ],
      "text/plain": [
       "    id  danceability  energy  key  loudness  mode  speechiness  acousticness  \\\n",
       "0   23         0.494   0.756    7    -8.504     1       0.0432      0.001400   \n",
       "1  105         0.582   0.744    7    -9.155     1       0.0336      0.000458   \n",
       "2  118         0.614   0.755    2    -5.829     1       0.0276      0.016200   \n",
       "3  120         0.319   0.807   11    -6.504     0       0.0388      0.001040   \n",
       "4  292         0.496   0.527    6    -7.234     1       0.0339      0.195000   \n",
       "\n",
       "   instrumentalness  liveness  ...  1284  1286  1287  1288  1290  1291  1292  \\\n",
       "0          0.005200    0.1640  ...   0.0   0.0   0.0   0.0   0.0   0.0   0.0   \n",
       "1          0.001320    0.0405  ...   0.0   0.0   0.0   0.0   0.0   0.0   0.0   \n",
       "2          0.000002    0.0831  ...   0.0   0.0   0.0   0.0   0.0   0.0   0.0   \n",
       "3          0.290000    0.1310  ...   0.0   0.0   0.0   0.0   0.0   0.0   0.0   \n",
       "4          0.000000    0.1380  ...   0.0   0.0   0.0   0.0   0.0   0.0   0.0   \n",
       "\n",
       "   1293  1294  1295  \n",
       "0   0.0   0.0   0.0  \n",
       "1   0.0   0.0   0.0  \n",
       "2   0.0   0.0   0.0  \n",
       "3   0.0   0.0   0.0  \n",
       "4   0.0   0.0   0.0  \n",
       "\n",
       "[5 rows x 1051 columns]"
      ]
     },
     "execution_count": 49,
     "metadata": {},
     "output_type": "execute_result"
    }
   ],
   "source": [
    "df.head()"
   ]
  },
  {
   "cell_type": "markdown",
   "id": "fd1f3177-711b-4875-b1ce-c1a94a60d49b",
   "metadata": {},
   "source": [
    "## Checking Skewness [here](https://www.spcforexcel.com/knowledge/basic-statistics/are-skewness-and-kurtosis-useful-statistics#:~:text=If%20the%20skewness%20is%20between,the%20data%20are%20highly%20skewed)"
   ]
  },
  {
   "cell_type": "markdown",
   "id": "cae79348-f364-4775-a94b-2f114cb93275",
   "metadata": {},
   "source": [
    "<font color=\"blue\"> \n",
    "Analyzing the skewness of the continous variables it is found that:\n",
    "</font>\n",
    "\n",
    "    \n",
    "Fairly Simetrical (-0.5, 0.5):\n",
    "- danceability\n",
    "- energy\n",
    "- valence\n",
    "- tempo\n",
    "    \n",
    "Moderately skewed (-1, 0.5) or (0.5, 1)\n",
    "- acousticness\n",
    "\n",
    "Highely skewed less than -1 or greater than 1\n",
    "- instrumentalness\n",
    "- liveness\n",
    "- speechiness\n",
    "- loudness"
   ]
  },
  {
   "cell_type": "code",
   "execution_count": 50,
   "id": "4bfa4c5f-93e5-4e5a-b3ec-7c98ac3efb4e",
   "metadata": {},
   "outputs": [],
   "source": [
    "continousVariables = ['loudness', 'danceability','energy', 'speechiness', 'acousticness', 'instrumentalness', 'liveness', 'valence', 'tempo']"
   ]
  },
  {
   "cell_type": "code",
   "execution_count": 51,
   "id": "91a22721-e17e-411e-aaa8-4abdcc8aeaa2",
   "metadata": {},
   "outputs": [
    {
     "data": {
      "text/plain": [
       "loudness           -1.430149\n",
       "danceability       -0.222107\n",
       "energy             -0.359300\n",
       "speechiness         4.312946\n",
       "acousticness        0.687379\n",
       "instrumentalness    3.365741\n",
       "liveness            2.461755\n",
       "valence             0.163496\n",
       "tempo               0.429819\n",
       "dtype: float64"
      ]
     },
     "execution_count": 51,
     "metadata": {},
     "output_type": "execute_result"
    }
   ],
   "source": [
    "df[continousVariables].skew(axis = 0, skipna = True)"
   ]
  },
  {
   "cell_type": "markdown",
   "id": "d2e460e5-23b5-4ef7-9d4a-8eff6f733e3f",
   "metadata": {},
   "source": [
    "### Check columns with low variance"
   ]
  },
  {
   "cell_type": "code",
   "execution_count": 52,
   "id": "882ee51c-645d-4547-834c-c120fae69fff",
   "metadata": {},
   "outputs": [
    {
     "data": {
      "text/plain": [
       "id_track            1.967998e+13\n",
       "danceability        2.523056e-02\n",
       "energy              5.266206e-02\n",
       "key                 1.253987e+01\n",
       "loudness            1.555073e+01\n",
       "mode                2.095932e-01\n",
       "speechiness         2.988320e-03\n",
       "acousticness        9.763417e-02\n",
       "instrumentalness    4.297431e-02\n",
       "liveness            2.961088e-02\n",
       "valence             5.882719e-02\n",
       "tempo               8.774343e+02\n",
       "duration_ms         5.206068e+09\n",
       "time_signature      1.135787e-01\n",
       "popularity          3.431477e+02\n",
       "mood                9.774175e+00\n",
       "dtype: float64"
      ]
     },
     "execution_count": 52,
     "metadata": {},
     "output_type": "execute_result"
    }
   ],
   "source": [
    "spotifyFeatures.var()"
   ]
  },
  {
   "cell_type": "markdown",
   "id": "192e0ce8-fbae-4974-b5a1-d5da7eaa5feb",
   "metadata": {},
   "source": [
    "# (?) Check whether its better to apply outliers techniques, although this logic is being infered from descriptions and data"
   ]
  },
  {
   "cell_type": "code",
   "execution_count": 53,
   "id": "ec67b699-343f-4b8b-9423-99a8e5b62298",
   "metadata": {},
   "outputs": [
    {
     "data": {
      "image/png": "[encoded data removed]",
      "text/plain": [
       "<Figure size 1080x1296 with 9 Axes>"
      ]
     },
     "metadata": {
      "needs_background": "light"
     },
     "output_type": "display_data"
    }
   ],
   "source": [
    "plt.figure(figsize=(15,18))\n",
    "\n",
    "numRows = 5\n",
    "numColumns = 2\n",
    "\n",
    "plt.subplot(numRows, numColumns, 1); \n",
    "sns.histplot(df['speechiness'])\n",
    "\n",
    "plt.subplot(numRows,numColumns,2)\n",
    "sns.histplot(df['loudness'])\n",
    "\n",
    "plt.subplot(numRows, numColumns, 3);\n",
    "sns.histplot(df['acousticness'])\n",
    "\n",
    "plt.subplot(numRows, numColumns, 4);\n",
    "sns.histplot(df['liveness'])\n",
    "\n",
    "plt.subplot(numRows, numColumns, 5);\n",
    "sns.histplot(df['instrumentalness'])\n",
    "\n",
    "plt.subplot(numRows, numColumns, 6); \n",
    "sns.histplot(df['danceability'])\n",
    "\n",
    "plt.subplot(numRows, numColumns, 7); \n",
    "sns.histplot(df['valence'])\n",
    "\n",
    "plt.subplot(numRows, numColumns, 8); \n",
    "sns.histplot(df['energy'])\n",
    "\n",
    "plt.subplot(numRows, numColumns, 9); \n",
    "sns.histplot(df['tempo'])\n",
    "\n",
    "\n",
    "plt.show()"
   ]
  },
  {
   "cell_type": "code",
   "execution_count": 54,
   "id": "031da3dd-179a-47a5-9eae-5fde2373c4af",
   "metadata": {
    "tags": []
   },
   "outputs": [
    {
     "data": {
      "text/plain": [
       "<AxesSubplot:xlabel='tempo', ylabel='Density'>"
      ]
     },
     "execution_count": 54,
     "metadata": {},
     "output_type": "execute_result"
    },
    {
     "data": {
      "image/png": "[encoded data removed]",
      "text/plain": [
       "<Figure size 1080x1296 with 9 Axes>"
      ]
     },
     "metadata": {
      "needs_background": "light"
     },
     "output_type": "display_data"
    }
   ],
   "source": [
    "plt.figure(figsize=(15,18))\n",
    "\n",
    "numRows = 5\n",
    "numColumns = 2\n",
    "\n",
    "plt.subplot(numRows, numColumns, 1); \n",
    "sns.kdeplot(data=df, x=\"speechiness\")\n",
    "\n",
    "plt.subplot(numRows, numColumns,2)\n",
    "sns.kdeplot(data=df, x=\"loudness\")\n",
    "\n",
    "plt.subplot(numRows, numColumns, 3);\n",
    "sns.kdeplot(data=df, x=\"acousticness\")\n",
    "\n",
    "plt.subplot(numRows, numColumns, 4);\n",
    "sns.kdeplot(data=df, x=\"liveness\")\n",
    "\n",
    "plt.subplot(numRows, numColumns,5);\n",
    "sns.kdeplot(data=df, x=\"instrumentalness\")\n",
    "\n",
    "plt.subplot(numRows, numColumns, 6); \n",
    "sns.kdeplot(df['danceability'])\n",
    "\n",
    "plt.subplot(numRows, numColumns, 7); \n",
    "sns.kdeplot(df['valence'])\n",
    "\n",
    "plt.subplot(numRows, numColumns, 8); \n",
    "sns.kdeplot(df['energy'])\n",
    "\n",
    "plt.subplot(numRows, numColumns, 9); \n",
    "sns.kdeplot(df['tempo'])\n",
    "\n"
   ]
  },
  {
   "cell_type": "markdown",
   "id": "e37dcbd5-610e-4cbd-b767-a0eb241a926e",
   "metadata": {},
   "source": [
    "## Speechiness\n",
    "\n",
    "One way to do it would be to rely merely on the data understanding too.\n",
    "df = df.loc[df.speechiness <= 0.33]"
   ]
  },
  {
   "cell_type": "markdown",
   "id": "30104b09-09e0-45b4-874a-7dc109ab483c",
   "metadata": {},
   "source": [
    "<font color=\"blue\"> \n",
    "    \n",
    "It was found there was not a high representation for tracks with speech-like tracks, only 18 register fit under this category. Therefore an outlier treatment was applied for this case. The skewness went from highly to moderate.\n",
    "</font>"
   ]
  },
  {
   "cell_type": "code",
   "execution_count": 55,
   "id": "2527ce5c-1736-4070-a46b-9886cd13b2e5",
   "metadata": {},
   "outputs": [
    {
     "data": {
      "text/plain": [
       "count    5979.000000\n",
       "mean        0.058277\n",
       "std         0.054365\n",
       "min         0.022400\n",
       "25%         0.031800\n",
       "50%         0.039700\n",
       "75%         0.059600\n",
       "max         0.867000\n",
       "Name: speechiness, dtype: float64"
      ]
     },
     "execution_count": 55,
     "metadata": {},
     "output_type": "execute_result"
    }
   ],
   "source": [
    "df.speechiness.describe()"
   ]
  },
  {
   "cell_type": "code",
   "execution_count": 56,
   "id": "a5537722-450c-4216-9781-3d05b2ae1af1",
   "metadata": {},
   "outputs": [
    {
     "data": {
      "text/plain": [
       "51"
      ]
     },
     "execution_count": 56,
     "metadata": {},
     "output_type": "execute_result"
    }
   ],
   "source": [
    "len(df.loc[df.speechiness > 0.33][['speechiness']])"
   ]
  },
  {
   "cell_type": "markdown",
   "id": "120f86c4-0b90-4681-8c6d-a2203c003612",
   "metadata": {},
   "source": [
    "### Checking Variance"
   ]
  },
  {
   "cell_type": "code",
   "execution_count": 57,
   "id": "5e818e56-8d5c-46ba-afaa-aec40e8008a9",
   "metadata": {},
   "outputs": [
    {
     "name": "stdout",
     "output_type": "stream",
     "text": [
      "0.002955545840969209\n"
     ]
    }
   ],
   "source": [
    "print(df.speechiness.var())"
   ]
  },
  {
   "cell_type": "code",
   "execution_count": 58,
   "id": "483aa70d-8bc8-4408-a017-69f876865ff6",
   "metadata": {},
   "outputs": [
    {
     "data": {
      "text/plain": [
       "0.0278    38\n",
       "0.0296    35\n",
       "0.0299    32\n",
       "0.0324    32\n",
       "0.0286    32\n",
       "          ..\n",
       "0.0997     1\n",
       "0.0923     1\n",
       "0.0908     1\n",
       "0.0879     1\n",
       "0.1960     1\n",
       "Name: speechiness, Length: 914, dtype: int64"
      ]
     },
     "execution_count": 58,
     "metadata": {},
     "output_type": "execute_result"
    }
   ],
   "source": [
    "df.speechiness.value_counts()"
   ]
  },
  {
   "cell_type": "code",
   "execution_count": 59,
   "id": "fb71d1f9-b612-467c-ad07-eb9458045c6f",
   "metadata": {},
   "outputs": [
    {
     "name": "stderr",
     "output_type": "stream",
     "text": [
      "/usr/local/lib/python3.9/site-packages/seaborn/_decorators.py:36: FutureWarning: Pass the following variable as a keyword arg: x. From version 0.12, the only valid positional argument will be `data`, and passing other arguments without an explicit keyword will result in an error or misinterpretation.\n",
      "  warnings.warn(\n"
     ]
    },
    {
     "data": {
      "image/png": "[encoded data removed]",
      "text/plain": [
       "<Figure size 720x288 with 1 Axes>"
      ]
     },
     "metadata": {
      "needs_background": "light"
     },
     "output_type": "display_data"
    }
   ],
   "source": [
    "\n",
    "plt.figure(figsize=(10,4))\n",
    "plt.title('Box plot')\n",
    "sns.boxplot(df.speechiness)\n",
    "plt.show()"
   ]
  },
  {
   "cell_type": "code",
   "execution_count": 60,
   "id": "5c4c1c37-9188-4c06-902c-fa874adffa0a",
   "metadata": {},
   "outputs": [
    {
     "data": {
      "text/plain": [
       "<Figure size 720x288 with 0 Axes>"
      ]
     },
     "metadata": {},
     "output_type": "display_data"
    },
    {
     "data": {
      "image/png": "[encoded data removed]",
      "text/plain": [
       "<Figure size 432x288 with 1 Axes>"
      ]
     },
     "metadata": {
      "needs_background": "light"
     },
     "output_type": "display_data"
    }
   ],
   "source": [
    "from statsmodels.graphics.gofplots import qqplot\n",
    "plt.figure(figsize=(10,4))\n",
    "qqplot(df.speechiness, line='s')\n",
    "plt.show()"
   ]
  },
  {
   "cell_type": "code",
   "execution_count": 65,
   "id": "c7213435-dea1-4ac9-8cac-f29a97bdc252",
   "metadata": {},
   "outputs": [
    {
     "name": "stdout",
     "output_type": "stream",
     "text": [
      "less than 0.33          |  0.9914701455092825 5928\n",
      "btw than 0.33 and 0.66  |  0.008195350393042315 49\n",
      "over than 0.5           |  0.0003345040976751965 2\n"
     ]
    }
   ],
   "source": [
    "totalRows = len(df.speechiness)\n",
    "range1 = len(df.speechiness[df.speechiness <= 0.33])\n",
    "range2 = len(df.speechiness.loc[(df.speechiness >= 0.33) & (df.speechiness < 0.66)])\n",
    "range3 = len(df.speechiness.loc[(df.speechiness >= 0.66)])\n",
    "\n",
    "\n",
    "print('less than 0.33          | ', range1/totalRows , str(round(range1, 2)) )\n",
    "print('btw than 0.33 and 0.66  | ', range2/totalRows , str(round(range2, 2)))\n",
    "print('over than 0.5           | ', range3/totalRows, str(round(range3, 2)))"
   ]
  },
  {
   "cell_type": "code",
   "execution_count": 63,
   "id": "0b74d2f8-bdf2-4be8-aa37-5b72e00ed920",
   "metadata": {},
   "outputs": [
    {
     "data": {
      "text/plain": [
       "2"
      ]
     },
     "execution_count": 63,
     "metadata": {},
     "output_type": "execute_result"
    }
   ],
   "source": [
    "range2"
   ]
  },
  {
   "cell_type": "code",
   "execution_count": 64,
   "id": "3b857a43-5e99-4a9f-b223-fdd435bf1a5c",
   "metadata": {},
   "outputs": [
    {
     "data": {
      "text/html": [
       "<div>\n",
       "<style scoped>\n",
       "    .dataframe tbody tr th:only-of-type {\n",
       "        vertical-align: middle;\n",
       "    }\n",
       "\n",
       "    .dataframe tbody tr th {\n",
       "        vertical-align: top;\n",
       "    }\n",
       "\n",
       "    .dataframe thead th {\n",
       "        text-align: right;\n",
       "    }\n",
       "</style>\n",
       "<table border=\"1\" class=\"dataframe\">\n",
       "  <thead>\n",
       "    <tr style=\"text-align: right;\">\n",
       "      <th></th>\n",
       "      <th>id</th>\n",
       "      <th>danceability</th>\n",
       "      <th>energy</th>\n",
       "      <th>key</th>\n",
       "      <th>loudness</th>\n",
       "      <th>mode</th>\n",
       "      <th>speechiness</th>\n",
       "      <th>acousticness</th>\n",
       "      <th>instrumentalness</th>\n",
       "      <th>liveness</th>\n",
       "      <th>...</th>\n",
       "      <th>1284</th>\n",
       "      <th>1286</th>\n",
       "      <th>1287</th>\n",
       "      <th>1288</th>\n",
       "      <th>1290</th>\n",
       "      <th>1291</th>\n",
       "      <th>1292</th>\n",
       "      <th>1293</th>\n",
       "      <th>1294</th>\n",
       "      <th>1295</th>\n",
       "    </tr>\n",
       "  </thead>\n",
       "  <tbody>\n",
       "    <tr>\n",
       "      <th>2123</th>\n",
       "      <td>1045577</td>\n",
       "      <td>0.553</td>\n",
       "      <td>0.521</td>\n",
       "      <td>2</td>\n",
       "      <td>-15.263</td>\n",
       "      <td>1</td>\n",
       "      <td>0.861</td>\n",
       "      <td>0.663</td>\n",
       "      <td>0.000000</td>\n",
       "      <td>0.193</td>\n",
       "      <td>...</td>\n",
       "      <td>0.0</td>\n",
       "      <td>0.0</td>\n",
       "      <td>0.0</td>\n",
       "      <td>0.0</td>\n",
       "      <td>0.0</td>\n",
       "      <td>0.0</td>\n",
       "      <td>0.0</td>\n",
       "      <td>0.0</td>\n",
       "      <td>0.0</td>\n",
       "      <td>0.0</td>\n",
       "    </tr>\n",
       "    <tr>\n",
       "      <th>4313</th>\n",
       "      <td>6000827</td>\n",
       "      <td>0.673</td>\n",
       "      <td>0.285</td>\n",
       "      <td>5</td>\n",
       "      <td>-14.143</td>\n",
       "      <td>1</td>\n",
       "      <td>0.867</td>\n",
       "      <td>0.750</td>\n",
       "      <td>0.000003</td>\n",
       "      <td>0.693</td>\n",
       "      <td>...</td>\n",
       "      <td>0.0</td>\n",
       "      <td>0.0</td>\n",
       "      <td>0.0</td>\n",
       "      <td>0.0</td>\n",
       "      <td>0.0</td>\n",
       "      <td>0.0</td>\n",
       "      <td>0.0</td>\n",
       "      <td>0.0</td>\n",
       "      <td>0.0</td>\n",
       "      <td>0.0</td>\n",
       "    </tr>\n",
       "  </tbody>\n",
       "</table>\n",
       "<p>2 rows × 1051 columns</p>\n",
       "</div>"
      ],
      "text/plain": [
       "           id  danceability  energy  key  loudness  mode  speechiness  \\\n",
       "2123  1045577         0.553   0.521    2   -15.263     1        0.861   \n",
       "4313  6000827         0.673   0.285    5   -14.143     1        0.867   \n",
       "\n",
       "      acousticness  instrumentalness  liveness  ...  1284  1286  1287  1288  \\\n",
       "2123         0.663          0.000000     0.193  ...   0.0   0.0   0.0   0.0   \n",
       "4313         0.750          0.000003     0.693  ...   0.0   0.0   0.0   0.0   \n",
       "\n",
       "      1290  1291  1292  1293  1294  1295  \n",
       "2123   0.0   0.0   0.0   0.0   0.0   0.0  \n",
       "4313   0.0   0.0   0.0   0.0   0.0   0.0  \n",
       "\n",
       "[2 rows x 1051 columns]"
      ]
     },
     "execution_count": 64,
     "metadata": {},
     "output_type": "execute_result"
    }
   ],
   "source": [
    "df.loc[df.speechiness > 0.66]"
   ]
  },
  {
   "cell_type": "code",
   "execution_count": 66,
   "id": "f91d86aa-6445-4a77-991d-5de4c845c3d1",
   "metadata": {},
   "outputs": [],
   "source": []
  },
  {
   "cell_type": "markdown",
   "id": "821c1916-50d3-47da-930c-b661e4baa3fb",
   "metadata": {},
   "source": [
    "<font color=\"blue\"> \n",
    "As it can be seen data is not falling into the red reference line what means that data is not normally distributed\n",
    "</font>"
   ]
  },
  {
   "cell_type": "code",
   "execution_count": 67,
   "id": "22c59123-0a55-4587-8d2d-326f48af8576",
   "metadata": {},
   "outputs": [
    {
     "name": "stdout",
     "output_type": "stream",
     "text": [
      "::: New Shape Dataframe (5977, 1051)\n"
     ]
    }
   ],
   "source": [
    "df = df.loc[df.speechiness <= 0.66]\n",
    "printNewShapeDF(df)"
   ]
  },
  {
   "cell_type": "code",
   "execution_count": 68,
   "id": "aff7b185-a25f-41ce-bc38-71e000ac8ff5",
   "metadata": {},
   "outputs": [
    {
     "name": "stderr",
     "output_type": "stream",
     "text": [
      "/usr/local/lib/python3.9/site-packages/seaborn/_decorators.py:36: FutureWarning: Pass the following variable as a keyword arg: x. From version 0.12, the only valid positional argument will be `data`, and passing other arguments without an explicit keyword will result in an error or misinterpretation.\n",
      "  warnings.warn(\n"
     ]
    },
    {
     "data": {
      "image/png": "[encoded data removed]",
      "text/plain": [
       "<Figure size 720x288 with 1 Axes>"
      ]
     },
     "metadata": {
      "needs_background": "light"
     },
     "output_type": "display_data"
    }
   ],
   "source": [
    "plt.figure(figsize=(10,4))\n",
    "plt.title('Box plot')\n",
    "sns.boxplot(df.speechiness)\n",
    "plt.show()"
   ]
  },
  {
   "cell_type": "code",
   "execution_count": 70,
   "id": "985bba78-d1c1-40b1-9fe7-0eb148a7cbab",
   "metadata": {},
   "outputs": [
    {
     "name": "stdout",
     "output_type": "stream",
     "text": [
      "less than 0.33          |  0.9918019073113602 5928\n",
      "btw than 0.33 and 0.66  |  0.008198092688639786 49\n",
      "over than 0.5           |  0.0 0\n"
     ]
    }
   ],
   "source": [
    "totalRows = len(df.speechiness)\n",
    "range1 = len(df.speechiness[df.speechiness <= 0.33])\n",
    "range2 = len(df.speechiness.loc[(df.speechiness > 0.33) & (df.speechiness <= 0.66)])\n",
    "range3 = len(df.speechiness.loc[(df.speechiness > 0.66)])\n",
    "\n",
    "\n",
    "print('less than 0.33          | ', range1/totalRows , str(round(range1, 2)) )\n",
    "print('btw than 0.33 and 0.66  | ', range2/totalRows , str(round(range2, 2)))\n",
    "print('over than 0.5           | ', range3/totalRows, str(round(range3, 2)))"
   ]
  },
  {
   "cell_type": "code",
   "execution_count": 71,
   "id": "08717b05-abd3-4870-a21a-de9a76ad6bab",
   "metadata": {},
   "outputs": [
    {
     "data": {
      "text/plain": [
       "<Figure size 720x288 with 0 Axes>"
      ]
     },
     "metadata": {},
     "output_type": "display_data"
    },
    {
     "data": {
      "image/png": "[encoded data removed]",
      "text/plain": [
       "<Figure size 432x288 with 1 Axes>"
      ]
     },
     "metadata": {
      "needs_background": "light"
     },
     "output_type": "display_data"
    }
   ],
   "source": [
    "from statsmodels.graphics.gofplots import qqplot\n",
    "plt.figure(figsize=(10,4))\n",
    "qqplot(df.speechiness, line='s')\n",
    "plt.show()"
   ]
  },
  {
   "cell_type": "markdown",
   "id": "1082293d-7591-4be7-ab7a-d7d83c1d521a",
   "metadata": {},
   "source": [
    "***After removing outliers the skewness of speechiness improved significantly, now it is moderate***"
   ]
  },
  {
   "cell_type": "code",
   "execution_count": 72,
   "id": "fc225446-25ba-423b-a966-1ae7d53cd4aa",
   "metadata": {},
   "outputs": [
    {
     "data": {
      "text/plain": [
       "speechiness    3.629431\n",
       "dtype: float64"
      ]
     },
     "execution_count": 72,
     "metadata": {},
     "output_type": "execute_result"
    }
   ],
   "source": [
    "df[['speechiness']].skew(axis = 0, skipna = True)"
   ]
  },
  {
   "cell_type": "code",
   "execution_count": 73,
   "id": "7dea7ab7-644f-45c2-b867-bab956c40271",
   "metadata": {},
   "outputs": [
    {
     "name": "stdout",
     "output_type": "stream",
     "text": [
      "0.002739193905067036\n"
     ]
    }
   ],
   "source": [
    "print(df.speechiness.var())"
   ]
  },
  {
   "cell_type": "markdown",
   "id": "70f86261-ee98-42b5-83b6-3f46da25ce16",
   "metadata": {},
   "source": [
    "## Instrumentalness highly skewed"
   ]
  },
  {
   "cell_type": "markdown",
   "id": "b33cc168-6e8e-4584-8e1a-fa609259bee3",
   "metadata": {},
   "source": [
    "https://towardsdatascience.com/top-3-methods-for-handling-skewed-data-1334e0debf45\n",
    "    https://towardsdatascience.com/avoid-mistakes-in-machine-learning-models-with-skewed-count-data-e3512b94d745"
   ]
  },
  {
   "cell_type": "markdown",
   "id": "d89a642f-4631-463a-b9f0-9329af899703",
   "metadata": {},
   "source": [
    "<font color=\"blue\"> \n",
    "Instrumentalness is a valuable feature because it determines how much vocal a song includes, however it contains continous features and it is highly skewed, so we're going to check whether binning here makes more sense.\n",
    "</font>"
   ]
  },
  {
   "cell_type": "code",
   "execution_count": 74,
   "id": "48ad810d-731f-486c-822a-a1672fc770dc",
   "metadata": {},
   "outputs": [
    {
     "data": {
      "text/plain": [
       "count    5977.000000\n",
       "mean        0.064396\n",
       "std         0.205025\n",
       "min         0.000000\n",
       "25%         0.000000\n",
       "50%         0.000009\n",
       "75%         0.001240\n",
       "max         0.990000\n",
       "Name: instrumentalness, dtype: float64"
      ]
     },
     "execution_count": 74,
     "metadata": {},
     "output_type": "execute_result"
    }
   ],
   "source": [
    "df.instrumentalness.describe()"
   ]
  },
  {
   "cell_type": "code",
   "execution_count": 76,
   "id": "3b8f958f-ac0d-4cea-8f53-510b50aabe56",
   "metadata": {},
   "outputs": [
    {
     "name": "stdout",
     "output_type": "stream",
     "text": [
      "less than 0.5 0.935419106575205 5591\n",
      "over than 0.5 0.06458089342479505 386\n"
     ]
    }
   ],
   "source": [
    "totalRows = len(df.instrumentalness)\n",
    "range1 = len(df.instrumentalness[df.instrumentalness < 0.5])\n",
    "range2 = len(df.instrumentalness[df.instrumentalness > 0.5])\n",
    "print('less than 0.5', range1/totalRows , range1)\n",
    "print('over than 0.5', range2/totalRows, range2)"
   ]
  },
  {
   "cell_type": "code",
   "execution_count": 77,
   "id": "3e083dcb-a921-460a-a405-c66e1cf370f2",
   "metadata": {},
   "outputs": [
    {
     "data": {
      "text/plain": [
       "<Figure size 720x288 with 0 Axes>"
      ]
     },
     "metadata": {},
     "output_type": "display_data"
    },
    {
     "data": {
      "image/png": "[encoded data removed]",
      "text/plain": [
       "<Figure size 432x288 with 1 Axes>"
      ]
     },
     "metadata": {
      "needs_background": "light"
     },
     "output_type": "display_data"
    }
   ],
   "source": [
    "from statsmodels.graphics.gofplots import qqplot\n",
    "plt.figure(figsize=(10,4))\n",
    "qqplot(df.instrumentalness, line='s')\n",
    "plt.show()"
   ]
  },
  {
   "cell_type": "code",
   "execution_count": 78,
   "id": "1bda0b85-1505-4b55-b6ed-79248f8485a3",
   "metadata": {},
   "outputs": [
    {
     "name": "stderr",
     "output_type": "stream",
     "text": [
      "/usr/local/lib/python3.9/site-packages/seaborn/_decorators.py:36: FutureWarning: Pass the following variable as a keyword arg: x. From version 0.12, the only valid positional argument will be `data`, and passing other arguments without an explicit keyword will result in an error or misinterpretation.\n",
      "  warnings.warn(\n"
     ]
    },
    {
     "data": {
      "image/png": "[encoded data removed]",
      "text/plain": [
       "<Figure size 720x288 with 1 Axes>"
      ]
     },
     "metadata": {
      "needs_background": "light"
     },
     "output_type": "display_data"
    }
   ],
   "source": [
    "plt.figure(figsize=(10,4))\n",
    "plt.title('Box plot')\n",
    "sns.boxplot(df.instrumentalness)\n",
    "plt.show()"
   ]
  },
  {
   "cell_type": "markdown",
   "id": "ee64c3d7-6655-4172-9342-4ff2c376cfc5",
   "metadata": {},
   "source": [
    "<font color=\"blue\"> \n",
    "    Since Values below 0.5 represent almost the 98% or observations a binning approach has been decided, since logarithm approach was not appropiate in this case\n",
    "</font>"
   ]
  },
  {
   "cell_type": "code",
   "execution_count": 79,
   "id": "3601e127-f558-440b-bb0a-7d967738335c",
   "metadata": {
    "tags": []
   },
   "outputs": [
    {
     "data": {
      "text/plain": [
       "<seaborn.axisgrid.FacetGrid at 0x131f8a850>"
      ]
     },
     "execution_count": 79,
     "metadata": {},
     "output_type": "execute_result"
    },
    {
     "data": {
      "image/png": "[encoded data removed]",
      "text/plain": [
       "<Figure size 360x360 with 1 Axes>"
      ]
     },
     "metadata": {
      "needs_background": "light"
     },
     "output_type": "display_data"
    }
   ],
   "source": [
    "sns.displot(data=df, x=\"instrumentalness\", kde=True, bins=10)"
   ]
  },
  {
   "cell_type": "markdown",
   "id": "ee3b5c24-93b7-45b3-91d5-a56dc53a853b",
   "metadata": {},
   "source": [
    "**The following bins were created**"
   ]
  },
  {
   "cell_type": "code",
   "execution_count": 80,
   "id": "5829f9b3-d6ac-46ba-9048-9abf37e61516",
   "metadata": {},
   "outputs": [
    {
     "data": {
      "text/plain": [
       "0.000000    2325\n",
       "0.000105       9\n",
       "0.000001       7\n",
       "0.001090       7\n",
       "0.000001       6\n",
       "            ... \n",
       "0.157000       1\n",
       "0.009520       1\n",
       "0.000016       1\n",
       "0.000044       1\n",
       "0.169000       1\n",
       "Name: instrumentalness, Length: 2287, dtype: int64"
      ]
     },
     "execution_count": 80,
     "metadata": {},
     "output_type": "execute_result"
    }
   ],
   "source": [
    "df.instrumentalness.value_counts()"
   ]
  },
  {
   "cell_type": "markdown",
   "id": "e61d1ead-5ae8-45e4-86d3-6b9aa63e7da4",
   "metadata": {},
   "source": [
    "<font color=\"blue\"> \n",
    "Binning using quantiles a total of 3 categories were created\n",
    "</font>"
   ]
  },
  {
   "cell_type": "code",
   "execution_count": 81,
   "id": "0ff2c0c8-2e8f-47d1-a208-4c9ce1d9e9c9",
   "metadata": {},
   "outputs": [],
   "source": [
    "\n",
    "df['instrumentalness_cat'] = df.apply(getInstrumentalnessCat, axis=1)"
   ]
  },
  {
   "cell_type": "code",
   "execution_count": 82,
   "id": "ed381804-8cc6-469e-a386-83045291e75d",
   "metadata": {},
   "outputs": [
    {
     "data": {
      "text/plain": [
       "0    2325\n",
       "2    2015\n",
       "1    1637\n",
       "Name: instrumentalness_cat, dtype: int64"
      ]
     },
     "execution_count": 82,
     "metadata": {},
     "output_type": "execute_result"
    }
   ],
   "source": [
    "df['instrumentalness_cat'].value_counts()"
   ]
  },
  {
   "cell_type": "markdown",
   "id": "c859f058-4afb-49d4-8474-7a792abb0308",
   "metadata": {},
   "source": [
    "***Dropping the previous instrumentalness column**"
   ]
  },
  {
   "cell_type": "code",
   "execution_count": 83,
   "id": "b31fc692-a98d-4202-af5e-0d049e866f85",
   "metadata": {},
   "outputs": [],
   "source": [
    "df = df.drop(['instrumentalness'], axis=1)"
   ]
  },
  {
   "cell_type": "markdown",
   "id": "adb1aba7-f3d1-41f5-9c6d-d3fdc2e93e33",
   "metadata": {},
   "source": [
    "## Liveness"
   ]
  },
  {
   "cell_type": "code",
   "execution_count": 84,
   "id": "3454fcdd-1628-4bbc-a1e6-499dc3c0cff6",
   "metadata": {},
   "outputs": [
    {
     "data": {
      "text/plain": [
       "count    5977.000000\n",
       "mean        0.190890\n",
       "std         0.172113\n",
       "min         0.007860\n",
       "25%         0.095300\n",
       "50%         0.120000\n",
       "75%         0.221000\n",
       "max         0.993000\n",
       "Name: liveness, dtype: float64"
      ]
     },
     "execution_count": 84,
     "metadata": {},
     "output_type": "execute_result"
    }
   ],
   "source": [
    "df.liveness.describe()"
   ]
  },
  {
   "cell_type": "code",
   "execution_count": 85,
   "id": "009a396c-bb62-459c-a3af-514b5f9de6c9",
   "metadata": {},
   "outputs": [
    {
     "name": "stderr",
     "output_type": "stream",
     "text": [
      "/usr/local/lib/python3.9/site-packages/seaborn/_decorators.py:36: FutureWarning: Pass the following variable as a keyword arg: x. From version 0.12, the only valid positional argument will be `data`, and passing other arguments without an explicit keyword will result in an error or misinterpretation.\n",
      "  warnings.warn(\n"
     ]
    },
    {
     "data": {
      "image/png": "[encoded data removed]",
      "text/plain": [
       "<Figure size 720x288 with 1 Axes>"
      ]
     },
     "metadata": {
      "needs_background": "light"
     },
     "output_type": "display_data"
    }
   ],
   "source": [
    "plt.figure(figsize=(10,4))\n",
    "plt.title('Box plot')\n",
    "sns.boxplot(df.liveness)\n",
    "plt.show()"
   ]
  },
  {
   "cell_type": "markdown",
   "id": "6164ba0f-0d9c-4ee3-af23-78f89dc7c24e",
   "metadata": {},
   "source": [
    "## Hot Encoding Categorical features"
   ]
  },
  {
   "cell_type": "code",
   "execution_count": 86,
   "id": "050a2cb1-6169-4129-b3c7-0b0425f0aec8",
   "metadata": {},
   "outputs": [
    {
     "data": {
      "text/plain": [
       "Index(['id', 'danceability', 'energy', 'key', 'loudness', 'mode',\n",
       "       'speechiness', 'acousticness', 'liveness', 'valence',\n",
       "       ...\n",
       "       '1286', '1287', '1288', '1290', '1291', '1292', '1293', '1294', '1295',\n",
       "       'instrumentalness_cat'],\n",
       "      dtype='object', length=1051)"
      ]
     },
     "execution_count": 86,
     "metadata": {},
     "output_type": "execute_result"
    }
   ],
   "source": [
    "df.columns"
   ]
  },
  {
   "cell_type": "code",
   "execution_count": 87,
   "id": "eb41a2f1-989c-4176-b096-a1978c2c54b6",
   "metadata": {},
   "outputs": [],
   "source": [
    "# changing types \n",
    "categoricalFeatures = ['key', 'time_signature', 'mode', 'mood', 'instrumentalness_cat']\n",
    "df = df.astype({\"key\": int,\"time_signature\": int, \"mode\": int, \"mood\": int })"
   ]
  },
  {
   "cell_type": "code",
   "execution_count": 88,
   "id": "0383556c-aaab-4f6f-a1b6-92cf76b0886f",
   "metadata": {},
   "outputs": [
    {
     "data": {
      "text/plain": [
       "<AxesSubplot:xlabel='instrumentalness_cat', ylabel='Count'>"
      ]
     },
     "execution_count": 88,
     "metadata": {},
     "output_type": "execute_result"
    },
    {
     "data": {
      "image/png": "[encoded data removed]",
      "text/plain": [
       "<Figure size 504x504 with 6 Axes>"
      ]
     },
     "metadata": {},
     "output_type": "display_data"
    }
   ],
   "source": [
    "sns.set(style=\"darkgrid\")\n",
    "\n",
    "fig, axs = plt.subplots(3, 2, figsize=(7, 7))\n",
    "\n",
    "sns.histplot(data=df, x=\"key\", kde=True, color=\"skyblue\", ax=axs[0, 0])\n",
    "sns.histplot(data=df, x=\"time_signature\", kde=True, color=\"olive\", ax=axs[0, 1])\n",
    "sns.histplot(data=df, x=\"mode\", kde=True, color=\"gold\", ax=axs[1, 0])\n",
    "sns.histplot(data=df, x=\"mood\", kde=True, color=\"teal\", ax=axs[1, 1])\n",
    "sns.histplot(data=df, x=\"instrumentalness_cat\", kde=True, color=\"teal\", ax=axs[2, 0])"
   ]
  },
  {
   "cell_type": "markdown",
   "id": "fe4e816a-cfcc-47bc-86ad-051f5d59501d",
   "metadata": {},
   "source": [
    "#### Joining time signatures into two categories"
   ]
  },
  {
   "cell_type": "code",
   "execution_count": 89,
   "id": "ffef95ea-7dd3-4704-9fc0-2171d8e8743d",
   "metadata": {},
   "outputs": [
    {
     "data": {
      "text/plain": [
       "4    5441\n",
       "3     451\n",
       "5      63\n",
       "1      22\n",
       "Name: time_signature, dtype: int64"
      ]
     },
     "execution_count": 89,
     "metadata": {},
     "output_type": "execute_result"
    }
   ],
   "source": [
    "df.time_signature.value_counts()"
   ]
  },
  {
   "cell_type": "code",
   "execution_count": 90,
   "id": "63912a2b-476b-40cb-b9a6-66cb2c39bd8b",
   "metadata": {},
   "outputs": [],
   "source": [
    "df.time_signature = df.apply(lambda x : 1 if x.time_signature == 4 else 0, axis=1)"
   ]
  },
  {
   "cell_type": "code",
   "execution_count": 91,
   "id": "9ae0ffa7-ee8f-4fa0-b6b6-15038cbce29c",
   "metadata": {},
   "outputs": [
    {
     "data": {
      "text/plain": [
       "1    5441\n",
       "0     536\n",
       "Name: time_signature, dtype: int64"
      ]
     },
     "execution_count": 91,
     "metadata": {},
     "output_type": "execute_result"
    }
   ],
   "source": [
    "df.time_signature.value_counts()"
   ]
  },
  {
   "cell_type": "markdown",
   "id": "a0d1de8b-e5e3-4d9b-9eef-9a98e53fc371",
   "metadata": {},
   "source": [
    "### Hot encoding"
   ]
  },
  {
   "cell_type": "code",
   "execution_count": 92,
   "id": "1b448aa6-e240-4403-bbb6-2743591d4f3d",
   "metadata": {},
   "outputs": [],
   "source": [
    "categDF = df[categoricalFeatures]"
   ]
  },
  {
   "cell_type": "code",
   "execution_count": 93,
   "id": "35b21a90-b1e7-4d2e-ac28-747379a0dd6d",
   "metadata": {},
   "outputs": [
    {
     "data": {
      "text/html": [
       "<div>\n",
       "<style scoped>\n",
       "    .dataframe tbody tr th:only-of-type {\n",
       "        vertical-align: middle;\n",
       "    }\n",
       "\n",
       "    .dataframe tbody tr th {\n",
       "        vertical-align: top;\n",
       "    }\n",
       "\n",
       "    .dataframe thead th {\n",
       "        text-align: right;\n",
       "    }\n",
       "</style>\n",
       "<table border=\"1\" class=\"dataframe\">\n",
       "  <thead>\n",
       "    <tr style=\"text-align: right;\">\n",
       "      <th></th>\n",
       "      <th>key</th>\n",
       "      <th>time_signature</th>\n",
       "      <th>mode</th>\n",
       "      <th>mood</th>\n",
       "      <th>instrumentalness_cat</th>\n",
       "    </tr>\n",
       "  </thead>\n",
       "  <tbody>\n",
       "    <tr>\n",
       "      <th>0</th>\n",
       "      <td>7</td>\n",
       "      <td>1</td>\n",
       "      <td>1</td>\n",
       "      <td>7</td>\n",
       "      <td>2</td>\n",
       "    </tr>\n",
       "    <tr>\n",
       "      <th>1</th>\n",
       "      <td>7</td>\n",
       "      <td>1</td>\n",
       "      <td>1</td>\n",
       "      <td>10</td>\n",
       "      <td>2</td>\n",
       "    </tr>\n",
       "    <tr>\n",
       "      <th>2</th>\n",
       "      <td>2</td>\n",
       "      <td>1</td>\n",
       "      <td>1</td>\n",
       "      <td>7</td>\n",
       "      <td>1</td>\n",
       "    </tr>\n",
       "    <tr>\n",
       "      <th>3</th>\n",
       "      <td>11</td>\n",
       "      <td>1</td>\n",
       "      <td>0</td>\n",
       "      <td>7</td>\n",
       "      <td>2</td>\n",
       "    </tr>\n",
       "    <tr>\n",
       "      <th>4</th>\n",
       "      <td>6</td>\n",
       "      <td>1</td>\n",
       "      <td>1</td>\n",
       "      <td>3</td>\n",
       "      <td>0</td>\n",
       "    </tr>\n",
       "    <tr>\n",
       "      <th>...</th>\n",
       "      <td>...</td>\n",
       "      <td>...</td>\n",
       "      <td>...</td>\n",
       "      <td>...</td>\n",
       "      <td>...</td>\n",
       "    </tr>\n",
       "    <tr>\n",
       "      <th>5974</th>\n",
       "      <td>5</td>\n",
       "      <td>1</td>\n",
       "      <td>1</td>\n",
       "      <td>3</td>\n",
       "      <td>1</td>\n",
       "    </tr>\n",
       "    <tr>\n",
       "      <th>5975</th>\n",
       "      <td>1</td>\n",
       "      <td>1</td>\n",
       "      <td>0</td>\n",
       "      <td>10</td>\n",
       "      <td>2</td>\n",
       "    </tr>\n",
       "    <tr>\n",
       "      <th>5976</th>\n",
       "      <td>1</td>\n",
       "      <td>0</td>\n",
       "      <td>1</td>\n",
       "      <td>7</td>\n",
       "      <td>1</td>\n",
       "    </tr>\n",
       "    <tr>\n",
       "      <th>5977</th>\n",
       "      <td>2</td>\n",
       "      <td>1</td>\n",
       "      <td>0</td>\n",
       "      <td>2</td>\n",
       "      <td>2</td>\n",
       "    </tr>\n",
       "    <tr>\n",
       "      <th>5978</th>\n",
       "      <td>10</td>\n",
       "      <td>1</td>\n",
       "      <td>1</td>\n",
       "      <td>10</td>\n",
       "      <td>0</td>\n",
       "    </tr>\n",
       "  </tbody>\n",
       "</table>\n",
       "<p>5977 rows × 5 columns</p>\n",
       "</div>"
      ],
      "text/plain": [
       "      key  time_signature  mode  mood  instrumentalness_cat\n",
       "0       7               1     1     7                     2\n",
       "1       7               1     1    10                     2\n",
       "2       2               1     1     7                     1\n",
       "3      11               1     0     7                     2\n",
       "4       6               1     1     3                     0\n",
       "...   ...             ...   ...   ...                   ...\n",
       "5974    5               1     1     3                     1\n",
       "5975    1               1     0    10                     2\n",
       "5976    1               0     1     7                     1\n",
       "5977    2               1     0     2                     2\n",
       "5978   10               1     1    10                     0\n",
       "\n",
       "[5977 rows x 5 columns]"
      ]
     },
     "execution_count": 93,
     "metadata": {},
     "output_type": "execute_result"
    }
   ],
   "source": [
    "categDF"
   ]
  },
  {
   "cell_type": "code",
   "execution_count": 94,
   "id": "ba353a2b-f592-47de-a806-10633417f643",
   "metadata": {},
   "outputs": [
    {
     "data": {
      "text/html": [
       "<style>#sk-container-id-1 {color: black;background-color: white;}#sk-container-id-1 pre{padding: 0;}#sk-container-id-1 div.sk-toggleable {background-color: white;}#sk-container-id-1 label.sk-toggleable__label {cursor: pointer;display: block;width: 100%;margin-bottom: 0;padding: 0.3em;box-sizing: border-box;text-align: center;}#sk-container-id-1 label.sk-toggleable__label-arrow:before {content: \"▸\";float: left;margin-right: 0.25em;color: #696969;}#sk-container-id-1 label.sk-toggleable__label-arrow:hover:before {color: black;}#sk-container-id-1 div.sk-estimator:hover label.sk-toggleable__label-arrow:before {color: black;}#sk-container-id-1 div.sk-toggleable__content {max-height: 0;max-width: 0;overflow: hidden;text-align: left;background-color: #f0f8ff;}#sk-container-id-1 div.sk-toggleable__content pre {margin: 0.2em;color: black;border-radius: 0.25em;background-color: #f0f8ff;}#sk-container-id-1 input.sk-toggleable__control:checked~div.sk-toggleable__content {max-height: 200px;max-width: 100%;overflow: auto;}#sk-container-id-1 input.sk-toggleable__control:checked~label.sk-toggleable__label-arrow:before {content: \"▾\";}#sk-container-id-1 div.sk-estimator input.sk-toggleable__control:checked~label.sk-toggleable__label {background-color: #d4ebff;}#sk-container-id-1 div.sk-label input.sk-toggleable__control:checked~label.sk-toggleable__label {background-color: #d4ebff;}#sk-container-id-1 input.sk-hidden--visually {border: 0;clip: rect(1px 1px 1px 1px);clip: rect(1px, 1px, 1px, 1px);height: 1px;margin: -1px;overflow: hidden;padding: 0;position: absolute;width: 1px;}#sk-container-id-1 div.sk-estimator {font-family: monospace;background-color: #f0f8ff;border: 1px dotted black;border-radius: 0.25em;box-sizing: border-box;margin-bottom: 0.5em;}#sk-container-id-1 div.sk-estimator:hover {background-color: #d4ebff;}#sk-container-id-1 div.sk-parallel-item::after {content: \"\";width: 100%;border-bottom: 1px solid gray;flex-grow: 1;}#sk-container-id-1 div.sk-label:hover label.sk-toggleable__label {background-color: #d4ebff;}#sk-container-id-1 div.sk-serial::before {content: \"\";position: absolute;border-left: 1px solid gray;box-sizing: border-box;top: 0;bottom: 0;left: 50%;z-index: 0;}#sk-container-id-1 div.sk-serial {display: flex;flex-direction: column;align-items: center;background-color: white;padding-right: 0.2em;padding-left: 0.2em;position: relative;}#sk-container-id-1 div.sk-item {position: relative;z-index: 1;}#sk-container-id-1 div.sk-parallel {display: flex;align-items: stretch;justify-content: center;background-color: white;position: relative;}#sk-container-id-1 div.sk-item::before, #sk-container-id-1 div.sk-parallel-item::before {content: \"\";position: absolute;border-left: 1px solid gray;box-sizing: border-box;top: 0;bottom: 0;left: 50%;z-index: -1;}#sk-container-id-1 div.sk-parallel-item {display: flex;flex-direction: column;z-index: 1;position: relative;background-color: white;}#sk-container-id-1 div.sk-parallel-item:first-child::after {align-self: flex-end;width: 50%;}#sk-container-id-1 div.sk-parallel-item:last-child::after {align-self: flex-start;width: 50%;}#sk-container-id-1 div.sk-parallel-item:only-child::after {width: 0;}#sk-container-id-1 div.sk-dashed-wrapped {border: 1px dashed gray;margin: 0 0.4em 0.5em 0.4em;box-sizing: border-box;padding-bottom: 0.4em;background-color: white;}#sk-container-id-1 div.sk-label label {font-family: monospace;font-weight: bold;display: inline-block;line-height: 1.2em;}#sk-container-id-1 div.sk-label-container {text-align: center;}#sk-container-id-1 div.sk-container {/* jupyter's `normalize.less` sets `[hidden] { display: none; }` but bootstrap.min.css set `[hidden] { display: none !important; }` so we also need the `!important` here to be able to override the default hidden behavior on the sphinx rendered scikit-learn.org. See: https://github.com/scikit-learn/scikit-learn/issues/21755 */display: inline-block !important;position: relative;}#sk-container-id-1 div.sk-text-repr-fallback {display: none;}</style><div id=\"sk-container-id-1\" class=\"sk-top-container\"><div class=\"sk-text-repr-fallback\"><pre>OneHotEncoder(handle_unknown=&#x27;ignore&#x27;)</pre><b>In a Jupyter environment, please rerun this cell to show the HTML representation or trust the notebook. <br />On GitHub, the HTML representation is unable to render, please try loading this page with nbviewer.org.</b></div><div class=\"sk-container\" hidden><div class=\"sk-item\"><div class=\"sk-estimator sk-toggleable\"><input class=\"sk-toggleable__control sk-hidden--visually\" id=\"sk-estimator-id-1\" type=\"checkbox\" checked><label for=\"sk-estimator-id-1\" class=\"sk-toggleable__label sk-toggleable__label-arrow\">OneHotEncoder</label><div class=\"sk-toggleable__content\"><pre>OneHotEncoder(handle_unknown=&#x27;ignore&#x27;)</pre></div></div></div></div></div>"
      ],
      "text/plain": [
       "OneHotEncoder(handle_unknown='ignore')"
      ]
     },
     "execution_count": 94,
     "metadata": {},
     "output_type": "execute_result"
    }
   ],
   "source": [
    "enc = OneHotEncoder(handle_unknown='ignore')\n",
    "enc.fit(categDF)\n",
    "OneHotEncoder(handle_unknown='ignore')"
   ]
  },
  {
   "cell_type": "code",
   "execution_count": 95,
   "id": "b0ab247d-88dc-4507-b14e-461275d95f4a",
   "metadata": {},
   "outputs": [
    {
     "data": {
      "text/plain": [
       "[array([ 0,  1,  2,  3,  4,  5,  6,  7,  8,  9, 10, 11]),\n",
       " array([0, 1]),\n",
       " array([0, 1]),\n",
       " array([ 1,  2,  3,  4,  5,  6,  7,  8,  9, 10, 11]),\n",
       " array([0, 1, 2])]"
      ]
     },
     "execution_count": 95,
     "metadata": {},
     "output_type": "execute_result"
    }
   ],
   "source": [
    "enc.categories_\n"
   ]
  },
  {
   "cell_type": "code",
   "execution_count": 96,
   "id": "730b2ddb-11e5-4c47-a68c-3d93e4ad5272",
   "metadata": {},
   "outputs": [],
   "source": [
    "hotEncodedCatFeatures = pd.DataFrame(enc.transform(categDF).toarray())"
   ]
  },
  {
   "cell_type": "code",
   "execution_count": 97,
   "id": "5b55453c-e932-4a6e-9ee4-4267c30fde9b",
   "metadata": {},
   "outputs": [
    {
     "data": {
      "text/html": [
       "<div>\n",
       "<style scoped>\n",
       "    .dataframe tbody tr th:only-of-type {\n",
       "        vertical-align: middle;\n",
       "    }\n",
       "\n",
       "    .dataframe tbody tr th {\n",
       "        vertical-align: top;\n",
       "    }\n",
       "\n",
       "    .dataframe thead th {\n",
       "        text-align: right;\n",
       "    }\n",
       "</style>\n",
       "<table border=\"1\" class=\"dataframe\">\n",
       "  <thead>\n",
       "    <tr style=\"text-align: right;\">\n",
       "      <th></th>\n",
       "      <th>0</th>\n",
       "      <th>1</th>\n",
       "      <th>2</th>\n",
       "      <th>3</th>\n",
       "      <th>4</th>\n",
       "      <th>5</th>\n",
       "      <th>6</th>\n",
       "      <th>7</th>\n",
       "      <th>8</th>\n",
       "      <th>9</th>\n",
       "      <th>...</th>\n",
       "      <th>20</th>\n",
       "      <th>21</th>\n",
       "      <th>22</th>\n",
       "      <th>23</th>\n",
       "      <th>24</th>\n",
       "      <th>25</th>\n",
       "      <th>26</th>\n",
       "      <th>27</th>\n",
       "      <th>28</th>\n",
       "      <th>29</th>\n",
       "    </tr>\n",
       "  </thead>\n",
       "  <tbody>\n",
       "    <tr>\n",
       "      <th>0</th>\n",
       "      <td>0.0</td>\n",
       "      <td>0.0</td>\n",
       "      <td>0.0</td>\n",
       "      <td>0.0</td>\n",
       "      <td>0.0</td>\n",
       "      <td>0.0</td>\n",
       "      <td>0.0</td>\n",
       "      <td>1.0</td>\n",
       "      <td>0.0</td>\n",
       "      <td>0.0</td>\n",
       "      <td>...</td>\n",
       "      <td>0.0</td>\n",
       "      <td>0.0</td>\n",
       "      <td>1.0</td>\n",
       "      <td>0.0</td>\n",
       "      <td>0.0</td>\n",
       "      <td>0.0</td>\n",
       "      <td>0.0</td>\n",
       "      <td>0.0</td>\n",
       "      <td>0.0</td>\n",
       "      <td>1.0</td>\n",
       "    </tr>\n",
       "  </tbody>\n",
       "</table>\n",
       "<p>1 rows × 30 columns</p>\n",
       "</div>"
      ],
      "text/plain": [
       "    0    1    2    3    4    5    6    7    8    9   ...   20   21   22   23  \\\n",
       "0  0.0  0.0  0.0  0.0  0.0  0.0  0.0  1.0  0.0  0.0  ...  0.0  0.0  1.0  0.0   \n",
       "\n",
       "    24   25   26   27   28   29  \n",
       "0  0.0  0.0  0.0  0.0  0.0  1.0  \n",
       "\n",
       "[1 rows x 30 columns]"
      ]
     },
     "execution_count": 97,
     "metadata": {},
     "output_type": "execute_result"
    }
   ],
   "source": [
    "hotEncodedCatFeatures.head(1)"
   ]
  },
  {
   "cell_type": "code",
   "execution_count": 98,
   "id": "d1a1568d-93f4-4c26-b276-84a6dab90646",
   "metadata": {},
   "outputs": [],
   "source": [
    "c, encodedFeaturesNames  = getRenameObject(enc, ['key', 'time_signature', 'mode', 'mood', 'instrumentalness_cat'])\n",
    "hotEncodedCatFeatures = hotEncodedCatFeatures.rename(columns=c)"
   ]
  },
  {
   "cell_type": "code",
   "execution_count": 100,
   "id": "6a8bca9c-249b-4319-a3fc-3aa3f5fde583",
   "metadata": {},
   "outputs": [
    {
     "data": {
      "text/html": [
       "<div>\n",
       "<style scoped>\n",
       "    .dataframe tbody tr th:only-of-type {\n",
       "        vertical-align: middle;\n",
       "    }\n",
       "\n",
       "    .dataframe tbody tr th {\n",
       "        vertical-align: top;\n",
       "    }\n",
       "\n",
       "    .dataframe thead th {\n",
       "        text-align: right;\n",
       "    }\n",
       "</style>\n",
       "<table border=\"1\" class=\"dataframe\">\n",
       "  <thead>\n",
       "    <tr style=\"text-align: right;\">\n",
       "      <th></th>\n",
       "      <th>key_0</th>\n",
       "      <th>key_1</th>\n",
       "      <th>key_2</th>\n",
       "      <th>key_3</th>\n",
       "      <th>key_4</th>\n",
       "      <th>key_5</th>\n",
       "      <th>key_6</th>\n",
       "      <th>key_7</th>\n",
       "      <th>key_8</th>\n",
       "      <th>key_9</th>\n",
       "      <th>...</th>\n",
       "      <th>mood_5</th>\n",
       "      <th>mood_6</th>\n",
       "      <th>mood_7</th>\n",
       "      <th>mood_8</th>\n",
       "      <th>mood_9</th>\n",
       "      <th>mood_10</th>\n",
       "      <th>mood_11</th>\n",
       "      <th>instrumentalness_cat_0</th>\n",
       "      <th>instrumentalness_cat_1</th>\n",
       "      <th>instrumentalness_cat_2</th>\n",
       "    </tr>\n",
       "  </thead>\n",
       "  <tbody>\n",
       "    <tr>\n",
       "      <th>0</th>\n",
       "      <td>0.0</td>\n",
       "      <td>0.0</td>\n",
       "      <td>0.0</td>\n",
       "      <td>0.0</td>\n",
       "      <td>0.0</td>\n",
       "      <td>0.0</td>\n",
       "      <td>0.0</td>\n",
       "      <td>1.0</td>\n",
       "      <td>0.0</td>\n",
       "      <td>0.0</td>\n",
       "      <td>...</td>\n",
       "      <td>0.0</td>\n",
       "      <td>0.0</td>\n",
       "      <td>1.0</td>\n",
       "      <td>0.0</td>\n",
       "      <td>0.0</td>\n",
       "      <td>0.0</td>\n",
       "      <td>0.0</td>\n",
       "      <td>0.0</td>\n",
       "      <td>0.0</td>\n",
       "      <td>1.0</td>\n",
       "    </tr>\n",
       "  </tbody>\n",
       "</table>\n",
       "<p>1 rows × 30 columns</p>\n",
       "</div>"
      ],
      "text/plain": [
       "   key_0  key_1  key_2  key_3  key_4  key_5  key_6  key_7  key_8  key_9  ...  \\\n",
       "0    0.0    0.0    0.0    0.0    0.0    0.0    0.0    1.0    0.0    0.0  ...   \n",
       "\n",
       "   mood_5  mood_6  mood_7  mood_8  mood_9  mood_10  mood_11  \\\n",
       "0     0.0     0.0     1.0     0.0     0.0      0.0      0.0   \n",
       "\n",
       "   instrumentalness_cat_0  instrumentalness_cat_1  instrumentalness_cat_2  \n",
       "0                     0.0                     0.0                     1.0  \n",
       "\n",
       "[1 rows x 30 columns]"
      ]
     },
     "execution_count": 100,
     "metadata": {},
     "output_type": "execute_result"
    }
   ],
   "source": [
    "hotEncodedCatFeatures.head(1)"
   ]
  },
  {
   "cell_type": "markdown",
   "id": "c3fdf294-a9f8-469d-8e27-11de67902587",
   "metadata": {},
   "source": [
    "### Checking Variance"
   ]
  },
  {
   "cell_type": "markdown",
   "id": "17449a1e-082e-4e88-ae03-f5b35c340466",
   "metadata": {},
   "source": [
    "\n",
    "<font color=\"blue\"> \n",
    "All columns passed the variance threshold\n",
    "</font>"
   ]
  },
  {
   "cell_type": "code",
   "execution_count": 101,
   "id": "1c21c695-7438-468f-b0fd-b3369b508e6b",
   "metadata": {},
   "outputs": [],
   "source": [
    "continousFeatures = df[['id','danceability', 'energy', 'speechiness', 'acousticness', 'liveness', 'valence', 'tempo']]"
   ]
  },
  {
   "cell_type": "code",
   "execution_count": 102,
   "id": "016c6637-b520-4506-bb0e-3d8a32faa265",
   "metadata": {},
   "outputs": [
    {
     "data": {
      "text/html": [
       "<div>\n",
       "<style scoped>\n",
       "    .dataframe tbody tr th:only-of-type {\n",
       "        vertical-align: middle;\n",
       "    }\n",
       "\n",
       "    .dataframe tbody tr th {\n",
       "        vertical-align: top;\n",
       "    }\n",
       "\n",
       "    .dataframe thead th {\n",
       "        text-align: right;\n",
       "    }\n",
       "</style>\n",
       "<table border=\"1\" class=\"dataframe\">\n",
       "  <thead>\n",
       "    <tr style=\"text-align: right;\">\n",
       "      <th></th>\n",
       "      <th>id</th>\n",
       "      <th>danceability</th>\n",
       "      <th>energy</th>\n",
       "      <th>speechiness</th>\n",
       "      <th>acousticness</th>\n",
       "      <th>liveness</th>\n",
       "      <th>valence</th>\n",
       "      <th>tempo</th>\n",
       "    </tr>\n",
       "  </thead>\n",
       "  <tbody>\n",
       "    <tr>\n",
       "      <th>0</th>\n",
       "      <td>23</td>\n",
       "      <td>0.494</td>\n",
       "      <td>0.756</td>\n",
       "      <td>0.0432</td>\n",
       "      <td>0.001400</td>\n",
       "      <td>0.1640</td>\n",
       "      <td>0.589</td>\n",
       "      <td>133.337</td>\n",
       "    </tr>\n",
       "    <tr>\n",
       "      <th>1</th>\n",
       "      <td>105</td>\n",
       "      <td>0.582</td>\n",
       "      <td>0.744</td>\n",
       "      <td>0.0336</td>\n",
       "      <td>0.000458</td>\n",
       "      <td>0.0405</td>\n",
       "      <td>0.674</td>\n",
       "      <td>133.344</td>\n",
       "    </tr>\n",
       "    <tr>\n",
       "      <th>2</th>\n",
       "      <td>118</td>\n",
       "      <td>0.614</td>\n",
       "      <td>0.755</td>\n",
       "      <td>0.0276</td>\n",
       "      <td>0.016200</td>\n",
       "      <td>0.0831</td>\n",
       "      <td>0.645</td>\n",
       "      <td>92.622</td>\n",
       "    </tr>\n",
       "    <tr>\n",
       "      <th>3</th>\n",
       "      <td>120</td>\n",
       "      <td>0.319</td>\n",
       "      <td>0.807</td>\n",
       "      <td>0.0388</td>\n",
       "      <td>0.001040</td>\n",
       "      <td>0.1310</td>\n",
       "      <td>0.601</td>\n",
       "      <td>118.097</td>\n",
       "    </tr>\n",
       "    <tr>\n",
       "      <th>4</th>\n",
       "      <td>292</td>\n",
       "      <td>0.496</td>\n",
       "      <td>0.527</td>\n",
       "      <td>0.0339</td>\n",
       "      <td>0.195000</td>\n",
       "      <td>0.1380</td>\n",
       "      <td>0.283</td>\n",
       "      <td>155.932</td>\n",
       "    </tr>\n",
       "    <tr>\n",
       "      <th>...</th>\n",
       "      <td>...</td>\n",
       "      <td>...</td>\n",
       "      <td>...</td>\n",
       "      <td>...</td>\n",
       "      <td>...</td>\n",
       "      <td>...</td>\n",
       "      <td>...</td>\n",
       "      <td>...</td>\n",
       "    </tr>\n",
       "    <tr>\n",
       "      <th>5974</th>\n",
       "      <td>6002496</td>\n",
       "      <td>0.509</td>\n",
       "      <td>0.537</td>\n",
       "      <td>0.0384</td>\n",
       "      <td>0.347000</td>\n",
       "      <td>0.0805</td>\n",
       "      <td>0.311</td>\n",
       "      <td>170.030</td>\n",
       "    </tr>\n",
       "    <tr>\n",
       "      <th>5975</th>\n",
       "      <td>6002497</td>\n",
       "      <td>0.725</td>\n",
       "      <td>0.583</td>\n",
       "      <td>0.0427</td>\n",
       "      <td>0.300000</td>\n",
       "      <td>0.0665</td>\n",
       "      <td>0.762</td>\n",
       "      <td>79.984</td>\n",
       "    </tr>\n",
       "    <tr>\n",
       "      <th>5976</th>\n",
       "      <td>6002498</td>\n",
       "      <td>0.399</td>\n",
       "      <td>0.787</td>\n",
       "      <td>0.0499</td>\n",
       "      <td>0.019700</td>\n",
       "      <td>0.0685</td>\n",
       "      <td>0.572</td>\n",
       "      <td>117.089</td>\n",
       "    </tr>\n",
       "    <tr>\n",
       "      <th>5977</th>\n",
       "      <td>6002499</td>\n",
       "      <td>0.376</td>\n",
       "      <td>0.435</td>\n",
       "      <td>0.0264</td>\n",
       "      <td>0.513000</td>\n",
       "      <td>0.1380</td>\n",
       "      <td>0.304</td>\n",
       "      <td>80.002</td>\n",
       "    </tr>\n",
       "    <tr>\n",
       "      <th>5978</th>\n",
       "      <td>6002500</td>\n",
       "      <td>0.734</td>\n",
       "      <td>0.663</td>\n",
       "      <td>0.3090</td>\n",
       "      <td>0.342000</td>\n",
       "      <td>0.6490</td>\n",
       "      <td>0.845</td>\n",
       "      <td>166.846</td>\n",
       "    </tr>\n",
       "  </tbody>\n",
       "</table>\n",
       "<p>5977 rows × 8 columns</p>\n",
       "</div>"
      ],
      "text/plain": [
       "           id  danceability  energy  speechiness  acousticness  liveness  \\\n",
       "0          23         0.494   0.756       0.0432      0.001400    0.1640   \n",
       "1         105         0.582   0.744       0.0336      0.000458    0.0405   \n",
       "2         118         0.614   0.755       0.0276      0.016200    0.0831   \n",
       "3         120         0.319   0.807       0.0388      0.001040    0.1310   \n",
       "4         292         0.496   0.527       0.0339      0.195000    0.1380   \n",
       "...       ...           ...     ...          ...           ...       ...   \n",
       "5974  6002496         0.509   0.537       0.0384      0.347000    0.0805   \n",
       "5975  6002497         0.725   0.583       0.0427      0.300000    0.0665   \n",
       "5976  6002498         0.399   0.787       0.0499      0.019700    0.0685   \n",
       "5977  6002499         0.376   0.435       0.0264      0.513000    0.1380   \n",
       "5978  6002500         0.734   0.663       0.3090      0.342000    0.6490   \n",
       "\n",
       "      valence    tempo  \n",
       "0       0.589  133.337  \n",
       "1       0.674  133.344  \n",
       "2       0.645   92.622  \n",
       "3       0.601  118.097  \n",
       "4       0.283  155.932  \n",
       "...       ...      ...  \n",
       "5974    0.311  170.030  \n",
       "5975    0.762   79.984  \n",
       "5976    0.572  117.089  \n",
       "5977    0.304   80.002  \n",
       "5978    0.845  166.846  \n",
       "\n",
       "[5977 rows x 8 columns]"
      ]
     },
     "execution_count": 102,
     "metadata": {},
     "output_type": "execute_result"
    }
   ],
   "source": [
    "continousFeatures"
   ]
  },
  {
   "cell_type": "code",
   "execution_count": 103,
   "id": "f99da521-91dc-4c75-9186-a866e8af150e",
   "metadata": {},
   "outputs": [],
   "source": [
    "from sklearn.feature_selection import VarianceThreshold\n",
    "\n",
    "# Create a VarianceThreshold feature selector\n",
    "sel = VarianceThreshold(threshold=0.001)\n",
    "\n",
    "# Fit the selector to normalized head_df\n",
    "sel.fit(continousFeatures / continousFeatures.mean())\n",
    "\n",
    "# Create a boolean mask\n",
    "mask = sel.get_support()\n",
    "\n",
    "# Apply the mask to create a reduced dataframe\n",
    "reduced_df = continousFeatures.loc[:, mask]"
   ]
  },
  {
   "cell_type": "code",
   "execution_count": 106,
   "id": "e9527416-6971-4d45-845a-b5259a08a17d",
   "metadata": {},
   "outputs": [],
   "source": [
    "reduced_df.to_csv('./data/unified/05-continousFeatures.csv')"
   ]
  },
  {
   "cell_type": "markdown",
   "id": "dfbaf6dd-a25c-48d2-a3b3-8586c8d66355",
   "metadata": {},
   "source": [
    "#### Dropping ID column"
   ]
  },
  {
   "cell_type": "markdown",
   "id": "fbb6d85e-f8ef-4678-8181-ca977915a1f0",
   "metadata": {},
   "source": [
    "\n",
    "<font color=\"blue\"> \n",
    "Loudness and energy were the features with the highest correlation, which is not a surprise since loudness is a way to represent the intensity of a sound, or in other words the amount of energy in sound waves.\n",
    "</font>"
   ]
  },
  {
   "cell_type": "code",
   "execution_count": 107,
   "id": "d431a845-7415-4e79-8d50-5fe96da04c7a",
   "metadata": {
    "tags": []
   },
   "outputs": [],
   "source": [
    "df = df.drop(['key', 'time_signature', 'mode', 'mood', 'instrumentalness_cat', 'loudness'], axis=1)"
   ]
  },
  {
   "cell_type": "code",
   "execution_count": 108,
   "id": "daa91461-145d-499f-9452-a0d044b326e2",
   "metadata": {},
   "outputs": [],
   "source": [
    "df = pd.concat([df.reset_index(), hotEncodedCatFeatures], axis=1)"
   ]
  },
  {
   "cell_type": "code",
   "execution_count": 109,
   "id": "9640420c-fa6e-4428-8f3f-43e8c05a4784",
   "metadata": {},
   "outputs": [
    {
     "data": {
      "text/html": [
       "<div>\n",
       "<style scoped>\n",
       "    .dataframe tbody tr th:only-of-type {\n",
       "        vertical-align: middle;\n",
       "    }\n",
       "\n",
       "    .dataframe tbody tr th {\n",
       "        vertical-align: top;\n",
       "    }\n",
       "\n",
       "    .dataframe thead th {\n",
       "        text-align: right;\n",
       "    }\n",
       "</style>\n",
       "<table border=\"1\" class=\"dataframe\">\n",
       "  <thead>\n",
       "    <tr style=\"text-align: right;\">\n",
       "      <th></th>\n",
       "      <th>index</th>\n",
       "      <th>id</th>\n",
       "      <th>danceability</th>\n",
       "      <th>energy</th>\n",
       "      <th>speechiness</th>\n",
       "      <th>acousticness</th>\n",
       "      <th>liveness</th>\n",
       "      <th>valence</th>\n",
       "      <th>tempo</th>\n",
       "      <th>0</th>\n",
       "      <th>...</th>\n",
       "      <th>mood_5</th>\n",
       "      <th>mood_6</th>\n",
       "      <th>mood_7</th>\n",
       "      <th>mood_8</th>\n",
       "      <th>mood_9</th>\n",
       "      <th>mood_10</th>\n",
       "      <th>mood_11</th>\n",
       "      <th>instrumentalness_cat_0</th>\n",
       "      <th>instrumentalness_cat_1</th>\n",
       "      <th>instrumentalness_cat_2</th>\n",
       "    </tr>\n",
       "  </thead>\n",
       "  <tbody>\n",
       "    <tr>\n",
       "      <th>0</th>\n",
       "      <td>0</td>\n",
       "      <td>23</td>\n",
       "      <td>0.494</td>\n",
       "      <td>0.756</td>\n",
       "      <td>0.0432</td>\n",
       "      <td>0.0014</td>\n",
       "      <td>0.164</td>\n",
       "      <td>0.589</td>\n",
       "      <td>133.337</td>\n",
       "      <td>0.0</td>\n",
       "      <td>...</td>\n",
       "      <td>0.0</td>\n",
       "      <td>0.0</td>\n",
       "      <td>1.0</td>\n",
       "      <td>0.0</td>\n",
       "      <td>0.0</td>\n",
       "      <td>0.0</td>\n",
       "      <td>0.0</td>\n",
       "      <td>0.0</td>\n",
       "      <td>0.0</td>\n",
       "      <td>1.0</td>\n",
       "    </tr>\n",
       "  </tbody>\n",
       "</table>\n",
       "<p>1 rows × 1076 columns</p>\n",
       "</div>"
      ],
      "text/plain": [
       "   index  id  danceability  energy  speechiness  acousticness  liveness  \\\n",
       "0      0  23         0.494   0.756       0.0432        0.0014     0.164   \n",
       "\n",
       "   valence    tempo    0  ...  mood_5  mood_6  mood_7  mood_8  mood_9  \\\n",
       "0    0.589  133.337  0.0  ...     0.0     0.0     1.0     0.0     0.0   \n",
       "\n",
       "   mood_10  mood_11  instrumentalness_cat_0  instrumentalness_cat_1  \\\n",
       "0      0.0      0.0                     0.0                     0.0   \n",
       "\n",
       "   instrumentalness_cat_2  \n",
       "0                     1.0  \n",
       "\n",
       "[1 rows x 1076 columns]"
      ]
     },
     "execution_count": 109,
     "metadata": {},
     "output_type": "execute_result"
    }
   ],
   "source": [
    "df.head(1)"
   ]
  },
  {
   "cell_type": "code",
   "execution_count": 110,
   "id": "3ae43aa1-5003-4c99-8faa-c4131a4453f0",
   "metadata": {},
   "outputs": [
    {
     "data": {
      "text/html": [
       "<div>\n",
       "<style scoped>\n",
       "    .dataframe tbody tr th:only-of-type {\n",
       "        vertical-align: middle;\n",
       "    }\n",
       "\n",
       "    .dataframe tbody tr th {\n",
       "        vertical-align: top;\n",
       "    }\n",
       "\n",
       "    .dataframe thead th {\n",
       "        text-align: right;\n",
       "    }\n",
       "</style>\n",
       "<table border=\"1\" class=\"dataframe\">\n",
       "  <thead>\n",
       "    <tr style=\"text-align: right;\">\n",
       "      <th></th>\n",
       "      <th>index</th>\n",
       "      <th>id</th>\n",
       "      <th>danceability</th>\n",
       "      <th>energy</th>\n",
       "      <th>speechiness</th>\n",
       "      <th>acousticness</th>\n",
       "      <th>liveness</th>\n",
       "      <th>valence</th>\n",
       "      <th>tempo</th>\n",
       "      <th>0</th>\n",
       "      <th>...</th>\n",
       "      <th>mood_5</th>\n",
       "      <th>mood_6</th>\n",
       "      <th>mood_7</th>\n",
       "      <th>mood_8</th>\n",
       "      <th>mood_9</th>\n",
       "      <th>mood_10</th>\n",
       "      <th>mood_11</th>\n",
       "      <th>instrumentalness_cat_0</th>\n",
       "      <th>instrumentalness_cat_1</th>\n",
       "      <th>instrumentalness_cat_2</th>\n",
       "    </tr>\n",
       "  </thead>\n",
       "  <tbody>\n",
       "    <tr>\n",
       "      <th>0</th>\n",
       "      <td>0</td>\n",
       "      <td>23</td>\n",
       "      <td>0.494</td>\n",
       "      <td>0.756</td>\n",
       "      <td>0.0432</td>\n",
       "      <td>0.001400</td>\n",
       "      <td>0.1640</td>\n",
       "      <td>0.589</td>\n",
       "      <td>133.337</td>\n",
       "      <td>0.000000</td>\n",
       "      <td>...</td>\n",
       "      <td>0.0</td>\n",
       "      <td>0.0</td>\n",
       "      <td>1.0</td>\n",
       "      <td>0.0</td>\n",
       "      <td>0.0</td>\n",
       "      <td>0.0</td>\n",
       "      <td>0.0</td>\n",
       "      <td>0.0</td>\n",
       "      <td>0.0</td>\n",
       "      <td>1.0</td>\n",
       "    </tr>\n",
       "    <tr>\n",
       "      <th>1</th>\n",
       "      <td>1</td>\n",
       "      <td>105</td>\n",
       "      <td>0.582</td>\n",
       "      <td>0.744</td>\n",
       "      <td>0.0336</td>\n",
       "      <td>0.000458</td>\n",
       "      <td>0.0405</td>\n",
       "      <td>0.674</td>\n",
       "      <td>133.344</td>\n",
       "      <td>0.185185</td>\n",
       "      <td>...</td>\n",
       "      <td>0.0</td>\n",
       "      <td>0.0</td>\n",
       "      <td>0.0</td>\n",
       "      <td>0.0</td>\n",
       "      <td>0.0</td>\n",
       "      <td>1.0</td>\n",
       "      <td>0.0</td>\n",
       "      <td>0.0</td>\n",
       "      <td>0.0</td>\n",
       "      <td>1.0</td>\n",
       "    </tr>\n",
       "    <tr>\n",
       "      <th>2</th>\n",
       "      <td>2</td>\n",
       "      <td>118</td>\n",
       "      <td>0.614</td>\n",
       "      <td>0.755</td>\n",
       "      <td>0.0276</td>\n",
       "      <td>0.016200</td>\n",
       "      <td>0.0831</td>\n",
       "      <td>0.645</td>\n",
       "      <td>92.622</td>\n",
       "      <td>0.000000</td>\n",
       "      <td>...</td>\n",
       "      <td>0.0</td>\n",
       "      <td>0.0</td>\n",
       "      <td>1.0</td>\n",
       "      <td>0.0</td>\n",
       "      <td>0.0</td>\n",
       "      <td>0.0</td>\n",
       "      <td>0.0</td>\n",
       "      <td>0.0</td>\n",
       "      <td>1.0</td>\n",
       "      <td>0.0</td>\n",
       "    </tr>\n",
       "    <tr>\n",
       "      <th>3</th>\n",
       "      <td>3</td>\n",
       "      <td>120</td>\n",
       "      <td>0.319</td>\n",
       "      <td>0.807</td>\n",
       "      <td>0.0388</td>\n",
       "      <td>0.001040</td>\n",
       "      <td>0.1310</td>\n",
       "      <td>0.601</td>\n",
       "      <td>118.097</td>\n",
       "      <td>0.029412</td>\n",
       "      <td>...</td>\n",
       "      <td>0.0</td>\n",
       "      <td>0.0</td>\n",
       "      <td>1.0</td>\n",
       "      <td>0.0</td>\n",
       "      <td>0.0</td>\n",
       "      <td>0.0</td>\n",
       "      <td>0.0</td>\n",
       "      <td>0.0</td>\n",
       "      <td>0.0</td>\n",
       "      <td>1.0</td>\n",
       "    </tr>\n",
       "    <tr>\n",
       "      <th>4</th>\n",
       "      <td>4</td>\n",
       "      <td>292</td>\n",
       "      <td>0.496</td>\n",
       "      <td>0.527</td>\n",
       "      <td>0.0339</td>\n",
       "      <td>0.195000</td>\n",
       "      <td>0.1380</td>\n",
       "      <td>0.283</td>\n",
       "      <td>155.932</td>\n",
       "      <td>0.013889</td>\n",
       "      <td>...</td>\n",
       "      <td>0.0</td>\n",
       "      <td>0.0</td>\n",
       "      <td>0.0</td>\n",
       "      <td>0.0</td>\n",
       "      <td>0.0</td>\n",
       "      <td>0.0</td>\n",
       "      <td>0.0</td>\n",
       "      <td>1.0</td>\n",
       "      <td>0.0</td>\n",
       "      <td>0.0</td>\n",
       "    </tr>\n",
       "    <tr>\n",
       "      <th>...</th>\n",
       "      <td>...</td>\n",
       "      <td>...</td>\n",
       "      <td>...</td>\n",
       "      <td>...</td>\n",
       "      <td>...</td>\n",
       "      <td>...</td>\n",
       "      <td>...</td>\n",
       "      <td>...</td>\n",
       "      <td>...</td>\n",
       "      <td>...</td>\n",
       "      <td>...</td>\n",
       "      <td>...</td>\n",
       "      <td>...</td>\n",
       "      <td>...</td>\n",
       "      <td>...</td>\n",
       "      <td>...</td>\n",
       "      <td>...</td>\n",
       "      <td>...</td>\n",
       "      <td>...</td>\n",
       "      <td>...</td>\n",
       "      <td>...</td>\n",
       "    </tr>\n",
       "    <tr>\n",
       "      <th>5972</th>\n",
       "      <td>5974</td>\n",
       "      <td>6002496</td>\n",
       "      <td>0.509</td>\n",
       "      <td>0.537</td>\n",
       "      <td>0.0384</td>\n",
       "      <td>0.347000</td>\n",
       "      <td>0.0805</td>\n",
       "      <td>0.311</td>\n",
       "      <td>170.030</td>\n",
       "      <td>0.000000</td>\n",
       "      <td>...</td>\n",
       "      <td>0.0</td>\n",
       "      <td>0.0</td>\n",
       "      <td>0.0</td>\n",
       "      <td>0.0</td>\n",
       "      <td>0.0</td>\n",
       "      <td>0.0</td>\n",
       "      <td>0.0</td>\n",
       "      <td>0.0</td>\n",
       "      <td>1.0</td>\n",
       "      <td>0.0</td>\n",
       "    </tr>\n",
       "    <tr>\n",
       "      <th>5973</th>\n",
       "      <td>5975</td>\n",
       "      <td>6002497</td>\n",
       "      <td>0.725</td>\n",
       "      <td>0.583</td>\n",
       "      <td>0.0427</td>\n",
       "      <td>0.300000</td>\n",
       "      <td>0.0665</td>\n",
       "      <td>0.762</td>\n",
       "      <td>79.984</td>\n",
       "      <td>0.000000</td>\n",
       "      <td>...</td>\n",
       "      <td>0.0</td>\n",
       "      <td>0.0</td>\n",
       "      <td>0.0</td>\n",
       "      <td>0.0</td>\n",
       "      <td>0.0</td>\n",
       "      <td>1.0</td>\n",
       "      <td>0.0</td>\n",
       "      <td>0.0</td>\n",
       "      <td>0.0</td>\n",
       "      <td>1.0</td>\n",
       "    </tr>\n",
       "    <tr>\n",
       "      <th>5974</th>\n",
       "      <td>5976</td>\n",
       "      <td>6002498</td>\n",
       "      <td>0.399</td>\n",
       "      <td>0.787</td>\n",
       "      <td>0.0499</td>\n",
       "      <td>0.019700</td>\n",
       "      <td>0.0685</td>\n",
       "      <td>0.572</td>\n",
       "      <td>117.089</td>\n",
       "      <td>0.000000</td>\n",
       "      <td>...</td>\n",
       "      <td>0.0</td>\n",
       "      <td>0.0</td>\n",
       "      <td>1.0</td>\n",
       "      <td>0.0</td>\n",
       "      <td>0.0</td>\n",
       "      <td>0.0</td>\n",
       "      <td>0.0</td>\n",
       "      <td>0.0</td>\n",
       "      <td>1.0</td>\n",
       "      <td>0.0</td>\n",
       "    </tr>\n",
       "    <tr>\n",
       "      <th>5975</th>\n",
       "      <td>5977</td>\n",
       "      <td>6002499</td>\n",
       "      <td>0.376</td>\n",
       "      <td>0.435</td>\n",
       "      <td>0.0264</td>\n",
       "      <td>0.513000</td>\n",
       "      <td>0.1380</td>\n",
       "      <td>0.304</td>\n",
       "      <td>80.002</td>\n",
       "      <td>0.000000</td>\n",
       "      <td>...</td>\n",
       "      <td>0.0</td>\n",
       "      <td>0.0</td>\n",
       "      <td>0.0</td>\n",
       "      <td>0.0</td>\n",
       "      <td>0.0</td>\n",
       "      <td>0.0</td>\n",
       "      <td>0.0</td>\n",
       "      <td>0.0</td>\n",
       "      <td>0.0</td>\n",
       "      <td>1.0</td>\n",
       "    </tr>\n",
       "    <tr>\n",
       "      <th>5976</th>\n",
       "      <td>5978</td>\n",
       "      <td>6002500</td>\n",
       "      <td>0.734</td>\n",
       "      <td>0.663</td>\n",
       "      <td>0.3090</td>\n",
       "      <td>0.342000</td>\n",
       "      <td>0.6490</td>\n",
       "      <td>0.845</td>\n",
       "      <td>166.846</td>\n",
       "      <td>0.000000</td>\n",
       "      <td>...</td>\n",
       "      <td>0.0</td>\n",
       "      <td>0.0</td>\n",
       "      <td>0.0</td>\n",
       "      <td>0.0</td>\n",
       "      <td>0.0</td>\n",
       "      <td>1.0</td>\n",
       "      <td>0.0</td>\n",
       "      <td>1.0</td>\n",
       "      <td>0.0</td>\n",
       "      <td>0.0</td>\n",
       "    </tr>\n",
       "  </tbody>\n",
       "</table>\n",
       "<p>5977 rows × 1076 columns</p>\n",
       "</div>"
      ],
      "text/plain": [
       "      index       id  danceability  energy  speechiness  acousticness  \\\n",
       "0         0       23         0.494   0.756       0.0432      0.001400   \n",
       "1         1      105         0.582   0.744       0.0336      0.000458   \n",
       "2         2      118         0.614   0.755       0.0276      0.016200   \n",
       "3         3      120         0.319   0.807       0.0388      0.001040   \n",
       "4         4      292         0.496   0.527       0.0339      0.195000   \n",
       "...     ...      ...           ...     ...          ...           ...   \n",
       "5972   5974  6002496         0.509   0.537       0.0384      0.347000   \n",
       "5973   5975  6002497         0.725   0.583       0.0427      0.300000   \n",
       "5974   5976  6002498         0.399   0.787       0.0499      0.019700   \n",
       "5975   5977  6002499         0.376   0.435       0.0264      0.513000   \n",
       "5976   5978  6002500         0.734   0.663       0.3090      0.342000   \n",
       "\n",
       "      liveness  valence    tempo         0  ...  mood_5  mood_6  mood_7  \\\n",
       "0       0.1640    0.589  133.337  0.000000  ...     0.0     0.0     1.0   \n",
       "1       0.0405    0.674  133.344  0.185185  ...     0.0     0.0     0.0   \n",
       "2       0.0831    0.645   92.622  0.000000  ...     0.0     0.0     1.0   \n",
       "3       0.1310    0.601  118.097  0.029412  ...     0.0     0.0     1.0   \n",
       "4       0.1380    0.283  155.932  0.013889  ...     0.0     0.0     0.0   \n",
       "...        ...      ...      ...       ...  ...     ...     ...     ...   \n",
       "5972    0.0805    0.311  170.030  0.000000  ...     0.0     0.0     0.0   \n",
       "5973    0.0665    0.762   79.984  0.000000  ...     0.0     0.0     0.0   \n",
       "5974    0.0685    0.572  117.089  0.000000  ...     0.0     0.0     1.0   \n",
       "5975    0.1380    0.304   80.002  0.000000  ...     0.0     0.0     0.0   \n",
       "5976    0.6490    0.845  166.846  0.000000  ...     0.0     0.0     0.0   \n",
       "\n",
       "      mood_8  mood_9  mood_10  mood_11  instrumentalness_cat_0  \\\n",
       "0        0.0     0.0      0.0      0.0                     0.0   \n",
       "1        0.0     0.0      1.0      0.0                     0.0   \n",
       "2        0.0     0.0      0.0      0.0                     0.0   \n",
       "3        0.0     0.0      0.0      0.0                     0.0   \n",
       "4        0.0     0.0      0.0      0.0                     1.0   \n",
       "...      ...     ...      ...      ...                     ...   \n",
       "5972     0.0     0.0      0.0      0.0                     0.0   \n",
       "5973     0.0     0.0      1.0      0.0                     0.0   \n",
       "5974     0.0     0.0      0.0      0.0                     0.0   \n",
       "5975     0.0     0.0      0.0      0.0                     0.0   \n",
       "5976     0.0     0.0      1.0      0.0                     1.0   \n",
       "\n",
       "      instrumentalness_cat_1  instrumentalness_cat_2  \n",
       "0                        0.0                     1.0  \n",
       "1                        0.0                     1.0  \n",
       "2                        1.0                     0.0  \n",
       "3                        0.0                     1.0  \n",
       "4                        0.0                     0.0  \n",
       "...                      ...                     ...  \n",
       "5972                     1.0                     0.0  \n",
       "5973                     0.0                     1.0  \n",
       "5974                     1.0                     0.0  \n",
       "5975                     0.0                     1.0  \n",
       "5976                     0.0                     0.0  \n",
       "\n",
       "[5977 rows x 1076 columns]"
      ]
     },
     "execution_count": 110,
     "metadata": {},
     "output_type": "execute_result"
    }
   ],
   "source": [
    "df"
   ]
  },
  {
   "cell_type": "code",
   "execution_count": 112,
   "id": "9f70bf36-eb70-49da-814b-9232101d0bc1",
   "metadata": {},
   "outputs": [],
   "source": [
    "os.makedirs('./data', exist_ok=True)  \n",
    "df.to_csv('./data/unified/05-RawData.csv')"
   ]
  },
  {
   "cell_type": "code",
   "execution_count": 113,
   "id": "e95f5f67-6de8-4257-b8fe-c716123810b0",
   "metadata": {},
   "outputs": [],
   "source": [
    "y = pd.Series(encodedFeaturesNames)\n",
    "y.to_csv('./data/unified/05-encodedFeatureNames.csv')\n"
   ]
  },
  {
   "cell_type": "code",
   "execution_count": 114,
   "id": "74c98c60-7b10-44f7-94f7-00fc49aabd8d",
   "metadata": {},
   "outputs": [
    {
     "data": {
      "text/plain": [
       "array(['key_0', 'key_1', 'key_2', 'key_3', 'key_4', 'key_5', 'key_6',\n",
       "       'key_7', 'key_8', 'key_9', 'key_10', 'key_11', 'time_signature_0',\n",
       "       'time_signature_1', 'mode_0', 'mode_1', 'mood_1', 'mood_2',\n",
       "       'mood_3', 'mood_4', 'mood_5', 'mood_6', 'mood_7', 'mood_8',\n",
       "       'mood_9', 'mood_10', 'mood_11', 'instrumentalness_cat_0',\n",
       "       'instrumentalness_cat_1', 'instrumentalness_cat_2'], dtype=object)"
      ]
     },
     "execution_count": 114,
     "metadata": {},
     "output_type": "execute_result"
    }
   ],
   "source": [
    "encodedFeaturesNames"
   ]
  },
  {
   "cell_type": "code",
   "execution_count": 115,
   "id": "83c46894-1c59-4a4b-87c7-215592a51525",
   "metadata": {},
   "outputs": [
    {
     "data": {
      "text/plain": [
       "Index(['index', 'id', 'danceability', 'energy', 'speechiness', 'acousticness',\n",
       "       'liveness', 'valence', 'tempo', '0',\n",
       "       ...\n",
       "       'mood_5', 'mood_6', 'mood_7', 'mood_8', 'mood_9', 'mood_10', 'mood_11',\n",
       "       'instrumentalness_cat_0', 'instrumentalness_cat_1',\n",
       "       'instrumentalness_cat_2'],\n",
       "      dtype='object', length=1076)"
      ]
     },
     "execution_count": 115,
     "metadata": {},
     "output_type": "execute_result"
    }
   ],
   "source": [
    "df.columns"
   ]
  },
  {
   "cell_type": "code",
   "execution_count": 116,
   "id": "1332cf07-0e99-4d54-9655-170ce4717bdd",
   "metadata": {},
   "outputs": [
    {
     "data": {
      "text/html": [
       "<div>\n",
       "<style scoped>\n",
       "    .dataframe tbody tr th:only-of-type {\n",
       "        vertical-align: middle;\n",
       "    }\n",
       "\n",
       "    .dataframe tbody tr th {\n",
       "        vertical-align: top;\n",
       "    }\n",
       "\n",
       "    .dataframe thead th {\n",
       "        text-align: right;\n",
       "    }\n",
       "</style>\n",
       "<table border=\"1\" class=\"dataframe\">\n",
       "  <thead>\n",
       "    <tr style=\"text-align: right;\">\n",
       "      <th></th>\n",
       "      <th>index</th>\n",
       "      <th>id</th>\n",
       "      <th>danceability</th>\n",
       "      <th>energy</th>\n",
       "      <th>speechiness</th>\n",
       "      <th>acousticness</th>\n",
       "      <th>liveness</th>\n",
       "      <th>valence</th>\n",
       "      <th>tempo</th>\n",
       "      <th>0</th>\n",
       "      <th>...</th>\n",
       "      <th>mood_5</th>\n",
       "      <th>mood_6</th>\n",
       "      <th>mood_7</th>\n",
       "      <th>mood_8</th>\n",
       "      <th>mood_9</th>\n",
       "      <th>mood_10</th>\n",
       "      <th>mood_11</th>\n",
       "      <th>instrumentalness_cat_0</th>\n",
       "      <th>instrumentalness_cat_1</th>\n",
       "      <th>instrumentalness_cat_2</th>\n",
       "    </tr>\n",
       "  </thead>\n",
       "  <tbody>\n",
       "    <tr>\n",
       "      <th>0</th>\n",
       "      <td>0</td>\n",
       "      <td>23</td>\n",
       "      <td>0.494</td>\n",
       "      <td>0.756</td>\n",
       "      <td>0.0432</td>\n",
       "      <td>0.001400</td>\n",
       "      <td>0.1640</td>\n",
       "      <td>0.589</td>\n",
       "      <td>133.337</td>\n",
       "      <td>0.000000</td>\n",
       "      <td>...</td>\n",
       "      <td>0.0</td>\n",
       "      <td>0.0</td>\n",
       "      <td>1.0</td>\n",
       "      <td>0.0</td>\n",
       "      <td>0.0</td>\n",
       "      <td>0.0</td>\n",
       "      <td>0.0</td>\n",
       "      <td>0.0</td>\n",
       "      <td>0.0</td>\n",
       "      <td>1.0</td>\n",
       "    </tr>\n",
       "    <tr>\n",
       "      <th>1</th>\n",
       "      <td>1</td>\n",
       "      <td>105</td>\n",
       "      <td>0.582</td>\n",
       "      <td>0.744</td>\n",
       "      <td>0.0336</td>\n",
       "      <td>0.000458</td>\n",
       "      <td>0.0405</td>\n",
       "      <td>0.674</td>\n",
       "      <td>133.344</td>\n",
       "      <td>0.185185</td>\n",
       "      <td>...</td>\n",
       "      <td>0.0</td>\n",
       "      <td>0.0</td>\n",
       "      <td>0.0</td>\n",
       "      <td>0.0</td>\n",
       "      <td>0.0</td>\n",
       "      <td>1.0</td>\n",
       "      <td>0.0</td>\n",
       "      <td>0.0</td>\n",
       "      <td>0.0</td>\n",
       "      <td>1.0</td>\n",
       "    </tr>\n",
       "    <tr>\n",
       "      <th>2</th>\n",
       "      <td>2</td>\n",
       "      <td>118</td>\n",
       "      <td>0.614</td>\n",
       "      <td>0.755</td>\n",
       "      <td>0.0276</td>\n",
       "      <td>0.016200</td>\n",
       "      <td>0.0831</td>\n",
       "      <td>0.645</td>\n",
       "      <td>92.622</td>\n",
       "      <td>0.000000</td>\n",
       "      <td>...</td>\n",
       "      <td>0.0</td>\n",
       "      <td>0.0</td>\n",
       "      <td>1.0</td>\n",
       "      <td>0.0</td>\n",
       "      <td>0.0</td>\n",
       "      <td>0.0</td>\n",
       "      <td>0.0</td>\n",
       "      <td>0.0</td>\n",
       "      <td>1.0</td>\n",
       "      <td>0.0</td>\n",
       "    </tr>\n",
       "    <tr>\n",
       "      <th>3</th>\n",
       "      <td>3</td>\n",
       "      <td>120</td>\n",
       "      <td>0.319</td>\n",
       "      <td>0.807</td>\n",
       "      <td>0.0388</td>\n",
       "      <td>0.001040</td>\n",
       "      <td>0.1310</td>\n",
       "      <td>0.601</td>\n",
       "      <td>118.097</td>\n",
       "      <td>0.029412</td>\n",
       "      <td>...</td>\n",
       "      <td>0.0</td>\n",
       "      <td>0.0</td>\n",
       "      <td>1.0</td>\n",
       "      <td>0.0</td>\n",
       "      <td>0.0</td>\n",
       "      <td>0.0</td>\n",
       "      <td>0.0</td>\n",
       "      <td>0.0</td>\n",
       "      <td>0.0</td>\n",
       "      <td>1.0</td>\n",
       "    </tr>\n",
       "    <tr>\n",
       "      <th>4</th>\n",
       "      <td>4</td>\n",
       "      <td>292</td>\n",
       "      <td>0.496</td>\n",
       "      <td>0.527</td>\n",
       "      <td>0.0339</td>\n",
       "      <td>0.195000</td>\n",
       "      <td>0.1380</td>\n",
       "      <td>0.283</td>\n",
       "      <td>155.932</td>\n",
       "      <td>0.013889</td>\n",
       "      <td>...</td>\n",
       "      <td>0.0</td>\n",
       "      <td>0.0</td>\n",
       "      <td>0.0</td>\n",
       "      <td>0.0</td>\n",
       "      <td>0.0</td>\n",
       "      <td>0.0</td>\n",
       "      <td>0.0</td>\n",
       "      <td>1.0</td>\n",
       "      <td>0.0</td>\n",
       "      <td>0.0</td>\n",
       "    </tr>\n",
       "    <tr>\n",
       "      <th>...</th>\n",
       "      <td>...</td>\n",
       "      <td>...</td>\n",
       "      <td>...</td>\n",
       "      <td>...</td>\n",
       "      <td>...</td>\n",
       "      <td>...</td>\n",
       "      <td>...</td>\n",
       "      <td>...</td>\n",
       "      <td>...</td>\n",
       "      <td>...</td>\n",
       "      <td>...</td>\n",
       "      <td>...</td>\n",
       "      <td>...</td>\n",
       "      <td>...</td>\n",
       "      <td>...</td>\n",
       "      <td>...</td>\n",
       "      <td>...</td>\n",
       "      <td>...</td>\n",
       "      <td>...</td>\n",
       "      <td>...</td>\n",
       "      <td>...</td>\n",
       "    </tr>\n",
       "    <tr>\n",
       "      <th>5972</th>\n",
       "      <td>5974</td>\n",
       "      <td>6002496</td>\n",
       "      <td>0.509</td>\n",
       "      <td>0.537</td>\n",
       "      <td>0.0384</td>\n",
       "      <td>0.347000</td>\n",
       "      <td>0.0805</td>\n",
       "      <td>0.311</td>\n",
       "      <td>170.030</td>\n",
       "      <td>0.000000</td>\n",
       "      <td>...</td>\n",
       "      <td>0.0</td>\n",
       "      <td>0.0</td>\n",
       "      <td>0.0</td>\n",
       "      <td>0.0</td>\n",
       "      <td>0.0</td>\n",
       "      <td>0.0</td>\n",
       "      <td>0.0</td>\n",
       "      <td>0.0</td>\n",
       "      <td>1.0</td>\n",
       "      <td>0.0</td>\n",
       "    </tr>\n",
       "    <tr>\n",
       "      <th>5973</th>\n",
       "      <td>5975</td>\n",
       "      <td>6002497</td>\n",
       "      <td>0.725</td>\n",
       "      <td>0.583</td>\n",
       "      <td>0.0427</td>\n",
       "      <td>0.300000</td>\n",
       "      <td>0.0665</td>\n",
       "      <td>0.762</td>\n",
       "      <td>79.984</td>\n",
       "      <td>0.000000</td>\n",
       "      <td>...</td>\n",
       "      <td>0.0</td>\n",
       "      <td>0.0</td>\n",
       "      <td>0.0</td>\n",
       "      <td>0.0</td>\n",
       "      <td>0.0</td>\n",
       "      <td>1.0</td>\n",
       "      <td>0.0</td>\n",
       "      <td>0.0</td>\n",
       "      <td>0.0</td>\n",
       "      <td>1.0</td>\n",
       "    </tr>\n",
       "    <tr>\n",
       "      <th>5974</th>\n",
       "      <td>5976</td>\n",
       "      <td>6002498</td>\n",
       "      <td>0.399</td>\n",
       "      <td>0.787</td>\n",
       "      <td>0.0499</td>\n",
       "      <td>0.019700</td>\n",
       "      <td>0.0685</td>\n",
       "      <td>0.572</td>\n",
       "      <td>117.089</td>\n",
       "      <td>0.000000</td>\n",
       "      <td>...</td>\n",
       "      <td>0.0</td>\n",
       "      <td>0.0</td>\n",
       "      <td>1.0</td>\n",
       "      <td>0.0</td>\n",
       "      <td>0.0</td>\n",
       "      <td>0.0</td>\n",
       "      <td>0.0</td>\n",
       "      <td>0.0</td>\n",
       "      <td>1.0</td>\n",
       "      <td>0.0</td>\n",
       "    </tr>\n",
       "    <tr>\n",
       "      <th>5975</th>\n",
       "      <td>5977</td>\n",
       "      <td>6002499</td>\n",
       "      <td>0.376</td>\n",
       "      <td>0.435</td>\n",
       "      <td>0.0264</td>\n",
       "      <td>0.513000</td>\n",
       "      <td>0.1380</td>\n",
       "      <td>0.304</td>\n",
       "      <td>80.002</td>\n",
       "      <td>0.000000</td>\n",
       "      <td>...</td>\n",
       "      <td>0.0</td>\n",
       "      <td>0.0</td>\n",
       "      <td>0.0</td>\n",
       "      <td>0.0</td>\n",
       "      <td>0.0</td>\n",
       "      <td>0.0</td>\n",
       "      <td>0.0</td>\n",
       "      <td>0.0</td>\n",
       "      <td>0.0</td>\n",
       "      <td>1.0</td>\n",
       "    </tr>\n",
       "    <tr>\n",
       "      <th>5976</th>\n",
       "      <td>5978</td>\n",
       "      <td>6002500</td>\n",
       "      <td>0.734</td>\n",
       "      <td>0.663</td>\n",
       "      <td>0.3090</td>\n",
       "      <td>0.342000</td>\n",
       "      <td>0.6490</td>\n",
       "      <td>0.845</td>\n",
       "      <td>166.846</td>\n",
       "      <td>0.000000</td>\n",
       "      <td>...</td>\n",
       "      <td>0.0</td>\n",
       "      <td>0.0</td>\n",
       "      <td>0.0</td>\n",
       "      <td>0.0</td>\n",
       "      <td>0.0</td>\n",
       "      <td>1.0</td>\n",
       "      <td>0.0</td>\n",
       "      <td>1.0</td>\n",
       "      <td>0.0</td>\n",
       "      <td>0.0</td>\n",
       "    </tr>\n",
       "  </tbody>\n",
       "</table>\n",
       "<p>5977 rows × 1076 columns</p>\n",
       "</div>"
      ],
      "text/plain": [
       "      index       id  danceability  energy  speechiness  acousticness  \\\n",
       "0         0       23         0.494   0.756       0.0432      0.001400   \n",
       "1         1      105         0.582   0.744       0.0336      0.000458   \n",
       "2         2      118         0.614   0.755       0.0276      0.016200   \n",
       "3         3      120         0.319   0.807       0.0388      0.001040   \n",
       "4         4      292         0.496   0.527       0.0339      0.195000   \n",
       "...     ...      ...           ...     ...          ...           ...   \n",
       "5972   5974  6002496         0.509   0.537       0.0384      0.347000   \n",
       "5973   5975  6002497         0.725   0.583       0.0427      0.300000   \n",
       "5974   5976  6002498         0.399   0.787       0.0499      0.019700   \n",
       "5975   5977  6002499         0.376   0.435       0.0264      0.513000   \n",
       "5976   5978  6002500         0.734   0.663       0.3090      0.342000   \n",
       "\n",
       "      liveness  valence    tempo         0  ...  mood_5  mood_6  mood_7  \\\n",
       "0       0.1640    0.589  133.337  0.000000  ...     0.0     0.0     1.0   \n",
       "1       0.0405    0.674  133.344  0.185185  ...     0.0     0.0     0.0   \n",
       "2       0.0831    0.645   92.622  0.000000  ...     0.0     0.0     1.0   \n",
       "3       0.1310    0.601  118.097  0.029412  ...     0.0     0.0     1.0   \n",
       "4       0.1380    0.283  155.932  0.013889  ...     0.0     0.0     0.0   \n",
       "...        ...      ...      ...       ...  ...     ...     ...     ...   \n",
       "5972    0.0805    0.311  170.030  0.000000  ...     0.0     0.0     0.0   \n",
       "5973    0.0665    0.762   79.984  0.000000  ...     0.0     0.0     0.0   \n",
       "5974    0.0685    0.572  117.089  0.000000  ...     0.0     0.0     1.0   \n",
       "5975    0.1380    0.304   80.002  0.000000  ...     0.0     0.0     0.0   \n",
       "5976    0.6490    0.845  166.846  0.000000  ...     0.0     0.0     0.0   \n",
       "\n",
       "      mood_8  mood_9  mood_10  mood_11  instrumentalness_cat_0  \\\n",
       "0        0.0     0.0      0.0      0.0                     0.0   \n",
       "1        0.0     0.0      1.0      0.0                     0.0   \n",
       "2        0.0     0.0      0.0      0.0                     0.0   \n",
       "3        0.0     0.0      0.0      0.0                     0.0   \n",
       "4        0.0     0.0      0.0      0.0                     1.0   \n",
       "...      ...     ...      ...      ...                     ...   \n",
       "5972     0.0     0.0      0.0      0.0                     0.0   \n",
       "5973     0.0     0.0      1.0      0.0                     0.0   \n",
       "5974     0.0     0.0      0.0      0.0                     0.0   \n",
       "5975     0.0     0.0      0.0      0.0                     0.0   \n",
       "5976     0.0     0.0      1.0      0.0                     1.0   \n",
       "\n",
       "      instrumentalness_cat_1  instrumentalness_cat_2  \n",
       "0                        0.0                     1.0  \n",
       "1                        0.0                     1.0  \n",
       "2                        1.0                     0.0  \n",
       "3                        0.0                     1.0  \n",
       "4                        0.0                     0.0  \n",
       "...                      ...                     ...  \n",
       "5972                     1.0                     0.0  \n",
       "5973                     0.0                     1.0  \n",
       "5974                     1.0                     0.0  \n",
       "5975                     0.0                     1.0  \n",
       "5976                     0.0                     0.0  \n",
       "\n",
       "[5977 rows x 1076 columns]"
      ]
     },
     "execution_count": 116,
     "metadata": {},
     "output_type": "execute_result"
    }
   ],
   "source": [
    "df"
   ]
  },
  {
   "cell_type": "code",
   "execution_count": 118,
   "id": "523ed31c-1503-4aaa-b28d-9147e770a6b1",
   "metadata": {},
   "outputs": [],
   "source": [
    "os.makedirs('./data', exist_ok=True)  \n",
    "df.to_csv('./data/unified/05-allDataContinousCategoricalTransition.csv')"
   ]
  },
  {
   "cell_type": "code",
   "execution_count": 119,
   "id": "1211a452-ebf3-4225-a950-2d5dbf7b335b",
   "metadata": {},
   "outputs": [
    {
     "data": {
      "text/html": [
       "<div>\n",
       "<style scoped>\n",
       "    .dataframe tbody tr th:only-of-type {\n",
       "        vertical-align: middle;\n",
       "    }\n",
       "\n",
       "    .dataframe tbody tr th {\n",
       "        vertical-align: top;\n",
       "    }\n",
       "\n",
       "    .dataframe thead th {\n",
       "        text-align: right;\n",
       "    }\n",
       "</style>\n",
       "<table border=\"1\" class=\"dataframe\">\n",
       "  <thead>\n",
       "    <tr style=\"text-align: right;\">\n",
       "      <th></th>\n",
       "      <th>index</th>\n",
       "      <th>id</th>\n",
       "      <th>danceability</th>\n",
       "      <th>energy</th>\n",
       "      <th>speechiness</th>\n",
       "      <th>acousticness</th>\n",
       "      <th>liveness</th>\n",
       "      <th>valence</th>\n",
       "      <th>tempo</th>\n",
       "      <th>0</th>\n",
       "      <th>...</th>\n",
       "      <th>mood_5</th>\n",
       "      <th>mood_6</th>\n",
       "      <th>mood_7</th>\n",
       "      <th>mood_8</th>\n",
       "      <th>mood_9</th>\n",
       "      <th>mood_10</th>\n",
       "      <th>mood_11</th>\n",
       "      <th>instrumentalness_cat_0</th>\n",
       "      <th>instrumentalness_cat_1</th>\n",
       "      <th>instrumentalness_cat_2</th>\n",
       "    </tr>\n",
       "  </thead>\n",
       "  <tbody>\n",
       "    <tr>\n",
       "      <th>0</th>\n",
       "      <td>0</td>\n",
       "      <td>23</td>\n",
       "      <td>0.494</td>\n",
       "      <td>0.756</td>\n",
       "      <td>0.0432</td>\n",
       "      <td>0.001400</td>\n",
       "      <td>0.1640</td>\n",
       "      <td>0.589</td>\n",
       "      <td>133.337</td>\n",
       "      <td>0.000000</td>\n",
       "      <td>...</td>\n",
       "      <td>0.0</td>\n",
       "      <td>0.0</td>\n",
       "      <td>1.0</td>\n",
       "      <td>0.0</td>\n",
       "      <td>0.0</td>\n",
       "      <td>0.0</td>\n",
       "      <td>0.0</td>\n",
       "      <td>0.0</td>\n",
       "      <td>0.0</td>\n",
       "      <td>1.0</td>\n",
       "    </tr>\n",
       "    <tr>\n",
       "      <th>1</th>\n",
       "      <td>1</td>\n",
       "      <td>105</td>\n",
       "      <td>0.582</td>\n",
       "      <td>0.744</td>\n",
       "      <td>0.0336</td>\n",
       "      <td>0.000458</td>\n",
       "      <td>0.0405</td>\n",
       "      <td>0.674</td>\n",
       "      <td>133.344</td>\n",
       "      <td>0.185185</td>\n",
       "      <td>...</td>\n",
       "      <td>0.0</td>\n",
       "      <td>0.0</td>\n",
       "      <td>0.0</td>\n",
       "      <td>0.0</td>\n",
       "      <td>0.0</td>\n",
       "      <td>1.0</td>\n",
       "      <td>0.0</td>\n",
       "      <td>0.0</td>\n",
       "      <td>0.0</td>\n",
       "      <td>1.0</td>\n",
       "    </tr>\n",
       "    <tr>\n",
       "      <th>2</th>\n",
       "      <td>2</td>\n",
       "      <td>118</td>\n",
       "      <td>0.614</td>\n",
       "      <td>0.755</td>\n",
       "      <td>0.0276</td>\n",
       "      <td>0.016200</td>\n",
       "      <td>0.0831</td>\n",
       "      <td>0.645</td>\n",
       "      <td>92.622</td>\n",
       "      <td>0.000000</td>\n",
       "      <td>...</td>\n",
       "      <td>0.0</td>\n",
       "      <td>0.0</td>\n",
       "      <td>1.0</td>\n",
       "      <td>0.0</td>\n",
       "      <td>0.0</td>\n",
       "      <td>0.0</td>\n",
       "      <td>0.0</td>\n",
       "      <td>0.0</td>\n",
       "      <td>1.0</td>\n",
       "      <td>0.0</td>\n",
       "    </tr>\n",
       "    <tr>\n",
       "      <th>3</th>\n",
       "      <td>3</td>\n",
       "      <td>120</td>\n",
       "      <td>0.319</td>\n",
       "      <td>0.807</td>\n",
       "      <td>0.0388</td>\n",
       "      <td>0.001040</td>\n",
       "      <td>0.1310</td>\n",
       "      <td>0.601</td>\n",
       "      <td>118.097</td>\n",
       "      <td>0.029412</td>\n",
       "      <td>...</td>\n",
       "      <td>0.0</td>\n",
       "      <td>0.0</td>\n",
       "      <td>1.0</td>\n",
       "      <td>0.0</td>\n",
       "      <td>0.0</td>\n",
       "      <td>0.0</td>\n",
       "      <td>0.0</td>\n",
       "      <td>0.0</td>\n",
       "      <td>0.0</td>\n",
       "      <td>1.0</td>\n",
       "    </tr>\n",
       "    <tr>\n",
       "      <th>4</th>\n",
       "      <td>4</td>\n",
       "      <td>292</td>\n",
       "      <td>0.496</td>\n",
       "      <td>0.527</td>\n",
       "      <td>0.0339</td>\n",
       "      <td>0.195000</td>\n",
       "      <td>0.1380</td>\n",
       "      <td>0.283</td>\n",
       "      <td>155.932</td>\n",
       "      <td>0.013889</td>\n",
       "      <td>...</td>\n",
       "      <td>0.0</td>\n",
       "      <td>0.0</td>\n",
       "      <td>0.0</td>\n",
       "      <td>0.0</td>\n",
       "      <td>0.0</td>\n",
       "      <td>0.0</td>\n",
       "      <td>0.0</td>\n",
       "      <td>1.0</td>\n",
       "      <td>0.0</td>\n",
       "      <td>0.0</td>\n",
       "    </tr>\n",
       "    <tr>\n",
       "      <th>...</th>\n",
       "      <td>...</td>\n",
       "      <td>...</td>\n",
       "      <td>...</td>\n",
       "      <td>...</td>\n",
       "      <td>...</td>\n",
       "      <td>...</td>\n",
       "      <td>...</td>\n",
       "      <td>...</td>\n",
       "      <td>...</td>\n",
       "      <td>...</td>\n",
       "      <td>...</td>\n",
       "      <td>...</td>\n",
       "      <td>...</td>\n",
       "      <td>...</td>\n",
       "      <td>...</td>\n",
       "      <td>...</td>\n",
       "      <td>...</td>\n",
       "      <td>...</td>\n",
       "      <td>...</td>\n",
       "      <td>...</td>\n",
       "      <td>...</td>\n",
       "    </tr>\n",
       "    <tr>\n",
       "      <th>5972</th>\n",
       "      <td>5974</td>\n",
       "      <td>6002496</td>\n",
       "      <td>0.509</td>\n",
       "      <td>0.537</td>\n",
       "      <td>0.0384</td>\n",
       "      <td>0.347000</td>\n",
       "      <td>0.0805</td>\n",
       "      <td>0.311</td>\n",
       "      <td>170.030</td>\n",
       "      <td>0.000000</td>\n",
       "      <td>...</td>\n",
       "      <td>0.0</td>\n",
       "      <td>0.0</td>\n",
       "      <td>0.0</td>\n",
       "      <td>0.0</td>\n",
       "      <td>0.0</td>\n",
       "      <td>0.0</td>\n",
       "      <td>0.0</td>\n",
       "      <td>0.0</td>\n",
       "      <td>1.0</td>\n",
       "      <td>0.0</td>\n",
       "    </tr>\n",
       "    <tr>\n",
       "      <th>5973</th>\n",
       "      <td>5975</td>\n",
       "      <td>6002497</td>\n",
       "      <td>0.725</td>\n",
       "      <td>0.583</td>\n",
       "      <td>0.0427</td>\n",
       "      <td>0.300000</td>\n",
       "      <td>0.0665</td>\n",
       "      <td>0.762</td>\n",
       "      <td>79.984</td>\n",
       "      <td>0.000000</td>\n",
       "      <td>...</td>\n",
       "      <td>0.0</td>\n",
       "      <td>0.0</td>\n",
       "      <td>0.0</td>\n",
       "      <td>0.0</td>\n",
       "      <td>0.0</td>\n",
       "      <td>1.0</td>\n",
       "      <td>0.0</td>\n",
       "      <td>0.0</td>\n",
       "      <td>0.0</td>\n",
       "      <td>1.0</td>\n",
       "    </tr>\n",
       "    <tr>\n",
       "      <th>5974</th>\n",
       "      <td>5976</td>\n",
       "      <td>6002498</td>\n",
       "      <td>0.399</td>\n",
       "      <td>0.787</td>\n",
       "      <td>0.0499</td>\n",
       "      <td>0.019700</td>\n",
       "      <td>0.0685</td>\n",
       "      <td>0.572</td>\n",
       "      <td>117.089</td>\n",
       "      <td>0.000000</td>\n",
       "      <td>...</td>\n",
       "      <td>0.0</td>\n",
       "      <td>0.0</td>\n",
       "      <td>1.0</td>\n",
       "      <td>0.0</td>\n",
       "      <td>0.0</td>\n",
       "      <td>0.0</td>\n",
       "      <td>0.0</td>\n",
       "      <td>0.0</td>\n",
       "      <td>1.0</td>\n",
       "      <td>0.0</td>\n",
       "    </tr>\n",
       "    <tr>\n",
       "      <th>5975</th>\n",
       "      <td>5977</td>\n",
       "      <td>6002499</td>\n",
       "      <td>0.376</td>\n",
       "      <td>0.435</td>\n",
       "      <td>0.0264</td>\n",
       "      <td>0.513000</td>\n",
       "      <td>0.1380</td>\n",
       "      <td>0.304</td>\n",
       "      <td>80.002</td>\n",
       "      <td>0.000000</td>\n",
       "      <td>...</td>\n",
       "      <td>0.0</td>\n",
       "      <td>0.0</td>\n",
       "      <td>0.0</td>\n",
       "      <td>0.0</td>\n",
       "      <td>0.0</td>\n",
       "      <td>0.0</td>\n",
       "      <td>0.0</td>\n",
       "      <td>0.0</td>\n",
       "      <td>0.0</td>\n",
       "      <td>1.0</td>\n",
       "    </tr>\n",
       "    <tr>\n",
       "      <th>5976</th>\n",
       "      <td>5978</td>\n",
       "      <td>6002500</td>\n",
       "      <td>0.734</td>\n",
       "      <td>0.663</td>\n",
       "      <td>0.3090</td>\n",
       "      <td>0.342000</td>\n",
       "      <td>0.6490</td>\n",
       "      <td>0.845</td>\n",
       "      <td>166.846</td>\n",
       "      <td>0.000000</td>\n",
       "      <td>...</td>\n",
       "      <td>0.0</td>\n",
       "      <td>0.0</td>\n",
       "      <td>0.0</td>\n",
       "      <td>0.0</td>\n",
       "      <td>0.0</td>\n",
       "      <td>1.0</td>\n",
       "      <td>0.0</td>\n",
       "      <td>1.0</td>\n",
       "      <td>0.0</td>\n",
       "      <td>0.0</td>\n",
       "    </tr>\n",
       "  </tbody>\n",
       "</table>\n",
       "<p>5977 rows × 1076 columns</p>\n",
       "</div>"
      ],
      "text/plain": [
       "      index       id  danceability  energy  speechiness  acousticness  \\\n",
       "0         0       23         0.494   0.756       0.0432      0.001400   \n",
       "1         1      105         0.582   0.744       0.0336      0.000458   \n",
       "2         2      118         0.614   0.755       0.0276      0.016200   \n",
       "3         3      120         0.319   0.807       0.0388      0.001040   \n",
       "4         4      292         0.496   0.527       0.0339      0.195000   \n",
       "...     ...      ...           ...     ...          ...           ...   \n",
       "5972   5974  6002496         0.509   0.537       0.0384      0.347000   \n",
       "5973   5975  6002497         0.725   0.583       0.0427      0.300000   \n",
       "5974   5976  6002498         0.399   0.787       0.0499      0.019700   \n",
       "5975   5977  6002499         0.376   0.435       0.0264      0.513000   \n",
       "5976   5978  6002500         0.734   0.663       0.3090      0.342000   \n",
       "\n",
       "      liveness  valence    tempo         0  ...  mood_5  mood_6  mood_7  \\\n",
       "0       0.1640    0.589  133.337  0.000000  ...     0.0     0.0     1.0   \n",
       "1       0.0405    0.674  133.344  0.185185  ...     0.0     0.0     0.0   \n",
       "2       0.0831    0.645   92.622  0.000000  ...     0.0     0.0     1.0   \n",
       "3       0.1310    0.601  118.097  0.029412  ...     0.0     0.0     1.0   \n",
       "4       0.1380    0.283  155.932  0.013889  ...     0.0     0.0     0.0   \n",
       "...        ...      ...      ...       ...  ...     ...     ...     ...   \n",
       "5972    0.0805    0.311  170.030  0.000000  ...     0.0     0.0     0.0   \n",
       "5973    0.0665    0.762   79.984  0.000000  ...     0.0     0.0     0.0   \n",
       "5974    0.0685    0.572  117.089  0.000000  ...     0.0     0.0     1.0   \n",
       "5975    0.1380    0.304   80.002  0.000000  ...     0.0     0.0     0.0   \n",
       "5976    0.6490    0.845  166.846  0.000000  ...     0.0     0.0     0.0   \n",
       "\n",
       "      mood_8  mood_9  mood_10  mood_11  instrumentalness_cat_0  \\\n",
       "0        0.0     0.0      0.0      0.0                     0.0   \n",
       "1        0.0     0.0      1.0      0.0                     0.0   \n",
       "2        0.0     0.0      0.0      0.0                     0.0   \n",
       "3        0.0     0.0      0.0      0.0                     0.0   \n",
       "4        0.0     0.0      0.0      0.0                     1.0   \n",
       "...      ...     ...      ...      ...                     ...   \n",
       "5972     0.0     0.0      0.0      0.0                     0.0   \n",
       "5973     0.0     0.0      1.0      0.0                     0.0   \n",
       "5974     0.0     0.0      0.0      0.0                     0.0   \n",
       "5975     0.0     0.0      0.0      0.0                     0.0   \n",
       "5976     0.0     0.0      1.0      0.0                     1.0   \n",
       "\n",
       "      instrumentalness_cat_1  instrumentalness_cat_2  \n",
       "0                        0.0                     1.0  \n",
       "1                        0.0                     1.0  \n",
       "2                        1.0                     0.0  \n",
       "3                        0.0                     1.0  \n",
       "4                        0.0                     0.0  \n",
       "...                      ...                     ...  \n",
       "5972                     1.0                     0.0  \n",
       "5973                     0.0                     1.0  \n",
       "5974                     1.0                     0.0  \n",
       "5975                     0.0                     1.0  \n",
       "5976                     0.0                     0.0  \n",
       "\n",
       "[5977 rows x 1076 columns]"
      ]
     },
     "execution_count": 119,
     "metadata": {},
     "output_type": "execute_result"
    }
   ],
   "source": [
    "df"
   ]
  },
  {
   "cell_type": "code",
   "execution_count": 120,
   "id": "463ae57e-3fb8-422f-ad52-a4c44699b560",
   "metadata": {},
   "outputs": [
    {
     "data": {
      "text/html": [
       "<div>\n",
       "<style scoped>\n",
       "    .dataframe tbody tr th:only-of-type {\n",
       "        vertical-align: middle;\n",
       "    }\n",
       "\n",
       "    .dataframe tbody tr th {\n",
       "        vertical-align: top;\n",
       "    }\n",
       "\n",
       "    .dataframe thead th {\n",
       "        text-align: right;\n",
       "    }\n",
       "</style>\n",
       "<table border=\"1\" class=\"dataframe\">\n",
       "  <thead>\n",
       "    <tr style=\"text-align: right;\">\n",
       "      <th></th>\n",
       "      <th>index</th>\n",
       "      <th>id</th>\n",
       "      <th>danceability</th>\n",
       "      <th>energy</th>\n",
       "      <th>speechiness</th>\n",
       "      <th>acousticness</th>\n",
       "      <th>liveness</th>\n",
       "      <th>valence</th>\n",
       "      <th>tempo</th>\n",
       "      <th>0</th>\n",
       "      <th>...</th>\n",
       "      <th>mood_5</th>\n",
       "      <th>mood_6</th>\n",
       "      <th>mood_7</th>\n",
       "      <th>mood_8</th>\n",
       "      <th>mood_9</th>\n",
       "      <th>mood_10</th>\n",
       "      <th>mood_11</th>\n",
       "      <th>instrumentalness_cat_0</th>\n",
       "      <th>instrumentalness_cat_1</th>\n",
       "      <th>instrumentalness_cat_2</th>\n",
       "    </tr>\n",
       "  </thead>\n",
       "  <tbody>\n",
       "    <tr>\n",
       "      <th>0</th>\n",
       "      <td>0</td>\n",
       "      <td>23</td>\n",
       "      <td>0.494</td>\n",
       "      <td>0.756</td>\n",
       "      <td>0.0432</td>\n",
       "      <td>0.001400</td>\n",
       "      <td>0.1640</td>\n",
       "      <td>0.589</td>\n",
       "      <td>133.337</td>\n",
       "      <td>0.000000</td>\n",
       "      <td>...</td>\n",
       "      <td>0.0</td>\n",
       "      <td>0.0</td>\n",
       "      <td>1.0</td>\n",
       "      <td>0.0</td>\n",
       "      <td>0.0</td>\n",
       "      <td>0.0</td>\n",
       "      <td>0.0</td>\n",
       "      <td>0.0</td>\n",
       "      <td>0.0</td>\n",
       "      <td>1.0</td>\n",
       "    </tr>\n",
       "    <tr>\n",
       "      <th>1</th>\n",
       "      <td>1</td>\n",
       "      <td>105</td>\n",
       "      <td>0.582</td>\n",
       "      <td>0.744</td>\n",
       "      <td>0.0336</td>\n",
       "      <td>0.000458</td>\n",
       "      <td>0.0405</td>\n",
       "      <td>0.674</td>\n",
       "      <td>133.344</td>\n",
       "      <td>0.185185</td>\n",
       "      <td>...</td>\n",
       "      <td>0.0</td>\n",
       "      <td>0.0</td>\n",
       "      <td>0.0</td>\n",
       "      <td>0.0</td>\n",
       "      <td>0.0</td>\n",
       "      <td>1.0</td>\n",
       "      <td>0.0</td>\n",
       "      <td>0.0</td>\n",
       "      <td>0.0</td>\n",
       "      <td>1.0</td>\n",
       "    </tr>\n",
       "    <tr>\n",
       "      <th>2</th>\n",
       "      <td>2</td>\n",
       "      <td>118</td>\n",
       "      <td>0.614</td>\n",
       "      <td>0.755</td>\n",
       "      <td>0.0276</td>\n",
       "      <td>0.016200</td>\n",
       "      <td>0.0831</td>\n",
       "      <td>0.645</td>\n",
       "      <td>92.622</td>\n",
       "      <td>0.000000</td>\n",
       "      <td>...</td>\n",
       "      <td>0.0</td>\n",
       "      <td>0.0</td>\n",
       "      <td>1.0</td>\n",
       "      <td>0.0</td>\n",
       "      <td>0.0</td>\n",
       "      <td>0.0</td>\n",
       "      <td>0.0</td>\n",
       "      <td>0.0</td>\n",
       "      <td>1.0</td>\n",
       "      <td>0.0</td>\n",
       "    </tr>\n",
       "    <tr>\n",
       "      <th>3</th>\n",
       "      <td>3</td>\n",
       "      <td>120</td>\n",
       "      <td>0.319</td>\n",
       "      <td>0.807</td>\n",
       "      <td>0.0388</td>\n",
       "      <td>0.001040</td>\n",
       "      <td>0.1310</td>\n",
       "      <td>0.601</td>\n",
       "      <td>118.097</td>\n",
       "      <td>0.029412</td>\n",
       "      <td>...</td>\n",
       "      <td>0.0</td>\n",
       "      <td>0.0</td>\n",
       "      <td>1.0</td>\n",
       "      <td>0.0</td>\n",
       "      <td>0.0</td>\n",
       "      <td>0.0</td>\n",
       "      <td>0.0</td>\n",
       "      <td>0.0</td>\n",
       "      <td>0.0</td>\n",
       "      <td>1.0</td>\n",
       "    </tr>\n",
       "    <tr>\n",
       "      <th>4</th>\n",
       "      <td>4</td>\n",
       "      <td>292</td>\n",
       "      <td>0.496</td>\n",
       "      <td>0.527</td>\n",
       "      <td>0.0339</td>\n",
       "      <td>0.195000</td>\n",
       "      <td>0.1380</td>\n",
       "      <td>0.283</td>\n",
       "      <td>155.932</td>\n",
       "      <td>0.013889</td>\n",
       "      <td>...</td>\n",
       "      <td>0.0</td>\n",
       "      <td>0.0</td>\n",
       "      <td>0.0</td>\n",
       "      <td>0.0</td>\n",
       "      <td>0.0</td>\n",
       "      <td>0.0</td>\n",
       "      <td>0.0</td>\n",
       "      <td>1.0</td>\n",
       "      <td>0.0</td>\n",
       "      <td>0.0</td>\n",
       "    </tr>\n",
       "    <tr>\n",
       "      <th>...</th>\n",
       "      <td>...</td>\n",
       "      <td>...</td>\n",
       "      <td>...</td>\n",
       "      <td>...</td>\n",
       "      <td>...</td>\n",
       "      <td>...</td>\n",
       "      <td>...</td>\n",
       "      <td>...</td>\n",
       "      <td>...</td>\n",
       "      <td>...</td>\n",
       "      <td>...</td>\n",
       "      <td>...</td>\n",
       "      <td>...</td>\n",
       "      <td>...</td>\n",
       "      <td>...</td>\n",
       "      <td>...</td>\n",
       "      <td>...</td>\n",
       "      <td>...</td>\n",
       "      <td>...</td>\n",
       "      <td>...</td>\n",
       "      <td>...</td>\n",
       "    </tr>\n",
       "    <tr>\n",
       "      <th>5972</th>\n",
       "      <td>5974</td>\n",
       "      <td>6002496</td>\n",
       "      <td>0.509</td>\n",
       "      <td>0.537</td>\n",
       "      <td>0.0384</td>\n",
       "      <td>0.347000</td>\n",
       "      <td>0.0805</td>\n",
       "      <td>0.311</td>\n",
       "      <td>170.030</td>\n",
       "      <td>0.000000</td>\n",
       "      <td>...</td>\n",
       "      <td>0.0</td>\n",
       "      <td>0.0</td>\n",
       "      <td>0.0</td>\n",
       "      <td>0.0</td>\n",
       "      <td>0.0</td>\n",
       "      <td>0.0</td>\n",
       "      <td>0.0</td>\n",
       "      <td>0.0</td>\n",
       "      <td>1.0</td>\n",
       "      <td>0.0</td>\n",
       "    </tr>\n",
       "    <tr>\n",
       "      <th>5973</th>\n",
       "      <td>5975</td>\n",
       "      <td>6002497</td>\n",
       "      <td>0.725</td>\n",
       "      <td>0.583</td>\n",
       "      <td>0.0427</td>\n",
       "      <td>0.300000</td>\n",
       "      <td>0.0665</td>\n",
       "      <td>0.762</td>\n",
       "      <td>79.984</td>\n",
       "      <td>0.000000</td>\n",
       "      <td>...</td>\n",
       "      <td>0.0</td>\n",
       "      <td>0.0</td>\n",
       "      <td>0.0</td>\n",
       "      <td>0.0</td>\n",
       "      <td>0.0</td>\n",
       "      <td>1.0</td>\n",
       "      <td>0.0</td>\n",
       "      <td>0.0</td>\n",
       "      <td>0.0</td>\n",
       "      <td>1.0</td>\n",
       "    </tr>\n",
       "    <tr>\n",
       "      <th>5974</th>\n",
       "      <td>5976</td>\n",
       "      <td>6002498</td>\n",
       "      <td>0.399</td>\n",
       "      <td>0.787</td>\n",
       "      <td>0.0499</td>\n",
       "      <td>0.019700</td>\n",
       "      <td>0.0685</td>\n",
       "      <td>0.572</td>\n",
       "      <td>117.089</td>\n",
       "      <td>0.000000</td>\n",
       "      <td>...</td>\n",
       "      <td>0.0</td>\n",
       "      <td>0.0</td>\n",
       "      <td>1.0</td>\n",
       "      <td>0.0</td>\n",
       "      <td>0.0</td>\n",
       "      <td>0.0</td>\n",
       "      <td>0.0</td>\n",
       "      <td>0.0</td>\n",
       "      <td>1.0</td>\n",
       "      <td>0.0</td>\n",
       "    </tr>\n",
       "    <tr>\n",
       "      <th>5975</th>\n",
       "      <td>5977</td>\n",
       "      <td>6002499</td>\n",
       "      <td>0.376</td>\n",
       "      <td>0.435</td>\n",
       "      <td>0.0264</td>\n",
       "      <td>0.513000</td>\n",
       "      <td>0.1380</td>\n",
       "      <td>0.304</td>\n",
       "      <td>80.002</td>\n",
       "      <td>0.000000</td>\n",
       "      <td>...</td>\n",
       "      <td>0.0</td>\n",
       "      <td>0.0</td>\n",
       "      <td>0.0</td>\n",
       "      <td>0.0</td>\n",
       "      <td>0.0</td>\n",
       "      <td>0.0</td>\n",
       "      <td>0.0</td>\n",
       "      <td>0.0</td>\n",
       "      <td>0.0</td>\n",
       "      <td>1.0</td>\n",
       "    </tr>\n",
       "    <tr>\n",
       "      <th>5976</th>\n",
       "      <td>5978</td>\n",
       "      <td>6002500</td>\n",
       "      <td>0.734</td>\n",
       "      <td>0.663</td>\n",
       "      <td>0.3090</td>\n",
       "      <td>0.342000</td>\n",
       "      <td>0.6490</td>\n",
       "      <td>0.845</td>\n",
       "      <td>166.846</td>\n",
       "      <td>0.000000</td>\n",
       "      <td>...</td>\n",
       "      <td>0.0</td>\n",
       "      <td>0.0</td>\n",
       "      <td>0.0</td>\n",
       "      <td>0.0</td>\n",
       "      <td>0.0</td>\n",
       "      <td>1.0</td>\n",
       "      <td>0.0</td>\n",
       "      <td>1.0</td>\n",
       "      <td>0.0</td>\n",
       "      <td>0.0</td>\n",
       "    </tr>\n",
       "  </tbody>\n",
       "</table>\n",
       "<p>5977 rows × 1076 columns</p>\n",
       "</div>"
      ],
      "text/plain": [
       "      index       id  danceability  energy  speechiness  acousticness  \\\n",
       "0         0       23         0.494   0.756       0.0432      0.001400   \n",
       "1         1      105         0.582   0.744       0.0336      0.000458   \n",
       "2         2      118         0.614   0.755       0.0276      0.016200   \n",
       "3         3      120         0.319   0.807       0.0388      0.001040   \n",
       "4         4      292         0.496   0.527       0.0339      0.195000   \n",
       "...     ...      ...           ...     ...          ...           ...   \n",
       "5972   5974  6002496         0.509   0.537       0.0384      0.347000   \n",
       "5973   5975  6002497         0.725   0.583       0.0427      0.300000   \n",
       "5974   5976  6002498         0.399   0.787       0.0499      0.019700   \n",
       "5975   5977  6002499         0.376   0.435       0.0264      0.513000   \n",
       "5976   5978  6002500         0.734   0.663       0.3090      0.342000   \n",
       "\n",
       "      liveness  valence    tempo         0  ...  mood_5  mood_6  mood_7  \\\n",
       "0       0.1640    0.589  133.337  0.000000  ...     0.0     0.0     1.0   \n",
       "1       0.0405    0.674  133.344  0.185185  ...     0.0     0.0     0.0   \n",
       "2       0.0831    0.645   92.622  0.000000  ...     0.0     0.0     1.0   \n",
       "3       0.1310    0.601  118.097  0.029412  ...     0.0     0.0     1.0   \n",
       "4       0.1380    0.283  155.932  0.013889  ...     0.0     0.0     0.0   \n",
       "...        ...      ...      ...       ...  ...     ...     ...     ...   \n",
       "5972    0.0805    0.311  170.030  0.000000  ...     0.0     0.0     0.0   \n",
       "5973    0.0665    0.762   79.984  0.000000  ...     0.0     0.0     0.0   \n",
       "5974    0.0685    0.572  117.089  0.000000  ...     0.0     0.0     1.0   \n",
       "5975    0.1380    0.304   80.002  0.000000  ...     0.0     0.0     0.0   \n",
       "5976    0.6490    0.845  166.846  0.000000  ...     0.0     0.0     0.0   \n",
       "\n",
       "      mood_8  mood_9  mood_10  mood_11  instrumentalness_cat_0  \\\n",
       "0        0.0     0.0      0.0      0.0                     0.0   \n",
       "1        0.0     0.0      1.0      0.0                     0.0   \n",
       "2        0.0     0.0      0.0      0.0                     0.0   \n",
       "3        0.0     0.0      0.0      0.0                     0.0   \n",
       "4        0.0     0.0      0.0      0.0                     1.0   \n",
       "...      ...     ...      ...      ...                     ...   \n",
       "5972     0.0     0.0      0.0      0.0                     0.0   \n",
       "5973     0.0     0.0      1.0      0.0                     0.0   \n",
       "5974     0.0     0.0      0.0      0.0                     0.0   \n",
       "5975     0.0     0.0      0.0      0.0                     0.0   \n",
       "5976     0.0     0.0      1.0      0.0                     1.0   \n",
       "\n",
       "      instrumentalness_cat_1  instrumentalness_cat_2  \n",
       "0                        0.0                     1.0  \n",
       "1                        0.0                     1.0  \n",
       "2                        1.0                     0.0  \n",
       "3                        0.0                     1.0  \n",
       "4                        0.0                     0.0  \n",
       "...                      ...                     ...  \n",
       "5972                     1.0                     0.0  \n",
       "5973                     0.0                     1.0  \n",
       "5974                     1.0                     0.0  \n",
       "5975                     0.0                     1.0  \n",
       "5976                     0.0                     0.0  \n",
       "\n",
       "[5977 rows x 1076 columns]"
      ]
     },
     "execution_count": 120,
     "metadata": {},
     "output_type": "execute_result"
    }
   ],
   "source": [
    "df\n"
   ]
  },
  {
   "cell_type": "code",
   "execution_count": null,
   "id": "d42cd69a-4e8c-4e05-9123-8185d4ae9276",
   "metadata": {},
   "outputs": [],
   "source": []
  }
 ],
 "metadata": {
  "kernelspec": {
   "display_name": "Python 3.10.5 64-bit",
   "language": "python",
   "name": "python3"
  },
  "language_info": {
   "codemirror_mode": {
    "name": "ipython",
    "version": 3
   },
   "file_extension": ".py",
   "mimetype": "text/x-python",
   "name": "python",
   "nbconvert_exporter": "python",
   "pygments_lexer": "ipython3",
   "version": "3.10.5"
  },
  "vscode": {
   "interpreter": {
    "hash": "0167474e25ac903b7ed206b2a6261fba13c5d8405c8ccde398587cd3f7fc7183"
   }
  }
 },
 "nbformat": 4,
 "nbformat_minor": 5
}
