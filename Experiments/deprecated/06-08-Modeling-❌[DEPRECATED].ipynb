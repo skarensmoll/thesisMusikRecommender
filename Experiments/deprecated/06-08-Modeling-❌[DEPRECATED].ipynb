{
 "cells": [
  {
   "cell_type": "markdown",
   "id": "559fde27-7a63-4edc-abc9-49227ccb0b90",
   "metadata": {},
   "source": [
    "# 06-08"
   ]
  },
  {
   "cell_type": "markdown",
   "id": "5c58d0da-cca3-495e-8ed8-ed4bca33b662",
   "metadata": {},
   "source": [
    "<font color=\"red\">[DEPRECATED] because it is using euclidean distance with categorical features</font>\n"
   ]
  },
  {
   "cell_type": "code",
   "execution_count": 1,
   "id": "200f333f-337e-4a63-b3e3-ace904b0ace7",
   "metadata": {},
   "outputs": [],
   "source": [
    "import pandas as pd\n",
    "from sklearn.cluster import KMeans\n",
    "import seaborn as sns\n",
    "from matplotlib import pyplot as plt \n",
    "import math\n",
    "from ipynb.fs.full.Utils import createKDeplot, loadCoverGroups\n",
    "import numpy as np\n",
    "from sklearn.preprocessing import StandardScaler\n",
    "from ipynb.fs.full.Pipeline import removeConstantFeatures, applyBoxCoxAllFeatures, centerAndScale, applyEuclideanDistance, getIndexAndVector"
   ]
  },
  {
   "cell_type": "code",
   "execution_count": 2,
   "id": "2ab11b05-5396-41a4-bb1c-6b631bb3aa60",
   "metadata": {},
   "outputs": [],
   "source": [
    "df = pd.read_csv('./data/05-RawData.csv')\n",
    "encodedFeaturesNames = pd.read_csv('./data/05-encodedFeatureNames.csv')\n",
    "encodedFeaturesNames = encodedFeaturesNames['0'].values.tolist()"
   ]
  },
  {
   "cell_type": "code",
   "execution_count": 3,
   "id": "33b5ff64-be96-4b4e-ba0b-6b51a650184c",
   "metadata": {},
   "outputs": [],
   "source": [
    "# Separating encodedFeatures from continous features\n",
    "encodedFeatures = df[encodedFeaturesNames]\n",
    "featuresToScale = df.drop(encodedFeaturesNames, axis=1)\n",
    "featuresToScale = featuresToScale.iloc[:, 2:]\n",
    "df = featuresToScale"
   ]
  },
  {
   "cell_type": "code",
   "execution_count": 4,
   "id": "2fa4c5b0-59ec-4355-a688-25bb909e046b",
   "metadata": {},
   "outputs": [],
   "source": [
    "df.id = df.id.astype('int64')\n",
    "# Saving idChords\n",
    "ids = df.id\n",
    "df = df.set_index('id')\n",
    "df.reset_index(drop=True, inplace=True)"
   ]
  },
  {
   "cell_type": "code",
   "execution_count": 5,
   "id": "8d4d4505-4604-4c27-b235-c06448b987c7",
   "metadata": {},
   "outputs": [],
   "source": [
    "df = df[['speechiness' ,'danceability', 'energy', 'acousticness', 'liveness', 'valence', 'tempo']]"
   ]
  },
  {
   "cell_type": "code",
   "execution_count": 6,
   "id": "39a2e314-2399-4867-ba22-4f986e79840b",
   "metadata": {},
   "outputs": [
    {
     "data": {
      "text/html": [
       "<div>\n",
       "<style scoped>\n",
       "    .dataframe tbody tr th:only-of-type {\n",
       "        vertical-align: middle;\n",
       "    }\n",
       "\n",
       "    .dataframe tbody tr th {\n",
       "        vertical-align: top;\n",
       "    }\n",
       "\n",
       "    .dataframe thead th {\n",
       "        text-align: right;\n",
       "    }\n",
       "</style>\n",
       "<table border=\"1\" class=\"dataframe\">\n",
       "  <thead>\n",
       "    <tr style=\"text-align: right;\">\n",
       "      <th></th>\n",
       "      <th>speechiness</th>\n",
       "      <th>danceability</th>\n",
       "      <th>energy</th>\n",
       "      <th>acousticness</th>\n",
       "      <th>liveness</th>\n",
       "      <th>valence</th>\n",
       "      <th>tempo</th>\n",
       "    </tr>\n",
       "  </thead>\n",
       "  <tbody>\n",
       "    <tr>\n",
       "      <th>0</th>\n",
       "      <td>0.0432</td>\n",
       "      <td>0.494</td>\n",
       "      <td>0.756</td>\n",
       "      <td>0.0014</td>\n",
       "      <td>0.164</td>\n",
       "      <td>0.589</td>\n",
       "      <td>133.337</td>\n",
       "    </tr>\n",
       "  </tbody>\n",
       "</table>\n",
       "</div>"
      ],
      "text/plain": [
       "   speechiness  danceability  energy  acousticness  liveness  valence    tempo\n",
       "0       0.0432         0.494   0.756        0.0014     0.164    0.589  133.337"
      ]
     },
     "execution_count": 6,
     "metadata": {},
     "output_type": "execute_result"
    }
   ],
   "source": [
    "df.head(1)"
   ]
  },
  {
   "cell_type": "markdown",
   "id": "9170b638-5b90-485f-b85b-18ff101ec4f3",
   "metadata": {},
   "source": [
    "## Pipeline"
   ]
  },
  {
   "cell_type": "code",
   "execution_count": 82,
   "id": "094723c1-df44-481b-af40-3ce467b6d32d",
   "metadata": {},
   "outputs": [],
   "source": [
    "df = removeConstantFeatures(df)\n",
    "df = centerAndScale(df)"
   ]
  },
  {
   "cell_type": "markdown",
   "id": "1ad76774-41cb-4387-a70c-344ab6ec6ebc",
   "metadata": {},
   "source": [
    "### Original Song & Cover Song"
   ]
  },
  {
   "cell_type": "code",
   "execution_count": 83,
   "id": "9f69f8a7-7f45-4f79-973c-cd4bcddadcd2",
   "metadata": {},
   "outputs": [],
   "source": [
    "originalSongId = 180849 # The Scientist Original\n",
    "originalSongIndex,originalSongVector = getIndexAndVector(originalSongId, ids, df)\n",
    "coverSongId = 1686718 # THe Scientist by Boyce Avenue\n",
    "coverIndex,coverSongVector = getIndexAndVector(coverSongId, ids, df)"
   ]
  },
  {
   "cell_type": "markdown",
   "id": "258c4920-af7c-4c76-abf7-e45b1da030ba",
   "metadata": {},
   "source": [
    "### Get Rankings"
   ]
  },
  {
   "cell_type": "code",
   "execution_count": 84,
   "id": "c37b1faf-f990-4906-8fdd-67c09b8e1a0a",
   "metadata": {
    "tags": []
   },
   "outputs": [],
   "source": [
    "ranksDF  = applyEuclideanDistance(df, ids, originalSongVector)"
   ]
  },
  {
   "cell_type": "code",
   "execution_count": 85,
   "id": "1ba00cc7-eb45-46e5-8e26-7ecb88428e99",
   "metadata": {},
   "outputs": [
    {
     "data": {
      "text/html": [
       "<div>\n",
       "<style scoped>\n",
       "    .dataframe tbody tr th:only-of-type {\n",
       "        vertical-align: middle;\n",
       "    }\n",
       "\n",
       "    .dataframe tbody tr th {\n",
       "        vertical-align: top;\n",
       "    }\n",
       "\n",
       "    .dataframe thead th {\n",
       "        text-align: right;\n",
       "    }\n",
       "</style>\n",
       "<table border=\"1\" class=\"dataframe\">\n",
       "  <thead>\n",
       "    <tr style=\"text-align: right;\">\n",
       "      <th></th>\n",
       "      <th>id</th>\n",
       "      <th>rank</th>\n",
       "    </tr>\n",
       "  </thead>\n",
       "  <tbody>\n",
       "    <tr>\n",
       "      <th>0</th>\n",
       "      <td>180849</td>\n",
       "      <td>0.000000</td>\n",
       "    </tr>\n",
       "    <tr>\n",
       "      <th>1</th>\n",
       "      <td>1874688</td>\n",
       "      <td>0.509027</td>\n",
       "    </tr>\n",
       "    <tr>\n",
       "      <th>2</th>\n",
       "      <td>924061</td>\n",
       "      <td>0.600112</td>\n",
       "    </tr>\n",
       "    <tr>\n",
       "      <th>3</th>\n",
       "      <td>1747044</td>\n",
       "      <td>0.628150</td>\n",
       "    </tr>\n",
       "    <tr>\n",
       "      <th>4</th>\n",
       "      <td>263128</td>\n",
       "      <td>0.641623</td>\n",
       "    </tr>\n",
       "    <tr>\n",
       "      <th>5</th>\n",
       "      <td>832936</td>\n",
       "      <td>0.683832</td>\n",
       "    </tr>\n",
       "    <tr>\n",
       "      <th>6</th>\n",
       "      <td>1680532</td>\n",
       "      <td>0.751898</td>\n",
       "    </tr>\n",
       "    <tr>\n",
       "      <th>7</th>\n",
       "      <td>188071</td>\n",
       "      <td>0.767559</td>\n",
       "    </tr>\n",
       "    <tr>\n",
       "      <th>8</th>\n",
       "      <td>2769049</td>\n",
       "      <td>0.780085</td>\n",
       "    </tr>\n",
       "    <tr>\n",
       "      <th>9</th>\n",
       "      <td>1443681</td>\n",
       "      <td>0.799413</td>\n",
       "    </tr>\n",
       "  </tbody>\n",
       "</table>\n",
       "</div>"
      ],
      "text/plain": [
       "        id      rank\n",
       "0   180849  0.000000\n",
       "1  1874688  0.509027\n",
       "2   924061  0.600112\n",
       "3  1747044  0.628150\n",
       "4   263128  0.641623\n",
       "5   832936  0.683832\n",
       "6  1680532  0.751898\n",
       "7   188071  0.767559\n",
       "8  2769049  0.780085\n",
       "9  1443681  0.799413"
      ]
     },
     "execution_count": 85,
     "metadata": {},
     "output_type": "execute_result"
    }
   ],
   "source": [
    "ranksDF.head(10)"
   ]
  },
  {
   "cell_type": "code",
   "execution_count": 86,
   "id": "b93622c5-c483-49aa-8daa-fda59d119cad",
   "metadata": {},
   "outputs": [
    {
     "data": {
      "text/html": [
       "<div>\n",
       "<style scoped>\n",
       "    .dataframe tbody tr th:only-of-type {\n",
       "        vertical-align: middle;\n",
       "    }\n",
       "\n",
       "    .dataframe tbody tr th {\n",
       "        vertical-align: top;\n",
       "    }\n",
       "\n",
       "    .dataframe thead th {\n",
       "        text-align: right;\n",
       "    }\n",
       "</style>\n",
       "<table border=\"1\" class=\"dataframe\">\n",
       "  <thead>\n",
       "    <tr style=\"text-align: right;\">\n",
       "      <th></th>\n",
       "      <th>id</th>\n",
       "      <th>rank</th>\n",
       "    </tr>\n",
       "  </thead>\n",
       "  <tbody>\n",
       "    <tr>\n",
       "      <th>298</th>\n",
       "      <td>1686718</td>\n",
       "      <td>1.839263</td>\n",
       "    </tr>\n",
       "  </tbody>\n",
       "</table>\n",
       "</div>"
      ],
      "text/plain": [
       "          id      rank\n",
       "298  1686718  1.839263"
      ]
     },
     "execution_count": 86,
     "metadata": {},
     "output_type": "execute_result"
    }
   ],
   "source": [
    "ranksDF[ranksDF['id']==coverSongId]"
   ]
  },
  {
   "cell_type": "markdown",
   "id": "eaea6122-d5cc-45f5-aee8-f37929f4d428",
   "metadata": {},
   "source": [
    "🥳 First recommendation"
   ]
  },
  {
   "cell_type": "code",
   "execution_count": 87,
   "id": "ac1bb62d-2e67-478b-a464-55ca9cd86a58",
   "metadata": {},
   "outputs": [
    {
     "data": {
      "text/html": [
       "<div>\n",
       "<style scoped>\n",
       "    .dataframe tbody tr th:only-of-type {\n",
       "        vertical-align: middle;\n",
       "    }\n",
       "\n",
       "    .dataframe tbody tr th {\n",
       "        vertical-align: top;\n",
       "    }\n",
       "\n",
       "    .dataframe thead th {\n",
       "        text-align: right;\n",
       "    }\n",
       "</style>\n",
       "<table border=\"1\" class=\"dataframe\">\n",
       "  <thead>\n",
       "    <tr style=\"text-align: right;\">\n",
       "      <th></th>\n",
       "      <th>id</th>\n",
       "      <th>rank</th>\n",
       "    </tr>\n",
       "  </thead>\n",
       "  <tbody>\n",
       "    <tr>\n",
       "      <th>34</th>\n",
       "      <td>5000008</td>\n",
       "      <td>1.053726</td>\n",
       "    </tr>\n",
       "    <tr>\n",
       "      <th>86</th>\n",
       "      <td>5000023</td>\n",
       "      <td>1.294776</td>\n",
       "    </tr>\n",
       "    <tr>\n",
       "      <th>234</th>\n",
       "      <td>5000011</td>\n",
       "      <td>1.719051</td>\n",
       "    </tr>\n",
       "    <tr>\n",
       "      <th>235</th>\n",
       "      <td>5000017</td>\n",
       "      <td>1.720862</td>\n",
       "    </tr>\n",
       "    <tr>\n",
       "      <th>297</th>\n",
       "      <td>5000013</td>\n",
       "      <td>1.839263</td>\n",
       "    </tr>\n",
       "    <tr>\n",
       "      <th>709</th>\n",
       "      <td>5000001</td>\n",
       "      <td>2.384499</td>\n",
       "    </tr>\n",
       "    <tr>\n",
       "      <th>836</th>\n",
       "      <td>5000007</td>\n",
       "      <td>2.519390</td>\n",
       "    </tr>\n",
       "    <tr>\n",
       "      <th>1017</th>\n",
       "      <td>5000018</td>\n",
       "      <td>2.673724</td>\n",
       "    </tr>\n",
       "    <tr>\n",
       "      <th>1370</th>\n",
       "      <td>5000019</td>\n",
       "      <td>2.988682</td>\n",
       "    </tr>\n",
       "    <tr>\n",
       "      <th>1407</th>\n",
       "      <td>5000012</td>\n",
       "      <td>3.015434</td>\n",
       "    </tr>\n",
       "    <tr>\n",
       "      <th>1530</th>\n",
       "      <td>5000020</td>\n",
       "      <td>3.114353</td>\n",
       "    </tr>\n",
       "  </tbody>\n",
       "</table>\n",
       "</div>"
      ],
      "text/plain": [
       "           id      rank\n",
       "34    5000008  1.053726\n",
       "86    5000023  1.294776\n",
       "234   5000011  1.719051\n",
       "235   5000017  1.720862\n",
       "297   5000013  1.839263\n",
       "709   5000001  2.384499\n",
       "836   5000007  2.519390\n",
       "1017  5000018  2.673724\n",
       "1370  5000019  2.988682\n",
       "1407  5000012  3.015434\n",
       "1530  5000020  3.114353"
      ]
     },
     "execution_count": 87,
     "metadata": {},
     "output_type": "execute_result"
    }
   ],
   "source": [
    "ranksDF[ranksDF['id'] > 5000000]"
   ]
  }
 ],
 "metadata": {
  "kernelspec": {
   "display_name": "Python 3",
   "language": "python",
   "name": "python3"
  },
  "language_info": {
   "codemirror_mode": {
    "name": "ipython",
    "version": 3
   },
   "file_extension": ".py",
   "mimetype": "text/x-python",
   "name": "python",
   "nbconvert_exporter": "python",
   "pygments_lexer": "ipython3",
   "version": "3.9.12"
  },
  "vscode": {
   "interpreter": {
    "hash": "0167474e25ac903b7ed206b2a6261fba13c5d8405c8ccde398587cd3f7fc7183"
   }
  }
 },
 "nbformat": 4,
 "nbformat_minor": 5
}
