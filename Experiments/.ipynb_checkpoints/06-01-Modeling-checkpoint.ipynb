{
 "cells": [
  {
   "cell_type": "markdown",
   "id": "559fde27-7a63-4edc-abc9-49227ccb0b90",
   "metadata": {},
   "source": [
    "# Applying Euclidean distance only to High level features / BoxCox chosen selectively"
   ]
  },
  {
   "cell_type": "code",
   "execution_count": null,
   "id": "200f333f-337e-4a63-b3e3-ace904b0ace7",
   "metadata": {},
   "outputs": [],
   "source": [
    "import pandas as pd\n",
    "from sklearn.cluster import KMeans\n",
    "import seaborn as sns\n",
    "from matplotlib import pyplot as plt \n",
    "import math\n",
    "from ipynb.fs.full.Utils import createKDeplot\n",
    "import numpy as np\n",
    "from sklearn.preprocessing import StandardScaler\n",
    "from ipynb.fs.full.Pipeline import removeConstantFeatures, applyBoxCoxAllFeatures, centerAndScale, applyEuclideanDistance, getIndexAndVector, applyBoxCoxFeatures"
   ]
  },
  {
   "cell_type": "code",
   "execution_count": null,
   "id": "2ab11b05-5396-41a4-bb1c-6b631bb3aa60",
   "metadata": {},
   "outputs": [],
   "source": [
    "df = pd.read_csv('./data/unified/05-RawData.csv')\n",
    "encodedFeaturesNames = pd.read_csv('./data/unified/05-encodedFeatureNames.csv')\n",
    "encodedFeaturesNames = encodedFeaturesNames['0'].values.tolist()"
   ]
  },
  {
   "cell_type": "code",
   "execution_count": null,
   "id": "33b5ff64-be96-4b4e-ba0b-6b51a650184c",
   "metadata": {},
   "outputs": [],
   "source": [
    "# Separating encodedFeatures from continous features\n",
    "encodedFeatures = df[encodedFeaturesNames]\n",
    "featuresToScale = df.drop(encodedFeaturesNames, axis=1)\n",
    "featuresToScale = featuresToScale.iloc[:, 2:]\n",
    "df = featuresToScale"
   ]
  },
  {
   "cell_type": "code",
   "execution_count": null,
   "id": "2fa4c5b0-59ec-4355-a688-25bb909e046b",
   "metadata": {},
   "outputs": [],
   "source": [
    "df.id = df.id.astype('int64')\n",
    "# Saving idChords\n",
    "ids = df.id\n",
    "df = df.set_index('id')\n",
    "df.reset_index(drop=True, inplace=True)"
   ]
  },
  {
   "cell_type": "code",
   "execution_count": null,
   "id": "8d4d4505-4604-4c27-b235-c06448b987c7",
   "metadata": {},
   "outputs": [],
   "source": [
    "df = df[['speechiness' ,'danceability', 'energy', 'acousticness', 'liveness', 'valence', 'tempo']]"
   ]
  },
  {
   "cell_type": "code",
   "execution_count": null,
   "id": "39a2e314-2399-4867-ba22-4f986e79840b",
   "metadata": {},
   "outputs": [],
   "source": [
    "df.head(1)"
   ]
  },
  {
   "cell_type": "code",
   "execution_count": null,
   "id": "a568eae3-e57a-4a11-ac12-8cda7011e49f",
   "metadata": {},
   "outputs": [],
   "source": [
    "createKDeplot(df,['danceability', 'energy', 'speechiness', 'acousticness', 'liveness', 'valence', 'tempo'])"
   ]
  },
  {
   "cell_type": "markdown",
   "id": "9170b638-5b90-485f-b85b-18ff101ec4f3",
   "metadata": {},
   "source": [
    "## Pipeline"
   ]
  },
  {
   "cell_type": "code",
   "execution_count": null,
   "id": "650ab107-af5a-4e6a-ad68-2ad4403837aa",
   "metadata": {},
   "outputs": [],
   "source": [
    "df.loc[df.valence < 0]"
   ]
  },
  {
   "cell_type": "code",
   "execution_count": null,
   "id": "773291c1-cedb-40a3-b9f5-2a7917d054da",
   "metadata": {},
   "outputs": [],
   "source": [
    "df.describe()"
   ]
  },
  {
   "cell_type": "code",
   "execution_count": null,
   "id": "094723c1-df44-481b-af40-3ce467b6d32d",
   "metadata": {},
   "outputs": [],
   "source": [
    "df = removeConstantFeatures(df)\n",
    "df= applyBoxCoxFeatures(df, ['speechiness', 'acousticness', 'liveness', 'valence'])\n",
    "df = centerAndScale(df)"
   ]
  },
  {
   "cell_type": "code",
   "execution_count": null,
   "id": "39aa1613-37eb-4619-b41c-7969b1e411fd",
   "metadata": {},
   "outputs": [],
   "source": [
    "df.describe()"
   ]
  },
  {
   "cell_type": "code",
   "execution_count": null,
   "id": "a3d55194-24f7-49c1-b231-70f2bff6a0d0",
   "metadata": {},
   "outputs": [],
   "source": []
  },
  {
   "cell_type": "code",
   "execution_count": null,
   "id": "2869605f-5105-41ce-85d5-ddec74701791",
   "metadata": {},
   "outputs": [],
   "source": [
    "# df= applyBoxCoxFeatures(df, ['speechiness', 'acousticness', 'liveness', 'valence'])"
   ]
  },
  {
   "cell_type": "code",
   "execution_count": null,
   "id": "bc022383-f5c8-4bbb-a690-e9d77f18f8c0",
   "metadata": {},
   "outputs": [],
   "source": [
    "from scipy import stats\n",
    "df.valence = df.valence + 1\n",
    "df['liveness'] = stats.boxcox(df['liveness'])[0]"
   ]
  },
  {
   "cell_type": "markdown",
   "id": "0e358367-c795-498f-9e34-1d07529b6263",
   "metadata": {},
   "source": [
    "### After applying boxcox selectively"
   ]
  },
  {
   "cell_type": "code",
   "execution_count": null,
   "id": "c054dda5-ec00-4fac-90b0-7aed9ea0d751",
   "metadata": {},
   "outputs": [],
   "source": [
    "createKDeplot(df,['speechiness', 'acousticness', 'liveness', 'valence'])"
   ]
  },
  {
   "cell_type": "markdown",
   "id": "1ad76774-41cb-4387-a70c-344ab6ec6ebc",
   "metadata": {},
   "source": [
    "### Original Song & Cover Song"
   ]
  },
  {
   "cell_type": "code",
   "execution_count": null,
   "id": "9f69f8a7-7f45-4f79-973c-cd4bcddadcd2",
   "metadata": {},
   "outputs": [],
   "source": [
    "originalSongId = 180849 # The Scientist Original\n",
    "originalSongIndex,originalSongVector = getIndexAndVector(originalSongId, ids, df)\n",
    "coverSongId = 1686718 # THe Scientist by Boyce Avenue\n",
    "coverIndex,coverSongVector = getIndexAndVector(coverSongId, ids, df)"
   ]
  },
  {
   "cell_type": "markdown",
   "id": "258c4920-af7c-4c76-abf7-e45b1da030ba",
   "metadata": {},
   "source": [
    "### Get Rankings"
   ]
  },
  {
   "cell_type": "code",
   "execution_count": null,
   "id": "c37b1faf-f990-4906-8fdd-67c09b8e1a0a",
   "metadata": {
    "tags": []
   },
   "outputs": [],
   "source": [
    "ranksDF  = applyEuclideanDistance(df, ids, originalSongVector)"
   ]
  },
  {
   "cell_type": "code",
   "execution_count": null,
   "id": "1ba00cc7-eb45-46e5-8e26-7ecb88428e99",
   "metadata": {},
   "outputs": [],
   "source": [
    "ranksDF.head(10)"
   ]
  },
  {
   "cell_type": "code",
   "execution_count": null,
   "id": "b93622c5-c483-49aa-8daa-fda59d119cad",
   "metadata": {},
   "outputs": [],
   "source": [
    "ranksDF[ranksDF['id']==coverSongId]"
   ]
  },
  {
   "cell_type": "markdown",
   "id": "eaea6122-d5cc-45f5-aee8-f37929f4d428",
   "metadata": {},
   "source": [
    "🥳 First recommendation"
   ]
  },
  {
   "cell_type": "code",
   "execution_count": null,
   "id": "ac1bb62d-2e67-478b-a464-55ca9cd86a58",
   "metadata": {},
   "outputs": [],
   "source": [
    "ranksDF[ranksDF['id'] > 5000000]"
   ]
  },
  {
   "cell_type": "code",
   "execution_count": null,
   "id": "7246a85a-fe8c-40cc-9e7c-ea4d82d90816",
   "metadata": {},
   "outputs": [],
   "source": []
  }
 ],
 "metadata": {
  "kernelspec": {
   "display_name": "Python 3",
   "language": "python",
   "name": "python3"
  },
  "language_info": {
   "codemirror_mode": {
    "name": "ipython",
    "version": 3
   },
   "file_extension": ".py",
   "mimetype": "text/x-python",
   "name": "python",
   "nbconvert_exporter": "python",
   "pygments_lexer": "ipython3",
   "version": "3.9.12"
  }
 },
 "nbformat": 4,
 "nbformat_minor": 5
}
