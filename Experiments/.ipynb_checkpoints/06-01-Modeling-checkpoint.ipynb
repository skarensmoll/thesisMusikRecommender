{
 "cells": [
  {
   "cell_type": "markdown",
   "id": "559fde27-7a63-4edc-abc9-49227ccb0b90",
   "metadata": {},
   "source": [
    "# Applying Euclidean distance only to High level features"
   ]
  },
  {
   "cell_type": "code",
   "execution_count": 5,
   "id": "200f333f-337e-4a63-b3e3-ace904b0ace7",
   "metadata": {},
   "outputs": [],
   "source": [
    "import pandas as pd\n",
    "from sklearn.cluster import KMeans\n",
    "import seaborn as sns\n",
    "from matplotlib import pyplot as plt \n",
    "import math\n",
    "from ipynb.fs.full.Utils import createKDeplot"
   ]
  },
  {
   "cell_type": "code",
   "execution_count": 6,
   "id": "2ab11b05-5396-41a4-bb1c-6b631bb3aa60",
   "metadata": {},
   "outputs": [],
   "source": [
    "df = pd.read_csv('./data/05-RawData.csv')\n",
    "encodedFeaturesNames = pd.read_csv('./data/05-encodedFeatureNames.csv')\n",
    "encodedFeaturesNames = encodedFeaturesNames['0'].values.tolist()"
   ]
  },
  {
   "cell_type": "code",
   "execution_count": 7,
   "id": "33b5ff64-be96-4b4e-ba0b-6b51a650184c",
   "metadata": {},
   "outputs": [],
   "source": [
    "# Separating encodedFeatures from continous features\n",
    "encodedFeatures = df[encodedFeaturesNames]\n",
    "featuresToScale = df.drop(encodedFeaturesNames, axis=1)\n",
    "featuresToScale = featuresToScale.iloc[:, 1:]"
   ]
  },
  {
   "cell_type": "code",
   "execution_count": 8,
   "id": "44b8addd-9be5-47db-a43c-28104c4fefbc",
   "metadata": {},
   "outputs": [
    {
     "ename": "NameError",
     "evalue": "name 'sns' is not defined",
     "output_type": "error",
     "traceback": [
      "\u001b[0;31m---------------------------------------------------------------------------\u001b[0m",
      "\u001b[0;31mNameError\u001b[0m                                 Traceback (most recent call last)",
      "\u001b[0;32m<ipython-input-8-105cbbaa2d7a>\u001b[0m in \u001b[0;36m<module>\u001b[0;34m\u001b[0m\n\u001b[0;32m----> 1\u001b[0;31m \u001b[0mcreateKDeplot\u001b[0m\u001b[0;34m(\u001b[0m\u001b[0mfeaturesToScale\u001b[0m\u001b[0;34m,\u001b[0m\u001b[0;34m[\u001b[0m\u001b[0;34m'danceability'\u001b[0m\u001b[0;34m,\u001b[0m \u001b[0;34m'energy'\u001b[0m\u001b[0;34m,\u001b[0m \u001b[0;34m'speechiness'\u001b[0m\u001b[0;34m,\u001b[0m \u001b[0;34m'acousticness'\u001b[0m\u001b[0;34m,\u001b[0m \u001b[0;34m'liveness'\u001b[0m\u001b[0;34m,\u001b[0m \u001b[0;34m'valence'\u001b[0m\u001b[0;34m]\u001b[0m \u001b[0;34m)\u001b[0m\u001b[0;34m\u001b[0m\u001b[0;34m\u001b[0m\u001b[0m\n\u001b[0m",
      "\u001b[0;32m~/Documents/code/thesisMusikRecommender/Experiments/Utils.ipynb\u001b[0m in \u001b[0;36mcreateKDeplot\u001b[0;34m(df, features, numColumns)\u001b[0m\n\u001b[1;32m     90\u001b[0m   },\n\u001b[1;32m     91\u001b[0m   {\n\u001b[0;32m---> 92\u001b[0;31m    \u001b[0;34m\"cell_type\"\u001b[0m\u001b[0;34m:\u001b[0m \u001b[0;34m\"markdown\"\u001b[0m\u001b[0;34m,\u001b[0m\u001b[0;34m\u001b[0m\u001b[0;34m\u001b[0m\u001b[0m\n\u001b[0m\u001b[1;32m     93\u001b[0m    \u001b[0;34m\"id\"\u001b[0m\u001b[0;34m:\u001b[0m \u001b[0;34m\"5d1ef5ed-5ceb-4478-857b-c068df5405c7\"\u001b[0m\u001b[0;34m,\u001b[0m\u001b[0;34m\u001b[0m\u001b[0;34m\u001b[0m\u001b[0m\n\u001b[1;32m     94\u001b[0m    \u001b[0;34m\"metadata\"\u001b[0m\u001b[0;34m:\u001b[0m \u001b[0;34m{\u001b[0m\u001b[0;34m}\u001b[0m\u001b[0;34m,\u001b[0m\u001b[0;34m\u001b[0m\u001b[0;34m\u001b[0m\u001b[0m\n",
      "\u001b[0;31mNameError\u001b[0m: name 'sns' is not defined"
     ]
    },
    {
     "data": {
      "image/png": "[encoded data removed]",
      "text/plain": [
       "<Figure size 1080x1296 with 1 Axes>"
      ]
     },
     "metadata": {
      "needs_background": "light"
     },
     "output_type": "display_data"
    }
   ],
   "source": [
    "createKDeplot(featuresToScale,['danceability', 'energy', 'speechiness', 'acousticness', 'liveness', 'valence'] )"
   ]
  },
  {
   "cell_type": "code",
   "execution_count": null,
   "id": "9473e652-28fd-4e08-a6ef-4002941cb34f",
   "metadata": {},
   "outputs": [],
   "source": [
    "np.log('speechiness')"
   ]
  },
  {
   "cell_type": "markdown",
   "id": "d2db9bf4-cf0e-444d-9251-ed4f1964ec34",
   "metadata": {},
   "source": [
    "## Key k-means assumptions"
   ]
  },
  {
   "cell_type": "markdown",
   "id": "10bd1ccc-25be-46c1-9c03-c508f0fa6ecf",
   "metadata": {},
   "source": [
    "**Key steps**\n",
    "- Symmetric distribution of variables (not skewed)\n",
    "- Variables with same average values: This is key to ensure that each metric gets an equeal weight in the knn calculation.\n",
    "- Variables with same variance: It helps the algorithm to converge and ensures equal importance, it is assigned to each variable\n",
    "- Equal mean and variance"
   ]
  },
  {
   "cell_type": "markdown",
   "id": "0b562a24-26cd-4b39-8a00-a9bf7305c4b5",
   "metadata": {},
   "source": [
    "## Centering and scaling variables"
   ]
  },
  {
   "cell_type": "markdown",
   "id": "514bacb1-c949-458e-b0d1-64113542fe6b",
   "metadata": {},
   "source": [
    "K-means works well on variables with the same mean"
   ]
  },
  {
   "cell_type": "markdown",
   "id": "3010ff81-1117-401f-8058-debcbb1513fe",
   "metadata": {},
   "source": [
    "#### Variables on the same scale"
   ]
  },
  {
   "cell_type": "code",
   "execution_count": null,
   "id": "164f3835-b0fd-4b4f-940b-16392e32f8bb",
   "metadata": {},
   "outputs": [],
   "source": []
  },
  {
   "cell_type": "code",
   "execution_count": null,
   "id": "dd228c9c-b76a-4f5b-9c08-76c7d2844c06",
   "metadata": {},
   "outputs": [],
   "source": [
    "skipScalingFeatures.head(1)"
   ]
  },
  {
   "cell_type": "code",
   "execution_count": null,
   "id": "e371f0d2-4d03-447d-bc4c-0899eb71abf4",
   "metadata": {},
   "outputs": [],
   "source": [
    "featuresToScale = df.drop(encodedFeaturesNames.tolist(), axis=1)"
   ]
  },
  {
   "cell_type": "code",
   "execution_count": null,
   "id": "4aacc8b1-8c51-45a9-a17a-8fbc0a84486d",
   "metadata": {},
   "outputs": [],
   "source": [
    "featuresToScale.head(1)"
   ]
  },
  {
   "cell_type": "code",
   "execution_count": null,
   "id": "658e8c38-c988-4d66-8df7-242bcc6597d2",
   "metadata": {},
   "outputs": [],
   "source": [
    "featuresToScale.columns.tolist()"
   ]
  },
  {
   "cell_type": "markdown",
   "id": "c9dd2f79-f583-41fc-a661-e4e7b29293bc",
   "metadata": {},
   "source": [
    "##### Scaling variables with different variance"
   ]
  },
  {
   "cell_type": "code",
   "execution_count": null,
   "id": "f6052c9b-0436-4bad-bb9b-e3a8e653fbe8",
   "metadata": {},
   "outputs": [],
   "source": [
    "std_scale = StandardScaler().fit(featuresToScale_centered)\n",
    "df_normalized = std_scale.transform(featuresToScale_centered)"
   ]
  },
  {
   "cell_type": "code",
   "execution_count": null,
   "id": "951a39a0-1c3b-47df-ae68-7a77e11bc1d2",
   "metadata": {},
   "outputs": [],
   "source": [
    "centeredScaledDF = pd.DataFrame(df_std)"
   ]
  },
  {
   "cell_type": "code",
   "execution_count": null,
   "id": "ec1f2441-16f0-41c3-a5c5-5790c4bd7a01",
   "metadata": {},
   "outputs": [],
   "source": [
    "centeredScaledDF.describe()"
   ]
  },
  {
   "cell_type": "code",
   "execution_count": null,
   "id": "a051ab85-4591-415b-bee3-f4ad551a0d7c",
   "metadata": {},
   "outputs": [],
   "source": [
    "print('mean: ', df_normalized.mean(axis=0).round(2))\n",
    "print('std: ', df_normalized.std(axis=0).round(2))"
   ]
  },
  {
   "cell_type": "code",
   "execution_count": null,
   "id": "b2d8961f-9bb3-41a4-932e-6584694c4375",
   "metadata": {},
   "outputs": [],
   "source": [
    "df = pd.concat([centeredScaledDF, skipScalingFeatures], axis=1)"
   ]
  },
  {
   "cell_type": "code",
   "execution_count": null,
   "id": "d10d5dad-9256-4a34-9040-d2dee1fe3633",
   "metadata": {},
   "outputs": [],
   "source": [
    "df.describe()"
   ]
  },
  {
   "cell_type": "code",
   "execution_count": null,
   "id": "9b0e243a-7230-4829-8ad3-0fed36a23880",
   "metadata": {},
   "outputs": [],
   "source": [
    "os.makedirs('./data', exist_ok=True)  \n",
    "df.to_csv('./data/06-01-DataPrepared.csv')"
   ]
  },
  {
   "cell_type": "code",
   "execution_count": null,
   "id": "9330d655-f192-41ae-b7e0-9c32b50803e2",
   "metadata": {},
   "outputs": [],
   "source": [
    "df"
   ]
  }
 ],
 "metadata": {
  "kernelspec": {
   "display_name": "Python 3",
   "language": "python",
   "name": "python3"
  },
  "language_info": {
   "codemirror_mode": {
    "name": "ipython",
    "version": 3
   },
   "file_extension": ".py",
   "mimetype": "text/x-python",
   "name": "python",
   "nbconvert_exporter": "python",
   "pygments_lexer": "ipython3",
   "version": "3.9.12"
  }
 },
 "nbformat": 4,
 "nbformat_minor": 5
}
