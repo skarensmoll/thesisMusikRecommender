{
 "cells": [
  {
   "cell_type": "code",
   "execution_count": 1,
   "id": "608fab3a-d06c-4f11-bb44-ed6fdf41c45d",
   "metadata": {},
   "outputs": [],
   "source": [
    "\n",
    "\n",
    "listKeys = ['C','C#','C#dim','C#m','Cdim','Cm','D','D#','D#dim','D#m','Ddim','Dm','E','Edim','Em','F','F#','F#dim','F#m','Fdim','Fm','G','G#', 'G#dim','G#m','Gdim', 'Gm', 'A', 'A#','A#dim','A#m','Adim','Am','B','Bdim','Bm']\n",
    "\n",
    "def getKeyMap():\n",
    "    keyMapper = {}\n",
    "    for key in listKeys:\n",
    "        if key not in keyMapper:\n",
    "            keyMapper[key] = 0  \n",
    "    return keyMapper"
   ]
  },
  {
   "cell_type": "code",
   "execution_count": null,
   "id": "e14d1184-51bf-4297-a981-e15804ebe3b1",
   "metadata": {},
   "outputs": [],
   "source": []
  }
 ],
 "metadata": {
  "kernelspec": {
   "display_name": "Python 3",
   "language": "python",
   "name": "python3"
  },
  "language_info": {
   "codemirror_mode": {
    "name": "ipython",
    "version": 3
   },
   "file_extension": ".py",
   "mimetype": "text/x-python",
   "name": "python",
   "nbconvert_exporter": "python",
   "pygments_lexer": "ipython3",
   "version": "3.9.12"
  }
 },
 "nbformat": 4,
 "nbformat_minor": 5
}
