{
 "cells": [
  {
   "cell_type": "markdown",
   "id": "559fde27-7a63-4edc-abc9-49227ccb0b90",
   "metadata": {},
   "source": [
    "# Using continous / categorical / transition matrices to get recommendations / Selective Box Cox"
   ]
  },
  {
   "cell_type": "code",
   "execution_count": null,
   "id": "200f333f-337e-4a63-b3e3-ace904b0ace7",
   "metadata": {},
   "outputs": [],
   "source": [
    "import pandas as pd\n",
    "from sklearn.cluster import KMeans\n",
    "import seaborn as sns\n",
    "from matplotlib import pyplot as plt \n",
    "import math\n",
    "from ipynb.fs.full.Utils import createKDeplot, loadDataFrames, dropFeaturesWithNoVariance\n",
    "import numpy as np\n",
    "from sklearn.preprocessing import StandardScaler\n",
    "from scipy import stats\n",
    "from ipynb.fs.full.Pipeline import removeConstantFeatures, applyBoxCoxAllFeatures, centerAndScale, applyEuclideanDistance, getIndexAndVector, applyBoxCoxFeatures"
   ]
  },
  {
   "cell_type": "code",
   "execution_count": null,
   "id": "f00fe6c6-f1eb-4d95-8014-784d7cc4b6bc",
   "metadata": {},
   "outputs": [],
   "source": [
    "transitionMatrices = pd.read_csv('./data/07-transitionsClustered.csv')\n",
    "spotifyFeatures = pd.read_csv('./data/continousFeatures.csv')\n",
    "spotifyFeatures = spotifyFeatures.iloc[:, 1:]"
   ]
  },
  {
   "cell_type": "code",
   "execution_count": null,
   "id": "2daabe93-00e1-4177-a1e9-b197bc7029b3",
   "metadata": {},
   "outputs": [],
   "source": [
    "df = pd.merge(spotifyFeatures, transitionMatrices, on='id')"
   ]
  },
  {
   "cell_type": "code",
   "execution_count": null,
   "id": "28966f52-8dbc-4772-9e7e-b9c44fa6df29",
   "metadata": {},
   "outputs": [],
   "source": [
    "originalSongId = 180849 # The Scientist Original\n",
    "categoryOriginalSong = df[df.id == originalSongId].category.values[0]\n",
    "df = df[df.category == categoryOriginalSong]"
   ]
  },
  {
   "cell_type": "code",
   "execution_count": null,
   "id": "ad466871-4d2e-406a-9ac3-d8052185eece",
   "metadata": {},
   "outputs": [],
   "source": [
    "df"
   ]
  },
  {
   "cell_type": "code",
   "execution_count": null,
   "id": "bdbfbb71-332f-4854-87f2-b1591504e2ca",
   "metadata": {},
   "outputs": [],
   "source": [
    "df[df.id > 5000000]"
   ]
  },
  {
   "cell_type": "code",
   "execution_count": null,
   "id": "6a6ebc9c-eaf9-4363-a0cd-d1c62bf96a8c",
   "metadata": {},
   "outputs": [],
   "source": [
    "df = df.drop(columns=['category'])"
   ]
  },
  {
   "cell_type": "code",
   "execution_count": null,
   "id": "3f51beb9-8870-4759-89b7-24c5ce24e0c2",
   "metadata": {},
   "outputs": [],
   "source": [
    "df.reset_index(drop=True, inplace=True)"
   ]
  },
  {
   "cell_type": "code",
   "execution_count": null,
   "id": "325ff7d5-7084-4488-9aac-210b45de9b47",
   "metadata": {},
   "outputs": [],
   "source": [
    "df"
   ]
  },
  {
   "cell_type": "code",
   "execution_count": null,
   "id": "6673e6bf-af8f-49ea-afe6-baa1d5073521",
   "metadata": {},
   "outputs": [],
   "source": [
    "## Removing unamed and other unnecessary columns\n",
    "df = df.sort_values('id')\n",
    "df.id = df.id.astype('int64')\n",
    "# Saving idChords\n",
    "ids = df.id\n",
    "df = df.set_index('id')"
   ]
  },
  {
   "cell_type": "code",
   "execution_count": null,
   "id": "cb68c877-f6ff-420b-8ccd-bea5a614eb21",
   "metadata": {},
   "outputs": [],
   "source": [
    "ids"
   ]
  },
  {
   "cell_type": "markdown",
   "id": "6a139a96-3887-43de-9df9-086382c6c97b",
   "metadata": {},
   "source": [
    "## Pipeline"
   ]
  },
  {
   "cell_type": "code",
   "execution_count": null,
   "id": "96224583-4581-4c88-813c-1832aa0f52c5",
   "metadata": {},
   "outputs": [],
   "source": [
    "df = removeConstantFeatures(df)\n",
    "df= applyBoxCoxFeatures(df, ['speechiness', 'acousticness', 'liveness', 'valence'])\n",
    "df = centerAndScale(df)"
   ]
  },
  {
   "cell_type": "code",
   "execution_count": null,
   "id": "39a8ab82-219e-4abf-be63-129d6bab605e",
   "metadata": {},
   "outputs": [],
   "source": [
    "df"
   ]
  },
  {
   "cell_type": "markdown",
   "id": "39862a3e-dd97-4084-9d0d-072674331dbc",
   "metadata": {},
   "source": [
    "### Original Song & Cover Song"
   ]
  },
  {
   "cell_type": "code",
   "execution_count": null,
   "id": "279f73c2-fe20-400a-b4ea-3dbab47f58cd",
   "metadata": {},
   "outputs": [],
   "source": [
    "originalSongId = 180849 # The Scientist Original\n",
    "originalSongIndex,originalSongVector = getIndexAndVector(originalSongId, ids, df)"
   ]
  },
  {
   "cell_type": "code",
   "execution_count": null,
   "id": "8448e892-3df9-482a-92aa-68a20e6ea2e7",
   "metadata": {},
   "outputs": [],
   "source": [
    "coverSongId = 5000013 # THe Scientist by Boyce Avenue\n",
    "songIndex = ids[ids == coverSongId].index[0]\n",
    "songIndex"
   ]
  },
  {
   "cell_type": "code",
   "execution_count": null,
   "id": "c72939ea-abec-48c7-8ef2-10408d5acbfd",
   "metadata": {},
   "outputs": [],
   "source": [
    "songVector = df.loc[songIndex, :]"
   ]
  },
  {
   "cell_type": "code",
   "execution_count": null,
   "id": "ea3d94f0-6ab8-4c0f-86fd-a4fd09b46d67",
   "metadata": {},
   "outputs": [],
   "source": [
    "songIndex = ids[ids == 5000013].index[0]"
   ]
  },
  {
   "cell_type": "code",
   "execution_count": null,
   "id": "2bb9676f-fcd2-405d-9c18-3ea6603f6764",
   "metadata": {},
   "outputs": [],
   "source": [
    "songVector = df.loc[songIndex, :]"
   ]
  },
  {
   "cell_type": "code",
   "execution_count": null,
   "id": "ae547370-098b-4fe9-99f9-35828ca4883b",
   "metadata": {},
   "outputs": [],
   "source": [
    "songVector"
   ]
  },
  {
   "cell_type": "code",
   "execution_count": null,
   "id": "c1e21d1e-3dbf-4949-86dc-e722985c0f23",
   "metadata": {},
   "outputs": [],
   "source": []
  },
  {
   "cell_type": "markdown",
   "id": "1e3d5e08-b77b-4ace-8726-7f352aab205e",
   "metadata": {},
   "source": [
    "### Get Rankings"
   ]
  },
  {
   "cell_type": "code",
   "execution_count": null,
   "id": "dbd54336-9afb-463c-b218-d139dfa10bed",
   "metadata": {},
   "outputs": [],
   "source": [
    "ranksDF  = applyEuclideanDistance(df, ids, originalSongVector)"
   ]
  },
  {
   "cell_type": "code",
   "execution_count": null,
   "id": "9b8f0db2-ce29-4bf4-80a1-50a4cababcd3",
   "metadata": {},
   "outputs": [],
   "source": [
    "ranksDF.head(10)"
   ]
  },
  {
   "cell_type": "code",
   "execution_count": null,
   "id": "add8a0cd-f9be-4e56-9a64-5b0fed6dbdc8",
   "metadata": {},
   "outputs": [],
   "source": [
    "ranksDF[ranksDF['id']==coverSongId]"
   ]
  },
  {
   "cell_type": "markdown",
   "id": "142c6ba0-1ddc-4269-89bf-7c0fa6034802",
   "metadata": {},
   "source": [
    "### Cover songs"
   ]
  },
  {
   "cell_type": "code",
   "execution_count": null,
   "id": "060f1065-de74-4d94-9784-6d2879f7a602",
   "metadata": {},
   "outputs": [],
   "source": [
    "ranksDF[ranksDF['id'] > 5000000]"
   ]
  }
 ],
 "metadata": {
  "kernelspec": {
   "display_name": "Python 3",
   "language": "python",
   "name": "python3"
  },
  "language_info": {
   "codemirror_mode": {
    "name": "ipython",
    "version": 3
   },
   "file_extension": ".py",
   "mimetype": "text/x-python",
   "name": "python",
   "nbconvert_exporter": "python",
   "pygments_lexer": "ipython3",
   "version": "3.9.12"
  }
 },
 "nbformat": 4,
 "nbformat_minor": 5
}
