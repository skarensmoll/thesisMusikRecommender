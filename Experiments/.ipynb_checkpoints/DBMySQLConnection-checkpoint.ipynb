{
 "cells": [
  {
   "cell_type": "code",
   "execution_count": 1,
   "id": "3c2338fb-b455-49c7-97c3-4713adb483b2",
   "metadata": {},
   "outputs": [],
   "source": [
    "import mysql.connector\n",
    "from mysql.connector import Error\n",
    "import pandas as pd"
   ]
  },
  {
   "cell_type": "code",
   "execution_count": 6,
   "id": "d504b2ab-9cdc-49fe-8e90-a6a893b4e52b",
   "metadata": {},
   "outputs": [],
   "source": [
    "def connectDB():\n",
    "    return mysql.connector.connect(host='localhost',\n",
    "                                         database='chordMusikRecommender',\n",
    "                                         user='root',\n",
    "                                         password='test1234')\n",
    "\n",
    "def getDB(query):\n",
    "    try:\n",
    "        cn = connectDB()\n",
    "        if cn.is_connected():\n",
    "            cr = cn.cursor()\n",
    "            cr.execute(query)\n",
    "            result = cr.fetchall()\n",
    "            return result\n",
    "\n",
    "\n",
    "    except Error as e:\n",
    "        print(\"Error while connecting to MySQL\", e)\n",
    "    finally:\n",
    "        if cn.is_connected():\n",
    "            cn.commit()\n",
    "            cr.close()\n",
    "            cn.close()\n",
    "            print(\"MySQL cn is closed\")\n"
   ]
  },
  {
   "cell_type": "code",
   "execution_count": 7,
   "id": "56e372b6-a626-41ce-a3e5-1ee14ddc0935",
   "metadata": {},
   "outputs": [],
   "source": [
    "            \n",
    "def getDBDataFrame(query):\n",
    "    try:\n",
    "        cn = connectDB()\n",
    "        if cn.is_connected():\n",
    "            df = pd.read_sql(query, con=cn)\n",
    "            return df\n",
    "    except Error as e:\n",
    "        print(\"Error while connecting to MySQL\", e)\n",
    "    finally:\n",
    "        if cn.is_connected():\n",
    "            cn.commit()\n",
    "            cn.close()\n",
    "            print(\"MySQL cn is closed\")"
   ]
  },
  {
   "cell_type": "code",
   "execution_count": null,
   "id": "39c6ae2f-0600-4a0e-a0fb-05cf0129618a",
   "metadata": {},
   "outputs": [],
   "source": []
  }
 ],
 "metadata": {
  "kernelspec": {
   "display_name": "Python 3",
   "language": "python",
   "name": "python3"
  },
  "language_info": {
   "codemirror_mode": {
    "name": "ipython",
    "version": 3
   },
   "file_extension": ".py",
   "mimetype": "text/x-python",
   "name": "python",
   "nbconvert_exporter": "python",
   "pygments_lexer": "ipython3",
   "version": "3.9.12"
  }
 },
 "nbformat": 4,
 "nbformat_minor": 5
}
