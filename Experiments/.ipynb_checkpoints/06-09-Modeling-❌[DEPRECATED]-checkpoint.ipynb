{
 "cells": [
  {
   "cell_type": "markdown",
   "id": "559fde27-7a63-4edc-abc9-49227ccb0b90",
   "metadata": {},
   "source": [
    "# Using continous / categorical / transition matrices to get recommendations / Selective Box Cox"
   ]
  },
  {
   "cell_type": "code",
   "execution_count": 38,
   "id": "200f333f-337e-4a63-b3e3-ace904b0ace7",
   "metadata": {},
   "outputs": [],
   "source": [
    "import pandas as pd\n",
    "from sklearn.cluster import KMeans\n",
    "import seaborn as sns\n",
    "from matplotlib import pyplot as plt \n",
    "import math\n",
    "from ipynb.fs.full.Utils import createKDeplot, loadDataFrames, dropFeaturesWithNoVariance, loadCoverGroups\n",
    "import numpy as np\n",
    "from sklearn.preprocessing import StandardScaler\n",
    "from scipy import stats\n",
    "from ipynb.fs.full.Pipeline import removeConstantFeatures, applyBoxCoxAllFeatures, centerAndScale, applyEuclideanDistance, getIndexAndVector, applyBoxCoxFeatures"
   ]
  },
  {
   "cell_type": "code",
   "execution_count": 39,
   "id": "f00fe6c6-f1eb-4d95-8014-784d7cc4b6bc",
   "metadata": {},
   "outputs": [],
   "source": [
    "df = pd.read_csv('./data/unified/05-allDataContinousCategoricalTransition.csv')"
   ]
  },
  {
   "cell_type": "code",
   "execution_count": 40,
   "id": "6673e6bf-af8f-49ea-afe6-baa1d5073521",
   "metadata": {},
   "outputs": [],
   "source": [
    "## Removing unamed and other unnecessary columns\n",
    "df = df.iloc[:,2:]\n",
    "df = df.sort_values('id')\n",
    "df.id = df.id.astype('int64')\n",
    "# Saving idChords\n",
    "ids = df.id\n",
    "df = df.set_index('id')\n",
    "df.reset_index(drop=True, inplace=True)"
   ]
  },
  {
   "cell_type": "markdown",
   "id": "6a139a96-3887-43de-9df9-086382c6c97b",
   "metadata": {},
   "source": [
    "## Pipeline"
   ]
  },
  {
   "cell_type": "code",
   "execution_count": 41,
   "id": "96224583-4581-4c88-813c-1832aa0f52c5",
   "metadata": {},
   "outputs": [],
   "source": [
    "df = removeConstantFeatures(df)\n",
    "df= applyBoxCoxFeatures(df, ['speechiness', 'acousticness', 'liveness', 'valence'])\n",
    "df = centerAndScale(df)"
   ]
  },
  {
   "cell_type": "markdown",
   "id": "39862a3e-dd97-4084-9d0d-072674331dbc",
   "metadata": {},
   "source": [
    "### Original Song & Cover Song"
   ]
  },
  {
   "cell_type": "code",
   "execution_count": 42,
   "id": "279f73c2-fe20-400a-b4ea-3dbab47f58cd",
   "metadata": {},
   "outputs": [],
   "source": [
    "originalSongId = 180849 # The Scientist Original\n",
    "originalSongIndex,originalSongVector = getIndexAndVector(originalSongId, ids, df)\n",
    "coverSongId = 1686718 # THe Scientist by Boyce Avenue\n",
    "coverIndex,coverSongVector = getIndexAndVector(coverSongId, ids, df)"
   ]
  },
  {
   "cell_type": "code",
   "execution_count": 43,
   "id": "0c71724b-dbec-45d3-a726-958b8dd4d90e",
   "metadata": {},
   "outputs": [
    {
     "data": {
      "text/plain": [
       "688"
      ]
     },
     "execution_count": 43,
     "metadata": {},
     "output_type": "execute_result"
    }
   ],
   "source": [
    "originalSongIndex"
   ]
  },
  {
   "cell_type": "markdown",
   "id": "1e3d5e08-b77b-4ace-8726-7f352aab205e",
   "metadata": {},
   "source": [
    "### Get Rankings"
   ]
  },
  {
   "cell_type": "code",
   "execution_count": 44,
   "id": "dbd54336-9afb-463c-b218-d139dfa10bed",
   "metadata": {},
   "outputs": [],
   "source": [
    "ranksDF  = applyEuclideanDistance(df, ids, originalSongVector)"
   ]
  },
  {
   "cell_type": "code",
   "execution_count": 45,
   "id": "9b8f0db2-ce29-4bf4-80a1-50a4cababcd3",
   "metadata": {},
   "outputs": [
    {
     "data": {
      "text/html": [
       "<div>\n",
       "<style scoped>\n",
       "    .dataframe tbody tr th:only-of-type {\n",
       "        vertical-align: middle;\n",
       "    }\n",
       "\n",
       "    .dataframe tbody tr th {\n",
       "        vertical-align: top;\n",
       "    }\n",
       "\n",
       "    .dataframe thead th {\n",
       "        text-align: right;\n",
       "    }\n",
       "</style>\n",
       "<table border=\"1\" class=\"dataframe\">\n",
       "  <thead>\n",
       "    <tr style=\"text-align: right;\">\n",
       "      <th></th>\n",
       "      <th>id</th>\n",
       "      <th>rank</th>\n",
       "    </tr>\n",
       "  </thead>\n",
       "  <tbody>\n",
       "    <tr>\n",
       "      <th>0</th>\n",
       "      <td>180849</td>\n",
       "      <td>0.000000</td>\n",
       "    </tr>\n",
       "    <tr>\n",
       "      <th>1</th>\n",
       "      <td>6001027</td>\n",
       "      <td>7.558210</td>\n",
       "    </tr>\n",
       "    <tr>\n",
       "      <th>2</th>\n",
       "      <td>672021</td>\n",
       "      <td>8.097575</td>\n",
       "    </tr>\n",
       "    <tr>\n",
       "      <th>3</th>\n",
       "      <td>1029726</td>\n",
       "      <td>8.322826</td>\n",
       "    </tr>\n",
       "    <tr>\n",
       "      <th>4</th>\n",
       "      <td>466649</td>\n",
       "      <td>8.332650</td>\n",
       "    </tr>\n",
       "    <tr>\n",
       "      <th>5</th>\n",
       "      <td>2065851</td>\n",
       "      <td>8.403237</td>\n",
       "    </tr>\n",
       "    <tr>\n",
       "      <th>6</th>\n",
       "      <td>1025154</td>\n",
       "      <td>8.530632</td>\n",
       "    </tr>\n",
       "    <tr>\n",
       "      <th>7</th>\n",
       "      <td>1884102</td>\n",
       "      <td>8.597437</td>\n",
       "    </tr>\n",
       "    <tr>\n",
       "      <th>8</th>\n",
       "      <td>872773</td>\n",
       "      <td>8.774542</td>\n",
       "    </tr>\n",
       "    <tr>\n",
       "      <th>9</th>\n",
       "      <td>3504560</td>\n",
       "      <td>8.842531</td>\n",
       "    </tr>\n",
       "  </tbody>\n",
       "</table>\n",
       "</div>"
      ],
      "text/plain": [
       "        id      rank\n",
       "0   180849  0.000000\n",
       "1  6001027  7.558210\n",
       "2   672021  8.097575\n",
       "3  1029726  8.322826\n",
       "4   466649  8.332650\n",
       "5  2065851  8.403237\n",
       "6  1025154  8.530632\n",
       "7  1884102  8.597437\n",
       "8   872773  8.774542\n",
       "9  3504560  8.842531"
      ]
     },
     "execution_count": 45,
     "metadata": {},
     "output_type": "execute_result"
    }
   ],
   "source": [
    "ranksDF.head(10)"
   ]
  },
  {
   "cell_type": "code",
   "execution_count": 46,
   "id": "add8a0cd-f9be-4e56-9a64-5b0fed6dbdc8",
   "metadata": {},
   "outputs": [
    {
     "data": {
      "text/html": [
       "<div>\n",
       "<style scoped>\n",
       "    .dataframe tbody tr th:only-of-type {\n",
       "        vertical-align: middle;\n",
       "    }\n",
       "\n",
       "    .dataframe tbody tr th {\n",
       "        vertical-align: top;\n",
       "    }\n",
       "\n",
       "    .dataframe thead th {\n",
       "        text-align: right;\n",
       "    }\n",
       "</style>\n",
       "<table border=\"1\" class=\"dataframe\">\n",
       "  <thead>\n",
       "    <tr style=\"text-align: right;\">\n",
       "      <th></th>\n",
       "      <th>id</th>\n",
       "      <th>rank</th>\n",
       "    </tr>\n",
       "  </thead>\n",
       "  <tbody>\n",
       "    <tr>\n",
       "      <th>75</th>\n",
       "      <td>1686718</td>\n",
       "      <td>10.171142</td>\n",
       "    </tr>\n",
       "  </tbody>\n",
       "</table>\n",
       "</div>"
      ],
      "text/plain": [
       "         id       rank\n",
       "75  1686718  10.171142"
      ]
     },
     "execution_count": 46,
     "metadata": {},
     "output_type": "execute_result"
    }
   ],
   "source": [
    "ranksDF[ranksDF['id']==coverSongId]"
   ]
  },
  {
   "cell_type": "markdown",
   "id": "142c6ba0-1ddc-4269-89bf-7c0fa6034802",
   "metadata": {},
   "source": [
    "### Cover songs"
   ]
  },
  {
   "cell_type": "code",
   "execution_count": 47,
   "id": "060f1065-de74-4d94-9784-6d2879f7a602",
   "metadata": {},
   "outputs": [
    {
     "data": {
      "text/html": [
       "<div>\n",
       "<style scoped>\n",
       "    .dataframe tbody tr th:only-of-type {\n",
       "        vertical-align: middle;\n",
       "    }\n",
       "\n",
       "    .dataframe tbody tr th {\n",
       "        vertical-align: top;\n",
       "    }\n",
       "\n",
       "    .dataframe thead th {\n",
       "        text-align: right;\n",
       "    }\n",
       "</style>\n",
       "<table border=\"1\" class=\"dataframe\">\n",
       "  <thead>\n",
       "    <tr style=\"text-align: right;\">\n",
       "      <th></th>\n",
       "      <th>id</th>\n",
       "      <th>rank</th>\n",
       "    </tr>\n",
       "  </thead>\n",
       "  <tbody>\n",
       "    <tr>\n",
       "      <th>1</th>\n",
       "      <td>6001027</td>\n",
       "      <td>7.558210</td>\n",
       "    </tr>\n",
       "    <tr>\n",
       "      <th>11</th>\n",
       "      <td>5000019</td>\n",
       "      <td>8.985209</td>\n",
       "    </tr>\n",
       "    <tr>\n",
       "      <th>12</th>\n",
       "      <td>6001258</td>\n",
       "      <td>9.175746</td>\n",
       "    </tr>\n",
       "    <tr>\n",
       "      <th>17</th>\n",
       "      <td>5000001</td>\n",
       "      <td>9.315289</td>\n",
       "    </tr>\n",
       "    <tr>\n",
       "      <th>19</th>\n",
       "      <td>5000017</td>\n",
       "      <td>9.342338</td>\n",
       "    </tr>\n",
       "    <tr>\n",
       "      <th>...</th>\n",
       "      <td>...</td>\n",
       "      <td>...</td>\n",
       "    </tr>\n",
       "    <tr>\n",
       "      <th>5972</th>\n",
       "      <td>6002253</td>\n",
       "      <td>172.556603</td>\n",
       "    </tr>\n",
       "    <tr>\n",
       "      <th>5973</th>\n",
       "      <td>6000743</td>\n",
       "      <td>173.151095</td>\n",
       "    </tr>\n",
       "    <tr>\n",
       "      <th>5974</th>\n",
       "      <td>6002278</td>\n",
       "      <td>177.391709</td>\n",
       "    </tr>\n",
       "    <tr>\n",
       "      <th>5975</th>\n",
       "      <td>6001117</td>\n",
       "      <td>188.703785</td>\n",
       "    </tr>\n",
       "    <tr>\n",
       "      <th>5976</th>\n",
       "      <td>6000792</td>\n",
       "      <td>193.342012</td>\n",
       "    </tr>\n",
       "  </tbody>\n",
       "</table>\n",
       "<p>2496 rows × 2 columns</p>\n",
       "</div>"
      ],
      "text/plain": [
       "           id        rank\n",
       "1     6001027    7.558210\n",
       "11    5000019    8.985209\n",
       "12    6001258    9.175746\n",
       "17    5000001    9.315289\n",
       "19    5000017    9.342338\n",
       "...       ...         ...\n",
       "5972  6002253  172.556603\n",
       "5973  6000743  173.151095\n",
       "5974  6002278  177.391709\n",
       "5975  6001117  188.703785\n",
       "5976  6000792  193.342012\n",
       "\n",
       "[2496 rows x 2 columns]"
      ]
     },
     "execution_count": 47,
     "metadata": {},
     "output_type": "execute_result"
    }
   ],
   "source": [
    "ranksDF[ranksDF['id'] > 5000000]"
   ]
  },
  {
   "cell_type": "code",
   "execution_count": null,
   "id": "4eb4a5a4-7062-4bec-b728-849ae3891389",
   "metadata": {},
   "outputs": [],
   "source": []
  }
 ],
 "metadata": {
  "kernelspec": {
   "display_name": "Python 3",
   "language": "python",
   "name": "python3"
  },
  "language_info": {
   "codemirror_mode": {
    "name": "ipython",
    "version": 3
   },
   "file_extension": ".py",
   "mimetype": "text/x-python",
   "name": "python",
   "nbconvert_exporter": "python",
   "pygments_lexer": "ipython3",
   "version": "3.9.12"
  },
  "vscode": {
   "interpreter": {
    "hash": "0167474e25ac903b7ed206b2a6261fba13c5d8405c8ccde398587cd3f7fc7183"
   }
  }
 },
 "nbformat": 4,
 "nbformat_minor": 5
}
