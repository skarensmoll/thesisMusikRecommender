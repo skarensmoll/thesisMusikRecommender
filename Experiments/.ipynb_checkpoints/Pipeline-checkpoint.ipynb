{
 "cells": [
  {
   "cell_type": "code",
   "execution_count": 1,
   "id": "325c90ac-08ab-4332-9b0f-c324e82ba246",
   "metadata": {},
   "outputs": [],
   "source": [
    "import pandas as pd\n",
    "from sklearn.cluster import KMeans\n",
    "import seaborn as sns\n",
    "from matplotlib import pyplot as plt \n",
    "import math\n",
    "from ipynb.fs.full.Utils import createKDeplot, loadDataFrames, dropFeaturesWithNoVariance\n",
    "import numpy as np\n",
    "from sklearn.preprocessing import StandardScaler\n",
    "from scipy import stats\n",
    "from scipy.spatial.distance import jaccard\n",
    "from sklearn.metrics import jaccard_score"
   ]
  },
  {
   "cell_type": "code",
   "execution_count": 2,
   "id": "6a75fd1a-7dca-4972-848a-c0ea12edd8a3",
   "metadata": {},
   "outputs": [],
   "source": [
    "def removeConstantFeatures(df):\n",
    "    df = df.loc[:, (df != df.iloc[0]).any()] \n",
    "    return df"
   ]
  },
  {
   "cell_type": "code",
   "execution_count": 3,
   "id": "00ed966a-7308-46af-a0ff-2a5aa4485d47",
   "metadata": {},
   "outputs": [],
   "source": [
    "def applyBoxCoxAllFeatures(df):\n",
    "    cols = df.columns.tolist()\n",
    "    for colName in cols:\n",
    "        df[colName] = df[colName] + 1\n",
    "        df[colName] = stats.boxcox(df[colName])[0]\n",
    "    return df"
   ]
  },
  {
   "cell_type": "code",
   "execution_count": 4,
   "id": "397f0502-98f1-4420-be5d-900538d75c17",
   "metadata": {},
   "outputs": [],
   "source": [
    "def applyBoxCoxFeatures(df, features):\n",
    "    newFeatures = []\n",
    "    for feature in features:    \n",
    "        df[feature] = df[feature] + 1\n",
    "        df[feature] = stats.boxcox(df[feature])[0]\n",
    "    return df"
   ]
  },
  {
   "cell_type": "code",
   "execution_count": 5,
   "id": "5fda5ee1-7d70-4dfa-b0a1-b1d3668c819f",
   "metadata": {},
   "outputs": [],
   "source": [
    "def centerAndScale(df):\n",
    "    cols = df.columns\n",
    "    scaler = StandardScaler()\n",
    "    scaler.fit(df)\n",
    "    data_normalized = scaler.transform(df)\n",
    "#     print('mean: ', data_normalized.mean(axis=0).round(2))\n",
    "#     print('std: ', data_normalized.std(axis=0).round(2))\n",
    "\n",
    "    df = pd.DataFrame(data_normalized, columns=cols)\n",
    "    return df"
   ]
  },
  {
   "cell_type": "code",
   "execution_count": 6,
   "id": "0a34b899-756c-4bd0-bfbe-91090f4b290c",
   "metadata": {},
   "outputs": [],
   "source": [
    "def euclidean_distance(x, y):   \n",
    "    return np.sqrt(np.sum((x - y) ** 2))"
   ]
  },
  {
   "cell_type": "code",
   "execution_count": 7,
   "id": "31a2c1e2-d219-4b72-9d92-7a95b1d0fd1f",
   "metadata": {},
   "outputs": [],
   "source": [
    "def applyEuclideanDistance(df, ids, originalSongVector):\n",
    "    ranking = []\n",
    "    for index in range(0, len(df)):\n",
    "        ranking.append([ids[index], euclidean_distance(df.iloc[index, :], originalSongVector)])\n",
    "    ranksDF = pd.DataFrame(ranking)\n",
    "    ranksDF = ranksDF.rename(columns={0: \"id\", 1: \"rank\"})\n",
    "    ranksDF = ranksDF.sort_values(by=\"rank\")\n",
    "    ranksDF.reset_index(drop=True, inplace=True)\n",
    "    return ranksDF"
   ]
  },
  {
   "cell_type": "code",
   "execution_count": 8,
   "id": "fa042282-fa77-418f-aba8-dd1f80637c4a",
   "metadata": {},
   "outputs": [],
   "source": [
    "def getIndexAndVector(id_chord, ids, df):\n",
    "    songIndex = ids[ids == id_chord].index[0]\n",
    "    songVector = df.iloc[songIndex, :]\n",
    "    return songIndex, songVector"
   ]
  },
  {
   "cell_type": "code",
   "execution_count": 9,
   "id": "d61a330a-eb8a-42e3-a838-e56debe57992",
   "metadata": {},
   "outputs": [],
   "source": [
    "def applyJaccard(df, ids, originalSongVector):\n",
    "    ranking = []\n",
    "    for i, x in df.iterrows():\n",
    "        result = jaccard(originalSongVector.tolist(), x.tolist())\n",
    "        ranking.append([ids[i], result])\n",
    "    ranksDF = pd.DataFrame(ranking)\n",
    "    ranksDF = ranksDF.rename(columns={0: \"id\", 1: \"rank\"})\n",
    "    ranksDF = ranksDF.sort_values(by=\"rank\")\n",
    "    ranksDF.reset_index(drop=True, inplace=True)\n",
    "    return ranksDF"
   ]
  },
  {
   "cell_type": "code",
   "execution_count": null,
   "id": "de22d28a-8169-4f74-ac9f-71be17d036fa",
   "metadata": {},
   "outputs": [],
   "source": []
  },
  {
   "cell_type": "code",
   "execution_count": null,
   "id": "b7af1484-921c-4fa1-b9af-781d7d726a13",
   "metadata": {},
   "outputs": [],
   "source": []
  }
 ],
 "metadata": {
  "kernelspec": {
   "display_name": "Python 3",
   "language": "python",
   "name": "python3"
  },
  "language_info": {
   "codemirror_mode": {
    "name": "ipython",
    "version": 3
   },
   "file_extension": ".py",
   "mimetype": "text/x-python",
   "name": "python",
   "nbconvert_exporter": "python",
   "pygments_lexer": "ipython3",
   "version": "3.9.12"
  }
 },
 "nbformat": 4,
 "nbformat_minor": 5
}
