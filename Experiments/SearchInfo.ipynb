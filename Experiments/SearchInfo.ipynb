{
 "cells": [
  {
   "cell_type": "code",
   "execution_count": 1,
   "metadata": {},
   "outputs": [],
   "source": [
    "import pandas as pd\n",
    "import os"
   ]
  },
  {
   "cell_type": "code",
   "execution_count": 2,
   "metadata": {},
   "outputs": [],
   "source": [
    "def searchByID(id):\n",
    "    songs = pd.read_csv('./data/FinalMergedCleanChordsTracks.csv')\n",
    "    songs = songs.iloc[:,1:]\n",
    "    result = songs[songs['id_chord'] == id]\n",
    "    return result\n",
    "def searchBySpotify(id):\n",
    "    songs = pd.read_csv('./data/FinalMergedCleanChordsTracks.csv')\n",
    "    songs = songs.iloc[:,1:]\n",
    "    result = songs[['id_chord','id_spotify_track']][songs['id_spotify_track'] == id].values\n",
    "    if len(result) <= 0:\n",
    "        print(\"THIS ONE DOESNT EXIST\")\n",
    "        return\n",
    "    else:\n",
    "        return result"
   ]
  },
  {
   "cell_type": "code",
   "execution_count": 3,
   "metadata": {},
   "outputs": [],
   "source": [
    "def getTrackSpotifyInfo(id): \n",
    "    songs = pd.read_csv('./data/FinalMergedChordsSpotify.csv')\n",
    "    songs = songs.iloc[:,1:]\n",
    "    return songs[songs['id_chord'] == id]"
   ]
  },
  {
   "cell_type": "code",
   "execution_count": null,
   "metadata": {},
   "outputs": [],
   "source": []
  }
 ],
 "metadata": {
  "kernelspec": {
   "display_name": "Python 3",
   "language": "python",
   "name": "python3"
  },
  "language_info": {
   "codemirror_mode": {
    "name": "ipython",
    "version": 3
   },
   "file_extension": ".py",
   "mimetype": "text/x-python",
   "name": "python",
   "nbconvert_exporter": "python",
   "pygments_lexer": "ipython3",
   "version": "3.9.12"
  },
  "vscode": {
   "interpreter": {
    "hash": "0167474e25ac903b7ed206b2a6261fba13c5d8405c8ccde398587cd3f7fc7183"
   }
  }
 },
 "nbformat": 4,
 "nbformat_minor": 4
}
