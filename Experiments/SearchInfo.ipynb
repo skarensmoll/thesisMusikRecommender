{
 "cells": [
  {
   "cell_type": "code",
   "execution_count": 31,
   "metadata": {},
   "outputs": [],
   "source": [
    "import pandas as pd\n",
    "import os"
   ]
  },
  {
   "cell_type": "code",
   "execution_count": 34,
   "metadata": {},
   "outputs": [],
   "source": [
    "songs = pd.read_csv('./data/FinalMergedCleanChordsTracks.csv')\n",
    "songs = songs.iloc[:,1:]"
   ]
  },
  {
   "cell_type": "code",
   "execution_count": 35,
   "metadata": {},
   "outputs": [],
   "source": [
    "def searchByID(id):\n",
    "    result = songs[songs['id_chord'] == id]\n",
    "    return result\n",
    "def searchBySpotify(id):\n",
    "    result = songs[['id_chord','id_spotify_track']][songs['id_spotify_track'] == id].values\n",
    "    if len(result) <= 0:\n",
    "        print(\"THIS ONE DOESNT EXIST\")\n",
    "        return\n",
    "    else:\n",
    "        return result"
   ]
  },
  {
   "cell_type": "code",
   "execution_count": 112,
   "metadata": {},
   "outputs": [
    {
     "data": {
      "text/html": [
       "<div>\n",
       "<style scoped>\n",
       "    .dataframe tbody tr th:only-of-type {\n",
       "        vertical-align: middle;\n",
       "    }\n",
       "\n",
       "    .dataframe tbody tr th {\n",
       "        vertical-align: top;\n",
       "    }\n",
       "\n",
       "    .dataframe thead th {\n",
       "        text-align: right;\n",
       "    }\n",
       "</style>\n",
       "<table border=\"1\" class=\"dataframe\">\n",
       "  <thead>\n",
       "    <tr style=\"text-align: right;\">\n",
       "      <th></th>\n",
       "      <th>id_chord</th>\n",
       "      <th>id_spotify_track</th>\n",
       "      <th>id_track</th>\n",
       "    </tr>\n",
       "  </thead>\n",
       "  <tbody>\n",
       "    <tr>\n",
       "      <th>407</th>\n",
       "      <td>6000397</td>\n",
       "      <td>3qrPs2Idj6R38Owfllxpol</td>\n",
       "      <td>9000397</td>\n",
       "    </tr>\n",
       "  </tbody>\n",
       "</table>\n",
       "</div>"
      ],
      "text/plain": [
       "     id_chord        id_spotify_track  id_track\n",
       "407   6000397  3qrPs2Idj6R38Owfllxpol   9000397"
      ]
     },
     "execution_count": 112,
     "metadata": {},
     "output_type": "execute_result"
    }
   ],
   "source": [
    "searchByID(6000397)"
   ]
  },
  {
   "cell_type": "code",
   "execution_count": null,
   "metadata": {},
   "outputs": [],
   "source": []
  },
  {
   "cell_type": "code",
   "execution_count": null,
   "metadata": {},
   "outputs": [],
   "source": []
  },
  {
   "cell_type": "code",
   "execution_count": 37,
   "metadata": {},
   "outputs": [
    {
     "data": {
      "text/plain": [
       "192    6000182\n",
       "Name: id_chord, dtype: int64"
      ]
     },
     "execution_count": 37,
     "metadata": {},
     "output_type": "execute_result"
    }
   ],
   "source": [
    "a.id_chord"
   ]
  },
  {
   "cell_type": "code",
   "execution_count": 38,
   "metadata": {},
   "outputs": [],
   "source": [
    "## IMPORT COVERS IN LIST\n",
    "import csv\n",
    "with open('./data/unified/FinalCoverList.csv', newline='') as f:\n",
    "    reader = csv.reader(f)\n",
    "    FinalSongsGroups = list(reader)\n",
    "\n",
    "del FinalSongsGroups[0]\n",
    "FinalSongsGroupsAnalyze = []\n",
    "for songsGroups in FinalSongsGroups:\n",
    "    if len(songsGroups) > 0:\n",
    "        toInt = [int(x) for x in songsGroups]\n",
    "        FinalSongsGroupsAnalyze.append(toInt)"
   ]
  },
  {
   "cell_type": "code",
   "execution_count": 39,
   "metadata": {
    "tags": []
   },
   "outputs": [],
   "source": [
    "covers = [[180849,\n",
    "  6001027,\n",
    "  1686718,\n",
    "  5000013,\n",
    "  5000001,\n",
    "  5000007,\n",
    "  5000008,\n",
    "  5000023,\n",
    "  5000017,\n",
    "  5000019,\n",
    "  5000020,\n",
    "  5000018,\n",
    "  5000011,\n",
    "  5000012],\n",
    " [6001971, 6001984],\n",
    " [6002492, 6002491],\n",
    " [6000699, 6001165, 6000182],\n",
    " [6000104, 6000273],\n",
    " [6000768, 6000784],\n",
    " [6001931, 6001748],\n",
    " [6002043, 6002073],\n",
    " [6002244, 6000194],\n",
    " [6001209, 6000606],\n",
    " [6000352, 6001248],\n",
    " [6000549, 6001508, 6001242],\n",
    " [6001918, 6001997],\n",
    " [6001651, 6001900],\n",
    " [6000263, 6001570, 6002374],\n",
    " [6001822, 6001653],\n",
    " [6000763, 6000668],\n",
    " [6000764, 6000667],\n",
    " [6001543, 6001541],\n",
    " [6000762, 6000773],\n",
    " [6000771, 6000670],\n",
    " [6001747, 6001952],\n",
    " [6000548, 6002203],\n",
    " [6000172, 6002133],\n",
    " [6001762, 6001675],\n",
    " [6002147, 6002146],\n",
    " [6000767, 6000775],\n",
    " [6000766, 6000673],\n",
    " [6001506, 6000529],\n",
    " [6000397, 6000409],\n",
    " [6001914, 6002001],\n",
    " [6002482, 6002454],\n",
    " [6000765, 6000783],\n",
    " [6000761, 6000782],\n",
    " [6000814, 6000813],\n",
    " [6001224, 6000140]]\n"
   ]
  },
  {
   "cell_type": "code",
   "execution_count": 91,
   "metadata": {},
   "outputs": [],
   "source": [
    "df = pd.DataFrame(columns=['id_song', 'song_name', 'artist', 'year', 'ranking'])"
   ]
  },
  {
   "cell_type": "code",
   "execution_count": 92,
   "metadata": {},
   "outputs": [
    {
     "data": {
      "text/html": [
       "<div>\n",
       "<style scoped>\n",
       "    .dataframe tbody tr th:only-of-type {\n",
       "        vertical-align: middle;\n",
       "    }\n",
       "\n",
       "    .dataframe tbody tr th {\n",
       "        vertical-align: top;\n",
       "    }\n",
       "\n",
       "    .dataframe thead th {\n",
       "        text-align: right;\n",
       "    }\n",
       "</style>\n",
       "<table border=\"1\" class=\"dataframe\">\n",
       "  <thead>\n",
       "    <tr style=\"text-align: right;\">\n",
       "      <th></th>\n",
       "      <th>id_chord</th>\n",
       "      <th>id_spotify_track</th>\n",
       "      <th>id_track</th>\n",
       "    </tr>\n",
       "  </thead>\n",
       "  <tbody>\n",
       "    <tr>\n",
       "      <th>4022</th>\n",
       "      <td>1104043</td>\n",
       "      <td>3fDsErbmOD3TuaSDuxSXav</td>\n",
       "      <td>7503</td>\n",
       "    </tr>\n",
       "  </tbody>\n",
       "</table>\n",
       "</div>"
      ],
      "text/plain": [
       "      id_chord        id_spotify_track  id_track\n",
       "4022   1104043  3fDsErbmOD3TuaSDuxSXav      7503"
      ]
     },
     "execution_count": 92,
     "metadata": {},
     "output_type": "execute_result"
    }
   ],
   "source": [
    "searchByID(1104043)"
   ]
  },
  {
   "cell_type": "code",
   "execution_count": 93,
   "metadata": {},
   "outputs": [
    {
     "data": {
      "text/plain": [
       "[6001027,\n",
       " 180849,\n",
       " 1874688,\n",
       " 924061,\n",
       " 1747044,\n",
       " 6000395,\n",
       " 1680532,\n",
       " 6001230,\n",
       " 188071,\n",
       " 1104043]"
      ]
     },
     "execution_count": 93,
     "metadata": {},
     "output_type": "execute_result"
    }
   ],
   "source": [
    "[6001027,\n",
    " 180849,\n",
    " 1874688,\n",
    " 924061,\n",
    " 1747044,\n",
    " 6000395,\n",
    " 1680532,\n",
    " 6001230,\n",
    " 188071,\n",
    " 1104043]"
   ]
  },
  {
   "cell_type": "code",
   "execution_count": 94,
   "metadata": {},
   "outputs": [],
   "source": [
    "df = df.append({'id_song': 6001027, 'song_name': 'The Scientist', 'artist': 'Coldplay', 'year': 2002, 'ranking': '0.000000'}, ignore_index=True)"
   ]
  },
  {
   "cell_type": "code",
   "execution_count": 95,
   "metadata": {},
   "outputs": [
    {
     "data": {
      "text/html": [
       "<div>\n",
       "<style scoped>\n",
       "    .dataframe tbody tr th:only-of-type {\n",
       "        vertical-align: middle;\n",
       "    }\n",
       "\n",
       "    .dataframe tbody tr th {\n",
       "        vertical-align: top;\n",
       "    }\n",
       "\n",
       "    .dataframe thead th {\n",
       "        text-align: right;\n",
       "    }\n",
       "</style>\n",
       "<table border=\"1\" class=\"dataframe\">\n",
       "  <thead>\n",
       "    <tr style=\"text-align: right;\">\n",
       "      <th></th>\n",
       "      <th>id_song</th>\n",
       "      <th>song_name</th>\n",
       "      <th>artist</th>\n",
       "      <th>year</th>\n",
       "      <th>ranking</th>\n",
       "    </tr>\n",
       "  </thead>\n",
       "  <tbody>\n",
       "    <tr>\n",
       "      <th>0</th>\n",
       "      <td>6001027</td>\n",
       "      <td>The Scientist</td>\n",
       "      <td>Coldplay</td>\n",
       "      <td>2002</td>\n",
       "      <td>0.000000</td>\n",
       "    </tr>\n",
       "  </tbody>\n",
       "</table>\n",
       "</div>"
      ],
      "text/plain": [
       "   id_song      song_name    artist  year   ranking\n",
       "0  6001027  The Scientist  Coldplay  2002  0.000000"
      ]
     },
     "execution_count": 95,
     "metadata": {},
     "output_type": "execute_result"
    }
   ],
   "source": [
    "df"
   ]
  },
  {
   "cell_type": "code",
   "execution_count": 96,
   "metadata": {},
   "outputs": [],
   "source": [
    "df = df.append({'id_song': 180849, 'song_name': 'The Scientist', 'artist': 'Coldplay', 'year': 2022, 'ranking': '0.000000'}, ignore_index=True)"
   ]
  },
  {
   "cell_type": "code",
   "execution_count": 97,
   "metadata": {},
   "outputs": [],
   "source": [
    "df = df.append({'id_song': 1874688, 'song_name': 'King of My Heart', 'artist': 'John Mark McMillian', 'year': 2015, 'ranking': '0.540161'}, ignore_index=True)"
   ]
  },
  {
   "cell_type": "code",
   "execution_count": 98,
   "metadata": {},
   "outputs": [],
   "source": [
    "df = df.append({'id_song': 924061, 'song_name': 'Kecewa', 'artist': 'Bunga Citra Lestari', 'year': 2008, 'ranking': '0.553921'}, ignore_index=True)"
   ]
  },
  {
   "cell_type": "code",
   "execution_count": 99,
   "metadata": {},
   "outputs": [],
   "source": [
    "df = df.append({'id_song': 1747044, 'song_name': 'Cinta Terbaik', 'artist': 'Cassandra', 'year': 2017, 'ranking': '0.644730'}, ignore_index=True)"
   ]
  },
  {
   "cell_type": "code",
   "execution_count": 100,
   "metadata": {},
   "outputs": [],
   "source": [
    "df = df.append({'id_song': 6000395, 'song_name': 'Where Do We Draw the Line', 'artist': 'Poets of the Fall', 'year': 2008, 'ranking': '0.730403'}, ignore_index=True)"
   ]
  },
  {
   "cell_type": "code",
   "execution_count": 101,
   "metadata": {},
   "outputs": [],
   "source": [
    "df = df.append({'id_song': 1680532, 'song_name': 'Let it Go', 'artist': 'James Bay', 'year': 2015, 'ranking': '0.732680'}, ignore_index=True)"
   ]
  },
  {
   "cell_type": "code",
   "execution_count": 102,
   "metadata": {},
   "outputs": [],
   "source": [
    "df = df.append({'id_song': 6001230, 'song_name': 'Let it Go', 'artist': 'James Bay', 'year': 2016, 'ranking': '0.741854'}, ignore_index=True)"
   ]
  },
  {
   "cell_type": "code",
   "execution_count": 103,
   "metadata": {},
   "outputs": [],
   "source": [
    "df = df.append({'id_song': 188071, 'song_name': 'Kung Wala Ka', 'artist': 'Hale', 'year': 2004, 'ranking': '0.752359'}, ignore_index=True)"
   ]
  },
  {
   "cell_type": "code",
   "execution_count": 104,
   "metadata": {},
   "outputs": [],
   "source": [
    "df = df.append({'id_song': 1104043, 'song_name': 'Over You', 'artist': 'Miranda Lambert', 'year': 2011, 'ranking': '0.783418'}, ignore_index=True)"
   ]
  },
  {
   "cell_type": "code",
   "execution_count": 105,
   "metadata": {},
   "outputs": [
    {
     "data": {
      "text/html": [
       "<div>\n",
       "<style scoped>\n",
       "    .dataframe tbody tr th:only-of-type {\n",
       "        vertical-align: middle;\n",
       "    }\n",
       "\n",
       "    .dataframe tbody tr th {\n",
       "        vertical-align: top;\n",
       "    }\n",
       "\n",
       "    .dataframe thead th {\n",
       "        text-align: right;\n",
       "    }\n",
       "</style>\n",
       "<table border=\"1\" class=\"dataframe\">\n",
       "  <thead>\n",
       "    <tr style=\"text-align: right;\">\n",
       "      <th></th>\n",
       "      <th>id_song</th>\n",
       "      <th>song_name</th>\n",
       "      <th>artist</th>\n",
       "      <th>year</th>\n",
       "      <th>ranking</th>\n",
       "    </tr>\n",
       "  </thead>\n",
       "  <tbody>\n",
       "    <tr>\n",
       "      <th>0</th>\n",
       "      <td>6001027</td>\n",
       "      <td>The Scientist</td>\n",
       "      <td>Coldplay</td>\n",
       "      <td>2002</td>\n",
       "      <td>0.000000</td>\n",
       "    </tr>\n",
       "    <tr>\n",
       "      <th>1</th>\n",
       "      <td>180849</td>\n",
       "      <td>The Scientist</td>\n",
       "      <td>Coldplay</td>\n",
       "      <td>2022</td>\n",
       "      <td>0.000000</td>\n",
       "    </tr>\n",
       "    <tr>\n",
       "      <th>2</th>\n",
       "      <td>1874688</td>\n",
       "      <td>King of My Heart</td>\n",
       "      <td>John Mark McMillian</td>\n",
       "      <td>2015</td>\n",
       "      <td>0.540161</td>\n",
       "    </tr>\n",
       "    <tr>\n",
       "      <th>3</th>\n",
       "      <td>924061</td>\n",
       "      <td>Kecewa</td>\n",
       "      <td>Bunga Citra Lestari</td>\n",
       "      <td>2008</td>\n",
       "      <td>0.553921</td>\n",
       "    </tr>\n",
       "    <tr>\n",
       "      <th>4</th>\n",
       "      <td>1747044</td>\n",
       "      <td>Cinta Terbaik</td>\n",
       "      <td>Cassandra</td>\n",
       "      <td>2017</td>\n",
       "      <td>0.644730</td>\n",
       "    </tr>\n",
       "    <tr>\n",
       "      <th>5</th>\n",
       "      <td>6000395</td>\n",
       "      <td>Where Do We Draw the Line</td>\n",
       "      <td>Poets of the Fall</td>\n",
       "      <td>2008</td>\n",
       "      <td>0.730403</td>\n",
       "    </tr>\n",
       "    <tr>\n",
       "      <th>6</th>\n",
       "      <td>1680532</td>\n",
       "      <td>Let it Go</td>\n",
       "      <td>James Bay</td>\n",
       "      <td>2015</td>\n",
       "      <td>0.732680</td>\n",
       "    </tr>\n",
       "    <tr>\n",
       "      <th>7</th>\n",
       "      <td>6001230</td>\n",
       "      <td>Let it Go</td>\n",
       "      <td>James Bay</td>\n",
       "      <td>2016</td>\n",
       "      <td>0.741854</td>\n",
       "    </tr>\n",
       "    <tr>\n",
       "      <th>8</th>\n",
       "      <td>188071</td>\n",
       "      <td>Kung Wala Ka</td>\n",
       "      <td>Hale</td>\n",
       "      <td>2004</td>\n",
       "      <td>0.752359</td>\n",
       "    </tr>\n",
       "    <tr>\n",
       "      <th>9</th>\n",
       "      <td>1104043</td>\n",
       "      <td>Over You</td>\n",
       "      <td>Miranda Lambert</td>\n",
       "      <td>2011</td>\n",
       "      <td>0.783418</td>\n",
       "    </tr>\n",
       "  </tbody>\n",
       "</table>\n",
       "</div>"
      ],
      "text/plain": [
       "   id_song                  song_name               artist  year   ranking\n",
       "0  6001027              The Scientist             Coldplay  2002  0.000000\n",
       "1   180849              The Scientist             Coldplay  2022  0.000000\n",
       "2  1874688           King of My Heart  John Mark McMillian  2015  0.540161\n",
       "3   924061                     Kecewa  Bunga Citra Lestari  2008  0.553921\n",
       "4  1747044              Cinta Terbaik            Cassandra  2017  0.644730\n",
       "5  6000395  Where Do We Draw the Line    Poets of the Fall  2008  0.730403\n",
       "6  1680532                  Let it Go            James Bay  2015  0.732680\n",
       "7  6001230                  Let it Go            James Bay  2016  0.741854\n",
       "8   188071               Kung Wala Ka                 Hale  2004  0.752359\n",
       "9  1104043                   Over You      Miranda Lambert  2011  0.783418"
      ]
     },
     "execution_count": 105,
     "metadata": {},
     "output_type": "execute_result"
    }
   ],
   "source": [
    "df"
   ]
  },
  {
   "cell_type": "code",
   "execution_count": null,
   "metadata": {},
   "outputs": [],
   "source": []
  }
 ],
 "metadata": {
  "kernelspec": {
   "display_name": "Python 3",
   "language": "python",
   "name": "python3"
  },
  "language_info": {
   "codemirror_mode": {
    "name": "ipython",
    "version": 3
   },
   "file_extension": ".py",
   "mimetype": "text/x-python",
   "name": "python",
   "nbconvert_exporter": "python",
   "pygments_lexer": "ipython3",
   "version": "3.9.12"
  },
  "vscode": {
   "interpreter": {
    "hash": "0167474e25ac903b7ed206b2a6261fba13c5d8405c8ccde398587cd3f7fc7183"
   }
  }
 },
 "nbformat": 4,
 "nbformat_minor": 4
}
