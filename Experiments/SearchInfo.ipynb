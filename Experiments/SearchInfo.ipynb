{
 "cells": [
  {
   "cell_type": "code",
   "execution_count": 1,
   "metadata": {},
   "outputs": [],
   "source": [
    "import pandas as pd"
   ]
  },
  {
   "cell_type": "code",
   "execution_count": 8,
   "metadata": {},
   "outputs": [],
   "source": [
    "songs = pd.read_csv('./data/FinalMergedCleanChordsTracks.csv')\n",
    "songs = songs.iloc[:,1:]"
   ]
  },
  {
   "cell_type": "code",
   "execution_count": 19,
   "metadata": {},
   "outputs": [
    {
     "data": {
      "text/html": [
       "<div>\n",
       "<style scoped>\n",
       "    .dataframe tbody tr th:only-of-type {\n",
       "        vertical-align: middle;\n",
       "    }\n",
       "\n",
       "    .dataframe tbody tr th {\n",
       "        vertical-align: top;\n",
       "    }\n",
       "\n",
       "    .dataframe thead th {\n",
       "        text-align: right;\n",
       "    }\n",
       "</style>\n",
       "<table border=\"1\" class=\"dataframe\">\n",
       "  <thead>\n",
       "    <tr style=\"text-align: right;\">\n",
       "      <th></th>\n",
       "      <th>id_chord</th>\n",
       "      <th>id_spotify_track</th>\n",
       "      <th>id_track</th>\n",
       "    </tr>\n",
       "  </thead>\n",
       "  <tbody>\n",
       "    <tr>\n",
       "      <th>0</th>\n",
       "      <td>5000001</td>\n",
       "      <td>025vpSSyndhVZezl8rUF6L</td>\n",
       "      <td>8000001</td>\n",
       "    </tr>\n",
       "    <tr>\n",
       "      <th>1</th>\n",
       "      <td>5000007</td>\n",
       "      <td>6TyaYGQKCnRLVTOQlXvYAA</td>\n",
       "      <td>8000007</td>\n",
       "    </tr>\n",
       "    <tr>\n",
       "      <th>2</th>\n",
       "      <td>5000008</td>\n",
       "      <td>68iMdxXn1timrxURm9dR8C</td>\n",
       "      <td>8000008</td>\n",
       "    </tr>\n",
       "    <tr>\n",
       "      <th>3</th>\n",
       "      <td>5000023</td>\n",
       "      <td>6f46TyGZm5oeKIP54PLvql</td>\n",
       "      <td>8000023</td>\n",
       "    </tr>\n",
       "    <tr>\n",
       "      <th>4</th>\n",
       "      <td>5000017</td>\n",
       "      <td>34dnNAUoIPcwnK0RtVMBWZ</td>\n",
       "      <td>8000017</td>\n",
       "    </tr>\n",
       "    <tr>\n",
       "      <th>...</th>\n",
       "      <td>...</td>\n",
       "      <td>...</td>\n",
       "      <td>...</td>\n",
       "    </tr>\n",
       "    <tr>\n",
       "      <th>5845</th>\n",
       "      <td>79685</td>\n",
       "      <td>7zMUCLm1TN9o9JlLISztxO</td>\n",
       "      <td>1715</td>\n",
       "    </tr>\n",
       "    <tr>\n",
       "      <th>5846</th>\n",
       "      <td>39828</td>\n",
       "      <td>7zmVAVcT1oho7iWJGpApkE</td>\n",
       "      <td>920</td>\n",
       "    </tr>\n",
       "    <tr>\n",
       "      <th>5847</th>\n",
       "      <td>957714</td>\n",
       "      <td>7znAjItIP7xKKhyFzF5W1B</td>\n",
       "      <td>6489</td>\n",
       "    </tr>\n",
       "    <tr>\n",
       "      <th>5848</th>\n",
       "      <td>1172824</td>\n",
       "      <td>7zuwaenG5AF0vG7o7kMduX</td>\n",
       "      <td>7887</td>\n",
       "    </tr>\n",
       "    <tr>\n",
       "      <th>5849</th>\n",
       "      <td>930394</td>\n",
       "      <td>7zVfEu1dEvRw4EkWoqrBkx</td>\n",
       "      <td>6345</td>\n",
       "    </tr>\n",
       "  </tbody>\n",
       "</table>\n",
       "<p>5850 rows × 3 columns</p>\n",
       "</div>"
      ],
      "text/plain": [
       "      id_chord        id_spotify_track  id_track\n",
       "0      5000001  025vpSSyndhVZezl8rUF6L   8000001\n",
       "1      5000007  6TyaYGQKCnRLVTOQlXvYAA   8000007\n",
       "2      5000008  68iMdxXn1timrxURm9dR8C   8000008\n",
       "3      5000023  6f46TyGZm5oeKIP54PLvql   8000023\n",
       "4      5000017  34dnNAUoIPcwnK0RtVMBWZ   8000017\n",
       "...        ...                     ...       ...\n",
       "5845     79685  7zMUCLm1TN9o9JlLISztxO      1715\n",
       "5846     39828  7zmVAVcT1oho7iWJGpApkE       920\n",
       "5847    957714  7znAjItIP7xKKhyFzF5W1B      6489\n",
       "5848   1172824  7zuwaenG5AF0vG7o7kMduX      7887\n",
       "5849    930394  7zVfEu1dEvRw4EkWoqrBkx      6345\n",
       "\n",
       "[5850 rows x 3 columns]"
      ]
     },
     "execution_count": 19,
     "metadata": {},
     "output_type": "execute_result"
    }
   ],
   "source": [
    "songs"
   ]
  },
  {
   "cell_type": "code",
   "execution_count": 34,
   "metadata": {},
   "outputs": [
    {
     "name": "stdout",
     "output_type": "stream",
     "text": [
      "https://open.spotify.com/track/6IW1i7jJYktT8EwF6TQ0bj\n"
     ]
    }
   ],
   "source": [
    "search = 6000372\n",
    "result = songs['id_spotify_track'][songs['id_chord'] == search].values[0]\n",
    "print('https://open.spotify.com/track/'+result)"
   ]
  }
 ],
 "metadata": {
  "kernelspec": {
   "display_name": "Python 3.10.5 64-bit",
   "language": "python",
   "name": "python3"
  },
  "language_info": {
   "codemirror_mode": {
    "name": "ipython",
    "version": 3
   },
   "file_extension": ".py",
   "mimetype": "text/x-python",
   "name": "python",
   "nbconvert_exporter": "python",
   "pygments_lexer": "ipython3",
   "version": "3.10.5"
  },
  "orig_nbformat": 4,
  "vscode": {
   "interpreter": {
    "hash": "0167474e25ac903b7ed206b2a6261fba13c5d8405c8ccde398587cd3f7fc7183"
   }
  }
 },
 "nbformat": 4,
 "nbformat_minor": 2
}
