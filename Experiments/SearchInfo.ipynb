{
 "cells": [
  {
   "cell_type": "code",
   "execution_count": 47,
   "metadata": {},
   "outputs": [],
   "source": [
    "import pandas as pd"
   ]
  },
  {
   "cell_type": "code",
   "execution_count": 48,
   "metadata": {},
   "outputs": [],
   "source": [
    "songs = pd.read_csv('./data/FinalMergedCleanChordsTracks.csv')\n",
    "songs = songs.iloc[:,1:]"
   ]
  },
  {
   "cell_type": "code",
   "execution_count": 57,
   "metadata": {},
   "outputs": [],
   "source": [
    "def searchByID(id):\n",
    "    result = songs[songs['id_chord'] == id]\n",
    "    return result\n",
    "def searchBySpotify(id):\n",
    "    result = songs[['id_chord','id_spotify_track']][songs['id_spotify_track'] == id].values\n",
    "    if len(result) <= 0:\n",
    "        print(\"THIS ONE DOESNT EXIST\")\n",
    "        return\n",
    "    else:\n",
    "        return result"
   ]
  },
  {
   "cell_type": "code",
   "execution_count": 58,
   "metadata": {},
   "outputs": [
    {
     "data": {
      "text/html": [
       "<div>\n",
       "<style scoped>\n",
       "    .dataframe tbody tr th:only-of-type {\n",
       "        vertical-align: middle;\n",
       "    }\n",
       "\n",
       "    .dataframe tbody tr th {\n",
       "        vertical-align: top;\n",
       "    }\n",
       "\n",
       "    .dataframe thead th {\n",
       "        text-align: right;\n",
       "    }\n",
       "</style>\n",
       "<table border=\"1\" class=\"dataframe\">\n",
       "  <thead>\n",
       "    <tr style=\"text-align: right;\">\n",
       "      <th></th>\n",
       "      <th>id_chord</th>\n",
       "      <th>id_spotify_track</th>\n",
       "      <th>id_track</th>\n",
       "    </tr>\n",
       "  </thead>\n",
       "  <tbody>\n",
       "    <tr>\n",
       "      <th>1037</th>\n",
       "      <td>6001027</td>\n",
       "      <td>75JFxkI2RXiU7L9VXzMkle</td>\n",
       "      <td>9001027</td>\n",
       "    </tr>\n",
       "  </tbody>\n",
       "</table>\n",
       "</div>"
      ],
      "text/plain": [
       "      id_chord        id_spotify_track  id_track\n",
       "1037   6001027  75JFxkI2RXiU7L9VXzMkle   9001027"
      ]
     },
     "execution_count": 58,
     "metadata": {},
     "output_type": "execute_result"
    }
   ],
   "source": [
    "searchByID(6001027)"
   ]
  }
 ],
 "metadata": {
  "kernelspec": {
   "display_name": "Python 3.10.5 64-bit",
   "language": "python",
   "name": "python3"
  },
  "language_info": {
   "codemirror_mode": {
    "name": "ipython",
    "version": 3
   },
   "file_extension": ".py",
   "mimetype": "text/x-python",
   "name": "python",
   "nbconvert_exporter": "python",
   "pygments_lexer": "ipython3",
   "version": "3.10.5"
  },
  "orig_nbformat": 4,
  "vscode": {
   "interpreter": {
    "hash": "0167474e25ac903b7ed206b2a6261fba13c5d8405c8ccde398587cd3f7fc7183"
   }
  }
 },
 "nbformat": 4,
 "nbformat_minor": 2
}
