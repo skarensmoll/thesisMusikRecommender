{
 "cells": [
  {
   "cell_type": "markdown",
   "id": "559fde27-7a63-4edc-abc9-49227ccb0b90",
   "metadata": {},
   "source": [
    "# 06-06"
   ]
  },
  {
   "cell_type": "markdown",
   "id": "f3d17aa3-20ad-4754-b8b2-934b60bd1977",
   "metadata": {},
   "source": [
    "- Transition matrices + continous\n",
    "    - Remove Constant Features\n",
    "    - BoxCox\n",
    "    - Center and Scaling\n",
    "    - Euclidean Distance\n",
    "- Categorical One Hot Encoded Features\n",
    "    - Jaccard\n",
    "- Weighted rank result of euclidean and jackard"
   ]
  },
  {
   "cell_type": "code",
   "execution_count": 35,
   "id": "200f333f-337e-4a63-b3e3-ace904b0ace7",
   "metadata": {},
   "outputs": [],
   "source": [
    "import pandas as pd\n",
    "from sklearn.cluster import KMeans\n",
    "import seaborn as sns\n",
    "from matplotlib import pyplot as plt \n",
    "import math\n",
    "from ipynb.fs.full.Utils import createKDeplot, loadDataFrames, dropFeaturesWithNoVariance, loadCoverGroups\n",
    "import numpy as np\n",
    "from sklearn.preprocessing import StandardScaler\n",
    "from scipy import stats\n",
    "from ipynb.fs.full.Pipeline import removeConstantFeatures, applyBoxCoxAllFeatures, centerAndScale, applyEuclideanDistance, getIndexAndVector, applyJaccard"
   ]
  },
  {
   "cell_type": "code",
   "execution_count": 36,
   "id": "431c95a9-4b4b-429b-be45-4a6784cf81ae",
   "metadata": {},
   "outputs": [],
   "source": [
    "cover = loadCoverGroups()\n",
    "originalSongId = cover[0][0]\n",
    "coverSongId = cover[0][2]\n",
    "listCovers = cover[0]"
   ]
  },
  {
   "cell_type": "code",
   "execution_count": 37,
   "id": "f00fe6c6-f1eb-4d95-8014-784d7cc4b6bc",
   "metadata": {},
   "outputs": [],
   "source": [
    "df = pd.read_csv('./data/unified/05-allDataContinousCategoricalTransition.csv')\n",
    "df = df.iloc[:, 1:]\n",
    "encodedFeaturesNames = pd.read_csv('./data/unified/05-encodedFeatureNames.csv')\n",
    "encodedFeaturesNames = encodedFeaturesNames['0'].values.tolist()\n",
    "encodedFeaturesNames.append('id')\n"
   ]
  },
  {
   "cell_type": "code",
   "execution_count": 38,
   "id": "8a41942a-cc22-4293-b2de-b462f7d9823d",
   "metadata": {},
   "outputs": [
    {
     "data": {
      "text/plain": [
       "Index(['index', 'id', 'danceability', 'energy', 'speechiness', 'acousticness',\n",
       "       'liveness', 'valence', 'tempo', '0',\n",
       "       ...\n",
       "       'mood_5', 'mood_6', 'mood_7', 'mood_8', 'mood_9', 'mood_10', 'mood_11',\n",
       "       'instrumentalness_cat_0', 'instrumentalness_cat_1',\n",
       "       'instrumentalness_cat_2'],\n",
       "      dtype='object', length=1076)"
      ]
     },
     "execution_count": 38,
     "metadata": {},
     "output_type": "execute_result"
    }
   ],
   "source": [
    "df.columns"
   ]
  },
  {
   "cell_type": "code",
   "execution_count": 39,
   "id": "5b148495-2a18-4f16-b40b-e21d22cf86df",
   "metadata": {},
   "outputs": [],
   "source": [
    "dfE = df[encodedFeaturesNames]\n",
    "dfE = dfE.sort_values('id')\n",
    "ids = dfE.id\n",
    "dfE.drop(['id'], axis=1, inplace=True)\n",
    "dfE.reset_index(drop=True, inplace=True)"
   ]
  },
  {
   "cell_type": "code",
   "execution_count": 40,
   "id": "9f828741-5ddf-4f23-9766-1216d6dc4f73",
   "metadata": {},
   "outputs": [],
   "source": [
    "dfE = removeConstantFeatures(dfE)"
   ]
  },
  {
   "cell_type": "code",
   "execution_count": 41,
   "id": "6e7b417a-6406-4e61-bac0-bcc2d0864755",
   "metadata": {},
   "outputs": [],
   "source": [
    "originalSongIndex,originalSongVector = getIndexAndVector(originalSongId, ids, dfE)\n",
    "coverIndex,coverSongVector = getIndexAndVector(coverSongId, ids, dfE)"
   ]
  },
  {
   "cell_type": "code",
   "execution_count": 42,
   "id": "e51c5076-7c03-465b-85a3-4427d5efb055",
   "metadata": {},
   "outputs": [],
   "source": [
    "##[0,1,1], [1,0,1] -> 0.66 Diff -> 0.33 Similarity\n",
    "ranksJaccard = applyJaccard(dfE, ids, originalSongVector)"
   ]
  },
  {
   "cell_type": "code",
   "execution_count": 43,
   "id": "39a4e39c-4e02-4599-995b-1c101af60b01",
   "metadata": {},
   "outputs": [
    {
     "data": {
      "text/html": [
       "<div>\n",
       "<style scoped>\n",
       "    .dataframe tbody tr th:only-of-type {\n",
       "        vertical-align: middle;\n",
       "    }\n",
       "\n",
       "    .dataframe tbody tr th {\n",
       "        vertical-align: top;\n",
       "    }\n",
       "\n",
       "    .dataframe thead th {\n",
       "        text-align: right;\n",
       "    }\n",
       "</style>\n",
       "<table border=\"1\" class=\"dataframe\">\n",
       "  <thead>\n",
       "    <tr style=\"text-align: right;\">\n",
       "      <th></th>\n",
       "      <th>id</th>\n",
       "      <th>rank</th>\n",
       "    </tr>\n",
       "  </thead>\n",
       "  <tbody>\n",
       "    <tr>\n",
       "      <th>0</th>\n",
       "      <td>106522</td>\n",
       "      <td>0.0</td>\n",
       "    </tr>\n",
       "    <tr>\n",
       "      <th>1</th>\n",
       "      <td>1029726</td>\n",
       "      <td>0.0</td>\n",
       "    </tr>\n",
       "    <tr>\n",
       "      <th>2</th>\n",
       "      <td>3653915</td>\n",
       "      <td>0.0</td>\n",
       "    </tr>\n",
       "    <tr>\n",
       "      <th>3</th>\n",
       "      <td>6001258</td>\n",
       "      <td>0.0</td>\n",
       "    </tr>\n",
       "    <tr>\n",
       "      <th>4</th>\n",
       "      <td>466649</td>\n",
       "      <td>0.0</td>\n",
       "    </tr>\n",
       "    <tr>\n",
       "      <th>...</th>\n",
       "      <td>...</td>\n",
       "      <td>...</td>\n",
       "    </tr>\n",
       "    <tr>\n",
       "      <th>5972</th>\n",
       "      <td>6000126</td>\n",
       "      <td>1.0</td>\n",
       "    </tr>\n",
       "    <tr>\n",
       "      <th>5973</th>\n",
       "      <td>783974</td>\n",
       "      <td>1.0</td>\n",
       "    </tr>\n",
       "    <tr>\n",
       "      <th>5974</th>\n",
       "      <td>6000825</td>\n",
       "      <td>1.0</td>\n",
       "    </tr>\n",
       "    <tr>\n",
       "      <th>5975</th>\n",
       "      <td>6001510</td>\n",
       "      <td>1.0</td>\n",
       "    </tr>\n",
       "    <tr>\n",
       "      <th>5976</th>\n",
       "      <td>6000515</td>\n",
       "      <td>1.0</td>\n",
       "    </tr>\n",
       "  </tbody>\n",
       "</table>\n",
       "<p>5977 rows × 2 columns</p>\n",
       "</div>"
      ],
      "text/plain": [
       "           id  rank\n",
       "0      106522   0.0\n",
       "1     1029726   0.0\n",
       "2     3653915   0.0\n",
       "3     6001258   0.0\n",
       "4      466649   0.0\n",
       "...       ...   ...\n",
       "5972  6000126   1.0\n",
       "5973   783974   1.0\n",
       "5974  6000825   1.0\n",
       "5975  6001510   1.0\n",
       "5976  6000515   1.0\n",
       "\n",
       "[5977 rows x 2 columns]"
      ]
     },
     "execution_count": 43,
     "metadata": {},
     "output_type": "execute_result"
    }
   ],
   "source": [
    "ranksJaccard"
   ]
  },
  {
   "cell_type": "code",
   "execution_count": 44,
   "id": "449e3efd-5bdc-48c7-90eb-e324bc4ee6f1",
   "metadata": {},
   "outputs": [
    {
     "data": {
      "text/plain": [
       "0.000000      10\n",
       "0.333333     216\n",
       "0.571429    1413\n",
       "0.750000    3023\n",
       "0.888889    1237\n",
       "1.000000      78\n",
       "Name: rank, dtype: int64"
      ]
     },
     "execution_count": 44,
     "metadata": {},
     "output_type": "execute_result"
    }
   ],
   "source": [
    "ranksJaccard['rank'].value_counts().sort_index()"
   ]
  },
  {
   "cell_type": "markdown",
   "id": "c2477582-c6f4-43a8-994e-dad4b6edc55e",
   "metadata": {},
   "source": [
    "## Continous features"
   ]
  },
  {
   "cell_type": "code",
   "execution_count": 45,
   "id": "8e140be9-20f1-47a3-b068-17f20861c87c",
   "metadata": {},
   "outputs": [],
   "source": [
    "encodedFeaturesNames.remove('id')\n",
    "df = df[df.columns.difference(encodedFeaturesNames)]\n",
    "df = df.sort_values('id')\n",
    "ids = df.id\n",
    "df.drop(['id'], axis=1, inplace=True)\n",
    "df.reset_index(drop=True, inplace=True)"
   ]
  },
  {
   "cell_type": "markdown",
   "id": "76517f23-1eab-4574-9941-3b6b29056b80",
   "metadata": {},
   "source": [
    "## Pipeline"
   ]
  },
  {
   "cell_type": "code",
   "execution_count": 46,
   "id": "ef6769e4-4eb1-42ed-97ce-fe9ef400c734",
   "metadata": {},
   "outputs": [
    {
     "name": "stdout",
     "output_type": "stream",
     "text": [
      "mean:  [ 0. -0. -0. ... -0.  0.  0.]\n",
      "std:  [1. 1. 1. ... 1. 1. 1.]\n"
     ]
    }
   ],
   "source": [
    "df = removeConstantFeatures(df)\n",
    "df = centerAndScale(df)"
   ]
  },
  {
   "cell_type": "markdown",
   "id": "5bdbfa92-c57b-4fdd-9ccf-ab232500acb2",
   "metadata": {},
   "source": [
    "### Original Song & Cover Song"
   ]
  },
  {
   "cell_type": "code",
   "execution_count": 47,
   "id": "4b092182-3199-4872-a970-c8fe521f56a9",
   "metadata": {},
   "outputs": [],
   "source": [
    "originalSongIndex,originalSongVector = getIndexAndVector(originalSongId, ids, df)\n",
    "coverIndex,coverSongVector = getIndexAndVector(coverSongId, ids, df)"
   ]
  },
  {
   "cell_type": "code",
   "execution_count": 48,
   "id": "fa6f117e-0fee-4239-a1bc-50ace95edffc",
   "metadata": {},
   "outputs": [
    {
     "name": "stdout",
     "output_type": "stream",
     "text": [
      "distance\n"
     ]
    }
   ],
   "source": [
    "ranksDF  = applyEuclideanDistance(df, ids, originalSongVector)"
   ]
  },
  {
   "cell_type": "code",
   "execution_count": 49,
   "id": "9b8f0db2-ce29-4bf4-80a1-50a4cababcd3",
   "metadata": {},
   "outputs": [
    {
     "data": {
      "text/html": [
       "<div>\n",
       "<style scoped>\n",
       "    .dataframe tbody tr th:only-of-type {\n",
       "        vertical-align: middle;\n",
       "    }\n",
       "\n",
       "    .dataframe tbody tr th {\n",
       "        vertical-align: top;\n",
       "    }\n",
       "\n",
       "    .dataframe thead th {\n",
       "        text-align: right;\n",
       "    }\n",
       "</style>\n",
       "<table border=\"1\" class=\"dataframe\">\n",
       "  <thead>\n",
       "    <tr style=\"text-align: right;\">\n",
       "      <th></th>\n",
       "      <th>id</th>\n",
       "      <th>rank</th>\n",
       "    </tr>\n",
       "  </thead>\n",
       "  <tbody>\n",
       "    <tr>\n",
       "      <th>0</th>\n",
       "      <td>180849</td>\n",
       "      <td>0.000000</td>\n",
       "    </tr>\n",
       "    <tr>\n",
       "      <th>1</th>\n",
       "      <td>1025154</td>\n",
       "      <td>6.246200</td>\n",
       "    </tr>\n",
       "    <tr>\n",
       "      <th>2</th>\n",
       "      <td>569357</td>\n",
       "      <td>6.269484</td>\n",
       "    </tr>\n",
       "    <tr>\n",
       "      <th>3</th>\n",
       "      <td>2065851</td>\n",
       "      <td>6.395168</td>\n",
       "    </tr>\n",
       "    <tr>\n",
       "      <th>4</th>\n",
       "      <td>1884102</td>\n",
       "      <td>6.478077</td>\n",
       "    </tr>\n",
       "    <tr>\n",
       "      <th>5</th>\n",
       "      <td>1210073</td>\n",
       "      <td>6.501521</td>\n",
       "    </tr>\n",
       "    <tr>\n",
       "      <th>6</th>\n",
       "      <td>263779</td>\n",
       "      <td>6.518148</td>\n",
       "    </tr>\n",
       "    <tr>\n",
       "      <th>7</th>\n",
       "      <td>672021</td>\n",
       "      <td>6.538485</td>\n",
       "    </tr>\n",
       "    <tr>\n",
       "      <th>8</th>\n",
       "      <td>1065079</td>\n",
       "      <td>6.544171</td>\n",
       "    </tr>\n",
       "    <tr>\n",
       "      <th>9</th>\n",
       "      <td>1048915</td>\n",
       "      <td>6.658681</td>\n",
       "    </tr>\n",
       "  </tbody>\n",
       "</table>\n",
       "</div>"
      ],
      "text/plain": [
       "        id      rank\n",
       "0   180849  0.000000\n",
       "1  1025154  6.246200\n",
       "2   569357  6.269484\n",
       "3  2065851  6.395168\n",
       "4  1884102  6.478077\n",
       "5  1210073  6.501521\n",
       "6   263779  6.518148\n",
       "7   672021  6.538485\n",
       "8  1065079  6.544171\n",
       "9  1048915  6.658681"
      ]
     },
     "execution_count": 49,
     "metadata": {},
     "output_type": "execute_result"
    }
   ],
   "source": [
    "ranksDF.head(10)"
   ]
  },
  {
   "cell_type": "code",
   "execution_count": 50,
   "id": "add8a0cd-f9be-4e56-9a64-5b0fed6dbdc8",
   "metadata": {},
   "outputs": [
    {
     "data": {
      "text/html": [
       "<div>\n",
       "<style scoped>\n",
       "    .dataframe tbody tr th:only-of-type {\n",
       "        vertical-align: middle;\n",
       "    }\n",
       "\n",
       "    .dataframe tbody tr th {\n",
       "        vertical-align: top;\n",
       "    }\n",
       "\n",
       "    .dataframe thead th {\n",
       "        text-align: right;\n",
       "    }\n",
       "</style>\n",
       "<table border=\"1\" class=\"dataframe\">\n",
       "  <thead>\n",
       "    <tr style=\"text-align: right;\">\n",
       "      <th></th>\n",
       "      <th>id</th>\n",
       "      <th>rank</th>\n",
       "    </tr>\n",
       "  </thead>\n",
       "  <tbody>\n",
       "    <tr>\n",
       "      <th>73</th>\n",
       "      <td>1686718</td>\n",
       "      <td>7.919422</td>\n",
       "    </tr>\n",
       "  </tbody>\n",
       "</table>\n",
       "</div>"
      ],
      "text/plain": [
       "         id      rank\n",
       "73  1686718  7.919422"
      ]
     },
     "execution_count": 50,
     "metadata": {},
     "output_type": "execute_result"
    }
   ],
   "source": [
    "ranksDF[ranksDF['id']==coverSongId]"
   ]
  },
  {
   "cell_type": "code",
   "execution_count": 51,
   "id": "060f1065-de74-4d94-9784-6d2879f7a602",
   "metadata": {},
   "outputs": [
    {
     "data": {
      "text/html": [
       "<div>\n",
       "<style scoped>\n",
       "    .dataframe tbody tr th:only-of-type {\n",
       "        vertical-align: middle;\n",
       "    }\n",
       "\n",
       "    .dataframe tbody tr th {\n",
       "        vertical-align: top;\n",
       "    }\n",
       "\n",
       "    .dataframe thead th {\n",
       "        text-align: right;\n",
       "    }\n",
       "</style>\n",
       "<table border=\"1\" class=\"dataframe\">\n",
       "  <thead>\n",
       "    <tr style=\"text-align: right;\">\n",
       "      <th></th>\n",
       "      <th>id</th>\n",
       "      <th>rank</th>\n",
       "    </tr>\n",
       "  </thead>\n",
       "  <tbody>\n",
       "    <tr>\n",
       "      <th>0</th>\n",
       "      <td>180849</td>\n",
       "      <td>0.000000</td>\n",
       "    </tr>\n",
       "    <tr>\n",
       "      <th>42</th>\n",
       "      <td>5000019</td>\n",
       "      <td>7.569236</td>\n",
       "    </tr>\n",
       "    <tr>\n",
       "      <th>69</th>\n",
       "      <td>6001027</td>\n",
       "      <td>7.876343</td>\n",
       "    </tr>\n",
       "    <tr>\n",
       "      <th>73</th>\n",
       "      <td>1686718</td>\n",
       "      <td>7.919422</td>\n",
       "    </tr>\n",
       "    <tr>\n",
       "      <th>94</th>\n",
       "      <td>5000017</td>\n",
       "      <td>8.061349</td>\n",
       "    </tr>\n",
       "    <tr>\n",
       "      <th>133</th>\n",
       "      <td>5000013</td>\n",
       "      <td>8.223692</td>\n",
       "    </tr>\n",
       "    <tr>\n",
       "      <th>152</th>\n",
       "      <td>5000018</td>\n",
       "      <td>8.328912</td>\n",
       "    </tr>\n",
       "    <tr>\n",
       "      <th>174</th>\n",
       "      <td>5000011</td>\n",
       "      <td>8.411096</td>\n",
       "    </tr>\n",
       "    <tr>\n",
       "      <th>218</th>\n",
       "      <td>5000012</td>\n",
       "      <td>8.554556</td>\n",
       "    </tr>\n",
       "    <tr>\n",
       "      <th>351</th>\n",
       "      <td>5000001</td>\n",
       "      <td>8.910452</td>\n",
       "    </tr>\n",
       "    <tr>\n",
       "      <th>2440</th>\n",
       "      <td>5000007</td>\n",
       "      <td>13.619815</td>\n",
       "    </tr>\n",
       "    <tr>\n",
       "      <th>5074</th>\n",
       "      <td>5000008</td>\n",
       "      <td>37.538327</td>\n",
       "    </tr>\n",
       "    <tr>\n",
       "      <th>5178</th>\n",
       "      <td>5000020</td>\n",
       "      <td>41.204283</td>\n",
       "    </tr>\n",
       "    <tr>\n",
       "      <th>5775</th>\n",
       "      <td>5000023</td>\n",
       "      <td>85.262363</td>\n",
       "    </tr>\n",
       "  </tbody>\n",
       "</table>\n",
       "</div>"
      ],
      "text/plain": [
       "           id       rank\n",
       "0      180849   0.000000\n",
       "42    5000019   7.569236\n",
       "69    6001027   7.876343\n",
       "73    1686718   7.919422\n",
       "94    5000017   8.061349\n",
       "133   5000013   8.223692\n",
       "152   5000018   8.328912\n",
       "174   5000011   8.411096\n",
       "218   5000012   8.554556\n",
       "351   5000001   8.910452\n",
       "2440  5000007  13.619815\n",
       "5074  5000008  37.538327\n",
       "5178  5000020  41.204283\n",
       "5775  5000023  85.262363"
      ]
     },
     "execution_count": 51,
     "metadata": {},
     "output_type": "execute_result"
    }
   ],
   "source": [
    "ranksDF[ranksDF['id'].isin(listCovers)]"
   ]
  },
  {
   "cell_type": "markdown",
   "id": "c9253088-3e75-43f8-b77a-29516487dac5",
   "metadata": {},
   "source": [
    "## Weighted rank"
   ]
  },
  {
   "cell_type": "code",
   "execution_count": 52,
   "id": "b364c49f-bc4d-47c4-966e-6c038ff10a10",
   "metadata": {},
   "outputs": [],
   "source": [
    "ranks = pd.merge(ranksJaccard,ranksDF, on='id')\n",
    "ranks['new_rank'] = ranks['rank_x'] + ranks['rank_y']\n",
    "ranks = ranks.sort_values(by='new_rank')\n",
    "ranks.reset_index(drop=True, inplace=True)\n"
   ]
  },
  {
   "cell_type": "code",
   "execution_count": 53,
   "id": "7c8fb463-9934-419c-b75b-537dc47a992a",
   "metadata": {},
   "outputs": [
    {
     "data": {
      "text/html": [
       "<div>\n",
       "<style scoped>\n",
       "    .dataframe tbody tr th:only-of-type {\n",
       "        vertical-align: middle;\n",
       "    }\n",
       "\n",
       "    .dataframe tbody tr th {\n",
       "        vertical-align: top;\n",
       "    }\n",
       "\n",
       "    .dataframe thead th {\n",
       "        text-align: right;\n",
       "    }\n",
       "</style>\n",
       "<table border=\"1\" class=\"dataframe\">\n",
       "  <thead>\n",
       "    <tr style=\"text-align: right;\">\n",
       "      <th></th>\n",
       "      <th>id</th>\n",
       "      <th>rank_x</th>\n",
       "      <th>rank_y</th>\n",
       "      <th>new_rank</th>\n",
       "    </tr>\n",
       "  </thead>\n",
       "  <tbody>\n",
       "    <tr>\n",
       "      <th>0</th>\n",
       "      <td>180849</td>\n",
       "      <td>0.000000</td>\n",
       "      <td>0.000000</td>\n",
       "      <td>0.000000</td>\n",
       "    </tr>\n",
       "    <tr>\n",
       "      <th>1</th>\n",
       "      <td>2065851</td>\n",
       "      <td>0.333333</td>\n",
       "      <td>6.395168</td>\n",
       "      <td>6.728501</td>\n",
       "    </tr>\n",
       "    <tr>\n",
       "      <th>2</th>\n",
       "      <td>1025154</td>\n",
       "      <td>0.571429</td>\n",
       "      <td>6.246200</td>\n",
       "      <td>6.817629</td>\n",
       "    </tr>\n",
       "    <tr>\n",
       "      <th>3</th>\n",
       "      <td>672021</td>\n",
       "      <td>0.333333</td>\n",
       "      <td>6.538485</td>\n",
       "      <td>6.871819</td>\n",
       "    </tr>\n",
       "    <tr>\n",
       "      <th>4</th>\n",
       "      <td>569357</td>\n",
       "      <td>0.750000</td>\n",
       "      <td>6.269484</td>\n",
       "      <td>7.019484</td>\n",
       "    </tr>\n",
       "    <tr>\n",
       "      <th>5</th>\n",
       "      <td>1884102</td>\n",
       "      <td>0.571429</td>\n",
       "      <td>6.478077</td>\n",
       "      <td>7.049506</td>\n",
       "    </tr>\n",
       "    <tr>\n",
       "      <th>6</th>\n",
       "      <td>3504560</td>\n",
       "      <td>0.333333</td>\n",
       "      <td>6.725566</td>\n",
       "      <td>7.058899</td>\n",
       "    </tr>\n",
       "    <tr>\n",
       "      <th>7</th>\n",
       "      <td>1210073</td>\n",
       "      <td>0.571429</td>\n",
       "      <td>6.501521</td>\n",
       "      <td>7.072950</td>\n",
       "    </tr>\n",
       "    <tr>\n",
       "      <th>8</th>\n",
       "      <td>1048915</td>\n",
       "      <td>0.571429</td>\n",
       "      <td>6.658681</td>\n",
       "      <td>7.230110</td>\n",
       "    </tr>\n",
       "    <tr>\n",
       "      <th>9</th>\n",
       "      <td>263779</td>\n",
       "      <td>0.750000</td>\n",
       "      <td>6.518148</td>\n",
       "      <td>7.268148</td>\n",
       "    </tr>\n",
       "  </tbody>\n",
       "</table>\n",
       "</div>"
      ],
      "text/plain": [
       "        id    rank_x    rank_y  new_rank\n",
       "0   180849  0.000000  0.000000  0.000000\n",
       "1  2065851  0.333333  6.395168  6.728501\n",
       "2  1025154  0.571429  6.246200  6.817629\n",
       "3   672021  0.333333  6.538485  6.871819\n",
       "4   569357  0.750000  6.269484  7.019484\n",
       "5  1884102  0.571429  6.478077  7.049506\n",
       "6  3504560  0.333333  6.725566  7.058899\n",
       "7  1210073  0.571429  6.501521  7.072950\n",
       "8  1048915  0.571429  6.658681  7.230110\n",
       "9   263779  0.750000  6.518148  7.268148"
      ]
     },
     "execution_count": 53,
     "metadata": {},
     "output_type": "execute_result"
    }
   ],
   "source": [
    "ranks.head(10)"
   ]
  },
  {
   "cell_type": "code",
   "execution_count": 54,
   "id": "6a8d202e-a2f3-4338-a35a-88fe325d0506",
   "metadata": {},
   "outputs": [
    {
     "data": {
      "text/html": [
       "<div>\n",
       "<style scoped>\n",
       "    .dataframe tbody tr th:only-of-type {\n",
       "        vertical-align: middle;\n",
       "    }\n",
       "\n",
       "    .dataframe tbody tr th {\n",
       "        vertical-align: top;\n",
       "    }\n",
       "\n",
       "    .dataframe thead th {\n",
       "        text-align: right;\n",
       "    }\n",
       "</style>\n",
       "<table border=\"1\" class=\"dataframe\">\n",
       "  <thead>\n",
       "    <tr style=\"text-align: right;\">\n",
       "      <th></th>\n",
       "      <th>id</th>\n",
       "      <th>rank_x</th>\n",
       "      <th>rank_y</th>\n",
       "      <th>new_rank</th>\n",
       "    </tr>\n",
       "  </thead>\n",
       "  <tbody>\n",
       "    <tr>\n",
       "      <th>71</th>\n",
       "      <td>1686718</td>\n",
       "      <td>0.571429</td>\n",
       "      <td>7.919422</td>\n",
       "      <td>8.490851</td>\n",
       "    </tr>\n",
       "  </tbody>\n",
       "</table>\n",
       "</div>"
      ],
      "text/plain": [
       "         id    rank_x    rank_y  new_rank\n",
       "71  1686718  0.571429  7.919422  8.490851"
      ]
     },
     "execution_count": 54,
     "metadata": {},
     "output_type": "execute_result"
    }
   ],
   "source": [
    "ranks[ranks['id']==coverSongId]"
   ]
  },
  {
   "cell_type": "code",
   "execution_count": 55,
   "id": "c5c910f0-4488-4cea-bcc1-3d6d21d9e987",
   "metadata": {},
   "outputs": [
    {
     "data": {
      "text/html": [
       "<div>\n",
       "<style scoped>\n",
       "    .dataframe tbody tr th:only-of-type {\n",
       "        vertical-align: middle;\n",
       "    }\n",
       "\n",
       "    .dataframe tbody tr th {\n",
       "        vertical-align: top;\n",
       "    }\n",
       "\n",
       "    .dataframe thead th {\n",
       "        text-align: right;\n",
       "    }\n",
       "</style>\n",
       "<table border=\"1\" class=\"dataframe\">\n",
       "  <thead>\n",
       "    <tr style=\"text-align: right;\">\n",
       "      <th></th>\n",
       "      <th>id</th>\n",
       "      <th>rank_x</th>\n",
       "      <th>rank_y</th>\n",
       "      <th>new_rank</th>\n",
       "    </tr>\n",
       "  </thead>\n",
       "  <tbody>\n",
       "    <tr>\n",
       "      <th>0</th>\n",
       "      <td>180849</td>\n",
       "      <td>0.000000</td>\n",
       "      <td>0.000000</td>\n",
       "      <td>0.000000</td>\n",
       "    </tr>\n",
       "    <tr>\n",
       "      <th>19</th>\n",
       "      <td>6001027</td>\n",
       "      <td>0.000000</td>\n",
       "      <td>7.876343</td>\n",
       "      <td>7.876343</td>\n",
       "    </tr>\n",
       "    <tr>\n",
       "      <th>21</th>\n",
       "      <td>5000019</td>\n",
       "      <td>0.333333</td>\n",
       "      <td>7.569236</td>\n",
       "      <td>7.902569</td>\n",
       "    </tr>\n",
       "    <tr>\n",
       "      <th>62</th>\n",
       "      <td>5000017</td>\n",
       "      <td>0.333333</td>\n",
       "      <td>8.061349</td>\n",
       "      <td>8.394682</td>\n",
       "    </tr>\n",
       "    <tr>\n",
       "      <th>71</th>\n",
       "      <td>1686718</td>\n",
       "      <td>0.571429</td>\n",
       "      <td>7.919422</td>\n",
       "      <td>8.490851</td>\n",
       "    </tr>\n",
       "    <tr>\n",
       "      <th>108</th>\n",
       "      <td>5000013</td>\n",
       "      <td>0.571429</td>\n",
       "      <td>8.223692</td>\n",
       "      <td>8.795120</td>\n",
       "    </tr>\n",
       "    <tr>\n",
       "      <th>130</th>\n",
       "      <td>5000018</td>\n",
       "      <td>0.571429</td>\n",
       "      <td>8.328912</td>\n",
       "      <td>8.900341</td>\n",
       "    </tr>\n",
       "    <tr>\n",
       "      <th>196</th>\n",
       "      <td>5000011</td>\n",
       "      <td>0.750000</td>\n",
       "      <td>8.411096</td>\n",
       "      <td>9.161096</td>\n",
       "    </tr>\n",
       "    <tr>\n",
       "      <th>220</th>\n",
       "      <td>5000001</td>\n",
       "      <td>0.333333</td>\n",
       "      <td>8.910452</td>\n",
       "      <td>9.243786</td>\n",
       "    </tr>\n",
       "    <tr>\n",
       "      <th>244</th>\n",
       "      <td>5000012</td>\n",
       "      <td>0.750000</td>\n",
       "      <td>8.554556</td>\n",
       "      <td>9.304556</td>\n",
       "    </tr>\n",
       "    <tr>\n",
       "      <th>2444</th>\n",
       "      <td>5000007</td>\n",
       "      <td>0.750000</td>\n",
       "      <td>13.619815</td>\n",
       "      <td>14.369815</td>\n",
       "    </tr>\n",
       "    <tr>\n",
       "      <th>5068</th>\n",
       "      <td>5000008</td>\n",
       "      <td>0.571429</td>\n",
       "      <td>37.538327</td>\n",
       "      <td>38.109756</td>\n",
       "    </tr>\n",
       "    <tr>\n",
       "      <th>5174</th>\n",
       "      <td>5000020</td>\n",
       "      <td>0.333333</td>\n",
       "      <td>41.204283</td>\n",
       "      <td>41.537617</td>\n",
       "    </tr>\n",
       "    <tr>\n",
       "      <th>5775</th>\n",
       "      <td>5000023</td>\n",
       "      <td>0.571429</td>\n",
       "      <td>85.262363</td>\n",
       "      <td>85.833792</td>\n",
       "    </tr>\n",
       "  </tbody>\n",
       "</table>\n",
       "</div>"
      ],
      "text/plain": [
       "           id    rank_x     rank_y   new_rank\n",
       "0      180849  0.000000   0.000000   0.000000\n",
       "19    6001027  0.000000   7.876343   7.876343\n",
       "21    5000019  0.333333   7.569236   7.902569\n",
       "62    5000017  0.333333   8.061349   8.394682\n",
       "71    1686718  0.571429   7.919422   8.490851\n",
       "108   5000013  0.571429   8.223692   8.795120\n",
       "130   5000018  0.571429   8.328912   8.900341\n",
       "196   5000011  0.750000   8.411096   9.161096\n",
       "220   5000001  0.333333   8.910452   9.243786\n",
       "244   5000012  0.750000   8.554556   9.304556\n",
       "2444  5000007  0.750000  13.619815  14.369815\n",
       "5068  5000008  0.571429  37.538327  38.109756\n",
       "5174  5000020  0.333333  41.204283  41.537617\n",
       "5775  5000023  0.571429  85.262363  85.833792"
      ]
     },
     "execution_count": 55,
     "metadata": {},
     "output_type": "execute_result"
    }
   ],
   "source": [
    "ranks.loc[ranks.id.isin(listCovers)]"
   ]
  },
  {
   "cell_type": "code",
   "execution_count": null,
   "id": "63da542c-1232-4a52-a536-811d3db346d5",
   "metadata": {},
   "outputs": [],
   "source": []
  },
  {
   "cell_type": "code",
   "execution_count": null,
   "id": "e73af497-c4f0-45bc-bf62-49d3158d20b0",
   "metadata": {},
   "outputs": [],
   "source": []
  },
  {
   "cell_type": "code",
   "execution_count": null,
   "id": "44685dae-6411-4b94-8020-c3a34552d5eb",
   "metadata": {},
   "outputs": [],
   "source": []
  }
 ],
 "metadata": {
  "kernelspec": {
   "display_name": "Python 3",
   "language": "python",
   "name": "python3"
  },
  "language_info": {
   "codemirror_mode": {
    "name": "ipython",
    "version": 3
   },
   "file_extension": ".py",
   "mimetype": "text/x-python",
   "name": "python",
   "nbconvert_exporter": "python",
   "pygments_lexer": "ipython3",
   "version": "3.9.12"
  }
 },
 "nbformat": 4,
 "nbformat_minor": 5
}
