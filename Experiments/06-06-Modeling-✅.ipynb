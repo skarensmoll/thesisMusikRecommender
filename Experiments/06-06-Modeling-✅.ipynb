{
 "cells": [
  {
   "cell_type": "markdown",
   "id": "559fde27-7a63-4edc-abc9-49227ccb0b90",
   "metadata": {},
   "source": [
    "# 06-06"
   ]
  },
  {
   "cell_type": "markdown",
   "id": "f3d17aa3-20ad-4754-b8b2-934b60bd1977",
   "metadata": {},
   "source": [
    "6000668- Transition matrices + continous\n",
    "    - Remove Constant Features\n",
    "    - BoxCox\n",
    "    - Center and Scaling\n",
    "    - Euclidean Distance\n",
    "- Categorical One Hot Encoded Features\n",
    "    - Jaccard\n",
    "- Weighted rank result of euclidean and jackard"
   ]
  },
  {
   "cell_type": "code",
   "execution_count": 89,
   "id": "200f333f-337e-4a63-b3e3-ace904b0ace7",
   "metadata": {},
   "outputs": [],
   "source": [
    "import pandas as pd\n",
    "from sklearn.cluster import KMeans\n",
    "import seaborn as sns\n",
    "from matplotlib import pyplot as plt \n",
    "import math\n",
    "from ipynb.fs.full.Utils import createKDeplot, loadDataFrames, dropFeaturesWithNoVariance, loadCoverGroups\n",
    "import numpy as np\n",
    "from sklearn.preprocessing import StandardScaler\n",
    "from scipy import stats\n",
    "from ipynb.fs.full.Pipeline import removeConstantFeatures, applyBoxCoxAllFeatures, centerAndScale, applyEuclideanDistance, getIndexAndVector, applyJaccard"
   ]
  },
  {
   "cell_type": "code",
   "execution_count": 112,
   "id": "431c95a9-4b4b-429b-be45-4a6784cf81ae",
   "metadata": {},
   "outputs": [],
   "source": [
    "cover = loadCoverGroups()\n",
    "listCovers = cover[17]\n",
    "originalSongId = listCovers[0]\n",
    "coverSongId = listCovers[1]"
   ]
  },
  {
   "cell_type": "code",
   "execution_count": 113,
   "id": "ccfa0412-22dc-47c6-b387-201a41a1270b",
   "metadata": {},
   "outputs": [
    {
     "data": {
      "text/plain": [
       "[[180849,\n",
       "  6001027,\n",
       "  1686718,\n",
       "  5000013,\n",
       "  5000001,\n",
       "  5000007,\n",
       "  5000008,\n",
       "  5000023,\n",
       "  5000017,\n",
       "  5000019,\n",
       "  5000020,\n",
       "  5000018,\n",
       "  5000011,\n",
       "  5000012],\n",
       " [6001971, 6001984],\n",
       " [6002492, 6002491],\n",
       " [6000699, 6001165, 6000182],\n",
       " [6000104, 6000273],\n",
       " [6000768, 6000784],\n",
       " [6001931, 6001748],\n",
       " [6002043, 6002073],\n",
       " [6002244, 6000194],\n",
       " [6001209, 6000606],\n",
       " [6000352, 6001248],\n",
       " [6000549, 6001508, 6001242],\n",
       " [6001918, 6001997],\n",
       " [6001651, 6001900],\n",
       " [6000263, 6001570, 6002374],\n",
       " [6001822, 6001653],\n",
       " [6000763, 6000668],\n",
       " [6000764, 6000667],\n",
       " [6001543, 6001541],\n",
       " [6000762, 6000773],\n",
       " [6000771, 6000670],\n",
       " [6001747, 6001952],\n",
       " [6000548, 6002203],\n",
       " [6000172, 6002133],\n",
       " [6001762, 6001675],\n",
       " [6002147, 6002146],\n",
       " [6000767, 6000775],\n",
       " [6000766, 6000673],\n",
       " [6001506, 6000529],\n",
       " [6000397, 6000409],\n",
       " [6001914, 6002001],\n",
       " [6002482, 6002454],\n",
       " [6000765, 6000783],\n",
       " [6000761, 6000782],\n",
       " [6000814, 6000813],\n",
       " [6001224, 6000140]]"
      ]
     },
     "execution_count": 113,
     "metadata": {},
     "output_type": "execute_result"
    }
   ],
   "source": [
    "cover"
   ]
  },
  {
   "cell_type": "code",
   "execution_count": 114,
   "id": "797b50b2-783c-44f8-a6d7-5be64c74696c",
   "metadata": {},
   "outputs": [
    {
     "data": {
      "text/plain": [
       "6000764"
      ]
     },
     "execution_count": 114,
     "metadata": {},
     "output_type": "execute_result"
    }
   ],
   "source": [
    "originalSongId"
   ]
  },
  {
   "cell_type": "code",
   "execution_count": 115,
   "id": "f00fe6c6-f1eb-4d95-8014-784d7cc4b6bc",
   "metadata": {},
   "outputs": [],
   "source": [
    "df = pd.read_csv('./data/unified/05-allDataContinousCategoricalTransition.csv')\n",
    "df = df.iloc[:, 1:]\n",
    "encodedFeaturesNames = pd.read_csv('./data/unified/05-encodedFeatureNames.csv')\n",
    "encodedFeaturesNames = encodedFeaturesNames['0'].values.tolist()\n",
    "encodedFeaturesNames.append('id')\n"
   ]
  },
  {
   "cell_type": "code",
   "execution_count": 116,
   "id": "8a41942a-cc22-4293-b2de-b462f7d9823d",
   "metadata": {},
   "outputs": [
    {
     "data": {
      "text/plain": [
       "Index(['index', 'id', 'danceability', 'energy', 'speechiness', 'acousticness',\n",
       "       'liveness', 'valence', 'tempo', '0',\n",
       "       ...\n",
       "       'mood_5', 'mood_6', 'mood_7', 'mood_8', 'mood_9', 'mood_10', 'mood_11',\n",
       "       'instrumentalness_cat_0', 'instrumentalness_cat_1',\n",
       "       'instrumentalness_cat_2'],\n",
       "      dtype='object', length=1076)"
      ]
     },
     "execution_count": 116,
     "metadata": {},
     "output_type": "execute_result"
    }
   ],
   "source": [
    "df.columns"
   ]
  },
  {
   "cell_type": "code",
   "execution_count": 117,
   "id": "5b148495-2a18-4f16-b40b-e21d22cf86df",
   "metadata": {},
   "outputs": [],
   "source": [
    "dfE = df[encodedFeaturesNames]\n",
    "dfE = dfE.sort_values('id')\n",
    "ids = dfE.id\n",
    "dfE.drop(['id'], axis=1, inplace=True)\n",
    "dfE.reset_index(drop=True, inplace=True)"
   ]
  },
  {
   "cell_type": "code",
   "execution_count": 118,
   "id": "9f828741-5ddf-4f23-9766-1216d6dc4f73",
   "metadata": {},
   "outputs": [],
   "source": [
    "dfE = removeConstantFeatures(dfE)"
   ]
  },
  {
   "cell_type": "code",
   "execution_count": 119,
   "id": "6e7b417a-6406-4e61-bac0-bcc2d0864755",
   "metadata": {},
   "outputs": [],
   "source": [
    "originalSongIndex,originalSongVector = getIndexAndVector(originalSongId, ids, dfE)\n",
    "coverIndex,coverSongVector = getIndexAndVector(coverSongId, ids, dfE)"
   ]
  },
  {
   "cell_type": "code",
   "execution_count": 120,
   "id": "e51c5076-7c03-465b-85a3-4427d5efb055",
   "metadata": {},
   "outputs": [],
   "source": [
    "##[0,1,1], [1,0,1] -> 0.66 Diff -> 0.33 Similarity\n",
    "ranksJaccard = applyJaccard(dfE, ids, originalSongVector)"
   ]
  },
  {
   "cell_type": "code",
   "execution_count": 121,
   "id": "39a4e39c-4e02-4599-995b-1c101af60b01",
   "metadata": {},
   "outputs": [
    {
     "data": {
      "text/html": [
       "<div>\n",
       "<style scoped>\n",
       "    .dataframe tbody tr th:only-of-type {\n",
       "        vertical-align: middle;\n",
       "    }\n",
       "\n",
       "    .dataframe tbody tr th {\n",
       "        vertical-align: top;\n",
       "    }\n",
       "\n",
       "    .dataframe thead th {\n",
       "        text-align: right;\n",
       "    }\n",
       "</style>\n",
       "<table border=\"1\" class=\"dataframe\">\n",
       "  <thead>\n",
       "    <tr style=\"text-align: right;\">\n",
       "      <th></th>\n",
       "      <th>id</th>\n",
       "      <th>rank</th>\n",
       "    </tr>\n",
       "  </thead>\n",
       "  <tbody>\n",
       "    <tr>\n",
       "      <th>0</th>\n",
       "      <td>6000764</td>\n",
       "      <td>0.000000</td>\n",
       "    </tr>\n",
       "    <tr>\n",
       "      <th>1</th>\n",
       "      <td>6000998</td>\n",
       "      <td>0.333333</td>\n",
       "    </tr>\n",
       "    <tr>\n",
       "      <th>2</th>\n",
       "      <td>1196962</td>\n",
       "      <td>0.333333</td>\n",
       "    </tr>\n",
       "    <tr>\n",
       "      <th>3</th>\n",
       "      <td>6001556</td>\n",
       "      <td>0.333333</td>\n",
       "    </tr>\n",
       "    <tr>\n",
       "      <th>4</th>\n",
       "      <td>819426</td>\n",
       "      <td>0.333333</td>\n",
       "    </tr>\n",
       "    <tr>\n",
       "      <th>...</th>\n",
       "      <td>...</td>\n",
       "      <td>...</td>\n",
       "    </tr>\n",
       "    <tr>\n",
       "      <th>5972</th>\n",
       "      <td>739218</td>\n",
       "      <td>1.000000</td>\n",
       "    </tr>\n",
       "    <tr>\n",
       "      <th>5973</th>\n",
       "      <td>6001034</td>\n",
       "      <td>1.000000</td>\n",
       "    </tr>\n",
       "    <tr>\n",
       "      <th>5974</th>\n",
       "      <td>6001037</td>\n",
       "      <td>1.000000</td>\n",
       "    </tr>\n",
       "    <tr>\n",
       "      <th>5975</th>\n",
       "      <td>2107345</td>\n",
       "      <td>1.000000</td>\n",
       "    </tr>\n",
       "    <tr>\n",
       "      <th>5976</th>\n",
       "      <td>6000613</td>\n",
       "      <td>1.000000</td>\n",
       "    </tr>\n",
       "  </tbody>\n",
       "</table>\n",
       "<p>5977 rows × 2 columns</p>\n",
       "</div>"
      ],
      "text/plain": [
       "           id      rank\n",
       "0     6000764  0.000000\n",
       "1     6000998  0.333333\n",
       "2     1196962  0.333333\n",
       "3     6001556  0.333333\n",
       "4      819426  0.333333\n",
       "...       ...       ...\n",
       "5972   739218  1.000000\n",
       "5973  6001034  1.000000\n",
       "5974  6001037  1.000000\n",
       "5975  2107345  1.000000\n",
       "5976  6000613  1.000000\n",
       "\n",
       "[5977 rows x 2 columns]"
      ]
     },
     "execution_count": 121,
     "metadata": {},
     "output_type": "execute_result"
    }
   ],
   "source": [
    "ranksJaccard"
   ]
  },
  {
   "cell_type": "code",
   "execution_count": 122,
   "id": "449e3efd-5bdc-48c7-90eb-e324bc4ee6f1",
   "metadata": {},
   "outputs": [
    {
     "data": {
      "text/plain": [
       "0.000000       1\n",
       "0.333333     114\n",
       "0.571429    1439\n",
       "0.750000    3175\n",
       "0.888889    1183\n",
       "1.000000      65\n",
       "Name: rank, dtype: int64"
      ]
     },
     "execution_count": 122,
     "metadata": {},
     "output_type": "execute_result"
    }
   ],
   "source": [
    "ranksJaccard['rank'].value_counts().sort_index()"
   ]
  },
  {
   "cell_type": "markdown",
   "id": "c2477582-c6f4-43a8-994e-dad4b6edc55e",
   "metadata": {},
   "source": [
    "## Continous features"
   ]
  },
  {
   "cell_type": "code",
   "execution_count": 123,
   "id": "8e140be9-20f1-47a3-b068-17f20861c87c",
   "metadata": {},
   "outputs": [],
   "source": [
    "encodedFeaturesNames.remove('id')\n",
    "df = df[df.columns.difference(encodedFeaturesNames)]\n",
    "df = df.sort_values('id')\n",
    "ids = df.id\n",
    "df.drop(['id'], axis=1, inplace=True)\n",
    "df.reset_index(drop=True, inplace=True)"
   ]
  },
  {
   "cell_type": "markdown",
   "id": "76517f23-1eab-4574-9941-3b6b29056b80",
   "metadata": {},
   "source": [
    "## Pipeline"
   ]
  },
  {
   "cell_type": "code",
   "execution_count": 124,
   "id": "ef6769e4-4eb1-42ed-97ce-fe9ef400c734",
   "metadata": {},
   "outputs": [
    {
     "name": "stdout",
     "output_type": "stream",
     "text": [
      "mean:  [ 0. -0. -0. ... -0.  0.  0.]\n",
      "std:  [1. 1. 1. ... 1. 1. 1.]\n"
     ]
    }
   ],
   "source": [
    "df = removeConstantFeatures(df)\n",
    "df = centerAndScale(df)"
   ]
  },
  {
   "cell_type": "markdown",
   "id": "5bdbfa92-c57b-4fdd-9ccf-ab232500acb2",
   "metadata": {},
   "source": [
    "### Original Song & Cover Song"
   ]
  },
  {
   "cell_type": "code",
   "execution_count": 125,
   "id": "4b092182-3199-4872-a970-c8fe521f56a9",
   "metadata": {},
   "outputs": [],
   "source": [
    "originalSongIndex,originalSongVector = getIndexAndVector(originalSongId, ids, df)\n",
    "coverIndex,coverSongVector = getIndexAndVector(coverSongId, ids, df)"
   ]
  },
  {
   "cell_type": "code",
   "execution_count": 126,
   "id": "fa6f117e-0fee-4239-a1bc-50ace95edffc",
   "metadata": {},
   "outputs": [
    {
     "name": "stdout",
     "output_type": "stream",
     "text": [
      "distance\n"
     ]
    }
   ],
   "source": [
    "ranksDF  = applyEuclideanDistance(df, ids, originalSongVector)"
   ]
  },
  {
   "cell_type": "code",
   "execution_count": 127,
   "id": "9b8f0db2-ce29-4bf4-80a1-50a4cababcd3",
   "metadata": {},
   "outputs": [
    {
     "data": {
      "text/html": [
       "<div>\n",
       "<style scoped>\n",
       "    .dataframe tbody tr th:only-of-type {\n",
       "        vertical-align: middle;\n",
       "    }\n",
       "\n",
       "    .dataframe tbody tr th {\n",
       "        vertical-align: top;\n",
       "    }\n",
       "\n",
       "    .dataframe thead th {\n",
       "        text-align: right;\n",
       "    }\n",
       "</style>\n",
       "<table border=\"1\" class=\"dataframe\">\n",
       "  <thead>\n",
       "    <tr style=\"text-align: right;\">\n",
       "      <th></th>\n",
       "      <th>id</th>\n",
       "      <th>rank</th>\n",
       "    </tr>\n",
       "  </thead>\n",
       "  <tbody>\n",
       "    <tr>\n",
       "      <th>0</th>\n",
       "      <td>6000764</td>\n",
       "      <td>0.000000</td>\n",
       "    </tr>\n",
       "    <tr>\n",
       "      <th>1</th>\n",
       "      <td>654588</td>\n",
       "      <td>4.639199</td>\n",
       "    </tr>\n",
       "    <tr>\n",
       "      <th>2</th>\n",
       "      <td>1227774</td>\n",
       "      <td>4.739717</td>\n",
       "    </tr>\n",
       "    <tr>\n",
       "      <th>3</th>\n",
       "      <td>2831476</td>\n",
       "      <td>5.107172</td>\n",
       "    </tr>\n",
       "    <tr>\n",
       "      <th>4</th>\n",
       "      <td>1689019</td>\n",
       "      <td>5.350137</td>\n",
       "    </tr>\n",
       "    <tr>\n",
       "      <th>5</th>\n",
       "      <td>6002132</td>\n",
       "      <td>5.381024</td>\n",
       "    </tr>\n",
       "    <tr>\n",
       "      <th>6</th>\n",
       "      <td>6000132</td>\n",
       "      <td>5.497550</td>\n",
       "    </tr>\n",
       "    <tr>\n",
       "      <th>7</th>\n",
       "      <td>6000717</td>\n",
       "      <td>5.506707</td>\n",
       "    </tr>\n",
       "    <tr>\n",
       "      <th>8</th>\n",
       "      <td>1506897</td>\n",
       "      <td>5.525174</td>\n",
       "    </tr>\n",
       "    <tr>\n",
       "      <th>9</th>\n",
       "      <td>6000709</td>\n",
       "      <td>5.544457</td>\n",
       "    </tr>\n",
       "  </tbody>\n",
       "</table>\n",
       "</div>"
      ],
      "text/plain": [
       "        id      rank\n",
       "0  6000764  0.000000\n",
       "1   654588  4.639199\n",
       "2  1227774  4.739717\n",
       "3  2831476  5.107172\n",
       "4  1689019  5.350137\n",
       "5  6002132  5.381024\n",
       "6  6000132  5.497550\n",
       "7  6000717  5.506707\n",
       "8  1506897  5.525174\n",
       "9  6000709  5.544457"
      ]
     },
     "execution_count": 127,
     "metadata": {},
     "output_type": "execute_result"
    }
   ],
   "source": [
    "ranksDF.head(10)"
   ]
  },
  {
   "cell_type": "code",
   "execution_count": 128,
   "id": "add8a0cd-f9be-4e56-9a64-5b0fed6dbdc8",
   "metadata": {},
   "outputs": [
    {
     "data": {
      "text/html": [
       "<div>\n",
       "<style scoped>\n",
       "    .dataframe tbody tr th:only-of-type {\n",
       "        vertical-align: middle;\n",
       "    }\n",
       "\n",
       "    .dataframe tbody tr th {\n",
       "        vertical-align: top;\n",
       "    }\n",
       "\n",
       "    .dataframe thead th {\n",
       "        text-align: right;\n",
       "    }\n",
       "</style>\n",
       "<table border=\"1\" class=\"dataframe\">\n",
       "  <thead>\n",
       "    <tr style=\"text-align: right;\">\n",
       "      <th></th>\n",
       "      <th>id</th>\n",
       "      <th>rank</th>\n",
       "    </tr>\n",
       "  </thead>\n",
       "  <tbody>\n",
       "    <tr>\n",
       "      <th>2087</th>\n",
       "      <td>6000667</td>\n",
       "      <td>11.355689</td>\n",
       "    </tr>\n",
       "  </tbody>\n",
       "</table>\n",
       "</div>"
      ],
      "text/plain": [
       "           id       rank\n",
       "2087  6000667  11.355689"
      ]
     },
     "execution_count": 128,
     "metadata": {},
     "output_type": "execute_result"
    }
   ],
   "source": [
    "ranksDF[ranksDF['id']==coverSongId]"
   ]
  },
  {
   "cell_type": "code",
   "execution_count": 129,
   "id": "060f1065-de74-4d94-9784-6d2879f7a602",
   "metadata": {},
   "outputs": [
    {
     "data": {
      "text/html": [
       "<div>\n",
       "<style scoped>\n",
       "    .dataframe tbody tr th:only-of-type {\n",
       "        vertical-align: middle;\n",
       "    }\n",
       "\n",
       "    .dataframe tbody tr th {\n",
       "        vertical-align: top;\n",
       "    }\n",
       "\n",
       "    .dataframe thead th {\n",
       "        text-align: right;\n",
       "    }\n",
       "</style>\n",
       "<table border=\"1\" class=\"dataframe\">\n",
       "  <thead>\n",
       "    <tr style=\"text-align: right;\">\n",
       "      <th></th>\n",
       "      <th>id</th>\n",
       "      <th>rank</th>\n",
       "    </tr>\n",
       "  </thead>\n",
       "  <tbody>\n",
       "    <tr>\n",
       "      <th>0</th>\n",
       "      <td>6000764</td>\n",
       "      <td>0.000000</td>\n",
       "    </tr>\n",
       "    <tr>\n",
       "      <th>2087</th>\n",
       "      <td>6000667</td>\n",
       "      <td>11.355689</td>\n",
       "    </tr>\n",
       "  </tbody>\n",
       "</table>\n",
       "</div>"
      ],
      "text/plain": [
       "           id       rank\n",
       "0     6000764   0.000000\n",
       "2087  6000667  11.355689"
      ]
     },
     "execution_count": 129,
     "metadata": {},
     "output_type": "execute_result"
    }
   ],
   "source": [
    "ranksDF[ranksDF['id'].isin(listCovers)]"
   ]
  },
  {
   "cell_type": "markdown",
   "id": "c9253088-3e75-43f8-b77a-29516487dac5",
   "metadata": {},
   "source": [
    "## Weighted rank"
   ]
  },
  {
   "cell_type": "code",
   "execution_count": 130,
   "id": "b364c49f-bc4d-47c4-966e-6c038ff10a10",
   "metadata": {},
   "outputs": [],
   "source": [
    "ranks = pd.merge(ranksJaccard,ranksDF, on='id')\n",
    "ranks['new_rank'] = ranks['rank_x'] + ranks['rank_y']\n",
    "ranks = ranks.sort_values(by='new_rank')\n",
    "ranks.reset_index(drop=True, inplace=True)\n"
   ]
  },
  {
   "cell_type": "code",
   "execution_count": 131,
   "id": "7c8fb463-9934-419c-b75b-537dc47a992a",
   "metadata": {},
   "outputs": [
    {
     "data": {
      "text/html": [
       "<div>\n",
       "<style scoped>\n",
       "    .dataframe tbody tr th:only-of-type {\n",
       "        vertical-align: middle;\n",
       "    }\n",
       "\n",
       "    .dataframe tbody tr th {\n",
       "        vertical-align: top;\n",
       "    }\n",
       "\n",
       "    .dataframe thead th {\n",
       "        text-align: right;\n",
       "    }\n",
       "</style>\n",
       "<table border=\"1\" class=\"dataframe\">\n",
       "  <thead>\n",
       "    <tr style=\"text-align: right;\">\n",
       "      <th></th>\n",
       "      <th>id</th>\n",
       "      <th>rank_x</th>\n",
       "      <th>rank_y</th>\n",
       "      <th>new_rank</th>\n",
       "    </tr>\n",
       "  </thead>\n",
       "  <tbody>\n",
       "    <tr>\n",
       "      <th>0</th>\n",
       "      <td>6000764</td>\n",
       "      <td>0.000000</td>\n",
       "      <td>0.000000</td>\n",
       "      <td>0.000000</td>\n",
       "    </tr>\n",
       "    <tr>\n",
       "      <th>1</th>\n",
       "      <td>654588</td>\n",
       "      <td>0.571429</td>\n",
       "      <td>4.639199</td>\n",
       "      <td>5.210627</td>\n",
       "    </tr>\n",
       "    <tr>\n",
       "      <th>2</th>\n",
       "      <td>1227774</td>\n",
       "      <td>0.750000</td>\n",
       "      <td>4.739717</td>\n",
       "      <td>5.489717</td>\n",
       "    </tr>\n",
       "    <tr>\n",
       "      <th>3</th>\n",
       "      <td>2831476</td>\n",
       "      <td>0.750000</td>\n",
       "      <td>5.107172</td>\n",
       "      <td>5.857172</td>\n",
       "    </tr>\n",
       "    <tr>\n",
       "      <th>4</th>\n",
       "      <td>6000171</td>\n",
       "      <td>0.333333</td>\n",
       "      <td>5.572806</td>\n",
       "      <td>5.906139</td>\n",
       "    </tr>\n",
       "    <tr>\n",
       "      <th>5</th>\n",
       "      <td>1689019</td>\n",
       "      <td>0.571429</td>\n",
       "      <td>5.350137</td>\n",
       "      <td>5.921565</td>\n",
       "    </tr>\n",
       "    <tr>\n",
       "      <th>6</th>\n",
       "      <td>6000717</td>\n",
       "      <td>0.571429</td>\n",
       "      <td>5.506707</td>\n",
       "      <td>6.078136</td>\n",
       "    </tr>\n",
       "    <tr>\n",
       "      <th>7</th>\n",
       "      <td>2111259</td>\n",
       "      <td>0.333333</td>\n",
       "      <td>5.768731</td>\n",
       "      <td>6.102065</td>\n",
       "    </tr>\n",
       "    <tr>\n",
       "      <th>8</th>\n",
       "      <td>6000709</td>\n",
       "      <td>0.571429</td>\n",
       "      <td>5.544457</td>\n",
       "      <td>6.115886</td>\n",
       "    </tr>\n",
       "    <tr>\n",
       "      <th>9</th>\n",
       "      <td>6002132</td>\n",
       "      <td>0.750000</td>\n",
       "      <td>5.381024</td>\n",
       "      <td>6.131024</td>\n",
       "    </tr>\n",
       "  </tbody>\n",
       "</table>\n",
       "</div>"
      ],
      "text/plain": [
       "        id    rank_x    rank_y  new_rank\n",
       "0  6000764  0.000000  0.000000  0.000000\n",
       "1   654588  0.571429  4.639199  5.210627\n",
       "2  1227774  0.750000  4.739717  5.489717\n",
       "3  2831476  0.750000  5.107172  5.857172\n",
       "4  6000171  0.333333  5.572806  5.906139\n",
       "5  1689019  0.571429  5.350137  5.921565\n",
       "6  6000717  0.571429  5.506707  6.078136\n",
       "7  2111259  0.333333  5.768731  6.102065\n",
       "8  6000709  0.571429  5.544457  6.115886\n",
       "9  6002132  0.750000  5.381024  6.131024"
      ]
     },
     "execution_count": 131,
     "metadata": {},
     "output_type": "execute_result"
    }
   ],
   "source": [
    "ranks.head(10)"
   ]
  },
  {
   "cell_type": "code",
   "execution_count": 132,
   "id": "6a8d202e-a2f3-4338-a35a-88fe325d0506",
   "metadata": {},
   "outputs": [
    {
     "data": {
      "text/html": [
       "<div>\n",
       "<style scoped>\n",
       "    .dataframe tbody tr th:only-of-type {\n",
       "        vertical-align: middle;\n",
       "    }\n",
       "\n",
       "    .dataframe tbody tr th {\n",
       "        vertical-align: top;\n",
       "    }\n",
       "\n",
       "    .dataframe thead th {\n",
       "        text-align: right;\n",
       "    }\n",
       "</style>\n",
       "<table border=\"1\" class=\"dataframe\">\n",
       "  <thead>\n",
       "    <tr style=\"text-align: right;\">\n",
       "      <th></th>\n",
       "      <th>id</th>\n",
       "      <th>rank_x</th>\n",
       "      <th>rank_y</th>\n",
       "      <th>new_rank</th>\n",
       "    </tr>\n",
       "  </thead>\n",
       "  <tbody>\n",
       "    <tr>\n",
       "      <th>2057</th>\n",
       "      <td>6000667</td>\n",
       "      <td>0.571429</td>\n",
       "      <td>11.355689</td>\n",
       "      <td>11.927118</td>\n",
       "    </tr>\n",
       "  </tbody>\n",
       "</table>\n",
       "</div>"
      ],
      "text/plain": [
       "           id    rank_x     rank_y   new_rank\n",
       "2057  6000667  0.571429  11.355689  11.927118"
      ]
     },
     "execution_count": 132,
     "metadata": {},
     "output_type": "execute_result"
    }
   ],
   "source": [
    "ranks[ranks['id']==coverSongId]"
   ]
  },
  {
   "cell_type": "code",
   "execution_count": 133,
   "id": "c5c910f0-4488-4cea-bcc1-3d6d21d9e987",
   "metadata": {},
   "outputs": [
    {
     "data": {
      "text/html": [
       "<div>\n",
       "<style scoped>\n",
       "    .dataframe tbody tr th:only-of-type {\n",
       "        vertical-align: middle;\n",
       "    }\n",
       "\n",
       "    .dataframe tbody tr th {\n",
       "        vertical-align: top;\n",
       "    }\n",
       "\n",
       "    .dataframe thead th {\n",
       "        text-align: right;\n",
       "    }\n",
       "</style>\n",
       "<table border=\"1\" class=\"dataframe\">\n",
       "  <thead>\n",
       "    <tr style=\"text-align: right;\">\n",
       "      <th></th>\n",
       "      <th>id</th>\n",
       "      <th>rank_x</th>\n",
       "      <th>rank_y</th>\n",
       "      <th>new_rank</th>\n",
       "    </tr>\n",
       "  </thead>\n",
       "  <tbody>\n",
       "    <tr>\n",
       "      <th>0</th>\n",
       "      <td>6000764</td>\n",
       "      <td>0.000000</td>\n",
       "      <td>0.000000</td>\n",
       "      <td>0.000000</td>\n",
       "    </tr>\n",
       "    <tr>\n",
       "      <th>2057</th>\n",
       "      <td>6000667</td>\n",
       "      <td>0.571429</td>\n",
       "      <td>11.355689</td>\n",
       "      <td>11.927118</td>\n",
       "    </tr>\n",
       "  </tbody>\n",
       "</table>\n",
       "</div>"
      ],
      "text/plain": [
       "           id    rank_x     rank_y   new_rank\n",
       "0     6000764  0.000000   0.000000   0.000000\n",
       "2057  6000667  0.571429  11.355689  11.927118"
      ]
     },
     "execution_count": 133,
     "metadata": {},
     "output_type": "execute_result"
    }
   ],
   "source": [
    "ranks.loc[ranks.id.isin(listCovers)]"
   ]
  },
  {
   "cell_type": "code",
   "execution_count": null,
   "id": "b4b818c8-34bf-4362-908c-14635749abb7",
   "metadata": {},
   "outputs": [],
   "source": []
  }
 ],
 "metadata": {
  "kernelspec": {
   "display_name": "Python 3",
   "language": "python",
   "name": "python3"
  },
  "language_info": {
   "codemirror_mode": {
    "name": "ipython",
    "version": 3
   },
   "file_extension": ".py",
   "mimetype": "text/x-python",
   "name": "python",
   "nbconvert_exporter": "python",
   "pygments_lexer": "ipython3",
   "version": "3.9.12"
  },
  "vscode": {
   "interpreter": {
    "hash": "0167474e25ac903b7ed206b2a6261fba13c5d8405c8ccde398587cd3f7fc7183"
   }
  }
 },
 "nbformat": 4,
 "nbformat_minor": 5
}
