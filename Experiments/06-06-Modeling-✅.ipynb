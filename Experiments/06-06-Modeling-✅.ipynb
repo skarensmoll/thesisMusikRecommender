{
 "cells": [
  {
   "cell_type": "markdown",
   "id": "559fde27-7a63-4edc-abc9-49227ccb0b90",
   "metadata": {},
   "source": [
    "# 06-06"
   ]
  },
  {
   "cell_type": "markdown",
   "id": "f3d17aa3-20ad-4754-b8b2-934b60bd1977",
   "metadata": {},
   "source": [
    "- Transition matrices + continous\n",
    "    - Remove Constant Features\n",
    "    - BoxCox\n",
    "    - Center and Scaling\n",
    "    - Euclidean Distance\n",
    "- Categorical One Hot Encoded Features\n",
    "    - Jaccard\n",
    "- Weighted rank result of euclidean and jackard"
   ]
  },
  {
   "cell_type": "code",
   "execution_count": 22,
   "id": "200f333f-337e-4a63-b3e3-ace904b0ace7",
   "metadata": {},
   "outputs": [],
   "source": [
    "import pandas as pd\n",
    "from sklearn.cluster import KMeans\n",
    "import seaborn as sns\n",
    "from matplotlib import pyplot as plt \n",
    "import math\n",
    "from ipynb.fs.full.Utils import createKDeplot, loadDataFrames, dropFeaturesWithNoVariance, loadCoverGroups\n",
    "import numpy as np\n",
    "from sklearn.preprocessing import StandardScaler\n",
    "from scipy import stats\n",
    "from ipynb.fs.full.Pipeline import removeConstantFeatures, applyBoxCoxAllFeatures, centerAndScale, applyEuclideanDistance, getIndexAndVector, applyJaccard"
   ]
  },
  {
   "cell_type": "code",
   "execution_count": 23,
   "id": "431c95a9-4b4b-429b-be45-4a6784cf81ae",
   "metadata": {},
   "outputs": [],
   "source": [
    "cover = loadCoverGroups()\n",
    "listCovers = cover[12]\n",
    "originalSongId = listCovers[0]\n",
    "coverSongId = listCovers[1]"
   ]
  },
  {
   "cell_type": "code",
   "execution_count": 24,
   "id": "f00fe6c6-f1eb-4d95-8014-784d7cc4b6bc",
   "metadata": {},
   "outputs": [],
   "source": [
    "df = pd.read_csv('./data/unified/05-allDataContinousCategoricalTransition.csv')\n",
    "df = df.iloc[:, 1:]\n",
    "encodedFeaturesNames = pd.read_csv('./data/unified/05-encodedFeatureNames.csv')\n",
    "encodedFeaturesNames = encodedFeaturesNames['0'].values.tolist()\n",
    "encodedFeaturesNames.append('id')\n"
   ]
  },
  {
   "cell_type": "code",
   "execution_count": 25,
   "id": "8a41942a-cc22-4293-b2de-b462f7d9823d",
   "metadata": {},
   "outputs": [
    {
     "data": {
      "text/plain": [
       "Index(['index', 'id', 'danceability', 'energy', 'speechiness', 'acousticness',\n",
       "       'liveness', 'valence', 'tempo', '0',\n",
       "       ...\n",
       "       'mood_5', 'mood_6', 'mood_7', 'mood_8', 'mood_9', 'mood_10', 'mood_11',\n",
       "       'instrumentalness_cat_0', 'instrumentalness_cat_1',\n",
       "       'instrumentalness_cat_2'],\n",
       "      dtype='object', length=1076)"
      ]
     },
     "execution_count": 25,
     "metadata": {},
     "output_type": "execute_result"
    }
   ],
   "source": [
    "df.columns"
   ]
  },
  {
   "cell_type": "code",
   "execution_count": 26,
   "id": "5b148495-2a18-4f16-b40b-e21d22cf86df",
   "metadata": {},
   "outputs": [],
   "source": [
    "dfE = df[encodedFeaturesNames]\n",
    "dfE = dfE.sort_values('id')\n",
    "ids = dfE.id\n",
    "dfE.drop(['id'], axis=1, inplace=True)\n",
    "dfE.reset_index(drop=True, inplace=True)"
   ]
  },
  {
   "cell_type": "code",
   "execution_count": 27,
   "id": "9f828741-5ddf-4f23-9766-1216d6dc4f73",
   "metadata": {},
   "outputs": [],
   "source": [
    "dfE = removeConstantFeatures(dfE)"
   ]
  },
  {
   "cell_type": "code",
   "execution_count": 28,
   "id": "6e7b417a-6406-4e61-bac0-bcc2d0864755",
   "metadata": {},
   "outputs": [],
   "source": [
    "originalSongIndex,originalSongVector = getIndexAndVector(originalSongId, ids, dfE)\n",
    "coverIndex,coverSongVector = getIndexAndVector(coverSongId, ids, dfE)"
   ]
  },
  {
   "cell_type": "code",
   "execution_count": 29,
   "id": "e51c5076-7c03-465b-85a3-4427d5efb055",
   "metadata": {},
   "outputs": [],
   "source": [
    "##[0,1,1], [1,0,1] -> 0.66 Diff -> 0.33 Similarity\n",
    "ranksJaccard = applyJaccard(dfE, ids, originalSongVector)"
   ]
  },
  {
   "cell_type": "code",
   "execution_count": 30,
   "id": "39a4e39c-4e02-4599-995b-1c101af60b01",
   "metadata": {},
   "outputs": [
    {
     "data": {
      "text/html": [
       "<div>\n",
       "<style scoped>\n",
       "    .dataframe tbody tr th:only-of-type {\n",
       "        vertical-align: middle;\n",
       "    }\n",
       "\n",
       "    .dataframe tbody tr th {\n",
       "        vertical-align: top;\n",
       "    }\n",
       "\n",
       "    .dataframe thead th {\n",
       "        text-align: right;\n",
       "    }\n",
       "</style>\n",
       "<table border=\"1\" class=\"dataframe\">\n",
       "  <thead>\n",
       "    <tr style=\"text-align: right;\">\n",
       "      <th></th>\n",
       "      <th>id</th>\n",
       "      <th>rank</th>\n",
       "    </tr>\n",
       "  </thead>\n",
       "  <tbody>\n",
       "    <tr>\n",
       "      <th>0</th>\n",
       "      <td>1863781</td>\n",
       "      <td>0.0</td>\n",
       "    </tr>\n",
       "    <tr>\n",
       "      <th>1</th>\n",
       "      <td>1191744</td>\n",
       "      <td>0.0</td>\n",
       "    </tr>\n",
       "    <tr>\n",
       "      <th>2</th>\n",
       "      <td>279519</td>\n",
       "      <td>0.0</td>\n",
       "    </tr>\n",
       "    <tr>\n",
       "      <th>3</th>\n",
       "      <td>6001901</td>\n",
       "      <td>0.0</td>\n",
       "    </tr>\n",
       "    <tr>\n",
       "      <th>4</th>\n",
       "      <td>6001918</td>\n",
       "      <td>0.0</td>\n",
       "    </tr>\n",
       "    <tr>\n",
       "      <th>...</th>\n",
       "      <td>...</td>\n",
       "      <td>...</td>\n",
       "    </tr>\n",
       "    <tr>\n",
       "      <th>5972</th>\n",
       "      <td>6000816</td>\n",
       "      <td>1.0</td>\n",
       "    </tr>\n",
       "    <tr>\n",
       "      <th>5973</th>\n",
       "      <td>6000815</td>\n",
       "      <td>1.0</td>\n",
       "    </tr>\n",
       "    <tr>\n",
       "      <th>5974</th>\n",
       "      <td>1194750</td>\n",
       "      <td>1.0</td>\n",
       "    </tr>\n",
       "    <tr>\n",
       "      <th>5975</th>\n",
       "      <td>700572</td>\n",
       "      <td>1.0</td>\n",
       "    </tr>\n",
       "    <tr>\n",
       "      <th>5976</th>\n",
       "      <td>6002124</td>\n",
       "      <td>1.0</td>\n",
       "    </tr>\n",
       "  </tbody>\n",
       "</table>\n",
       "<p>5977 rows × 2 columns</p>\n",
       "</div>"
      ],
      "text/plain": [
       "           id  rank\n",
       "0     1863781   0.0\n",
       "1     1191744   0.0\n",
       "2      279519   0.0\n",
       "3     6001901   0.0\n",
       "4     6001918   0.0\n",
       "...       ...   ...\n",
       "5972  6000816   1.0\n",
       "5973  6000815   1.0\n",
       "5974  1194750   1.0\n",
       "5975   700572   1.0\n",
       "5976  6002124   1.0\n",
       "\n",
       "[5977 rows x 2 columns]"
      ]
     },
     "execution_count": 30,
     "metadata": {},
     "output_type": "execute_result"
    }
   ],
   "source": [
    "ranksJaccard"
   ]
  },
  {
   "cell_type": "code",
   "execution_count": 31,
   "id": "449e3efd-5bdc-48c7-90eb-e324bc4ee6f1",
   "metadata": {},
   "outputs": [
    {
     "data": {
      "text/plain": [
       "0.000000      15\n",
       "0.333333     222\n",
       "0.571429    1793\n",
       "0.750000    2681\n",
       "0.888889    1169\n",
       "1.000000      97\n",
       "Name: rank, dtype: int64"
      ]
     },
     "execution_count": 31,
     "metadata": {},
     "output_type": "execute_result"
    }
   ],
   "source": [
    "ranksJaccard['rank'].value_counts().sort_index()"
   ]
  },
  {
   "cell_type": "markdown",
   "id": "c2477582-c6f4-43a8-994e-dad4b6edc55e",
   "metadata": {},
   "source": [
    "## Continous features"
   ]
  },
  {
   "cell_type": "code",
   "execution_count": 32,
   "id": "8e140be9-20f1-47a3-b068-17f20861c87c",
   "metadata": {},
   "outputs": [],
   "source": [
    "encodedFeaturesNames.remove('id')\n",
    "df = df[df.columns.difference(encodedFeaturesNames)]\n",
    "df = df.sort_values('id')\n",
    "ids = df.id\n",
    "df.drop(['id'], axis=1, inplace=True)\n",
    "df.reset_index(drop=True, inplace=True)"
   ]
  },
  {
   "cell_type": "markdown",
   "id": "76517f23-1eab-4574-9941-3b6b29056b80",
   "metadata": {},
   "source": [
    "## Pipeline"
   ]
  },
  {
   "cell_type": "code",
   "execution_count": 33,
   "id": "ef6769e4-4eb1-42ed-97ce-fe9ef400c734",
   "metadata": {},
   "outputs": [
    {
     "name": "stdout",
     "output_type": "stream",
     "text": [
      "mean:  [ 0. -0. -0. ... -0.  0.  0.]\n",
      "std:  [1. 1. 1. ... 1. 1. 1.]\n"
     ]
    }
   ],
   "source": [
    "df = removeConstantFeatures(df)\n",
    "df = centerAndScale(df)"
   ]
  },
  {
   "cell_type": "markdown",
   "id": "5bdbfa92-c57b-4fdd-9ccf-ab232500acb2",
   "metadata": {},
   "source": [
    "### Original Song & Cover Song"
   ]
  },
  {
   "cell_type": "code",
   "execution_count": 34,
   "id": "4b092182-3199-4872-a970-c8fe521f56a9",
   "metadata": {},
   "outputs": [],
   "source": [
    "originalSongIndex,originalSongVector = getIndexAndVector(originalSongId, ids, df)\n",
    "coverIndex,coverSongVector = getIndexAndVector(coverSongId, ids, df)"
   ]
  },
  {
   "cell_type": "code",
   "execution_count": 35,
   "id": "fa6f117e-0fee-4239-a1bc-50ace95edffc",
   "metadata": {},
   "outputs": [
    {
     "name": "stdout",
     "output_type": "stream",
     "text": [
      "distance\n"
     ]
    }
   ],
   "source": [
    "ranksDF  = applyEuclideanDistance(df, ids, originalSongVector)"
   ]
  },
  {
   "cell_type": "code",
   "execution_count": 36,
   "id": "9b8f0db2-ce29-4bf4-80a1-50a4cababcd3",
   "metadata": {},
   "outputs": [
    {
     "data": {
      "text/html": [
       "<div>\n",
       "<style scoped>\n",
       "    .dataframe tbody tr th:only-of-type {\n",
       "        vertical-align: middle;\n",
       "    }\n",
       "\n",
       "    .dataframe tbody tr th {\n",
       "        vertical-align: top;\n",
       "    }\n",
       "\n",
       "    .dataframe thead th {\n",
       "        text-align: right;\n",
       "    }\n",
       "</style>\n",
       "<table border=\"1\" class=\"dataframe\">\n",
       "  <thead>\n",
       "    <tr style=\"text-align: right;\">\n",
       "      <th></th>\n",
       "      <th>id</th>\n",
       "      <th>rank</th>\n",
       "    </tr>\n",
       "  </thead>\n",
       "  <tbody>\n",
       "    <tr>\n",
       "      <th>0</th>\n",
       "      <td>6001918</td>\n",
       "      <td>0.000000</td>\n",
       "    </tr>\n",
       "    <tr>\n",
       "      <th>1</th>\n",
       "      <td>6000373</td>\n",
       "      <td>6.706965</td>\n",
       "    </tr>\n",
       "    <tr>\n",
       "      <th>2</th>\n",
       "      <td>6001599</td>\n",
       "      <td>9.431517</td>\n",
       "    </tr>\n",
       "    <tr>\n",
       "      <th>3</th>\n",
       "      <td>6001782</td>\n",
       "      <td>10.159282</td>\n",
       "    </tr>\n",
       "    <tr>\n",
       "      <th>4</th>\n",
       "      <td>6002002</td>\n",
       "      <td>10.950974</td>\n",
       "    </tr>\n",
       "    <tr>\n",
       "      <th>5</th>\n",
       "      <td>6001512</td>\n",
       "      <td>11.302348</td>\n",
       "    </tr>\n",
       "    <tr>\n",
       "      <th>6</th>\n",
       "      <td>6001270</td>\n",
       "      <td>11.441441</td>\n",
       "    </tr>\n",
       "    <tr>\n",
       "      <th>7</th>\n",
       "      <td>6000844</td>\n",
       "      <td>11.593494</td>\n",
       "    </tr>\n",
       "    <tr>\n",
       "      <th>8</th>\n",
       "      <td>6002487</td>\n",
       "      <td>12.627946</td>\n",
       "    </tr>\n",
       "    <tr>\n",
       "      <th>9</th>\n",
       "      <td>6001624</td>\n",
       "      <td>13.064715</td>\n",
       "    </tr>\n",
       "  </tbody>\n",
       "</table>\n",
       "</div>"
      ],
      "text/plain": [
       "        id       rank\n",
       "0  6001918   0.000000\n",
       "1  6000373   6.706965\n",
       "2  6001599   9.431517\n",
       "3  6001782  10.159282\n",
       "4  6002002  10.950974\n",
       "5  6001512  11.302348\n",
       "6  6001270  11.441441\n",
       "7  6000844  11.593494\n",
       "8  6002487  12.627946\n",
       "9  6001624  13.064715"
      ]
     },
     "execution_count": 36,
     "metadata": {},
     "output_type": "execute_result"
    }
   ],
   "source": [
    "ranksDF.head(10)"
   ]
  },
  {
   "cell_type": "code",
   "execution_count": 37,
   "id": "add8a0cd-f9be-4e56-9a64-5b0fed6dbdc8",
   "metadata": {},
   "outputs": [
    {
     "data": {
      "text/html": [
       "<div>\n",
       "<style scoped>\n",
       "    .dataframe tbody tr th:only-of-type {\n",
       "        vertical-align: middle;\n",
       "    }\n",
       "\n",
       "    .dataframe tbody tr th {\n",
       "        vertical-align: top;\n",
       "    }\n",
       "\n",
       "    .dataframe thead th {\n",
       "        text-align: right;\n",
       "    }\n",
       "</style>\n",
       "<table border=\"1\" class=\"dataframe\">\n",
       "  <thead>\n",
       "    <tr style=\"text-align: right;\">\n",
       "      <th></th>\n",
       "      <th>id</th>\n",
       "      <th>rank</th>\n",
       "    </tr>\n",
       "  </thead>\n",
       "  <tbody>\n",
       "    <tr>\n",
       "      <th>5568</th>\n",
       "      <td>6001997</td>\n",
       "      <td>66.453697</td>\n",
       "    </tr>\n",
       "  </tbody>\n",
       "</table>\n",
       "</div>"
      ],
      "text/plain": [
       "           id       rank\n",
       "5568  6001997  66.453697"
      ]
     },
     "execution_count": 37,
     "metadata": {},
     "output_type": "execute_result"
    }
   ],
   "source": [
    "ranksDF[ranksDF['id']==coverSongId]"
   ]
  },
  {
   "cell_type": "code",
   "execution_count": 38,
   "id": "060f1065-de74-4d94-9784-6d2879f7a602",
   "metadata": {},
   "outputs": [
    {
     "data": {
      "text/html": [
       "<div>\n",
       "<style scoped>\n",
       "    .dataframe tbody tr th:only-of-type {\n",
       "        vertical-align: middle;\n",
       "    }\n",
       "\n",
       "    .dataframe tbody tr th {\n",
       "        vertical-align: top;\n",
       "    }\n",
       "\n",
       "    .dataframe thead th {\n",
       "        text-align: right;\n",
       "    }\n",
       "</style>\n",
       "<table border=\"1\" class=\"dataframe\">\n",
       "  <thead>\n",
       "    <tr style=\"text-align: right;\">\n",
       "      <th></th>\n",
       "      <th>id</th>\n",
       "      <th>rank</th>\n",
       "    </tr>\n",
       "  </thead>\n",
       "  <tbody>\n",
       "    <tr>\n",
       "      <th>0</th>\n",
       "      <td>6001918</td>\n",
       "      <td>0.000000</td>\n",
       "    </tr>\n",
       "    <tr>\n",
       "      <th>5568</th>\n",
       "      <td>6001997</td>\n",
       "      <td>66.453697</td>\n",
       "    </tr>\n",
       "  </tbody>\n",
       "</table>\n",
       "</div>"
      ],
      "text/plain": [
       "           id       rank\n",
       "0     6001918   0.000000\n",
       "5568  6001997  66.453697"
      ]
     },
     "execution_count": 38,
     "metadata": {},
     "output_type": "execute_result"
    }
   ],
   "source": [
    "ranksDF[ranksDF['id'].isin(listCovers)]"
   ]
  },
  {
   "cell_type": "markdown",
   "id": "c9253088-3e75-43f8-b77a-29516487dac5",
   "metadata": {},
   "source": [
    "## Weighted rank"
   ]
  },
  {
   "cell_type": "code",
   "execution_count": 39,
   "id": "b364c49f-bc4d-47c4-966e-6c038ff10a10",
   "metadata": {},
   "outputs": [],
   "source": [
    "ranks = pd.merge(ranksJaccard,ranksDF, on='id')\n",
    "ranks['new_rank'] = ranks['rank_x'] + ranks['rank_y']\n",
    "ranks = ranks.sort_values(by='new_rank')\n",
    "ranks.reset_index(drop=True, inplace=True)\n"
   ]
  },
  {
   "cell_type": "code",
   "execution_count": 40,
   "id": "7c8fb463-9934-419c-b75b-537dc47a992a",
   "metadata": {},
   "outputs": [
    {
     "data": {
      "text/html": [
       "<div>\n",
       "<style scoped>\n",
       "    .dataframe tbody tr th:only-of-type {\n",
       "        vertical-align: middle;\n",
       "    }\n",
       "\n",
       "    .dataframe tbody tr th {\n",
       "        vertical-align: top;\n",
       "    }\n",
       "\n",
       "    .dataframe thead th {\n",
       "        text-align: right;\n",
       "    }\n",
       "</style>\n",
       "<table border=\"1\" class=\"dataframe\">\n",
       "  <thead>\n",
       "    <tr style=\"text-align: right;\">\n",
       "      <th></th>\n",
       "      <th>id</th>\n",
       "      <th>rank_x</th>\n",
       "      <th>rank_y</th>\n",
       "      <th>new_rank</th>\n",
       "    </tr>\n",
       "  </thead>\n",
       "  <tbody>\n",
       "    <tr>\n",
       "      <th>0</th>\n",
       "      <td>6001918</td>\n",
       "      <td>0.000000</td>\n",
       "      <td>0.000000</td>\n",
       "      <td>0.000000</td>\n",
       "    </tr>\n",
       "    <tr>\n",
       "      <th>1</th>\n",
       "      <td>6000373</td>\n",
       "      <td>0.750000</td>\n",
       "      <td>6.706965</td>\n",
       "      <td>7.456965</td>\n",
       "    </tr>\n",
       "    <tr>\n",
       "      <th>2</th>\n",
       "      <td>6001599</td>\n",
       "      <td>0.750000</td>\n",
       "      <td>9.431517</td>\n",
       "      <td>10.181517</td>\n",
       "    </tr>\n",
       "    <tr>\n",
       "      <th>3</th>\n",
       "      <td>6001782</td>\n",
       "      <td>0.571429</td>\n",
       "      <td>10.159282</td>\n",
       "      <td>10.730711</td>\n",
       "    </tr>\n",
       "    <tr>\n",
       "      <th>4</th>\n",
       "      <td>6002002</td>\n",
       "      <td>0.571429</td>\n",
       "      <td>10.950974</td>\n",
       "      <td>11.522403</td>\n",
       "    </tr>\n",
       "    <tr>\n",
       "      <th>5</th>\n",
       "      <td>6001512</td>\n",
       "      <td>0.750000</td>\n",
       "      <td>11.302348</td>\n",
       "      <td>12.052348</td>\n",
       "    </tr>\n",
       "    <tr>\n",
       "      <th>6</th>\n",
       "      <td>6001270</td>\n",
       "      <td>0.750000</td>\n",
       "      <td>11.441441</td>\n",
       "      <td>12.191441</td>\n",
       "    </tr>\n",
       "    <tr>\n",
       "      <th>7</th>\n",
       "      <td>6000844</td>\n",
       "      <td>0.888889</td>\n",
       "      <td>11.593494</td>\n",
       "      <td>12.482383</td>\n",
       "    </tr>\n",
       "    <tr>\n",
       "      <th>8</th>\n",
       "      <td>6002487</td>\n",
       "      <td>0.333333</td>\n",
       "      <td>12.627946</td>\n",
       "      <td>12.961280</td>\n",
       "    </tr>\n",
       "    <tr>\n",
       "      <th>9</th>\n",
       "      <td>6001624</td>\n",
       "      <td>0.750000</td>\n",
       "      <td>13.064715</td>\n",
       "      <td>13.814715</td>\n",
       "    </tr>\n",
       "  </tbody>\n",
       "</table>\n",
       "</div>"
      ],
      "text/plain": [
       "        id    rank_x     rank_y   new_rank\n",
       "0  6001918  0.000000   0.000000   0.000000\n",
       "1  6000373  0.750000   6.706965   7.456965\n",
       "2  6001599  0.750000   9.431517  10.181517\n",
       "3  6001782  0.571429  10.159282  10.730711\n",
       "4  6002002  0.571429  10.950974  11.522403\n",
       "5  6001512  0.750000  11.302348  12.052348\n",
       "6  6001270  0.750000  11.441441  12.191441\n",
       "7  6000844  0.888889  11.593494  12.482383\n",
       "8  6002487  0.333333  12.627946  12.961280\n",
       "9  6001624  0.750000  13.064715  13.814715"
      ]
     },
     "execution_count": 40,
     "metadata": {},
     "output_type": "execute_result"
    }
   ],
   "source": [
    "ranks.head(10)"
   ]
  },
  {
   "cell_type": "code",
   "execution_count": 41,
   "id": "6a8d202e-a2f3-4338-a35a-88fe325d0506",
   "metadata": {},
   "outputs": [
    {
     "data": {
      "text/html": [
       "<div>\n",
       "<style scoped>\n",
       "    .dataframe tbody tr th:only-of-type {\n",
       "        vertical-align: middle;\n",
       "    }\n",
       "\n",
       "    .dataframe tbody tr th {\n",
       "        vertical-align: top;\n",
       "    }\n",
       "\n",
       "    .dataframe thead th {\n",
       "        text-align: right;\n",
       "    }\n",
       "</style>\n",
       "<table border=\"1\" class=\"dataframe\">\n",
       "  <thead>\n",
       "    <tr style=\"text-align: right;\">\n",
       "      <th></th>\n",
       "      <th>id</th>\n",
       "      <th>rank_x</th>\n",
       "      <th>rank_y</th>\n",
       "      <th>new_rank</th>\n",
       "    </tr>\n",
       "  </thead>\n",
       "  <tbody>\n",
       "    <tr>\n",
       "      <th>5565</th>\n",
       "      <td>6001997</td>\n",
       "      <td>0.333333</td>\n",
       "      <td>66.453697</td>\n",
       "      <td>66.78703</td>\n",
       "    </tr>\n",
       "  </tbody>\n",
       "</table>\n",
       "</div>"
      ],
      "text/plain": [
       "           id    rank_x     rank_y  new_rank\n",
       "5565  6001997  0.333333  66.453697  66.78703"
      ]
     },
     "execution_count": 41,
     "metadata": {},
     "output_type": "execute_result"
    }
   ],
   "source": [
    "ranks[ranks['id']==coverSongId]"
   ]
  },
  {
   "cell_type": "code",
   "execution_count": 42,
   "id": "c5c910f0-4488-4cea-bcc1-3d6d21d9e987",
   "metadata": {},
   "outputs": [
    {
     "data": {
      "text/html": [
       "<div>\n",
       "<style scoped>\n",
       "    .dataframe tbody tr th:only-of-type {\n",
       "        vertical-align: middle;\n",
       "    }\n",
       "\n",
       "    .dataframe tbody tr th {\n",
       "        vertical-align: top;\n",
       "    }\n",
       "\n",
       "    .dataframe thead th {\n",
       "        text-align: right;\n",
       "    }\n",
       "</style>\n",
       "<table border=\"1\" class=\"dataframe\">\n",
       "  <thead>\n",
       "    <tr style=\"text-align: right;\">\n",
       "      <th></th>\n",
       "      <th>id</th>\n",
       "      <th>rank_x</th>\n",
       "      <th>rank_y</th>\n",
       "      <th>new_rank</th>\n",
       "    </tr>\n",
       "  </thead>\n",
       "  <tbody>\n",
       "    <tr>\n",
       "      <th>0</th>\n",
       "      <td>6001918</td>\n",
       "      <td>0.000000</td>\n",
       "      <td>0.000000</td>\n",
       "      <td>0.00000</td>\n",
       "    </tr>\n",
       "    <tr>\n",
       "      <th>5565</th>\n",
       "      <td>6001997</td>\n",
       "      <td>0.333333</td>\n",
       "      <td>66.453697</td>\n",
       "      <td>66.78703</td>\n",
       "    </tr>\n",
       "  </tbody>\n",
       "</table>\n",
       "</div>"
      ],
      "text/plain": [
       "           id    rank_x     rank_y  new_rank\n",
       "0     6001918  0.000000   0.000000   0.00000\n",
       "5565  6001997  0.333333  66.453697  66.78703"
      ]
     },
     "execution_count": 42,
     "metadata": {},
     "output_type": "execute_result"
    }
   ],
   "source": [
    "ranks.loc[ranks.id.isin(listCovers)]"
   ]
  },
  {
   "cell_type": "code",
   "execution_count": null,
   "id": "63da542c-1232-4a52-a536-811d3db346d5",
   "metadata": {},
   "outputs": [],
   "source": []
  },
  {
   "cell_type": "code",
   "execution_count": null,
   "id": "e73af497-c4f0-45bc-bf62-49d3158d20b0",
   "metadata": {},
   "outputs": [],
   "source": []
  },
  {
   "cell_type": "code",
   "execution_count": null,
   "id": "44685dae-6411-4b94-8020-c3a34552d5eb",
   "metadata": {},
   "outputs": [],
   "source": []
  }
 ],
 "metadata": {
  "kernelspec": {
   "display_name": "Python 3.10.5 64-bit",
   "language": "python",
   "name": "python3"
  },
  "language_info": {
   "codemirror_mode": {
    "name": "ipython",
    "version": 3
   },
   "file_extension": ".py",
   "mimetype": "text/x-python",
   "name": "python",
   "nbconvert_exporter": "python",
   "pygments_lexer": "ipython3",
   "version": "3.10.5"
  },
  "vscode": {
   "interpreter": {
    "hash": "0167474e25ac903b7ed206b2a6261fba13c5d8405c8ccde398587cd3f7fc7183"
   }
  }
 },
 "nbformat": 4,
 "nbformat_minor": 5
}
