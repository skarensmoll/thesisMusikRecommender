{
 "cells": [
  {
   "cell_type": "markdown",
   "id": "559fde27-7a63-4edc-abc9-49227ccb0b90",
   "metadata": {},
   "source": [
    "# Using continous / categorical / transition matrices to get recommendations"
   ]
  },
  {
   "cell_type": "code",
   "execution_count": 59,
   "id": "200f333f-337e-4a63-b3e3-ace904b0ace7",
   "metadata": {},
   "outputs": [],
   "source": [
    "import pandas as pd\n",
    "from sklearn.cluster import KMeans\n",
    "import seaborn as sns\n",
    "from matplotlib import pyplot as plt \n",
    "import math\n",
    "from ipynb.fs.full.Utils import createKDeplot, loadDataFrames, dropFeaturesWithNoVariance, loadCoverGroups\n",
    "import numpy as np\n",
    "from sklearn.preprocessing import StandardScaler\n",
    "from scipy import stats\n",
    "from ipynb.fs.full.Pipeline import removeConstantFeatures, applyBoxCoxAllFeatures, centerAndScale, applyEuclideanDistance, getIndexAndVector, applyJaccard"
   ]
  },
  {
   "cell_type": "code",
   "execution_count": 60,
   "id": "f00fe6c6-f1eb-4d95-8014-784d7cc4b6bc",
   "metadata": {},
   "outputs": [],
   "source": [
    "df = pd.read_csv('./data/unified/05-allDataContinousCategoricalTransition.csv')\n",
    "df = df.iloc[:, 1:]\n",
    "encodedFeaturesNames = pd.read_csv('./data/unified/05-encodedFeatureNames.csv')\n",
    "encodedFeaturesNames = encodedFeaturesNames['0'].values.tolist()\n",
    "encodedFeaturesNames.append('id')\n"
   ]
  },
  {
   "cell_type": "code",
   "execution_count": 61,
   "id": "8a41942a-cc22-4293-b2de-b462f7d9823d",
   "metadata": {},
   "outputs": [
    {
     "data": {
      "text/plain": [
       "Index(['index', 'id', 'danceability', 'energy', 'speechiness', 'acousticness',\n",
       "       'liveness', 'valence', 'tempo', '0',\n",
       "       ...\n",
       "       'mood_5', 'mood_6', 'mood_7', 'mood_8', 'mood_9', 'mood_10', 'mood_11',\n",
       "       'instrumentalness_cat_0', 'instrumentalness_cat_1',\n",
       "       'instrumentalness_cat_2'],\n",
       "      dtype='object', length=1076)"
      ]
     },
     "execution_count": 61,
     "metadata": {},
     "output_type": "execute_result"
    }
   ],
   "source": [
    "df.columns"
   ]
  },
  {
   "cell_type": "code",
   "execution_count": 62,
   "id": "5b148495-2a18-4f16-b40b-e21d22cf86df",
   "metadata": {},
   "outputs": [],
   "source": [
    "dfE = df[encodedFeaturesNames]\n",
    "dfE = dfE.sort_values('id')\n",
    "ids = dfE.id\n",
    "dfE.drop(['id'], axis=1, inplace=True)\n",
    "dfE.reset_index(drop=True, inplace=True)"
   ]
  },
  {
   "cell_type": "code",
   "execution_count": 63,
   "id": "9f828741-5ddf-4f23-9766-1216d6dc4f73",
   "metadata": {},
   "outputs": [],
   "source": [
    "dfE = removeConstantFeatures(dfE)"
   ]
  },
  {
   "cell_type": "code",
   "execution_count": 64,
   "id": "6e7b417a-6406-4e61-bac0-bcc2d0864755",
   "metadata": {},
   "outputs": [],
   "source": [
    "originalSongId = 180849 # The Scientist Original\n",
    "originalSongIndex,originalSongVector = getIndexAndVector(originalSongId, ids, dfE)\n",
    "coverSongId = 1686718 # THe Scientist by Boyce Avenue\n",
    "coverIndex,coverSongVector = getIndexAndVector(coverSongId, ids, dfE)"
   ]
  },
  {
   "cell_type": "code",
   "execution_count": 65,
   "id": "e51c5076-7c03-465b-85a3-4427d5efb055",
   "metadata": {},
   "outputs": [],
   "source": [
    "##[0,1,1], [1,0,1] -> 0.66 Diff -> 0.33 Similarity\n",
    "ranksJaccard = applyJaccard(dfE, ids, originalSongVector)"
   ]
  },
  {
   "cell_type": "code",
   "execution_count": 66,
   "id": "39a4e39c-4e02-4599-995b-1c101af60b01",
   "metadata": {},
   "outputs": [
    {
     "data": {
      "text/html": [
       "<div>\n",
       "<style scoped>\n",
       "    .dataframe tbody tr th:only-of-type {\n",
       "        vertical-align: middle;\n",
       "    }\n",
       "\n",
       "    .dataframe tbody tr th {\n",
       "        vertical-align: top;\n",
       "    }\n",
       "\n",
       "    .dataframe thead th {\n",
       "        text-align: right;\n",
       "    }\n",
       "</style>\n",
       "<table border=\"1\" class=\"dataframe\">\n",
       "  <thead>\n",
       "    <tr style=\"text-align: right;\">\n",
       "      <th></th>\n",
       "      <th>id</th>\n",
       "      <th>rank</th>\n",
       "    </tr>\n",
       "  </thead>\n",
       "  <tbody>\n",
       "    <tr>\n",
       "      <th>0</th>\n",
       "      <td>106522</td>\n",
       "      <td>0.0</td>\n",
       "    </tr>\n",
       "    <tr>\n",
       "      <th>1</th>\n",
       "      <td>1029726</td>\n",
       "      <td>0.0</td>\n",
       "    </tr>\n",
       "    <tr>\n",
       "      <th>2</th>\n",
       "      <td>3653915</td>\n",
       "      <td>0.0</td>\n",
       "    </tr>\n",
       "    <tr>\n",
       "      <th>3</th>\n",
       "      <td>6001258</td>\n",
       "      <td>0.0</td>\n",
       "    </tr>\n",
       "    <tr>\n",
       "      <th>4</th>\n",
       "      <td>466649</td>\n",
       "      <td>0.0</td>\n",
       "    </tr>\n",
       "    <tr>\n",
       "      <th>...</th>\n",
       "      <td>...</td>\n",
       "      <td>...</td>\n",
       "    </tr>\n",
       "    <tr>\n",
       "      <th>5972</th>\n",
       "      <td>6000126</td>\n",
       "      <td>1.0</td>\n",
       "    </tr>\n",
       "    <tr>\n",
       "      <th>5973</th>\n",
       "      <td>783974</td>\n",
       "      <td>1.0</td>\n",
       "    </tr>\n",
       "    <tr>\n",
       "      <th>5974</th>\n",
       "      <td>6000825</td>\n",
       "      <td>1.0</td>\n",
       "    </tr>\n",
       "    <tr>\n",
       "      <th>5975</th>\n",
       "      <td>6001510</td>\n",
       "      <td>1.0</td>\n",
       "    </tr>\n",
       "    <tr>\n",
       "      <th>5976</th>\n",
       "      <td>6000515</td>\n",
       "      <td>1.0</td>\n",
       "    </tr>\n",
       "  </tbody>\n",
       "</table>\n",
       "<p>5977 rows × 2 columns</p>\n",
       "</div>"
      ],
      "text/plain": [
       "           id  rank\n",
       "0      106522   0.0\n",
       "1     1029726   0.0\n",
       "2     3653915   0.0\n",
       "3     6001258   0.0\n",
       "4      466649   0.0\n",
       "...       ...   ...\n",
       "5972  6000126   1.0\n",
       "5973   783974   1.0\n",
       "5974  6000825   1.0\n",
       "5975  6001510   1.0\n",
       "5976  6000515   1.0\n",
       "\n",
       "[5977 rows x 2 columns]"
      ]
     },
     "execution_count": 66,
     "metadata": {},
     "output_type": "execute_result"
    }
   ],
   "source": [
    "ranksJaccard"
   ]
  },
  {
   "cell_type": "code",
   "execution_count": 67,
   "id": "449e3efd-5bdc-48c7-90eb-e324bc4ee6f1",
   "metadata": {},
   "outputs": [
    {
     "data": {
      "text/plain": [
       "0.000000      10\n",
       "0.333333     216\n",
       "0.571429    1413\n",
       "0.750000    3023\n",
       "0.888889    1237\n",
       "1.000000      78\n",
       "Name: rank, dtype: int64"
      ]
     },
     "execution_count": 67,
     "metadata": {},
     "output_type": "execute_result"
    }
   ],
   "source": [
    "ranksJaccard['rank'].value_counts().sort_index()"
   ]
  },
  {
   "cell_type": "markdown",
   "id": "28adeb95-f135-4591-ae88-87dc9dc1395e",
   "metadata": {},
   "source": [
    "<br><br><br><br><br><br><br><br><br><br><br><br><br>"
   ]
  },
  {
   "cell_type": "markdown",
   "id": "c2477582-c6f4-43a8-994e-dad4b6edc55e",
   "metadata": {},
   "source": [
    "## Continous features"
   ]
  },
  {
   "cell_type": "code",
   "execution_count": 68,
   "id": "8e140be9-20f1-47a3-b068-17f20861c87c",
   "metadata": {},
   "outputs": [],
   "source": [
    "encodedFeaturesNames.remove('id')\n",
    "df = df[df.columns.difference(encodedFeaturesNames)]\n",
    "df = df.sort_values('id')\n",
    "ids = df.id\n",
    "df.drop(['id'], axis=1, inplace=True)\n",
    "df.reset_index(drop=True, inplace=True)"
   ]
  },
  {
   "cell_type": "markdown",
   "id": "76517f23-1eab-4574-9941-3b6b29056b80",
   "metadata": {},
   "source": [
    "## Pipeline"
   ]
  },
  {
   "cell_type": "code",
   "execution_count": 69,
   "id": "ef6769e4-4eb1-42ed-97ce-fe9ef400c734",
   "metadata": {},
   "outputs": [],
   "source": [
    "df = removeConstantFeatures(df)\n",
    "df = centerAndScale(df)"
   ]
  },
  {
   "cell_type": "markdown",
   "id": "5bdbfa92-c57b-4fdd-9ccf-ab232500acb2",
   "metadata": {},
   "source": [
    "### Original Song & Cover Song"
   ]
  },
  {
   "cell_type": "code",
   "execution_count": 70,
   "id": "4b092182-3199-4872-a970-c8fe521f56a9",
   "metadata": {},
   "outputs": [],
   "source": [
    "originalSongId = 180849 # The Scientist Original\n",
    "originalSongIndex,originalSongVector = getIndexAndVector(originalSongId, ids, df)\n",
    "coverSongId = 1686718 # THe Scientist by Boyce Avenue\n",
    "coverIndex,coverSongVector = getIndexAndVector(coverSongId, ids, df)"
   ]
  },
  {
   "cell_type": "code",
   "execution_count": 71,
   "id": "fa6f117e-0fee-4239-a1bc-50ace95edffc",
   "metadata": {},
   "outputs": [],
   "source": [
    "ranksDF  = applyEuclideanDistance(df, ids, originalSongVector)"
   ]
  },
  {
   "cell_type": "code",
   "execution_count": 72,
   "id": "9b8f0db2-ce29-4bf4-80a1-50a4cababcd3",
   "metadata": {},
   "outputs": [
    {
     "data": {
      "text/html": [
       "<div>\n",
       "<style scoped>\n",
       "    .dataframe tbody tr th:only-of-type {\n",
       "        vertical-align: middle;\n",
       "    }\n",
       "\n",
       "    .dataframe tbody tr th {\n",
       "        vertical-align: top;\n",
       "    }\n",
       "\n",
       "    .dataframe thead th {\n",
       "        text-align: right;\n",
       "    }\n",
       "</style>\n",
       "<table border=\"1\" class=\"dataframe\">\n",
       "  <thead>\n",
       "    <tr style=\"text-align: right;\">\n",
       "      <th></th>\n",
       "      <th>id</th>\n",
       "      <th>rank</th>\n",
       "    </tr>\n",
       "  </thead>\n",
       "  <tbody>\n",
       "    <tr>\n",
       "      <th>0</th>\n",
       "      <td>180849</td>\n",
       "      <td>0.000000</td>\n",
       "    </tr>\n",
       "    <tr>\n",
       "      <th>1</th>\n",
       "      <td>1025154</td>\n",
       "      <td>6.246200</td>\n",
       "    </tr>\n",
       "    <tr>\n",
       "      <th>2</th>\n",
       "      <td>569357</td>\n",
       "      <td>6.269484</td>\n",
       "    </tr>\n",
       "    <tr>\n",
       "      <th>3</th>\n",
       "      <td>2065851</td>\n",
       "      <td>6.395168</td>\n",
       "    </tr>\n",
       "    <tr>\n",
       "      <th>4</th>\n",
       "      <td>1884102</td>\n",
       "      <td>6.478077</td>\n",
       "    </tr>\n",
       "    <tr>\n",
       "      <th>5</th>\n",
       "      <td>1210073</td>\n",
       "      <td>6.501521</td>\n",
       "    </tr>\n",
       "    <tr>\n",
       "      <th>6</th>\n",
       "      <td>263779</td>\n",
       "      <td>6.518148</td>\n",
       "    </tr>\n",
       "    <tr>\n",
       "      <th>7</th>\n",
       "      <td>672021</td>\n",
       "      <td>6.538485</td>\n",
       "    </tr>\n",
       "    <tr>\n",
       "      <th>8</th>\n",
       "      <td>1065079</td>\n",
       "      <td>6.544171</td>\n",
       "    </tr>\n",
       "    <tr>\n",
       "      <th>9</th>\n",
       "      <td>1048915</td>\n",
       "      <td>6.658681</td>\n",
       "    </tr>\n",
       "  </tbody>\n",
       "</table>\n",
       "</div>"
      ],
      "text/plain": [
       "        id      rank\n",
       "0   180849  0.000000\n",
       "1  1025154  6.246200\n",
       "2   569357  6.269484\n",
       "3  2065851  6.395168\n",
       "4  1884102  6.478077\n",
       "5  1210073  6.501521\n",
       "6   263779  6.518148\n",
       "7   672021  6.538485\n",
       "8  1065079  6.544171\n",
       "9  1048915  6.658681"
      ]
     },
     "execution_count": 72,
     "metadata": {},
     "output_type": "execute_result"
    }
   ],
   "source": [
    "ranksDF.head(10)"
   ]
  },
  {
   "cell_type": "code",
   "execution_count": 73,
   "id": "add8a0cd-f9be-4e56-9a64-5b0fed6dbdc8",
   "metadata": {},
   "outputs": [
    {
     "data": {
      "text/html": [
       "<div>\n",
       "<style scoped>\n",
       "    .dataframe tbody tr th:only-of-type {\n",
       "        vertical-align: middle;\n",
       "    }\n",
       "\n",
       "    .dataframe tbody tr th {\n",
       "        vertical-align: top;\n",
       "    }\n",
       "\n",
       "    .dataframe thead th {\n",
       "        text-align: right;\n",
       "    }\n",
       "</style>\n",
       "<table border=\"1\" class=\"dataframe\">\n",
       "  <thead>\n",
       "    <tr style=\"text-align: right;\">\n",
       "      <th></th>\n",
       "      <th>id</th>\n",
       "      <th>rank</th>\n",
       "    </tr>\n",
       "  </thead>\n",
       "  <tbody>\n",
       "    <tr>\n",
       "      <th>73</th>\n",
       "      <td>1686718</td>\n",
       "      <td>7.919422</td>\n",
       "    </tr>\n",
       "  </tbody>\n",
       "</table>\n",
       "</div>"
      ],
      "text/plain": [
       "         id      rank\n",
       "73  1686718  7.919422"
      ]
     },
     "execution_count": 73,
     "metadata": {},
     "output_type": "execute_result"
    }
   ],
   "source": [
    "ranksDF[ranksDF['id']==coverSongId]"
   ]
  },
  {
   "cell_type": "markdown",
   "id": "142c6ba0-1ddc-4269-89bf-7c0fa6034802",
   "metadata": {},
   "source": [
    "## Rank for original Song 450"
   ]
  },
  {
   "cell_type": "code",
   "execution_count": 74,
   "id": "060f1065-de74-4d94-9784-6d2879f7a602",
   "metadata": {},
   "outputs": [
    {
     "data": {
      "text/html": [
       "<div>\n",
       "<style scoped>\n",
       "    .dataframe tbody tr th:only-of-type {\n",
       "        vertical-align: middle;\n",
       "    }\n",
       "\n",
       "    .dataframe tbody tr th {\n",
       "        vertical-align: top;\n",
       "    }\n",
       "\n",
       "    .dataframe thead th {\n",
       "        text-align: right;\n",
       "    }\n",
       "</style>\n",
       "<table border=\"1\" class=\"dataframe\">\n",
       "  <thead>\n",
       "    <tr style=\"text-align: right;\">\n",
       "      <th></th>\n",
       "      <th>id</th>\n",
       "      <th>rank</th>\n",
       "    </tr>\n",
       "  </thead>\n",
       "  <tbody>\n",
       "    <tr>\n",
       "      <th>42</th>\n",
       "      <td>5000019</td>\n",
       "      <td>7.569236</td>\n",
       "    </tr>\n",
       "    <tr>\n",
       "      <th>69</th>\n",
       "      <td>6001027</td>\n",
       "      <td>7.876343</td>\n",
       "    </tr>\n",
       "    <tr>\n",
       "      <th>71</th>\n",
       "      <td>6001580</td>\n",
       "      <td>7.918286</td>\n",
       "    </tr>\n",
       "    <tr>\n",
       "      <th>84</th>\n",
       "      <td>6000268</td>\n",
       "      <td>8.002573</td>\n",
       "    </tr>\n",
       "    <tr>\n",
       "      <th>94</th>\n",
       "      <td>5000017</td>\n",
       "      <td>8.061349</td>\n",
       "    </tr>\n",
       "    <tr>\n",
       "      <th>...</th>\n",
       "      <td>...</td>\n",
       "      <td>...</td>\n",
       "    </tr>\n",
       "    <tr>\n",
       "      <th>5972</th>\n",
       "      <td>6002253</td>\n",
       "      <td>172.409981</td>\n",
       "    </tr>\n",
       "    <tr>\n",
       "      <th>5973</th>\n",
       "      <td>6000743</td>\n",
       "      <td>172.978867</td>\n",
       "    </tr>\n",
       "    <tr>\n",
       "      <th>5974</th>\n",
       "      <td>6002278</td>\n",
       "      <td>177.214129</td>\n",
       "    </tr>\n",
       "    <tr>\n",
       "      <th>5975</th>\n",
       "      <td>6001117</td>\n",
       "      <td>187.673974</td>\n",
       "    </tr>\n",
       "    <tr>\n",
       "      <th>5976</th>\n",
       "      <td>6000792</td>\n",
       "      <td>193.163856</td>\n",
       "    </tr>\n",
       "  </tbody>\n",
       "</table>\n",
       "<p>2496 rows × 2 columns</p>\n",
       "</div>"
      ],
      "text/plain": [
       "           id        rank\n",
       "42    5000019    7.569236\n",
       "69    6001027    7.876343\n",
       "71    6001580    7.918286\n",
       "84    6000268    8.002573\n",
       "94    5000017    8.061349\n",
       "...       ...         ...\n",
       "5972  6002253  172.409981\n",
       "5973  6000743  172.978867\n",
       "5974  6002278  177.214129\n",
       "5975  6001117  187.673974\n",
       "5976  6000792  193.163856\n",
       "\n",
       "[2496 rows x 2 columns]"
      ]
     },
     "execution_count": 74,
     "metadata": {},
     "output_type": "execute_result"
    }
   ],
   "source": [
    "ranksDF[ranksDF['id'] > 5000000]"
   ]
  },
  {
   "cell_type": "markdown",
   "id": "793bd976-c412-4b6b-92d5-2ab2adac14d3",
   "metadata": {},
   "source": [
    "# Next steps\n",
    "    1) Get a weighted recommendation with jac and euclidean\n",
    "    2) Do experimentation with Gower\n",
    "    3) Get result with KNN clustering\n",
    "    4)\n"
   ]
  }
 ],
 "metadata": {
  "kernelspec": {
   "display_name": "Python 3",
   "language": "python",
   "name": "python3"
  },
  "language_info": {
   "codemirror_mode": {
    "name": "ipython",
    "version": 3
   },
   "file_extension": ".py",
   "mimetype": "text/x-python",
   "name": "python",
   "nbconvert_exporter": "python",
   "pygments_lexer": "ipython3",
   "version": "3.9.12"
  }
 },
 "nbformat": 4,
 "nbformat_minor": 5
}
