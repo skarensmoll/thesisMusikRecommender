{
 "cells": [
  {
   "cell_type": "markdown",
   "id": "559fde27-7a63-4edc-abc9-49227ccb0b90",
   "metadata": {},
   "source": [
    "# Using continous / categorical / transition matrices to get recommendations"
   ]
  },
  {
   "cell_type": "code",
   "execution_count": 2,
   "id": "200f333f-337e-4a63-b3e3-ace904b0ace7",
   "metadata": {},
   "outputs": [],
   "source": [
    "import pandas as pd\n",
    "from sklearn.cluster import KMeans\n",
    "import seaborn as sns\n",
    "from matplotlib import pyplot as plt \n",
    "import math\n",
    "from ipynb.fs.full.Utils import createKDeplot, loadDataFrames, dropFeaturesWithNoVariance\n",
    "import numpy as np\n",
    "from sklearn.preprocessing import StandardScaler\n",
    "from scipy import stats\n",
    "from ipynb.fs.full.Pipeline import removeConstantFeatures, applyBoxCoxAllFeatures, centerAndScale, applyEuclideanDistance, getIndexAndVector"
   ]
  },
  {
   "cell_type": "code",
   "execution_count": 3,
   "id": "f00fe6c6-f1eb-4d95-8014-784d7cc4b6bc",
   "metadata": {},
   "outputs": [],
   "source": [
    "df = pd.read_csv('./data/05-allDataContinousCategoricalTransition.csv')"
   ]
  },
  {
   "cell_type": "code",
   "execution_count": 86,
   "id": "6673e6bf-af8f-49ea-afe6-baa1d5073521",
   "metadata": {},
   "outputs": [],
   "source": [
    "## Removing unamed and other unnecessary columns\n",
    "df = df.iloc[:,2:]\n",
    "df = df.sort_values('id')\n",
    "df.id = df.id.astype('int64')\n",
    "# Saving idChords\n",
    "ids = df.id\n",
    "df = df.set_index('id')\n",
    "df.reset_index(drop=True, inplace=True)"
   ]
  },
  {
   "cell_type": "code",
   "execution_count": 87,
   "id": "a74ccd2b-fb23-4a2e-a338-7fa09e116592",
   "metadata": {},
   "outputs": [
    {
     "data": {
      "text/html": [
       "<div>\n",
       "<style scoped>\n",
       "    .dataframe tbody tr th:only-of-type {\n",
       "        vertical-align: middle;\n",
       "    }\n",
       "\n",
       "    .dataframe tbody tr th {\n",
       "        vertical-align: top;\n",
       "    }\n",
       "\n",
       "    .dataframe thead th {\n",
       "        text-align: right;\n",
       "    }\n",
       "</style>\n",
       "<table border=\"1\" class=\"dataframe\">\n",
       "  <thead>\n",
       "    <tr style=\"text-align: right;\">\n",
       "      <th></th>\n",
       "      <th>danceability</th>\n",
       "      <th>energy</th>\n",
       "      <th>speechiness</th>\n",
       "      <th>acousticness</th>\n",
       "      <th>liveness</th>\n",
       "      <th>valence</th>\n",
       "      <th>tempo</th>\n",
       "      <th>0</th>\n",
       "      <th>1</th>\n",
       "      <th>2</th>\n",
       "      <th>...</th>\n",
       "      <th>mood_5</th>\n",
       "      <th>mood_6</th>\n",
       "      <th>mood_7</th>\n",
       "      <th>mood_8</th>\n",
       "      <th>mood_9</th>\n",
       "      <th>mood_10</th>\n",
       "      <th>mood_11</th>\n",
       "      <th>instrumentalness_cat_0</th>\n",
       "      <th>instrumentalness_cat_1</th>\n",
       "      <th>instrumentalness_cat_2</th>\n",
       "    </tr>\n",
       "  </thead>\n",
       "  <tbody>\n",
       "    <tr>\n",
       "      <th>0</th>\n",
       "      <td>0.494</td>\n",
       "      <td>0.756</td>\n",
       "      <td>0.0432</td>\n",
       "      <td>0.0014</td>\n",
       "      <td>0.164</td>\n",
       "      <td>0.589</td>\n",
       "      <td>133.337</td>\n",
       "      <td>0.0</td>\n",
       "      <td>0.0</td>\n",
       "      <td>0.0</td>\n",
       "      <td>...</td>\n",
       "      <td>0.0</td>\n",
       "      <td>0.0</td>\n",
       "      <td>1.0</td>\n",
       "      <td>0.0</td>\n",
       "      <td>0.0</td>\n",
       "      <td>0.0</td>\n",
       "      <td>0.0</td>\n",
       "      <td>0.0</td>\n",
       "      <td>0.0</td>\n",
       "      <td>1.0</td>\n",
       "    </tr>\n",
       "  </tbody>\n",
       "</table>\n",
       "<p>1 rows × 698 columns</p>\n",
       "</div>"
      ],
      "text/plain": [
       "   danceability  energy  speechiness  acousticness  liveness  valence  \\\n",
       "0         0.494   0.756       0.0432        0.0014     0.164    0.589   \n",
       "\n",
       "     tempo    0    1    2  ...  mood_5  mood_6  mood_7  mood_8  mood_9  \\\n",
       "0  133.337  0.0  0.0  0.0  ...     0.0     0.0     1.0     0.0     0.0   \n",
       "\n",
       "   mood_10  mood_11  instrumentalness_cat_0  instrumentalness_cat_1  \\\n",
       "0      0.0      0.0                     0.0                     0.0   \n",
       "\n",
       "   instrumentalness_cat_2  \n",
       "0                     1.0  \n",
       "\n",
       "[1 rows x 698 columns]"
      ]
     },
     "execution_count": 87,
     "metadata": {},
     "output_type": "execute_result"
    }
   ],
   "source": [
    "df.head(1)"
   ]
  },
  {
   "cell_type": "markdown",
   "id": "6a139a96-3887-43de-9df9-086382c6c97b",
   "metadata": {},
   "source": [
    "## Pipeline"
   ]
  },
  {
   "cell_type": "code",
   "execution_count": 88,
   "id": "96224583-4581-4c88-813c-1832aa0f52c5",
   "metadata": {},
   "outputs": [],
   "source": [
    "df = removeConstantFeatures(df)\n",
    "df = applyBoxCoxAllFeatures(df)\n",
    "df = centerAndScale(df)"
   ]
  },
  {
   "cell_type": "markdown",
   "id": "39862a3e-dd97-4084-9d0d-072674331dbc",
   "metadata": {},
   "source": [
    "### Original Song & Cover Song"
   ]
  },
  {
   "cell_type": "code",
   "execution_count": 89,
   "id": "279f73c2-fe20-400a-b4ea-3dbab47f58cd",
   "metadata": {},
   "outputs": [],
   "source": [
    "originalSongId = 180849 # The Scientist Original\n",
    "originalSongIndex,originalSongVector = getIndexAndVector(originalSongId, ids, df)\n",
    "coverSongId = 1686718 # THe Scientist by Boyce Avenue\n",
    "coverIndex,coverSongVector = getIndexAndVector(coverSongId, ids, df)"
   ]
  },
  {
   "cell_type": "markdown",
   "id": "1e3d5e08-b77b-4ace-8726-7f352aab205e",
   "metadata": {},
   "source": [
    "### Get Rankings"
   ]
  },
  {
   "cell_type": "code",
   "execution_count": 78,
   "id": "dbd54336-9afb-463c-b218-d139dfa10bed",
   "metadata": {},
   "outputs": [],
   "source": [
    "ranksDF  = applyEuclideanDistance(df, ids, originalSongVector)"
   ]
  },
  {
   "cell_type": "code",
   "execution_count": 79,
   "id": "9b8f0db2-ce29-4bf4-80a1-50a4cababcd3",
   "metadata": {},
   "outputs": [
    {
     "data": {
      "text/html": [
       "<div>\n",
       "<style scoped>\n",
       "    .dataframe tbody tr th:only-of-type {\n",
       "        vertical-align: middle;\n",
       "    }\n",
       "\n",
       "    .dataframe tbody tr th {\n",
       "        vertical-align: top;\n",
       "    }\n",
       "\n",
       "    .dataframe thead th {\n",
       "        text-align: right;\n",
       "    }\n",
       "</style>\n",
       "<table border=\"1\" class=\"dataframe\">\n",
       "  <thead>\n",
       "    <tr style=\"text-align: right;\">\n",
       "      <th></th>\n",
       "      <th>id</th>\n",
       "      <th>rank</th>\n",
       "    </tr>\n",
       "  </thead>\n",
       "  <tbody>\n",
       "    <tr>\n",
       "      <th>0</th>\n",
       "      <td>180849</td>\n",
       "      <td>0.000000</td>\n",
       "    </tr>\n",
       "    <tr>\n",
       "      <th>1</th>\n",
       "      <td>1119299</td>\n",
       "      <td>22.779668</td>\n",
       "    </tr>\n",
       "    <tr>\n",
       "      <th>2</th>\n",
       "      <td>610562</td>\n",
       "      <td>25.368443</td>\n",
       "    </tr>\n",
       "    <tr>\n",
       "      <th>3</th>\n",
       "      <td>1127345</td>\n",
       "      <td>26.466739</td>\n",
       "    </tr>\n",
       "    <tr>\n",
       "      <th>4</th>\n",
       "      <td>748267</td>\n",
       "      <td>26.552714</td>\n",
       "    </tr>\n",
       "    <tr>\n",
       "      <th>5</th>\n",
       "      <td>2748744</td>\n",
       "      <td>26.888173</td>\n",
       "    </tr>\n",
       "    <tr>\n",
       "      <th>6</th>\n",
       "      <td>732460</td>\n",
       "      <td>26.959900</td>\n",
       "    </tr>\n",
       "    <tr>\n",
       "      <th>7</th>\n",
       "      <td>2065851</td>\n",
       "      <td>27.004886</td>\n",
       "    </tr>\n",
       "    <tr>\n",
       "      <th>8</th>\n",
       "      <td>872773</td>\n",
       "      <td>27.023669</td>\n",
       "    </tr>\n",
       "    <tr>\n",
       "      <th>9</th>\n",
       "      <td>466649</td>\n",
       "      <td>27.056889</td>\n",
       "    </tr>\n",
       "  </tbody>\n",
       "</table>\n",
       "</div>"
      ],
      "text/plain": [
       "        id       rank\n",
       "0   180849   0.000000\n",
       "1  1119299  22.779668\n",
       "2   610562  25.368443\n",
       "3  1127345  26.466739\n",
       "4   748267  26.552714\n",
       "5  2748744  26.888173\n",
       "6   732460  26.959900\n",
       "7  2065851  27.004886\n",
       "8   872773  27.023669\n",
       "9   466649  27.056889"
      ]
     },
     "execution_count": 79,
     "metadata": {},
     "output_type": "execute_result"
    }
   ],
   "source": [
    "ranksDF.head(10)"
   ]
  },
  {
   "cell_type": "code",
   "execution_count": 80,
   "id": "add8a0cd-f9be-4e56-9a64-5b0fed6dbdc8",
   "metadata": {},
   "outputs": [
    {
     "data": {
      "text/html": [
       "<div>\n",
       "<style scoped>\n",
       "    .dataframe tbody tr th:only-of-type {\n",
       "        vertical-align: middle;\n",
       "    }\n",
       "\n",
       "    .dataframe tbody tr th {\n",
       "        vertical-align: top;\n",
       "    }\n",
       "\n",
       "    .dataframe thead th {\n",
       "        text-align: right;\n",
       "    }\n",
       "</style>\n",
       "<table border=\"1\" class=\"dataframe\">\n",
       "  <thead>\n",
       "    <tr style=\"text-align: right;\">\n",
       "      <th></th>\n",
       "      <th>id</th>\n",
       "      <th>rank</th>\n",
       "    </tr>\n",
       "  </thead>\n",
       "  <tbody>\n",
       "    <tr>\n",
       "      <th>207</th>\n",
       "      <td>1686718</td>\n",
       "      <td>27.817478</td>\n",
       "    </tr>\n",
       "  </tbody>\n",
       "</table>\n",
       "</div>"
      ],
      "text/plain": [
       "          id       rank\n",
       "207  1686718  27.817478"
      ]
     },
     "execution_count": 80,
     "metadata": {},
     "output_type": "execute_result"
    }
   ],
   "source": [
    "ranksDF[ranksDF['id']==coverSongId]"
   ]
  },
  {
   "cell_type": "markdown",
   "id": "142c6ba0-1ddc-4269-89bf-7c0fa6034802",
   "metadata": {},
   "source": [
    "## Rank for original Song 450"
   ]
  },
  {
   "cell_type": "code",
   "execution_count": 81,
   "id": "060f1065-de74-4d94-9784-6d2879f7a602",
   "metadata": {},
   "outputs": [
    {
     "data": {
      "text/html": [
       "<div>\n",
       "<style scoped>\n",
       "    .dataframe tbody tr th:only-of-type {\n",
       "        vertical-align: middle;\n",
       "    }\n",
       "\n",
       "    .dataframe tbody tr th {\n",
       "        vertical-align: top;\n",
       "    }\n",
       "\n",
       "    .dataframe thead th {\n",
       "        text-align: right;\n",
       "    }\n",
       "</style>\n",
       "<table border=\"1\" class=\"dataframe\">\n",
       "  <thead>\n",
       "    <tr style=\"text-align: right;\">\n",
       "      <th></th>\n",
       "      <th>id</th>\n",
       "      <th>rank</th>\n",
       "    </tr>\n",
       "  </thead>\n",
       "  <tbody>\n",
       "    <tr>\n",
       "      <th>10</th>\n",
       "      <td>5000019</td>\n",
       "      <td>27.096248</td>\n",
       "    </tr>\n",
       "    <tr>\n",
       "      <th>14</th>\n",
       "      <td>5000017</td>\n",
       "      <td>27.132508</td>\n",
       "    </tr>\n",
       "    <tr>\n",
       "      <th>199</th>\n",
       "      <td>5000013</td>\n",
       "      <td>27.806612</td>\n",
       "    </tr>\n",
       "    <tr>\n",
       "      <th>758</th>\n",
       "      <td>5000012</td>\n",
       "      <td>28.360239</td>\n",
       "    </tr>\n",
       "    <tr>\n",
       "      <th>1357</th>\n",
       "      <td>5000011</td>\n",
       "      <td>28.861835</td>\n",
       "    </tr>\n",
       "    <tr>\n",
       "      <th>1714</th>\n",
       "      <td>5000018</td>\n",
       "      <td>29.391147</td>\n",
       "    </tr>\n",
       "    <tr>\n",
       "      <th>2348</th>\n",
       "      <td>5000001</td>\n",
       "      <td>32.497193</td>\n",
       "    </tr>\n",
       "    <tr>\n",
       "      <th>3043</th>\n",
       "      <td>5000020</td>\n",
       "      <td>63.813986</td>\n",
       "    </tr>\n",
       "    <tr>\n",
       "      <th>3069</th>\n",
       "      <td>5000008</td>\n",
       "      <td>67.633010</td>\n",
       "    </tr>\n",
       "    <tr>\n",
       "      <th>3114</th>\n",
       "      <td>5000007</td>\n",
       "      <td>76.660280</td>\n",
       "    </tr>\n",
       "    <tr>\n",
       "      <th>3169</th>\n",
       "      <td>5000023</td>\n",
       "      <td>109.086619</td>\n",
       "    </tr>\n",
       "  </tbody>\n",
       "</table>\n",
       "</div>"
      ],
      "text/plain": [
       "           id        rank\n",
       "10    5000019   27.096248\n",
       "14    5000017   27.132508\n",
       "199   5000013   27.806612\n",
       "758   5000012   28.360239\n",
       "1357  5000011   28.861835\n",
       "1714  5000018   29.391147\n",
       "2348  5000001   32.497193\n",
       "3043  5000020   63.813986\n",
       "3069  5000008   67.633010\n",
       "3114  5000007   76.660280\n",
       "3169  5000023  109.086619"
      ]
     },
     "execution_count": 81,
     "metadata": {},
     "output_type": "execute_result"
    }
   ],
   "source": [
    "ranksDF[ranksDF['id'] > 5000000]"
   ]
  },
  {
   "cell_type": "code",
   "execution_count": null,
   "id": "c26182d3-2722-4c69-be7c-6387dc8311e3",
   "metadata": {},
   "outputs": [],
   "source": []
  },
  {
   "cell_type": "code",
   "execution_count": null,
   "id": "bbbf0668-94c6-4319-a5e0-58739c8a7ba6",
   "metadata": {},
   "outputs": [],
   "source": []
  },
  {
   "cell_type": "code",
   "execution_count": null,
   "id": "af54d4b5-e93c-49f9-8801-55055d52fe3c",
   "metadata": {},
   "outputs": [],
   "source": []
  }
 ],
 "metadata": {
  "kernelspec": {
   "display_name": "Python 3",
   "language": "python",
   "name": "python3"
  },
  "language_info": {
   "codemirror_mode": {
    "name": "ipython",
    "version": 3
   },
   "file_extension": ".py",
   "mimetype": "text/x-python",
   "name": "python",
   "nbconvert_exporter": "python",
   "pygments_lexer": "ipython3",
   "version": "3.9.12"
  }
 },
 "nbformat": 4,
 "nbformat_minor": 5
}
