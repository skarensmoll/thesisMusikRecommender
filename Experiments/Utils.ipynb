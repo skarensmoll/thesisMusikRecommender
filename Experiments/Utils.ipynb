{
 "cells": [
  {
   "cell_type": "code",
   "execution_count": 1,
   "id": "0177a6ef-4ec3-4528-bfc0-80bbd09e8f81",
   "metadata": {},
   "outputs": [],
   "source": [
    "import pandas as pd\n",
    "import math\n",
    "from matplotlib import pyplot as plt \n",
    "import seaborn as sns"
   ]
  },
  {
   "cell_type": "code",
   "execution_count": 2,
   "id": "608fab3a-d06c-4f11-bb44-ed6fdf41c45d",
   "metadata": {},
   "outputs": [],
   "source": [
    "listKeys = ['C','C#','C#dim','C#m','Cdim','Cm','D','D#','D#dim','D#m','Ddim','Dm','E','Edim','Em','F','F#','F#dim','F#m','Fdim','Fm','G','G#', 'G#dim','G#m','Gdim', 'Gm', 'A', 'A#','A#dim','A#m','Adim','Am','B','Bdim','Bm']\n",
    "\n",
    "MOOD_CATEGORIES = {\n",
    "    'sad': 1,\n",
    "    'bored': 2,\n",
    "    'nervous': 3,\n",
    "    'angry': 4,\n",
    "    'sleepy': 5,\n",
    "    'calm': 6,\n",
    "    'excited': 7,\n",
    "    'peaceful': 8,\n",
    "    'relaxed': 9,\n",
    "    'pleased': 10,\n",
    "    'happy': 11\n",
    "}\n",
    "\n",
    "\n",
    "def getKeyMap():\n",
    "    keyMapper = {}\n",
    "    for key in listKeys:\n",
    "        if key not in keyMapper:\n",
    "            keyMapper[key] = 0  \n",
    "    return keyMapper"
   ]
  },
  {
   "cell_type": "code",
   "execution_count": 3,
   "id": "e14d1184-51bf-4297-a981-e15804ebe3b1",
   "metadata": {},
   "outputs": [],
   "source": [
    "# 0\tC (also B♯, Ddouble flat)\tdo\n",
    "# 1\tC♯, D♭ (also Bdouble sharp)\t\n",
    "# 2\tD (also Cdouble sharp, Edouble flat)\tre\n",
    "# 3\tD♯, E♭ (also Fdouble flat)\t\n",
    "# 4\tE (also Ddouble sharp, F♭)\tmi\n",
    "# 5\tF (also E♯, Gdouble flat)\tfa\n",
    "# 6\tF♯, G♭ (also Edouble sharp)\t\n",
    "# 7\tG (also Fdouble sharp, Adouble flat)\tsol\n",
    "# 8\tG♯, A♭\t\n",
    "# 9\tA (also Gdouble sharp, Bdouble flat)\tla\n",
    "# 10, t or A\tA♯, B♭ (also Cdouble flat)\t\n",
    "# 11, e or B\tB (also Adouble sharp, C♭)\tsi\n",
    "\n",
    "spotifyKeys =['C', 'C#', 'D', 'D#', 'E', 'F', 'F#', 'G', 'G#', 'A', 'A#', 'B']"
   ]
  },
  {
   "cell_type": "code",
   "execution_count": 4,
   "id": "b6b87794-da28-4043-b796-e7589ad592bf",
   "metadata": {},
   "outputs": [
    {
     "data": {
      "text/plain": [
       "12"
      ]
     },
     "execution_count": 4,
     "metadata": {},
     "output_type": "execute_result"
    }
   ],
   "source": [
    "len(spotifyKeys)"
   ]
  },
  {
   "cell_type": "markdown",
   "id": "5d1ef5ed-5ceb-4478-857b-c068df5405c7",
   "metadata": {},
   "source": [
    "### Loading DataFrames in a clean way"
   ]
  },
  {
   "cell_type": "code",
   "execution_count": 5,
   "id": "a0ddec00-3df8-4a14-9d4d-c23231c08bfa",
   "metadata": {},
   "outputs": [],
   "source": [
    "# Puts together the spotifyFeatures and TransitionMatrices, additionally does a cleaning process \n",
    "# over the indexes.\n",
    "# way to use it spotifyFeatures, transitionMatrices, df = loadDataFrames()\n",
    "\n",
    "def loadDataFrames():\n",
    "    spotifyFeatures = pd.read_csv('./data/03-spotifyFeaturesDirty.csv')\n",
    "    transitionMatrices = pd.read_csv('./data/transitionMatrices.csv')\n",
    "    \n",
    "    \n",
    "    spotifyFeatures = spotifyFeatures.iloc[:, 1:]\n",
    "    transitionMatrices = transitionMatrices.iloc[:, 1:]\n",
    "    \n",
    "    spotifyFeatures = spotifyFeatures.sort_values('id_chord')\n",
    "    transitionMatrices = transitionMatrices.sort_values('id')\n",
    "    transitionMatrices.id = transitionMatrices.id.astype('int64')\n",
    "    spotifyFeatures = spotifyFeatures.rename(columns={\"id_chord\": \"id\"})\n",
    "    \n",
    "    \n",
    "    ## Sets Indexes\n",
    "    spotifyFeatures = spotifyFeatures.set_index('id')\n",
    "    transitionMatrices = transitionMatrices.set_index('id')\n",
    "    \n",
    "    df = spotifyFeatures.merge(transitionMatrices, left_index=True, right_index=True)\n",
    "    \n",
    "    return spotifyFeatures, transitionMatrices, df"
   ]
  },
  {
   "cell_type": "markdown",
   "id": "5e2e7d1f-9582-4c02-8250-908643740091",
   "metadata": {},
   "source": [
    "## Plotting Distribution Graphs"
   ]
  },
  {
   "cell_type": "code",
   "execution_count": 6,
   "id": "a72d014f-8f48-4ea5-b29b-3707cee226d6",
   "metadata": {},
   "outputs": [],
   "source": [
    "from matplotlib import pyplot as plt \n",
    "\n",
    "def createKDeplot(df, features, numColumns = 2):\n",
    "    numRows = math.ceil(len(features) / numColumns)\n",
    "    \n",
    "    plt.figure(figsize=(15,18))\n",
    "    \n",
    "    for index in range(0, len(features)):\n",
    "        plt.subplot(numRows, numColumns, (index + 1))\n",
    "        sns.kdeplot(data=df, x=features[index])"
   ]
  },
  {
   "cell_type": "code",
   "execution_count": null,
   "id": "37c6794a-2ae6-4c5c-b437-d50c229980e9",
   "metadata": {},
   "outputs": [],
   "source": []
  },
  {
   "cell_type": "code",
   "execution_count": null,
   "id": "d31d72d3-1b30-4ab7-ace5-0bc144cb32aa",
   "metadata": {},
   "outputs": [],
   "source": []
  },
  {
   "cell_type": "code",
   "execution_count": null,
   "id": "4c104958-508c-47f3-8470-dbfa5558a5ef",
   "metadata": {},
   "outputs": [],
   "source": []
  }
 ],
 "metadata": {
  "kernelspec": {
   "display_name": "Python 3",
   "language": "python",
   "name": "python3"
  },
  "language_info": {
   "codemirror_mode": {
    "name": "ipython",
    "version": 3
   },
   "file_extension": ".py",
   "mimetype": "text/x-python",
   "name": "python",
   "nbconvert_exporter": "python",
   "pygments_lexer": "ipython3",
   "version": "3.9.12"
  }
 },
 "nbformat": 4,
 "nbformat_minor": 5
}
