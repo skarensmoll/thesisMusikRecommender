{
 "cells": [
  {
   "cell_type": "code",
   "execution_count": 1,
   "id": "0177a6ef-4ec3-4528-bfc0-80bbd09e8f81",
   "metadata": {},
   "outputs": [],
   "source": [
    "import pandas as pd\n",
    "import math\n",
    "from matplotlib import pyplot as plt \n",
    "import seaborn as sns\n",
    "import csv\n"
   ]
  },
  {
   "cell_type": "code",
   "execution_count": 2,
   "id": "608fab3a-d06c-4f11-bb44-ed6fdf41c45d",
   "metadata": {},
   "outputs": [],
   "source": [
    "listKeys = ['C','C#','C#dim','C#m','Cdim','Cm','D','D#','D#dim','D#m','Ddim','Dm','E','Edim','Em','F','F#','F#dim','F#m','Fdim','Fm','G','G#', 'G#dim','G#m','Gdim', 'Gm', 'A', 'A#','A#dim','A#m','Adim','Am','B','Bdim','Bm']\n",
    "\n",
    "MOOD_CATEGORIES = {\n",
    "    'sad': 1,\n",
    "    'bored': 2,\n",
    "    'nervous': 3,\n",
    "    'angry': 4,\n",
    "    'sleepy': 5,\n",
    "    'calm': 6,\n",
    "    'excited': 7,\n",
    "    'peaceful': 8,\n",
    "    'relaxed': 9,\n",
    "    'pleased': 10,\n",
    "    'happy': 11\n",
    "}\n",
    "\n",
    "\n",
    "def getKeyMap():\n",
    "    keyMapper = {}\n",
    "    for key in listKeys:\n",
    "        if key not in keyMapper:\n",
    "            keyMapper[key] = 0  \n",
    "    return keyMapper"
   ]
  },
  {
   "cell_type": "code",
   "execution_count": 3,
   "id": "e14d1184-51bf-4297-a981-e15804ebe3b1",
   "metadata": {},
   "outputs": [],
   "source": [
    "# 0\tC (also B♯, Ddouble flat)\tdo\n",
    "# 1\tC♯, D♭ (also Bdouble sharp)\t\n",
    "# 2\tD (also Cdouble sharp, Edouble flat)\tre\n",
    "# 3\tD♯, E♭ (also Fdouble flat)\t\n",
    "# 4\tE (also Ddouble sharp, F♭)\tmi\n",
    "# 5\tF (also E♯, Gdouble flat)\tfa\n",
    "# 6\tF♯, G♭ (also Edouble sharp)\t\n",
    "# 7\tG (also Fdouble sharp, Adouble flat)\tsol\n",
    "# 8\tG♯, A♭\t\n",
    "# 9\tA (also Gdouble sharp, Bdouble flat)\tla\n",
    "# 10, t or A\tA♯, B♭ (also Cdouble flat)\t\n",
    "# 11, e or B\tB (also Adouble sharp, C♭)\tsi\n",
    "\n",
    "spotifyKeys =['C', 'C#', 'D', 'D#', 'E', 'F', 'F#', 'G', 'G#', 'A', 'A#', 'B']"
   ]
  },
  {
   "cell_type": "code",
   "execution_count": 4,
   "id": "b6b87794-da28-4043-b796-e7589ad592bf",
   "metadata": {},
   "outputs": [
    {
     "data": {
      "text/plain": [
       "12"
      ]
     },
     "execution_count": 4,
     "metadata": {},
     "output_type": "execute_result"
    }
   ],
   "source": [
    "len(spotifyKeys)"
   ]
  },
  {
   "cell_type": "markdown",
   "id": "5d1ef5ed-5ceb-4478-857b-c068df5405c7",
   "metadata": {},
   "source": [
    "### Loading DataFrames in a clean way"
   ]
  },
  {
   "cell_type": "code",
   "execution_count": 5,
   "id": "a0ddec00-3df8-4a14-9d4d-c23231c08bfa",
   "metadata": {},
   "outputs": [],
   "source": [
    "# Puts together the spotifyFeatures and TransitionMatrices, additionally does a cleaning process \n",
    "# over the indexes.\n",
    "# way to use it spotifyFeatures, transitionMatrices, df = loadDataFrames()\n",
    "def loadCoverGroups():\n",
    "    ## IMPORT COVERS IN LIST\n",
    "    with open('./data/unified/FinalCoverList.csv', newline='') as f:\n",
    "        reader = csv.reader(f)\n",
    "        FinalSongsGroups = list(reader)\n",
    "\n",
    "    del FinalSongsGroups[0]\n",
    "    FinalSongsGroupsAnalyze = []\n",
    "    for songsGroups in FinalSongsGroups:\n",
    "        if len(songsGroups) > 0:\n",
    "            toInt = [int(x) for x in songsGroups]\n",
    "            FinalSongsGroupsAnalyze.append(toInt)\n",
    "    \n",
    "    return FinalSongsGroupsAnalyze\n",
    "def loadDataFrames():\n",
    "    spotifyFeatures = pd.read_csv('./data/unified/03-spotifyFeaturesDirty.csv')\n",
    "    transitionMatrices = pd.read_csv('./data/unified/transitionMatrices.csv')\n",
    "\n",
    "    spotifyFeatures = spotifyFeatures.iloc[:, 1:]\n",
    "    transitionMatrices = transitionMatrices.iloc[:, 1:]\n",
    "    \n",
    "    spotifyFeatures = spotifyFeatures.sort_values('id_chord')\n",
    "    transitionMatrices = transitionMatrices.sort_values('id')\n",
    "    transitionMatrices.id = transitionMatrices.id.astype('int64')\n",
    "    spotifyFeatures = spotifyFeatures.rename(columns={\"id_chord\": \"id\"})\n",
    "    \n",
    "    \n",
    "    df = pd.merge(spotifyFeatures, transitionMatrices, on='id')\n",
    "    \n",
    "    ## Removing columns with constant values\n",
    "    df = df.loc[:, (df != df.iloc[0]).any()] \n",
    "\n",
    "    ## Sets Indexes\n",
    "    spotifyFeatures = spotifyFeatures.set_index('id')\n",
    "    transitionMatrices = transitionMatrices.set_index('id')\n",
    "    \n",
    "    return spotifyFeatures, transitionMatrices, df"
   ]
  },
  {
   "cell_type": "markdown",
   "id": "5e2e7d1f-9582-4c02-8250-908643740091",
   "metadata": {},
   "source": [
    "## Plotting Distribution Graphs"
   ]
  },
  {
   "cell_type": "code",
   "execution_count": 6,
   "id": "a72d014f-8f48-4ea5-b29b-3707cee226d6",
   "metadata": {},
   "outputs": [],
   "source": [
    "from matplotlib import pyplot as plt \n",
    "\n",
    "def createKDeplot(df, features, numColumns = 2):\n",
    "    numRows = math.ceil(len(features) / numColumns)\n",
    "    \n",
    "    plt.figure(figsize=(15,18))\n",
    "    \n",
    "    for index in range(0, len(features)):\n",
    "        plt.subplot(numRows, numColumns, (index + 1))\n",
    "        sns.kdeplot(data=df, x=features[index])"
   ]
  },
  {
   "cell_type": "markdown",
   "id": "209aa273-1b18-4437-a22a-fec50f26e797",
   "metadata": {},
   "source": [
    "## Mood Calculation"
   ]
  },
  {
   "cell_type": "code",
   "execution_count": 7,
   "id": "d31d72d3-1b30-4ab7-ace5-0bc144cb32aa",
   "metadata": {},
   "outputs": [],
   "source": [
    "def setMoodNumber(cat):  \n",
    "    cat = cat.mood\n",
    "    if cat == 'sad':\n",
    "        return MOOD_CATEGORIES['sad']\n",
    "    elif cat == 'bored':\n",
    "        return MOOD_CATEGORIES['bored']\n",
    "    elif cat == 'nervous':\n",
    "        return MOOD_CATEGORIES['nervous']\n",
    "    elif cat == 'angry':\n",
    "        return MOOD_CATEGORIES['angry']\n",
    "    elif cat == 'sleepy':\n",
    "        return MOOD_CATEGORIES['sleepy']\n",
    "    elif cat == 'calm':\n",
    "        return MOOD_CATEGORIES['calm']\n",
    "    elif cat == 'excited':\n",
    "        return MOOD_CATEGORIES['excited']\n",
    "    elif cat == 'peaceful':\n",
    "        return MOOD_CATEGORIES['peaceful']\n",
    "    elif cat == 'relaxed':\n",
    "        return MOOD_CATEGORIES['relaxed']\n",
    "    elif cat == 'pleased':\n",
    "        return MOOD_CATEGORIES['pleased']\n",
    "    elif cat == 'happy':\n",
    "        return MOOD_CATEGORIES['happy']\n",
    "    \n",
    "\n",
    "def setMoodLabel(row):    \n",
    "    if (row.valence < 0.33 and row.energy < 0.25):\n",
    "        return 'sad'\n",
    "    elif row.valence < 0.33 and (row.energy >= .25 and row.energy < .5):\n",
    "        return 'bored'\n",
    "    elif row.valence < 0.33 and (row.energy >= .5 and row.energy < .75):\n",
    "        return 'nervous'\n",
    "    elif row.valence < 0.33 and (row.energy >= .75):\n",
    "        return 'angry'\n",
    "    elif (row.valence >= 0.33 and row.valence < .66) and (row.energy < 0.25):\n",
    "        return 'sleepy'\n",
    "    elif (row.valence >= 0.33 and row.valence < .66) and (row.energy >= .25 and row.energy < .75):\n",
    "        return 'calm'\n",
    "    elif (row.valence >= 0.33 and row.valence < .66) and (row.energy >= .75):\n",
    "        return 'excited'\n",
    "    elif (row.valence >= 0.66) and (row.energy < 0.25):\n",
    "        return 'peaceful'\n",
    "    elif (row.valence >= 0.66) and (row.energy >= 0.25 and row.energy < 0.5):\n",
    "        return 'relaxed'\n",
    "    elif (row.valence >= 0.66) and (row.energy >= 0.5 and row.energy < 0.75):\n",
    "        return 'pleased'\n",
    "    elif (row.valence >= 0.66) and (row.energy >= 0.75):\n",
    "        return 'happy'\n"
   ]
  },
  {
   "cell_type": "markdown",
   "id": "50dd3d80-19e9-4d3a-bcd1-2d124b36396c",
   "metadata": {},
   "source": [
    "## Drop features with no variance"
   ]
  },
  {
   "cell_type": "code",
   "execution_count": 8,
   "id": "80b7fbcf-0464-4022-9a6c-981d4e4a52ab",
   "metadata": {},
   "outputs": [],
   "source": [
    "from sklearn.feature_selection import VarianceThreshold\n",
    "\n",
    "def dropFeaturesWithNoVariance(df):\n",
    "\n",
    "    # Create a VarianceThreshold feature selector\n",
    "    sel = VarianceThreshold(threshold=0.001)\n",
    "\n",
    "    # Fit the selector to normalized head_df\n",
    "    sel.fit(df / df.mean())\n",
    "\n",
    "    # Create a boolean mask\n",
    "    mask = sel.get_support()\n",
    "\n",
    "    # Apply the mask to create a reduced dataframe\n",
    "    reduced_df = df.loc[:, mask]\n",
    "\n",
    "    print(\"Dimensionality reduced from {} to {}.\".format(df.shape[1], reduced_df.shape[1]))\n",
    "\n",
    "    return reduced_df"
   ]
  },
  {
   "cell_type": "code",
   "execution_count": null,
   "id": "202c4407-5be2-4783-9482-e9968c1b7a5a",
   "metadata": {},
   "outputs": [],
   "source": []
  },
  {
   "cell_type": "code",
   "execution_count": null,
   "id": "37d20790-bcc9-4937-93da-27c34a79e608",
   "metadata": {},
   "outputs": [],
   "source": []
  }
 ],
 "metadata": {
  "kernelspec": {
   "display_name": "Python 3.10.5 64-bit",
   "language": "python",
   "name": "python3"
  },
  "language_info": {
   "codemirror_mode": {
    "name": "ipython",
    "version": 3
   },
   "file_extension": ".py",
   "mimetype": "text/x-python",
   "name": "python",
   "nbconvert_exporter": "python",
   "pygments_lexer": "ipython3",
   "version": "3.10.5"
  },
  "vscode": {
   "interpreter": {
    "hash": "0167474e25ac903b7ed206b2a6261fba13c5d8405c8ccde398587cd3f7fc7183"
   }
  }
 },
 "nbformat": 4,
 "nbformat_minor": 5
}
