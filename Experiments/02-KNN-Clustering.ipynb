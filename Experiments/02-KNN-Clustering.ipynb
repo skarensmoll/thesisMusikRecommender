{
 "cells": [
  {
   "cell_type": "markdown",
   "id": "00e7380b-7567-4cc6-9b26-91dee1875b67",
   "metadata": {},
   "source": [
    "# Recommender using MySQL Database / frequency of the chords"
   ]
  },
  {
   "cell_type": "markdown",
   "id": "04085c6c-98c6-4d4e-bd09-53c121e39255",
   "metadata": {},
   "source": [
    "### This analysis focuses more on the frequency of the chords within a song\n",
    "Meaning that probably songs that use more or less the same amount of chords will be clustered this can be confirmed with the bar plots"
   ]
  },
  {
   "cell_type": "code",
   "execution_count": 180,
   "id": "8b385e5e-f9d1-493f-8764-64faed3b7222",
   "metadata": {},
   "outputs": [],
   "source": [
    "from ipynb.fs.full.DBMySQLConnection import getDB, connectDB\n",
    "from ipynb.fs.full.Utils import listKeys\n",
    "import pandas as pd\n",
    "import plotly.express as px\n",
    "import dask_ml.cluster\n",
    "import copy\n",
    "import math \n",
    "from ipynb.fs.full.Utils import loadDataFrames, spotifyKeys"
   ]
  },
  {
   "cell_type": "code",
   "execution_count": 209,
   "id": "8c034193-f8fe-4c16-8898-1e6275638493",
   "metadata": {},
   "outputs": [],
   "source": [
    "def barPlotByCategory(category):\n",
    "    cat = chordsDF[chordsDF['category'] == category].iloc[:,0:-1]\n",
    "    catSum = cat.sum(axis=0)\n",
    "    cat = pd.DataFrame({'chords':catSum.index, 'count':catSum.values})\n",
    "    fig = px.bar(cat, x='chords', y='count', title='Count of chords per category on :' + str(category) )\n",
    "    fig.show()\n",
    "    \n",
    "def createRatiosPerCategory(chord):\n",
    "    chordsGroupedCat = chordsDF[[chord, 'category']].groupby(['category']).sum()\n",
    "    totalGroupedChords = chordsGroupedCat[chord].sum()\n",
    "    chordsRatioCat = chordsGroupedCat[chord]/totalGroupedChords.sum()\n",
    "    return chordsRatioCat.values.tolist()\n",
    "\n",
    "def plotChordsPerCategory(numClusters):\n",
    "    for k in range(0, numClusters):\n",
    "        barPlotByCategory(k)\n",
    "        \n",
    "def getClustersChordsRatios(listKeys):\n",
    "    chordsRatio = pd.DataFrame(columns = listKeys)\n",
    "    for key in listKeys:\n",
    "        chordsRatio[key] = createRatiosPerCategory(key)\n",
    "    chordsRatio['cluster'] = chordsRatio.index\n",
    "    chordsRatioCluster  = chordsRatio.copy(deep=True)\n",
    "    chordsRatio = chordsRatio.melt(id_vars=[\"cluster\"], \n",
    "        var_name=\"chord\", \n",
    "        value_name=\"ratio\")\n",
    "    return chordsRatio, chordsRatioCluster\n",
    "\n",
    "def getRatioChordsSong(newSongChords):\n",
    "    newSongTotalChords = sum(newSongChords)\n",
    "    return list(map(lambda x: x/newSongTotalChords, newSongChords))\n",
    "\n",
    "def distance(x,y):\n",
    "    dist = 0.0\n",
    "    for i, elem in enumerate(x):\n",
    "        dist+= (elem-y[i])*(elem-y[i])\n",
    "    return math.sqrt(dist)\n",
    "\n",
    "def closest_clusters(song):\n",
    "    distances = []\n",
    "    newSongRatio = getRatioChordsSong(song)\n",
    "    for k in range(0,numClusters):\n",
    "        clusterChordRatios = chordsRatio[chordsRatio['cluster'] == k].iloc[:, 0:-1].values[0].tolist()\n",
    "        dist = distance(clusterChordRatios,newSongRatio)\n",
    "        distances.append((k, dist))\n",
    "    distances.sort(key = lambda x: x[1])\n",
    "    return distances\n",
    "\n",
    "def plotChords(chordsDF, titleLabel='Histogra'):    \n",
    "    cat = pd.DataFrame({'chords':chordsDF.sum().index.tolist(), 'count':chordsDF.sum().values.tolist()})\n",
    "    fig = px.bar(cat, x='chords', y='count', title=titleLabel, template='plotly_white')\n",
    "#     fig = px.bar(cat, x='chords', y='count', title=titleLabel, marker = [color = 'green')\n",
    "    \n",
    "\n",
    "    fig.show()\n",
    "    \n",
    "# def mapChordsToKeys(songChords):\n",
    "#     keys = {}\n",
    "\n",
    "#     for c in songChords:\n",
    "#         for symbol in c.split(','):\n",
    "#             if symbol not in keys: \n",
    "#                 keys[symbol] = 1\n",
    "#             else:\n",
    "#                 keys[symbol] += 1\n",
    "#     return keys\n",
    "\n",
    "def createEmptyListKeysDF():\n",
    "    chordsDF = pd.DataFrame(columns = listKeys)\n",
    "    return chordsDF\n",
    "\n",
    "def createEmptyKeyMapper():\n",
    "    keyMapper = {}\n",
    "    for key in listKeys:\n",
    "        if key not in keyMapper:\n",
    "            keyMapper[key] = 0  \n",
    "    return keyMapper\n",
    "\n",
    "def createDFCountChordsPerSong(df):\n",
    "    keyMapper = createEmptyKeyMapper()\n",
    "    chordsDF = createEmptyListKeysDF()\n",
    "    keyMapper['id'] = 0\n",
    "    ## Going through all songs and mapping its chrods in C major to the table frame \n",
    "\n",
    "    for key in range(len(df)):\n",
    "        c = df.iloc[key, :].chords\n",
    "        id = df.iloc[key, :].id\n",
    "        keyMapperCopy = copy.deepcopy(keyMapper)\n",
    "\n",
    "        for symbol in c.split(','):\n",
    "            keyMapperCopy[symbol] += 1\n",
    "        \n",
    "\n",
    "        keyMapperCopy['id'] = id\n",
    "        chordsDF = chordsDF.append(keyMapperCopy, ignore_index=True)\n",
    "    \n",
    "    \n",
    "    # Formatting chords dataframe\n",
    "    chordsDF = chordsDF.sort_values('id')\n",
    "    chordsDF.id = chordsDF.id.astype('int64')\n",
    "    chordsDF = chordsDF.set_index('id')\n",
    "    return chordsDF"
   ]
  },
  {
   "cell_type": "code",
   "execution_count": 182,
   "id": "8e98b577-70ae-44d1-a98e-2f9c52132fdd",
   "metadata": {},
   "outputs": [],
   "source": [
    "# Regardless of the DB Engine fill df variable\n",
    "\n",
    "cn = connectDB()\n",
    "df = pd.read_sql(\"\"\"\n",
    "select c.id, c.song, c.artist,c.tonality, c.capo, cc.orig_key, cc.chords\n",
    "from chords as c\n",
    "inner join clean_chords as cc\n",
    "        on c.id = cc.id\n",
    "where c.id_track is not null\n",
    "\"\"\", con=cn)\n",
    "cn.close()"
   ]
  },
  {
   "cell_type": "markdown",
   "id": "5707dcf2-9eb4-43d2-b7fb-ec6eccf8bad4",
   "metadata": {},
   "source": [
    "### Checking list of chords"
   ]
  },
  {
   "cell_type": "code",
   "execution_count": 183,
   "id": "88e73596-5ea4-45a4-a756-7b53737558cb",
   "metadata": {},
   "outputs": [
    {
     "data": {
      "text/html": [
       "<div>\n",
       "<style scoped>\n",
       "    .dataframe tbody tr th:only-of-type {\n",
       "        vertical-align: middle;\n",
       "    }\n",
       "\n",
       "    .dataframe tbody tr th {\n",
       "        vertical-align: top;\n",
       "    }\n",
       "\n",
       "    .dataframe thead th {\n",
       "        text-align: right;\n",
       "    }\n",
       "</style>\n",
       "<table border=\"1\" class=\"dataframe\">\n",
       "  <thead>\n",
       "    <tr style=\"text-align: right;\">\n",
       "      <th></th>\n",
       "      <th>id</th>\n",
       "      <th>song</th>\n",
       "      <th>artist</th>\n",
       "      <th>tonality</th>\n",
       "      <th>capo</th>\n",
       "      <th>orig_key</th>\n",
       "      <th>chords</th>\n",
       "    </tr>\n",
       "  </thead>\n",
       "  <tbody>\n",
       "    <tr>\n",
       "      <th>0</th>\n",
       "      <td>23</td>\n",
       "      <td>Beer Drinkers And Hell Raisers</td>\n",
       "      <td>ZZ Top</td>\n",
       "      <td></td>\n",
       "      <td>0</td>\n",
       "      <td>E</td>\n",
       "      <td>Cm,C,A#,F,F,G,G,Cm,Cm,C,A#,F,F,F,F,Cm,G,G,G,G,...</td>\n",
       "    </tr>\n",
       "    <tr>\n",
       "      <th>1</th>\n",
       "      <td>73</td>\n",
       "      <td>Harvest Moon</td>\n",
       "      <td>Neil Young</td>\n",
       "      <td></td>\n",
       "      <td>0</td>\n",
       "      <td>G</td>\n",
       "      <td>C,F,F,C,F,C,F,F,C,F,C,F,F,C,F,C,F,C,C,Em,F,Dm,...</td>\n",
       "    </tr>\n",
       "    <tr>\n",
       "      <th>2</th>\n",
       "      <td>105</td>\n",
       "      <td>Ball And Chain</td>\n",
       "      <td>XTC</td>\n",
       "      <td></td>\n",
       "      <td>0</td>\n",
       "      <td>C</td>\n",
       "      <td>C,C,C,C,C,C,A#,F,C,G,D,F,C,G,D,F,C,G,D,F,C,G,D...</td>\n",
       "    </tr>\n",
       "    <tr>\n",
       "      <th>3</th>\n",
       "      <td>118</td>\n",
       "      <td>Los Angeles</td>\n",
       "      <td>X</td>\n",
       "      <td></td>\n",
       "      <td>0</td>\n",
       "      <td>G</td>\n",
       "      <td>A,F,G,C,D,D,C,G,F,D,C,G,F,D,C,F,D,C,F,D,C,F,D,...</td>\n",
       "    </tr>\n",
       "    <tr>\n",
       "      <th>4</th>\n",
       "      <td>120</td>\n",
       "      <td>The Hungry Wolf</td>\n",
       "      <td>X</td>\n",
       "      <td></td>\n",
       "      <td>0</td>\n",
       "      <td>E</td>\n",
       "      <td>G#,G,G,G#,G,G#,G,A#,C,G#,G,G#,G,G#,G,A#,C,C,G#...</td>\n",
       "    </tr>\n",
       "  </tbody>\n",
       "</table>\n",
       "</div>"
      ],
      "text/plain": [
       "    id                            song      artist tonality  capo orig_key  \\\n",
       "0   23  Beer Drinkers And Hell Raisers      ZZ Top              0        E   \n",
       "1   73                    Harvest Moon  Neil Young              0        G   \n",
       "2  105                  Ball And Chain         XTC              0        C   \n",
       "3  118                     Los Angeles           X              0        G   \n",
       "4  120                 The Hungry Wolf           X              0        E   \n",
       "\n",
       "                                              chords  \n",
       "0  Cm,C,A#,F,F,G,G,Cm,Cm,C,A#,F,F,F,F,Cm,G,G,G,G,...  \n",
       "1  C,F,F,C,F,C,F,F,C,F,C,F,F,C,F,C,F,C,C,Em,F,Dm,...  \n",
       "2  C,C,C,C,C,C,A#,F,C,G,D,F,C,G,D,F,C,G,D,F,C,G,D...  \n",
       "3  A,F,G,C,D,D,C,G,F,D,C,G,F,D,C,F,D,C,F,D,C,F,D,...  \n",
       "4  G#,G,G,G#,G,G#,G,A#,C,G#,G,G#,G,G#,G,A#,C,C,G#...  "
      ]
     },
     "execution_count": 183,
     "metadata": {},
     "output_type": "execute_result"
    }
   ],
   "source": [
    "df.head(5)"
   ]
  },
  {
   "cell_type": "code",
   "execution_count": 184,
   "id": "95eec001-14ee-4eb6-a6e4-7544d2623cbf",
   "metadata": {},
   "outputs": [
    {
     "data": {
      "text/plain": [
       "4753"
      ]
     },
     "execution_count": 184,
     "metadata": {},
     "output_type": "execute_result"
    }
   ],
   "source": [
    "chordsDF = createDFCountChordsPerSong(df)\n",
    "len(chordsDF)"
   ]
  },
  {
   "cell_type": "code",
   "execution_count": 185,
   "id": "bdb37d6b-c440-424e-8501-c2b9882a8f56",
   "metadata": {},
   "outputs": [],
   "source": [
    "## Bringing Dataframes\n",
    "spotifyFeatures, transitionMatrices, df = loadDataFrames()"
   ]
  },
  {
   "cell_type": "code",
   "execution_count": 186,
   "id": "62d23df1-55b5-48b0-86c7-58c81fae4aaf",
   "metadata": {},
   "outputs": [],
   "source": [
    "## Merging spotify information with chords\n",
    "spChords = spotifyFeatures.merge(chordsDF, left_index=True, right_index=True)"
   ]
  },
  {
   "cell_type": "code",
   "execution_count": 187,
   "id": "8e884094-bd8b-44c4-9ed3-debc844ff860",
   "metadata": {},
   "outputs": [],
   "source": [
    "# Getting final list of songs\n",
    "chordsDF = spChords[listKeys]\n",
    "# Exluding the id chord\n",
    "onlyChords = chordsDF.iloc[:,0:-1]"
   ]
  },
  {
   "cell_type": "code",
   "execution_count": 210,
   "id": "a77bf3ab-cd37-4a2a-92a6-db72c4a6052c",
   "metadata": {},
   "outputs": [
    {
     "data": {
      "application/vnd.plotly.v1+json": {
       "config": {
        "plotlyServerURL": "https://plot.ly"
       },
       "data": [
        {
         "alignmentgroup": "True",
         "hovertemplate": "chords=%{x}<br>count=%{y}<extra></extra>",
         "legendgroup": "",
         "marker": {
          "color": "#636efa",
          "pattern": {
           "shape": ""
          }
         },
         "name": "",
         "offsetgroup": "",
         "orientation": "v",
         "showlegend": false,
         "textposition": "auto",
         "type": "bar",
         "x": [
          "C",
          "C#",
          "C#dim",
          "C#m",
          "Cdim",
          "Cm",
          "D",
          "D#",
          "D#dim",
          "D#m",
          "Ddim",
          "Dm",
          "E",
          "Edim",
          "Em",
          "F",
          "F#",
          "F#dim",
          "F#m",
          "Fdim",
          "Fm",
          "G",
          "G#",
          "G#dim",
          "G#m",
          "Gdim",
          "Gm",
          "A",
          "A#",
          "A#dim",
          "A#m",
          "Adim",
          "Am",
          "B",
          "Bdim"
         ],
         "xaxis": "x",
         "y": [
          78415,
          623,
          41,
          147,
          9,
          861,
          5812,
          1836,
          31,
          312,
          19,
          22341,
          5667,
          9,
          13601,
          70698,
          600,
          72,
          304,
          37,
          1879,
          73657,
          1319,
          114,
          90,
          0,
          938,
          3964,
          3995,
          23,
          236,
          5,
          49097,
          1345,
          67
         ],
         "yaxis": "y"
        }
       ],
       "layout": {
        "autosize": true,
        "barmode": "relative",
        "legend": {
         "tracegroupgap": 0
        },
        "template": {
         "data": {
          "bar": [
           {
            "error_x": {
             "color": "#2a3f5f"
            },
            "error_y": {
             "color": "#2a3f5f"
            },
            "marker": {
             "line": {
              "color": "white",
              "width": 0.5
             },
             "pattern": {
              "fillmode": "overlay",
              "size": 10,
              "solidity": 0.2
             }
            },
            "type": "bar"
           }
          ],
          "barpolar": [
           {
            "marker": {
             "line": {
              "color": "white",
              "width": 0.5
             },
             "pattern": {
              "fillmode": "overlay",
              "size": 10,
              "solidity": 0.2
             }
            },
            "type": "barpolar"
           }
          ],
          "carpet": [
           {
            "aaxis": {
             "endlinecolor": "#2a3f5f",
             "gridcolor": "#C8D4E3",
             "linecolor": "#C8D4E3",
             "minorgridcolor": "#C8D4E3",
             "startlinecolor": "#2a3f5f"
            },
            "baxis": {
             "endlinecolor": "#2a3f5f",
             "gridcolor": "#C8D4E3",
             "linecolor": "#C8D4E3",
             "minorgridcolor": "#C8D4E3",
             "startlinecolor": "#2a3f5f"
            },
            "type": "carpet"
           }
          ],
          "choropleth": [
           {
            "colorbar": {
             "outlinewidth": 0,
             "ticks": ""
            },
            "type": "choropleth"
           }
          ],
          "contour": [
           {
            "colorbar": {
             "outlinewidth": 0,
             "ticks": ""
            },
            "colorscale": [
             [
              0,
              "#0d0887"
             ],
             [
              0.1111111111111111,
              "#46039f"
             ],
             [
              0.2222222222222222,
              "#7201a8"
             ],
             [
              0.3333333333333333,
              "#9c179e"
             ],
             [
              0.4444444444444444,
              "#bd3786"
             ],
             [
              0.5555555555555556,
              "#d8576b"
             ],
             [
              0.6666666666666666,
              "#ed7953"
             ],
             [
              0.7777777777777778,
              "#fb9f3a"
             ],
             [
              0.8888888888888888,
              "#fdca26"
             ],
             [
              1,
              "#f0f921"
             ]
            ],
            "type": "contour"
           }
          ],
          "contourcarpet": [
           {
            "colorbar": {
             "outlinewidth": 0,
             "ticks": ""
            },
            "type": "contourcarpet"
           }
          ],
          "heatmap": [
           {
            "colorbar": {
             "outlinewidth": 0,
             "ticks": ""
            },
            "colorscale": [
             [
              0,
              "#0d0887"
             ],
             [
              0.1111111111111111,
              "#46039f"
             ],
             [
              0.2222222222222222,
              "#7201a8"
             ],
             [
              0.3333333333333333,
              "#9c179e"
             ],
             [
              0.4444444444444444,
              "#bd3786"
             ],
             [
              0.5555555555555556,
              "#d8576b"
             ],
             [
              0.6666666666666666,
              "#ed7953"
             ],
             [
              0.7777777777777778,
              "#fb9f3a"
             ],
             [
              0.8888888888888888,
              "#fdca26"
             ],
             [
              1,
              "#f0f921"
             ]
            ],
            "type": "heatmap"
           }
          ],
          "heatmapgl": [
           {
            "colorbar": {
             "outlinewidth": 0,
             "ticks": ""
            },
            "colorscale": [
             [
              0,
              "#0d0887"
             ],
             [
              0.1111111111111111,
              "#46039f"
             ],
             [
              0.2222222222222222,
              "#7201a8"
             ],
             [
              0.3333333333333333,
              "#9c179e"
             ],
             [
              0.4444444444444444,
              "#bd3786"
             ],
             [
              0.5555555555555556,
              "#d8576b"
             ],
             [
              0.6666666666666666,
              "#ed7953"
             ],
             [
              0.7777777777777778,
              "#fb9f3a"
             ],
             [
              0.8888888888888888,
              "#fdca26"
             ],
             [
              1,
              "#f0f921"
             ]
            ],
            "type": "heatmapgl"
           }
          ],
          "histogram": [
           {
            "marker": {
             "pattern": {
              "fillmode": "overlay",
              "size": 10,
              "solidity": 0.2
             }
            },
            "type": "histogram"
           }
          ],
          "histogram2d": [
           {
            "colorbar": {
             "outlinewidth": 0,
             "ticks": ""
            },
            "colorscale": [
             [
              0,
              "#0d0887"
             ],
             [
              0.1111111111111111,
              "#46039f"
             ],
             [
              0.2222222222222222,
              "#7201a8"
             ],
             [
              0.3333333333333333,
              "#9c179e"
             ],
             [
              0.4444444444444444,
              "#bd3786"
             ],
             [
              0.5555555555555556,
              "#d8576b"
             ],
             [
              0.6666666666666666,
              "#ed7953"
             ],
             [
              0.7777777777777778,
              "#fb9f3a"
             ],
             [
              0.8888888888888888,
              "#fdca26"
             ],
             [
              1,
              "#f0f921"
             ]
            ],
            "type": "histogram2d"
           }
          ],
          "histogram2dcontour": [
           {
            "colorbar": {
             "outlinewidth": 0,
             "ticks": ""
            },
            "colorscale": [
             [
              0,
              "#0d0887"
             ],
             [
              0.1111111111111111,
              "#46039f"
             ],
             [
              0.2222222222222222,
              "#7201a8"
             ],
             [
              0.3333333333333333,
              "#9c179e"
             ],
             [
              0.4444444444444444,
              "#bd3786"
             ],
             [
              0.5555555555555556,
              "#d8576b"
             ],
             [
              0.6666666666666666,
              "#ed7953"
             ],
             [
              0.7777777777777778,
              "#fb9f3a"
             ],
             [
              0.8888888888888888,
              "#fdca26"
             ],
             [
              1,
              "#f0f921"
             ]
            ],
            "type": "histogram2dcontour"
           }
          ],
          "mesh3d": [
           {
            "colorbar": {
             "outlinewidth": 0,
             "ticks": ""
            },
            "type": "mesh3d"
           }
          ],
          "parcoords": [
           {
            "line": {
             "colorbar": {
              "outlinewidth": 0,
              "ticks": ""
             }
            },
            "type": "parcoords"
           }
          ],
          "pie": [
           {
            "automargin": true,
            "type": "pie"
           }
          ],
          "scatter": [
           {
            "fillpattern": {
             "fillmode": "overlay",
             "size": 10,
             "solidity": 0.2
            },
            "type": "scatter"
           }
          ],
          "scatter3d": [
           {
            "line": {
             "colorbar": {
              "outlinewidth": 0,
              "ticks": ""
             }
            },
            "marker": {
             "colorbar": {
              "outlinewidth": 0,
              "ticks": ""
             }
            },
            "type": "scatter3d"
           }
          ],
          "scattercarpet": [
           {
            "marker": {
             "colorbar": {
              "outlinewidth": 0,
              "ticks": ""
             }
            },
            "type": "scattercarpet"
           }
          ],
          "scattergeo": [
           {
            "marker": {
             "colorbar": {
              "outlinewidth": 0,
              "ticks": ""
             }
            },
            "type": "scattergeo"
           }
          ],
          "scattergl": [
           {
            "marker": {
             "colorbar": {
              "outlinewidth": 0,
              "ticks": ""
             }
            },
            "type": "scattergl"
           }
          ],
          "scattermapbox": [
           {
            "marker": {
             "colorbar": {
              "outlinewidth": 0,
              "ticks": ""
             }
            },
            "type": "scattermapbox"
           }
          ],
          "scatterpolar": [
           {
            "marker": {
             "colorbar": {
              "outlinewidth": 0,
              "ticks": ""
             }
            },
            "type": "scatterpolar"
           }
          ],
          "scatterpolargl": [
           {
            "marker": {
             "colorbar": {
              "outlinewidth": 0,
              "ticks": ""
             }
            },
            "type": "scatterpolargl"
           }
          ],
          "scatterternary": [
           {
            "marker": {
             "colorbar": {
              "outlinewidth": 0,
              "ticks": ""
             }
            },
            "type": "scatterternary"
           }
          ],
          "surface": [
           {
            "colorbar": {
             "outlinewidth": 0,
             "ticks": ""
            },
            "colorscale": [
             [
              0,
              "#0d0887"
             ],
             [
              0.1111111111111111,
              "#46039f"
             ],
             [
              0.2222222222222222,
              "#7201a8"
             ],
             [
              0.3333333333333333,
              "#9c179e"
             ],
             [
              0.4444444444444444,
              "#bd3786"
             ],
             [
              0.5555555555555556,
              "#d8576b"
             ],
             [
              0.6666666666666666,
              "#ed7953"
             ],
             [
              0.7777777777777778,
              "#fb9f3a"
             ],
             [
              0.8888888888888888,
              "#fdca26"
             ],
             [
              1,
              "#f0f921"
             ]
            ],
            "type": "surface"
           }
          ],
          "table": [
           {
            "cells": {
             "fill": {
              "color": "#EBF0F8"
             },
             "line": {
              "color": "white"
             }
            },
            "header": {
             "fill": {
              "color": "#C8D4E3"
             },
             "line": {
              "color": "white"
             }
            },
            "type": "table"
           }
          ]
         },
         "layout": {
          "annotationdefaults": {
           "arrowcolor": "#2a3f5f",
           "arrowhead": 0,
           "arrowwidth": 1
          },
          "autotypenumbers": "strict",
          "coloraxis": {
           "colorbar": {
            "outlinewidth": 0,
            "ticks": ""
           }
          },
          "colorscale": {
           "diverging": [
            [
             0,
             "#8e0152"
            ],
            [
             0.1,
             "#c51b7d"
            ],
            [
             0.2,
             "#de77ae"
            ],
            [
             0.3,
             "#f1b6da"
            ],
            [
             0.4,
             "#fde0ef"
            ],
            [
             0.5,
             "#f7f7f7"
            ],
            [
             0.6,
             "#e6f5d0"
            ],
            [
             0.7,
             "#b8e186"
            ],
            [
             0.8,
             "#7fbc41"
            ],
            [
             0.9,
             "#4d9221"
            ],
            [
             1,
             "#276419"
            ]
           ],
           "sequential": [
            [
             0,
             "#0d0887"
            ],
            [
             0.1111111111111111,
             "#46039f"
            ],
            [
             0.2222222222222222,
             "#7201a8"
            ],
            [
             0.3333333333333333,
             "#9c179e"
            ],
            [
             0.4444444444444444,
             "#bd3786"
            ],
            [
             0.5555555555555556,
             "#d8576b"
            ],
            [
             0.6666666666666666,
             "#ed7953"
            ],
            [
             0.7777777777777778,
             "#fb9f3a"
            ],
            [
             0.8888888888888888,
             "#fdca26"
            ],
            [
             1,
             "#f0f921"
            ]
           ],
           "sequentialminus": [
            [
             0,
             "#0d0887"
            ],
            [
             0.1111111111111111,
             "#46039f"
            ],
            [
             0.2222222222222222,
             "#7201a8"
            ],
            [
             0.3333333333333333,
             "#9c179e"
            ],
            [
             0.4444444444444444,
             "#bd3786"
            ],
            [
             0.5555555555555556,
             "#d8576b"
            ],
            [
             0.6666666666666666,
             "#ed7953"
            ],
            [
             0.7777777777777778,
             "#fb9f3a"
            ],
            [
             0.8888888888888888,
             "#fdca26"
            ],
            [
             1,
             "#f0f921"
            ]
           ]
          },
          "colorway": [
           "#636efa",
           "#EF553B",
           "#00cc96",
           "#ab63fa",
           "#FFA15A",
           "#19d3f3",
           "#FF6692",
           "#B6E880",
           "#FF97FF",
           "#FECB52"
          ],
          "font": {
           "color": "#2a3f5f"
          },
          "geo": {
           "bgcolor": "white",
           "lakecolor": "white",
           "landcolor": "white",
           "showlakes": true,
           "showland": true,
           "subunitcolor": "#C8D4E3"
          },
          "hoverlabel": {
           "align": "left"
          },
          "hovermode": "closest",
          "mapbox": {
           "style": "light"
          },
          "paper_bgcolor": "white",
          "plot_bgcolor": "white",
          "polar": {
           "angularaxis": {
            "gridcolor": "#EBF0F8",
            "linecolor": "#EBF0F8",
            "ticks": ""
           },
           "bgcolor": "white",
           "radialaxis": {
            "gridcolor": "#EBF0F8",
            "linecolor": "#EBF0F8",
            "ticks": ""
           }
          },
          "scene": {
           "xaxis": {
            "backgroundcolor": "white",
            "gridcolor": "#DFE8F3",
            "gridwidth": 2,
            "linecolor": "#EBF0F8",
            "showbackground": true,
            "ticks": "",
            "zerolinecolor": "#EBF0F8"
           },
           "yaxis": {
            "backgroundcolor": "white",
            "gridcolor": "#DFE8F3",
            "gridwidth": 2,
            "linecolor": "#EBF0F8",
            "showbackground": true,
            "ticks": "",
            "zerolinecolor": "#EBF0F8"
           },
           "zaxis": {
            "backgroundcolor": "white",
            "gridcolor": "#DFE8F3",
            "gridwidth": 2,
            "linecolor": "#EBF0F8",
            "showbackground": true,
            "ticks": "",
            "zerolinecolor": "#EBF0F8"
           }
          },
          "shapedefaults": {
           "line": {
            "color": "#2a3f5f"
           }
          },
          "ternary": {
           "aaxis": {
            "gridcolor": "#DFE8F3",
            "linecolor": "#A2B1C6",
            "ticks": ""
           },
           "baxis": {
            "gridcolor": "#DFE8F3",
            "linecolor": "#A2B1C6",
            "ticks": ""
           },
           "bgcolor": "white",
           "caxis": {
            "gridcolor": "#DFE8F3",
            "linecolor": "#A2B1C6",
            "ticks": ""
           }
          },
          "title": {
           "x": 0.05
          },
          "xaxis": {
           "automargin": true,
           "gridcolor": "#EBF0F8",
           "linecolor": "#EBF0F8",
           "ticks": "",
           "title": {
            "standoff": 15
           },
           "zerolinecolor": "#EBF0F8",
           "zerolinewidth": 2
          },
          "yaxis": {
           "automargin": true,
           "gridcolor": "#EBF0F8",
           "linecolor": "#EBF0F8",
           "ticks": "",
           "title": {
            "standoff": 15
           },
           "zerolinecolor": "#EBF0F8",
           "zerolinewidth": 2
          }
         }
        },
        "title": {
         "text": "Histogra"
        },
        "xaxis": {
         "anchor": "y",
         "autorange": true,
         "domain": [
          0,
          1
         ],
         "range": [
          -0.5,
          34.5
         ],
         "title": {
          "text": "chords"
         },
         "type": "category"
        },
        "yaxis": {
         "anchor": "x",
         "autorange": true,
         "domain": [
          0,
          1
         ],
         "range": [
          0,
          82542.1052631579
         ],
         "title": {
          "text": "count"
         },
         "type": "linear"
        }
       }
      },
      "image/png": "[encoded data removed]",
      "text/html": [
       "<div>                            <div id=\"67e53184-a44c-4a2c-9f40-076d9b6c01d8\" class=\"plotly-graph-div\" style=\"height:525px; width:100%;\"></div>            <script type=\"text/javascript\">                require([\"plotly\"], function(Plotly) {                    window.PLOTLYENV=window.PLOTLYENV || {};                                    if (document.getElementById(\"67e53184-a44c-4a2c-9f40-076d9b6c01d8\")) {                    Plotly.newPlot(                        \"67e53184-a44c-4a2c-9f40-076d9b6c01d8\",                        [{\"alignmentgroup\":\"True\",\"hovertemplate\":\"chords=%{x}<br>count=%{y}<extra></extra>\",\"legendgroup\":\"\",\"marker\":{\"color\":\"#636efa\",\"pattern\":{\"shape\":\"\"}},\"name\":\"\",\"offsetgroup\":\"\",\"orientation\":\"v\",\"showlegend\":false,\"textposition\":\"auto\",\"x\":[\"C\",\"C#\",\"C#dim\",\"C#m\",\"Cdim\",\"Cm\",\"D\",\"D#\",\"D#dim\",\"D#m\",\"Ddim\",\"Dm\",\"E\",\"Edim\",\"Em\",\"F\",\"F#\",\"F#dim\",\"F#m\",\"Fdim\",\"Fm\",\"G\",\"G#\",\"G#dim\",\"G#m\",\"Gdim\",\"Gm\",\"A\",\"A#\",\"A#dim\",\"A#m\",\"Adim\",\"Am\",\"B\",\"Bdim\"],\"xaxis\":\"x\",\"y\":[78415,623,41,147,9,861,5812,1836,31,312,19,22341,5667,9,13601,70698,600,72,304,37,1879,73657,1319,114,90,0,938,3964,3995,23,236,5,49097,1345,67],\"yaxis\":\"y\",\"type\":\"bar\"}],                        {\"template\":{\"data\":{\"barpolar\":[{\"marker\":{\"line\":{\"color\":\"white\",\"width\":0.5},\"pattern\":{\"fillmode\":\"overlay\",\"size\":10,\"solidity\":0.2}},\"type\":\"barpolar\"}],\"bar\":[{\"error_x\":{\"color\":\"#2a3f5f\"},\"error_y\":{\"color\":\"#2a3f5f\"},\"marker\":{\"line\":{\"color\":\"white\",\"width\":0.5},\"pattern\":{\"fillmode\":\"overlay\",\"size\":10,\"solidity\":0.2}},\"type\":\"bar\"}],\"carpet\":[{\"aaxis\":{\"endlinecolor\":\"#2a3f5f\",\"gridcolor\":\"#C8D4E3\",\"linecolor\":\"#C8D4E3\",\"minorgridcolor\":\"#C8D4E3\",\"startlinecolor\":\"#2a3f5f\"},\"baxis\":{\"endlinecolor\":\"#2a3f5f\",\"gridcolor\":\"#C8D4E3\",\"linecolor\":\"#C8D4E3\",\"minorgridcolor\":\"#C8D4E3\",\"startlinecolor\":\"#2a3f5f\"},\"type\":\"carpet\"}],\"choropleth\":[{\"colorbar\":{\"outlinewidth\":0,\"ticks\":\"\"},\"type\":\"choropleth\"}],\"contourcarpet\":[{\"colorbar\":{\"outlinewidth\":0,\"ticks\":\"\"},\"type\":\"contourcarpet\"}],\"contour\":[{\"colorbar\":{\"outlinewidth\":0,\"ticks\":\"\"},\"colorscale\":[[0.0,\"#0d0887\"],[0.1111111111111111,\"#46039f\"],[0.2222222222222222,\"#7201a8\"],[0.3333333333333333,\"#9c179e\"],[0.4444444444444444,\"#bd3786\"],[0.5555555555555556,\"#d8576b\"],[0.6666666666666666,\"#ed7953\"],[0.7777777777777778,\"#fb9f3a\"],[0.8888888888888888,\"#fdca26\"],[1.0,\"#f0f921\"]],\"type\":\"contour\"}],\"heatmapgl\":[{\"colorbar\":{\"outlinewidth\":0,\"ticks\":\"\"},\"colorscale\":[[0.0,\"#0d0887\"],[0.1111111111111111,\"#46039f\"],[0.2222222222222222,\"#7201a8\"],[0.3333333333333333,\"#9c179e\"],[0.4444444444444444,\"#bd3786\"],[0.5555555555555556,\"#d8576b\"],[0.6666666666666666,\"#ed7953\"],[0.7777777777777778,\"#fb9f3a\"],[0.8888888888888888,\"#fdca26\"],[1.0,\"#f0f921\"]],\"type\":\"heatmapgl\"}],\"heatmap\":[{\"colorbar\":{\"outlinewidth\":0,\"ticks\":\"\"},\"colorscale\":[[0.0,\"#0d0887\"],[0.1111111111111111,\"#46039f\"],[0.2222222222222222,\"#7201a8\"],[0.3333333333333333,\"#9c179e\"],[0.4444444444444444,\"#bd3786\"],[0.5555555555555556,\"#d8576b\"],[0.6666666666666666,\"#ed7953\"],[0.7777777777777778,\"#fb9f3a\"],[0.8888888888888888,\"#fdca26\"],[1.0,\"#f0f921\"]],\"type\":\"heatmap\"}],\"histogram2dcontour\":[{\"colorbar\":{\"outlinewidth\":0,\"ticks\":\"\"},\"colorscale\":[[0.0,\"#0d0887\"],[0.1111111111111111,\"#46039f\"],[0.2222222222222222,\"#7201a8\"],[0.3333333333333333,\"#9c179e\"],[0.4444444444444444,\"#bd3786\"],[0.5555555555555556,\"#d8576b\"],[0.6666666666666666,\"#ed7953\"],[0.7777777777777778,\"#fb9f3a\"],[0.8888888888888888,\"#fdca26\"],[1.0,\"#f0f921\"]],\"type\":\"histogram2dcontour\"}],\"histogram2d\":[{\"colorbar\":{\"outlinewidth\":0,\"ticks\":\"\"},\"colorscale\":[[0.0,\"#0d0887\"],[0.1111111111111111,\"#46039f\"],[0.2222222222222222,\"#7201a8\"],[0.3333333333333333,\"#9c179e\"],[0.4444444444444444,\"#bd3786\"],[0.5555555555555556,\"#d8576b\"],[0.6666666666666666,\"#ed7953\"],[0.7777777777777778,\"#fb9f3a\"],[0.8888888888888888,\"#fdca26\"],[1.0,\"#f0f921\"]],\"type\":\"histogram2d\"}],\"histogram\":[{\"marker\":{\"pattern\":{\"fillmode\":\"overlay\",\"size\":10,\"solidity\":0.2}},\"type\":\"histogram\"}],\"mesh3d\":[{\"colorbar\":{\"outlinewidth\":0,\"ticks\":\"\"},\"type\":\"mesh3d\"}],\"parcoords\":[{\"line\":{\"colorbar\":{\"outlinewidth\":0,\"ticks\":\"\"}},\"type\":\"parcoords\"}],\"pie\":[{\"automargin\":true,\"type\":\"pie\"}],\"scatter3d\":[{\"line\":{\"colorbar\":{\"outlinewidth\":0,\"ticks\":\"\"}},\"marker\":{\"colorbar\":{\"outlinewidth\":0,\"ticks\":\"\"}},\"type\":\"scatter3d\"}],\"scattercarpet\":[{\"marker\":{\"colorbar\":{\"outlinewidth\":0,\"ticks\":\"\"}},\"type\":\"scattercarpet\"}],\"scattergeo\":[{\"marker\":{\"colorbar\":{\"outlinewidth\":0,\"ticks\":\"\"}},\"type\":\"scattergeo\"}],\"scattergl\":[{\"marker\":{\"colorbar\":{\"outlinewidth\":0,\"ticks\":\"\"}},\"type\":\"scattergl\"}],\"scattermapbox\":[{\"marker\":{\"colorbar\":{\"outlinewidth\":0,\"ticks\":\"\"}},\"type\":\"scattermapbox\"}],\"scatterpolargl\":[{\"marker\":{\"colorbar\":{\"outlinewidth\":0,\"ticks\":\"\"}},\"type\":\"scatterpolargl\"}],\"scatterpolar\":[{\"marker\":{\"colorbar\":{\"outlinewidth\":0,\"ticks\":\"\"}},\"type\":\"scatterpolar\"}],\"scatter\":[{\"fillpattern\":{\"fillmode\":\"overlay\",\"size\":10,\"solidity\":0.2},\"type\":\"scatter\"}],\"scatterternary\":[{\"marker\":{\"colorbar\":{\"outlinewidth\":0,\"ticks\":\"\"}},\"type\":\"scatterternary\"}],\"surface\":[{\"colorbar\":{\"outlinewidth\":0,\"ticks\":\"\"},\"colorscale\":[[0.0,\"#0d0887\"],[0.1111111111111111,\"#46039f\"],[0.2222222222222222,\"#7201a8\"],[0.3333333333333333,\"#9c179e\"],[0.4444444444444444,\"#bd3786\"],[0.5555555555555556,\"#d8576b\"],[0.6666666666666666,\"#ed7953\"],[0.7777777777777778,\"#fb9f3a\"],[0.8888888888888888,\"#fdca26\"],[1.0,\"#f0f921\"]],\"type\":\"surface\"}],\"table\":[{\"cells\":{\"fill\":{\"color\":\"#EBF0F8\"},\"line\":{\"color\":\"white\"}},\"header\":{\"fill\":{\"color\":\"#C8D4E3\"},\"line\":{\"color\":\"white\"}},\"type\":\"table\"}]},\"layout\":{\"annotationdefaults\":{\"arrowcolor\":\"#2a3f5f\",\"arrowhead\":0,\"arrowwidth\":1},\"autotypenumbers\":\"strict\",\"coloraxis\":{\"colorbar\":{\"outlinewidth\":0,\"ticks\":\"\"}},\"colorscale\":{\"diverging\":[[0,\"#8e0152\"],[0.1,\"#c51b7d\"],[0.2,\"#de77ae\"],[0.3,\"#f1b6da\"],[0.4,\"#fde0ef\"],[0.5,\"#f7f7f7\"],[0.6,\"#e6f5d0\"],[0.7,\"#b8e186\"],[0.8,\"#7fbc41\"],[0.9,\"#4d9221\"],[1,\"#276419\"]],\"sequential\":[[0.0,\"#0d0887\"],[0.1111111111111111,\"#46039f\"],[0.2222222222222222,\"#7201a8\"],[0.3333333333333333,\"#9c179e\"],[0.4444444444444444,\"#bd3786\"],[0.5555555555555556,\"#d8576b\"],[0.6666666666666666,\"#ed7953\"],[0.7777777777777778,\"#fb9f3a\"],[0.8888888888888888,\"#fdca26\"],[1.0,\"#f0f921\"]],\"sequentialminus\":[[0.0,\"#0d0887\"],[0.1111111111111111,\"#46039f\"],[0.2222222222222222,\"#7201a8\"],[0.3333333333333333,\"#9c179e\"],[0.4444444444444444,\"#bd3786\"],[0.5555555555555556,\"#d8576b\"],[0.6666666666666666,\"#ed7953\"],[0.7777777777777778,\"#fb9f3a\"],[0.8888888888888888,\"#fdca26\"],[1.0,\"#f0f921\"]]},\"colorway\":[\"#636efa\",\"#EF553B\",\"#00cc96\",\"#ab63fa\",\"#FFA15A\",\"#19d3f3\",\"#FF6692\",\"#B6E880\",\"#FF97FF\",\"#FECB52\"],\"font\":{\"color\":\"#2a3f5f\"},\"geo\":{\"bgcolor\":\"white\",\"lakecolor\":\"white\",\"landcolor\":\"white\",\"showlakes\":true,\"showland\":true,\"subunitcolor\":\"#C8D4E3\"},\"hoverlabel\":{\"align\":\"left\"},\"hovermode\":\"closest\",\"mapbox\":{\"style\":\"light\"},\"paper_bgcolor\":\"white\",\"plot_bgcolor\":\"white\",\"polar\":{\"angularaxis\":{\"gridcolor\":\"#EBF0F8\",\"linecolor\":\"#EBF0F8\",\"ticks\":\"\"},\"bgcolor\":\"white\",\"radialaxis\":{\"gridcolor\":\"#EBF0F8\",\"linecolor\":\"#EBF0F8\",\"ticks\":\"\"}},\"scene\":{\"xaxis\":{\"backgroundcolor\":\"white\",\"gridcolor\":\"#DFE8F3\",\"gridwidth\":2,\"linecolor\":\"#EBF0F8\",\"showbackground\":true,\"ticks\":\"\",\"zerolinecolor\":\"#EBF0F8\"},\"yaxis\":{\"backgroundcolor\":\"white\",\"gridcolor\":\"#DFE8F3\",\"gridwidth\":2,\"linecolor\":\"#EBF0F8\",\"showbackground\":true,\"ticks\":\"\",\"zerolinecolor\":\"#EBF0F8\"},\"zaxis\":{\"backgroundcolor\":\"white\",\"gridcolor\":\"#DFE8F3\",\"gridwidth\":2,\"linecolor\":\"#EBF0F8\",\"showbackground\":true,\"ticks\":\"\",\"zerolinecolor\":\"#EBF0F8\"}},\"shapedefaults\":{\"line\":{\"color\":\"#2a3f5f\"}},\"ternary\":{\"aaxis\":{\"gridcolor\":\"#DFE8F3\",\"linecolor\":\"#A2B1C6\",\"ticks\":\"\"},\"baxis\":{\"gridcolor\":\"#DFE8F3\",\"linecolor\":\"#A2B1C6\",\"ticks\":\"\"},\"bgcolor\":\"white\",\"caxis\":{\"gridcolor\":\"#DFE8F3\",\"linecolor\":\"#A2B1C6\",\"ticks\":\"\"}},\"title\":{\"x\":0.05},\"xaxis\":{\"automargin\":true,\"gridcolor\":\"#EBF0F8\",\"linecolor\":\"#EBF0F8\",\"ticks\":\"\",\"title\":{\"standoff\":15},\"zerolinecolor\":\"#EBF0F8\",\"zerolinewidth\":2},\"yaxis\":{\"automargin\":true,\"gridcolor\":\"#EBF0F8\",\"linecolor\":\"#EBF0F8\",\"ticks\":\"\",\"title\":{\"standoff\":15},\"zerolinecolor\":\"#EBF0F8\",\"zerolinewidth\":2}}},\"xaxis\":{\"anchor\":\"y\",\"domain\":[0.0,1.0],\"title\":{\"text\":\"chords\"}},\"yaxis\":{\"anchor\":\"x\",\"domain\":[0.0,1.0],\"title\":{\"text\":\"count\"}},\"legend\":{\"tracegroupgap\":0},\"title\":{\"text\":\"Histogra\"},\"barmode\":\"relative\"},                        {\"responsive\": true}                    ).then(function(){\n",
       "                            \n",
       "var gd = document.getElementById('67e53184-a44c-4a2c-9f40-076d9b6c01d8');\n",
       "var x = new MutationObserver(function (mutations, observer) {{\n",
       "        var display = window.getComputedStyle(gd).display;\n",
       "        if (!display || display === 'none') {{\n",
       "            console.log([gd, 'removed!']);\n",
       "            Plotly.purge(gd);\n",
       "            observer.disconnect();\n",
       "        }}\n",
       "}});\n",
       "\n",
       "// Listen for the removal of the full notebook cells\n",
       "var notebookContainer = gd.closest('#notebook-container');\n",
       "if (notebookContainer) {{\n",
       "    x.observe(notebookContainer, {childList: true});\n",
       "}}\n",
       "\n",
       "// Listen for the clearing of the current output cell\n",
       "var outputEl = gd.closest('.output');\n",
       "if (outputEl) {{\n",
       "    x.observe(outputEl, {childList: true});\n",
       "}}\n",
       "\n",
       "                        })                };                });            </script>        </div>"
      ]
     },
     "metadata": {},
     "output_type": "display_data"
    }
   ],
   "source": [
    "plotChords(onlyChords)"
   ]
  },
  {
   "cell_type": "code",
   "execution_count": 189,
   "id": "0d243ea2-ce04-46a6-8b1c-f22654015411",
   "metadata": {},
   "outputs": [],
   "source": [
    "# Merges listKeys columsn with key and mode columns\n",
    "keyModecolumns = ['key', 'mode']\n",
    "keyModecolumns.extend(listKeys)\n",
    "keyModeChords = spChords[keyModecolumns]"
   ]
  },
  {
   "cell_type": "code",
   "execution_count": 190,
   "id": "256beded-8490-41d4-a648-8a50ab48d328",
   "metadata": {},
   "outputs": [],
   "source": [
    "major = keyModeChords.loc[keyModeChords['mode'] == 1]\n",
    "minor = keyModeChords.loc[keyModeChords['mode'] == 0]\n",
    "\n",
    "#Excluding Key and Mode columns\n",
    "major = major.iloc[:, 2:]\n",
    "minor = minor.iloc[:, 2:]"
   ]
  },
  {
   "cell_type": "markdown",
   "id": "cf0ea956-15f7-4ecc-ae18-fd79bf4f5df2",
   "metadata": {},
   "source": [
    "### Plotting Major and Minor Chords"
   ]
  },
  {
   "cell_type": "code",
   "execution_count": 211,
   "id": "be34e95c-0b67-435a-9670-ae0dd8f378d7",
   "metadata": {},
   "outputs": [
    {
     "data": {
      "application/vnd.plotly.v1+json": {
       "config": {
        "plotlyServerURL": "https://plot.ly"
       },
       "data": [
        {
         "alignmentgroup": "True",
         "hovertemplate": "chords=%{x}<br>count=%{y}<extra></extra>",
         "legendgroup": "",
         "marker": {
          "color": "#636efa",
          "pattern": {
           "shape": ""
          }
         },
         "name": "",
         "offsetgroup": "",
         "orientation": "v",
         "showlegend": false,
         "textposition": "auto",
         "type": "bar",
         "x": [
          "C",
          "C#",
          "C#dim",
          "C#m",
          "Cdim",
          "Cm",
          "D",
          "D#",
          "D#dim",
          "D#m",
          "Ddim",
          "Dm",
          "E",
          "Edim",
          "Em",
          "F",
          "F#",
          "F#dim",
          "F#m",
          "Fdim",
          "Fm",
          "G",
          "G#",
          "G#dim",
          "G#m",
          "Gdim",
          "Gm",
          "A",
          "A#",
          "A#dim",
          "A#m",
          "Adim",
          "Am",
          "B",
          "Bdim",
          "Bm"
         ],
         "xaxis": "x",
         "y": [
          67416,
          507,
          39,
          73,
          5,
          617,
          4757,
          1464,
          19,
          250,
          12,
          15215,
          3127,
          2,
          9319,
          56565,
          441,
          66,
          251,
          33,
          1646,
          58600,
          1116,
          102,
          70,
          0,
          709,
          2494,
          3227,
          21,
          187,
          5,
          32959,
          683,
          36,
          496
         ],
         "yaxis": "y"
        }
       ],
       "layout": {
        "autosize": true,
        "barmode": "relative",
        "legend": {
         "tracegroupgap": 0
        },
        "template": {
         "data": {
          "bar": [
           {
            "error_x": {
             "color": "#2a3f5f"
            },
            "error_y": {
             "color": "#2a3f5f"
            },
            "marker": {
             "line": {
              "color": "white",
              "width": 0.5
             },
             "pattern": {
              "fillmode": "overlay",
              "size": 10,
              "solidity": 0.2
             }
            },
            "type": "bar"
           }
          ],
          "barpolar": [
           {
            "marker": {
             "line": {
              "color": "white",
              "width": 0.5
             },
             "pattern": {
              "fillmode": "overlay",
              "size": 10,
              "solidity": 0.2
             }
            },
            "type": "barpolar"
           }
          ],
          "carpet": [
           {
            "aaxis": {
             "endlinecolor": "#2a3f5f",
             "gridcolor": "#C8D4E3",
             "linecolor": "#C8D4E3",
             "minorgridcolor": "#C8D4E3",
             "startlinecolor": "#2a3f5f"
            },
            "baxis": {
             "endlinecolor": "#2a3f5f",
             "gridcolor": "#C8D4E3",
             "linecolor": "#C8D4E3",
             "minorgridcolor": "#C8D4E3",
             "startlinecolor": "#2a3f5f"
            },
            "type": "carpet"
           }
          ],
          "choropleth": [
           {
            "colorbar": {
             "outlinewidth": 0,
             "ticks": ""
            },
            "type": "choropleth"
           }
          ],
          "contour": [
           {
            "colorbar": {
             "outlinewidth": 0,
             "ticks": ""
            },
            "colorscale": [
             [
              0,
              "#0d0887"
             ],
             [
              0.1111111111111111,
              "#46039f"
             ],
             [
              0.2222222222222222,
              "#7201a8"
             ],
             [
              0.3333333333333333,
              "#9c179e"
             ],
             [
              0.4444444444444444,
              "#bd3786"
             ],
             [
              0.5555555555555556,
              "#d8576b"
             ],
             [
              0.6666666666666666,
              "#ed7953"
             ],
             [
              0.7777777777777778,
              "#fb9f3a"
             ],
             [
              0.8888888888888888,
              "#fdca26"
             ],
             [
              1,
              "#f0f921"
             ]
            ],
            "type": "contour"
           }
          ],
          "contourcarpet": [
           {
            "colorbar": {
             "outlinewidth": 0,
             "ticks": ""
            },
            "type": "contourcarpet"
           }
          ],
          "heatmap": [
           {
            "colorbar": {
             "outlinewidth": 0,
             "ticks": ""
            },
            "colorscale": [
             [
              0,
              "#0d0887"
             ],
             [
              0.1111111111111111,
              "#46039f"
             ],
             [
              0.2222222222222222,
              "#7201a8"
             ],
             [
              0.3333333333333333,
              "#9c179e"
             ],
             [
              0.4444444444444444,
              "#bd3786"
             ],
             [
              0.5555555555555556,
              "#d8576b"
             ],
             [
              0.6666666666666666,
              "#ed7953"
             ],
             [
              0.7777777777777778,
              "#fb9f3a"
             ],
             [
              0.8888888888888888,
              "#fdca26"
             ],
             [
              1,
              "#f0f921"
             ]
            ],
            "type": "heatmap"
           }
          ],
          "heatmapgl": [
           {
            "colorbar": {
             "outlinewidth": 0,
             "ticks": ""
            },
            "colorscale": [
             [
              0,
              "#0d0887"
             ],
             [
              0.1111111111111111,
              "#46039f"
             ],
             [
              0.2222222222222222,
              "#7201a8"
             ],
             [
              0.3333333333333333,
              "#9c179e"
             ],
             [
              0.4444444444444444,
              "#bd3786"
             ],
             [
              0.5555555555555556,
              "#d8576b"
             ],
             [
              0.6666666666666666,
              "#ed7953"
             ],
             [
              0.7777777777777778,
              "#fb9f3a"
             ],
             [
              0.8888888888888888,
              "#fdca26"
             ],
             [
              1,
              "#f0f921"
             ]
            ],
            "type": "heatmapgl"
           }
          ],
          "histogram": [
           {
            "marker": {
             "pattern": {
              "fillmode": "overlay",
              "size": 10,
              "solidity": 0.2
             }
            },
            "type": "histogram"
           }
          ],
          "histogram2d": [
           {
            "colorbar": {
             "outlinewidth": 0,
             "ticks": ""
            },
            "colorscale": [
             [
              0,
              "#0d0887"
             ],
             [
              0.1111111111111111,
              "#46039f"
             ],
             [
              0.2222222222222222,
              "#7201a8"
             ],
             [
              0.3333333333333333,
              "#9c179e"
             ],
             [
              0.4444444444444444,
              "#bd3786"
             ],
             [
              0.5555555555555556,
              "#d8576b"
             ],
             [
              0.6666666666666666,
              "#ed7953"
             ],
             [
              0.7777777777777778,
              "#fb9f3a"
             ],
             [
              0.8888888888888888,
              "#fdca26"
             ],
             [
              1,
              "#f0f921"
             ]
            ],
            "type": "histogram2d"
           }
          ],
          "histogram2dcontour": [
           {
            "colorbar": {
             "outlinewidth": 0,
             "ticks": ""
            },
            "colorscale": [
             [
              0,
              "#0d0887"
             ],
             [
              0.1111111111111111,
              "#46039f"
             ],
             [
              0.2222222222222222,
              "#7201a8"
             ],
             [
              0.3333333333333333,
              "#9c179e"
             ],
             [
              0.4444444444444444,
              "#bd3786"
             ],
             [
              0.5555555555555556,
              "#d8576b"
             ],
             [
              0.6666666666666666,
              "#ed7953"
             ],
             [
              0.7777777777777778,
              "#fb9f3a"
             ],
             [
              0.8888888888888888,
              "#fdca26"
             ],
             [
              1,
              "#f0f921"
             ]
            ],
            "type": "histogram2dcontour"
           }
          ],
          "mesh3d": [
           {
            "colorbar": {
             "outlinewidth": 0,
             "ticks": ""
            },
            "type": "mesh3d"
           }
          ],
          "parcoords": [
           {
            "line": {
             "colorbar": {
              "outlinewidth": 0,
              "ticks": ""
             }
            },
            "type": "parcoords"
           }
          ],
          "pie": [
           {
            "automargin": true,
            "type": "pie"
           }
          ],
          "scatter": [
           {
            "fillpattern": {
             "fillmode": "overlay",
             "size": 10,
             "solidity": 0.2
            },
            "type": "scatter"
           }
          ],
          "scatter3d": [
           {
            "line": {
             "colorbar": {
              "outlinewidth": 0,
              "ticks": ""
             }
            },
            "marker": {
             "colorbar": {
              "outlinewidth": 0,
              "ticks": ""
             }
            },
            "type": "scatter3d"
           }
          ],
          "scattercarpet": [
           {
            "marker": {
             "colorbar": {
              "outlinewidth": 0,
              "ticks": ""
             }
            },
            "type": "scattercarpet"
           }
          ],
          "scattergeo": [
           {
            "marker": {
             "colorbar": {
              "outlinewidth": 0,
              "ticks": ""
             }
            },
            "type": "scattergeo"
           }
          ],
          "scattergl": [
           {
            "marker": {
             "colorbar": {
              "outlinewidth": 0,
              "ticks": ""
             }
            },
            "type": "scattergl"
           }
          ],
          "scattermapbox": [
           {
            "marker": {
             "colorbar": {
              "outlinewidth": 0,
              "ticks": ""
             }
            },
            "type": "scattermapbox"
           }
          ],
          "scatterpolar": [
           {
            "marker": {
             "colorbar": {
              "outlinewidth": 0,
              "ticks": ""
             }
            },
            "type": "scatterpolar"
           }
          ],
          "scatterpolargl": [
           {
            "marker": {
             "colorbar": {
              "outlinewidth": 0,
              "ticks": ""
             }
            },
            "type": "scatterpolargl"
           }
          ],
          "scatterternary": [
           {
            "marker": {
             "colorbar": {
              "outlinewidth": 0,
              "ticks": ""
             }
            },
            "type": "scatterternary"
           }
          ],
          "surface": [
           {
            "colorbar": {
             "outlinewidth": 0,
             "ticks": ""
            },
            "colorscale": [
             [
              0,
              "#0d0887"
             ],
             [
              0.1111111111111111,
              "#46039f"
             ],
             [
              0.2222222222222222,
              "#7201a8"
             ],
             [
              0.3333333333333333,
              "#9c179e"
             ],
             [
              0.4444444444444444,
              "#bd3786"
             ],
             [
              0.5555555555555556,
              "#d8576b"
             ],
             [
              0.6666666666666666,
              "#ed7953"
             ],
             [
              0.7777777777777778,
              "#fb9f3a"
             ],
             [
              0.8888888888888888,
              "#fdca26"
             ],
             [
              1,
              "#f0f921"
             ]
            ],
            "type": "surface"
           }
          ],
          "table": [
           {
            "cells": {
             "fill": {
              "color": "#EBF0F8"
             },
             "line": {
              "color": "white"
             }
            },
            "header": {
             "fill": {
              "color": "#C8D4E3"
             },
             "line": {
              "color": "white"
             }
            },
            "type": "table"
           }
          ]
         },
         "layout": {
          "annotationdefaults": {
           "arrowcolor": "#2a3f5f",
           "arrowhead": 0,
           "arrowwidth": 1
          },
          "autotypenumbers": "strict",
          "coloraxis": {
           "colorbar": {
            "outlinewidth": 0,
            "ticks": ""
           }
          },
          "colorscale": {
           "diverging": [
            [
             0,
             "#8e0152"
            ],
            [
             0.1,
             "#c51b7d"
            ],
            [
             0.2,
             "#de77ae"
            ],
            [
             0.3,
             "#f1b6da"
            ],
            [
             0.4,
             "#fde0ef"
            ],
            [
             0.5,
             "#f7f7f7"
            ],
            [
             0.6,
             "#e6f5d0"
            ],
            [
             0.7,
             "#b8e186"
            ],
            [
             0.8,
             "#7fbc41"
            ],
            [
             0.9,
             "#4d9221"
            ],
            [
             1,
             "#276419"
            ]
           ],
           "sequential": [
            [
             0,
             "#0d0887"
            ],
            [
             0.1111111111111111,
             "#46039f"
            ],
            [
             0.2222222222222222,
             "#7201a8"
            ],
            [
             0.3333333333333333,
             "#9c179e"
            ],
            [
             0.4444444444444444,
             "#bd3786"
            ],
            [
             0.5555555555555556,
             "#d8576b"
            ],
            [
             0.6666666666666666,
             "#ed7953"
            ],
            [
             0.7777777777777778,
             "#fb9f3a"
            ],
            [
             0.8888888888888888,
             "#fdca26"
            ],
            [
             1,
             "#f0f921"
            ]
           ],
           "sequentialminus": [
            [
             0,
             "#0d0887"
            ],
            [
             0.1111111111111111,
             "#46039f"
            ],
            [
             0.2222222222222222,
             "#7201a8"
            ],
            [
             0.3333333333333333,
             "#9c179e"
            ],
            [
             0.4444444444444444,
             "#bd3786"
            ],
            [
             0.5555555555555556,
             "#d8576b"
            ],
            [
             0.6666666666666666,
             "#ed7953"
            ],
            [
             0.7777777777777778,
             "#fb9f3a"
            ],
            [
             0.8888888888888888,
             "#fdca26"
            ],
            [
             1,
             "#f0f921"
            ]
           ]
          },
          "colorway": [
           "#636efa",
           "#EF553B",
           "#00cc96",
           "#ab63fa",
           "#FFA15A",
           "#19d3f3",
           "#FF6692",
           "#B6E880",
           "#FF97FF",
           "#FECB52"
          ],
          "font": {
           "color": "#2a3f5f"
          },
          "geo": {
           "bgcolor": "white",
           "lakecolor": "white",
           "landcolor": "white",
           "showlakes": true,
           "showland": true,
           "subunitcolor": "#C8D4E3"
          },
          "hoverlabel": {
           "align": "left"
          },
          "hovermode": "closest",
          "mapbox": {
           "style": "light"
          },
          "paper_bgcolor": "white",
          "plot_bgcolor": "white",
          "polar": {
           "angularaxis": {
            "gridcolor": "#EBF0F8",
            "linecolor": "#EBF0F8",
            "ticks": ""
           },
           "bgcolor": "white",
           "radialaxis": {
            "gridcolor": "#EBF0F8",
            "linecolor": "#EBF0F8",
            "ticks": ""
           }
          },
          "scene": {
           "xaxis": {
            "backgroundcolor": "white",
            "gridcolor": "#DFE8F3",
            "gridwidth": 2,
            "linecolor": "#EBF0F8",
            "showbackground": true,
            "ticks": "",
            "zerolinecolor": "#EBF0F8"
           },
           "yaxis": {
            "backgroundcolor": "white",
            "gridcolor": "#DFE8F3",
            "gridwidth": 2,
            "linecolor": "#EBF0F8",
            "showbackground": true,
            "ticks": "",
            "zerolinecolor": "#EBF0F8"
           },
           "zaxis": {
            "backgroundcolor": "white",
            "gridcolor": "#DFE8F3",
            "gridwidth": 2,
            "linecolor": "#EBF0F8",
            "showbackground": true,
            "ticks": "",
            "zerolinecolor": "#EBF0F8"
           }
          },
          "shapedefaults": {
           "line": {
            "color": "#2a3f5f"
           }
          },
          "ternary": {
           "aaxis": {
            "gridcolor": "#DFE8F3",
            "linecolor": "#A2B1C6",
            "ticks": ""
           },
           "baxis": {
            "gridcolor": "#DFE8F3",
            "linecolor": "#A2B1C6",
            "ticks": ""
           },
           "bgcolor": "white",
           "caxis": {
            "gridcolor": "#DFE8F3",
            "linecolor": "#A2B1C6",
            "ticks": ""
           }
          },
          "title": {
           "x": 0.05
          },
          "xaxis": {
           "automargin": true,
           "gridcolor": "#EBF0F8",
           "linecolor": "#EBF0F8",
           "ticks": "",
           "title": {
            "standoff": 15
           },
           "zerolinecolor": "#EBF0F8",
           "zerolinewidth": 2
          },
          "yaxis": {
           "automargin": true,
           "gridcolor": "#EBF0F8",
           "linecolor": "#EBF0F8",
           "ticks": "",
           "title": {
            "standoff": 15
           },
           "zerolinecolor": "#EBF0F8",
           "zerolinewidth": 2
          }
         }
        },
        "title": {
         "text": "Major Chords"
        },
        "xaxis": {
         "anchor": "y",
         "autorange": true,
         "domain": [
          0,
          1
         ],
         "range": [
          -0.5,
          35.5
         ],
         "title": {
          "text": "chords"
         },
         "type": "category"
        },
        "yaxis": {
         "anchor": "x",
         "autorange": true,
         "domain": [
          0,
          1
         ],
         "range": [
          0,
          70964.21052631579
         ],
         "title": {
          "text": "count"
         },
         "type": "linear"
        }
       }
      },
      "image/png": "[encoded data removed]",
      "text/html": [
       "<div>                            <div id=\"dd5ba57e-c870-4cdc-b196-b0e19ee8ae01\" class=\"plotly-graph-div\" style=\"height:525px; width:100%;\"></div>            <script type=\"text/javascript\">                require([\"plotly\"], function(Plotly) {                    window.PLOTLYENV=window.PLOTLYENV || {};                                    if (document.getElementById(\"dd5ba57e-c870-4cdc-b196-b0e19ee8ae01\")) {                    Plotly.newPlot(                        \"dd5ba57e-c870-4cdc-b196-b0e19ee8ae01\",                        [{\"alignmentgroup\":\"True\",\"hovertemplate\":\"chords=%{x}<br>count=%{y}<extra></extra>\",\"legendgroup\":\"\",\"marker\":{\"color\":\"#636efa\",\"pattern\":{\"shape\":\"\"}},\"name\":\"\",\"offsetgroup\":\"\",\"orientation\":\"v\",\"showlegend\":false,\"textposition\":\"auto\",\"x\":[\"C\",\"C#\",\"C#dim\",\"C#m\",\"Cdim\",\"Cm\",\"D\",\"D#\",\"D#dim\",\"D#m\",\"Ddim\",\"Dm\",\"E\",\"Edim\",\"Em\",\"F\",\"F#\",\"F#dim\",\"F#m\",\"Fdim\",\"Fm\",\"G\",\"G#\",\"G#dim\",\"G#m\",\"Gdim\",\"Gm\",\"A\",\"A#\",\"A#dim\",\"A#m\",\"Adim\",\"Am\",\"B\",\"Bdim\",\"Bm\"],\"xaxis\":\"x\",\"y\":[67416,507,39,73,5,617,4757,1464,19,250,12,15215,3127,2,9319,56565,441,66,251,33,1646,58600,1116,102,70,0,709,2494,3227,21,187,5,32959,683,36,496],\"yaxis\":\"y\",\"type\":\"bar\"}],                        {\"template\":{\"data\":{\"barpolar\":[{\"marker\":{\"line\":{\"color\":\"white\",\"width\":0.5},\"pattern\":{\"fillmode\":\"overlay\",\"size\":10,\"solidity\":0.2}},\"type\":\"barpolar\"}],\"bar\":[{\"error_x\":{\"color\":\"#2a3f5f\"},\"error_y\":{\"color\":\"#2a3f5f\"},\"marker\":{\"line\":{\"color\":\"white\",\"width\":0.5},\"pattern\":{\"fillmode\":\"overlay\",\"size\":10,\"solidity\":0.2}},\"type\":\"bar\"}],\"carpet\":[{\"aaxis\":{\"endlinecolor\":\"#2a3f5f\",\"gridcolor\":\"#C8D4E3\",\"linecolor\":\"#C8D4E3\",\"minorgridcolor\":\"#C8D4E3\",\"startlinecolor\":\"#2a3f5f\"},\"baxis\":{\"endlinecolor\":\"#2a3f5f\",\"gridcolor\":\"#C8D4E3\",\"linecolor\":\"#C8D4E3\",\"minorgridcolor\":\"#C8D4E3\",\"startlinecolor\":\"#2a3f5f\"},\"type\":\"carpet\"}],\"choropleth\":[{\"colorbar\":{\"outlinewidth\":0,\"ticks\":\"\"},\"type\":\"choropleth\"}],\"contourcarpet\":[{\"colorbar\":{\"outlinewidth\":0,\"ticks\":\"\"},\"type\":\"contourcarpet\"}],\"contour\":[{\"colorbar\":{\"outlinewidth\":0,\"ticks\":\"\"},\"colorscale\":[[0.0,\"#0d0887\"],[0.1111111111111111,\"#46039f\"],[0.2222222222222222,\"#7201a8\"],[0.3333333333333333,\"#9c179e\"],[0.4444444444444444,\"#bd3786\"],[0.5555555555555556,\"#d8576b\"],[0.6666666666666666,\"#ed7953\"],[0.7777777777777778,\"#fb9f3a\"],[0.8888888888888888,\"#fdca26\"],[1.0,\"#f0f921\"]],\"type\":\"contour\"}],\"heatmapgl\":[{\"colorbar\":{\"outlinewidth\":0,\"ticks\":\"\"},\"colorscale\":[[0.0,\"#0d0887\"],[0.1111111111111111,\"#46039f\"],[0.2222222222222222,\"#7201a8\"],[0.3333333333333333,\"#9c179e\"],[0.4444444444444444,\"#bd3786\"],[0.5555555555555556,\"#d8576b\"],[0.6666666666666666,\"#ed7953\"],[0.7777777777777778,\"#fb9f3a\"],[0.8888888888888888,\"#fdca26\"],[1.0,\"#f0f921\"]],\"type\":\"heatmapgl\"}],\"heatmap\":[{\"colorbar\":{\"outlinewidth\":0,\"ticks\":\"\"},\"colorscale\":[[0.0,\"#0d0887\"],[0.1111111111111111,\"#46039f\"],[0.2222222222222222,\"#7201a8\"],[0.3333333333333333,\"#9c179e\"],[0.4444444444444444,\"#bd3786\"],[0.5555555555555556,\"#d8576b\"],[0.6666666666666666,\"#ed7953\"],[0.7777777777777778,\"#fb9f3a\"],[0.8888888888888888,\"#fdca26\"],[1.0,\"#f0f921\"]],\"type\":\"heatmap\"}],\"histogram2dcontour\":[{\"colorbar\":{\"outlinewidth\":0,\"ticks\":\"\"},\"colorscale\":[[0.0,\"#0d0887\"],[0.1111111111111111,\"#46039f\"],[0.2222222222222222,\"#7201a8\"],[0.3333333333333333,\"#9c179e\"],[0.4444444444444444,\"#bd3786\"],[0.5555555555555556,\"#d8576b\"],[0.6666666666666666,\"#ed7953\"],[0.7777777777777778,\"#fb9f3a\"],[0.8888888888888888,\"#fdca26\"],[1.0,\"#f0f921\"]],\"type\":\"histogram2dcontour\"}],\"histogram2d\":[{\"colorbar\":{\"outlinewidth\":0,\"ticks\":\"\"},\"colorscale\":[[0.0,\"#0d0887\"],[0.1111111111111111,\"#46039f\"],[0.2222222222222222,\"#7201a8\"],[0.3333333333333333,\"#9c179e\"],[0.4444444444444444,\"#bd3786\"],[0.5555555555555556,\"#d8576b\"],[0.6666666666666666,\"#ed7953\"],[0.7777777777777778,\"#fb9f3a\"],[0.8888888888888888,\"#fdca26\"],[1.0,\"#f0f921\"]],\"type\":\"histogram2d\"}],\"histogram\":[{\"marker\":{\"pattern\":{\"fillmode\":\"overlay\",\"size\":10,\"solidity\":0.2}},\"type\":\"histogram\"}],\"mesh3d\":[{\"colorbar\":{\"outlinewidth\":0,\"ticks\":\"\"},\"type\":\"mesh3d\"}],\"parcoords\":[{\"line\":{\"colorbar\":{\"outlinewidth\":0,\"ticks\":\"\"}},\"type\":\"parcoords\"}],\"pie\":[{\"automargin\":true,\"type\":\"pie\"}],\"scatter3d\":[{\"line\":{\"colorbar\":{\"outlinewidth\":0,\"ticks\":\"\"}},\"marker\":{\"colorbar\":{\"outlinewidth\":0,\"ticks\":\"\"}},\"type\":\"scatter3d\"}],\"scattercarpet\":[{\"marker\":{\"colorbar\":{\"outlinewidth\":0,\"ticks\":\"\"}},\"type\":\"scattercarpet\"}],\"scattergeo\":[{\"marker\":{\"colorbar\":{\"outlinewidth\":0,\"ticks\":\"\"}},\"type\":\"scattergeo\"}],\"scattergl\":[{\"marker\":{\"colorbar\":{\"outlinewidth\":0,\"ticks\":\"\"}},\"type\":\"scattergl\"}],\"scattermapbox\":[{\"marker\":{\"colorbar\":{\"outlinewidth\":0,\"ticks\":\"\"}},\"type\":\"scattermapbox\"}],\"scatterpolargl\":[{\"marker\":{\"colorbar\":{\"outlinewidth\":0,\"ticks\":\"\"}},\"type\":\"scatterpolargl\"}],\"scatterpolar\":[{\"marker\":{\"colorbar\":{\"outlinewidth\":0,\"ticks\":\"\"}},\"type\":\"scatterpolar\"}],\"scatter\":[{\"fillpattern\":{\"fillmode\":\"overlay\",\"size\":10,\"solidity\":0.2},\"type\":\"scatter\"}],\"scatterternary\":[{\"marker\":{\"colorbar\":{\"outlinewidth\":0,\"ticks\":\"\"}},\"type\":\"scatterternary\"}],\"surface\":[{\"colorbar\":{\"outlinewidth\":0,\"ticks\":\"\"},\"colorscale\":[[0.0,\"#0d0887\"],[0.1111111111111111,\"#46039f\"],[0.2222222222222222,\"#7201a8\"],[0.3333333333333333,\"#9c179e\"],[0.4444444444444444,\"#bd3786\"],[0.5555555555555556,\"#d8576b\"],[0.6666666666666666,\"#ed7953\"],[0.7777777777777778,\"#fb9f3a\"],[0.8888888888888888,\"#fdca26\"],[1.0,\"#f0f921\"]],\"type\":\"surface\"}],\"table\":[{\"cells\":{\"fill\":{\"color\":\"#EBF0F8\"},\"line\":{\"color\":\"white\"}},\"header\":{\"fill\":{\"color\":\"#C8D4E3\"},\"line\":{\"color\":\"white\"}},\"type\":\"table\"}]},\"layout\":{\"annotationdefaults\":{\"arrowcolor\":\"#2a3f5f\",\"arrowhead\":0,\"arrowwidth\":1},\"autotypenumbers\":\"strict\",\"coloraxis\":{\"colorbar\":{\"outlinewidth\":0,\"ticks\":\"\"}},\"colorscale\":{\"diverging\":[[0,\"#8e0152\"],[0.1,\"#c51b7d\"],[0.2,\"#de77ae\"],[0.3,\"#f1b6da\"],[0.4,\"#fde0ef\"],[0.5,\"#f7f7f7\"],[0.6,\"#e6f5d0\"],[0.7,\"#b8e186\"],[0.8,\"#7fbc41\"],[0.9,\"#4d9221\"],[1,\"#276419\"]],\"sequential\":[[0.0,\"#0d0887\"],[0.1111111111111111,\"#46039f\"],[0.2222222222222222,\"#7201a8\"],[0.3333333333333333,\"#9c179e\"],[0.4444444444444444,\"#bd3786\"],[0.5555555555555556,\"#d8576b\"],[0.6666666666666666,\"#ed7953\"],[0.7777777777777778,\"#fb9f3a\"],[0.8888888888888888,\"#fdca26\"],[1.0,\"#f0f921\"]],\"sequentialminus\":[[0.0,\"#0d0887\"],[0.1111111111111111,\"#46039f\"],[0.2222222222222222,\"#7201a8\"],[0.3333333333333333,\"#9c179e\"],[0.4444444444444444,\"#bd3786\"],[0.5555555555555556,\"#d8576b\"],[0.6666666666666666,\"#ed7953\"],[0.7777777777777778,\"#fb9f3a\"],[0.8888888888888888,\"#fdca26\"],[1.0,\"#f0f921\"]]},\"colorway\":[\"#636efa\",\"#EF553B\",\"#00cc96\",\"#ab63fa\",\"#FFA15A\",\"#19d3f3\",\"#FF6692\",\"#B6E880\",\"#FF97FF\",\"#FECB52\"],\"font\":{\"color\":\"#2a3f5f\"},\"geo\":{\"bgcolor\":\"white\",\"lakecolor\":\"white\",\"landcolor\":\"white\",\"showlakes\":true,\"showland\":true,\"subunitcolor\":\"#C8D4E3\"},\"hoverlabel\":{\"align\":\"left\"},\"hovermode\":\"closest\",\"mapbox\":{\"style\":\"light\"},\"paper_bgcolor\":\"white\",\"plot_bgcolor\":\"white\",\"polar\":{\"angularaxis\":{\"gridcolor\":\"#EBF0F8\",\"linecolor\":\"#EBF0F8\",\"ticks\":\"\"},\"bgcolor\":\"white\",\"radialaxis\":{\"gridcolor\":\"#EBF0F8\",\"linecolor\":\"#EBF0F8\",\"ticks\":\"\"}},\"scene\":{\"xaxis\":{\"backgroundcolor\":\"white\",\"gridcolor\":\"#DFE8F3\",\"gridwidth\":2,\"linecolor\":\"#EBF0F8\",\"showbackground\":true,\"ticks\":\"\",\"zerolinecolor\":\"#EBF0F8\"},\"yaxis\":{\"backgroundcolor\":\"white\",\"gridcolor\":\"#DFE8F3\",\"gridwidth\":2,\"linecolor\":\"#EBF0F8\",\"showbackground\":true,\"ticks\":\"\",\"zerolinecolor\":\"#EBF0F8\"},\"zaxis\":{\"backgroundcolor\":\"white\",\"gridcolor\":\"#DFE8F3\",\"gridwidth\":2,\"linecolor\":\"#EBF0F8\",\"showbackground\":true,\"ticks\":\"\",\"zerolinecolor\":\"#EBF0F8\"}},\"shapedefaults\":{\"line\":{\"color\":\"#2a3f5f\"}},\"ternary\":{\"aaxis\":{\"gridcolor\":\"#DFE8F3\",\"linecolor\":\"#A2B1C6\",\"ticks\":\"\"},\"baxis\":{\"gridcolor\":\"#DFE8F3\",\"linecolor\":\"#A2B1C6\",\"ticks\":\"\"},\"bgcolor\":\"white\",\"caxis\":{\"gridcolor\":\"#DFE8F3\",\"linecolor\":\"#A2B1C6\",\"ticks\":\"\"}},\"title\":{\"x\":0.05},\"xaxis\":{\"automargin\":true,\"gridcolor\":\"#EBF0F8\",\"linecolor\":\"#EBF0F8\",\"ticks\":\"\",\"title\":{\"standoff\":15},\"zerolinecolor\":\"#EBF0F8\",\"zerolinewidth\":2},\"yaxis\":{\"automargin\":true,\"gridcolor\":\"#EBF0F8\",\"linecolor\":\"#EBF0F8\",\"ticks\":\"\",\"title\":{\"standoff\":15},\"zerolinecolor\":\"#EBF0F8\",\"zerolinewidth\":2}}},\"xaxis\":{\"anchor\":\"y\",\"domain\":[0.0,1.0],\"title\":{\"text\":\"chords\"}},\"yaxis\":{\"anchor\":\"x\",\"domain\":[0.0,1.0],\"title\":{\"text\":\"count\"}},\"legend\":{\"tracegroupgap\":0},\"title\":{\"text\":\"Major Chords\"},\"barmode\":\"relative\"},                        {\"responsive\": true}                    ).then(function(){\n",
       "                            \n",
       "var gd = document.getElementById('dd5ba57e-c870-4cdc-b196-b0e19ee8ae01');\n",
       "var x = new MutationObserver(function (mutations, observer) {{\n",
       "        var display = window.getComputedStyle(gd).display;\n",
       "        if (!display || display === 'none') {{\n",
       "            console.log([gd, 'removed!']);\n",
       "            Plotly.purge(gd);\n",
       "            observer.disconnect();\n",
       "        }}\n",
       "}});\n",
       "\n",
       "// Listen for the removal of the full notebook cells\n",
       "var notebookContainer = gd.closest('#notebook-container');\n",
       "if (notebookContainer) {{\n",
       "    x.observe(notebookContainer, {childList: true});\n",
       "}}\n",
       "\n",
       "// Listen for the clearing of the current output cell\n",
       "var outputEl = gd.closest('.output');\n",
       "if (outputEl) {{\n",
       "    x.observe(outputEl, {childList: true});\n",
       "}}\n",
       "\n",
       "                        })                };                });            </script>        </div>"
      ]
     },
     "metadata": {},
     "output_type": "display_data"
    }
   ],
   "source": [
    "plotChords(major, 'Major Chords')"
   ]
  },
  {
   "cell_type": "code",
   "execution_count": 192,
   "id": "763c26dd-5723-43d6-9d49-111b0f6a3aec",
   "metadata": {},
   "outputs": [
    {
     "data": {
      "application/vnd.plotly.v1+json": {
       "config": {
        "plotlyServerURL": "https://plot.ly"
       },
       "data": [
        {
         "alignmentgroup": "True",
         "hovertemplate": "chords=%{x}<br>count=%{y}<extra></extra>",
         "legendgroup": "",
         "marker": {
          "color": "#636efa",
          "pattern": {
           "shape": ""
          }
         },
         "name": "",
         "offsetgroup": "",
         "orientation": "v",
         "showlegend": false,
         "textposition": "auto",
         "type": "bar",
         "x": [
          "C",
          "C#",
          "C#dim",
          "C#m",
          "Cdim",
          "Cm",
          "D",
          "D#",
          "D#dim",
          "D#m",
          "Ddim",
          "Dm",
          "E",
          "Edim",
          "Em",
          "F",
          "F#",
          "F#dim",
          "F#m",
          "Fdim",
          "Fm",
          "G",
          "G#",
          "G#dim",
          "G#m",
          "Gdim",
          "Gm",
          "A",
          "A#",
          "A#dim",
          "A#m",
          "Adim",
          "Am",
          "B",
          "Bdim",
          "Bm"
         ],
         "xaxis": "x",
         "y": [
          10999,
          116,
          2,
          74,
          4,
          244,
          1055,
          372,
          12,
          62,
          7,
          7126,
          2540,
          7,
          4282,
          14133,
          159,
          6,
          53,
          4,
          233,
          15057,
          203,
          12,
          20,
          0,
          229,
          1470,
          768,
          2,
          49,
          0,
          16138,
          662,
          31,
          250
         ],
         "yaxis": "y"
        }
       ],
       "layout": {
        "autosize": true,
        "barmode": "relative",
        "legend": {
         "tracegroupgap": 0
        },
        "template": {
         "data": {
          "bar": [
           {
            "error_x": {
             "color": "#2a3f5f"
            },
            "error_y": {
             "color": "#2a3f5f"
            },
            "marker": {
             "line": {
              "color": "white",
              "width": 0.5
             },
             "pattern": {
              "fillmode": "overlay",
              "size": 10,
              "solidity": 0.2
             }
            },
            "type": "bar"
           }
          ],
          "barpolar": [
           {
            "marker": {
             "line": {
              "color": "white",
              "width": 0.5
             },
             "pattern": {
              "fillmode": "overlay",
              "size": 10,
              "solidity": 0.2
             }
            },
            "type": "barpolar"
           }
          ],
          "carpet": [
           {
            "aaxis": {
             "endlinecolor": "#2a3f5f",
             "gridcolor": "#C8D4E3",
             "linecolor": "#C8D4E3",
             "minorgridcolor": "#C8D4E3",
             "startlinecolor": "#2a3f5f"
            },
            "baxis": {
             "endlinecolor": "#2a3f5f",
             "gridcolor": "#C8D4E3",
             "linecolor": "#C8D4E3",
             "minorgridcolor": "#C8D4E3",
             "startlinecolor": "#2a3f5f"
            },
            "type": "carpet"
           }
          ],
          "choropleth": [
           {
            "colorbar": {
             "outlinewidth": 0,
             "ticks": ""
            },
            "type": "choropleth"
           }
          ],
          "contour": [
           {
            "colorbar": {
             "outlinewidth": 0,
             "ticks": ""
            },
            "colorscale": [
             [
              0,
              "#0d0887"
             ],
             [
              0.1111111111111111,
              "#46039f"
             ],
             [
              0.2222222222222222,
              "#7201a8"
             ],
             [
              0.3333333333333333,
              "#9c179e"
             ],
             [
              0.4444444444444444,
              "#bd3786"
             ],
             [
              0.5555555555555556,
              "#d8576b"
             ],
             [
              0.6666666666666666,
              "#ed7953"
             ],
             [
              0.7777777777777778,
              "#fb9f3a"
             ],
             [
              0.8888888888888888,
              "#fdca26"
             ],
             [
              1,
              "#f0f921"
             ]
            ],
            "type": "contour"
           }
          ],
          "contourcarpet": [
           {
            "colorbar": {
             "outlinewidth": 0,
             "ticks": ""
            },
            "type": "contourcarpet"
           }
          ],
          "heatmap": [
           {
            "colorbar": {
             "outlinewidth": 0,
             "ticks": ""
            },
            "colorscale": [
             [
              0,
              "#0d0887"
             ],
             [
              0.1111111111111111,
              "#46039f"
             ],
             [
              0.2222222222222222,
              "#7201a8"
             ],
             [
              0.3333333333333333,
              "#9c179e"
             ],
             [
              0.4444444444444444,
              "#bd3786"
             ],
             [
              0.5555555555555556,
              "#d8576b"
             ],
             [
              0.6666666666666666,
              "#ed7953"
             ],
             [
              0.7777777777777778,
              "#fb9f3a"
             ],
             [
              0.8888888888888888,
              "#fdca26"
             ],
             [
              1,
              "#f0f921"
             ]
            ],
            "type": "heatmap"
           }
          ],
          "heatmapgl": [
           {
            "colorbar": {
             "outlinewidth": 0,
             "ticks": ""
            },
            "colorscale": [
             [
              0,
              "#0d0887"
             ],
             [
              0.1111111111111111,
              "#46039f"
             ],
             [
              0.2222222222222222,
              "#7201a8"
             ],
             [
              0.3333333333333333,
              "#9c179e"
             ],
             [
              0.4444444444444444,
              "#bd3786"
             ],
             [
              0.5555555555555556,
              "#d8576b"
             ],
             [
              0.6666666666666666,
              "#ed7953"
             ],
             [
              0.7777777777777778,
              "#fb9f3a"
             ],
             [
              0.8888888888888888,
              "#fdca26"
             ],
             [
              1,
              "#f0f921"
             ]
            ],
            "type": "heatmapgl"
           }
          ],
          "histogram": [
           {
            "marker": {
             "pattern": {
              "fillmode": "overlay",
              "size": 10,
              "solidity": 0.2
             }
            },
            "type": "histogram"
           }
          ],
          "histogram2d": [
           {
            "colorbar": {
             "outlinewidth": 0,
             "ticks": ""
            },
            "colorscale": [
             [
              0,
              "#0d0887"
             ],
             [
              0.1111111111111111,
              "#46039f"
             ],
             [
              0.2222222222222222,
              "#7201a8"
             ],
             [
              0.3333333333333333,
              "#9c179e"
             ],
             [
              0.4444444444444444,
              "#bd3786"
             ],
             [
              0.5555555555555556,
              "#d8576b"
             ],
             [
              0.6666666666666666,
              "#ed7953"
             ],
             [
              0.7777777777777778,
              "#fb9f3a"
             ],
             [
              0.8888888888888888,
              "#fdca26"
             ],
             [
              1,
              "#f0f921"
             ]
            ],
            "type": "histogram2d"
           }
          ],
          "histogram2dcontour": [
           {
            "colorbar": {
             "outlinewidth": 0,
             "ticks": ""
            },
            "colorscale": [
             [
              0,
              "#0d0887"
             ],
             [
              0.1111111111111111,
              "#46039f"
             ],
             [
              0.2222222222222222,
              "#7201a8"
             ],
             [
              0.3333333333333333,
              "#9c179e"
             ],
             [
              0.4444444444444444,
              "#bd3786"
             ],
             [
              0.5555555555555556,
              "#d8576b"
             ],
             [
              0.6666666666666666,
              "#ed7953"
             ],
             [
              0.7777777777777778,
              "#fb9f3a"
             ],
             [
              0.8888888888888888,
              "#fdca26"
             ],
             [
              1,
              "#f0f921"
             ]
            ],
            "type": "histogram2dcontour"
           }
          ],
          "mesh3d": [
           {
            "colorbar": {
             "outlinewidth": 0,
             "ticks": ""
            },
            "type": "mesh3d"
           }
          ],
          "parcoords": [
           {
            "line": {
             "colorbar": {
              "outlinewidth": 0,
              "ticks": ""
             }
            },
            "type": "parcoords"
           }
          ],
          "pie": [
           {
            "automargin": true,
            "type": "pie"
           }
          ],
          "scatter": [
           {
            "fillpattern": {
             "fillmode": "overlay",
             "size": 10,
             "solidity": 0.2
            },
            "type": "scatter"
           }
          ],
          "scatter3d": [
           {
            "line": {
             "colorbar": {
              "outlinewidth": 0,
              "ticks": ""
             }
            },
            "marker": {
             "colorbar": {
              "outlinewidth": 0,
              "ticks": ""
             }
            },
            "type": "scatter3d"
           }
          ],
          "scattercarpet": [
           {
            "marker": {
             "colorbar": {
              "outlinewidth": 0,
              "ticks": ""
             }
            },
            "type": "scattercarpet"
           }
          ],
          "scattergeo": [
           {
            "marker": {
             "colorbar": {
              "outlinewidth": 0,
              "ticks": ""
             }
            },
            "type": "scattergeo"
           }
          ],
          "scattergl": [
           {
            "marker": {
             "colorbar": {
              "outlinewidth": 0,
              "ticks": ""
             }
            },
            "type": "scattergl"
           }
          ],
          "scattermapbox": [
           {
            "marker": {
             "colorbar": {
              "outlinewidth": 0,
              "ticks": ""
             }
            },
            "type": "scattermapbox"
           }
          ],
          "scatterpolar": [
           {
            "marker": {
             "colorbar": {
              "outlinewidth": 0,
              "ticks": ""
             }
            },
            "type": "scatterpolar"
           }
          ],
          "scatterpolargl": [
           {
            "marker": {
             "colorbar": {
              "outlinewidth": 0,
              "ticks": ""
             }
            },
            "type": "scatterpolargl"
           }
          ],
          "scatterternary": [
           {
            "marker": {
             "colorbar": {
              "outlinewidth": 0,
              "ticks": ""
             }
            },
            "type": "scatterternary"
           }
          ],
          "surface": [
           {
            "colorbar": {
             "outlinewidth": 0,
             "ticks": ""
            },
            "colorscale": [
             [
              0,
              "#0d0887"
             ],
             [
              0.1111111111111111,
              "#46039f"
             ],
             [
              0.2222222222222222,
              "#7201a8"
             ],
             [
              0.3333333333333333,
              "#9c179e"
             ],
             [
              0.4444444444444444,
              "#bd3786"
             ],
             [
              0.5555555555555556,
              "#d8576b"
             ],
             [
              0.6666666666666666,
              "#ed7953"
             ],
             [
              0.7777777777777778,
              "#fb9f3a"
             ],
             [
              0.8888888888888888,
              "#fdca26"
             ],
             [
              1,
              "#f0f921"
             ]
            ],
            "type": "surface"
           }
          ],
          "table": [
           {
            "cells": {
             "fill": {
              "color": "#EBF0F8"
             },
             "line": {
              "color": "white"
             }
            },
            "header": {
             "fill": {
              "color": "#C8D4E3"
             },
             "line": {
              "color": "white"
             }
            },
            "type": "table"
           }
          ]
         },
         "layout": {
          "annotationdefaults": {
           "arrowcolor": "#2a3f5f",
           "arrowhead": 0,
           "arrowwidth": 1
          },
          "autotypenumbers": "strict",
          "coloraxis": {
           "colorbar": {
            "outlinewidth": 0,
            "ticks": ""
           }
          },
          "colorscale": {
           "diverging": [
            [
             0,
             "#8e0152"
            ],
            [
             0.1,
             "#c51b7d"
            ],
            [
             0.2,
             "#de77ae"
            ],
            [
             0.3,
             "#f1b6da"
            ],
            [
             0.4,
             "#fde0ef"
            ],
            [
             0.5,
             "#f7f7f7"
            ],
            [
             0.6,
             "#e6f5d0"
            ],
            [
             0.7,
             "#b8e186"
            ],
            [
             0.8,
             "#7fbc41"
            ],
            [
             0.9,
             "#4d9221"
            ],
            [
             1,
             "#276419"
            ]
           ],
           "sequential": [
            [
             0,
             "#0d0887"
            ],
            [
             0.1111111111111111,
             "#46039f"
            ],
            [
             0.2222222222222222,
             "#7201a8"
            ],
            [
             0.3333333333333333,
             "#9c179e"
            ],
            [
             0.4444444444444444,
             "#bd3786"
            ],
            [
             0.5555555555555556,
             "#d8576b"
            ],
            [
             0.6666666666666666,
             "#ed7953"
            ],
            [
             0.7777777777777778,
             "#fb9f3a"
            ],
            [
             0.8888888888888888,
             "#fdca26"
            ],
            [
             1,
             "#f0f921"
            ]
           ],
           "sequentialminus": [
            [
             0,
             "#0d0887"
            ],
            [
             0.1111111111111111,
             "#46039f"
            ],
            [
             0.2222222222222222,
             "#7201a8"
            ],
            [
             0.3333333333333333,
             "#9c179e"
            ],
            [
             0.4444444444444444,
             "#bd3786"
            ],
            [
             0.5555555555555556,
             "#d8576b"
            ],
            [
             0.6666666666666666,
             "#ed7953"
            ],
            [
             0.7777777777777778,
             "#fb9f3a"
            ],
            [
             0.8888888888888888,
             "#fdca26"
            ],
            [
             1,
             "#f0f921"
            ]
           ]
          },
          "colorway": [
           "#636efa",
           "#EF553B",
           "#00cc96",
           "#ab63fa",
           "#FFA15A",
           "#19d3f3",
           "#FF6692",
           "#B6E880",
           "#FF97FF",
           "#FECB52"
          ],
          "font": {
           "color": "#2a3f5f"
          },
          "geo": {
           "bgcolor": "white",
           "lakecolor": "white",
           "landcolor": "white",
           "showlakes": true,
           "showland": true,
           "subunitcolor": "#C8D4E3"
          },
          "hoverlabel": {
           "align": "left"
          },
          "hovermode": "closest",
          "mapbox": {
           "style": "light"
          },
          "paper_bgcolor": "white",
          "plot_bgcolor": "white",
          "polar": {
           "angularaxis": {
            "gridcolor": "#EBF0F8",
            "linecolor": "#EBF0F8",
            "ticks": ""
           },
           "bgcolor": "white",
           "radialaxis": {
            "gridcolor": "#EBF0F8",
            "linecolor": "#EBF0F8",
            "ticks": ""
           }
          },
          "scene": {
           "xaxis": {
            "backgroundcolor": "white",
            "gridcolor": "#DFE8F3",
            "gridwidth": 2,
            "linecolor": "#EBF0F8",
            "showbackground": true,
            "ticks": "",
            "zerolinecolor": "#EBF0F8"
           },
           "yaxis": {
            "backgroundcolor": "white",
            "gridcolor": "#DFE8F3",
            "gridwidth": 2,
            "linecolor": "#EBF0F8",
            "showbackground": true,
            "ticks": "",
            "zerolinecolor": "#EBF0F8"
           },
           "zaxis": {
            "backgroundcolor": "white",
            "gridcolor": "#DFE8F3",
            "gridwidth": 2,
            "linecolor": "#EBF0F8",
            "showbackground": true,
            "ticks": "",
            "zerolinecolor": "#EBF0F8"
           }
          },
          "shapedefaults": {
           "line": {
            "color": "#2a3f5f"
           }
          },
          "ternary": {
           "aaxis": {
            "gridcolor": "#DFE8F3",
            "linecolor": "#A2B1C6",
            "ticks": ""
           },
           "baxis": {
            "gridcolor": "#DFE8F3",
            "linecolor": "#A2B1C6",
            "ticks": ""
           },
           "bgcolor": "white",
           "caxis": {
            "gridcolor": "#DFE8F3",
            "linecolor": "#A2B1C6",
            "ticks": ""
           }
          },
          "title": {
           "x": 0.05
          },
          "xaxis": {
           "automargin": true,
           "gridcolor": "#EBF0F8",
           "linecolor": "#EBF0F8",
           "ticks": "",
           "title": {
            "standoff": 15
           },
           "zerolinecolor": "#EBF0F8",
           "zerolinewidth": 2
          },
          "yaxis": {
           "automargin": true,
           "gridcolor": "#EBF0F8",
           "linecolor": "#EBF0F8",
           "ticks": "",
           "title": {
            "standoff": 15
           },
           "zerolinecolor": "#EBF0F8",
           "zerolinewidth": 2
          }
         }
        },
        "title": {
         "text": "Minor Chords"
        },
        "xaxis": {
         "anchor": "y",
         "autorange": true,
         "domain": [
          0,
          1
         ],
         "range": [
          -0.5,
          35.5
         ],
         "title": {
          "text": "chords"
         },
         "type": "category"
        },
        "yaxis": {
         "anchor": "x",
         "autorange": true,
         "domain": [
          0,
          1
         ],
         "range": [
          0,
          16987.36842105263
         ],
         "title": {
          "text": "count"
         },
         "type": "linear"
        }
       }
      },
      "image/png": "[encoded data removed]",
      "text/html": [
       "<div>                            <div id=\"6047c061-0841-4560-b404-eda7aa1e8b57\" class=\"plotly-graph-div\" style=\"height:525px; width:100%;\"></div>            <script type=\"text/javascript\">                require([\"plotly\"], function(Plotly) {                    window.PLOTLYENV=window.PLOTLYENV || {};                                    if (document.getElementById(\"6047c061-0841-4560-b404-eda7aa1e8b57\")) {                    Plotly.newPlot(                        \"6047c061-0841-4560-b404-eda7aa1e8b57\",                        [{\"alignmentgroup\":\"True\",\"hovertemplate\":\"chords=%{x}<br>count=%{y}<extra></extra>\",\"legendgroup\":\"\",\"marker\":{\"color\":\"#636efa\",\"pattern\":{\"shape\":\"\"}},\"name\":\"\",\"offsetgroup\":\"\",\"orientation\":\"v\",\"showlegend\":false,\"textposition\":\"auto\",\"x\":[\"C\",\"C#\",\"C#dim\",\"C#m\",\"Cdim\",\"Cm\",\"D\",\"D#\",\"D#dim\",\"D#m\",\"Ddim\",\"Dm\",\"E\",\"Edim\",\"Em\",\"F\",\"F#\",\"F#dim\",\"F#m\",\"Fdim\",\"Fm\",\"G\",\"G#\",\"G#dim\",\"G#m\",\"Gdim\",\"Gm\",\"A\",\"A#\",\"A#dim\",\"A#m\",\"Adim\",\"Am\",\"B\",\"Bdim\",\"Bm\"],\"xaxis\":\"x\",\"y\":[10999,116,2,74,4,244,1055,372,12,62,7,7126,2540,7,4282,14133,159,6,53,4,233,15057,203,12,20,0,229,1470,768,2,49,0,16138,662,31,250],\"yaxis\":\"y\",\"type\":\"bar\"}],                        {\"template\":{\"data\":{\"barpolar\":[{\"marker\":{\"line\":{\"color\":\"white\",\"width\":0.5},\"pattern\":{\"fillmode\":\"overlay\",\"size\":10,\"solidity\":0.2}},\"type\":\"barpolar\"}],\"bar\":[{\"error_x\":{\"color\":\"#2a3f5f\"},\"error_y\":{\"color\":\"#2a3f5f\"},\"marker\":{\"line\":{\"color\":\"white\",\"width\":0.5},\"pattern\":{\"fillmode\":\"overlay\",\"size\":10,\"solidity\":0.2}},\"type\":\"bar\"}],\"carpet\":[{\"aaxis\":{\"endlinecolor\":\"#2a3f5f\",\"gridcolor\":\"#C8D4E3\",\"linecolor\":\"#C8D4E3\",\"minorgridcolor\":\"#C8D4E3\",\"startlinecolor\":\"#2a3f5f\"},\"baxis\":{\"endlinecolor\":\"#2a3f5f\",\"gridcolor\":\"#C8D4E3\",\"linecolor\":\"#C8D4E3\",\"minorgridcolor\":\"#C8D4E3\",\"startlinecolor\":\"#2a3f5f\"},\"type\":\"carpet\"}],\"choropleth\":[{\"colorbar\":{\"outlinewidth\":0,\"ticks\":\"\"},\"type\":\"choropleth\"}],\"contourcarpet\":[{\"colorbar\":{\"outlinewidth\":0,\"ticks\":\"\"},\"type\":\"contourcarpet\"}],\"contour\":[{\"colorbar\":{\"outlinewidth\":0,\"ticks\":\"\"},\"colorscale\":[[0.0,\"#0d0887\"],[0.1111111111111111,\"#46039f\"],[0.2222222222222222,\"#7201a8\"],[0.3333333333333333,\"#9c179e\"],[0.4444444444444444,\"#bd3786\"],[0.5555555555555556,\"#d8576b\"],[0.6666666666666666,\"#ed7953\"],[0.7777777777777778,\"#fb9f3a\"],[0.8888888888888888,\"#fdca26\"],[1.0,\"#f0f921\"]],\"type\":\"contour\"}],\"heatmapgl\":[{\"colorbar\":{\"outlinewidth\":0,\"ticks\":\"\"},\"colorscale\":[[0.0,\"#0d0887\"],[0.1111111111111111,\"#46039f\"],[0.2222222222222222,\"#7201a8\"],[0.3333333333333333,\"#9c179e\"],[0.4444444444444444,\"#bd3786\"],[0.5555555555555556,\"#d8576b\"],[0.6666666666666666,\"#ed7953\"],[0.7777777777777778,\"#fb9f3a\"],[0.8888888888888888,\"#fdca26\"],[1.0,\"#f0f921\"]],\"type\":\"heatmapgl\"}],\"heatmap\":[{\"colorbar\":{\"outlinewidth\":0,\"ticks\":\"\"},\"colorscale\":[[0.0,\"#0d0887\"],[0.1111111111111111,\"#46039f\"],[0.2222222222222222,\"#7201a8\"],[0.3333333333333333,\"#9c179e\"],[0.4444444444444444,\"#bd3786\"],[0.5555555555555556,\"#d8576b\"],[0.6666666666666666,\"#ed7953\"],[0.7777777777777778,\"#fb9f3a\"],[0.8888888888888888,\"#fdca26\"],[1.0,\"#f0f921\"]],\"type\":\"heatmap\"}],\"histogram2dcontour\":[{\"colorbar\":{\"outlinewidth\":0,\"ticks\":\"\"},\"colorscale\":[[0.0,\"#0d0887\"],[0.1111111111111111,\"#46039f\"],[0.2222222222222222,\"#7201a8\"],[0.3333333333333333,\"#9c179e\"],[0.4444444444444444,\"#bd3786\"],[0.5555555555555556,\"#d8576b\"],[0.6666666666666666,\"#ed7953\"],[0.7777777777777778,\"#fb9f3a\"],[0.8888888888888888,\"#fdca26\"],[1.0,\"#f0f921\"]],\"type\":\"histogram2dcontour\"}],\"histogram2d\":[{\"colorbar\":{\"outlinewidth\":0,\"ticks\":\"\"},\"colorscale\":[[0.0,\"#0d0887\"],[0.1111111111111111,\"#46039f\"],[0.2222222222222222,\"#7201a8\"],[0.3333333333333333,\"#9c179e\"],[0.4444444444444444,\"#bd3786\"],[0.5555555555555556,\"#d8576b\"],[0.6666666666666666,\"#ed7953\"],[0.7777777777777778,\"#fb9f3a\"],[0.8888888888888888,\"#fdca26\"],[1.0,\"#f0f921\"]],\"type\":\"histogram2d\"}],\"histogram\":[{\"marker\":{\"pattern\":{\"fillmode\":\"overlay\",\"size\":10,\"solidity\":0.2}},\"type\":\"histogram\"}],\"mesh3d\":[{\"colorbar\":{\"outlinewidth\":0,\"ticks\":\"\"},\"type\":\"mesh3d\"}],\"parcoords\":[{\"line\":{\"colorbar\":{\"outlinewidth\":0,\"ticks\":\"\"}},\"type\":\"parcoords\"}],\"pie\":[{\"automargin\":true,\"type\":\"pie\"}],\"scatter3d\":[{\"line\":{\"colorbar\":{\"outlinewidth\":0,\"ticks\":\"\"}},\"marker\":{\"colorbar\":{\"outlinewidth\":0,\"ticks\":\"\"}},\"type\":\"scatter3d\"}],\"scattercarpet\":[{\"marker\":{\"colorbar\":{\"outlinewidth\":0,\"ticks\":\"\"}},\"type\":\"scattercarpet\"}],\"scattergeo\":[{\"marker\":{\"colorbar\":{\"outlinewidth\":0,\"ticks\":\"\"}},\"type\":\"scattergeo\"}],\"scattergl\":[{\"marker\":{\"colorbar\":{\"outlinewidth\":0,\"ticks\":\"\"}},\"type\":\"scattergl\"}],\"scattermapbox\":[{\"marker\":{\"colorbar\":{\"outlinewidth\":0,\"ticks\":\"\"}},\"type\":\"scattermapbox\"}],\"scatterpolargl\":[{\"marker\":{\"colorbar\":{\"outlinewidth\":0,\"ticks\":\"\"}},\"type\":\"scatterpolargl\"}],\"scatterpolar\":[{\"marker\":{\"colorbar\":{\"outlinewidth\":0,\"ticks\":\"\"}},\"type\":\"scatterpolar\"}],\"scatter\":[{\"fillpattern\":{\"fillmode\":\"overlay\",\"size\":10,\"solidity\":0.2},\"type\":\"scatter\"}],\"scatterternary\":[{\"marker\":{\"colorbar\":{\"outlinewidth\":0,\"ticks\":\"\"}},\"type\":\"scatterternary\"}],\"surface\":[{\"colorbar\":{\"outlinewidth\":0,\"ticks\":\"\"},\"colorscale\":[[0.0,\"#0d0887\"],[0.1111111111111111,\"#46039f\"],[0.2222222222222222,\"#7201a8\"],[0.3333333333333333,\"#9c179e\"],[0.4444444444444444,\"#bd3786\"],[0.5555555555555556,\"#d8576b\"],[0.6666666666666666,\"#ed7953\"],[0.7777777777777778,\"#fb9f3a\"],[0.8888888888888888,\"#fdca26\"],[1.0,\"#f0f921\"]],\"type\":\"surface\"}],\"table\":[{\"cells\":{\"fill\":{\"color\":\"#EBF0F8\"},\"line\":{\"color\":\"white\"}},\"header\":{\"fill\":{\"color\":\"#C8D4E3\"},\"line\":{\"color\":\"white\"}},\"type\":\"table\"}]},\"layout\":{\"annotationdefaults\":{\"arrowcolor\":\"#2a3f5f\",\"arrowhead\":0,\"arrowwidth\":1},\"autotypenumbers\":\"strict\",\"coloraxis\":{\"colorbar\":{\"outlinewidth\":0,\"ticks\":\"\"}},\"colorscale\":{\"diverging\":[[0,\"#8e0152\"],[0.1,\"#c51b7d\"],[0.2,\"#de77ae\"],[0.3,\"#f1b6da\"],[0.4,\"#fde0ef\"],[0.5,\"#f7f7f7\"],[0.6,\"#e6f5d0\"],[0.7,\"#b8e186\"],[0.8,\"#7fbc41\"],[0.9,\"#4d9221\"],[1,\"#276419\"]],\"sequential\":[[0.0,\"#0d0887\"],[0.1111111111111111,\"#46039f\"],[0.2222222222222222,\"#7201a8\"],[0.3333333333333333,\"#9c179e\"],[0.4444444444444444,\"#bd3786\"],[0.5555555555555556,\"#d8576b\"],[0.6666666666666666,\"#ed7953\"],[0.7777777777777778,\"#fb9f3a\"],[0.8888888888888888,\"#fdca26\"],[1.0,\"#f0f921\"]],\"sequentialminus\":[[0.0,\"#0d0887\"],[0.1111111111111111,\"#46039f\"],[0.2222222222222222,\"#7201a8\"],[0.3333333333333333,\"#9c179e\"],[0.4444444444444444,\"#bd3786\"],[0.5555555555555556,\"#d8576b\"],[0.6666666666666666,\"#ed7953\"],[0.7777777777777778,\"#fb9f3a\"],[0.8888888888888888,\"#fdca26\"],[1.0,\"#f0f921\"]]},\"colorway\":[\"#636efa\",\"#EF553B\",\"#00cc96\",\"#ab63fa\",\"#FFA15A\",\"#19d3f3\",\"#FF6692\",\"#B6E880\",\"#FF97FF\",\"#FECB52\"],\"font\":{\"color\":\"#2a3f5f\"},\"geo\":{\"bgcolor\":\"white\",\"lakecolor\":\"white\",\"landcolor\":\"white\",\"showlakes\":true,\"showland\":true,\"subunitcolor\":\"#C8D4E3\"},\"hoverlabel\":{\"align\":\"left\"},\"hovermode\":\"closest\",\"mapbox\":{\"style\":\"light\"},\"paper_bgcolor\":\"white\",\"plot_bgcolor\":\"white\",\"polar\":{\"angularaxis\":{\"gridcolor\":\"#EBF0F8\",\"linecolor\":\"#EBF0F8\",\"ticks\":\"\"},\"bgcolor\":\"white\",\"radialaxis\":{\"gridcolor\":\"#EBF0F8\",\"linecolor\":\"#EBF0F8\",\"ticks\":\"\"}},\"scene\":{\"xaxis\":{\"backgroundcolor\":\"white\",\"gridcolor\":\"#DFE8F3\",\"gridwidth\":2,\"linecolor\":\"#EBF0F8\",\"showbackground\":true,\"ticks\":\"\",\"zerolinecolor\":\"#EBF0F8\"},\"yaxis\":{\"backgroundcolor\":\"white\",\"gridcolor\":\"#DFE8F3\",\"gridwidth\":2,\"linecolor\":\"#EBF0F8\",\"showbackground\":true,\"ticks\":\"\",\"zerolinecolor\":\"#EBF0F8\"},\"zaxis\":{\"backgroundcolor\":\"white\",\"gridcolor\":\"#DFE8F3\",\"gridwidth\":2,\"linecolor\":\"#EBF0F8\",\"showbackground\":true,\"ticks\":\"\",\"zerolinecolor\":\"#EBF0F8\"}},\"shapedefaults\":{\"line\":{\"color\":\"#2a3f5f\"}},\"ternary\":{\"aaxis\":{\"gridcolor\":\"#DFE8F3\",\"linecolor\":\"#A2B1C6\",\"ticks\":\"\"},\"baxis\":{\"gridcolor\":\"#DFE8F3\",\"linecolor\":\"#A2B1C6\",\"ticks\":\"\"},\"bgcolor\":\"white\",\"caxis\":{\"gridcolor\":\"#DFE8F3\",\"linecolor\":\"#A2B1C6\",\"ticks\":\"\"}},\"title\":{\"x\":0.05},\"xaxis\":{\"automargin\":true,\"gridcolor\":\"#EBF0F8\",\"linecolor\":\"#EBF0F8\",\"ticks\":\"\",\"title\":{\"standoff\":15},\"zerolinecolor\":\"#EBF0F8\",\"zerolinewidth\":2},\"yaxis\":{\"automargin\":true,\"gridcolor\":\"#EBF0F8\",\"linecolor\":\"#EBF0F8\",\"ticks\":\"\",\"title\":{\"standoff\":15},\"zerolinecolor\":\"#EBF0F8\",\"zerolinewidth\":2}}},\"xaxis\":{\"anchor\":\"y\",\"domain\":[0.0,1.0],\"title\":{\"text\":\"chords\"}},\"yaxis\":{\"anchor\":\"x\",\"domain\":[0.0,1.0],\"title\":{\"text\":\"count\"}},\"legend\":{\"tracegroupgap\":0},\"title\":{\"text\":\"Minor Chords\"},\"barmode\":\"relative\"},                        {\"responsive\": true}                    ).then(function(){\n",
       "                            \n",
       "var gd = document.getElementById('6047c061-0841-4560-b404-eda7aa1e8b57');\n",
       "var x = new MutationObserver(function (mutations, observer) {{\n",
       "        var display = window.getComputedStyle(gd).display;\n",
       "        if (!display || display === 'none') {{\n",
       "            console.log([gd, 'removed!']);\n",
       "            Plotly.purge(gd);\n",
       "            observer.disconnect();\n",
       "        }}\n",
       "}});\n",
       "\n",
       "// Listen for the removal of the full notebook cells\n",
       "var notebookContainer = gd.closest('#notebook-container');\n",
       "if (notebookContainer) {{\n",
       "    x.observe(notebookContainer, {childList: true});\n",
       "}}\n",
       "\n",
       "// Listen for the clearing of the current output cell\n",
       "var outputEl = gd.closest('.output');\n",
       "if (outputEl) {{\n",
       "    x.observe(outputEl, {childList: true});\n",
       "}}\n",
       "\n",
       "                        })                };                });            </script>        </div>"
      ]
     },
     "metadata": {},
     "output_type": "display_data"
    }
   ],
   "source": [
    "plotChords(minor,'Minor Chords')"
   ]
  },
  {
   "cell_type": "markdown",
   "id": "7caa6280-29ae-416d-9d82-16ca835e4ae2",
   "metadata": {},
   "source": [
    "### Distribution of chords using key\n"
   ]
  },
  {
   "cell_type": "code",
   "execution_count": 193,
   "id": "979c00ba-c413-4715-84b3-4912264fb77e",
   "metadata": {},
   "outputs": [
    {
     "data": {
      "text/html": [
       "<div>\n",
       "<style scoped>\n",
       "    .dataframe tbody tr th:only-of-type {\n",
       "        vertical-align: middle;\n",
       "    }\n",
       "\n",
       "    .dataframe tbody tr th {\n",
       "        vertical-align: top;\n",
       "    }\n",
       "\n",
       "    .dataframe thead th {\n",
       "        text-align: right;\n",
       "    }\n",
       "</style>\n",
       "<table border=\"1\" class=\"dataframe\">\n",
       "  <thead>\n",
       "    <tr style=\"text-align: right;\">\n",
       "      <th></th>\n",
       "      <th>mode</th>\n",
       "      <th>C</th>\n",
       "      <th>C#</th>\n",
       "      <th>C#dim</th>\n",
       "      <th>C#m</th>\n",
       "      <th>Cdim</th>\n",
       "      <th>Cm</th>\n",
       "      <th>D</th>\n",
       "      <th>D#</th>\n",
       "      <th>D#dim</th>\n",
       "      <th>...</th>\n",
       "      <th>Gm</th>\n",
       "      <th>A</th>\n",
       "      <th>A#</th>\n",
       "      <th>A#dim</th>\n",
       "      <th>A#m</th>\n",
       "      <th>Adim</th>\n",
       "      <th>Am</th>\n",
       "      <th>B</th>\n",
       "      <th>Bdim</th>\n",
       "      <th>Bm</th>\n",
       "    </tr>\n",
       "    <tr>\n",
       "      <th>id</th>\n",
       "      <th></th>\n",
       "      <th></th>\n",
       "      <th></th>\n",
       "      <th></th>\n",
       "      <th></th>\n",
       "      <th></th>\n",
       "      <th></th>\n",
       "      <th></th>\n",
       "      <th></th>\n",
       "      <th></th>\n",
       "      <th></th>\n",
       "      <th></th>\n",
       "      <th></th>\n",
       "      <th></th>\n",
       "      <th></th>\n",
       "      <th></th>\n",
       "      <th></th>\n",
       "      <th></th>\n",
       "      <th></th>\n",
       "      <th></th>\n",
       "      <th></th>\n",
       "    </tr>\n",
       "  </thead>\n",
       "  <tbody>\n",
       "    <tr>\n",
       "      <th>23</th>\n",
       "      <td>1</td>\n",
       "      <td>2</td>\n",
       "      <td>0</td>\n",
       "      <td>0</td>\n",
       "      <td>0</td>\n",
       "      <td>0</td>\n",
       "      <td>5</td>\n",
       "      <td>0</td>\n",
       "      <td>0</td>\n",
       "      <td>0</td>\n",
       "      <td>...</td>\n",
       "      <td>0</td>\n",
       "      <td>0</td>\n",
       "      <td>2</td>\n",
       "      <td>0</td>\n",
       "      <td>0</td>\n",
       "      <td>0</td>\n",
       "      <td>0</td>\n",
       "      <td>0</td>\n",
       "      <td>0</td>\n",
       "      <td>0</td>\n",
       "    </tr>\n",
       "    <tr>\n",
       "      <th>105</th>\n",
       "      <td>1</td>\n",
       "      <td>11</td>\n",
       "      <td>0</td>\n",
       "      <td>0</td>\n",
       "      <td>0</td>\n",
       "      <td>0</td>\n",
       "      <td>0</td>\n",
       "      <td>5</td>\n",
       "      <td>0</td>\n",
       "      <td>0</td>\n",
       "      <td>...</td>\n",
       "      <td>0</td>\n",
       "      <td>0</td>\n",
       "      <td>1</td>\n",
       "      <td>0</td>\n",
       "      <td>0</td>\n",
       "      <td>0</td>\n",
       "      <td>0</td>\n",
       "      <td>0</td>\n",
       "      <td>0</td>\n",
       "      <td>0</td>\n",
       "    </tr>\n",
       "    <tr>\n",
       "      <th>118</th>\n",
       "      <td>1</td>\n",
       "      <td>19</td>\n",
       "      <td>0</td>\n",
       "      <td>0</td>\n",
       "      <td>0</td>\n",
       "      <td>0</td>\n",
       "      <td>0</td>\n",
       "      <td>21</td>\n",
       "      <td>6</td>\n",
       "      <td>0</td>\n",
       "      <td>...</td>\n",
       "      <td>0</td>\n",
       "      <td>8</td>\n",
       "      <td>0</td>\n",
       "      <td>0</td>\n",
       "      <td>0</td>\n",
       "      <td>0</td>\n",
       "      <td>0</td>\n",
       "      <td>0</td>\n",
       "      <td>0</td>\n",
       "      <td>0</td>\n",
       "    </tr>\n",
       "    <tr>\n",
       "      <th>120</th>\n",
       "      <td>0</td>\n",
       "      <td>6</td>\n",
       "      <td>0</td>\n",
       "      <td>0</td>\n",
       "      <td>0</td>\n",
       "      <td>0</td>\n",
       "      <td>0</td>\n",
       "      <td>0</td>\n",
       "      <td>1</td>\n",
       "      <td>0</td>\n",
       "      <td>...</td>\n",
       "      <td>0</td>\n",
       "      <td>0</td>\n",
       "      <td>3</td>\n",
       "      <td>0</td>\n",
       "      <td>0</td>\n",
       "      <td>0</td>\n",
       "      <td>0</td>\n",
       "      <td>0</td>\n",
       "      <td>0</td>\n",
       "      <td>0</td>\n",
       "    </tr>\n",
       "    <tr>\n",
       "      <th>234</th>\n",
       "      <td>1</td>\n",
       "      <td>0</td>\n",
       "      <td>0</td>\n",
       "      <td>0</td>\n",
       "      <td>0</td>\n",
       "      <td>0</td>\n",
       "      <td>0</td>\n",
       "      <td>0</td>\n",
       "      <td>0</td>\n",
       "      <td>0</td>\n",
       "      <td>...</td>\n",
       "      <td>0</td>\n",
       "      <td>1</td>\n",
       "      <td>1</td>\n",
       "      <td>0</td>\n",
       "      <td>0</td>\n",
       "      <td>0</td>\n",
       "      <td>0</td>\n",
       "      <td>0</td>\n",
       "      <td>0</td>\n",
       "      <td>0</td>\n",
       "    </tr>\n",
       "    <tr>\n",
       "      <th>...</th>\n",
       "      <td>...</td>\n",
       "      <td>...</td>\n",
       "      <td>...</td>\n",
       "      <td>...</td>\n",
       "      <td>...</td>\n",
       "      <td>...</td>\n",
       "      <td>...</td>\n",
       "      <td>...</td>\n",
       "      <td>...</td>\n",
       "      <td>...</td>\n",
       "      <td>...</td>\n",
       "      <td>...</td>\n",
       "      <td>...</td>\n",
       "      <td>...</td>\n",
       "      <td>...</td>\n",
       "      <td>...</td>\n",
       "      <td>...</td>\n",
       "      <td>...</td>\n",
       "      <td>...</td>\n",
       "      <td>...</td>\n",
       "      <td>...</td>\n",
       "    </tr>\n",
       "    <tr>\n",
       "      <th>3781055</th>\n",
       "      <td>1</td>\n",
       "      <td>0</td>\n",
       "      <td>0</td>\n",
       "      <td>0</td>\n",
       "      <td>0</td>\n",
       "      <td>0</td>\n",
       "      <td>0</td>\n",
       "      <td>0</td>\n",
       "      <td>0</td>\n",
       "      <td>0</td>\n",
       "      <td>...</td>\n",
       "      <td>0</td>\n",
       "      <td>0</td>\n",
       "      <td>0</td>\n",
       "      <td>0</td>\n",
       "      <td>0</td>\n",
       "      <td>0</td>\n",
       "      <td>25</td>\n",
       "      <td>0</td>\n",
       "      <td>0</td>\n",
       "      <td>0</td>\n",
       "    </tr>\n",
       "    <tr>\n",
       "      <th>3860363</th>\n",
       "      <td>1</td>\n",
       "      <td>20</td>\n",
       "      <td>0</td>\n",
       "      <td>0</td>\n",
       "      <td>0</td>\n",
       "      <td>0</td>\n",
       "      <td>0</td>\n",
       "      <td>0</td>\n",
       "      <td>0</td>\n",
       "      <td>0</td>\n",
       "      <td>...</td>\n",
       "      <td>0</td>\n",
       "      <td>0</td>\n",
       "      <td>0</td>\n",
       "      <td>0</td>\n",
       "      <td>0</td>\n",
       "      <td>0</td>\n",
       "      <td>6</td>\n",
       "      <td>0</td>\n",
       "      <td>0</td>\n",
       "      <td>0</td>\n",
       "    </tr>\n",
       "    <tr>\n",
       "      <th>3898172</th>\n",
       "      <td>1</td>\n",
       "      <td>14</td>\n",
       "      <td>0</td>\n",
       "      <td>0</td>\n",
       "      <td>0</td>\n",
       "      <td>0</td>\n",
       "      <td>0</td>\n",
       "      <td>0</td>\n",
       "      <td>0</td>\n",
       "      <td>0</td>\n",
       "      <td>...</td>\n",
       "      <td>0</td>\n",
       "      <td>0</td>\n",
       "      <td>14</td>\n",
       "      <td>0</td>\n",
       "      <td>0</td>\n",
       "      <td>0</td>\n",
       "      <td>0</td>\n",
       "      <td>0</td>\n",
       "      <td>0</td>\n",
       "      <td>0</td>\n",
       "    </tr>\n",
       "    <tr>\n",
       "      <th>3911342</th>\n",
       "      <td>1</td>\n",
       "      <td>20</td>\n",
       "      <td>0</td>\n",
       "      <td>0</td>\n",
       "      <td>0</td>\n",
       "      <td>0</td>\n",
       "      <td>0</td>\n",
       "      <td>0</td>\n",
       "      <td>0</td>\n",
       "      <td>0</td>\n",
       "      <td>...</td>\n",
       "      <td>0</td>\n",
       "      <td>0</td>\n",
       "      <td>0</td>\n",
       "      <td>0</td>\n",
       "      <td>0</td>\n",
       "      <td>0</td>\n",
       "      <td>14</td>\n",
       "      <td>0</td>\n",
       "      <td>0</td>\n",
       "      <td>0</td>\n",
       "    </tr>\n",
       "    <tr>\n",
       "      <th>4134073</th>\n",
       "      <td>0</td>\n",
       "      <td>14</td>\n",
       "      <td>0</td>\n",
       "      <td>0</td>\n",
       "      <td>0</td>\n",
       "      <td>0</td>\n",
       "      <td>0</td>\n",
       "      <td>0</td>\n",
       "      <td>0</td>\n",
       "      <td>0</td>\n",
       "      <td>...</td>\n",
       "      <td>0</td>\n",
       "      <td>0</td>\n",
       "      <td>0</td>\n",
       "      <td>0</td>\n",
       "      <td>0</td>\n",
       "      <td>0</td>\n",
       "      <td>0</td>\n",
       "      <td>0</td>\n",
       "      <td>0</td>\n",
       "      <td>0</td>\n",
       "    </tr>\n",
       "  </tbody>\n",
       "</table>\n",
       "<p>3484 rows × 37 columns</p>\n",
       "</div>"
      ],
      "text/plain": [
       "         mode   C C# C#dim C#m Cdim Cm   D D# D#dim  ... Gm  A  A# A#dim A#m  \\\n",
       "id                                                   ...                       \n",
       "23          1   2  0     0   0    0  5   0  0     0  ...  0  0   2     0   0   \n",
       "105         1  11  0     0   0    0  0   5  0     0  ...  0  0   1     0   0   \n",
       "118         1  19  0     0   0    0  0  21  6     0  ...  0  8   0     0   0   \n",
       "120         0   6  0     0   0    0  0   0  1     0  ...  0  0   3     0   0   \n",
       "234         1   0  0     0   0    0  0   0  0     0  ...  0  1   1     0   0   \n",
       "...       ...  .. ..   ...  ..  ... ..  .. ..   ...  ... .. ..  ..   ...  ..   \n",
       "3781055     1   0  0     0   0    0  0   0  0     0  ...  0  0   0     0   0   \n",
       "3860363     1  20  0     0   0    0  0   0  0     0  ...  0  0   0     0   0   \n",
       "3898172     1  14  0     0   0    0  0   0  0     0  ...  0  0  14     0   0   \n",
       "3911342     1  20  0     0   0    0  0   0  0     0  ...  0  0   0     0   0   \n",
       "4134073     0  14  0     0   0    0  0   0  0     0  ...  0  0   0     0   0   \n",
       "\n",
       "        Adim  Am  B Bdim Bm  \n",
       "id                           \n",
       "23         0   0  0    0  0  \n",
       "105        0   0  0    0  0  \n",
       "118        0   0  0    0  0  \n",
       "120        0   0  0    0  0  \n",
       "234        0   0  0    0  0  \n",
       "...      ...  .. ..  ... ..  \n",
       "3781055    0  25  0    0  0  \n",
       "3860363    0   6  0    0  0  \n",
       "3898172    0   0  0    0  0  \n",
       "3911342    0  14  0    0  0  \n",
       "4134073    0   0  0    0  0  \n",
       "\n",
       "[3484 rows x 37 columns]"
      ]
     },
     "execution_count": 193,
     "metadata": {},
     "output_type": "execute_result"
    }
   ],
   "source": [
    "keyModeChords.iloc[:, 1:]"
   ]
  },
  {
   "cell_type": "code",
   "execution_count": 194,
   "id": "399a2a72-2d1f-444b-b966-d208ad4005cf",
   "metadata": {},
   "outputs": [],
   "source": [
    "\n",
    "\n",
    "\n"
   ]
  },
  {
   "cell_type": "markdown",
   "id": "2bf28416-7d2f-427a-b3a8-918a7c87ed4c",
   "metadata": {},
   "source": [
    "### Distribution of songs by key"
   ]
  },
  {
   "cell_type": "code",
   "execution_count": 196,
   "id": "df2f0e5f-0089-45a6-a21c-38f4b5467cc7",
   "metadata": {},
   "outputs": [
    {
     "data": {
      "text/plain": [
       "['C', 'C#', 'D', 'D#', 'E', 'F', 'F#', 'G', 'G#', 'A', 'A#', 'B']"
      ]
     },
     "execution_count": 196,
     "metadata": {},
     "output_type": "execute_result"
    }
   ],
   "source": [
    "spotifyKeys"
   ]
  },
  {
   "cell_type": "code",
   "execution_count": 197,
   "id": "7d1151bf-a7bf-4543-993d-ff1ebce2f259",
   "metadata": {},
   "outputs": [
    {
     "name": "stderr",
     "output_type": "stream",
     "text": [
      "/usr/local/lib/python3.9/site-packages/pandas/core/generic.py:5494: SettingWithCopyWarning:\n",
      "\n",
      "\n",
      "A value is trying to be set on a copy of a slice from a DataFrame.\n",
      "Try using .loc[row_indexer,col_indexer] = value instead\n",
      "\n",
      "See the caveats in the documentation: https://pandas.pydata.org/pandas-docs/stable/user_guide/indexing.html#returning-a-view-versus-a-copy\n",
      "\n"
     ]
    }
   ],
   "source": [
    "keyChords = keyModeChords.drop('mode', inplace=False, axis=1)\n",
    "keyModeChords.key = keyModeChords.key.apply(lambda x: spotifyKeys[x])"
   ]
  },
  {
   "cell_type": "code",
   "execution_count": 200,
   "id": "e6f4ddde-da8c-4252-af12-8aa0cec8c6de",
   "metadata": {},
   "outputs": [
    {
     "data": {
      "text/html": [
       "<div>\n",
       "<style scoped>\n",
       "    .dataframe tbody tr th:only-of-type {\n",
       "        vertical-align: middle;\n",
       "    }\n",
       "\n",
       "    .dataframe tbody tr th {\n",
       "        vertical-align: top;\n",
       "    }\n",
       "\n",
       "    .dataframe thead th {\n",
       "        text-align: right;\n",
       "    }\n",
       "</style>\n",
       "<table border=\"1\" class=\"dataframe\">\n",
       "  <thead>\n",
       "    <tr style=\"text-align: right;\">\n",
       "      <th></th>\n",
       "      <th>key</th>\n",
       "      <th>mode</th>\n",
       "      <th>C</th>\n",
       "      <th>C#</th>\n",
       "      <th>C#dim</th>\n",
       "      <th>C#m</th>\n",
       "      <th>Cdim</th>\n",
       "      <th>Cm</th>\n",
       "      <th>D</th>\n",
       "      <th>D#</th>\n",
       "      <th>...</th>\n",
       "      <th>Gm</th>\n",
       "      <th>A</th>\n",
       "      <th>A#</th>\n",
       "      <th>A#dim</th>\n",
       "      <th>A#m</th>\n",
       "      <th>Adim</th>\n",
       "      <th>Am</th>\n",
       "      <th>B</th>\n",
       "      <th>Bdim</th>\n",
       "      <th>Bm</th>\n",
       "    </tr>\n",
       "    <tr>\n",
       "      <th>id</th>\n",
       "      <th></th>\n",
       "      <th></th>\n",
       "      <th></th>\n",
       "      <th></th>\n",
       "      <th></th>\n",
       "      <th></th>\n",
       "      <th></th>\n",
       "      <th></th>\n",
       "      <th></th>\n",
       "      <th></th>\n",
       "      <th></th>\n",
       "      <th></th>\n",
       "      <th></th>\n",
       "      <th></th>\n",
       "      <th></th>\n",
       "      <th></th>\n",
       "      <th></th>\n",
       "      <th></th>\n",
       "      <th></th>\n",
       "      <th></th>\n",
       "      <th></th>\n",
       "    </tr>\n",
       "  </thead>\n",
       "  <tbody>\n",
       "    <tr>\n",
       "      <th>23</th>\n",
       "      <td>G</td>\n",
       "      <td>1</td>\n",
       "      <td>2</td>\n",
       "      <td>0</td>\n",
       "      <td>0</td>\n",
       "      <td>0</td>\n",
       "      <td>0</td>\n",
       "      <td>5</td>\n",
       "      <td>0</td>\n",
       "      <td>0</td>\n",
       "      <td>...</td>\n",
       "      <td>0</td>\n",
       "      <td>0</td>\n",
       "      <td>2</td>\n",
       "      <td>0</td>\n",
       "      <td>0</td>\n",
       "      <td>0</td>\n",
       "      <td>0</td>\n",
       "      <td>0</td>\n",
       "      <td>0</td>\n",
       "      <td>0</td>\n",
       "    </tr>\n",
       "    <tr>\n",
       "      <th>105</th>\n",
       "      <td>G</td>\n",
       "      <td>1</td>\n",
       "      <td>11</td>\n",
       "      <td>0</td>\n",
       "      <td>0</td>\n",
       "      <td>0</td>\n",
       "      <td>0</td>\n",
       "      <td>0</td>\n",
       "      <td>5</td>\n",
       "      <td>0</td>\n",
       "      <td>...</td>\n",
       "      <td>0</td>\n",
       "      <td>0</td>\n",
       "      <td>1</td>\n",
       "      <td>0</td>\n",
       "      <td>0</td>\n",
       "      <td>0</td>\n",
       "      <td>0</td>\n",
       "      <td>0</td>\n",
       "      <td>0</td>\n",
       "      <td>0</td>\n",
       "    </tr>\n",
       "    <tr>\n",
       "      <th>118</th>\n",
       "      <td>D</td>\n",
       "      <td>1</td>\n",
       "      <td>19</td>\n",
       "      <td>0</td>\n",
       "      <td>0</td>\n",
       "      <td>0</td>\n",
       "      <td>0</td>\n",
       "      <td>0</td>\n",
       "      <td>21</td>\n",
       "      <td>6</td>\n",
       "      <td>...</td>\n",
       "      <td>0</td>\n",
       "      <td>8</td>\n",
       "      <td>0</td>\n",
       "      <td>0</td>\n",
       "      <td>0</td>\n",
       "      <td>0</td>\n",
       "      <td>0</td>\n",
       "      <td>0</td>\n",
       "      <td>0</td>\n",
       "      <td>0</td>\n",
       "    </tr>\n",
       "    <tr>\n",
       "      <th>120</th>\n",
       "      <td>B</td>\n",
       "      <td>0</td>\n",
       "      <td>6</td>\n",
       "      <td>0</td>\n",
       "      <td>0</td>\n",
       "      <td>0</td>\n",
       "      <td>0</td>\n",
       "      <td>0</td>\n",
       "      <td>0</td>\n",
       "      <td>1</td>\n",
       "      <td>...</td>\n",
       "      <td>0</td>\n",
       "      <td>0</td>\n",
       "      <td>3</td>\n",
       "      <td>0</td>\n",
       "      <td>0</td>\n",
       "      <td>0</td>\n",
       "      <td>0</td>\n",
       "      <td>0</td>\n",
       "      <td>0</td>\n",
       "      <td>0</td>\n",
       "    </tr>\n",
       "    <tr>\n",
       "      <th>234</th>\n",
       "      <td>D#</td>\n",
       "      <td>1</td>\n",
       "      <td>0</td>\n",
       "      <td>0</td>\n",
       "      <td>0</td>\n",
       "      <td>0</td>\n",
       "      <td>0</td>\n",
       "      <td>0</td>\n",
       "      <td>0</td>\n",
       "      <td>0</td>\n",
       "      <td>...</td>\n",
       "      <td>0</td>\n",
       "      <td>1</td>\n",
       "      <td>1</td>\n",
       "      <td>0</td>\n",
       "      <td>0</td>\n",
       "      <td>0</td>\n",
       "      <td>0</td>\n",
       "      <td>0</td>\n",
       "      <td>0</td>\n",
       "      <td>0</td>\n",
       "    </tr>\n",
       "    <tr>\n",
       "      <th>...</th>\n",
       "      <td>...</td>\n",
       "      <td>...</td>\n",
       "      <td>...</td>\n",
       "      <td>...</td>\n",
       "      <td>...</td>\n",
       "      <td>...</td>\n",
       "      <td>...</td>\n",
       "      <td>...</td>\n",
       "      <td>...</td>\n",
       "      <td>...</td>\n",
       "      <td>...</td>\n",
       "      <td>...</td>\n",
       "      <td>...</td>\n",
       "      <td>...</td>\n",
       "      <td>...</td>\n",
       "      <td>...</td>\n",
       "      <td>...</td>\n",
       "      <td>...</td>\n",
       "      <td>...</td>\n",
       "      <td>...</td>\n",
       "      <td>...</td>\n",
       "    </tr>\n",
       "    <tr>\n",
       "      <th>3781055</th>\n",
       "      <td>C#</td>\n",
       "      <td>1</td>\n",
       "      <td>0</td>\n",
       "      <td>0</td>\n",
       "      <td>0</td>\n",
       "      <td>0</td>\n",
       "      <td>0</td>\n",
       "      <td>0</td>\n",
       "      <td>0</td>\n",
       "      <td>0</td>\n",
       "      <td>...</td>\n",
       "      <td>0</td>\n",
       "      <td>0</td>\n",
       "      <td>0</td>\n",
       "      <td>0</td>\n",
       "      <td>0</td>\n",
       "      <td>0</td>\n",
       "      <td>25</td>\n",
       "      <td>0</td>\n",
       "      <td>0</td>\n",
       "      <td>0</td>\n",
       "    </tr>\n",
       "    <tr>\n",
       "      <th>3860363</th>\n",
       "      <td>A#</td>\n",
       "      <td>1</td>\n",
       "      <td>20</td>\n",
       "      <td>0</td>\n",
       "      <td>0</td>\n",
       "      <td>0</td>\n",
       "      <td>0</td>\n",
       "      <td>0</td>\n",
       "      <td>0</td>\n",
       "      <td>0</td>\n",
       "      <td>...</td>\n",
       "      <td>0</td>\n",
       "      <td>0</td>\n",
       "      <td>0</td>\n",
       "      <td>0</td>\n",
       "      <td>0</td>\n",
       "      <td>0</td>\n",
       "      <td>6</td>\n",
       "      <td>0</td>\n",
       "      <td>0</td>\n",
       "      <td>0</td>\n",
       "    </tr>\n",
       "    <tr>\n",
       "      <th>3898172</th>\n",
       "      <td>F#</td>\n",
       "      <td>1</td>\n",
       "      <td>14</td>\n",
       "      <td>0</td>\n",
       "      <td>0</td>\n",
       "      <td>0</td>\n",
       "      <td>0</td>\n",
       "      <td>0</td>\n",
       "      <td>0</td>\n",
       "      <td>0</td>\n",
       "      <td>...</td>\n",
       "      <td>0</td>\n",
       "      <td>0</td>\n",
       "      <td>14</td>\n",
       "      <td>0</td>\n",
       "      <td>0</td>\n",
       "      <td>0</td>\n",
       "      <td>0</td>\n",
       "      <td>0</td>\n",
       "      <td>0</td>\n",
       "      <td>0</td>\n",
       "    </tr>\n",
       "    <tr>\n",
       "      <th>3911342</th>\n",
       "      <td>F</td>\n",
       "      <td>1</td>\n",
       "      <td>20</td>\n",
       "      <td>0</td>\n",
       "      <td>0</td>\n",
       "      <td>0</td>\n",
       "      <td>0</td>\n",
       "      <td>0</td>\n",
       "      <td>0</td>\n",
       "      <td>0</td>\n",
       "      <td>...</td>\n",
       "      <td>0</td>\n",
       "      <td>0</td>\n",
       "      <td>0</td>\n",
       "      <td>0</td>\n",
       "      <td>0</td>\n",
       "      <td>0</td>\n",
       "      <td>14</td>\n",
       "      <td>0</td>\n",
       "      <td>0</td>\n",
       "      <td>0</td>\n",
       "    </tr>\n",
       "    <tr>\n",
       "      <th>4134073</th>\n",
       "      <td>F#</td>\n",
       "      <td>0</td>\n",
       "      <td>14</td>\n",
       "      <td>0</td>\n",
       "      <td>0</td>\n",
       "      <td>0</td>\n",
       "      <td>0</td>\n",
       "      <td>0</td>\n",
       "      <td>0</td>\n",
       "      <td>0</td>\n",
       "      <td>...</td>\n",
       "      <td>0</td>\n",
       "      <td>0</td>\n",
       "      <td>0</td>\n",
       "      <td>0</td>\n",
       "      <td>0</td>\n",
       "      <td>0</td>\n",
       "      <td>0</td>\n",
       "      <td>0</td>\n",
       "      <td>0</td>\n",
       "      <td>0</td>\n",
       "    </tr>\n",
       "  </tbody>\n",
       "</table>\n",
       "<p>3484 rows × 38 columns</p>\n",
       "</div>"
      ],
      "text/plain": [
       "        key  mode   C C# C#dim C#m Cdim Cm   D D#  ... Gm  A  A# A#dim A#m  \\\n",
       "id                                                 ...                       \n",
       "23        G     1   2  0     0   0    0  5   0  0  ...  0  0   2     0   0   \n",
       "105       G     1  11  0     0   0    0  0   5  0  ...  0  0   1     0   0   \n",
       "118       D     1  19  0     0   0    0  0  21  6  ...  0  8   0     0   0   \n",
       "120       B     0   6  0     0   0    0  0   0  1  ...  0  0   3     0   0   \n",
       "234      D#     1   0  0     0   0    0  0   0  0  ...  0  1   1     0   0   \n",
       "...      ..   ...  .. ..   ...  ..  ... ..  .. ..  ... .. ..  ..   ...  ..   \n",
       "3781055  C#     1   0  0     0   0    0  0   0  0  ...  0  0   0     0   0   \n",
       "3860363  A#     1  20  0     0   0    0  0   0  0  ...  0  0   0     0   0   \n",
       "3898172  F#     1  14  0     0   0    0  0   0  0  ...  0  0  14     0   0   \n",
       "3911342   F     1  20  0     0   0    0  0   0  0  ...  0  0   0     0   0   \n",
       "4134073  F#     0  14  0     0   0    0  0   0  0  ...  0  0   0     0   0   \n",
       "\n",
       "        Adim  Am  B Bdim Bm  \n",
       "id                           \n",
       "23         0   0  0    0  0  \n",
       "105        0   0  0    0  0  \n",
       "118        0   0  0    0  0  \n",
       "120        0   0  0    0  0  \n",
       "234        0   0  0    0  0  \n",
       "...      ...  .. ..  ... ..  \n",
       "3781055    0  25  0    0  0  \n",
       "3860363    0   6  0    0  0  \n",
       "3898172    0   0  0    0  0  \n",
       "3911342    0  14  0    0  0  \n",
       "4134073    0   0  0    0  0  \n",
       "\n",
       "[3484 rows x 38 columns]"
      ]
     },
     "execution_count": 200,
     "metadata": {},
     "output_type": "execute_result"
    }
   ],
   "source": [
    "keyModeChords "
   ]
  },
  {
   "cell_type": "code",
   "execution_count": 201,
   "id": "5b2806dc-59db-4ed4-b0a7-e5cf88087fd1",
   "metadata": {},
   "outputs": [
    {
     "data": {
      "image/png": "[encoded data removed]",
      "text/plain": [
       "<Figure size 576x360 with 1 Axes>"
      ]
     },
     "metadata": {
      "needs_background": "light"
     },
     "output_type": "display_data"
    }
   ],
   "source": [
    "import matplotlib.pyplot as plt\n",
    "import seaborn as sns\n",
    "\n",
    "\n",
    "\n",
    "\n",
    "plt.figure(figsize=(8,5))\n",
    "g = sns.countplot(x='key',data=keyModeChords, palette='rainbow',hue='mode')\n",
    "plt.legend(title='Mode', loc='upper right', labels=['Minor', 'Major'])\n",
    "plt.show(g)"
   ]
  },
  {
   "cell_type": "code",
   "execution_count": null,
   "id": "2a1642d2-aa20-4dbb-bbc1-1711a3ea895c",
   "metadata": {},
   "outputs": [],
   "source": [
    "len(chordsSum.values.tolist())"
   ]
  },
  {
   "cell_type": "code",
   "execution_count": null,
   "id": "bec78140-698f-4376-b4ad-c119bfb50c50",
   "metadata": {},
   "outputs": [],
   "source": [
    "chordsSum.columns"
   ]
  },
  {
   "cell_type": "code",
   "execution_count": null,
   "id": "29d311b6-3733-49e7-920b-00729f7c9684",
   "metadata": {},
   "outputs": [],
   "source": [
    "X = chordsDF.values.tolist()"
   ]
  },
  {
   "cell_type": "markdown",
   "id": "8f09e939-3453-4bbf-9347-c7f4ba019ca8",
   "metadata": {},
   "source": [
    "## Applying K-means Clustering\n",
    "Inspired from [this article](https://medium.com/towards-data-science/k-means-clustering-unsupervised-learning-for-recommender-systems-397d3790f90f)"
   ]
  },
  {
   "cell_type": "code",
   "execution_count": 474,
   "id": "60ab295e-a491-4f26-bfb1-470b2b86c2d6",
   "metadata": {
    "tags": []
   },
   "outputs": [
    {
     "data": {
      "text/html": [
       "<style>#sk-container-id-14 {color: black;background-color: white;}#sk-container-id-14 pre{padding: 0;}#sk-container-id-14 div.sk-toggleable {background-color: white;}#sk-container-id-14 label.sk-toggleable__label {cursor: pointer;display: block;width: 100%;margin-bottom: 0;padding: 0.3em;box-sizing: border-box;text-align: center;}#sk-container-id-14 label.sk-toggleable__label-arrow:before {content: \"▸\";float: left;margin-right: 0.25em;color: #696969;}#sk-container-id-14 label.sk-toggleable__label-arrow:hover:before {color: black;}#sk-container-id-14 div.sk-estimator:hover label.sk-toggleable__label-arrow:before {color: black;}#sk-container-id-14 div.sk-toggleable__content {max-height: 0;max-width: 0;overflow: hidden;text-align: left;background-color: #f0f8ff;}#sk-container-id-14 div.sk-toggleable__content pre {margin: 0.2em;color: black;border-radius: 0.25em;background-color: #f0f8ff;}#sk-container-id-14 input.sk-toggleable__control:checked~div.sk-toggleable__content {max-height: 200px;max-width: 100%;overflow: auto;}#sk-container-id-14 input.sk-toggleable__control:checked~label.sk-toggleable__label-arrow:before {content: \"▾\";}#sk-container-id-14 div.sk-estimator input.sk-toggleable__control:checked~label.sk-toggleable__label {background-color: #d4ebff;}#sk-container-id-14 div.sk-label input.sk-toggleable__control:checked~label.sk-toggleable__label {background-color: #d4ebff;}#sk-container-id-14 input.sk-hidden--visually {border: 0;clip: rect(1px 1px 1px 1px);clip: rect(1px, 1px, 1px, 1px);height: 1px;margin: -1px;overflow: hidden;padding: 0;position: absolute;width: 1px;}#sk-container-id-14 div.sk-estimator {font-family: monospace;background-color: #f0f8ff;border: 1px dotted black;border-radius: 0.25em;box-sizing: border-box;margin-bottom: 0.5em;}#sk-container-id-14 div.sk-estimator:hover {background-color: #d4ebff;}#sk-container-id-14 div.sk-parallel-item::after {content: \"\";width: 100%;border-bottom: 1px solid gray;flex-grow: 1;}#sk-container-id-14 div.sk-label:hover label.sk-toggleable__label {background-color: #d4ebff;}#sk-container-id-14 div.sk-serial::before {content: \"\";position: absolute;border-left: 1px solid gray;box-sizing: border-box;top: 0;bottom: 0;left: 50%;z-index: 0;}#sk-container-id-14 div.sk-serial {display: flex;flex-direction: column;align-items: center;background-color: white;padding-right: 0.2em;padding-left: 0.2em;position: relative;}#sk-container-id-14 div.sk-item {position: relative;z-index: 1;}#sk-container-id-14 div.sk-parallel {display: flex;align-items: stretch;justify-content: center;background-color: white;position: relative;}#sk-container-id-14 div.sk-item::before, #sk-container-id-14 div.sk-parallel-item::before {content: \"\";position: absolute;border-left: 1px solid gray;box-sizing: border-box;top: 0;bottom: 0;left: 50%;z-index: -1;}#sk-container-id-14 div.sk-parallel-item {display: flex;flex-direction: column;z-index: 1;position: relative;background-color: white;}#sk-container-id-14 div.sk-parallel-item:first-child::after {align-self: flex-end;width: 50%;}#sk-container-id-14 div.sk-parallel-item:last-child::after {align-self: flex-start;width: 50%;}#sk-container-id-14 div.sk-parallel-item:only-child::after {width: 0;}#sk-container-id-14 div.sk-dashed-wrapped {border: 1px dashed gray;margin: 0 0.4em 0.5em 0.4em;box-sizing: border-box;padding-bottom: 0.4em;background-color: white;}#sk-container-id-14 div.sk-label label {font-family: monospace;font-weight: bold;display: inline-block;line-height: 1.2em;}#sk-container-id-14 div.sk-label-container {text-align: center;}#sk-container-id-14 div.sk-container {/* jupyter's `normalize.less` sets `[hidden] { display: none; }` but bootstrap.min.css set `[hidden] { display: none !important; }` so we also need the `!important` here to be able to override the default hidden behavior on the sphinx rendered scikit-learn.org. See: https://github.com/scikit-learn/scikit-learn/issues/21755 */display: inline-block !important;position: relative;}#sk-container-id-14 div.sk-text-repr-fallback {display: none;}</style><div id=\"sk-container-id-14\" class=\"sk-top-container\"><div class=\"sk-text-repr-fallback\"><pre>KMeans(n_clusters=15)</pre><b>In a Jupyter environment, please rerun this cell to show the HTML representation or trust the notebook. <br />On GitHub, the HTML representation is unable to render, please try loading this page with nbviewer.org.</b></div><div class=\"sk-container\" hidden><div class=\"sk-item\"><div class=\"sk-estimator sk-toggleable\"><input class=\"sk-toggleable__control sk-hidden--visually\" id=\"sk-estimator-id-14\" type=\"checkbox\" checked><label for=\"sk-estimator-id-14\" class=\"sk-toggleable__label sk-toggleable__label-arrow\">KMeans</label><div class=\"sk-toggleable__content\"><pre>KMeans(n_clusters=15)</pre></div></div></div></div></div>"
      ],
      "text/plain": [
       "KMeans(n_clusters=15)"
      ]
     },
     "execution_count": 474,
     "metadata": {},
     "output_type": "execute_result"
    }
   ],
   "source": [
    "numClusters = 15\n",
    "\n",
    "km = dask_ml.cluster.KMeans(n_clusters=numClusters)\n",
    "km.fit(X)"
   ]
  },
  {
   "cell_type": "code",
   "execution_count": 475,
   "id": "f8c5f52c-6faf-4264-9e5a-a3a3b3cb8c4b",
   "metadata": {
    "tags": []
   },
   "outputs": [],
   "source": [
    "## Concatenating the labels into the dataset \n",
    "labels = list(km.labels_.compute())\n",
    "chordsDF['category'] = labels"
   ]
  },
  {
   "cell_type": "code",
   "execution_count": 476,
   "id": "d0281ede-5a58-4b74-bb7b-f58b686a0fe7",
   "metadata": {},
   "outputs": [
    {
     "data": {
      "text/html": [
       "<div>\n",
       "<style scoped>\n",
       "    .dataframe tbody tr th:only-of-type {\n",
       "        vertical-align: middle;\n",
       "    }\n",
       "\n",
       "    .dataframe tbody tr th {\n",
       "        vertical-align: top;\n",
       "    }\n",
       "\n",
       "    .dataframe thead th {\n",
       "        text-align: right;\n",
       "    }\n",
       "</style>\n",
       "<table border=\"1\" class=\"dataframe\">\n",
       "  <thead>\n",
       "    <tr style=\"text-align: right;\">\n",
       "      <th></th>\n",
       "      <th>C</th>\n",
       "      <th>C#</th>\n",
       "      <th>C#dim</th>\n",
       "      <th>C#m</th>\n",
       "      <th>Cdim</th>\n",
       "      <th>Cm</th>\n",
       "      <th>D</th>\n",
       "      <th>D#</th>\n",
       "      <th>D#dim</th>\n",
       "      <th>D#m</th>\n",
       "      <th>...</th>\n",
       "      <th>A</th>\n",
       "      <th>A#</th>\n",
       "      <th>A#dim</th>\n",
       "      <th>A#m</th>\n",
       "      <th>Adim</th>\n",
       "      <th>Am</th>\n",
       "      <th>B</th>\n",
       "      <th>Bdim</th>\n",
       "      <th>Bm</th>\n",
       "      <th>category</th>\n",
       "    </tr>\n",
       "  </thead>\n",
       "  <tbody>\n",
       "    <tr>\n",
       "      <th>0</th>\n",
       "      <td>2</td>\n",
       "      <td>0</td>\n",
       "      <td>0</td>\n",
       "      <td>0</td>\n",
       "      <td>0</td>\n",
       "      <td>5</td>\n",
       "      <td>0</td>\n",
       "      <td>0</td>\n",
       "      <td>0</td>\n",
       "      <td>0</td>\n",
       "      <td>...</td>\n",
       "      <td>0</td>\n",
       "      <td>2</td>\n",
       "      <td>0</td>\n",
       "      <td>0</td>\n",
       "      <td>0</td>\n",
       "      <td>0</td>\n",
       "      <td>0</td>\n",
       "      <td>0</td>\n",
       "      <td>0</td>\n",
       "      <td>1</td>\n",
       "    </tr>\n",
       "    <tr>\n",
       "      <th>1</th>\n",
       "      <td>66</td>\n",
       "      <td>0</td>\n",
       "      <td>0</td>\n",
       "      <td>0</td>\n",
       "      <td>0</td>\n",
       "      <td>7</td>\n",
       "      <td>40</td>\n",
       "      <td>27</td>\n",
       "      <td>0</td>\n",
       "      <td>0</td>\n",
       "      <td>...</td>\n",
       "      <td>4</td>\n",
       "      <td>28</td>\n",
       "      <td>0</td>\n",
       "      <td>0</td>\n",
       "      <td>0</td>\n",
       "      <td>39</td>\n",
       "      <td>0</td>\n",
       "      <td>0</td>\n",
       "      <td>24</td>\n",
       "      <td>6</td>\n",
       "    </tr>\n",
       "  </tbody>\n",
       "</table>\n",
       "<p>2 rows × 37 columns</p>\n",
       "</div>"
      ],
      "text/plain": [
       "    C C# C#dim C#m Cdim Cm   D  D# D#dim D#m  ...  A  A# A#dim A#m Adim  Am  \\\n",
       "0   2  0     0   0    0  5   0   0     0   0  ...  0   2     0   0    0   0   \n",
       "1  66  0     0   0    0  7  40  27     0   0  ...  4  28     0   0    0  39   \n",
       "\n",
       "   B Bdim  Bm category  \n",
       "0  0    0   0        1  \n",
       "1  0    0  24        6  \n",
       "\n",
       "[2 rows x 37 columns]"
      ]
     },
     "execution_count": 476,
     "metadata": {},
     "output_type": "execute_result"
    }
   ],
   "source": [
    "chordsDF.head(2)"
   ]
  },
  {
   "cell_type": "code",
   "execution_count": 477,
   "id": "18bcb227-1da6-4edf-8e17-4f1403e16860",
   "metadata": {},
   "outputs": [
    {
     "data": {
      "application/vnd.plotly.v1+json": {
       "config": {
        "plotlyServerURL": "https://plot.ly"
       },
       "data": [
        {
         "alignmentgroup": "True",
         "bingroup": "x",
         "hovertemplate": "category=%{x}<br>count=%{y}<extra></extra>",
         "legendgroup": "",
         "marker": {
          "color": "#636efa",
          "pattern": {
           "shape": ""
          }
         },
         "name": "",
         "offsetgroup": "",
         "orientation": "v",
         "showlegend": false,
         "type": "histogram",
         "x": [
          1,
          6,
          1,
          1,
          1,
          1,
          9,
          9,
          1,
          9,
          1,
          1,
          4,
          9,
          4,
          10,
          1,
          1,
          1,
          10,
          12,
          4,
          13,
          13,
          13,
          14,
          14,
          4,
          9,
          10,
          7,
          7,
          7,
          12,
          14,
          14,
          14,
          13,
          5,
          4,
          1,
          1,
          14,
          10,
          13,
          4,
          9,
          13,
          14,
          14,
          1,
          10,
          10,
          1,
          14,
          9,
          4,
          12,
          1,
          9,
          9,
          9,
          6,
          12,
          4,
          9,
          7,
          1,
          9,
          10,
          4,
          1,
          14,
          9,
          13,
          4,
          13,
          5,
          1,
          13,
          14,
          9,
          13,
          14,
          14,
          14,
          13,
          1,
          4,
          14,
          9,
          1,
          14,
          7,
          9,
          1,
          4,
          8,
          4,
          4,
          10,
          4,
          1,
          5,
          13,
          13,
          9,
          10,
          14,
          1,
          4,
          13,
          10,
          13,
          6,
          14,
          14,
          9,
          9,
          9,
          1,
          9,
          14,
          13,
          12,
          4,
          1,
          4,
          7,
          10,
          14,
          14,
          9,
          9,
          10,
          14,
          9,
          14,
          9,
          4,
          1,
          10,
          1,
          1,
          14,
          14,
          4,
          9,
          9,
          1,
          14,
          7,
          5,
          4,
          5,
          14,
          1,
          14,
          1,
          14,
          5,
          13,
          9,
          1,
          7,
          9,
          4,
          1,
          1,
          14,
          8,
          14,
          1,
          9,
          1,
          4,
          1,
          1,
          1,
          1,
          1,
          14,
          1,
          7,
          9,
          1,
          1,
          1,
          4,
          1,
          4,
          14,
          14,
          1,
          1,
          9,
          1,
          1,
          10,
          14,
          1,
          1,
          14,
          1,
          1,
          4,
          14,
          13,
          9,
          9,
          1,
          4,
          14,
          9,
          13,
          1,
          12,
          4,
          7,
          1,
          12,
          4,
          7,
          10,
          8,
          1,
          9,
          13,
          5,
          12,
          1,
          1,
          4,
          14,
          14,
          9,
          1,
          1,
          9,
          7,
          12,
          13,
          1,
          9,
          10,
          1,
          4,
          9,
          9,
          14,
          10,
          10,
          12,
          1,
          1,
          13,
          12,
          9,
          9,
          4,
          12,
          1,
          5,
          1,
          14,
          14,
          13,
          1,
          1,
          12,
          1,
          1,
          7,
          14,
          9,
          12,
          9,
          1,
          8,
          4,
          1,
          14,
          1,
          14,
          13,
          9,
          1,
          4,
          7,
          4,
          14,
          1,
          4,
          1,
          8,
          9,
          12,
          14,
          14,
          9,
          9,
          1,
          14,
          9,
          1,
          12,
          5,
          1,
          13,
          5,
          9,
          9,
          4,
          7,
          10,
          5,
          8,
          14,
          14,
          13,
          1,
          4,
          14,
          4,
          7,
          1,
          1,
          7,
          1,
          6,
          1,
          9,
          1,
          14,
          9,
          9,
          1,
          1,
          7,
          13,
          1,
          9,
          5,
          1,
          1,
          14,
          7,
          4,
          7,
          9,
          9,
          1,
          9,
          1,
          14,
          1,
          4,
          9,
          4,
          4,
          4,
          7,
          12,
          1,
          8,
          4,
          14,
          4,
          13,
          7,
          13,
          13,
          4,
          1,
          9,
          9,
          14,
          4,
          4,
          6,
          9,
          1,
          1,
          13,
          5,
          5,
          13,
          1,
          13,
          7,
          12,
          1,
          1,
          12,
          14,
          1,
          1,
          9,
          6,
          8,
          7,
          8,
          1,
          9,
          14,
          7,
          14,
          14,
          13,
          9,
          14,
          1,
          4,
          13,
          8,
          1,
          5,
          10,
          12,
          1,
          1,
          7,
          4,
          1,
          9,
          1,
          12,
          12,
          1,
          1,
          9,
          14,
          9,
          4,
          4,
          5,
          10,
          4,
          9,
          4,
          13,
          9,
          13,
          8,
          7,
          4,
          9,
          1,
          7,
          12,
          13,
          1,
          14,
          13,
          1,
          13,
          12,
          8,
          1,
          1,
          9,
          12,
          14,
          1,
          1,
          1,
          13,
          9,
          12,
          1,
          10,
          10,
          1,
          14,
          7,
          14,
          13,
          1,
          5,
          4,
          14,
          7,
          9,
          7,
          1,
          14,
          1,
          7,
          14,
          1,
          1,
          9,
          4,
          14,
          1,
          1,
          14,
          4,
          1,
          1,
          14,
          9,
          1,
          1,
          14,
          7,
          9,
          13,
          14,
          1,
          10,
          9,
          1,
          14,
          1,
          1,
          9,
          1,
          13,
          14,
          4,
          14,
          13,
          9,
          7,
          1,
          13,
          14,
          13,
          1,
          13,
          14,
          8,
          9,
          4,
          14,
          9,
          1,
          9,
          7,
          13,
          1,
          1,
          9,
          14,
          6,
          14,
          9,
          1,
          9,
          4,
          9,
          1,
          14,
          1,
          13,
          14,
          9,
          1,
          10,
          1,
          13,
          8,
          9,
          13,
          14,
          9,
          4,
          4,
          13,
          13,
          7,
          10,
          14,
          7,
          14,
          8,
          14,
          5,
          1,
          1,
          14,
          1,
          1,
          13,
          14,
          4,
          1,
          1,
          4,
          9,
          1,
          1,
          9,
          1,
          11,
          12,
          4,
          14,
          9,
          14,
          1,
          1,
          13,
          1,
          12,
          10,
          4,
          1,
          1,
          10,
          10,
          1,
          9,
          12,
          1,
          9,
          7,
          10,
          1,
          1,
          5,
          1,
          1,
          14,
          1,
          14,
          1,
          12,
          1,
          13,
          1,
          1,
          1,
          13,
          13,
          12,
          13,
          8,
          10,
          5,
          1,
          1,
          5,
          1,
          12,
          1,
          13,
          4,
          13,
          14,
          13,
          7,
          5,
          13,
          6,
          1,
          1,
          9,
          12,
          1,
          8,
          4,
          14,
          1,
          10,
          9,
          1,
          8,
          14,
          1,
          9,
          5,
          9,
          14,
          9,
          1,
          1,
          12,
          9,
          9,
          12,
          9,
          4,
          14,
          7,
          1,
          13,
          13,
          9,
          14,
          12,
          1,
          1,
          9,
          14,
          9,
          14,
          1,
          1,
          13,
          1,
          9,
          9,
          8,
          1,
          9,
          12,
          14,
          7,
          1,
          7,
          9,
          9,
          9,
          9,
          14,
          4,
          9,
          1,
          9,
          13,
          4,
          4,
          12,
          4,
          9,
          12,
          4,
          5,
          14,
          14,
          5,
          1,
          9,
          4,
          1,
          9,
          1,
          10,
          13,
          1,
          9,
          13,
          9,
          9,
          4,
          4,
          13,
          4,
          4,
          1,
          8,
          1,
          1,
          4,
          14,
          4,
          1,
          1,
          13,
          13,
          1,
          1,
          7,
          9,
          14,
          14,
          8,
          9,
          1,
          13,
          7,
          14,
          8,
          9,
          8,
          7,
          10,
          4,
          12,
          8,
          13,
          13,
          4,
          14,
          9,
          1,
          14,
          9,
          9,
          12,
          7,
          1,
          4,
          9,
          12,
          9,
          9,
          4,
          10,
          1,
          5,
          1,
          9,
          1,
          1,
          7,
          8,
          7,
          1,
          1,
          4,
          4,
          13,
          9,
          9,
          14,
          1,
          1,
          8,
          4,
          13,
          14,
          9,
          13,
          1,
          1,
          1,
          5,
          1,
          5,
          8,
          1,
          9,
          1,
          12,
          12,
          12,
          2,
          14,
          1,
          13,
          8,
          13,
          14,
          9,
          9,
          9,
          4,
          9,
          9,
          14,
          9,
          14,
          1,
          13,
          9,
          1,
          9,
          1,
          14,
          9,
          7,
          14,
          1,
          13,
          9,
          7,
          1,
          4,
          9,
          9,
          7,
          3,
          13,
          1,
          1,
          14,
          1,
          8,
          13,
          14,
          14,
          1,
          4,
          9,
          14,
          6,
          1,
          9,
          4,
          9,
          9,
          9,
          14,
          9,
          9,
          5,
          1,
          1,
          9,
          10,
          14,
          1,
          12,
          9,
          8,
          14,
          4,
          9,
          7,
          14,
          4,
          4,
          10,
          8,
          1,
          14,
          9,
          13,
          5,
          9,
          13,
          8,
          9,
          9,
          14,
          14,
          1,
          14,
          1,
          14,
          1,
          12,
          5,
          1,
          9,
          10,
          9,
          9,
          14,
          13,
          8,
          1,
          9,
          14,
          5,
          1,
          12,
          9,
          1,
          14,
          1,
          7,
          13,
          7,
          1,
          14,
          9,
          10,
          9,
          4,
          9,
          4,
          9,
          9,
          4,
          9,
          9,
          1,
          4,
          9,
          9,
          9,
          9,
          7,
          12,
          14,
          1,
          13,
          9,
          12,
          4,
          1,
          9,
          1,
          7,
          13,
          9,
          9,
          9,
          14,
          12,
          9,
          9,
          5,
          1,
          14,
          13,
          1,
          14,
          1,
          1,
          1,
          14,
          7,
          10,
          1,
          13,
          1,
          1,
          1,
          7,
          4,
          14,
          14,
          1,
          12,
          9,
          9,
          1,
          4,
          13,
          8,
          7,
          5,
          5,
          9,
          13,
          9,
          7,
          7,
          1,
          4,
          9,
          1,
          9,
          9,
          1,
          4,
          4,
          10,
          4,
          9,
          9,
          14,
          9,
          14,
          1,
          9,
          9,
          1,
          7,
          7,
          10,
          4,
          1,
          13,
          13,
          7,
          14,
          12,
          1,
          13,
          14,
          10,
          9,
          5,
          12,
          4,
          9,
          9,
          9,
          9,
          1,
          6,
          4,
          4,
          9,
          5,
          4,
          9,
          9,
          1,
          10,
          1,
          1,
          1,
          1,
          9,
          4,
          1,
          1,
          1,
          14,
          9,
          4,
          9,
          10,
          4,
          14,
          14,
          1,
          1,
          9,
          1,
          1,
          12,
          4,
          14,
          4,
          9,
          1,
          14,
          4,
          1,
          1,
          4,
          1,
          13,
          1,
          14,
          14,
          14,
          1,
          14,
          9,
          9,
          9,
          5,
          5,
          4,
          14,
          12,
          9,
          14,
          1,
          1,
          9,
          1,
          9,
          9,
          12,
          8,
          14,
          13,
          9,
          8,
          5,
          1,
          1,
          7,
          9,
          4,
          14,
          1,
          1,
          1,
          9,
          9,
          9,
          7,
          4,
          5,
          1,
          13,
          14,
          1,
          1,
          13,
          1,
          1,
          4,
          8,
          1,
          7,
          9,
          4,
          1,
          1,
          9,
          8,
          5,
          4,
          9,
          1,
          9,
          1,
          10,
          1,
          1,
          12,
          7,
          14,
          1,
          1,
          1,
          1,
          13,
          9,
          1,
          10,
          9,
          14,
          8,
          12,
          9,
          5,
          9,
          9,
          10,
          1,
          8,
          9,
          9,
          4,
          1,
          12,
          7,
          13,
          14,
          9,
          1,
          1,
          14,
          13,
          7,
          9,
          1,
          13,
          14,
          1,
          7,
          9,
          1,
          9,
          14,
          1,
          1,
          9,
          1,
          1,
          12,
          7,
          7,
          4,
          14,
          1,
          1,
          13,
          1,
          1,
          14,
          10,
          5,
          14,
          13,
          14,
          13,
          4,
          9,
          1,
          1,
          1,
          8,
          8,
          1,
          1,
          13,
          9,
          1,
          9,
          7,
          1,
          10,
          12,
          1,
          9,
          7,
          14,
          14,
          4,
          9,
          9,
          9,
          14,
          1,
          9,
          9,
          14,
          9,
          1,
          1,
          9,
          5,
          9,
          1,
          7,
          9,
          1,
          4,
          12,
          12,
          13,
          14,
          12,
          14,
          13,
          1,
          14,
          1,
          10,
          4,
          13,
          13,
          1,
          1,
          8,
          8,
          13,
          1,
          1,
          13,
          10,
          14,
          6,
          13,
          9,
          9,
          1,
          9,
          1,
          10,
          8,
          14,
          14,
          1,
          5,
          4,
          14,
          14,
          8,
          8,
          14,
          10,
          1,
          4,
          9,
          1,
          12,
          1,
          9,
          5,
          13,
          9,
          13,
          1,
          7,
          13,
          1,
          6,
          9,
          1,
          9,
          9,
          8,
          9,
          10,
          1,
          14,
          13,
          5,
          9,
          14,
          9,
          9,
          8,
          1,
          14,
          8,
          4,
          8,
          13,
          8,
          10,
          1,
          1,
          9,
          1,
          1,
          8,
          9,
          1,
          9,
          14,
          5,
          1,
          13,
          1,
          12,
          10,
          1,
          12,
          1,
          9,
          4,
          4,
          1,
          13,
          9,
          14,
          14,
          1,
          4,
          7,
          1,
          13,
          9,
          1,
          9,
          1,
          7,
          1,
          1,
          1,
          14,
          9,
          9,
          8,
          1,
          9,
          12,
          1,
          4,
          1,
          5,
          9,
          9,
          1,
          1,
          9,
          13,
          1,
          8,
          1,
          8,
          4,
          10,
          1,
          1,
          9,
          14,
          1,
          1,
          12,
          4,
          9,
          9,
          9,
          7,
          9,
          13,
          12,
          1,
          1,
          1,
          1,
          1,
          5,
          1,
          14,
          4,
          13,
          9,
          9,
          9,
          13,
          7,
          8,
          9,
          5,
          4,
          1,
          7,
          13,
          13,
          12,
          1,
          13,
          14,
          1,
          13,
          1,
          9,
          9,
          14,
          9,
          1,
          10,
          13,
          8,
          9,
          1,
          9,
          1,
          5,
          1,
          1,
          14,
          13,
          13,
          1,
          9,
          7,
          1,
          9,
          5,
          13,
          1,
          7,
          9,
          12,
          9,
          9,
          13,
          8,
          8,
          5,
          12,
          4,
          10,
          9,
          5,
          13,
          14,
          1,
          14,
          12,
          4,
          7,
          8,
          1,
          9,
          1,
          6,
          7,
          9,
          7,
          5,
          9,
          1,
          4,
          1,
          1,
          9,
          12,
          1,
          6,
          9,
          9,
          1,
          14,
          14,
          14,
          14,
          12,
          9,
          1,
          12,
          1,
          7,
          9,
          13,
          4,
          9,
          7,
          14,
          1,
          1,
          9,
          1,
          5,
          8,
          14,
          1,
          9,
          9,
          14,
          13,
          13,
          7,
          1,
          4,
          10,
          12,
          13,
          14,
          4,
          9,
          10,
          4,
          4,
          9,
          8,
          1,
          12,
          9,
          1,
          13,
          7,
          9,
          13,
          4,
          7,
          13,
          4,
          12,
          9,
          13,
          1,
          8,
          4,
          9,
          9,
          14,
          5,
          14,
          4,
          14,
          9,
          8,
          5,
          13,
          1,
          1,
          13,
          13,
          14,
          14,
          1,
          9,
          10,
          4,
          9,
          13,
          14,
          14,
          8,
          1,
          1,
          9,
          12,
          10,
          9,
          5,
          9,
          9,
          5,
          9,
          13,
          4,
          9,
          9,
          1,
          1,
          9,
          1,
          1,
          1,
          9,
          5,
          1,
          4,
          14,
          13,
          4,
          1,
          4,
          8,
          4,
          9,
          1,
          1,
          8,
          13,
          4,
          9,
          4,
          5,
          1,
          9,
          1,
          1,
          1,
          14,
          7,
          8,
          7,
          8,
          14,
          7,
          9,
          1,
          1,
          1,
          8,
          1,
          14,
          9,
          1,
          12,
          12,
          9,
          7,
          12,
          9,
          1,
          5,
          9,
          9,
          1,
          1,
          1,
          9,
          13,
          9,
          1,
          14,
          9,
          1,
          1,
          9,
          1,
          1,
          4,
          9,
          1,
          9,
          12,
          14,
          1,
          9,
          9,
          4,
          13,
          9,
          10,
          5,
          9,
          9,
          1,
          7,
          12,
          14,
          5,
          9,
          9,
          9,
          12,
          1,
          1,
          9,
          4,
          14,
          1,
          9,
          14,
          9,
          1,
          14,
          8,
          1,
          4,
          7,
          4,
          8,
          1,
          7,
          1,
          4,
          9,
          7,
          9,
          6,
          9,
          1,
          9,
          1,
          9,
          5,
          9,
          12,
          14,
          8,
          9,
          4,
          9,
          9,
          9,
          4,
          9,
          1,
          9,
          4,
          4,
          9,
          14,
          1,
          4,
          10,
          1,
          9,
          14,
          5,
          1,
          4,
          13,
          14,
          13,
          9,
          9,
          1,
          8,
          1,
          1,
          13,
          1,
          9,
          11,
          13,
          1,
          1,
          1,
          12,
          7,
          9,
          1,
          4,
          1,
          6,
          7,
          12,
          10,
          14,
          1,
          1,
          1,
          1,
          5,
          1,
          1,
          8,
          9,
          1,
          1,
          13,
          9,
          9,
          1,
          1,
          4,
          9,
          1,
          1,
          8,
          7,
          9,
          10,
          12,
          9,
          1,
          12,
          7,
          1,
          14,
          12,
          12,
          9,
          1,
          14,
          1,
          13,
          13,
          13,
          9,
          8,
          1,
          1,
          9,
          14,
          4,
          9,
          14,
          1,
          4,
          13,
          1,
          1,
          9,
          14,
          13,
          1,
          14,
          1,
          1,
          1,
          1,
          13,
          8,
          8,
          1,
          1,
          12,
          1,
          4,
          9,
          9,
          6,
          13,
          1,
          1,
          7,
          4,
          13,
          7,
          1,
          12,
          8,
          10,
          14,
          14,
          9,
          1,
          9,
          12,
          7,
          9,
          1,
          7,
          8,
          5,
          14,
          4,
          9,
          9,
          7,
          7,
          14,
          8,
          9,
          14,
          1,
          9,
          8,
          4,
          9,
          9,
          13,
          12,
          1,
          4,
          9,
          8,
          13,
          12,
          4,
          14,
          1,
          7,
          1,
          9,
          13,
          9,
          13,
          7,
          5,
          9,
          4,
          5,
          12,
          4,
          9,
          4,
          1,
          9,
          7,
          12,
          13,
          1,
          5,
          4,
          9,
          7,
          9,
          1,
          7,
          1,
          1,
          1,
          4,
          7,
          4,
          5,
          5,
          1,
          13,
          9,
          9,
          1,
          7,
          1,
          11,
          1,
          9,
          1,
          1,
          1,
          12,
          1,
          9,
          12,
          1,
          1,
          9,
          5,
          10,
          1,
          1,
          7,
          14,
          9,
          14,
          13,
          5,
          1,
          13,
          9,
          1,
          4,
          12,
          14,
          9,
          1,
          4,
          14,
          1,
          5,
          4,
          10,
          4,
          1,
          9,
          1,
          9,
          12,
          14,
          7,
          12,
          12,
          9,
          1,
          1,
          1,
          9,
          13,
          13,
          13,
          1,
          14,
          1,
          9,
          14,
          4,
          12,
          13,
          14,
          1,
          8,
          8,
          14,
          1,
          9,
          7,
          4,
          13,
          9,
          9,
          1,
          5,
          10,
          9,
          7,
          9,
          1,
          1,
          1,
          4,
          10,
          1,
          7,
          12,
          14,
          13,
          9,
          14,
          1,
          5,
          1,
          8,
          9,
          1,
          9,
          7,
          9,
          14,
          12,
          7,
          1,
          9,
          9,
          1,
          9,
          9,
          14,
          1,
          9,
          4,
          8,
          1,
          14,
          9,
          12,
          10,
          13,
          1,
          1,
          1,
          13,
          4,
          9,
          9,
          12,
          14,
          9,
          12,
          7,
          1,
          6,
          9,
          12,
          13,
          14,
          1,
          1,
          4,
          5,
          12,
          9,
          13,
          4,
          12,
          12,
          9,
          12,
          13,
          10,
          12,
          9,
          1,
          6,
          14,
          1,
          14,
          5,
          9,
          8,
          14,
          8,
          14,
          8,
          8,
          12,
          9,
          1,
          4,
          1,
          5,
          1,
          1,
          1,
          14,
          4,
          9,
          1,
          7,
          1,
          14,
          13,
          1,
          14,
          14,
          9,
          9,
          12,
          1,
          1,
          7,
          1,
          12,
          12,
          4,
          9,
          7,
          7,
          12,
          9,
          13,
          10,
          9,
          14,
          13,
          9,
          6,
          1,
          14,
          1,
          12,
          9,
          9,
          9,
          1,
          4,
          9,
          8,
          1,
          9,
          1,
          5,
          12,
          9,
          1,
          8,
          12,
          1,
          13,
          7,
          1,
          1,
          13,
          4,
          1,
          1,
          5,
          14,
          7,
          1,
          14,
          8,
          1,
          1,
          1,
          1,
          14,
          9,
          1,
          14,
          7,
          14,
          1,
          9,
          1,
          13,
          9,
          12,
          14,
          4,
          7,
          9,
          14,
          8,
          1,
          4,
          14,
          4,
          1,
          1,
          7,
          14,
          9,
          12,
          12,
          14,
          9,
          14,
          9,
          1,
          1,
          9,
          1,
          5,
          9,
          8,
          8,
          14,
          14,
          14,
          4,
          1,
          12,
          1,
          1,
          7,
          1,
          1,
          7,
          14,
          14,
          9,
          7,
          7,
          4,
          4,
          1,
          9,
          7,
          13,
          14,
          9,
          14,
          13,
          12,
          4,
          9,
          9,
          10,
          14,
          7,
          7,
          4,
          8,
          12,
          13,
          9,
          1,
          9,
          9,
          6,
          1,
          14,
          13,
          9,
          14,
          5,
          14,
          14,
          4,
          1,
          1,
          14,
          1,
          1,
          12,
          1,
          1,
          14,
          9,
          1,
          5,
          4,
          14,
          8,
          1,
          5,
          1,
          14,
          9,
          14,
          12,
          1,
          14,
          9,
          1,
          13,
          9,
          1,
          12,
          1,
          10,
          9,
          9,
          9,
          1,
          14,
          8,
          10,
          10,
          12,
          13,
          12,
          9,
          9,
          14,
          9,
          14,
          7,
          4,
          13,
          2,
          1,
          9,
          1,
          10,
          14,
          9,
          4,
          1,
          10,
          1,
          1,
          7,
          1,
          9,
          13,
          1,
          9,
          8,
          1,
          13,
          9,
          4,
          8,
          9,
          8,
          4,
          14,
          4,
          4,
          10,
          13,
          9,
          9,
          14,
          7,
          8,
          14,
          9,
          12,
          8,
          6,
          12,
          2,
          7,
          1,
          12,
          1,
          1,
          12,
          9,
          9,
          1,
          9,
          5,
          4,
          9,
          1,
          1,
          9,
          13,
          1,
          12,
          5,
          8,
          8,
          14,
          9,
          1,
          7,
          9,
          12,
          1,
          4,
          14,
          1,
          1,
          13,
          13,
          8,
          1,
          7,
          1,
          4,
          14,
          1,
          13,
          1,
          9,
          9,
          13,
          9,
          5,
          1,
          14,
          14,
          10,
          14,
          14,
          4,
          8,
          10,
          1,
          12,
          14,
          4,
          8,
          4,
          14,
          9,
          9,
          1,
          9,
          4,
          4,
          13,
          10,
          13,
          12,
          8,
          9,
          4,
          7,
          12,
          4,
          9,
          1,
          4,
          9,
          9,
          5,
          9,
          12,
          12,
          1,
          9,
          12,
          1,
          4,
          1,
          14,
          5,
          12,
          9,
          12,
          10,
          14,
          4,
          13,
          1,
          7,
          7,
          1,
          7,
          14,
          1,
          14,
          14,
          13,
          9,
          1,
          4,
          1,
          1,
          1,
          14,
          1,
          1,
          1,
          14,
          7,
          5,
          8,
          1,
          10,
          9,
          4,
          14,
          8,
          12,
          9,
          14,
          9,
          1,
          1,
          4,
          12,
          5,
          9,
          13,
          1,
          9,
          13,
          10,
          1,
          9,
          14,
          9,
          4,
          4,
          4,
          4,
          12,
          8,
          10,
          12,
          9,
          1,
          1,
          13,
          1,
          8,
          1,
          10,
          1,
          9,
          1,
          1,
          4,
          14,
          10,
          9,
          13,
          14,
          9,
          1,
          1,
          1,
          1,
          1,
          9,
          9,
          14,
          9,
          4,
          9,
          14,
          1,
          1,
          9,
          1,
          4,
          1,
          1,
          5,
          1,
          7,
          4,
          4,
          9,
          7,
          4,
          13,
          9,
          1,
          9,
          8,
          13,
          12,
          9,
          5,
          7,
          4,
          12,
          4,
          9,
          1,
          9,
          1,
          14,
          1,
          8,
          13,
          5,
          7,
          7,
          5,
          1,
          1,
          14,
          1,
          7,
          12,
          7,
          1,
          1,
          13,
          4,
          8,
          7,
          9,
          9,
          12,
          8,
          9,
          9,
          9,
          1,
          8,
          9,
          9,
          12,
          1,
          12,
          9,
          4,
          9,
          13,
          14,
          12,
          9,
          13,
          1,
          1,
          9,
          9,
          13,
          12,
          4,
          1,
          9,
          13,
          5,
          6,
          1,
          9,
          9,
          13,
          7,
          5,
          14,
          10,
          4,
          12,
          14,
          5,
          1,
          9,
          14,
          12,
          4,
          9,
          7,
          13,
          8,
          14,
          1,
          9,
          9,
          12,
          1,
          14,
          4,
          14,
          12,
          1,
          7,
          9,
          9,
          9,
          1,
          9,
          9,
          1,
          1,
          9,
          9,
          14,
          9,
          12,
          4,
          8,
          9,
          14,
          1,
          12,
          9,
          9,
          12,
          13,
          8,
          5,
          10,
          12,
          13,
          1,
          14,
          7,
          13,
          9,
          4,
          4,
          7,
          1,
          1,
          13,
          7,
          1,
          12,
          13,
          7,
          12,
          9,
          5,
          12,
          9,
          9,
          7,
          12,
          4,
          9,
          5,
          9,
          12,
          12,
          9,
          12,
          12,
          9,
          5,
          12,
          12,
          12,
          9,
          4,
          10,
          14,
          14,
          9,
          1,
          5,
          1,
          9,
          5,
          1,
          9,
          7,
          7,
          9,
          14,
          7,
          4,
          12,
          9,
          14,
          5,
          1,
          4,
          9,
          14,
          7,
          12,
          12,
          12,
          12,
          13,
          6,
          13,
          13,
          1,
          9,
          1,
          8,
          7,
          12,
          13,
          1,
          14,
          14,
          9,
          14,
          7,
          1,
          14,
          8,
          9,
          13,
          14,
          6,
          4,
          5,
          12,
          0,
          14,
          1,
          12,
          1,
          9,
          14,
          8,
          14,
          1,
          4,
          9,
          1,
          7,
          7,
          9,
          1,
          8,
          14,
          8,
          7,
          1,
          1,
          7,
          14,
          8,
          9,
          14,
          9,
          4,
          1,
          5,
          13,
          13,
          4,
          8,
          14,
          12,
          9,
          9,
          14,
          8,
          5,
          1,
          13,
          8,
          9,
          4,
          9,
          1,
          9,
          14,
          13,
          8,
          12,
          14,
          5,
          7,
          9,
          9,
          1,
          1,
          13,
          1,
          14,
          1,
          9,
          1,
          9,
          9,
          9,
          9,
          7,
          9,
          1,
          10,
          4,
          1,
          9,
          14,
          14,
          14,
          5,
          14,
          4,
          13,
          9,
          4,
          14,
          12,
          13,
          4,
          1,
          14,
          9,
          1,
          10,
          1,
          7,
          1,
          10,
          9,
          12,
          1,
          1,
          9,
          14,
          1,
          4,
          14,
          14,
          1,
          4,
          14,
          8,
          1,
          13,
          13,
          7,
          1,
          4,
          6,
          1,
          1,
          1,
          12,
          14,
          8,
          10,
          1,
          1,
          7,
          13,
          4,
          13,
          9,
          12,
          14,
          9,
          1,
          1,
          8,
          4,
          4,
          4,
          4,
          4,
          1,
          14,
          7,
          4,
          7,
          1,
          9,
          1,
          7,
          9,
          9,
          1,
          9,
          12,
          14,
          9,
          1,
          8,
          14,
          9,
          1,
          9,
          9,
          9,
          14,
          4,
          9,
          1,
          14,
          4,
          14,
          1,
          9,
          9,
          14,
          9,
          1,
          14,
          4,
          7,
          5,
          4,
          1,
          13,
          14,
          1,
          8,
          13,
          8,
          7,
          14,
          1,
          4,
          7,
          9,
          9,
          9,
          9,
          13,
          1,
          9,
          1,
          12,
          9,
          9,
          14,
          9,
          9,
          12,
          12,
          12,
          1,
          1,
          1,
          7,
          9,
          7,
          9,
          8,
          14,
          12,
          12,
          12,
          10,
          10,
          12,
          1,
          12,
          1,
          1,
          9,
          8,
          14,
          1,
          14,
          9,
          8,
          1,
          9,
          9,
          9,
          1,
          4,
          14,
          9,
          4,
          14,
          13,
          4,
          13,
          4,
          13,
          13,
          1,
          6,
          14,
          10,
          1,
          4,
          1,
          1,
          13,
          7,
          4,
          10,
          1,
          1,
          10,
          9,
          4,
          14,
          10,
          1,
          8,
          9,
          1,
          1,
          9,
          14,
          1,
          1,
          5,
          4,
          9,
          1,
          4,
          14,
          14,
          9,
          9,
          10,
          14,
          7,
          13,
          4,
          1,
          12,
          4,
          9,
          14,
          12,
          6,
          13,
          12,
          12,
          9,
          4,
          4,
          9,
          12,
          8,
          1,
          1,
          1,
          4,
          9,
          9,
          5,
          1,
          9,
          14,
          12,
          7,
          14,
          14,
          9,
          9,
          9,
          4,
          13,
          1,
          12,
          10,
          9,
          1,
          1,
          9,
          9,
          12,
          12,
          9,
          14,
          9,
          13,
          1,
          12,
          1,
          4,
          9,
          10,
          12,
          9,
          9,
          9,
          1,
          14,
          14,
          9,
          9,
          7,
          9,
          5,
          12,
          9,
          9,
          12,
          7,
          4,
          1,
          7,
          1,
          9,
          12,
          5,
          9,
          14,
          9,
          9,
          1,
          14,
          9,
          9,
          4,
          9,
          9,
          5,
          9,
          12,
          9,
          4,
          14,
          1,
          9,
          14,
          14,
          9,
          9,
          10,
          9,
          9,
          1,
          8,
          9,
          12,
          4,
          12,
          1,
          1,
          5,
          5,
          1,
          9,
          12,
          13,
          1,
          5,
          4,
          4,
          14,
          1,
          13,
          9,
          9,
          9,
          9,
          1,
          13,
          4,
          12,
          5,
          9,
          7,
          1,
          13,
          14,
          7,
          13,
          4,
          10,
          13,
          1,
          1,
          9,
          12,
          14,
          12,
          4,
          9,
          9,
          12,
          12,
          12,
          9,
          1,
          12,
          12,
          12,
          7,
          12,
          9,
          9,
          13,
          14,
          13,
          8,
          12,
          1,
          8,
          12,
          12,
          12,
          4,
          9,
          9,
          14,
          12,
          1,
          8,
          9,
          7,
          14,
          1,
          1,
          1,
          12,
          5,
          10,
          14,
          4,
          14,
          9,
          13,
          4,
          9,
          7,
          1,
          10,
          1,
          5,
          9,
          8,
          1,
          4,
          7,
          14,
          1,
          12,
          13,
          12,
          4,
          13,
          9,
          10,
          13,
          14,
          12,
          12,
          14,
          4,
          14,
          12,
          7,
          7,
          14,
          12,
          12,
          1,
          14,
          13,
          5,
          9,
          1,
          7,
          1,
          12,
          14,
          9,
          14,
          4,
          12,
          9,
          9,
          9,
          8,
          9,
          9,
          5,
          5,
          9,
          13,
          5,
          1,
          14,
          9,
          9,
          7,
          13,
          7,
          7,
          13,
          12,
          12,
          5,
          13,
          12,
          1,
          1,
          9,
          4,
          12,
          12,
          4,
          9,
          7,
          6,
          9,
          0,
          12,
          9,
          1,
          9,
          9,
          9,
          12,
          9,
          9,
          14,
          13,
          14,
          4,
          1,
          9,
          9,
          9,
          1,
          8,
          9,
          7,
          8,
          1,
          13,
          9,
          12,
          1,
          12,
          1,
          4,
          12,
          14,
          4,
          9,
          5,
          1,
          9,
          7,
          9,
          1,
          7,
          12,
          1,
          4,
          1,
          13,
          4,
          13,
          9,
          8,
          9,
          4,
          13,
          7,
          14,
          7,
          7,
          5,
          13,
          14,
          14,
          14,
          1,
          1,
          5,
          13,
          5,
          12,
          9,
          1,
          9,
          1,
          1,
          12,
          12,
          1,
          7,
          1,
          5,
          4,
          1,
          5,
          9,
          12,
          10,
          7,
          13,
          8,
          1,
          12,
          1,
          8,
          12,
          1,
          8,
          8,
          9,
          5,
          8,
          13,
          9,
          14,
          12,
          9,
          1,
          12,
          9,
          12,
          9,
          7,
          9,
          8,
          5,
          9,
          9,
          12,
          9,
          9,
          12,
          12,
          1,
          1,
          7,
          13,
          9,
          9,
          13,
          5,
          5,
          9,
          5,
          12,
          9,
          12,
          8,
          9,
          12,
          9,
          1,
          7,
          12,
          8,
          9,
          9,
          8,
          14,
          14,
          9,
          1,
          1,
          14,
          5,
          1,
          1,
          9,
          14,
          1,
          1,
          9,
          1,
          9,
          5,
          8,
          12,
          7,
          8,
          1,
          6,
          12,
          12,
          4,
          8,
          8,
          9,
          14,
          1,
          9,
          14,
          7,
          5,
          1,
          1,
          14,
          7,
          12,
          5,
          6,
          4,
          1,
          7,
          14,
          1,
          1,
          14,
          5,
          9,
          8,
          12,
          1,
          4,
          13,
          9,
          10,
          9,
          1,
          13,
          10,
          1,
          8,
          1,
          4,
          1,
          9,
          9,
          9,
          9,
          9,
          9,
          7,
          14,
          1,
          13,
          7,
          8,
          1,
          1,
          9,
          7,
          9,
          9,
          1,
          13,
          8,
          8,
          13,
          5,
          9,
          9,
          10,
          9,
          14,
          8,
          9,
          8,
          1,
          9,
          14,
          9,
          4,
          7,
          12,
          9,
          12,
          9,
          12,
          9,
          13,
          9,
          9,
          9,
          12,
          14,
          1,
          14,
          12,
          9,
          9,
          1,
          5,
          7,
          5,
          5,
          1,
          8,
          14,
          9,
          4,
          9,
          4,
          4,
          9,
          7,
          5,
          8,
          8,
          1,
          13,
          14,
          13,
          9,
          8,
          10,
          1,
          7,
          12,
          1,
          9,
          10,
          1,
          13,
          1,
          13,
          4,
          4,
          13,
          8,
          9,
          1,
          12,
          14,
          14,
          9,
          14,
          14,
          13,
          9,
          7,
          1,
          1,
          10,
          1,
          1,
          1,
          12,
          12,
          14,
          9,
          1,
          1,
          8,
          14,
          8,
          8,
          9,
          9,
          1,
          9,
          9,
          1,
          14,
          1,
          8,
          12,
          1,
          1,
          14,
          9,
          7,
          1,
          1,
          13,
          13,
          4,
          4,
          7,
          8,
          9,
          9,
          9,
          8,
          8,
          13,
          7,
          14,
          9,
          9,
          13,
          1,
          14,
          10,
          5,
          14,
          1,
          9,
          5,
          12,
          12,
          1,
          7,
          8,
          9,
          9,
          1,
          9,
          7,
          1,
          1,
          9,
          5,
          9,
          9,
          4,
          14,
          14,
          4,
          10,
          12,
          9,
          9,
          9,
          12,
          9,
          1,
          14,
          1,
          8,
          9,
          12,
          8,
          1,
          14,
          1,
          12,
          5,
          9,
          5,
          12,
          7,
          1,
          12,
          9,
          9,
          12,
          1,
          9,
          4,
          1,
          1,
          9,
          14,
          9,
          12,
          14,
          4,
          9,
          12,
          8,
          9,
          4,
          13,
          5,
          1,
          7,
          12,
          12,
          4,
          12,
          1,
          9,
          1,
          7,
          7,
          10,
          8,
          12,
          9,
          1,
          4,
          13,
          7,
          10,
          9,
          12,
          5,
          1,
          13,
          1,
          1,
          13,
          7,
          9,
          1,
          1,
          13,
          1,
          1,
          9,
          1,
          12,
          4,
          8,
          12,
          6,
          1,
          1,
          1,
          1,
          12,
          12,
          13,
          1,
          9,
          9,
          14,
          9,
          9,
          8,
          9,
          12,
          13,
          9,
          1,
          7,
          13,
          12,
          9,
          1,
          14,
          1,
          8,
          8,
          9,
          14,
          4,
          14,
          14,
          12,
          4,
          9,
          8,
          9,
          9,
          12,
          1,
          9,
          7,
          1,
          7,
          7,
          8,
          5,
          9,
          1,
          5,
          6,
          9,
          9,
          14,
          9,
          12,
          1,
          1,
          14,
          4,
          1,
          4,
          9,
          9,
          7,
          14,
          14,
          5,
          1,
          7,
          9,
          8,
          4,
          9,
          12,
          12,
          14,
          4,
          9,
          10,
          9,
          8,
          12,
          12,
          1,
          7,
          1,
          1,
          7,
          8,
          14,
          9,
          9,
          1,
          9,
          14,
          10,
          7,
          13,
          13,
          13,
          9,
          1,
          13,
          9,
          9,
          12,
          9,
          7,
          1,
          1,
          7,
          1,
          14,
          8,
          7,
          12,
          5,
          12,
          5,
          13,
          7,
          10,
          1,
          12,
          12,
          9,
          8,
          13,
          5,
          9,
          14,
          8,
          13,
          12,
          12,
          13,
          9,
          1,
          14,
          5,
          8,
          1,
          1,
          1,
          8,
          12,
          9,
          1,
          14,
          9,
          13,
          9,
          5,
          5,
          8,
          13,
          7,
          1,
          12,
          14,
          1,
          4,
          9,
          4,
          14,
          9,
          8,
          12,
          9,
          9,
          1,
          10,
          8,
          1,
          1,
          14,
          1,
          13,
          5,
          14,
          7,
          9,
          8,
          9,
          8,
          1,
          9,
          14,
          9,
          9,
          7,
          9,
          9,
          5,
          5,
          12,
          13,
          9,
          1,
          7,
          1,
          7,
          7,
          12,
          12,
          13,
          9,
          9,
          14,
          4,
          7,
          1,
          12,
          5,
          1,
          14,
          1,
          12,
          5,
          9,
          8,
          1,
          5,
          14,
          1,
          9,
          12,
          12,
          12,
          12,
          9,
          1,
          4,
          14,
          8,
          12,
          1,
          14,
          9,
          9,
          1,
          14,
          13,
          12,
          14,
          1,
          12,
          14,
          1,
          8,
          7,
          14,
          13,
          12,
          1,
          9,
          1,
          13,
          12,
          5,
          9,
          1,
          14,
          9,
          7,
          1,
          9,
          13,
          7,
          4,
          8,
          13,
          14,
          12,
          1,
          5,
          7,
          9,
          5,
          12,
          9,
          9,
          9,
          7,
          12,
          13,
          5,
          8,
          8,
          9,
          5,
          12,
          6,
          6,
          6,
          7,
          9,
          12,
          5,
          1,
          12,
          13,
          13,
          9,
          12,
          7,
          4,
          9,
          9,
          12,
          9,
          9,
          5,
          14,
          5,
          7,
          9,
          12,
          9,
          1,
          1,
          9,
          9,
          5,
          9,
          9,
          12,
          1,
          9,
          1,
          1,
          1,
          9,
          12,
          1,
          8,
          8,
          13,
          14,
          8,
          5,
          1,
          1,
          1,
          8,
          13,
          12,
          1,
          1,
          12,
          14,
          8,
          5,
          10,
          5,
          5,
          9,
          8,
          14,
          1,
          9,
          5,
          7,
          8,
          8,
          8,
          12,
          7,
          13,
          12,
          6,
          14,
          12,
          9,
          12,
          12,
          12,
          12,
          14,
          12,
          12,
          9,
          10,
          4,
          14,
          8,
          1,
          7,
          9,
          8,
          1,
          1,
          9,
          8,
          5,
          14,
          9,
          9,
          13,
          8,
          9,
          9,
          9,
          1,
          10,
          14,
          8,
          10,
          10,
          8,
          9,
          8,
          1,
          1,
          1,
          1,
          1,
          10,
          5,
          9,
          8,
          14,
          8,
          12,
          13,
          14,
          14,
          1,
          12,
          9,
          7,
          1,
          13,
          7,
          12,
          9,
          13,
          14,
          9,
          13,
          9,
          9,
          5,
          1,
          1,
          4,
          5,
          9,
          9,
          1,
          1,
          9,
          1,
          9,
          9,
          4,
          9,
          7,
          14,
          9,
          8,
          8,
          8,
          12,
          1,
          4,
          9,
          8,
          9,
          7,
          9,
          1,
          1,
          1,
          9,
          13,
          12,
          9,
          1,
          13,
          13,
          12,
          1,
          1,
          13,
          8,
          8,
          13,
          1,
          13,
          8,
          1,
          9,
          1,
          1,
          13,
          9,
          14,
          1,
          9,
          12,
          1,
          5,
          7,
          14,
          1,
          1,
          9,
          9,
          8,
          1,
          9,
          14,
          8,
          1,
          12,
          12,
          5,
          9,
          1,
          4,
          12,
          9,
          9,
          13,
          8,
          12,
          1,
          10,
          9,
          8,
          13,
          4,
          8,
          1,
          9,
          1,
          14,
          12,
          14,
          13,
          8,
          9,
          1,
          9,
          1,
          13,
          8,
          1,
          4,
          9,
          14,
          8,
          1,
          9,
          8,
          9,
          9,
          7,
          4,
          7,
          4,
          4,
          9,
          1,
          7,
          9,
          5,
          8,
          4,
          12,
          1,
          9,
          8,
          9,
          1,
          13,
          1,
          1,
          8,
          14,
          9,
          9,
          5,
          9,
          1,
          5,
          14,
          14,
          9,
          9,
          9,
          9,
          1,
          12,
          14,
          10,
          9,
          5,
          8,
          8,
          9,
          1,
          8,
          5,
          8,
          9,
          8,
          9,
          1,
          4,
          9,
          9,
          12,
          1,
          4,
          9,
          1,
          1,
          4,
          1,
          7,
          9,
          9,
          9,
          1,
          14,
          7,
          9,
          7,
          4,
          7,
          13,
          9,
          8,
          13,
          9,
          7,
          4,
          8,
          1,
          8,
          14,
          14,
          14,
          12,
          4,
          14,
          9,
          1,
          1,
          7,
          1,
          1,
          8,
          8,
          1,
          1,
          1,
          14,
          9,
          8,
          1,
          9,
          1,
          9,
          1,
          1,
          1,
          9,
          9,
          9,
          1,
          9,
          12,
          1,
          13,
          1,
          8,
          8,
          8,
          9,
          1,
          7,
          1,
          8,
          1,
          8,
          14,
          4,
          12,
          12,
          4,
          9,
          9,
          14,
          1,
          8,
          9,
          1,
          1,
          14,
          13,
          13,
          6,
          5,
          1,
          7,
          9,
          1,
          1,
          9,
          1,
          1,
          14,
          1,
          12,
          1,
          8,
          1,
          9,
          9,
          12,
          5,
          1,
          1,
          8,
          7,
          1,
          12,
          9,
          12,
          7,
          1,
          1,
          9,
          7,
          9,
          12,
          9,
          1,
          9,
          4,
          13,
          14,
          12,
          9,
          1,
          14,
          13,
          10,
          1,
          1,
          14,
          8,
          4,
          9,
          5,
          9,
          9,
          9,
          7,
          1,
          9,
          1,
          1,
          12,
          5,
          1,
          5,
          8,
          4,
          1,
          1,
          14,
          7,
          12,
          8,
          1,
          1,
          8,
          1
         ],
         "xaxis": "x",
         "yaxis": "y"
        }
       ],
       "layout": {
        "autosize": true,
        "barmode": "relative",
        "legend": {
         "tracegroupgap": 0
        },
        "template": {
         "data": {
          "bar": [
           {
            "error_x": {
             "color": "#2a3f5f"
            },
            "error_y": {
             "color": "#2a3f5f"
            },
            "marker": {
             "line": {
              "color": "#E5ECF6",
              "width": 0.5
             },
             "pattern": {
              "fillmode": "overlay",
              "size": 10,
              "solidity": 0.2
             }
            },
            "type": "bar"
           }
          ],
          "barpolar": [
           {
            "marker": {
             "line": {
              "color": "#E5ECF6",
              "width": 0.5
             },
             "pattern": {
              "fillmode": "overlay",
              "size": 10,
              "solidity": 0.2
             }
            },
            "type": "barpolar"
           }
          ],
          "carpet": [
           {
            "aaxis": {
             "endlinecolor": "#2a3f5f",
             "gridcolor": "white",
             "linecolor": "white",
             "minorgridcolor": "white",
             "startlinecolor": "#2a3f5f"
            },
            "baxis": {
             "endlinecolor": "#2a3f5f",
             "gridcolor": "white",
             "linecolor": "white",
             "minorgridcolor": "white",
             "startlinecolor": "#2a3f5f"
            },
            "type": "carpet"
           }
          ],
          "choropleth": [
           {
            "colorbar": {
             "outlinewidth": 0,
             "ticks": ""
            },
            "type": "choropleth"
           }
          ],
          "contour": [
           {
            "colorbar": {
             "outlinewidth": 0,
             "ticks": ""
            },
            "colorscale": [
             [
              0,
              "#0d0887"
             ],
             [
              0.1111111111111111,
              "#46039f"
             ],
             [
              0.2222222222222222,
              "#7201a8"
             ],
             [
              0.3333333333333333,
              "#9c179e"
             ],
             [
              0.4444444444444444,
              "#bd3786"
             ],
             [
              0.5555555555555556,
              "#d8576b"
             ],
             [
              0.6666666666666666,
              "#ed7953"
             ],
             [
              0.7777777777777778,
              "#fb9f3a"
             ],
             [
              0.8888888888888888,
              "#fdca26"
             ],
             [
              1,
              "#f0f921"
             ]
            ],
            "type": "contour"
           }
          ],
          "contourcarpet": [
           {
            "colorbar": {
             "outlinewidth": 0,
             "ticks": ""
            },
            "type": "contourcarpet"
           }
          ],
          "heatmap": [
           {
            "colorbar": {
             "outlinewidth": 0,
             "ticks": ""
            },
            "colorscale": [
             [
              0,
              "#0d0887"
             ],
             [
              0.1111111111111111,
              "#46039f"
             ],
             [
              0.2222222222222222,
              "#7201a8"
             ],
             [
              0.3333333333333333,
              "#9c179e"
             ],
             [
              0.4444444444444444,
              "#bd3786"
             ],
             [
              0.5555555555555556,
              "#d8576b"
             ],
             [
              0.6666666666666666,
              "#ed7953"
             ],
             [
              0.7777777777777778,
              "#fb9f3a"
             ],
             [
              0.8888888888888888,
              "#fdca26"
             ],
             [
              1,
              "#f0f921"
             ]
            ],
            "type": "heatmap"
           }
          ],
          "heatmapgl": [
           {
            "colorbar": {
             "outlinewidth": 0,
             "ticks": ""
            },
            "colorscale": [
             [
              0,
              "#0d0887"
             ],
             [
              0.1111111111111111,
              "#46039f"
             ],
             [
              0.2222222222222222,
              "#7201a8"
             ],
             [
              0.3333333333333333,
              "#9c179e"
             ],
             [
              0.4444444444444444,
              "#bd3786"
             ],
             [
              0.5555555555555556,
              "#d8576b"
             ],
             [
              0.6666666666666666,
              "#ed7953"
             ],
             [
              0.7777777777777778,
              "#fb9f3a"
             ],
             [
              0.8888888888888888,
              "#fdca26"
             ],
             [
              1,
              "#f0f921"
             ]
            ],
            "type": "heatmapgl"
           }
          ],
          "histogram": [
           {
            "marker": {
             "pattern": {
              "fillmode": "overlay",
              "size": 10,
              "solidity": 0.2
             }
            },
            "type": "histogram"
           }
          ],
          "histogram2d": [
           {
            "colorbar": {
             "outlinewidth": 0,
             "ticks": ""
            },
            "colorscale": [
             [
              0,
              "#0d0887"
             ],
             [
              0.1111111111111111,
              "#46039f"
             ],
             [
              0.2222222222222222,
              "#7201a8"
             ],
             [
              0.3333333333333333,
              "#9c179e"
             ],
             [
              0.4444444444444444,
              "#bd3786"
             ],
             [
              0.5555555555555556,
              "#d8576b"
             ],
             [
              0.6666666666666666,
              "#ed7953"
             ],
             [
              0.7777777777777778,
              "#fb9f3a"
             ],
             [
              0.8888888888888888,
              "#fdca26"
             ],
             [
              1,
              "#f0f921"
             ]
            ],
            "type": "histogram2d"
           }
          ],
          "histogram2dcontour": [
           {
            "colorbar": {
             "outlinewidth": 0,
             "ticks": ""
            },
            "colorscale": [
             [
              0,
              "#0d0887"
             ],
             [
              0.1111111111111111,
              "#46039f"
             ],
             [
              0.2222222222222222,
              "#7201a8"
             ],
             [
              0.3333333333333333,
              "#9c179e"
             ],
             [
              0.4444444444444444,
              "#bd3786"
             ],
             [
              0.5555555555555556,
              "#d8576b"
             ],
             [
              0.6666666666666666,
              "#ed7953"
             ],
             [
              0.7777777777777778,
              "#fb9f3a"
             ],
             [
              0.8888888888888888,
              "#fdca26"
             ],
             [
              1,
              "#f0f921"
             ]
            ],
            "type": "histogram2dcontour"
           }
          ],
          "mesh3d": [
           {
            "colorbar": {
             "outlinewidth": 0,
             "ticks": ""
            },
            "type": "mesh3d"
           }
          ],
          "parcoords": [
           {
            "line": {
             "colorbar": {
              "outlinewidth": 0,
              "ticks": ""
             }
            },
            "type": "parcoords"
           }
          ],
          "pie": [
           {
            "automargin": true,
            "type": "pie"
           }
          ],
          "scatter": [
           {
            "fillpattern": {
             "fillmode": "overlay",
             "size": 10,
             "solidity": 0.2
            },
            "type": "scatter"
           }
          ],
          "scatter3d": [
           {
            "line": {
             "colorbar": {
              "outlinewidth": 0,
              "ticks": ""
             }
            },
            "marker": {
             "colorbar": {
              "outlinewidth": 0,
              "ticks": ""
             }
            },
            "type": "scatter3d"
           }
          ],
          "scattercarpet": [
           {
            "marker": {
             "colorbar": {
              "outlinewidth": 0,
              "ticks": ""
             }
            },
            "type": "scattercarpet"
           }
          ],
          "scattergeo": [
           {
            "marker": {
             "colorbar": {
              "outlinewidth": 0,
              "ticks": ""
             }
            },
            "type": "scattergeo"
           }
          ],
          "scattergl": [
           {
            "marker": {
             "colorbar": {
              "outlinewidth": 0,
              "ticks": ""
             }
            },
            "type": "scattergl"
           }
          ],
          "scattermapbox": [
           {
            "marker": {
             "colorbar": {
              "outlinewidth": 0,
              "ticks": ""
             }
            },
            "type": "scattermapbox"
           }
          ],
          "scatterpolar": [
           {
            "marker": {
             "colorbar": {
              "outlinewidth": 0,
              "ticks": ""
             }
            },
            "type": "scatterpolar"
           }
          ],
          "scatterpolargl": [
           {
            "marker": {
             "colorbar": {
              "outlinewidth": 0,
              "ticks": ""
             }
            },
            "type": "scatterpolargl"
           }
          ],
          "scatterternary": [
           {
            "marker": {
             "colorbar": {
              "outlinewidth": 0,
              "ticks": ""
             }
            },
            "type": "scatterternary"
           }
          ],
          "surface": [
           {
            "colorbar": {
             "outlinewidth": 0,
             "ticks": ""
            },
            "colorscale": [
             [
              0,
              "#0d0887"
             ],
             [
              0.1111111111111111,
              "#46039f"
             ],
             [
              0.2222222222222222,
              "#7201a8"
             ],
             [
              0.3333333333333333,
              "#9c179e"
             ],
             [
              0.4444444444444444,
              "#bd3786"
             ],
             [
              0.5555555555555556,
              "#d8576b"
             ],
             [
              0.6666666666666666,
              "#ed7953"
             ],
             [
              0.7777777777777778,
              "#fb9f3a"
             ],
             [
              0.8888888888888888,
              "#fdca26"
             ],
             [
              1,
              "#f0f921"
             ]
            ],
            "type": "surface"
           }
          ],
          "table": [
           {
            "cells": {
             "fill": {
              "color": "#EBF0F8"
             },
             "line": {
              "color": "white"
             }
            },
            "header": {
             "fill": {
              "color": "#C8D4E3"
             },
             "line": {
              "color": "white"
             }
            },
            "type": "table"
           }
          ]
         },
         "layout": {
          "annotationdefaults": {
           "arrowcolor": "#2a3f5f",
           "arrowhead": 0,
           "arrowwidth": 1
          },
          "autotypenumbers": "strict",
          "coloraxis": {
           "colorbar": {
            "outlinewidth": 0,
            "ticks": ""
           }
          },
          "colorscale": {
           "diverging": [
            [
             0,
             "#8e0152"
            ],
            [
             0.1,
             "#c51b7d"
            ],
            [
             0.2,
             "#de77ae"
            ],
            [
             0.3,
             "#f1b6da"
            ],
            [
             0.4,
             "#fde0ef"
            ],
            [
             0.5,
             "#f7f7f7"
            ],
            [
             0.6,
             "#e6f5d0"
            ],
            [
             0.7,
             "#b8e186"
            ],
            [
             0.8,
             "#7fbc41"
            ],
            [
             0.9,
             "#4d9221"
            ],
            [
             1,
             "#276419"
            ]
           ],
           "sequential": [
            [
             0,
             "#0d0887"
            ],
            [
             0.1111111111111111,
             "#46039f"
            ],
            [
             0.2222222222222222,
             "#7201a8"
            ],
            [
             0.3333333333333333,
             "#9c179e"
            ],
            [
             0.4444444444444444,
             "#bd3786"
            ],
            [
             0.5555555555555556,
             "#d8576b"
            ],
            [
             0.6666666666666666,
             "#ed7953"
            ],
            [
             0.7777777777777778,
             "#fb9f3a"
            ],
            [
             0.8888888888888888,
             "#fdca26"
            ],
            [
             1,
             "#f0f921"
            ]
           ],
           "sequentialminus": [
            [
             0,
             "#0d0887"
            ],
            [
             0.1111111111111111,
             "#46039f"
            ],
            [
             0.2222222222222222,
             "#7201a8"
            ],
            [
             0.3333333333333333,
             "#9c179e"
            ],
            [
             0.4444444444444444,
             "#bd3786"
            ],
            [
             0.5555555555555556,
             "#d8576b"
            ],
            [
             0.6666666666666666,
             "#ed7953"
            ],
            [
             0.7777777777777778,
             "#fb9f3a"
            ],
            [
             0.8888888888888888,
             "#fdca26"
            ],
            [
             1,
             "#f0f921"
            ]
           ]
          },
          "colorway": [
           "#636efa",
           "#EF553B",
           "#00cc96",
           "#ab63fa",
           "#FFA15A",
           "#19d3f3",
           "#FF6692",
           "#B6E880",
           "#FF97FF",
           "#FECB52"
          ],
          "font": {
           "color": "#2a3f5f"
          },
          "geo": {
           "bgcolor": "white",
           "lakecolor": "white",
           "landcolor": "#E5ECF6",
           "showlakes": true,
           "showland": true,
           "subunitcolor": "white"
          },
          "hoverlabel": {
           "align": "left"
          },
          "hovermode": "closest",
          "mapbox": {
           "style": "light"
          },
          "paper_bgcolor": "white",
          "plot_bgcolor": "#E5ECF6",
          "polar": {
           "angularaxis": {
            "gridcolor": "white",
            "linecolor": "white",
            "ticks": ""
           },
           "bgcolor": "#E5ECF6",
           "radialaxis": {
            "gridcolor": "white",
            "linecolor": "white",
            "ticks": ""
           }
          },
          "scene": {
           "xaxis": {
            "backgroundcolor": "#E5ECF6",
            "gridcolor": "white",
            "gridwidth": 2,
            "linecolor": "white",
            "showbackground": true,
            "ticks": "",
            "zerolinecolor": "white"
           },
           "yaxis": {
            "backgroundcolor": "#E5ECF6",
            "gridcolor": "white",
            "gridwidth": 2,
            "linecolor": "white",
            "showbackground": true,
            "ticks": "",
            "zerolinecolor": "white"
           },
           "zaxis": {
            "backgroundcolor": "#E5ECF6",
            "gridcolor": "white",
            "gridwidth": 2,
            "linecolor": "white",
            "showbackground": true,
            "ticks": "",
            "zerolinecolor": "white"
           }
          },
          "shapedefaults": {
           "line": {
            "color": "#2a3f5f"
           }
          },
          "ternary": {
           "aaxis": {
            "gridcolor": "white",
            "linecolor": "white",
            "ticks": ""
           },
           "baxis": {
            "gridcolor": "white",
            "linecolor": "white",
            "ticks": ""
           },
           "bgcolor": "#E5ECF6",
           "caxis": {
            "gridcolor": "white",
            "linecolor": "white",
            "ticks": ""
           }
          },
          "title": {
           "x": 0.05
          },
          "xaxis": {
           "automargin": true,
           "gridcolor": "white",
           "linecolor": "white",
           "ticks": "",
           "title": {
            "standoff": 15
           },
           "zerolinecolor": "white",
           "zerolinewidth": 2
          },
          "yaxis": {
           "automargin": true,
           "gridcolor": "white",
           "linecolor": "white",
           "ticks": "",
           "title": {
            "standoff": 15
           },
           "zerolinecolor": "white",
           "zerolinewidth": 2
          }
         }
        },
        "title": {
         "text": "Chord Progressions / Clusters"
        },
        "xaxis": {
         "anchor": "y",
         "autorange": true,
         "domain": [
          0,
          1
         ],
         "range": [
          -0.5,
          14.5
         ],
         "title": {
          "text": "category"
         },
         "type": "linear"
        },
        "yaxis": {
         "anchor": "x",
         "autorange": true,
         "domain": [
          0,
          1
         ],
         "range": [
          0,
          1162.1052631578948
         ],
         "title": {
          "text": "count"
         }
        }
       }
      },
      "image/png": "[encoded data removed]",
      "text/html": [
       "<div>                            <div id=\"f244db1e-4a59-487c-b483-ccdfcb5c2680\" class=\"plotly-graph-div\" style=\"height:525px; width:100%;\"></div>            <script type=\"text/javascript\">                require([\"plotly\"], function(Plotly) {                    window.PLOTLYENV=window.PLOTLYENV || {};                                    if (document.getElementById(\"f244db1e-4a59-487c-b483-ccdfcb5c2680\")) {                    Plotly.newPlot(                        \"f244db1e-4a59-487c-b483-ccdfcb5c2680\",                        [{\"alignmentgroup\":\"True\",\"bingroup\":\"x\",\"hovertemplate\":\"category=%{x}<br>count=%{y}<extra></extra>\",\"legendgroup\":\"\",\"marker\":{\"color\":\"#636efa\",\"pattern\":{\"shape\":\"\"}},\"name\":\"\",\"offsetgroup\":\"\",\"orientation\":\"v\",\"showlegend\":false,\"x\":[1,6,1,1,1,1,9,9,1,9,1,1,4,9,4,10,1,1,1,10,12,4,13,13,13,14,14,4,9,10,7,7,7,12,14,14,14,13,5,4,1,1,14,10,13,4,9,13,14,14,1,10,10,1,14,9,4,12,1,9,9,9,6,12,4,9,7,1,9,10,4,1,14,9,13,4,13,5,1,13,14,9,13,14,14,14,13,1,4,14,9,1,14,7,9,1,4,8,4,4,10,4,1,5,13,13,9,10,14,1,4,13,10,13,6,14,14,9,9,9,1,9,14,13,12,4,1,4,7,10,14,14,9,9,10,14,9,14,9,4,1,10,1,1,14,14,4,9,9,1,14,7,5,4,5,14,1,14,1,14,5,13,9,1,7,9,4,1,1,14,8,14,1,9,1,4,1,1,1,1,1,14,1,7,9,1,1,1,4,1,4,14,14,1,1,9,1,1,10,14,1,1,14,1,1,4,14,13,9,9,1,4,14,9,13,1,12,4,7,1,12,4,7,10,8,1,9,13,5,12,1,1,4,14,14,9,1,1,9,7,12,13,1,9,10,1,4,9,9,14,10,10,12,1,1,13,12,9,9,4,12,1,5,1,14,14,13,1,1,12,1,1,7,14,9,12,9,1,8,4,1,14,1,14,13,9,1,4,7,4,14,1,4,1,8,9,12,14,14,9,9,1,14,9,1,12,5,1,13,5,9,9,4,7,10,5,8,14,14,13,1,4,14,4,7,1,1,7,1,6,1,9,1,14,9,9,1,1,7,13,1,9,5,1,1,14,7,4,7,9,9,1,9,1,14,1,4,9,4,4,4,7,12,1,8,4,14,4,13,7,13,13,4,1,9,9,14,4,4,6,9,1,1,13,5,5,13,1,13,7,12,1,1,12,14,1,1,9,6,8,7,8,1,9,14,7,14,14,13,9,14,1,4,13,8,1,5,10,12,1,1,7,4,1,9,1,12,12,1,1,9,14,9,4,4,5,10,4,9,4,13,9,13,8,7,4,9,1,7,12,13,1,14,13,1,13,12,8,1,1,9,12,14,1,1,1,13,9,12,1,10,10,1,14,7,14,13,1,5,4,14,7,9,7,1,14,1,7,14,1,1,9,4,14,1,1,14,4,1,1,14,9,1,1,14,7,9,13,14,1,10,9,1,14,1,1,9,1,13,14,4,14,13,9,7,1,13,14,13,1,13,14,8,9,4,14,9,1,9,7,13,1,1,9,14,6,14,9,1,9,4,9,1,14,1,13,14,9,1,10,1,13,8,9,13,14,9,4,4,13,13,7,10,14,7,14,8,14,5,1,1,14,1,1,13,14,4,1,1,4,9,1,1,9,1,11,12,4,14,9,14,1,1,13,1,12,10,4,1,1,10,10,1,9,12,1,9,7,10,1,1,5,1,1,14,1,14,1,12,1,13,1,1,1,13,13,12,13,8,10,5,1,1,5,1,12,1,13,4,13,14,13,7,5,13,6,1,1,9,12,1,8,4,14,1,10,9,1,8,14,1,9,5,9,14,9,1,1,12,9,9,12,9,4,14,7,1,13,13,9,14,12,1,1,9,14,9,14,1,1,13,1,9,9,8,1,9,12,14,7,1,7,9,9,9,9,14,4,9,1,9,13,4,4,12,4,9,12,4,5,14,14,5,1,9,4,1,9,1,10,13,1,9,13,9,9,4,4,13,4,4,1,8,1,1,4,14,4,1,1,13,13,1,1,7,9,14,14,8,9,1,13,7,14,8,9,8,7,10,4,12,8,13,13,4,14,9,1,14,9,9,12,7,1,4,9,12,9,9,4,10,1,5,1,9,1,1,7,8,7,1,1,4,4,13,9,9,14,1,1,8,4,13,14,9,13,1,1,1,5,1,5,8,1,9,1,12,12,12,2,14,1,13,8,13,14,9,9,9,4,9,9,14,9,14,1,13,9,1,9,1,14,9,7,14,1,13,9,7,1,4,9,9,7,3,13,1,1,14,1,8,13,14,14,1,4,9,14,6,1,9,4,9,9,9,14,9,9,5,1,1,9,10,14,1,12,9,8,14,4,9,7,14,4,4,10,8,1,14,9,13,5,9,13,8,9,9,14,14,1,14,1,14,1,12,5,1,9,10,9,9,14,13,8,1,9,14,5,1,12,9,1,14,1,7,13,7,1,14,9,10,9,4,9,4,9,9,4,9,9,1,4,9,9,9,9,7,12,14,1,13,9,12,4,1,9,1,7,13,9,9,9,14,12,9,9,5,1,14,13,1,14,1,1,1,14,7,10,1,13,1,1,1,7,4,14,14,1,12,9,9,1,4,13,8,7,5,5,9,13,9,7,7,1,4,9,1,9,9,1,4,4,10,4,9,9,14,9,14,1,9,9,1,7,7,10,4,1,13,13,7,14,12,1,13,14,10,9,5,12,4,9,9,9,9,1,6,4,4,9,5,4,9,9,1,10,1,1,1,1,9,4,1,1,1,14,9,4,9,10,4,14,14,1,1,9,1,1,12,4,14,4,9,1,14,4,1,1,4,1,13,1,14,14,14,1,14,9,9,9,5,5,4,14,12,9,14,1,1,9,1,9,9,12,8,14,13,9,8,5,1,1,7,9,4,14,1,1,1,9,9,9,7,4,5,1,13,14,1,1,13,1,1,4,8,1,7,9,4,1,1,9,8,5,4,9,1,9,1,10,1,1,12,7,14,1,1,1,1,13,9,1,10,9,14,8,12,9,5,9,9,10,1,8,9,9,4,1,12,7,13,14,9,1,1,14,13,7,9,1,13,14,1,7,9,1,9,14,1,1,9,1,1,12,7,7,4,14,1,1,13,1,1,14,10,5,14,13,14,13,4,9,1,1,1,8,8,1,1,13,9,1,9,7,1,10,12,1,9,7,14,14,4,9,9,9,14,1,9,9,14,9,1,1,9,5,9,1,7,9,1,4,12,12,13,14,12,14,13,1,14,1,10,4,13,13,1,1,8,8,13,1,1,13,10,14,6,13,9,9,1,9,1,10,8,14,14,1,5,4,14,14,8,8,14,10,1,4,9,1,12,1,9,5,13,9,13,1,7,13,1,6,9,1,9,9,8,9,10,1,14,13,5,9,14,9,9,8,1,14,8,4,8,13,8,10,1,1,9,1,1,8,9,1,9,14,5,1,13,1,12,10,1,12,1,9,4,4,1,13,9,14,14,1,4,7,1,13,9,1,9,1,7,1,1,1,14,9,9,8,1,9,12,1,4,1,5,9,9,1,1,9,13,1,8,1,8,4,10,1,1,9,14,1,1,12,4,9,9,9,7,9,13,12,1,1,1,1,1,5,1,14,4,13,9,9,9,13,7,8,9,5,4,1,7,13,13,12,1,13,14,1,13,1,9,9,14,9,1,10,13,8,9,1,9,1,5,1,1,14,13,13,1,9,7,1,9,5,13,1,7,9,12,9,9,13,8,8,5,12,4,10,9,5,13,14,1,14,12,4,7,8,1,9,1,6,7,9,7,5,9,1,4,1,1,9,12,1,6,9,9,1,14,14,14,14,12,9,1,12,1,7,9,13,4,9,7,14,1,1,9,1,5,8,14,1,9,9,14,13,13,7,1,4,10,12,13,14,4,9,10,4,4,9,8,1,12,9,1,13,7,9,13,4,7,13,4,12,9,13,1,8,4,9,9,14,5,14,4,14,9,8,5,13,1,1,13,13,14,14,1,9,10,4,9,13,14,14,8,1,1,9,12,10,9,5,9,9,5,9,13,4,9,9,1,1,9,1,1,1,9,5,1,4,14,13,4,1,4,8,4,9,1,1,8,13,4,9,4,5,1,9,1,1,1,14,7,8,7,8,14,7,9,1,1,1,8,1,14,9,1,12,12,9,7,12,9,1,5,9,9,1,1,1,9,13,9,1,14,9,1,1,9,1,1,4,9,1,9,12,14,1,9,9,4,13,9,10,5,9,9,1,7,12,14,5,9,9,9,12,1,1,9,4,14,1,9,14,9,1,14,8,1,4,7,4,8,1,7,1,4,9,7,9,6,9,1,9,1,9,5,9,12,14,8,9,4,9,9,9,4,9,1,9,4,4,9,14,1,4,10,1,9,14,5,1,4,13,14,13,9,9,1,8,1,1,13,1,9,11,13,1,1,1,12,7,9,1,4,1,6,7,12,10,14,1,1,1,1,5,1,1,8,9,1,1,13,9,9,1,1,4,9,1,1,8,7,9,10,12,9,1,12,7,1,14,12,12,9,1,14,1,13,13,13,9,8,1,1,9,14,4,9,14,1,4,13,1,1,9,14,13,1,14,1,1,1,1,13,8,8,1,1,12,1,4,9,9,6,13,1,1,7,4,13,7,1,12,8,10,14,14,9,1,9,12,7,9,1,7,8,5,14,4,9,9,7,7,14,8,9,14,1,9,8,4,9,9,13,12,1,4,9,8,13,12,4,14,1,7,1,9,13,9,13,7,5,9,4,5,12,4,9,4,1,9,7,12,13,1,5,4,9,7,9,1,7,1,1,1,4,7,4,5,5,1,13,9,9,1,7,1,11,1,9,1,1,1,12,1,9,12,1,1,9,5,10,1,1,7,14,9,14,13,5,1,13,9,1,4,12,14,9,1,4,14,1,5,4,10,4,1,9,1,9,12,14,7,12,12,9,1,1,1,9,13,13,13,1,14,1,9,14,4,12,13,14,1,8,8,14,1,9,7,4,13,9,9,1,5,10,9,7,9,1,1,1,4,10,1,7,12,14,13,9,14,1,5,1,8,9,1,9,7,9,14,12,7,1,9,9,1,9,9,14,1,9,4,8,1,14,9,12,10,13,1,1,1,13,4,9,9,12,14,9,12,7,1,6,9,12,13,14,1,1,4,5,12,9,13,4,12,12,9,12,13,10,12,9,1,6,14,1,14,5,9,8,14,8,14,8,8,12,9,1,4,1,5,1,1,1,14,4,9,1,7,1,14,13,1,14,14,9,9,12,1,1,7,1,12,12,4,9,7,7,12,9,13,10,9,14,13,9,6,1,14,1,12,9,9,9,1,4,9,8,1,9,1,5,12,9,1,8,12,1,13,7,1,1,13,4,1,1,5,14,7,1,14,8,1,1,1,1,14,9,1,14,7,14,1,9,1,13,9,12,14,4,7,9,14,8,1,4,14,4,1,1,7,14,9,12,12,14,9,14,9,1,1,9,1,5,9,8,8,14,14,14,4,1,12,1,1,7,1,1,7,14,14,9,7,7,4,4,1,9,7,13,14,9,14,13,12,4,9,9,10,14,7,7,4,8,12,13,9,1,9,9,6,1,14,13,9,14,5,14,14,4,1,1,14,1,1,12,1,1,14,9,1,5,4,14,8,1,5,1,14,9,14,12,1,14,9,1,13,9,1,12,1,10,9,9,9,1,14,8,10,10,12,13,12,9,9,14,9,14,7,4,13,2,1,9,1,10,14,9,4,1,10,1,1,7,1,9,13,1,9,8,1,13,9,4,8,9,8,4,14,4,4,10,13,9,9,14,7,8,14,9,12,8,6,12,2,7,1,12,1,1,12,9,9,1,9,5,4,9,1,1,9,13,1,12,5,8,8,14,9,1,7,9,12,1,4,14,1,1,13,13,8,1,7,1,4,14,1,13,1,9,9,13,9,5,1,14,14,10,14,14,4,8,10,1,12,14,4,8,4,14,9,9,1,9,4,4,13,10,13,12,8,9,4,7,12,4,9,1,4,9,9,5,9,12,12,1,9,12,1,4,1,14,5,12,9,12,10,14,4,13,1,7,7,1,7,14,1,14,14,13,9,1,4,1,1,1,14,1,1,1,14,7,5,8,1,10,9,4,14,8,12,9,14,9,1,1,4,12,5,9,13,1,9,13,10,1,9,14,9,4,4,4,4,12,8,10,12,9,1,1,13,1,8,1,10,1,9,1,1,4,14,10,9,13,14,9,1,1,1,1,1,9,9,14,9,4,9,14,1,1,9,1,4,1,1,5,1,7,4,4,9,7,4,13,9,1,9,8,13,12,9,5,7,4,12,4,9,1,9,1,14,1,8,13,5,7,7,5,1,1,14,1,7,12,7,1,1,13,4,8,7,9,9,12,8,9,9,9,1,8,9,9,12,1,12,9,4,9,13,14,12,9,13,1,1,9,9,13,12,4,1,9,13,5,6,1,9,9,13,7,5,14,10,4,12,14,5,1,9,14,12,4,9,7,13,8,14,1,9,9,12,1,14,4,14,12,1,7,9,9,9,1,9,9,1,1,9,9,14,9,12,4,8,9,14,1,12,9,9,12,13,8,5,10,12,13,1,14,7,13,9,4,4,7,1,1,13,7,1,12,13,7,12,9,5,12,9,9,7,12,4,9,5,9,12,12,9,12,12,9,5,12,12,12,9,4,10,14,14,9,1,5,1,9,5,1,9,7,7,9,14,7,4,12,9,14,5,1,4,9,14,7,12,12,12,12,13,6,13,13,1,9,1,8,7,12,13,1,14,14,9,14,7,1,14,8,9,13,14,6,4,5,12,0,14,1,12,1,9,14,8,14,1,4,9,1,7,7,9,1,8,14,8,7,1,1,7,14,8,9,14,9,4,1,5,13,13,4,8,14,12,9,9,14,8,5,1,13,8,9,4,9,1,9,14,13,8,12,14,5,7,9,9,1,1,13,1,14,1,9,1,9,9,9,9,7,9,1,10,4,1,9,14,14,14,5,14,4,13,9,4,14,12,13,4,1,14,9,1,10,1,7,1,10,9,12,1,1,9,14,1,4,14,14,1,4,14,8,1,13,13,7,1,4,6,1,1,1,12,14,8,10,1,1,7,13,4,13,9,12,14,9,1,1,8,4,4,4,4,4,1,14,7,4,7,1,9,1,7,9,9,1,9,12,14,9,1,8,14,9,1,9,9,9,14,4,9,1,14,4,14,1,9,9,14,9,1,14,4,7,5,4,1,13,14,1,8,13,8,7,14,1,4,7,9,9,9,9,13,1,9,1,12,9,9,14,9,9,12,12,12,1,1,1,7,9,7,9,8,14,12,12,12,10,10,12,1,12,1,1,9,8,14,1,14,9,8,1,9,9,9,1,4,14,9,4,14,13,4,13,4,13,13,1,6,14,10,1,4,1,1,13,7,4,10,1,1,10,9,4,14,10,1,8,9,1,1,9,14,1,1,5,4,9,1,4,14,14,9,9,10,14,7,13,4,1,12,4,9,14,12,6,13,12,12,9,4,4,9,12,8,1,1,1,4,9,9,5,1,9,14,12,7,14,14,9,9,9,4,13,1,12,10,9,1,1,9,9,12,12,9,14,9,13,1,12,1,4,9,10,12,9,9,9,1,14,14,9,9,7,9,5,12,9,9,12,7,4,1,7,1,9,12,5,9,14,9,9,1,14,9,9,4,9,9,5,9,12,9,4,14,1,9,14,14,9,9,10,9,9,1,8,9,12,4,12,1,1,5,5,1,9,12,13,1,5,4,4,14,1,13,9,9,9,9,1,13,4,12,5,9,7,1,13,14,7,13,4,10,13,1,1,9,12,14,12,4,9,9,12,12,12,9,1,12,12,12,7,12,9,9,13,14,13,8,12,1,8,12,12,12,4,9,9,14,12,1,8,9,7,14,1,1,1,12,5,10,14,4,14,9,13,4,9,7,1,10,1,5,9,8,1,4,7,14,1,12,13,12,4,13,9,10,13,14,12,12,14,4,14,12,7,7,14,12,12,1,14,13,5,9,1,7,1,12,14,9,14,4,12,9,9,9,8,9,9,5,5,9,13,5,1,14,9,9,7,13,7,7,13,12,12,5,13,12,1,1,9,4,12,12,4,9,7,6,9,0,12,9,1,9,9,9,12,9,9,14,13,14,4,1,9,9,9,1,8,9,7,8,1,13,9,12,1,12,1,4,12,14,4,9,5,1,9,7,9,1,7,12,1,4,1,13,4,13,9,8,9,4,13,7,14,7,7,5,13,14,14,14,1,1,5,13,5,12,9,1,9,1,1,12,12,1,7,1,5,4,1,5,9,12,10,7,13,8,1,12,1,8,12,1,8,8,9,5,8,13,9,14,12,9,1,12,9,12,9,7,9,8,5,9,9,12,9,9,12,12,1,1,7,13,9,9,13,5,5,9,5,12,9,12,8,9,12,9,1,7,12,8,9,9,8,14,14,9,1,1,14,5,1,1,9,14,1,1,9,1,9,5,8,12,7,8,1,6,12,12,4,8,8,9,14,1,9,14,7,5,1,1,14,7,12,5,6,4,1,7,14,1,1,14,5,9,8,12,1,4,13,9,10,9,1,13,10,1,8,1,4,1,9,9,9,9,9,9,7,14,1,13,7,8,1,1,9,7,9,9,1,13,8,8,13,5,9,9,10,9,14,8,9,8,1,9,14,9,4,7,12,9,12,9,12,9,13,9,9,9,12,14,1,14,12,9,9,1,5,7,5,5,1,8,14,9,4,9,4,4,9,7,5,8,8,1,13,14,13,9,8,10,1,7,12,1,9,10,1,13,1,13,4,4,13,8,9,1,12,14,14,9,14,14,13,9,7,1,1,10,1,1,1,12,12,14,9,1,1,8,14,8,8,9,9,1,9,9,1,14,1,8,12,1,1,14,9,7,1,1,13,13,4,4,7,8,9,9,9,8,8,13,7,14,9,9,13,1,14,10,5,14,1,9,5,12,12,1,7,8,9,9,1,9,7,1,1,9,5,9,9,4,14,14,4,10,12,9,9,9,12,9,1,14,1,8,9,12,8,1,14,1,12,5,9,5,12,7,1,12,9,9,12,1,9,4,1,1,9,14,9,12,14,4,9,12,8,9,4,13,5,1,7,12,12,4,12,1,9,1,7,7,10,8,12,9,1,4,13,7,10,9,12,5,1,13,1,1,13,7,9,1,1,13,1,1,9,1,12,4,8,12,6,1,1,1,1,12,12,13,1,9,9,14,9,9,8,9,12,13,9,1,7,13,12,9,1,14,1,8,8,9,14,4,14,14,12,4,9,8,9,9,12,1,9,7,1,7,7,8,5,9,1,5,6,9,9,14,9,12,1,1,14,4,1,4,9,9,7,14,14,5,1,7,9,8,4,9,12,12,14,4,9,10,9,8,12,12,1,7,1,1,7,8,14,9,9,1,9,14,10,7,13,13,13,9,1,13,9,9,12,9,7,1,1,7,1,14,8,7,12,5,12,5,13,7,10,1,12,12,9,8,13,5,9,14,8,13,12,12,13,9,1,14,5,8,1,1,1,8,12,9,1,14,9,13,9,5,5,8,13,7,1,12,14,1,4,9,4,14,9,8,12,9,9,1,10,8,1,1,14,1,13,5,14,7,9,8,9,8,1,9,14,9,9,7,9,9,5,5,12,13,9,1,7,1,7,7,12,12,13,9,9,14,4,7,1,12,5,1,14,1,12,5,9,8,1,5,14,1,9,12,12,12,12,9,1,4,14,8,12,1,14,9,9,1,14,13,12,14,1,12,14,1,8,7,14,13,12,1,9,1,13,12,5,9,1,14,9,7,1,9,13,7,4,8,13,14,12,1,5,7,9,5,12,9,9,9,7,12,13,5,8,8,9,5,12,6,6,6,7,9,12,5,1,12,13,13,9,12,7,4,9,9,12,9,9,5,14,5,7,9,12,9,1,1,9,9,5,9,9,12,1,9,1,1,1,9,12,1,8,8,13,14,8,5,1,1,1,8,13,12,1,1,12,14,8,5,10,5,5,9,8,14,1,9,5,7,8,8,8,12,7,13,12,6,14,12,9,12,12,12,12,14,12,12,9,10,4,14,8,1,7,9,8,1,1,9,8,5,14,9,9,13,8,9,9,9,1,10,14,8,10,10,8,9,8,1,1,1,1,1,10,5,9,8,14,8,12,13,14,14,1,12,9,7,1,13,7,12,9,13,14,9,13,9,9,5,1,1,4,5,9,9,1,1,9,1,9,9,4,9,7,14,9,8,8,8,12,1,4,9,8,9,7,9,1,1,1,9,13,12,9,1,13,13,12,1,1,13,8,8,13,1,13,8,1,9,1,1,13,9,14,1,9,12,1,5,7,14,1,1,9,9,8,1,9,14,8,1,12,12,5,9,1,4,12,9,9,13,8,12,1,10,9,8,13,4,8,1,9,1,14,12,14,13,8,9,1,9,1,13,8,1,4,9,14,8,1,9,8,9,9,7,4,7,4,4,9,1,7,9,5,8,4,12,1,9,8,9,1,13,1,1,8,14,9,9,5,9,1,5,14,14,9,9,9,9,1,12,14,10,9,5,8,8,9,1,8,5,8,9,8,9,1,4,9,9,12,1,4,9,1,1,4,1,7,9,9,9,1,14,7,9,7,4,7,13,9,8,13,9,7,4,8,1,8,14,14,14,12,4,14,9,1,1,7,1,1,8,8,1,1,1,14,9,8,1,9,1,9,1,1,1,9,9,9,1,9,12,1,13,1,8,8,8,9,1,7,1,8,1,8,14,4,12,12,4,9,9,14,1,8,9,1,1,14,13,13,6,5,1,7,9,1,1,9,1,1,14,1,12,1,8,1,9,9,12,5,1,1,8,7,1,12,9,12,7,1,1,9,7,9,12,9,1,9,4,13,14,12,9,1,14,13,10,1,1,14,8,4,9,5,9,9,9,7,1,9,1,1,12,5,1,5,8,4,1,1,14,7,12,8,1,1,8,1],\"xaxis\":\"x\",\"yaxis\":\"y\",\"type\":\"histogram\"}],                        {\"template\":{\"data\":{\"histogram2dcontour\":[{\"type\":\"histogram2dcontour\",\"colorbar\":{\"outlinewidth\":0,\"ticks\":\"\"},\"colorscale\":[[0.0,\"#0d0887\"],[0.1111111111111111,\"#46039f\"],[0.2222222222222222,\"#7201a8\"],[0.3333333333333333,\"#9c179e\"],[0.4444444444444444,\"#bd3786\"],[0.5555555555555556,\"#d8576b\"],[0.6666666666666666,\"#ed7953\"],[0.7777777777777778,\"#fb9f3a\"],[0.8888888888888888,\"#fdca26\"],[1.0,\"#f0f921\"]]}],\"choropleth\":[{\"type\":\"choropleth\",\"colorbar\":{\"outlinewidth\":0,\"ticks\":\"\"}}],\"histogram2d\":[{\"type\":\"histogram2d\",\"colorbar\":{\"outlinewidth\":0,\"ticks\":\"\"},\"colorscale\":[[0.0,\"#0d0887\"],[0.1111111111111111,\"#46039f\"],[0.2222222222222222,\"#7201a8\"],[0.3333333333333333,\"#9c179e\"],[0.4444444444444444,\"#bd3786\"],[0.5555555555555556,\"#d8576b\"],[0.6666666666666666,\"#ed7953\"],[0.7777777777777778,\"#fb9f3a\"],[0.8888888888888888,\"#fdca26\"],[1.0,\"#f0f921\"]]}],\"heatmap\":[{\"type\":\"heatmap\",\"colorbar\":{\"outlinewidth\":0,\"ticks\":\"\"},\"colorscale\":[[0.0,\"#0d0887\"],[0.1111111111111111,\"#46039f\"],[0.2222222222222222,\"#7201a8\"],[0.3333333333333333,\"#9c179e\"],[0.4444444444444444,\"#bd3786\"],[0.5555555555555556,\"#d8576b\"],[0.6666666666666666,\"#ed7953\"],[0.7777777777777778,\"#fb9f3a\"],[0.8888888888888888,\"#fdca26\"],[1.0,\"#f0f921\"]]}],\"heatmapgl\":[{\"type\":\"heatmapgl\",\"colorbar\":{\"outlinewidth\":0,\"ticks\":\"\"},\"colorscale\":[[0.0,\"#0d0887\"],[0.1111111111111111,\"#46039f\"],[0.2222222222222222,\"#7201a8\"],[0.3333333333333333,\"#9c179e\"],[0.4444444444444444,\"#bd3786\"],[0.5555555555555556,\"#d8576b\"],[0.6666666666666666,\"#ed7953\"],[0.7777777777777778,\"#fb9f3a\"],[0.8888888888888888,\"#fdca26\"],[1.0,\"#f0f921\"]]}],\"contourcarpet\":[{\"type\":\"contourcarpet\",\"colorbar\":{\"outlinewidth\":0,\"ticks\":\"\"}}],\"contour\":[{\"type\":\"contour\",\"colorbar\":{\"outlinewidth\":0,\"ticks\":\"\"},\"colorscale\":[[0.0,\"#0d0887\"],[0.1111111111111111,\"#46039f\"],[0.2222222222222222,\"#7201a8\"],[0.3333333333333333,\"#9c179e\"],[0.4444444444444444,\"#bd3786\"],[0.5555555555555556,\"#d8576b\"],[0.6666666666666666,\"#ed7953\"],[0.7777777777777778,\"#fb9f3a\"],[0.8888888888888888,\"#fdca26\"],[1.0,\"#f0f921\"]]}],\"surface\":[{\"type\":\"surface\",\"colorbar\":{\"outlinewidth\":0,\"ticks\":\"\"},\"colorscale\":[[0.0,\"#0d0887\"],[0.1111111111111111,\"#46039f\"],[0.2222222222222222,\"#7201a8\"],[0.3333333333333333,\"#9c179e\"],[0.4444444444444444,\"#bd3786\"],[0.5555555555555556,\"#d8576b\"],[0.6666666666666666,\"#ed7953\"],[0.7777777777777778,\"#fb9f3a\"],[0.8888888888888888,\"#fdca26\"],[1.0,\"#f0f921\"]]}],\"mesh3d\":[{\"type\":\"mesh3d\",\"colorbar\":{\"outlinewidth\":0,\"ticks\":\"\"}}],\"scatter\":[{\"fillpattern\":{\"fillmode\":\"overlay\",\"size\":10,\"solidity\":0.2},\"type\":\"scatter\"}],\"parcoords\":[{\"type\":\"parcoords\",\"line\":{\"colorbar\":{\"outlinewidth\":0,\"ticks\":\"\"}}}],\"scatterpolargl\":[{\"type\":\"scatterpolargl\",\"marker\":{\"colorbar\":{\"outlinewidth\":0,\"ticks\":\"\"}}}],\"bar\":[{\"error_x\":{\"color\":\"#2a3f5f\"},\"error_y\":{\"color\":\"#2a3f5f\"},\"marker\":{\"line\":{\"color\":\"#E5ECF6\",\"width\":0.5},\"pattern\":{\"fillmode\":\"overlay\",\"size\":10,\"solidity\":0.2}},\"type\":\"bar\"}],\"scattergeo\":[{\"type\":\"scattergeo\",\"marker\":{\"colorbar\":{\"outlinewidth\":0,\"ticks\":\"\"}}}],\"scatterpolar\":[{\"type\":\"scatterpolar\",\"marker\":{\"colorbar\":{\"outlinewidth\":0,\"ticks\":\"\"}}}],\"histogram\":[{\"marker\":{\"pattern\":{\"fillmode\":\"overlay\",\"size\":10,\"solidity\":0.2}},\"type\":\"histogram\"}],\"scattergl\":[{\"type\":\"scattergl\",\"marker\":{\"colorbar\":{\"outlinewidth\":0,\"ticks\":\"\"}}}],\"scatter3d\":[{\"type\":\"scatter3d\",\"line\":{\"colorbar\":{\"outlinewidth\":0,\"ticks\":\"\"}},\"marker\":{\"colorbar\":{\"outlinewidth\":0,\"ticks\":\"\"}}}],\"scattermapbox\":[{\"type\":\"scattermapbox\",\"marker\":{\"colorbar\":{\"outlinewidth\":0,\"ticks\":\"\"}}}],\"scatterternary\":[{\"type\":\"scatterternary\",\"marker\":{\"colorbar\":{\"outlinewidth\":0,\"ticks\":\"\"}}}],\"scattercarpet\":[{\"type\":\"scattercarpet\",\"marker\":{\"colorbar\":{\"outlinewidth\":0,\"ticks\":\"\"}}}],\"carpet\":[{\"aaxis\":{\"endlinecolor\":\"#2a3f5f\",\"gridcolor\":\"white\",\"linecolor\":\"white\",\"minorgridcolor\":\"white\",\"startlinecolor\":\"#2a3f5f\"},\"baxis\":{\"endlinecolor\":\"#2a3f5f\",\"gridcolor\":\"white\",\"linecolor\":\"white\",\"minorgridcolor\":\"white\",\"startlinecolor\":\"#2a3f5f\"},\"type\":\"carpet\"}],\"table\":[{\"cells\":{\"fill\":{\"color\":\"#EBF0F8\"},\"line\":{\"color\":\"white\"}},\"header\":{\"fill\":{\"color\":\"#C8D4E3\"},\"line\":{\"color\":\"white\"}},\"type\":\"table\"}],\"barpolar\":[{\"marker\":{\"line\":{\"color\":\"#E5ECF6\",\"width\":0.5},\"pattern\":{\"fillmode\":\"overlay\",\"size\":10,\"solidity\":0.2}},\"type\":\"barpolar\"}],\"pie\":[{\"automargin\":true,\"type\":\"pie\"}]},\"layout\":{\"autotypenumbers\":\"strict\",\"colorway\":[\"#636efa\",\"#EF553B\",\"#00cc96\",\"#ab63fa\",\"#FFA15A\",\"#19d3f3\",\"#FF6692\",\"#B6E880\",\"#FF97FF\",\"#FECB52\"],\"font\":{\"color\":\"#2a3f5f\"},\"hovermode\":\"closest\",\"hoverlabel\":{\"align\":\"left\"},\"paper_bgcolor\":\"white\",\"plot_bgcolor\":\"#E5ECF6\",\"polar\":{\"bgcolor\":\"#E5ECF6\",\"angularaxis\":{\"gridcolor\":\"white\",\"linecolor\":\"white\",\"ticks\":\"\"},\"radialaxis\":{\"gridcolor\":\"white\",\"linecolor\":\"white\",\"ticks\":\"\"}},\"ternary\":{\"bgcolor\":\"#E5ECF6\",\"aaxis\":{\"gridcolor\":\"white\",\"linecolor\":\"white\",\"ticks\":\"\"},\"baxis\":{\"gridcolor\":\"white\",\"linecolor\":\"white\",\"ticks\":\"\"},\"caxis\":{\"gridcolor\":\"white\",\"linecolor\":\"white\",\"ticks\":\"\"}},\"coloraxis\":{\"colorbar\":{\"outlinewidth\":0,\"ticks\":\"\"}},\"colorscale\":{\"sequential\":[[0.0,\"#0d0887\"],[0.1111111111111111,\"#46039f\"],[0.2222222222222222,\"#7201a8\"],[0.3333333333333333,\"#9c179e\"],[0.4444444444444444,\"#bd3786\"],[0.5555555555555556,\"#d8576b\"],[0.6666666666666666,\"#ed7953\"],[0.7777777777777778,\"#fb9f3a\"],[0.8888888888888888,\"#fdca26\"],[1.0,\"#f0f921\"]],\"sequentialminus\":[[0.0,\"#0d0887\"],[0.1111111111111111,\"#46039f\"],[0.2222222222222222,\"#7201a8\"],[0.3333333333333333,\"#9c179e\"],[0.4444444444444444,\"#bd3786\"],[0.5555555555555556,\"#d8576b\"],[0.6666666666666666,\"#ed7953\"],[0.7777777777777778,\"#fb9f3a\"],[0.8888888888888888,\"#fdca26\"],[1.0,\"#f0f921\"]],\"diverging\":[[0,\"#8e0152\"],[0.1,\"#c51b7d\"],[0.2,\"#de77ae\"],[0.3,\"#f1b6da\"],[0.4,\"#fde0ef\"],[0.5,\"#f7f7f7\"],[0.6,\"#e6f5d0\"],[0.7,\"#b8e186\"],[0.8,\"#7fbc41\"],[0.9,\"#4d9221\"],[1,\"#276419\"]]},\"xaxis\":{\"gridcolor\":\"white\",\"linecolor\":\"white\",\"ticks\":\"\",\"title\":{\"standoff\":15},\"zerolinecolor\":\"white\",\"automargin\":true,\"zerolinewidth\":2},\"yaxis\":{\"gridcolor\":\"white\",\"linecolor\":\"white\",\"ticks\":\"\",\"title\":{\"standoff\":15},\"zerolinecolor\":\"white\",\"automargin\":true,\"zerolinewidth\":2},\"scene\":{\"xaxis\":{\"backgroundcolor\":\"#E5ECF6\",\"gridcolor\":\"white\",\"linecolor\":\"white\",\"showbackground\":true,\"ticks\":\"\",\"zerolinecolor\":\"white\",\"gridwidth\":2},\"yaxis\":{\"backgroundcolor\":\"#E5ECF6\",\"gridcolor\":\"white\",\"linecolor\":\"white\",\"showbackground\":true,\"ticks\":\"\",\"zerolinecolor\":\"white\",\"gridwidth\":2},\"zaxis\":{\"backgroundcolor\":\"#E5ECF6\",\"gridcolor\":\"white\",\"linecolor\":\"white\",\"showbackground\":true,\"ticks\":\"\",\"zerolinecolor\":\"white\",\"gridwidth\":2}},\"shapedefaults\":{\"line\":{\"color\":\"#2a3f5f\"}},\"annotationdefaults\":{\"arrowcolor\":\"#2a3f5f\",\"arrowhead\":0,\"arrowwidth\":1},\"geo\":{\"bgcolor\":\"white\",\"landcolor\":\"#E5ECF6\",\"subunitcolor\":\"white\",\"showland\":true,\"showlakes\":true,\"lakecolor\":\"white\"},\"title\":{\"x\":0.05},\"mapbox\":{\"style\":\"light\"}}},\"xaxis\":{\"anchor\":\"y\",\"domain\":[0.0,1.0],\"title\":{\"text\":\"category\"}},\"yaxis\":{\"anchor\":\"x\",\"domain\":[0.0,1.0],\"title\":{\"text\":\"count\"}},\"legend\":{\"tracegroupgap\":0},\"title\":{\"text\":\"Chord Progressions / Clusters\"},\"barmode\":\"relative\"},                        {\"responsive\": true}                    ).then(function(){\n",
       "                            \n",
       "var gd = document.getElementById('f244db1e-4a59-487c-b483-ccdfcb5c2680');\n",
       "var x = new MutationObserver(function (mutations, observer) {{\n",
       "        var display = window.getComputedStyle(gd).display;\n",
       "        if (!display || display === 'none') {{\n",
       "            console.log([gd, 'removed!']);\n",
       "            Plotly.purge(gd);\n",
       "            observer.disconnect();\n",
       "        }}\n",
       "}});\n",
       "\n",
       "// Listen for the removal of the full notebook cells\n",
       "var notebookContainer = gd.closest('#notebook-container');\n",
       "if (notebookContainer) {{\n",
       "    x.observe(notebookContainer, {childList: true});\n",
       "}}\n",
       "\n",
       "// Listen for the clearing of the current output cell\n",
       "var outputEl = gd.closest('.output');\n",
       "if (outputEl) {{\n",
       "    x.observe(outputEl, {childList: true});\n",
       "}}\n",
       "\n",
       "                        })                };                });            </script>        </div>"
      ]
     },
     "metadata": {},
     "output_type": "display_data"
    }
   ],
   "source": [
    "fig = px.histogram(chordsDF, x=\"category\", title='Chord Progressions / Clusters')\n",
    "fig.show()"
   ]
  },
  {
   "cell_type": "markdown",
   "id": "b1dc44ef-e6fd-46ba-804e-841248a90992",
   "metadata": {},
   "source": [
    "### Doing some quick analysis"
   ]
  },
  {
   "cell_type": "markdown",
   "id": "88a430fe-49d8-4e0b-a20d-2689f7bcdb81",
   "metadata": {},
   "source": [
    "most popular chords among categories"
   ]
  },
  {
   "cell_type": "code",
   "execution_count": 85,
   "id": "151de59e-794d-4db2-86e1-427cedfa37f8",
   "metadata": {},
   "outputs": [
    {
     "ename": "NameError",
     "evalue": "name 'numClusters' is not defined",
     "output_type": "error",
     "traceback": [
      "\u001b[0;31m---------------------------------------------------------------------------\u001b[0m",
      "\u001b[0;31mNameError\u001b[0m                                 Traceback (most recent call last)",
      "\u001b[0;32m<ipython-input-85-0789d9893419>\u001b[0m in \u001b[0;36m<module>\u001b[0;34m\u001b[0m\n\u001b[0;32m----> 1\u001b[0;31m \u001b[0mplotChordsPerCategory\u001b[0m\u001b[0;34m(\u001b[0m\u001b[0mnumClusters\u001b[0m\u001b[0;34m)\u001b[0m\u001b[0;34m\u001b[0m\u001b[0;34m\u001b[0m\u001b[0m\n\u001b[0m",
      "\u001b[0;31mNameError\u001b[0m: name 'numClusters' is not defined"
     ]
    }
   ],
   "source": [
    "plotChordsPerCategory(numClusters)"
   ]
  },
  {
   "cell_type": "markdown",
   "id": "23cd4491-cb74-4c77-8b6d-05aad811d82a",
   "metadata": {},
   "source": [
    "### Ratio per chords and category\n"
   ]
  },
  {
   "cell_type": "code",
   "execution_count": 479,
   "id": "bc96bf42-78fa-4df7-9d71-7c4b29734618",
   "metadata": {},
   "outputs": [],
   "source": [
    "### Example , what's the ratio of the chord C per category\n",
    "clusterChordsRatio, chordsRatio = getClustersChordsRatios(listKeys)"
   ]
  },
  {
   "cell_type": "code",
   "execution_count": 480,
   "id": "bacc94d0-ab3a-4597-a9d0-9bc1411cb218",
   "metadata": {},
   "outputs": [
    {
     "data": {
      "application/vnd.plotly.v1+json": {
       "config": {
        "plotlyServerURL": "https://plot.ly"
       },
       "data": [
        {
         "alignmentgroup": "True",
         "hovertemplate": "chord=C<br>ratio=%{x}<br>cluster=%{y}<extra></extra>",
         "legendgroup": "C",
         "marker": {
          "color": "#636efa",
          "pattern": {
           "shape": ""
          }
         },
         "name": "C",
         "offsetgroup": "C",
         "orientation": "h",
         "showlegend": true,
         "textposition": "auto",
         "type": "bar",
         "x": [
          0.008175193282284615,
          0.13609292346391447,
          0.007352125180335146,
          0.0022749972256131397,
          0.10116339289017127,
          0.013178337587393186,
          0.013539007879258684,
          0.02395220656234972,
          0.038674952835423375,
          0.17915140753893388,
          0.08472977471978693,
          0.004198572115562461,
          0.127538563977361,
          0.07535234713128398,
          0.1846261976103281
         ],
         "xaxis": "x",
         "y": [
          0,
          1,
          2,
          3,
          4,
          5,
          6,
          7,
          8,
          9,
          10,
          11,
          12,
          13,
          14
         ],
         "yaxis": "y"
        },
        {
         "alignmentgroup": "True",
         "hovertemplate": "chord=C#<br>ratio=%{x}<br>cluster=%{y}<extra></extra>",
         "legendgroup": "C#",
         "marker": {
          "color": "#EF553B",
          "pattern": {
           "shape": ""
          }
         },
         "name": "C#",
         "offsetgroup": "C#",
         "orientation": "h",
         "showlegend": true,
         "textposition": "auto",
         "type": "bar",
         "x": [
          0,
          0.44364754098360654,
          0.02663934426229508,
          0.07889344262295082,
          0.06557377049180328,
          0.02663934426229508,
          0.00819672131147541,
          0.01331967213114754,
          0.03278688524590164,
          0.1403688524590164,
          0.01639344262295082,
          0.006147540983606557,
          0.025614754098360656,
          0.06864754098360656,
          0.0471311475409836
         ],
         "xaxis": "x",
         "y": [
          0,
          1,
          2,
          3,
          4,
          5,
          6,
          7,
          8,
          9,
          10,
          11,
          12,
          13,
          14
         ],
         "yaxis": "y"
        },
        {
         "alignmentgroup": "True",
         "hovertemplate": "chord=C#dim<br>ratio=%{x}<br>cluster=%{y}<extra></extra>",
         "legendgroup": "C#dim",
         "marker": {
          "color": "#00cc96",
          "pattern": {
           "shape": ""
          }
         },
         "name": "C#dim",
         "offsetgroup": "C#dim",
         "orientation": "h",
         "showlegend": true,
         "textposition": "auto",
         "type": "bar",
         "x": [
          0,
          0.3064516129032258,
          0,
          0,
          0.0967741935483871,
          0,
          0,
          0.04838709677419355,
          0,
          0.08064516129032258,
          0,
          0,
          0,
          0.16129032258064516,
          0.3064516129032258
         ],
         "xaxis": "x",
         "y": [
          0,
          1,
          2,
          3,
          4,
          5,
          6,
          7,
          8,
          9,
          10,
          11,
          12,
          13,
          14
         ],
         "yaxis": "y"
        },
        {
         "alignmentgroup": "True",
         "hovertemplate": "chord=C#m<br>ratio=%{x}<br>cluster=%{y}<extra></extra>",
         "legendgroup": "C#m",
         "marker": {
          "color": "#ab63fa",
          "pattern": {
           "shape": ""
          }
         },
         "name": "C#m",
         "offsetgroup": "C#m",
         "orientation": "h",
         "showlegend": true,
         "textposition": "auto",
         "type": "bar",
         "x": [
          0,
          0.36893203883495146,
          0.0825242718446602,
          0,
          0.038834951456310676,
          0.10679611650485436,
          0,
          0.10679611650485436,
          0.11165048543689321,
          0.13106796116504854,
          0,
          0.014563106796116505,
          0.024271844660194174,
          0.009708737864077669,
          0.0048543689320388345
         ],
         "xaxis": "x",
         "y": [
          0,
          1,
          2,
          3,
          4,
          5,
          6,
          7,
          8,
          9,
          10,
          11,
          12,
          13,
          14
         ],
         "yaxis": "y"
        },
        {
         "alignmentgroup": "True",
         "hovertemplate": "chord=Cdim<br>ratio=%{x}<br>cluster=%{y}<extra></extra>",
         "legendgroup": "Cdim",
         "marker": {
          "color": "#FFA15A",
          "pattern": {
           "shape": ""
          }
         },
         "name": "Cdim",
         "offsetgroup": "Cdim",
         "orientation": "h",
         "showlegend": true,
         "textposition": "auto",
         "type": "bar",
         "x": [
          0,
          0.21052631578947367,
          0,
          0,
          0.6842105263157895,
          0,
          0,
          0.05263157894736842,
          0,
          0.05263157894736842,
          0,
          0,
          0,
          0,
          0
         ],
         "xaxis": "x",
         "y": [
          0,
          1,
          2,
          3,
          4,
          5,
          6,
          7,
          8,
          9,
          10,
          11,
          12,
          13,
          14
         ],
         "yaxis": "y"
        },
        {
         "alignmentgroup": "True",
         "hovertemplate": "chord=Cm<br>ratio=%{x}<br>cluster=%{y}<extra></extra>",
         "legendgroup": "Cm",
         "marker": {
          "color": "#19d3f3",
          "pattern": {
           "shape": ""
          }
         },
         "name": "Cm",
         "offsetgroup": "Cm",
         "orientation": "h",
         "showlegend": true,
         "textposition": "auto",
         "type": "bar",
         "x": [
          0,
          0.4300254452926209,
          0.029686174724342665,
          0.002544529262086514,
          0.15521628498727735,
          0.0364715860899067,
          0.018659881255301103,
          0.035623409669211195,
          0.02374893977947413,
          0.04664970313825276,
          0.007633587786259542,
          0.04240882103477523,
          0.03816793893129771,
          0.08312128922815945,
          0.05004240882103478
         ],
         "xaxis": "x",
         "y": [
          0,
          1,
          2,
          3,
          4,
          5,
          6,
          7,
          8,
          9,
          10,
          11,
          12,
          13,
          14
         ],
         "yaxis": "y"
        },
        {
         "alignmentgroup": "True",
         "hovertemplate": "chord=D<br>ratio=%{x}<br>cluster=%{y}<extra></extra>",
         "legendgroup": "D",
         "marker": {
          "color": "#FF6692",
          "pattern": {
           "shape": ""
          }
         },
         "name": "D",
         "offsetgroup": "D",
         "orientation": "h",
         "showlegend": true,
         "textposition": "auto",
         "type": "bar",
         "x": [
          0.06537102473498234,
          0.19752650176678446,
          0.059481743227326266,
          0.013545347467608953,
          0.14016489988221437,
          0.029093050647820966,
          0.029799764428739692,
          0.05818610129564193,
          0.02131919905771496,
          0.11507656065959952,
          0.03439340400471143,
          0.02061248527679623,
          0.04240282685512368,
          0.06089517078916372,
          0.1121319199057715
         ],
         "xaxis": "x",
         "y": [
          0,
          1,
          2,
          3,
          4,
          5,
          6,
          7,
          8,
          9,
          10,
          11,
          12,
          13,
          14
         ],
         "yaxis": "y"
        },
        {
         "alignmentgroup": "True",
         "hovertemplate": "chord=D#<br>ratio=%{x}<br>cluster=%{y}<extra></extra>",
         "legendgroup": "D#",
         "marker": {
          "color": "#B6E880",
          "pattern": {
           "shape": ""
          }
         },
         "name": "D#",
         "offsetgroup": "D#",
         "orientation": "h",
         "showlegend": true,
         "textposition": "auto",
         "type": "bar",
         "x": [
          0,
          0.2785388127853881,
          0.030441400304414,
          0.01750380517503805,
          0.16552511415525115,
          0.033866057838660577,
          0.03272450532724505,
          0.032343987823439876,
          0.01598173515981735,
          0.0928462709284627,
          0.06811263318112633,
          0.0121765601217656,
          0.03120243531202435,
          0.06316590563165905,
          0.12557077625570776
         ],
         "xaxis": "x",
         "y": [
          0,
          1,
          2,
          3,
          4,
          5,
          6,
          7,
          8,
          9,
          10,
          11,
          12,
          13,
          14
         ],
         "yaxis": "y"
        },
        {
         "alignmentgroup": "True",
         "hovertemplate": "chord=D#dim<br>ratio=%{x}<br>cluster=%{y}<extra></extra>",
         "legendgroup": "D#dim",
         "marker": {
          "color": "#FF97FF",
          "pattern": {
           "shape": ""
          }
         },
         "name": "D#dim",
         "offsetgroup": "D#dim",
         "orientation": "h",
         "showlegend": true,
         "textposition": "auto",
         "type": "bar",
         "x": [
          0,
          0.5116279069767442,
          0,
          0,
          0.13953488372093023,
          0.13953488372093023,
          0,
          0.16279069767441862,
          0,
          0.046511627906976744,
          0,
          0,
          0,
          0,
          0
         ],
         "xaxis": "x",
         "y": [
          0,
          1,
          2,
          3,
          4,
          5,
          6,
          7,
          8,
          9,
          10,
          11,
          12,
          13,
          14
         ],
         "yaxis": "y"
        },
        {
         "alignmentgroup": "True",
         "hovertemplate": "chord=D#m<br>ratio=%{x}<br>cluster=%{y}<extra></extra>",
         "legendgroup": "D#m",
         "marker": {
          "color": "#FECB52",
          "pattern": {
           "shape": ""
          }
         },
         "name": "D#m",
         "offsetgroup": "D#m",
         "orientation": "h",
         "showlegend": true,
         "textposition": "auto",
         "type": "bar",
         "x": [
          0,
          0.40941176470588236,
          0.04941176470588235,
          0.05411764705882353,
          0.009411764705882352,
          0.07294117647058823,
          0,
          0,
          0.08705882352941176,
          0.03529411764705882,
          0,
          0.02588235294117647,
          0.007058823529411765,
          0.17176470588235293,
          0.07764705882352942
         ],
         "xaxis": "x",
         "y": [
          0,
          1,
          2,
          3,
          4,
          5,
          6,
          7,
          8,
          9,
          10,
          11,
          12,
          13,
          14
         ],
         "yaxis": "y"
        },
        {
         "alignmentgroup": "True",
         "hovertemplate": "chord=Ddim<br>ratio=%{x}<br>cluster=%{y}<extra></extra>",
         "legendgroup": "Ddim",
         "marker": {
          "color": "#636efa",
          "pattern": {
           "shape": ""
          }
         },
         "name": "Ddim",
         "offsetgroup": "Ddim",
         "orientation": "h",
         "showlegend": true,
         "textposition": "auto",
         "type": "bar",
         "x": [
          0,
          0.42105263157894735,
          0,
          0,
          0,
          0,
          0,
          0,
          0,
          0.15789473684210525,
          0,
          0,
          0,
          0.42105263157894735,
          0
         ],
         "xaxis": "x",
         "y": [
          0,
          1,
          2,
          3,
          4,
          5,
          6,
          7,
          8,
          9,
          10,
          11,
          12,
          13,
          14
         ],
         "yaxis": "y"
        },
        {
         "alignmentgroup": "True",
         "hovertemplate": "chord=Dm<br>ratio=%{x}<br>cluster=%{y}<extra></extra>",
         "legendgroup": "Dm",
         "marker": {
          "color": "#EF553B",
          "pattern": {
           "shape": ""
          }
         },
         "name": "Dm",
         "offsetgroup": "Dm",
         "orientation": "h",
         "showlegend": true,
         "textposition": "auto",
         "type": "bar",
         "x": [
          0.008011849458021948,
          0.1748468322897731,
          0.005520770214771427,
          0,
          0.044637446980407995,
          0.05301959200161584,
          0.006463340739244597,
          0.11987477277317714,
          0.04931663636975695,
          0.08701945734868377,
          0.025045445364572812,
          0.006261361341143203,
          0.03059987881236114,
          0.3134046993873292,
          0.07597791691914091
         ],
         "xaxis": "x",
         "y": [
          0,
          1,
          2,
          3,
          4,
          5,
          6,
          7,
          8,
          9,
          10,
          11,
          12,
          13,
          14
         ],
         "yaxis": "y"
        },
        {
         "alignmentgroup": "True",
         "hovertemplate": "chord=E<br>ratio=%{x}<br>cluster=%{y}<extra></extra>",
         "legendgroup": "E",
         "marker": {
          "color": "#00cc96",
          "pattern": {
           "shape": ""
          }
         },
         "name": "E",
         "offsetgroup": "E",
         "orientation": "h",
         "showlegend": true,
         "textposition": "auto",
         "type": "bar",
         "x": [
          0.020109024833434283,
          0.16159903089036948,
          0.009085402786190187,
          0.015748031496062992,
          0.048576620230163535,
          0.08806783767413688,
          0.0025439127801332524,
          0.3490006056935191,
          0.02047244094488189,
          0.10708661417322834,
          0.017928528164748637,
          0.0037552998182919443,
          0.07777104784978801,
          0.023622047244094488,
          0.054633555420957
         ],
         "xaxis": "x",
         "y": [
          0,
          1,
          2,
          3,
          4,
          5,
          6,
          7,
          8,
          9,
          10,
          11,
          12,
          13,
          14
         ],
         "yaxis": "y"
        },
        {
         "alignmentgroup": "True",
         "hovertemplate": "chord=Edim<br>ratio=%{x}<br>cluster=%{y}<extra></extra>",
         "legendgroup": "Edim",
         "marker": {
          "color": "#ab63fa",
          "pattern": {
           "shape": ""
          }
         },
         "name": "Edim",
         "offsetgroup": "Edim",
         "orientation": "h",
         "showlegend": true,
         "textposition": "auto",
         "type": "bar",
         "x": [
          0,
          0.4444444444444444,
          0,
          0,
          0,
          0,
          0,
          0,
          0,
          0,
          0,
          0,
          0,
          0.5555555555555556,
          0
         ],
         "xaxis": "x",
         "y": [
          0,
          1,
          2,
          3,
          4,
          5,
          6,
          7,
          8,
          9,
          10,
          11,
          12,
          13,
          14
         ],
         "yaxis": "y"
        },
        {
         "alignmentgroup": "True",
         "hovertemplate": "chord=Em<br>ratio=%{x}<br>cluster=%{y}<extra></extra>",
         "legendgroup": "Em",
         "marker": {
          "color": "#FFA15A",
          "pattern": {
           "shape": ""
          }
         },
         "name": "Em",
         "offsetgroup": "Em",
         "orientation": "h",
         "showlegend": true,
         "textposition": "auto",
         "type": "bar",
         "x": [
          0.00934631743899709,
          0.15793597492724423,
          0.002742332661741661,
          0.0003917618088202373,
          0.06010745466756212,
          0.05708529214237743,
          0.003917618088202373,
          0.0661517797179315,
          0.3666330870830535,
          0.09312737855383926,
          0.018524736959928362,
          0.006212222968435191,
          0.033971345421983434,
          0.05921199910454444,
          0.06464069845533915
         ],
         "xaxis": "x",
         "y": [
          0,
          1,
          2,
          3,
          4,
          5,
          6,
          7,
          8,
          9,
          10,
          11,
          12,
          13,
          14
         ],
         "yaxis": "y"
        },
        {
         "alignmentgroup": "True",
         "hovertemplate": "chord=F<br>ratio=%{x}<br>cluster=%{y}<extra></extra>",
         "legendgroup": "F",
         "marker": {
          "color": "#19d3f3",
          "pattern": {
           "shape": ""
          }
         },
         "name": "F",
         "offsetgroup": "F",
         "orientation": "h",
         "showlegend": true,
         "textposition": "auto",
         "type": "bar",
         "x": [
          0.005815577884247234,
          0.1176774941275081,
          0.007605782464273518,
          0.001438372466032679,
          0.10214514109502572,
          0.06938336248020945,
          0.02008547450769374,
          0.0407400891997889,
          0.03344474683609797,
          0.217970342622391,
          0.06612374142409222,
          0.004708341525502654,
          0.13339611122034004,
          0.05937684323809721,
          0.12008857890869956
         ],
         "xaxis": "x",
         "y": [
          0,
          1,
          2,
          3,
          4,
          5,
          6,
          7,
          8,
          9,
          10,
          11,
          12,
          13,
          14
         ],
         "yaxis": "y"
        },
        {
         "alignmentgroup": "True",
         "hovertemplate": "chord=F#<br>ratio=%{x}<br>cluster=%{y}<extra></extra>",
         "legendgroup": "F#",
         "marker": {
          "color": "#FF6692",
          "pattern": {
           "shape": ""
          }
         },
         "name": "F#",
         "offsetgroup": "F#",
         "orientation": "h",
         "showlegend": true,
         "textposition": "auto",
         "type": "bar",
         "x": [
          0,
          0.23842195540308747,
          0,
          0.2169811320754717,
          0.15008576329331047,
          0.038593481989708404,
          0.00686106346483705,
          0.04030874785591767,
          0.07890222984562607,
          0.11234991423670669,
          0.007718696397941681,
          0.002572898799313894,
          0.007718696397941681,
          0.057461406518010294,
          0.04202401372212693
         ],
         "xaxis": "x",
         "y": [
          0,
          1,
          2,
          3,
          4,
          5,
          6,
          7,
          8,
          9,
          10,
          11,
          12,
          13,
          14
         ],
         "yaxis": "y"
        },
        {
         "alignmentgroup": "True",
         "hovertemplate": "chord=F#dim<br>ratio=%{x}<br>cluster=%{y}<extra></extra>",
         "legendgroup": "F#dim",
         "marker": {
          "color": "#B6E880",
          "pattern": {
           "shape": ""
          }
         },
         "name": "F#dim",
         "offsetgroup": "F#dim",
         "orientation": "h",
         "showlegend": true,
         "textposition": "auto",
         "type": "bar",
         "x": [
          0,
          0.23958333333333334,
          0,
          0,
          0.13541666666666666,
          0,
          0,
          0.041666666666666664,
          0.052083333333333336,
          0.07291666666666667,
          0,
          0,
          0.020833333333333332,
          0.07291666666666667,
          0.3645833333333333
         ],
         "xaxis": "x",
         "y": [
          0,
          1,
          2,
          3,
          4,
          5,
          6,
          7,
          8,
          9,
          10,
          11,
          12,
          13,
          14
         ],
         "yaxis": "y"
        },
        {
         "alignmentgroup": "True",
         "hovertemplate": "chord=F#m<br>ratio=%{x}<br>cluster=%{y}<extra></extra>",
         "legendgroup": "F#m",
         "marker": {
          "color": "#FF97FF",
          "pattern": {
           "shape": ""
          }
         },
         "name": "F#m",
         "offsetgroup": "F#m",
         "orientation": "h",
         "showlegend": true,
         "textposition": "auto",
         "type": "bar",
         "x": [
          0.28210526315789475,
          0.25263157894736843,
          0.05263157894736842,
          0,
          0.01263157894736842,
          0.04,
          0.002105263157894737,
          0.056842105263157895,
          0.1368421052631579,
          0.04,
          0.01263157894736842,
          0.05263157894736842,
          0,
          0.035789473684210524,
          0.023157894736842106
         ],
         "xaxis": "x",
         "y": [
          0,
          1,
          2,
          3,
          4,
          5,
          6,
          7,
          8,
          9,
          10,
          11,
          12,
          13,
          14
         ],
         "yaxis": "y"
        },
        {
         "alignmentgroup": "True",
         "hovertemplate": "chord=Fdim<br>ratio=%{x}<br>cluster=%{y}<extra></extra>",
         "legendgroup": "Fdim",
         "marker": {
          "color": "#FECB52",
          "pattern": {
           "shape": ""
          }
         },
         "name": "Fdim",
         "offsetgroup": "Fdim",
         "orientation": "h",
         "showlegend": true,
         "textposition": "auto",
         "type": "bar",
         "x": [
          0,
          0.5348837209302325,
          0,
          0,
          0.06976744186046512,
          0,
          0,
          0.023255813953488372,
          0.046511627906976744,
          0.20930232558139536,
          0.046511627906976744,
          0,
          0.06976744186046512,
          0,
          0
         ],
         "xaxis": "x",
         "y": [
          0,
          1,
          2,
          3,
          4,
          5,
          6,
          7,
          8,
          9,
          10,
          11,
          12,
          13,
          14
         ],
         "yaxis": "y"
        },
        {
         "alignmentgroup": "True",
         "hovertemplate": "chord=Fm<br>ratio=%{x}<br>cluster=%{y}<extra></extra>",
         "legendgroup": "Fm",
         "marker": {
          "color": "#636efa",
          "pattern": {
           "shape": ""
          }
         },
         "name": "Fm",
         "offsetgroup": "Fm",
         "orientation": "h",
         "showlegend": true,
         "textposition": "auto",
         "type": "bar",
         "x": [
          0,
          0.4137205387205387,
          0.025673400673400674,
          0,
          0.023148148148148147,
          0.0016835016835016834,
          0.007575757575757576,
          0.03745791245791246,
          0.05345117845117845,
          0.11994949494949494,
          0.007996632996632997,
          0.005892255892255892,
          0.04292929292929293,
          0.08080808080808081,
          0.17971380471380471
         ],
         "xaxis": "x",
         "y": [
          0,
          1,
          2,
          3,
          4,
          5,
          6,
          7,
          8,
          9,
          10,
          11,
          12,
          13,
          14
         ],
         "yaxis": "y"
        },
        {
         "alignmentgroup": "True",
         "hovertemplate": "chord=G<br>ratio=%{x}<br>cluster=%{y}<extra></extra>",
         "legendgroup": "G",
         "marker": {
          "color": "#EF553B",
          "pattern": {
           "shape": ""
          }
         },
         "name": "G",
         "offsetgroup": "G",
         "orientation": "h",
         "showlegend": true,
         "textposition": "auto",
         "type": "bar",
         "x": [
          0.00599288777946173,
          0.12101671074658504,
          0.009202302061355284,
          0.0028924350935583885,
          0.15820233177815418,
          0.07140946777213159,
          0.034431864332907396,
          0.028696522143967985,
          0.03613562747020891,
          0.20437233167909818,
          0.048190742226580686,
          0.003882995057105782,
          0.1181044644537557,
          0.08167166899448258,
          0.07579764841064654
         ],
         "xaxis": "x",
         "y": [
          0,
          1,
          2,
          3,
          4,
          5,
          6,
          7,
          8,
          9,
          10,
          11,
          12,
          13,
          14
         ],
         "yaxis": "y"
        },
        {
         "alignmentgroup": "True",
         "hovertemplate": "chord=G#<br>ratio=%{x}<br>cluster=%{y}<extra></extra>",
         "legendgroup": "G#",
         "marker": {
          "color": "#00cc96",
          "pattern": {
           "shape": ""
          }
         },
         "name": "G#",
         "offsetgroup": "G#",
         "orientation": "h",
         "showlegend": true,
         "textposition": "auto",
         "type": "bar",
         "x": [
          0,
          0.38572854291417163,
          0.012974051896207584,
          0.02445109780439122,
          0.09580838323353294,
          0.015968063872255488,
          0.02445109780439122,
          0.006986027944111776,
          0.02445109780439122,
          0.10728542914171657,
          0.06487025948103792,
          0.011477045908183632,
          0.05389221556886228,
          0.05289421157684631,
          0.1187624750499002
         ],
         "xaxis": "x",
         "y": [
          0,
          1,
          2,
          3,
          4,
          5,
          6,
          7,
          8,
          9,
          10,
          11,
          12,
          13,
          14
         ],
         "yaxis": "y"
        },
        {
         "alignmentgroup": "True",
         "hovertemplate": "chord=G#dim<br>ratio=%{x}<br>cluster=%{y}<extra></extra>",
         "legendgroup": "G#dim",
         "marker": {
          "color": "#ab63fa",
          "pattern": {
           "shape": ""
          }
         },
         "name": "G#dim",
         "offsetgroup": "G#dim",
         "orientation": "h",
         "showlegend": true,
         "textposition": "auto",
         "type": "bar",
         "x": [
          0,
          0.11612903225806452,
          0,
          0,
          0.14838709677419354,
          0.21935483870967742,
          0,
          0.05806451612903226,
          0.012903225806451613,
          0.2645161290322581,
          0.012903225806451613,
          0,
          0.05161290322580645,
          0.07741935483870968,
          0.03870967741935484
         ],
         "xaxis": "x",
         "y": [
          0,
          1,
          2,
          3,
          4,
          5,
          6,
          7,
          8,
          9,
          10,
          11,
          12,
          13,
          14
         ],
         "yaxis": "y"
        },
        {
         "alignmentgroup": "True",
         "hovertemplate": "chord=G#m<br>ratio=%{x}<br>cluster=%{y}<extra></extra>",
         "legendgroup": "G#m",
         "marker": {
          "color": "#FFA15A",
          "pattern": {
           "shape": ""
          }
         },
         "name": "G#m",
         "offsetgroup": "G#m",
         "orientation": "h",
         "showlegend": true,
         "textposition": "auto",
         "type": "bar",
         "x": [
          0,
          0.3181818181818182,
          0,
          0,
          0.12121212121212122,
          0.1590909090909091,
          0.007575757575757576,
          0.015151515151515152,
          0.16666666666666666,
          0.10606060606060606,
          0,
          0,
          0,
          0.03787878787878788,
          0.06818181818181818
         ],
         "xaxis": "x",
         "y": [
          0,
          1,
          2,
          3,
          4,
          5,
          6,
          7,
          8,
          9,
          10,
          11,
          12,
          13,
          14
         ],
         "yaxis": "y"
        },
        {
         "alignmentgroup": "True",
         "hovertemplate": "chord=Gdim<br>ratio=%{x}<br>cluster=%{y}<extra></extra>",
         "legendgroup": "Gdim",
         "marker": {
          "color": "#19d3f3",
          "pattern": {
           "shape": ""
          }
         },
         "name": "Gdim",
         "offsetgroup": "Gdim",
         "orientation": "h",
         "showlegend": true,
         "textposition": "auto",
         "type": "bar",
         "x": [
          0,
          1,
          0,
          0,
          0,
          0,
          0,
          0,
          0,
          0,
          0,
          0,
          0,
          0,
          0
         ],
         "xaxis": "x",
         "y": [
          0,
          1,
          2,
          3,
          4,
          5,
          6,
          7,
          8,
          9,
          10,
          11,
          12,
          13,
          14
         ],
         "yaxis": "y"
        },
        {
         "alignmentgroup": "True",
         "hovertemplate": "chord=Gm<br>ratio=%{x}<br>cluster=%{y}<extra></extra>",
         "legendgroup": "Gm",
         "marker": {
          "color": "#FF6692",
          "pattern": {
           "shape": ""
          }
         },
         "name": "Gm",
         "offsetgroup": "Gm",
         "orientation": "h",
         "showlegend": true,
         "textposition": "auto",
         "type": "bar",
         "x": [
          0,
          0.2929532858273951,
          0.019002375296912115,
          0,
          0.09659540775930324,
          0.030878859857482184,
          0.026920031670625493,
          0.04513064133016627,
          0.035629453681710214,
          0.06967537608867776,
          0.01583531274742676,
          0.09817893903404593,
          0.007125890736342043,
          0.14885193982581155,
          0.11322248614410134
         ],
         "xaxis": "x",
         "y": [
          0,
          1,
          2,
          3,
          4,
          5,
          6,
          7,
          8,
          9,
          10,
          11,
          12,
          13,
          14
         ],
         "yaxis": "y"
        },
        {
         "alignmentgroup": "True",
         "hovertemplate": "chord=A<br>ratio=%{x}<br>cluster=%{y}<extra></extra>",
         "legendgroup": "A",
         "marker": {
          "color": "#B6E880",
          "pattern": {
           "shape": ""
          }
         },
         "name": "A",
         "offsetgroup": "A",
         "orientation": "h",
         "showlegend": true,
         "textposition": "auto",
         "type": "bar",
         "x": [
          0.026787298208266808,
          0.2790491396132695,
          0.01951392584708178,
          0.010466560227071138,
          0.116551357104843,
          0.03122228135533085,
          0.01720773461060848,
          0.047897817988291645,
          0.07982969664715274,
          0.10413340429306368,
          0.023594110342380698,
          0.018626929217668974,
          0.034592868547099524,
          0.12630832002838388,
          0.06421855596948732
         ],
         "xaxis": "x",
         "y": [
          0,
          1,
          2,
          3,
          4,
          5,
          6,
          7,
          8,
          9,
          10,
          11,
          12,
          13,
          14
         ],
         "yaxis": "y"
        },
        {
         "alignmentgroup": "True",
         "hovertemplate": "chord=A#<br>ratio=%{x}<br>cluster=%{y}<extra></extra>",
         "legendgroup": "A#",
         "marker": {
          "color": "#FF97FF",
          "pattern": {
           "shape": ""
          }
         },
         "name": "A#",
         "offsetgroup": "A#",
         "orientation": "h",
         "showlegend": true,
         "textposition": "auto",
         "type": "bar",
         "x": [
          0.0443307757885763,
          0.23870417732310314,
          0.016027280477408354,
          0.016709292412617222,
          0.14083546462063087,
          0.02011935208866155,
          0.01329923273657289,
          0.013469735720375107,
          0.014833759590792838,
          0.09428815004262575,
          0.037851662404092073,
          0.02608695652173913,
          0.024211423699914747,
          0.17289002557544758,
          0.12634271099744246
         ],
         "xaxis": "x",
         "y": [
          0,
          1,
          2,
          3,
          4,
          5,
          6,
          7,
          8,
          9,
          10,
          11,
          12,
          13,
          14
         ],
         "yaxis": "y"
        },
        {
         "alignmentgroup": "True",
         "hovertemplate": "chord=A#dim<br>ratio=%{x}<br>cluster=%{y}<extra></extra>",
         "legendgroup": "A#dim",
         "marker": {
          "color": "#FECB52",
          "pattern": {
           "shape": ""
          }
         },
         "name": "A#dim",
         "offsetgroup": "A#dim",
         "orientation": "h",
         "showlegend": true,
         "textposition": "auto",
         "type": "bar",
         "x": [
          0,
          0.4583333333333333,
          0,
          0,
          0.2916666666666667,
          0,
          0,
          0,
          0.20833333333333334,
          0,
          0,
          0,
          0,
          0,
          0.041666666666666664
         ],
         "xaxis": "x",
         "y": [
          0,
          1,
          2,
          3,
          4,
          5,
          6,
          7,
          8,
          9,
          10,
          11,
          12,
          13,
          14
         ],
         "yaxis": "y"
        },
        {
         "alignmentgroup": "True",
         "hovertemplate": "chord=A#m<br>ratio=%{x}<br>cluster=%{y}<extra></extra>",
         "legendgroup": "A#m",
         "marker": {
          "color": "#636efa",
          "pattern": {
           "shape": ""
          }
         },
         "name": "A#m",
         "offsetgroup": "A#m",
         "orientation": "h",
         "showlegend": true,
         "textposition": "auto",
         "type": "bar",
         "x": [
          0,
          0.5252808988764045,
          0,
          0.02247191011235955,
          0.042134831460674156,
          0,
          0.008426966292134831,
          0.0056179775280898875,
          0.02247191011235955,
          0.0702247191011236,
          0,
          0.1151685393258427,
          0.014044943820224719,
          0.13764044943820225,
          0.03651685393258427
         ],
         "xaxis": "x",
         "y": [
          0,
          1,
          2,
          3,
          4,
          5,
          6,
          7,
          8,
          9,
          10,
          11,
          12,
          13,
          14
         ],
         "yaxis": "y"
        },
        {
         "alignmentgroup": "True",
         "hovertemplate": "chord=Adim<br>ratio=%{x}<br>cluster=%{y}<extra></extra>",
         "legendgroup": "Adim",
         "marker": {
          "color": "#EF553B",
          "pattern": {
           "shape": ""
          }
         },
         "name": "Adim",
         "offsetgroup": "Adim",
         "orientation": "h",
         "showlegend": true,
         "textposition": "auto",
         "type": "bar",
         "x": [
          0,
          0.375,
          0,
          0,
          0,
          0,
          0,
          0,
          0,
          0,
          0,
          0,
          0.375,
          0.25,
          0
         ],
         "xaxis": "x",
         "y": [
          0,
          1,
          2,
          3,
          4,
          5,
          6,
          7,
          8,
          9,
          10,
          11,
          12,
          13,
          14
         ],
         "yaxis": "y"
        },
        {
         "alignmentgroup": "True",
         "hovertemplate": "chord=Am<br>ratio=%{x}<br>cluster=%{y}<extra></extra>",
         "legendgroup": "Am",
         "marker": {
          "color": "#00cc96",
          "pattern": {
           "shape": ""
          }
         },
         "name": "Am",
         "offsetgroup": "Am",
         "orientation": "h",
         "showlegend": true,
         "textposition": "auto",
         "type": "bar",
         "x": [
          0.0030856451065211935,
          0.09485775028420415,
          0.006451803404544314,
          0.00017716622621174316,
          0.05050713832253111,
          0.11078794679107673,
          0.016638861411719545,
          0.11974960506695408,
          0.06215581769595323,
          0.24679255311295822,
          0.022603457694181567,
          0.00214075856672523,
          0.18175778424106417,
          0.037337782174124874,
          0.044955929901229826
         ],
         "xaxis": "x",
         "y": [
          0,
          1,
          2,
          3,
          4,
          5,
          6,
          7,
          8,
          9,
          10,
          11,
          12,
          13,
          14
         ],
         "yaxis": "y"
        },
        {
         "alignmentgroup": "True",
         "hovertemplate": "chord=B<br>ratio=%{x}<br>cluster=%{y}<extra></extra>",
         "legendgroup": "B",
         "marker": {
          "color": "#ab63fa",
          "pattern": {
           "shape": ""
          }
         },
         "name": "B",
         "offsetgroup": "B",
         "orientation": "h",
         "showlegend": true,
         "textposition": "auto",
         "type": "bar",
         "x": [
          0,
          0.16447985004686036,
          0.0037488284910965324,
          0.08528584817244611,
          0.12277413308341144,
          0.04311152764761012,
          0.0023430178069353325,
          0.08481724461105905,
          0.33973758200562326,
          0.05154639175257732,
          0.007029053420805998,
          0.007029053420805998,
          0.02436738519212746,
          0.02858481724461106,
          0.035145267104029994
         ],
         "xaxis": "x",
         "y": [
          0,
          1,
          2,
          3,
          4,
          5,
          6,
          7,
          8,
          9,
          10,
          11,
          12,
          13,
          14
         ],
         "yaxis": "y"
        },
        {
         "alignmentgroup": "True",
         "hovertemplate": "chord=Bdim<br>ratio=%{x}<br>cluster=%{y}<extra></extra>",
         "legendgroup": "Bdim",
         "marker": {
          "color": "#FFA15A",
          "pattern": {
           "shape": ""
          }
         },
         "name": "Bdim",
         "offsetgroup": "Bdim",
         "orientation": "h",
         "showlegend": true,
         "textposition": "auto",
         "type": "bar",
         "x": [
          0,
          0.31092436974789917,
          0,
          0,
          0.04201680672268908,
          0.025210084033613446,
          0,
          0.3949579831932773,
          0.008403361344537815,
          0.01680672268907563,
          0,
          0,
          0,
          0.01680672268907563,
          0.18487394957983194
         ],
         "xaxis": "x",
         "y": [
          0,
          1,
          2,
          3,
          4,
          5,
          6,
          7,
          8,
          9,
          10,
          11,
          12,
          13,
          14
         ],
         "yaxis": "y"
        },
        {
         "alignmentgroup": "True",
         "hovertemplate": "chord=Bm<br>ratio=%{x}<br>cluster=%{y}<extra></extra>",
         "legendgroup": "Bm",
         "marker": {
          "color": "#19d3f3",
          "pattern": {
           "shape": ""
          }
         },
         "name": "Bm",
         "offsetgroup": "Bm",
         "orientation": "h",
         "showlegend": true,
         "textposition": "auto",
         "type": "bar",
         "x": [
          0.01606425702811245,
          0.20381526104417672,
          0.02710843373493976,
          0,
          0.07530120481927711,
          0.09236947791164658,
          0.08634538152610442,
          0.12349397590361445,
          0.05421686746987952,
          0.13453815261044177,
          0.012048192771084338,
          0.025100401606425703,
          0.008032128514056224,
          0.10240963855421686,
          0.0391566265060241
         ],
         "xaxis": "x",
         "y": [
          0,
          1,
          2,
          3,
          4,
          5,
          6,
          7,
          8,
          9,
          10,
          11,
          12,
          13,
          14
         ],
         "yaxis": "y"
        }
       ],
       "layout": {
        "autosize": true,
        "barmode": "relative",
        "legend": {
         "title": {
          "text": "chord"
         },
         "tracegroupgap": 0
        },
        "template": {
         "data": {
          "bar": [
           {
            "error_x": {
             "color": "#2a3f5f"
            },
            "error_y": {
             "color": "#2a3f5f"
            },
            "marker": {
             "line": {
              "color": "#E5ECF6",
              "width": 0.5
             },
             "pattern": {
              "fillmode": "overlay",
              "size": 10,
              "solidity": 0.2
             }
            },
            "type": "bar"
           }
          ],
          "barpolar": [
           {
            "marker": {
             "line": {
              "color": "#E5ECF6",
              "width": 0.5
             },
             "pattern": {
              "fillmode": "overlay",
              "size": 10,
              "solidity": 0.2
             }
            },
            "type": "barpolar"
           }
          ],
          "carpet": [
           {
            "aaxis": {
             "endlinecolor": "#2a3f5f",
             "gridcolor": "white",
             "linecolor": "white",
             "minorgridcolor": "white",
             "startlinecolor": "#2a3f5f"
            },
            "baxis": {
             "endlinecolor": "#2a3f5f",
             "gridcolor": "white",
             "linecolor": "white",
             "minorgridcolor": "white",
             "startlinecolor": "#2a3f5f"
            },
            "type": "carpet"
           }
          ],
          "choropleth": [
           {
            "colorbar": {
             "outlinewidth": 0,
             "ticks": ""
            },
            "type": "choropleth"
           }
          ],
          "contour": [
           {
            "colorbar": {
             "outlinewidth": 0,
             "ticks": ""
            },
            "colorscale": [
             [
              0,
              "#0d0887"
             ],
             [
              0.1111111111111111,
              "#46039f"
             ],
             [
              0.2222222222222222,
              "#7201a8"
             ],
             [
              0.3333333333333333,
              "#9c179e"
             ],
             [
              0.4444444444444444,
              "#bd3786"
             ],
             [
              0.5555555555555556,
              "#d8576b"
             ],
             [
              0.6666666666666666,
              "#ed7953"
             ],
             [
              0.7777777777777778,
              "#fb9f3a"
             ],
             [
              0.8888888888888888,
              "#fdca26"
             ],
             [
              1,
              "#f0f921"
             ]
            ],
            "type": "contour"
           }
          ],
          "contourcarpet": [
           {
            "colorbar": {
             "outlinewidth": 0,
             "ticks": ""
            },
            "type": "contourcarpet"
           }
          ],
          "heatmap": [
           {
            "colorbar": {
             "outlinewidth": 0,
             "ticks": ""
            },
            "colorscale": [
             [
              0,
              "#0d0887"
             ],
             [
              0.1111111111111111,
              "#46039f"
             ],
             [
              0.2222222222222222,
              "#7201a8"
             ],
             [
              0.3333333333333333,
              "#9c179e"
             ],
             [
              0.4444444444444444,
              "#bd3786"
             ],
             [
              0.5555555555555556,
              "#d8576b"
             ],
             [
              0.6666666666666666,
              "#ed7953"
             ],
             [
              0.7777777777777778,
              "#fb9f3a"
             ],
             [
              0.8888888888888888,
              "#fdca26"
             ],
             [
              1,
              "#f0f921"
             ]
            ],
            "type": "heatmap"
           }
          ],
          "heatmapgl": [
           {
            "colorbar": {
             "outlinewidth": 0,
             "ticks": ""
            },
            "colorscale": [
             [
              0,
              "#0d0887"
             ],
             [
              0.1111111111111111,
              "#46039f"
             ],
             [
              0.2222222222222222,
              "#7201a8"
             ],
             [
              0.3333333333333333,
              "#9c179e"
             ],
             [
              0.4444444444444444,
              "#bd3786"
             ],
             [
              0.5555555555555556,
              "#d8576b"
             ],
             [
              0.6666666666666666,
              "#ed7953"
             ],
             [
              0.7777777777777778,
              "#fb9f3a"
             ],
             [
              0.8888888888888888,
              "#fdca26"
             ],
             [
              1,
              "#f0f921"
             ]
            ],
            "type": "heatmapgl"
           }
          ],
          "histogram": [
           {
            "marker": {
             "pattern": {
              "fillmode": "overlay",
              "size": 10,
              "solidity": 0.2
             }
            },
            "type": "histogram"
           }
          ],
          "histogram2d": [
           {
            "colorbar": {
             "outlinewidth": 0,
             "ticks": ""
            },
            "colorscale": [
             [
              0,
              "#0d0887"
             ],
             [
              0.1111111111111111,
              "#46039f"
             ],
             [
              0.2222222222222222,
              "#7201a8"
             ],
             [
              0.3333333333333333,
              "#9c179e"
             ],
             [
              0.4444444444444444,
              "#bd3786"
             ],
             [
              0.5555555555555556,
              "#d8576b"
             ],
             [
              0.6666666666666666,
              "#ed7953"
             ],
             [
              0.7777777777777778,
              "#fb9f3a"
             ],
             [
              0.8888888888888888,
              "#fdca26"
             ],
             [
              1,
              "#f0f921"
             ]
            ],
            "type": "histogram2d"
           }
          ],
          "histogram2dcontour": [
           {
            "colorbar": {
             "outlinewidth": 0,
             "ticks": ""
            },
            "colorscale": [
             [
              0,
              "#0d0887"
             ],
             [
              0.1111111111111111,
              "#46039f"
             ],
             [
              0.2222222222222222,
              "#7201a8"
             ],
             [
              0.3333333333333333,
              "#9c179e"
             ],
             [
              0.4444444444444444,
              "#bd3786"
             ],
             [
              0.5555555555555556,
              "#d8576b"
             ],
             [
              0.6666666666666666,
              "#ed7953"
             ],
             [
              0.7777777777777778,
              "#fb9f3a"
             ],
             [
              0.8888888888888888,
              "#fdca26"
             ],
             [
              1,
              "#f0f921"
             ]
            ],
            "type": "histogram2dcontour"
           }
          ],
          "mesh3d": [
           {
            "colorbar": {
             "outlinewidth": 0,
             "ticks": ""
            },
            "type": "mesh3d"
           }
          ],
          "parcoords": [
           {
            "line": {
             "colorbar": {
              "outlinewidth": 0,
              "ticks": ""
             }
            },
            "type": "parcoords"
           }
          ],
          "pie": [
           {
            "automargin": true,
            "type": "pie"
           }
          ],
          "scatter": [
           {
            "fillpattern": {
             "fillmode": "overlay",
             "size": 10,
             "solidity": 0.2
            },
            "type": "scatter"
           }
          ],
          "scatter3d": [
           {
            "line": {
             "colorbar": {
              "outlinewidth": 0,
              "ticks": ""
             }
            },
            "marker": {
             "colorbar": {
              "outlinewidth": 0,
              "ticks": ""
             }
            },
            "type": "scatter3d"
           }
          ],
          "scattercarpet": [
           {
            "marker": {
             "colorbar": {
              "outlinewidth": 0,
              "ticks": ""
             }
            },
            "type": "scattercarpet"
           }
          ],
          "scattergeo": [
           {
            "marker": {
             "colorbar": {
              "outlinewidth": 0,
              "ticks": ""
             }
            },
            "type": "scattergeo"
           }
          ],
          "scattergl": [
           {
            "marker": {
             "colorbar": {
              "outlinewidth": 0,
              "ticks": ""
             }
            },
            "type": "scattergl"
           }
          ],
          "scattermapbox": [
           {
            "marker": {
             "colorbar": {
              "outlinewidth": 0,
              "ticks": ""
             }
            },
            "type": "scattermapbox"
           }
          ],
          "scatterpolar": [
           {
            "marker": {
             "colorbar": {
              "outlinewidth": 0,
              "ticks": ""
             }
            },
            "type": "scatterpolar"
           }
          ],
          "scatterpolargl": [
           {
            "marker": {
             "colorbar": {
              "outlinewidth": 0,
              "ticks": ""
             }
            },
            "type": "scatterpolargl"
           }
          ],
          "scatterternary": [
           {
            "marker": {
             "colorbar": {
              "outlinewidth": 0,
              "ticks": ""
             }
            },
            "type": "scatterternary"
           }
          ],
          "surface": [
           {
            "colorbar": {
             "outlinewidth": 0,
             "ticks": ""
            },
            "colorscale": [
             [
              0,
              "#0d0887"
             ],
             [
              0.1111111111111111,
              "#46039f"
             ],
             [
              0.2222222222222222,
              "#7201a8"
             ],
             [
              0.3333333333333333,
              "#9c179e"
             ],
             [
              0.4444444444444444,
              "#bd3786"
             ],
             [
              0.5555555555555556,
              "#d8576b"
             ],
             [
              0.6666666666666666,
              "#ed7953"
             ],
             [
              0.7777777777777778,
              "#fb9f3a"
             ],
             [
              0.8888888888888888,
              "#fdca26"
             ],
             [
              1,
              "#f0f921"
             ]
            ],
            "type": "surface"
           }
          ],
          "table": [
           {
            "cells": {
             "fill": {
              "color": "#EBF0F8"
             },
             "line": {
              "color": "white"
             }
            },
            "header": {
             "fill": {
              "color": "#C8D4E3"
             },
             "line": {
              "color": "white"
             }
            },
            "type": "table"
           }
          ]
         },
         "layout": {
          "annotationdefaults": {
           "arrowcolor": "#2a3f5f",
           "arrowhead": 0,
           "arrowwidth": 1
          },
          "autotypenumbers": "strict",
          "coloraxis": {
           "colorbar": {
            "outlinewidth": 0,
            "ticks": ""
           }
          },
          "colorscale": {
           "diverging": [
            [
             0,
             "#8e0152"
            ],
            [
             0.1,
             "#c51b7d"
            ],
            [
             0.2,
             "#de77ae"
            ],
            [
             0.3,
             "#f1b6da"
            ],
            [
             0.4,
             "#fde0ef"
            ],
            [
             0.5,
             "#f7f7f7"
            ],
            [
             0.6,
             "#e6f5d0"
            ],
            [
             0.7,
             "#b8e186"
            ],
            [
             0.8,
             "#7fbc41"
            ],
            [
             0.9,
             "#4d9221"
            ],
            [
             1,
             "#276419"
            ]
           ],
           "sequential": [
            [
             0,
             "#0d0887"
            ],
            [
             0.1111111111111111,
             "#46039f"
            ],
            [
             0.2222222222222222,
             "#7201a8"
            ],
            [
             0.3333333333333333,
             "#9c179e"
            ],
            [
             0.4444444444444444,
             "#bd3786"
            ],
            [
             0.5555555555555556,
             "#d8576b"
            ],
            [
             0.6666666666666666,
             "#ed7953"
            ],
            [
             0.7777777777777778,
             "#fb9f3a"
            ],
            [
             0.8888888888888888,
             "#fdca26"
            ],
            [
             1,
             "#f0f921"
            ]
           ],
           "sequentialminus": [
            [
             0,
             "#0d0887"
            ],
            [
             0.1111111111111111,
             "#46039f"
            ],
            [
             0.2222222222222222,
             "#7201a8"
            ],
            [
             0.3333333333333333,
             "#9c179e"
            ],
            [
             0.4444444444444444,
             "#bd3786"
            ],
            [
             0.5555555555555556,
             "#d8576b"
            ],
            [
             0.6666666666666666,
             "#ed7953"
            ],
            [
             0.7777777777777778,
             "#fb9f3a"
            ],
            [
             0.8888888888888888,
             "#fdca26"
            ],
            [
             1,
             "#f0f921"
            ]
           ]
          },
          "colorway": [
           "#636efa",
           "#EF553B",
           "#00cc96",
           "#ab63fa",
           "#FFA15A",
           "#19d3f3",
           "#FF6692",
           "#B6E880",
           "#FF97FF",
           "#FECB52"
          ],
          "font": {
           "color": "#2a3f5f"
          },
          "geo": {
           "bgcolor": "white",
           "lakecolor": "white",
           "landcolor": "#E5ECF6",
           "showlakes": true,
           "showland": true,
           "subunitcolor": "white"
          },
          "hoverlabel": {
           "align": "left"
          },
          "hovermode": "closest",
          "mapbox": {
           "style": "light"
          },
          "paper_bgcolor": "white",
          "plot_bgcolor": "#E5ECF6",
          "polar": {
           "angularaxis": {
            "gridcolor": "white",
            "linecolor": "white",
            "ticks": ""
           },
           "bgcolor": "#E5ECF6",
           "radialaxis": {
            "gridcolor": "white",
            "linecolor": "white",
            "ticks": ""
           }
          },
          "scene": {
           "xaxis": {
            "backgroundcolor": "#E5ECF6",
            "gridcolor": "white",
            "gridwidth": 2,
            "linecolor": "white",
            "showbackground": true,
            "ticks": "",
            "zerolinecolor": "white"
           },
           "yaxis": {
            "backgroundcolor": "#E5ECF6",
            "gridcolor": "white",
            "gridwidth": 2,
            "linecolor": "white",
            "showbackground": true,
            "ticks": "",
            "zerolinecolor": "white"
           },
           "zaxis": {
            "backgroundcolor": "#E5ECF6",
            "gridcolor": "white",
            "gridwidth": 2,
            "linecolor": "white",
            "showbackground": true,
            "ticks": "",
            "zerolinecolor": "white"
           }
          },
          "shapedefaults": {
           "line": {
            "color": "#2a3f5f"
           }
          },
          "ternary": {
           "aaxis": {
            "gridcolor": "white",
            "linecolor": "white",
            "ticks": ""
           },
           "baxis": {
            "gridcolor": "white",
            "linecolor": "white",
            "ticks": ""
           },
           "bgcolor": "#E5ECF6",
           "caxis": {
            "gridcolor": "white",
            "linecolor": "white",
            "ticks": ""
           }
          },
          "title": {
           "x": 0.05
          },
          "xaxis": {
           "automargin": true,
           "gridcolor": "white",
           "linecolor": "white",
           "ticks": "",
           "title": {
            "standoff": 15
           },
           "zerolinecolor": "white",
           "zerolinewidth": 2
          },
          "yaxis": {
           "automargin": true,
           "gridcolor": "white",
           "linecolor": "white",
           "ticks": "",
           "title": {
            "standoff": 15
           },
           "zerolinecolor": "white",
           "zerolinewidth": 2
          }
         }
        },
        "title": {
         "text": "Restaurant bills"
        },
        "xaxis": {
         "anchor": "y",
         "autorange": true,
         "domain": [
          0,
          1
         ],
         "range": [
          0,
          11.9305605992555
         ],
         "title": {
          "text": "ratio"
         },
         "type": "linear"
        },
        "yaxis": {
         "anchor": "x",
         "autorange": true,
         "domain": [
          0,
          1
         ],
         "range": [
          -0.5,
          14.5
         ],
         "title": {
          "text": "cluster"
         },
         "type": "linear"
        }
       }
      },
      "image/png": "[encoded data removed]",
      "text/html": [
       "<div>                            <div id=\"8ffb6b81-e4d8-40c4-bec5-ffaeaf63ef38\" class=\"plotly-graph-div\" style=\"height:400px; width:100%;\"></div>            <script type=\"text/javascript\">                require([\"plotly\"], function(Plotly) {                    window.PLOTLYENV=window.PLOTLYENV || {};                                    if (document.getElementById(\"8ffb6b81-e4d8-40c4-bec5-ffaeaf63ef38\")) {                    Plotly.newPlot(                        \"8ffb6b81-e4d8-40c4-bec5-ffaeaf63ef38\",                        [{\"alignmentgroup\":\"True\",\"hovertemplate\":\"chord=C<br>ratio=%{x}<br>cluster=%{y}<extra></extra>\",\"legendgroup\":\"C\",\"marker\":{\"color\":\"#636efa\",\"pattern\":{\"shape\":\"\"}},\"name\":\"C\",\"offsetgroup\":\"C\",\"orientation\":\"h\",\"showlegend\":true,\"textposition\":\"auto\",\"x\":[0.008175193282284615,0.13609292346391447,0.007352125180335146,0.0022749972256131397,0.10116339289017127,0.013178337587393186,0.013539007879258684,0.02395220656234972,0.038674952835423375,0.17915140753893388,0.08472977471978693,0.004198572115562461,0.127538563977361,0.07535234713128398,0.1846261976103281],\"xaxis\":\"x\",\"y\":[0,1,2,3,4,5,6,7,8,9,10,11,12,13,14],\"yaxis\":\"y\",\"type\":\"bar\"},{\"alignmentgroup\":\"True\",\"hovertemplate\":\"chord=C#<br>ratio=%{x}<br>cluster=%{y}<extra></extra>\",\"legendgroup\":\"C#\",\"marker\":{\"color\":\"#EF553B\",\"pattern\":{\"shape\":\"\"}},\"name\":\"C#\",\"offsetgroup\":\"C#\",\"orientation\":\"h\",\"showlegend\":true,\"textposition\":\"auto\",\"x\":[0.0,0.44364754098360654,0.02663934426229508,0.07889344262295082,0.06557377049180328,0.02663934426229508,0.00819672131147541,0.01331967213114754,0.03278688524590164,0.1403688524590164,0.01639344262295082,0.006147540983606557,0.025614754098360656,0.06864754098360656,0.0471311475409836],\"xaxis\":\"x\",\"y\":[0,1,2,3,4,5,6,7,8,9,10,11,12,13,14],\"yaxis\":\"y\",\"type\":\"bar\"},{\"alignmentgroup\":\"True\",\"hovertemplate\":\"chord=C#dim<br>ratio=%{x}<br>cluster=%{y}<extra></extra>\",\"legendgroup\":\"C#dim\",\"marker\":{\"color\":\"#00cc96\",\"pattern\":{\"shape\":\"\"}},\"name\":\"C#dim\",\"offsetgroup\":\"C#dim\",\"orientation\":\"h\",\"showlegend\":true,\"textposition\":\"auto\",\"x\":[0.0,0.3064516129032258,0.0,0.0,0.0967741935483871,0.0,0.0,0.04838709677419355,0.0,0.08064516129032258,0.0,0.0,0.0,0.16129032258064516,0.3064516129032258],\"xaxis\":\"x\",\"y\":[0,1,2,3,4,5,6,7,8,9,10,11,12,13,14],\"yaxis\":\"y\",\"type\":\"bar\"},{\"alignmentgroup\":\"True\",\"hovertemplate\":\"chord=C#m<br>ratio=%{x}<br>cluster=%{y}<extra></extra>\",\"legendgroup\":\"C#m\",\"marker\":{\"color\":\"#ab63fa\",\"pattern\":{\"shape\":\"\"}},\"name\":\"C#m\",\"offsetgroup\":\"C#m\",\"orientation\":\"h\",\"showlegend\":true,\"textposition\":\"auto\",\"x\":[0.0,0.36893203883495146,0.0825242718446602,0.0,0.038834951456310676,0.10679611650485436,0.0,0.10679611650485436,0.11165048543689321,0.13106796116504854,0.0,0.014563106796116505,0.024271844660194174,0.009708737864077669,0.0048543689320388345],\"xaxis\":\"x\",\"y\":[0,1,2,3,4,5,6,7,8,9,10,11,12,13,14],\"yaxis\":\"y\",\"type\":\"bar\"},{\"alignmentgroup\":\"True\",\"hovertemplate\":\"chord=Cdim<br>ratio=%{x}<br>cluster=%{y}<extra></extra>\",\"legendgroup\":\"Cdim\",\"marker\":{\"color\":\"#FFA15A\",\"pattern\":{\"shape\":\"\"}},\"name\":\"Cdim\",\"offsetgroup\":\"Cdim\",\"orientation\":\"h\",\"showlegend\":true,\"textposition\":\"auto\",\"x\":[0.0,0.21052631578947367,0.0,0.0,0.6842105263157895,0.0,0.0,0.05263157894736842,0.0,0.05263157894736842,0.0,0.0,0.0,0.0,0.0],\"xaxis\":\"x\",\"y\":[0,1,2,3,4,5,6,7,8,9,10,11,12,13,14],\"yaxis\":\"y\",\"type\":\"bar\"},{\"alignmentgroup\":\"True\",\"hovertemplate\":\"chord=Cm<br>ratio=%{x}<br>cluster=%{y}<extra></extra>\",\"legendgroup\":\"Cm\",\"marker\":{\"color\":\"#19d3f3\",\"pattern\":{\"shape\":\"\"}},\"name\":\"Cm\",\"offsetgroup\":\"Cm\",\"orientation\":\"h\",\"showlegend\":true,\"textposition\":\"auto\",\"x\":[0.0,0.4300254452926209,0.029686174724342665,0.002544529262086514,0.15521628498727735,0.0364715860899067,0.018659881255301103,0.035623409669211195,0.02374893977947413,0.04664970313825276,0.007633587786259542,0.04240882103477523,0.03816793893129771,0.08312128922815945,0.05004240882103478],\"xaxis\":\"x\",\"y\":[0,1,2,3,4,5,6,7,8,9,10,11,12,13,14],\"yaxis\":\"y\",\"type\":\"bar\"},{\"alignmentgroup\":\"True\",\"hovertemplate\":\"chord=D<br>ratio=%{x}<br>cluster=%{y}<extra></extra>\",\"legendgroup\":\"D\",\"marker\":{\"color\":\"#FF6692\",\"pattern\":{\"shape\":\"\"}},\"name\":\"D\",\"offsetgroup\":\"D\",\"orientation\":\"h\",\"showlegend\":true,\"textposition\":\"auto\",\"x\":[0.06537102473498234,0.19752650176678446,0.059481743227326266,0.013545347467608953,0.14016489988221437,0.029093050647820966,0.029799764428739692,0.05818610129564193,0.02131919905771496,0.11507656065959952,0.03439340400471143,0.02061248527679623,0.04240282685512368,0.06089517078916372,0.1121319199057715],\"xaxis\":\"x\",\"y\":[0,1,2,3,4,5,6,7,8,9,10,11,12,13,14],\"yaxis\":\"y\",\"type\":\"bar\"},{\"alignmentgroup\":\"True\",\"hovertemplate\":\"chord=D#<br>ratio=%{x}<br>cluster=%{y}<extra></extra>\",\"legendgroup\":\"D#\",\"marker\":{\"color\":\"#B6E880\",\"pattern\":{\"shape\":\"\"}},\"name\":\"D#\",\"offsetgroup\":\"D#\",\"orientation\":\"h\",\"showlegend\":true,\"textposition\":\"auto\",\"x\":[0.0,0.2785388127853881,0.030441400304414,0.01750380517503805,0.16552511415525115,0.033866057838660577,0.03272450532724505,0.032343987823439876,0.01598173515981735,0.0928462709284627,0.06811263318112633,0.0121765601217656,0.03120243531202435,0.06316590563165905,0.12557077625570776],\"xaxis\":\"x\",\"y\":[0,1,2,3,4,5,6,7,8,9,10,11,12,13,14],\"yaxis\":\"y\",\"type\":\"bar\"},{\"alignmentgroup\":\"True\",\"hovertemplate\":\"chord=D#dim<br>ratio=%{x}<br>cluster=%{y}<extra></extra>\",\"legendgroup\":\"D#dim\",\"marker\":{\"color\":\"#FF97FF\",\"pattern\":{\"shape\":\"\"}},\"name\":\"D#dim\",\"offsetgroup\":\"D#dim\",\"orientation\":\"h\",\"showlegend\":true,\"textposition\":\"auto\",\"x\":[0.0,0.5116279069767442,0.0,0.0,0.13953488372093023,0.13953488372093023,0.0,0.16279069767441862,0.0,0.046511627906976744,0.0,0.0,0.0,0.0,0.0],\"xaxis\":\"x\",\"y\":[0,1,2,3,4,5,6,7,8,9,10,11,12,13,14],\"yaxis\":\"y\",\"type\":\"bar\"},{\"alignmentgroup\":\"True\",\"hovertemplate\":\"chord=D#m<br>ratio=%{x}<br>cluster=%{y}<extra></extra>\",\"legendgroup\":\"D#m\",\"marker\":{\"color\":\"#FECB52\",\"pattern\":{\"shape\":\"\"}},\"name\":\"D#m\",\"offsetgroup\":\"D#m\",\"orientation\":\"h\",\"showlegend\":true,\"textposition\":\"auto\",\"x\":[0.0,0.40941176470588236,0.04941176470588235,0.05411764705882353,0.009411764705882352,0.07294117647058823,0.0,0.0,0.08705882352941176,0.03529411764705882,0.0,0.02588235294117647,0.007058823529411765,0.17176470588235293,0.07764705882352942],\"xaxis\":\"x\",\"y\":[0,1,2,3,4,5,6,7,8,9,10,11,12,13,14],\"yaxis\":\"y\",\"type\":\"bar\"},{\"alignmentgroup\":\"True\",\"hovertemplate\":\"chord=Ddim<br>ratio=%{x}<br>cluster=%{y}<extra></extra>\",\"legendgroup\":\"Ddim\",\"marker\":{\"color\":\"#636efa\",\"pattern\":{\"shape\":\"\"}},\"name\":\"Ddim\",\"offsetgroup\":\"Ddim\",\"orientation\":\"h\",\"showlegend\":true,\"textposition\":\"auto\",\"x\":[0.0,0.42105263157894735,0.0,0.0,0.0,0.0,0.0,0.0,0.0,0.15789473684210525,0.0,0.0,0.0,0.42105263157894735,0.0],\"xaxis\":\"x\",\"y\":[0,1,2,3,4,5,6,7,8,9,10,11,12,13,14],\"yaxis\":\"y\",\"type\":\"bar\"},{\"alignmentgroup\":\"True\",\"hovertemplate\":\"chord=Dm<br>ratio=%{x}<br>cluster=%{y}<extra></extra>\",\"legendgroup\":\"Dm\",\"marker\":{\"color\":\"#EF553B\",\"pattern\":{\"shape\":\"\"}},\"name\":\"Dm\",\"offsetgroup\":\"Dm\",\"orientation\":\"h\",\"showlegend\":true,\"textposition\":\"auto\",\"x\":[0.008011849458021948,0.1748468322897731,0.005520770214771427,0.0,0.044637446980407995,0.05301959200161584,0.006463340739244597,0.11987477277317714,0.04931663636975695,0.08701945734868377,0.025045445364572812,0.006261361341143203,0.03059987881236114,0.3134046993873292,0.07597791691914091],\"xaxis\":\"x\",\"y\":[0,1,2,3,4,5,6,7,8,9,10,11,12,13,14],\"yaxis\":\"y\",\"type\":\"bar\"},{\"alignmentgroup\":\"True\",\"hovertemplate\":\"chord=E<br>ratio=%{x}<br>cluster=%{y}<extra></extra>\",\"legendgroup\":\"E\",\"marker\":{\"color\":\"#00cc96\",\"pattern\":{\"shape\":\"\"}},\"name\":\"E\",\"offsetgroup\":\"E\",\"orientation\":\"h\",\"showlegend\":true,\"textposition\":\"auto\",\"x\":[0.020109024833434283,0.16159903089036948,0.009085402786190187,0.015748031496062992,0.048576620230163535,0.08806783767413688,0.0025439127801332524,0.3490006056935191,0.02047244094488189,0.10708661417322834,0.017928528164748637,0.0037552998182919443,0.07777104784978801,0.023622047244094488,0.054633555420957],\"xaxis\":\"x\",\"y\":[0,1,2,3,4,5,6,7,8,9,10,11,12,13,14],\"yaxis\":\"y\",\"type\":\"bar\"},{\"alignmentgroup\":\"True\",\"hovertemplate\":\"chord=Edim<br>ratio=%{x}<br>cluster=%{y}<extra></extra>\",\"legendgroup\":\"Edim\",\"marker\":{\"color\":\"#ab63fa\",\"pattern\":{\"shape\":\"\"}},\"name\":\"Edim\",\"offsetgroup\":\"Edim\",\"orientation\":\"h\",\"showlegend\":true,\"textposition\":\"auto\",\"x\":[0.0,0.4444444444444444,0.0,0.0,0.0,0.0,0.0,0.0,0.0,0.0,0.0,0.0,0.0,0.5555555555555556,0.0],\"xaxis\":\"x\",\"y\":[0,1,2,3,4,5,6,7,8,9,10,11,12,13,14],\"yaxis\":\"y\",\"type\":\"bar\"},{\"alignmentgroup\":\"True\",\"hovertemplate\":\"chord=Em<br>ratio=%{x}<br>cluster=%{y}<extra></extra>\",\"legendgroup\":\"Em\",\"marker\":{\"color\":\"#FFA15A\",\"pattern\":{\"shape\":\"\"}},\"name\":\"Em\",\"offsetgroup\":\"Em\",\"orientation\":\"h\",\"showlegend\":true,\"textposition\":\"auto\",\"x\":[0.00934631743899709,0.15793597492724423,0.002742332661741661,0.0003917618088202373,0.06010745466756212,0.05708529214237743,0.003917618088202373,0.0661517797179315,0.3666330870830535,0.09312737855383926,0.018524736959928362,0.006212222968435191,0.033971345421983434,0.05921199910454444,0.06464069845533915],\"xaxis\":\"x\",\"y\":[0,1,2,3,4,5,6,7,8,9,10,11,12,13,14],\"yaxis\":\"y\",\"type\":\"bar\"},{\"alignmentgroup\":\"True\",\"hovertemplate\":\"chord=F<br>ratio=%{x}<br>cluster=%{y}<extra></extra>\",\"legendgroup\":\"F\",\"marker\":{\"color\":\"#19d3f3\",\"pattern\":{\"shape\":\"\"}},\"name\":\"F\",\"offsetgroup\":\"F\",\"orientation\":\"h\",\"showlegend\":true,\"textposition\":\"auto\",\"x\":[0.005815577884247234,0.1176774941275081,0.007605782464273518,0.001438372466032679,0.10214514109502572,0.06938336248020945,0.02008547450769374,0.0407400891997889,0.03344474683609797,0.217970342622391,0.06612374142409222,0.004708341525502654,0.13339611122034004,0.05937684323809721,0.12008857890869956],\"xaxis\":\"x\",\"y\":[0,1,2,3,4,5,6,7,8,9,10,11,12,13,14],\"yaxis\":\"y\",\"type\":\"bar\"},{\"alignmentgroup\":\"True\",\"hovertemplate\":\"chord=F#<br>ratio=%{x}<br>cluster=%{y}<extra></extra>\",\"legendgroup\":\"F#\",\"marker\":{\"color\":\"#FF6692\",\"pattern\":{\"shape\":\"\"}},\"name\":\"F#\",\"offsetgroup\":\"F#\",\"orientation\":\"h\",\"showlegend\":true,\"textposition\":\"auto\",\"x\":[0.0,0.23842195540308747,0.0,0.2169811320754717,0.15008576329331047,0.038593481989708404,0.00686106346483705,0.04030874785591767,0.07890222984562607,0.11234991423670669,0.007718696397941681,0.002572898799313894,0.007718696397941681,0.057461406518010294,0.04202401372212693],\"xaxis\":\"x\",\"y\":[0,1,2,3,4,5,6,7,8,9,10,11,12,13,14],\"yaxis\":\"y\",\"type\":\"bar\"},{\"alignmentgroup\":\"True\",\"hovertemplate\":\"chord=F#dim<br>ratio=%{x}<br>cluster=%{y}<extra></extra>\",\"legendgroup\":\"F#dim\",\"marker\":{\"color\":\"#B6E880\",\"pattern\":{\"shape\":\"\"}},\"name\":\"F#dim\",\"offsetgroup\":\"F#dim\",\"orientation\":\"h\",\"showlegend\":true,\"textposition\":\"auto\",\"x\":[0.0,0.23958333333333334,0.0,0.0,0.13541666666666666,0.0,0.0,0.041666666666666664,0.052083333333333336,0.07291666666666667,0.0,0.0,0.020833333333333332,0.07291666666666667,0.3645833333333333],\"xaxis\":\"x\",\"y\":[0,1,2,3,4,5,6,7,8,9,10,11,12,13,14],\"yaxis\":\"y\",\"type\":\"bar\"},{\"alignmentgroup\":\"True\",\"hovertemplate\":\"chord=F#m<br>ratio=%{x}<br>cluster=%{y}<extra></extra>\",\"legendgroup\":\"F#m\",\"marker\":{\"color\":\"#FF97FF\",\"pattern\":{\"shape\":\"\"}},\"name\":\"F#m\",\"offsetgroup\":\"F#m\",\"orientation\":\"h\",\"showlegend\":true,\"textposition\":\"auto\",\"x\":[0.28210526315789475,0.25263157894736843,0.05263157894736842,0.0,0.01263157894736842,0.04,0.002105263157894737,0.056842105263157895,0.1368421052631579,0.04,0.01263157894736842,0.05263157894736842,0.0,0.035789473684210524,0.023157894736842106],\"xaxis\":\"x\",\"y\":[0,1,2,3,4,5,6,7,8,9,10,11,12,13,14],\"yaxis\":\"y\",\"type\":\"bar\"},{\"alignmentgroup\":\"True\",\"hovertemplate\":\"chord=Fdim<br>ratio=%{x}<br>cluster=%{y}<extra></extra>\",\"legendgroup\":\"Fdim\",\"marker\":{\"color\":\"#FECB52\",\"pattern\":{\"shape\":\"\"}},\"name\":\"Fdim\",\"offsetgroup\":\"Fdim\",\"orientation\":\"h\",\"showlegend\":true,\"textposition\":\"auto\",\"x\":[0.0,0.5348837209302325,0.0,0.0,0.06976744186046512,0.0,0.0,0.023255813953488372,0.046511627906976744,0.20930232558139536,0.046511627906976744,0.0,0.06976744186046512,0.0,0.0],\"xaxis\":\"x\",\"y\":[0,1,2,3,4,5,6,7,8,9,10,11,12,13,14],\"yaxis\":\"y\",\"type\":\"bar\"},{\"alignmentgroup\":\"True\",\"hovertemplate\":\"chord=Fm<br>ratio=%{x}<br>cluster=%{y}<extra></extra>\",\"legendgroup\":\"Fm\",\"marker\":{\"color\":\"#636efa\",\"pattern\":{\"shape\":\"\"}},\"name\":\"Fm\",\"offsetgroup\":\"Fm\",\"orientation\":\"h\",\"showlegend\":true,\"textposition\":\"auto\",\"x\":[0.0,0.4137205387205387,0.025673400673400674,0.0,0.023148148148148147,0.0016835016835016834,0.007575757575757576,0.03745791245791246,0.05345117845117845,0.11994949494949494,0.007996632996632997,0.005892255892255892,0.04292929292929293,0.08080808080808081,0.17971380471380471],\"xaxis\":\"x\",\"y\":[0,1,2,3,4,5,6,7,8,9,10,11,12,13,14],\"yaxis\":\"y\",\"type\":\"bar\"},{\"alignmentgroup\":\"True\",\"hovertemplate\":\"chord=G<br>ratio=%{x}<br>cluster=%{y}<extra></extra>\",\"legendgroup\":\"G\",\"marker\":{\"color\":\"#EF553B\",\"pattern\":{\"shape\":\"\"}},\"name\":\"G\",\"offsetgroup\":\"G\",\"orientation\":\"h\",\"showlegend\":true,\"textposition\":\"auto\",\"x\":[0.00599288777946173,0.12101671074658504,0.009202302061355284,0.0028924350935583885,0.15820233177815418,0.07140946777213159,0.034431864332907396,0.028696522143967985,0.03613562747020891,0.20437233167909818,0.048190742226580686,0.003882995057105782,0.1181044644537557,0.08167166899448258,0.07579764841064654],\"xaxis\":\"x\",\"y\":[0,1,2,3,4,5,6,7,8,9,10,11,12,13,14],\"yaxis\":\"y\",\"type\":\"bar\"},{\"alignmentgroup\":\"True\",\"hovertemplate\":\"chord=G#<br>ratio=%{x}<br>cluster=%{y}<extra></extra>\",\"legendgroup\":\"G#\",\"marker\":{\"color\":\"#00cc96\",\"pattern\":{\"shape\":\"\"}},\"name\":\"G#\",\"offsetgroup\":\"G#\",\"orientation\":\"h\",\"showlegend\":true,\"textposition\":\"auto\",\"x\":[0.0,0.38572854291417163,0.012974051896207584,0.02445109780439122,0.09580838323353294,0.015968063872255488,0.02445109780439122,0.006986027944111776,0.02445109780439122,0.10728542914171657,0.06487025948103792,0.011477045908183632,0.05389221556886228,0.05289421157684631,0.1187624750499002],\"xaxis\":\"x\",\"y\":[0,1,2,3,4,5,6,7,8,9,10,11,12,13,14],\"yaxis\":\"y\",\"type\":\"bar\"},{\"alignmentgroup\":\"True\",\"hovertemplate\":\"chord=G#dim<br>ratio=%{x}<br>cluster=%{y}<extra></extra>\",\"legendgroup\":\"G#dim\",\"marker\":{\"color\":\"#ab63fa\",\"pattern\":{\"shape\":\"\"}},\"name\":\"G#dim\",\"offsetgroup\":\"G#dim\",\"orientation\":\"h\",\"showlegend\":true,\"textposition\":\"auto\",\"x\":[0.0,0.11612903225806452,0.0,0.0,0.14838709677419354,0.21935483870967742,0.0,0.05806451612903226,0.012903225806451613,0.2645161290322581,0.012903225806451613,0.0,0.05161290322580645,0.07741935483870968,0.03870967741935484],\"xaxis\":\"x\",\"y\":[0,1,2,3,4,5,6,7,8,9,10,11,12,13,14],\"yaxis\":\"y\",\"type\":\"bar\"},{\"alignmentgroup\":\"True\",\"hovertemplate\":\"chord=G#m<br>ratio=%{x}<br>cluster=%{y}<extra></extra>\",\"legendgroup\":\"G#m\",\"marker\":{\"color\":\"#FFA15A\",\"pattern\":{\"shape\":\"\"}},\"name\":\"G#m\",\"offsetgroup\":\"G#m\",\"orientation\":\"h\",\"showlegend\":true,\"textposition\":\"auto\",\"x\":[0.0,0.3181818181818182,0.0,0.0,0.12121212121212122,0.1590909090909091,0.007575757575757576,0.015151515151515152,0.16666666666666666,0.10606060606060606,0.0,0.0,0.0,0.03787878787878788,0.06818181818181818],\"xaxis\":\"x\",\"y\":[0,1,2,3,4,5,6,7,8,9,10,11,12,13,14],\"yaxis\":\"y\",\"type\":\"bar\"},{\"alignmentgroup\":\"True\",\"hovertemplate\":\"chord=Gdim<br>ratio=%{x}<br>cluster=%{y}<extra></extra>\",\"legendgroup\":\"Gdim\",\"marker\":{\"color\":\"#19d3f3\",\"pattern\":{\"shape\":\"\"}},\"name\":\"Gdim\",\"offsetgroup\":\"Gdim\",\"orientation\":\"h\",\"showlegend\":true,\"textposition\":\"auto\",\"x\":[0.0,1.0,0.0,0.0,0.0,0.0,0.0,0.0,0.0,0.0,0.0,0.0,0.0,0.0,0.0],\"xaxis\":\"x\",\"y\":[0,1,2,3,4,5,6,7,8,9,10,11,12,13,14],\"yaxis\":\"y\",\"type\":\"bar\"},{\"alignmentgroup\":\"True\",\"hovertemplate\":\"chord=Gm<br>ratio=%{x}<br>cluster=%{y}<extra></extra>\",\"legendgroup\":\"Gm\",\"marker\":{\"color\":\"#FF6692\",\"pattern\":{\"shape\":\"\"}},\"name\":\"Gm\",\"offsetgroup\":\"Gm\",\"orientation\":\"h\",\"showlegend\":true,\"textposition\":\"auto\",\"x\":[0.0,0.2929532858273951,0.019002375296912115,0.0,0.09659540775930324,0.030878859857482184,0.026920031670625493,0.04513064133016627,0.035629453681710214,0.06967537608867776,0.01583531274742676,0.09817893903404593,0.007125890736342043,0.14885193982581155,0.11322248614410134],\"xaxis\":\"x\",\"y\":[0,1,2,3,4,5,6,7,8,9,10,11,12,13,14],\"yaxis\":\"y\",\"type\":\"bar\"},{\"alignmentgroup\":\"True\",\"hovertemplate\":\"chord=A<br>ratio=%{x}<br>cluster=%{y}<extra></extra>\",\"legendgroup\":\"A\",\"marker\":{\"color\":\"#B6E880\",\"pattern\":{\"shape\":\"\"}},\"name\":\"A\",\"offsetgroup\":\"A\",\"orientation\":\"h\",\"showlegend\":true,\"textposition\":\"auto\",\"x\":[0.026787298208266808,0.2790491396132695,0.01951392584708178,0.010466560227071138,0.116551357104843,0.03122228135533085,0.01720773461060848,0.047897817988291645,0.07982969664715274,0.10413340429306368,0.023594110342380698,0.018626929217668974,0.034592868547099524,0.12630832002838388,0.06421855596948732],\"xaxis\":\"x\",\"y\":[0,1,2,3,4,5,6,7,8,9,10,11,12,13,14],\"yaxis\":\"y\",\"type\":\"bar\"},{\"alignmentgroup\":\"True\",\"hovertemplate\":\"chord=A#<br>ratio=%{x}<br>cluster=%{y}<extra></extra>\",\"legendgroup\":\"A#\",\"marker\":{\"color\":\"#FF97FF\",\"pattern\":{\"shape\":\"\"}},\"name\":\"A#\",\"offsetgroup\":\"A#\",\"orientation\":\"h\",\"showlegend\":true,\"textposition\":\"auto\",\"x\":[0.0443307757885763,0.23870417732310314,0.016027280477408354,0.016709292412617222,0.14083546462063087,0.02011935208866155,0.01329923273657289,0.013469735720375107,0.014833759590792838,0.09428815004262575,0.037851662404092073,0.02608695652173913,0.024211423699914747,0.17289002557544758,0.12634271099744246],\"xaxis\":\"x\",\"y\":[0,1,2,3,4,5,6,7,8,9,10,11,12,13,14],\"yaxis\":\"y\",\"type\":\"bar\"},{\"alignmentgroup\":\"True\",\"hovertemplate\":\"chord=A#dim<br>ratio=%{x}<br>cluster=%{y}<extra></extra>\",\"legendgroup\":\"A#dim\",\"marker\":{\"color\":\"#FECB52\",\"pattern\":{\"shape\":\"\"}},\"name\":\"A#dim\",\"offsetgroup\":\"A#dim\",\"orientation\":\"h\",\"showlegend\":true,\"textposition\":\"auto\",\"x\":[0.0,0.4583333333333333,0.0,0.0,0.2916666666666667,0.0,0.0,0.0,0.20833333333333334,0.0,0.0,0.0,0.0,0.0,0.041666666666666664],\"xaxis\":\"x\",\"y\":[0,1,2,3,4,5,6,7,8,9,10,11,12,13,14],\"yaxis\":\"y\",\"type\":\"bar\"},{\"alignmentgroup\":\"True\",\"hovertemplate\":\"chord=A#m<br>ratio=%{x}<br>cluster=%{y}<extra></extra>\",\"legendgroup\":\"A#m\",\"marker\":{\"color\":\"#636efa\",\"pattern\":{\"shape\":\"\"}},\"name\":\"A#m\",\"offsetgroup\":\"A#m\",\"orientation\":\"h\",\"showlegend\":true,\"textposition\":\"auto\",\"x\":[0.0,0.5252808988764045,0.0,0.02247191011235955,0.042134831460674156,0.0,0.008426966292134831,0.0056179775280898875,0.02247191011235955,0.0702247191011236,0.0,0.1151685393258427,0.014044943820224719,0.13764044943820225,0.03651685393258427],\"xaxis\":\"x\",\"y\":[0,1,2,3,4,5,6,7,8,9,10,11,12,13,14],\"yaxis\":\"y\",\"type\":\"bar\"},{\"alignmentgroup\":\"True\",\"hovertemplate\":\"chord=Adim<br>ratio=%{x}<br>cluster=%{y}<extra></extra>\",\"legendgroup\":\"Adim\",\"marker\":{\"color\":\"#EF553B\",\"pattern\":{\"shape\":\"\"}},\"name\":\"Adim\",\"offsetgroup\":\"Adim\",\"orientation\":\"h\",\"showlegend\":true,\"textposition\":\"auto\",\"x\":[0.0,0.375,0.0,0.0,0.0,0.0,0.0,0.0,0.0,0.0,0.0,0.0,0.375,0.25,0.0],\"xaxis\":\"x\",\"y\":[0,1,2,3,4,5,6,7,8,9,10,11,12,13,14],\"yaxis\":\"y\",\"type\":\"bar\"},{\"alignmentgroup\":\"True\",\"hovertemplate\":\"chord=Am<br>ratio=%{x}<br>cluster=%{y}<extra></extra>\",\"legendgroup\":\"Am\",\"marker\":{\"color\":\"#00cc96\",\"pattern\":{\"shape\":\"\"}},\"name\":\"Am\",\"offsetgroup\":\"Am\",\"orientation\":\"h\",\"showlegend\":true,\"textposition\":\"auto\",\"x\":[0.0030856451065211935,0.09485775028420415,0.006451803404544314,0.00017716622621174316,0.05050713832253111,0.11078794679107673,0.016638861411719545,0.11974960506695408,0.06215581769595323,0.24679255311295822,0.022603457694181567,0.00214075856672523,0.18175778424106417,0.037337782174124874,0.044955929901229826],\"xaxis\":\"x\",\"y\":[0,1,2,3,4,5,6,7,8,9,10,11,12,13,14],\"yaxis\":\"y\",\"type\":\"bar\"},{\"alignmentgroup\":\"True\",\"hovertemplate\":\"chord=B<br>ratio=%{x}<br>cluster=%{y}<extra></extra>\",\"legendgroup\":\"B\",\"marker\":{\"color\":\"#ab63fa\",\"pattern\":{\"shape\":\"\"}},\"name\":\"B\",\"offsetgroup\":\"B\",\"orientation\":\"h\",\"showlegend\":true,\"textposition\":\"auto\",\"x\":[0.0,0.16447985004686036,0.0037488284910965324,0.08528584817244611,0.12277413308341144,0.04311152764761012,0.0023430178069353325,0.08481724461105905,0.33973758200562326,0.05154639175257732,0.007029053420805998,0.007029053420805998,0.02436738519212746,0.02858481724461106,0.035145267104029994],\"xaxis\":\"x\",\"y\":[0,1,2,3,4,5,6,7,8,9,10,11,12,13,14],\"yaxis\":\"y\",\"type\":\"bar\"},{\"alignmentgroup\":\"True\",\"hovertemplate\":\"chord=Bdim<br>ratio=%{x}<br>cluster=%{y}<extra></extra>\",\"legendgroup\":\"Bdim\",\"marker\":{\"color\":\"#FFA15A\",\"pattern\":{\"shape\":\"\"}},\"name\":\"Bdim\",\"offsetgroup\":\"Bdim\",\"orientation\":\"h\",\"showlegend\":true,\"textposition\":\"auto\",\"x\":[0.0,0.31092436974789917,0.0,0.0,0.04201680672268908,0.025210084033613446,0.0,0.3949579831932773,0.008403361344537815,0.01680672268907563,0.0,0.0,0.0,0.01680672268907563,0.18487394957983194],\"xaxis\":\"x\",\"y\":[0,1,2,3,4,5,6,7,8,9,10,11,12,13,14],\"yaxis\":\"y\",\"type\":\"bar\"},{\"alignmentgroup\":\"True\",\"hovertemplate\":\"chord=Bm<br>ratio=%{x}<br>cluster=%{y}<extra></extra>\",\"legendgroup\":\"Bm\",\"marker\":{\"color\":\"#19d3f3\",\"pattern\":{\"shape\":\"\"}},\"name\":\"Bm\",\"offsetgroup\":\"Bm\",\"orientation\":\"h\",\"showlegend\":true,\"textposition\":\"auto\",\"x\":[0.01606425702811245,0.20381526104417672,0.02710843373493976,0.0,0.07530120481927711,0.09236947791164658,0.08634538152610442,0.12349397590361445,0.05421686746987952,0.13453815261044177,0.012048192771084338,0.025100401606425703,0.008032128514056224,0.10240963855421686,0.0391566265060241],\"xaxis\":\"x\",\"y\":[0,1,2,3,4,5,6,7,8,9,10,11,12,13,14],\"yaxis\":\"y\",\"type\":\"bar\"}],                        {\"template\":{\"data\":{\"histogram2dcontour\":[{\"type\":\"histogram2dcontour\",\"colorbar\":{\"outlinewidth\":0,\"ticks\":\"\"},\"colorscale\":[[0.0,\"#0d0887\"],[0.1111111111111111,\"#46039f\"],[0.2222222222222222,\"#7201a8\"],[0.3333333333333333,\"#9c179e\"],[0.4444444444444444,\"#bd3786\"],[0.5555555555555556,\"#d8576b\"],[0.6666666666666666,\"#ed7953\"],[0.7777777777777778,\"#fb9f3a\"],[0.8888888888888888,\"#fdca26\"],[1.0,\"#f0f921\"]]}],\"choropleth\":[{\"type\":\"choropleth\",\"colorbar\":{\"outlinewidth\":0,\"ticks\":\"\"}}],\"histogram2d\":[{\"type\":\"histogram2d\",\"colorbar\":{\"outlinewidth\":0,\"ticks\":\"\"},\"colorscale\":[[0.0,\"#0d0887\"],[0.1111111111111111,\"#46039f\"],[0.2222222222222222,\"#7201a8\"],[0.3333333333333333,\"#9c179e\"],[0.4444444444444444,\"#bd3786\"],[0.5555555555555556,\"#d8576b\"],[0.6666666666666666,\"#ed7953\"],[0.7777777777777778,\"#fb9f3a\"],[0.8888888888888888,\"#fdca26\"],[1.0,\"#f0f921\"]]}],\"heatmap\":[{\"type\":\"heatmap\",\"colorbar\":{\"outlinewidth\":0,\"ticks\":\"\"},\"colorscale\":[[0.0,\"#0d0887\"],[0.1111111111111111,\"#46039f\"],[0.2222222222222222,\"#7201a8\"],[0.3333333333333333,\"#9c179e\"],[0.4444444444444444,\"#bd3786\"],[0.5555555555555556,\"#d8576b\"],[0.6666666666666666,\"#ed7953\"],[0.7777777777777778,\"#fb9f3a\"],[0.8888888888888888,\"#fdca26\"],[1.0,\"#f0f921\"]]}],\"heatmapgl\":[{\"type\":\"heatmapgl\",\"colorbar\":{\"outlinewidth\":0,\"ticks\":\"\"},\"colorscale\":[[0.0,\"#0d0887\"],[0.1111111111111111,\"#46039f\"],[0.2222222222222222,\"#7201a8\"],[0.3333333333333333,\"#9c179e\"],[0.4444444444444444,\"#bd3786\"],[0.5555555555555556,\"#d8576b\"],[0.6666666666666666,\"#ed7953\"],[0.7777777777777778,\"#fb9f3a\"],[0.8888888888888888,\"#fdca26\"],[1.0,\"#f0f921\"]]}],\"contourcarpet\":[{\"type\":\"contourcarpet\",\"colorbar\":{\"outlinewidth\":0,\"ticks\":\"\"}}],\"contour\":[{\"type\":\"contour\",\"colorbar\":{\"outlinewidth\":0,\"ticks\":\"\"},\"colorscale\":[[0.0,\"#0d0887\"],[0.1111111111111111,\"#46039f\"],[0.2222222222222222,\"#7201a8\"],[0.3333333333333333,\"#9c179e\"],[0.4444444444444444,\"#bd3786\"],[0.5555555555555556,\"#d8576b\"],[0.6666666666666666,\"#ed7953\"],[0.7777777777777778,\"#fb9f3a\"],[0.8888888888888888,\"#fdca26\"],[1.0,\"#f0f921\"]]}],\"surface\":[{\"type\":\"surface\",\"colorbar\":{\"outlinewidth\":0,\"ticks\":\"\"},\"colorscale\":[[0.0,\"#0d0887\"],[0.1111111111111111,\"#46039f\"],[0.2222222222222222,\"#7201a8\"],[0.3333333333333333,\"#9c179e\"],[0.4444444444444444,\"#bd3786\"],[0.5555555555555556,\"#d8576b\"],[0.6666666666666666,\"#ed7953\"],[0.7777777777777778,\"#fb9f3a\"],[0.8888888888888888,\"#fdca26\"],[1.0,\"#f0f921\"]]}],\"mesh3d\":[{\"type\":\"mesh3d\",\"colorbar\":{\"outlinewidth\":0,\"ticks\":\"\"}}],\"scatter\":[{\"fillpattern\":{\"fillmode\":\"overlay\",\"size\":10,\"solidity\":0.2},\"type\":\"scatter\"}],\"parcoords\":[{\"type\":\"parcoords\",\"line\":{\"colorbar\":{\"outlinewidth\":0,\"ticks\":\"\"}}}],\"scatterpolargl\":[{\"type\":\"scatterpolargl\",\"marker\":{\"colorbar\":{\"outlinewidth\":0,\"ticks\":\"\"}}}],\"bar\":[{\"error_x\":{\"color\":\"#2a3f5f\"},\"error_y\":{\"color\":\"#2a3f5f\"},\"marker\":{\"line\":{\"color\":\"#E5ECF6\",\"width\":0.5},\"pattern\":{\"fillmode\":\"overlay\",\"size\":10,\"solidity\":0.2}},\"type\":\"bar\"}],\"scattergeo\":[{\"type\":\"scattergeo\",\"marker\":{\"colorbar\":{\"outlinewidth\":0,\"ticks\":\"\"}}}],\"scatterpolar\":[{\"type\":\"scatterpolar\",\"marker\":{\"colorbar\":{\"outlinewidth\":0,\"ticks\":\"\"}}}],\"histogram\":[{\"marker\":{\"pattern\":{\"fillmode\":\"overlay\",\"size\":10,\"solidity\":0.2}},\"type\":\"histogram\"}],\"scattergl\":[{\"type\":\"scattergl\",\"marker\":{\"colorbar\":{\"outlinewidth\":0,\"ticks\":\"\"}}}],\"scatter3d\":[{\"type\":\"scatter3d\",\"line\":{\"colorbar\":{\"outlinewidth\":0,\"ticks\":\"\"}},\"marker\":{\"colorbar\":{\"outlinewidth\":0,\"ticks\":\"\"}}}],\"scattermapbox\":[{\"type\":\"scattermapbox\",\"marker\":{\"colorbar\":{\"outlinewidth\":0,\"ticks\":\"\"}}}],\"scatterternary\":[{\"type\":\"scatterternary\",\"marker\":{\"colorbar\":{\"outlinewidth\":0,\"ticks\":\"\"}}}],\"scattercarpet\":[{\"type\":\"scattercarpet\",\"marker\":{\"colorbar\":{\"outlinewidth\":0,\"ticks\":\"\"}}}],\"carpet\":[{\"aaxis\":{\"endlinecolor\":\"#2a3f5f\",\"gridcolor\":\"white\",\"linecolor\":\"white\",\"minorgridcolor\":\"white\",\"startlinecolor\":\"#2a3f5f\"},\"baxis\":{\"endlinecolor\":\"#2a3f5f\",\"gridcolor\":\"white\",\"linecolor\":\"white\",\"minorgridcolor\":\"white\",\"startlinecolor\":\"#2a3f5f\"},\"type\":\"carpet\"}],\"table\":[{\"cells\":{\"fill\":{\"color\":\"#EBF0F8\"},\"line\":{\"color\":\"white\"}},\"header\":{\"fill\":{\"color\":\"#C8D4E3\"},\"line\":{\"color\":\"white\"}},\"type\":\"table\"}],\"barpolar\":[{\"marker\":{\"line\":{\"color\":\"#E5ECF6\",\"width\":0.5},\"pattern\":{\"fillmode\":\"overlay\",\"size\":10,\"solidity\":0.2}},\"type\":\"barpolar\"}],\"pie\":[{\"automargin\":true,\"type\":\"pie\"}]},\"layout\":{\"autotypenumbers\":\"strict\",\"colorway\":[\"#636efa\",\"#EF553B\",\"#00cc96\",\"#ab63fa\",\"#FFA15A\",\"#19d3f3\",\"#FF6692\",\"#B6E880\",\"#FF97FF\",\"#FECB52\"],\"font\":{\"color\":\"#2a3f5f\"},\"hovermode\":\"closest\",\"hoverlabel\":{\"align\":\"left\"},\"paper_bgcolor\":\"white\",\"plot_bgcolor\":\"#E5ECF6\",\"polar\":{\"bgcolor\":\"#E5ECF6\",\"angularaxis\":{\"gridcolor\":\"white\",\"linecolor\":\"white\",\"ticks\":\"\"},\"radialaxis\":{\"gridcolor\":\"white\",\"linecolor\":\"white\",\"ticks\":\"\"}},\"ternary\":{\"bgcolor\":\"#E5ECF6\",\"aaxis\":{\"gridcolor\":\"white\",\"linecolor\":\"white\",\"ticks\":\"\"},\"baxis\":{\"gridcolor\":\"white\",\"linecolor\":\"white\",\"ticks\":\"\"},\"caxis\":{\"gridcolor\":\"white\",\"linecolor\":\"white\",\"ticks\":\"\"}},\"coloraxis\":{\"colorbar\":{\"outlinewidth\":0,\"ticks\":\"\"}},\"colorscale\":{\"sequential\":[[0.0,\"#0d0887\"],[0.1111111111111111,\"#46039f\"],[0.2222222222222222,\"#7201a8\"],[0.3333333333333333,\"#9c179e\"],[0.4444444444444444,\"#bd3786\"],[0.5555555555555556,\"#d8576b\"],[0.6666666666666666,\"#ed7953\"],[0.7777777777777778,\"#fb9f3a\"],[0.8888888888888888,\"#fdca26\"],[1.0,\"#f0f921\"]],\"sequentialminus\":[[0.0,\"#0d0887\"],[0.1111111111111111,\"#46039f\"],[0.2222222222222222,\"#7201a8\"],[0.3333333333333333,\"#9c179e\"],[0.4444444444444444,\"#bd3786\"],[0.5555555555555556,\"#d8576b\"],[0.6666666666666666,\"#ed7953\"],[0.7777777777777778,\"#fb9f3a\"],[0.8888888888888888,\"#fdca26\"],[1.0,\"#f0f921\"]],\"diverging\":[[0,\"#8e0152\"],[0.1,\"#c51b7d\"],[0.2,\"#de77ae\"],[0.3,\"#f1b6da\"],[0.4,\"#fde0ef\"],[0.5,\"#f7f7f7\"],[0.6,\"#e6f5d0\"],[0.7,\"#b8e186\"],[0.8,\"#7fbc41\"],[0.9,\"#4d9221\"],[1,\"#276419\"]]},\"xaxis\":{\"gridcolor\":\"white\",\"linecolor\":\"white\",\"ticks\":\"\",\"title\":{\"standoff\":15},\"zerolinecolor\":\"white\",\"automargin\":true,\"zerolinewidth\":2},\"yaxis\":{\"gridcolor\":\"white\",\"linecolor\":\"white\",\"ticks\":\"\",\"title\":{\"standoff\":15},\"zerolinecolor\":\"white\",\"automargin\":true,\"zerolinewidth\":2},\"scene\":{\"xaxis\":{\"backgroundcolor\":\"#E5ECF6\",\"gridcolor\":\"white\",\"linecolor\":\"white\",\"showbackground\":true,\"ticks\":\"\",\"zerolinecolor\":\"white\",\"gridwidth\":2},\"yaxis\":{\"backgroundcolor\":\"#E5ECF6\",\"gridcolor\":\"white\",\"linecolor\":\"white\",\"showbackground\":true,\"ticks\":\"\",\"zerolinecolor\":\"white\",\"gridwidth\":2},\"zaxis\":{\"backgroundcolor\":\"#E5ECF6\",\"gridcolor\":\"white\",\"linecolor\":\"white\",\"showbackground\":true,\"ticks\":\"\",\"zerolinecolor\":\"white\",\"gridwidth\":2}},\"shapedefaults\":{\"line\":{\"color\":\"#2a3f5f\"}},\"annotationdefaults\":{\"arrowcolor\":\"#2a3f5f\",\"arrowhead\":0,\"arrowwidth\":1},\"geo\":{\"bgcolor\":\"white\",\"landcolor\":\"#E5ECF6\",\"subunitcolor\":\"white\",\"showland\":true,\"showlakes\":true,\"lakecolor\":\"white\"},\"title\":{\"x\":0.05},\"mapbox\":{\"style\":\"light\"}}},\"xaxis\":{\"anchor\":\"y\",\"domain\":[0.0,1.0],\"title\":{\"text\":\"ratio\"}},\"yaxis\":{\"anchor\":\"x\",\"domain\":[0.0,1.0],\"title\":{\"text\":\"cluster\"}},\"legend\":{\"title\":{\"text\":\"chord\"},\"tracegroupgap\":0},\"title\":{\"text\":\"Restaurant bills\"},\"barmode\":\"relative\",\"height\":400},                        {\"responsive\": true}                    ).then(function(){\n",
       "                            \n",
       "var gd = document.getElementById('8ffb6b81-e4d8-40c4-bec5-ffaeaf63ef38');\n",
       "var x = new MutationObserver(function (mutations, observer) {{\n",
       "        var display = window.getComputedStyle(gd).display;\n",
       "        if (!display || display === 'none') {{\n",
       "            console.log([gd, 'removed!']);\n",
       "            Plotly.purge(gd);\n",
       "            observer.disconnect();\n",
       "        }}\n",
       "}});\n",
       "\n",
       "// Listen for the removal of the full notebook cells\n",
       "var notebookContainer = gd.closest('#notebook-container');\n",
       "if (notebookContainer) {{\n",
       "    x.observe(notebookContainer, {childList: true});\n",
       "}}\n",
       "\n",
       "// Listen for the clearing of the current output cell\n",
       "var outputEl = gd.closest('.output');\n",
       "if (outputEl) {{\n",
       "    x.observe(outputEl, {childList: true});\n",
       "}}\n",
       "\n",
       "                        })                };                });            </script>        </div>"
      ]
     },
     "metadata": {},
     "output_type": "display_data"
    }
   ],
   "source": [
    "fig = px.bar(clusterChordsRatio, x=\"ratio\", y=\"cluster\", color='chord', orientation='h',\n",
    "             height=400,\n",
    "             title='Restaurant bills')\n",
    "fig.show()"
   ]
  },
  {
   "cell_type": "code",
   "execution_count": 481,
   "id": "cc179e35-df36-4ef0-97ef-0fb5cd53597e",
   "metadata": {},
   "outputs": [
    {
     "data": {
      "application/vnd.plotly.v1+json": {
       "config": {
        "plotlyServerURL": "https://plot.ly"
       },
       "data": [
        {
         "alignmentgroup": "True",
         "hovertemplate": "ratio=%{x}<br>chord=%{y}<br>cluster=%{marker.color}<extra></extra>",
         "legendgroup": "",
         "marker": {
          "color": [
           0,
           1,
           2,
           3,
           4,
           5,
           6,
           7,
           8,
           9,
           10,
           11,
           12,
           13,
           14,
           0,
           1,
           2,
           3,
           4,
           5,
           6,
           7,
           8,
           9,
           10,
           11,
           12,
           13,
           14,
           0,
           1,
           2,
           3,
           4,
           5,
           6,
           7,
           8,
           9,
           10,
           11,
           12,
           13,
           14,
           0,
           1,
           2,
           3,
           4,
           5,
           6,
           7,
           8,
           9,
           10,
           11,
           12,
           13,
           14,
           0,
           1,
           2,
           3,
           4,
           5,
           6,
           7,
           8,
           9,
           10,
           11,
           12,
           13,
           14,
           0,
           1,
           2,
           3,
           4,
           5,
           6,
           7,
           8,
           9,
           10,
           11,
           12,
           13,
           14,
           0,
           1,
           2,
           3,
           4,
           5,
           6,
           7,
           8,
           9,
           10,
           11,
           12,
           13,
           14,
           0,
           1,
           2,
           3,
           4,
           5,
           6,
           7,
           8,
           9,
           10,
           11,
           12,
           13,
           14,
           0,
           1,
           2,
           3,
           4,
           5,
           6,
           7,
           8,
           9,
           10,
           11,
           12,
           13,
           14,
           0,
           1,
           2,
           3,
           4,
           5,
           6,
           7,
           8,
           9,
           10,
           11,
           12,
           13,
           14,
           0,
           1,
           2,
           3,
           4,
           5,
           6,
           7,
           8,
           9,
           10,
           11,
           12,
           13,
           14,
           0,
           1,
           2,
           3,
           4,
           5,
           6,
           7,
           8,
           9,
           10,
           11,
           12,
           13,
           14,
           0,
           1,
           2,
           3,
           4,
           5,
           6,
           7,
           8,
           9,
           10,
           11,
           12,
           13,
           14,
           0,
           1,
           2,
           3,
           4,
           5,
           6,
           7,
           8,
           9,
           10,
           11,
           12,
           13,
           14,
           0,
           1,
           2,
           3,
           4,
           5,
           6,
           7,
           8,
           9,
           10,
           11,
           12,
           13,
           14,
           0,
           1,
           2,
           3,
           4,
           5,
           6,
           7,
           8,
           9,
           10,
           11,
           12,
           13,
           14,
           0,
           1,
           2,
           3,
           4,
           5,
           6,
           7,
           8,
           9,
           10,
           11,
           12,
           13,
           14,
           0,
           1,
           2,
           3,
           4,
           5,
           6,
           7,
           8,
           9,
           10,
           11,
           12,
           13,
           14,
           0,
           1,
           2,
           3,
           4,
           5,
           6,
           7,
           8,
           9,
           10,
           11,
           12,
           13,
           14,
           0,
           1,
           2,
           3,
           4,
           5,
           6,
           7,
           8,
           9,
           10,
           11,
           12,
           13,
           14,
           0,
           1,
           2,
           3,
           4,
           5,
           6,
           7,
           8,
           9,
           10,
           11,
           12,
           13,
           14,
           0,
           1,
           2,
           3,
           4,
           5,
           6,
           7,
           8,
           9,
           10,
           11,
           12,
           13,
           14,
           0,
           1,
           2,
           3,
           4,
           5,
           6,
           7,
           8,
           9,
           10,
           11,
           12,
           13,
           14,
           0,
           1,
           2,
           3,
           4,
           5,
           6,
           7,
           8,
           9,
           10,
           11,
           12,
           13,
           14,
           0,
           1,
           2,
           3,
           4,
           5,
           6,
           7,
           8,
           9,
           10,
           11,
           12,
           13,
           14,
           0,
           1,
           2,
           3,
           4,
           5,
           6,
           7,
           8,
           9,
           10,
           11,
           12,
           13,
           14,
           0,
           1,
           2,
           3,
           4,
           5,
           6,
           7,
           8,
           9,
           10,
           11,
           12,
           13,
           14,
           0,
           1,
           2,
           3,
           4,
           5,
           6,
           7,
           8,
           9,
           10,
           11,
           12,
           13,
           14,
           0,
           1,
           2,
           3,
           4,
           5,
           6,
           7,
           8,
           9,
           10,
           11,
           12,
           13,
           14,
           0,
           1,
           2,
           3,
           4,
           5,
           6,
           7,
           8,
           9,
           10,
           11,
           12,
           13,
           14,
           0,
           1,
           2,
           3,
           4,
           5,
           6,
           7,
           8,
           9,
           10,
           11,
           12,
           13,
           14,
           0,
           1,
           2,
           3,
           4,
           5,
           6,
           7,
           8,
           9,
           10,
           11,
           12,
           13,
           14,
           0,
           1,
           2,
           3,
           4,
           5,
           6,
           7,
           8,
           9,
           10,
           11,
           12,
           13,
           14,
           0,
           1,
           2,
           3,
           4,
           5,
           6,
           7,
           8,
           9,
           10,
           11,
           12,
           13,
           14,
           0,
           1,
           2,
           3,
           4,
           5,
           6,
           7,
           8,
           9,
           10,
           11,
           12,
           13,
           14,
           0,
           1,
           2,
           3,
           4,
           5,
           6,
           7,
           8,
           9,
           10,
           11,
           12,
           13,
           14
          ],
          "coloraxis": "coloraxis",
          "pattern": {
           "shape": ""
          }
         },
         "name": "",
         "offsetgroup": "",
         "orientation": "h",
         "showlegend": false,
         "textposition": "auto",
         "type": "bar",
         "x": [
          0.008175193282284615,
          0.13609292346391447,
          0.007352125180335146,
          0.0022749972256131397,
          0.10116339289017127,
          0.013178337587393186,
          0.013539007879258684,
          0.02395220656234972,
          0.038674952835423375,
          0.17915140753893388,
          0.08472977471978693,
          0.004198572115562461,
          0.127538563977361,
          0.07535234713128398,
          0.1846261976103281,
          0,
          0.44364754098360654,
          0.02663934426229508,
          0.07889344262295082,
          0.06557377049180328,
          0.02663934426229508,
          0.00819672131147541,
          0.01331967213114754,
          0.03278688524590164,
          0.1403688524590164,
          0.01639344262295082,
          0.006147540983606557,
          0.025614754098360656,
          0.06864754098360656,
          0.0471311475409836,
          0,
          0.3064516129032258,
          0,
          0,
          0.0967741935483871,
          0,
          0,
          0.04838709677419355,
          0,
          0.08064516129032258,
          0,
          0,
          0,
          0.16129032258064516,
          0.3064516129032258,
          0,
          0.36893203883495146,
          0.0825242718446602,
          0,
          0.038834951456310676,
          0.10679611650485436,
          0,
          0.10679611650485436,
          0.11165048543689321,
          0.13106796116504854,
          0,
          0.014563106796116505,
          0.024271844660194174,
          0.009708737864077669,
          0.0048543689320388345,
          0,
          0.21052631578947367,
          0,
          0,
          0.6842105263157895,
          0,
          0,
          0.05263157894736842,
          0,
          0.05263157894736842,
          0,
          0,
          0,
          0,
          0,
          0,
          0.4300254452926209,
          0.029686174724342665,
          0.002544529262086514,
          0.15521628498727735,
          0.0364715860899067,
          0.018659881255301103,
          0.035623409669211195,
          0.02374893977947413,
          0.04664970313825276,
          0.007633587786259542,
          0.04240882103477523,
          0.03816793893129771,
          0.08312128922815945,
          0.05004240882103478,
          0.06537102473498234,
          0.19752650176678446,
          0.059481743227326266,
          0.013545347467608953,
          0.14016489988221437,
          0.029093050647820966,
          0.029799764428739692,
          0.05818610129564193,
          0.02131919905771496,
          0.11507656065959952,
          0.03439340400471143,
          0.02061248527679623,
          0.04240282685512368,
          0.06089517078916372,
          0.1121319199057715,
          0,
          0.2785388127853881,
          0.030441400304414,
          0.01750380517503805,
          0.16552511415525115,
          0.033866057838660577,
          0.03272450532724505,
          0.032343987823439876,
          0.01598173515981735,
          0.0928462709284627,
          0.06811263318112633,
          0.0121765601217656,
          0.03120243531202435,
          0.06316590563165905,
          0.12557077625570776,
          0,
          0.5116279069767442,
          0,
          0,
          0.13953488372093023,
          0.13953488372093023,
          0,
          0.16279069767441862,
          0,
          0.046511627906976744,
          0,
          0,
          0,
          0,
          0,
          0,
          0.40941176470588236,
          0.04941176470588235,
          0.05411764705882353,
          0.009411764705882352,
          0.07294117647058823,
          0,
          0,
          0.08705882352941176,
          0.03529411764705882,
          0,
          0.02588235294117647,
          0.007058823529411765,
          0.17176470588235293,
          0.07764705882352942,
          0,
          0.42105263157894735,
          0,
          0,
          0,
          0,
          0,
          0,
          0,
          0.15789473684210525,
          0,
          0,
          0,
          0.42105263157894735,
          0,
          0.008011849458021948,
          0.1748468322897731,
          0.005520770214771427,
          0,
          0.044637446980407995,
          0.05301959200161584,
          0.006463340739244597,
          0.11987477277317714,
          0.04931663636975695,
          0.08701945734868377,
          0.025045445364572812,
          0.006261361341143203,
          0.03059987881236114,
          0.3134046993873292,
          0.07597791691914091,
          0.020109024833434283,
          0.16159903089036948,
          0.009085402786190187,
          0.015748031496062992,
          0.048576620230163535,
          0.08806783767413688,
          0.0025439127801332524,
          0.3490006056935191,
          0.02047244094488189,
          0.10708661417322834,
          0.017928528164748637,
          0.0037552998182919443,
          0.07777104784978801,
          0.023622047244094488,
          0.054633555420957,
          0,
          0.4444444444444444,
          0,
          0,
          0,
          0,
          0,
          0,
          0,
          0,
          0,
          0,
          0,
          0.5555555555555556,
          0,
          0.00934631743899709,
          0.15793597492724423,
          0.002742332661741661,
          0.0003917618088202373,
          0.06010745466756212,
          0.05708529214237743,
          0.003917618088202373,
          0.0661517797179315,
          0.3666330870830535,
          0.09312737855383926,
          0.018524736959928362,
          0.006212222968435191,
          0.033971345421983434,
          0.05921199910454444,
          0.06464069845533915,
          0.005815577884247234,
          0.1176774941275081,
          0.007605782464273518,
          0.001438372466032679,
          0.10214514109502572,
          0.06938336248020945,
          0.02008547450769374,
          0.0407400891997889,
          0.03344474683609797,
          0.217970342622391,
          0.06612374142409222,
          0.004708341525502654,
          0.13339611122034004,
          0.05937684323809721,
          0.12008857890869956,
          0,
          0.23842195540308747,
          0,
          0.2169811320754717,
          0.15008576329331047,
          0.038593481989708404,
          0.00686106346483705,
          0.04030874785591767,
          0.07890222984562607,
          0.11234991423670669,
          0.007718696397941681,
          0.002572898799313894,
          0.007718696397941681,
          0.057461406518010294,
          0.04202401372212693,
          0,
          0.23958333333333334,
          0,
          0,
          0.13541666666666666,
          0,
          0,
          0.041666666666666664,
          0.052083333333333336,
          0.07291666666666667,
          0,
          0,
          0.020833333333333332,
          0.07291666666666667,
          0.3645833333333333,
          0.28210526315789475,
          0.25263157894736843,
          0.05263157894736842,
          0,
          0.01263157894736842,
          0.04,
          0.002105263157894737,
          0.056842105263157895,
          0.1368421052631579,
          0.04,
          0.01263157894736842,
          0.05263157894736842,
          0,
          0.035789473684210524,
          0.023157894736842106,
          0,
          0.5348837209302325,
          0,
          0,
          0.06976744186046512,
          0,
          0,
          0.023255813953488372,
          0.046511627906976744,
          0.20930232558139536,
          0.046511627906976744,
          0,
          0.06976744186046512,
          0,
          0,
          0,
          0.4137205387205387,
          0.025673400673400674,
          0,
          0.023148148148148147,
          0.0016835016835016834,
          0.007575757575757576,
          0.03745791245791246,
          0.05345117845117845,
          0.11994949494949494,
          0.007996632996632997,
          0.005892255892255892,
          0.04292929292929293,
          0.08080808080808081,
          0.17971380471380471,
          0.00599288777946173,
          0.12101671074658504,
          0.009202302061355284,
          0.0028924350935583885,
          0.15820233177815418,
          0.07140946777213159,
          0.034431864332907396,
          0.028696522143967985,
          0.03613562747020891,
          0.20437233167909818,
          0.048190742226580686,
          0.003882995057105782,
          0.1181044644537557,
          0.08167166899448258,
          0.07579764841064654,
          0,
          0.38572854291417163,
          0.012974051896207584,
          0.02445109780439122,
          0.09580838323353294,
          0.015968063872255488,
          0.02445109780439122,
          0.006986027944111776,
          0.02445109780439122,
          0.10728542914171657,
          0.06487025948103792,
          0.011477045908183632,
          0.05389221556886228,
          0.05289421157684631,
          0.1187624750499002,
          0,
          0.11612903225806452,
          0,
          0,
          0.14838709677419354,
          0.21935483870967742,
          0,
          0.05806451612903226,
          0.012903225806451613,
          0.2645161290322581,
          0.012903225806451613,
          0,
          0.05161290322580645,
          0.07741935483870968,
          0.03870967741935484,
          0,
          0.3181818181818182,
          0,
          0,
          0.12121212121212122,
          0.1590909090909091,
          0.007575757575757576,
          0.015151515151515152,
          0.16666666666666666,
          0.10606060606060606,
          0,
          0,
          0,
          0.03787878787878788,
          0.06818181818181818,
          0,
          1,
          0,
          0,
          0,
          0,
          0,
          0,
          0,
          0,
          0,
          0,
          0,
          0,
          0,
          0,
          0.2929532858273951,
          0.019002375296912115,
          0,
          0.09659540775930324,
          0.030878859857482184,
          0.026920031670625493,
          0.04513064133016627,
          0.035629453681710214,
          0.06967537608867776,
          0.01583531274742676,
          0.09817893903404593,
          0.007125890736342043,
          0.14885193982581155,
          0.11322248614410134,
          0.026787298208266808,
          0.2790491396132695,
          0.01951392584708178,
          0.010466560227071138,
          0.116551357104843,
          0.03122228135533085,
          0.01720773461060848,
          0.047897817988291645,
          0.07982969664715274,
          0.10413340429306368,
          0.023594110342380698,
          0.018626929217668974,
          0.034592868547099524,
          0.12630832002838388,
          0.06421855596948732,
          0.0443307757885763,
          0.23870417732310314,
          0.016027280477408354,
          0.016709292412617222,
          0.14083546462063087,
          0.02011935208866155,
          0.01329923273657289,
          0.013469735720375107,
          0.014833759590792838,
          0.09428815004262575,
          0.037851662404092073,
          0.02608695652173913,
          0.024211423699914747,
          0.17289002557544758,
          0.12634271099744246,
          0,
          0.4583333333333333,
          0,
          0,
          0.2916666666666667,
          0,
          0,
          0,
          0.20833333333333334,
          0,
          0,
          0,
          0,
          0,
          0.041666666666666664,
          0,
          0.5252808988764045,
          0,
          0.02247191011235955,
          0.042134831460674156,
          0,
          0.008426966292134831,
          0.0056179775280898875,
          0.02247191011235955,
          0.0702247191011236,
          0,
          0.1151685393258427,
          0.014044943820224719,
          0.13764044943820225,
          0.03651685393258427,
          0,
          0.375,
          0,
          0,
          0,
          0,
          0,
          0,
          0,
          0,
          0,
          0,
          0.375,
          0.25,
          0,
          0.0030856451065211935,
          0.09485775028420415,
          0.006451803404544314,
          0.00017716622621174316,
          0.05050713832253111,
          0.11078794679107673,
          0.016638861411719545,
          0.11974960506695408,
          0.06215581769595323,
          0.24679255311295822,
          0.022603457694181567,
          0.00214075856672523,
          0.18175778424106417,
          0.037337782174124874,
          0.044955929901229826,
          0,
          0.16447985004686036,
          0.0037488284910965324,
          0.08528584817244611,
          0.12277413308341144,
          0.04311152764761012,
          0.0023430178069353325,
          0.08481724461105905,
          0.33973758200562326,
          0.05154639175257732,
          0.007029053420805998,
          0.007029053420805998,
          0.02436738519212746,
          0.02858481724461106,
          0.035145267104029994,
          0,
          0.31092436974789917,
          0,
          0,
          0.04201680672268908,
          0.025210084033613446,
          0,
          0.3949579831932773,
          0.008403361344537815,
          0.01680672268907563,
          0,
          0,
          0,
          0.01680672268907563,
          0.18487394957983194,
          0.01606425702811245,
          0.20381526104417672,
          0.02710843373493976,
          0,
          0.07530120481927711,
          0.09236947791164658,
          0.08634538152610442,
          0.12349397590361445,
          0.05421686746987952,
          0.13453815261044177,
          0.012048192771084338,
          0.025100401606425703,
          0.008032128514056224,
          0.10240963855421686,
          0.0391566265060241
         ],
         "xaxis": "x",
         "y": [
          "C",
          "C",
          "C",
          "C",
          "C",
          "C",
          "C",
          "C",
          "C",
          "C",
          "C",
          "C",
          "C",
          "C",
          "C",
          "C#",
          "C#",
          "C#",
          "C#",
          "C#",
          "C#",
          "C#",
          "C#",
          "C#",
          "C#",
          "C#",
          "C#",
          "C#",
          "C#",
          "C#",
          "C#dim",
          "C#dim",
          "C#dim",
          "C#dim",
          "C#dim",
          "C#dim",
          "C#dim",
          "C#dim",
          "C#dim",
          "C#dim",
          "C#dim",
          "C#dim",
          "C#dim",
          "C#dim",
          "C#dim",
          "C#m",
          "C#m",
          "C#m",
          "C#m",
          "C#m",
          "C#m",
          "C#m",
          "C#m",
          "C#m",
          "C#m",
          "C#m",
          "C#m",
          "C#m",
          "C#m",
          "C#m",
          "Cdim",
          "Cdim",
          "Cdim",
          "Cdim",
          "Cdim",
          "Cdim",
          "Cdim",
          "Cdim",
          "Cdim",
          "Cdim",
          "Cdim",
          "Cdim",
          "Cdim",
          "Cdim",
          "Cdim",
          "Cm",
          "Cm",
          "Cm",
          "Cm",
          "Cm",
          "Cm",
          "Cm",
          "Cm",
          "Cm",
          "Cm",
          "Cm",
          "Cm",
          "Cm",
          "Cm",
          "Cm",
          "D",
          "D",
          "D",
          "D",
          "D",
          "D",
          "D",
          "D",
          "D",
          "D",
          "D",
          "D",
          "D",
          "D",
          "D",
          "D#",
          "D#",
          "D#",
          "D#",
          "D#",
          "D#",
          "D#",
          "D#",
          "D#",
          "D#",
          "D#",
          "D#",
          "D#",
          "D#",
          "D#",
          "D#dim",
          "D#dim",
          "D#dim",
          "D#dim",
          "D#dim",
          "D#dim",
          "D#dim",
          "D#dim",
          "D#dim",
          "D#dim",
          "D#dim",
          "D#dim",
          "D#dim",
          "D#dim",
          "D#dim",
          "D#m",
          "D#m",
          "D#m",
          "D#m",
          "D#m",
          "D#m",
          "D#m",
          "D#m",
          "D#m",
          "D#m",
          "D#m",
          "D#m",
          "D#m",
          "D#m",
          "D#m",
          "Ddim",
          "Ddim",
          "Ddim",
          "Ddim",
          "Ddim",
          "Ddim",
          "Ddim",
          "Ddim",
          "Ddim",
          "Ddim",
          "Ddim",
          "Ddim",
          "Ddim",
          "Ddim",
          "Ddim",
          "Dm",
          "Dm",
          "Dm",
          "Dm",
          "Dm",
          "Dm",
          "Dm",
          "Dm",
          "Dm",
          "Dm",
          "Dm",
          "Dm",
          "Dm",
          "Dm",
          "Dm",
          "E",
          "E",
          "E",
          "E",
          "E",
          "E",
          "E",
          "E",
          "E",
          "E",
          "E",
          "E",
          "E",
          "E",
          "E",
          "Edim",
          "Edim",
          "Edim",
          "Edim",
          "Edim",
          "Edim",
          "Edim",
          "Edim",
          "Edim",
          "Edim",
          "Edim",
          "Edim",
          "Edim",
          "Edim",
          "Edim",
          "Em",
          "Em",
          "Em",
          "Em",
          "Em",
          "Em",
          "Em",
          "Em",
          "Em",
          "Em",
          "Em",
          "Em",
          "Em",
          "Em",
          "Em",
          "F",
          "F",
          "F",
          "F",
          "F",
          "F",
          "F",
          "F",
          "F",
          "F",
          "F",
          "F",
          "F",
          "F",
          "F",
          "F#",
          "F#",
          "F#",
          "F#",
          "F#",
          "F#",
          "F#",
          "F#",
          "F#",
          "F#",
          "F#",
          "F#",
          "F#",
          "F#",
          "F#",
          "F#dim",
          "F#dim",
          "F#dim",
          "F#dim",
          "F#dim",
          "F#dim",
          "F#dim",
          "F#dim",
          "F#dim",
          "F#dim",
          "F#dim",
          "F#dim",
          "F#dim",
          "F#dim",
          "F#dim",
          "F#m",
          "F#m",
          "F#m",
          "F#m",
          "F#m",
          "F#m",
          "F#m",
          "F#m",
          "F#m",
          "F#m",
          "F#m",
          "F#m",
          "F#m",
          "F#m",
          "F#m",
          "Fdim",
          "Fdim",
          "Fdim",
          "Fdim",
          "Fdim",
          "Fdim",
          "Fdim",
          "Fdim",
          "Fdim",
          "Fdim",
          "Fdim",
          "Fdim",
          "Fdim",
          "Fdim",
          "Fdim",
          "Fm",
          "Fm",
          "Fm",
          "Fm",
          "Fm",
          "Fm",
          "Fm",
          "Fm",
          "Fm",
          "Fm",
          "Fm",
          "Fm",
          "Fm",
          "Fm",
          "Fm",
          "G",
          "G",
          "G",
          "G",
          "G",
          "G",
          "G",
          "G",
          "G",
          "G",
          "G",
          "G",
          "G",
          "G",
          "G",
          "G#",
          "G#",
          "G#",
          "G#",
          "G#",
          "G#",
          "G#",
          "G#",
          "G#",
          "G#",
          "G#",
          "G#",
          "G#",
          "G#",
          "G#",
          "G#dim",
          "G#dim",
          "G#dim",
          "G#dim",
          "G#dim",
          "G#dim",
          "G#dim",
          "G#dim",
          "G#dim",
          "G#dim",
          "G#dim",
          "G#dim",
          "G#dim",
          "G#dim",
          "G#dim",
          "G#m",
          "G#m",
          "G#m",
          "G#m",
          "G#m",
          "G#m",
          "G#m",
          "G#m",
          "G#m",
          "G#m",
          "G#m",
          "G#m",
          "G#m",
          "G#m",
          "G#m",
          "Gdim",
          "Gdim",
          "Gdim",
          "Gdim",
          "Gdim",
          "Gdim",
          "Gdim",
          "Gdim",
          "Gdim",
          "Gdim",
          "Gdim",
          "Gdim",
          "Gdim",
          "Gdim",
          "Gdim",
          "Gm",
          "Gm",
          "Gm",
          "Gm",
          "Gm",
          "Gm",
          "Gm",
          "Gm",
          "Gm",
          "Gm",
          "Gm",
          "Gm",
          "Gm",
          "Gm",
          "Gm",
          "A",
          "A",
          "A",
          "A",
          "A",
          "A",
          "A",
          "A",
          "A",
          "A",
          "A",
          "A",
          "A",
          "A",
          "A",
          "A#",
          "A#",
          "A#",
          "A#",
          "A#",
          "A#",
          "A#",
          "A#",
          "A#",
          "A#",
          "A#",
          "A#",
          "A#",
          "A#",
          "A#",
          "A#dim",
          "A#dim",
          "A#dim",
          "A#dim",
          "A#dim",
          "A#dim",
          "A#dim",
          "A#dim",
          "A#dim",
          "A#dim",
          "A#dim",
          "A#dim",
          "A#dim",
          "A#dim",
          "A#dim",
          "A#m",
          "A#m",
          "A#m",
          "A#m",
          "A#m",
          "A#m",
          "A#m",
          "A#m",
          "A#m",
          "A#m",
          "A#m",
          "A#m",
          "A#m",
          "A#m",
          "A#m",
          "Adim",
          "Adim",
          "Adim",
          "Adim",
          "Adim",
          "Adim",
          "Adim",
          "Adim",
          "Adim",
          "Adim",
          "Adim",
          "Adim",
          "Adim",
          "Adim",
          "Adim",
          "Am",
          "Am",
          "Am",
          "Am",
          "Am",
          "Am",
          "Am",
          "Am",
          "Am",
          "Am",
          "Am",
          "Am",
          "Am",
          "Am",
          "Am",
          "B",
          "B",
          "B",
          "B",
          "B",
          "B",
          "B",
          "B",
          "B",
          "B",
          "B",
          "B",
          "B",
          "B",
          "B",
          "Bdim",
          "Bdim",
          "Bdim",
          "Bdim",
          "Bdim",
          "Bdim",
          "Bdim",
          "Bdim",
          "Bdim",
          "Bdim",
          "Bdim",
          "Bdim",
          "Bdim",
          "Bdim",
          "Bdim",
          "Bm",
          "Bm",
          "Bm",
          "Bm",
          "Bm",
          "Bm",
          "Bm",
          "Bm",
          "Bm",
          "Bm",
          "Bm",
          "Bm",
          "Bm",
          "Bm",
          "Bm"
         ],
         "yaxis": "y"
        }
       ],
       "layout": {
        "autosize": true,
        "barmode": "relative",
        "coloraxis": {
         "colorbar": {
          "title": {
           "text": "cluster"
          }
         },
         "colorscale": [
          [
           0,
           "#0d0887"
          ],
          [
           0.1111111111111111,
           "#46039f"
          ],
          [
           0.2222222222222222,
           "#7201a8"
          ],
          [
           0.3333333333333333,
           "#9c179e"
          ],
          [
           0.4444444444444444,
           "#bd3786"
          ],
          [
           0.5555555555555556,
           "#d8576b"
          ],
          [
           0.6666666666666666,
           "#ed7953"
          ],
          [
           0.7777777777777778,
           "#fb9f3a"
          ],
          [
           0.8888888888888888,
           "#fdca26"
          ],
          [
           1,
           "#f0f921"
          ]
         ]
        },
        "legend": {
         "tracegroupgap": 0
        },
        "template": {
         "data": {
          "bar": [
           {
            "error_x": {
             "color": "#f2f5fa"
            },
            "error_y": {
             "color": "#f2f5fa"
            },
            "marker": {
             "line": {
              "color": "rgb(17,17,17)",
              "width": 0.5
             },
             "pattern": {
              "fillmode": "overlay",
              "size": 10,
              "solidity": 0.2
             }
            },
            "type": "bar"
           }
          ],
          "barpolar": [
           {
            "marker": {
             "line": {
              "color": "rgb(17,17,17)",
              "width": 0.5
             },
             "pattern": {
              "fillmode": "overlay",
              "size": 10,
              "solidity": 0.2
             }
            },
            "type": "barpolar"
           }
          ],
          "carpet": [
           {
            "aaxis": {
             "endlinecolor": "#A2B1C6",
             "gridcolor": "#506784",
             "linecolor": "#506784",
             "minorgridcolor": "#506784",
             "startlinecolor": "#A2B1C6"
            },
            "baxis": {
             "endlinecolor": "#A2B1C6",
             "gridcolor": "#506784",
             "linecolor": "#506784",
             "minorgridcolor": "#506784",
             "startlinecolor": "#A2B1C6"
            },
            "type": "carpet"
           }
          ],
          "choropleth": [
           {
            "colorbar": {
             "outlinewidth": 0,
             "ticks": ""
            },
            "type": "choropleth"
           }
          ],
          "contour": [
           {
            "colorbar": {
             "outlinewidth": 0,
             "ticks": ""
            },
            "colorscale": [
             [
              0,
              "#0d0887"
             ],
             [
              0.1111111111111111,
              "#46039f"
             ],
             [
              0.2222222222222222,
              "#7201a8"
             ],
             [
              0.3333333333333333,
              "#9c179e"
             ],
             [
              0.4444444444444444,
              "#bd3786"
             ],
             [
              0.5555555555555556,
              "#d8576b"
             ],
             [
              0.6666666666666666,
              "#ed7953"
             ],
             [
              0.7777777777777778,
              "#fb9f3a"
             ],
             [
              0.8888888888888888,
              "#fdca26"
             ],
             [
              1,
              "#f0f921"
             ]
            ],
            "type": "contour"
           }
          ],
          "contourcarpet": [
           {
            "colorbar": {
             "outlinewidth": 0,
             "ticks": ""
            },
            "type": "contourcarpet"
           }
          ],
          "heatmap": [
           {
            "colorbar": {
             "outlinewidth": 0,
             "ticks": ""
            },
            "colorscale": [
             [
              0,
              "#0d0887"
             ],
             [
              0.1111111111111111,
              "#46039f"
             ],
             [
              0.2222222222222222,
              "#7201a8"
             ],
             [
              0.3333333333333333,
              "#9c179e"
             ],
             [
              0.4444444444444444,
              "#bd3786"
             ],
             [
              0.5555555555555556,
              "#d8576b"
             ],
             [
              0.6666666666666666,
              "#ed7953"
             ],
             [
              0.7777777777777778,
              "#fb9f3a"
             ],
             [
              0.8888888888888888,
              "#fdca26"
             ],
             [
              1,
              "#f0f921"
             ]
            ],
            "type": "heatmap"
           }
          ],
          "heatmapgl": [
           {
            "colorbar": {
             "outlinewidth": 0,
             "ticks": ""
            },
            "colorscale": [
             [
              0,
              "#0d0887"
             ],
             [
              0.1111111111111111,
              "#46039f"
             ],
             [
              0.2222222222222222,
              "#7201a8"
             ],
             [
              0.3333333333333333,
              "#9c179e"
             ],
             [
              0.4444444444444444,
              "#bd3786"
             ],
             [
              0.5555555555555556,
              "#d8576b"
             ],
             [
              0.6666666666666666,
              "#ed7953"
             ],
             [
              0.7777777777777778,
              "#fb9f3a"
             ],
             [
              0.8888888888888888,
              "#fdca26"
             ],
             [
              1,
              "#f0f921"
             ]
            ],
            "type": "heatmapgl"
           }
          ],
          "histogram": [
           {
            "marker": {
             "pattern": {
              "fillmode": "overlay",
              "size": 10,
              "solidity": 0.2
             }
            },
            "type": "histogram"
           }
          ],
          "histogram2d": [
           {
            "colorbar": {
             "outlinewidth": 0,
             "ticks": ""
            },
            "colorscale": [
             [
              0,
              "#0d0887"
             ],
             [
              0.1111111111111111,
              "#46039f"
             ],
             [
              0.2222222222222222,
              "#7201a8"
             ],
             [
              0.3333333333333333,
              "#9c179e"
             ],
             [
              0.4444444444444444,
              "#bd3786"
             ],
             [
              0.5555555555555556,
              "#d8576b"
             ],
             [
              0.6666666666666666,
              "#ed7953"
             ],
             [
              0.7777777777777778,
              "#fb9f3a"
             ],
             [
              0.8888888888888888,
              "#fdca26"
             ],
             [
              1,
              "#f0f921"
             ]
            ],
            "type": "histogram2d"
           }
          ],
          "histogram2dcontour": [
           {
            "colorbar": {
             "outlinewidth": 0,
             "ticks": ""
            },
            "colorscale": [
             [
              0,
              "#0d0887"
             ],
             [
              0.1111111111111111,
              "#46039f"
             ],
             [
              0.2222222222222222,
              "#7201a8"
             ],
             [
              0.3333333333333333,
              "#9c179e"
             ],
             [
              0.4444444444444444,
              "#bd3786"
             ],
             [
              0.5555555555555556,
              "#d8576b"
             ],
             [
              0.6666666666666666,
              "#ed7953"
             ],
             [
              0.7777777777777778,
              "#fb9f3a"
             ],
             [
              0.8888888888888888,
              "#fdca26"
             ],
             [
              1,
              "#f0f921"
             ]
            ],
            "type": "histogram2dcontour"
           }
          ],
          "mesh3d": [
           {
            "colorbar": {
             "outlinewidth": 0,
             "ticks": ""
            },
            "type": "mesh3d"
           }
          ],
          "parcoords": [
           {
            "line": {
             "colorbar": {
              "outlinewidth": 0,
              "ticks": ""
             }
            },
            "type": "parcoords"
           }
          ],
          "pie": [
           {
            "automargin": true,
            "type": "pie"
           }
          ],
          "scatter": [
           {
            "marker": {
             "line": {
              "color": "#283442"
             }
            },
            "type": "scatter"
           }
          ],
          "scatter3d": [
           {
            "line": {
             "colorbar": {
              "outlinewidth": 0,
              "ticks": ""
             }
            },
            "marker": {
             "colorbar": {
              "outlinewidth": 0,
              "ticks": ""
             }
            },
            "type": "scatter3d"
           }
          ],
          "scattercarpet": [
           {
            "marker": {
             "colorbar": {
              "outlinewidth": 0,
              "ticks": ""
             }
            },
            "type": "scattercarpet"
           }
          ],
          "scattergeo": [
           {
            "marker": {
             "colorbar": {
              "outlinewidth": 0,
              "ticks": ""
             }
            },
            "type": "scattergeo"
           }
          ],
          "scattergl": [
           {
            "marker": {
             "line": {
              "color": "#283442"
             }
            },
            "type": "scattergl"
           }
          ],
          "scattermapbox": [
           {
            "marker": {
             "colorbar": {
              "outlinewidth": 0,
              "ticks": ""
             }
            },
            "type": "scattermapbox"
           }
          ],
          "scatterpolar": [
           {
            "marker": {
             "colorbar": {
              "outlinewidth": 0,
              "ticks": ""
             }
            },
            "type": "scatterpolar"
           }
          ],
          "scatterpolargl": [
           {
            "marker": {
             "colorbar": {
              "outlinewidth": 0,
              "ticks": ""
             }
            },
            "type": "scatterpolargl"
           }
          ],
          "scatterternary": [
           {
            "marker": {
             "colorbar": {
              "outlinewidth": 0,
              "ticks": ""
             }
            },
            "type": "scatterternary"
           }
          ],
          "surface": [
           {
            "colorbar": {
             "outlinewidth": 0,
             "ticks": ""
            },
            "colorscale": [
             [
              0,
              "#0d0887"
             ],
             [
              0.1111111111111111,
              "#46039f"
             ],
             [
              0.2222222222222222,
              "#7201a8"
             ],
             [
              0.3333333333333333,
              "#9c179e"
             ],
             [
              0.4444444444444444,
              "#bd3786"
             ],
             [
              0.5555555555555556,
              "#d8576b"
             ],
             [
              0.6666666666666666,
              "#ed7953"
             ],
             [
              0.7777777777777778,
              "#fb9f3a"
             ],
             [
              0.8888888888888888,
              "#fdca26"
             ],
             [
              1,
              "#f0f921"
             ]
            ],
            "type": "surface"
           }
          ],
          "table": [
           {
            "cells": {
             "fill": {
              "color": "#506784"
             },
             "line": {
              "color": "rgb(17,17,17)"
             }
            },
            "header": {
             "fill": {
              "color": "#2a3f5f"
             },
             "line": {
              "color": "rgb(17,17,17)"
             }
            },
            "type": "table"
           }
          ]
         },
         "layout": {
          "annotationdefaults": {
           "arrowcolor": "#f2f5fa",
           "arrowhead": 0,
           "arrowwidth": 1
          },
          "autotypenumbers": "strict",
          "coloraxis": {
           "colorbar": {
            "outlinewidth": 0,
            "ticks": ""
           }
          },
          "colorscale": {
           "diverging": [
            [
             0,
             "#8e0152"
            ],
            [
             0.1,
             "#c51b7d"
            ],
            [
             0.2,
             "#de77ae"
            ],
            [
             0.3,
             "#f1b6da"
            ],
            [
             0.4,
             "#fde0ef"
            ],
            [
             0.5,
             "#f7f7f7"
            ],
            [
             0.6,
             "#e6f5d0"
            ],
            [
             0.7,
             "#b8e186"
            ],
            [
             0.8,
             "#7fbc41"
            ],
            [
             0.9,
             "#4d9221"
            ],
            [
             1,
             "#276419"
            ]
           ],
           "sequential": [
            [
             0,
             "#0d0887"
            ],
            [
             0.1111111111111111,
             "#46039f"
            ],
            [
             0.2222222222222222,
             "#7201a8"
            ],
            [
             0.3333333333333333,
             "#9c179e"
            ],
            [
             0.4444444444444444,
             "#bd3786"
            ],
            [
             0.5555555555555556,
             "#d8576b"
            ],
            [
             0.6666666666666666,
             "#ed7953"
            ],
            [
             0.7777777777777778,
             "#fb9f3a"
            ],
            [
             0.8888888888888888,
             "#fdca26"
            ],
            [
             1,
             "#f0f921"
            ]
           ],
           "sequentialminus": [
            [
             0,
             "#0d0887"
            ],
            [
             0.1111111111111111,
             "#46039f"
            ],
            [
             0.2222222222222222,
             "#7201a8"
            ],
            [
             0.3333333333333333,
             "#9c179e"
            ],
            [
             0.4444444444444444,
             "#bd3786"
            ],
            [
             0.5555555555555556,
             "#d8576b"
            ],
            [
             0.6666666666666666,
             "#ed7953"
            ],
            [
             0.7777777777777778,
             "#fb9f3a"
            ],
            [
             0.8888888888888888,
             "#fdca26"
            ],
            [
             1,
             "#f0f921"
            ]
           ]
          },
          "colorway": [
           "#636efa",
           "#EF553B",
           "#00cc96",
           "#ab63fa",
           "#FFA15A",
           "#19d3f3",
           "#FF6692",
           "#B6E880",
           "#FF97FF",
           "#FECB52"
          ],
          "font": {
           "color": "#f2f5fa"
          },
          "geo": {
           "bgcolor": "rgb(17,17,17)",
           "lakecolor": "rgb(17,17,17)",
           "landcolor": "rgb(17,17,17)",
           "showlakes": true,
           "showland": true,
           "subunitcolor": "#506784"
          },
          "hoverlabel": {
           "align": "left"
          },
          "hovermode": "closest",
          "mapbox": {
           "style": "dark"
          },
          "paper_bgcolor": "rgb(17,17,17)",
          "plot_bgcolor": "rgb(17,17,17)",
          "polar": {
           "angularaxis": {
            "gridcolor": "#506784",
            "linecolor": "#506784",
            "ticks": ""
           },
           "bgcolor": "rgb(17,17,17)",
           "radialaxis": {
            "gridcolor": "#506784",
            "linecolor": "#506784",
            "ticks": ""
           }
          },
          "scene": {
           "xaxis": {
            "backgroundcolor": "rgb(17,17,17)",
            "gridcolor": "#506784",
            "gridwidth": 2,
            "linecolor": "#506784",
            "showbackground": true,
            "ticks": "",
            "zerolinecolor": "#C8D4E3"
           },
           "yaxis": {
            "backgroundcolor": "rgb(17,17,17)",
            "gridcolor": "#506784",
            "gridwidth": 2,
            "linecolor": "#506784",
            "showbackground": true,
            "ticks": "",
            "zerolinecolor": "#C8D4E3"
           },
           "zaxis": {
            "backgroundcolor": "rgb(17,17,17)",
            "gridcolor": "#506784",
            "gridwidth": 2,
            "linecolor": "#506784",
            "showbackground": true,
            "ticks": "",
            "zerolinecolor": "#C8D4E3"
           }
          },
          "shapedefaults": {
           "line": {
            "color": "#f2f5fa"
           }
          },
          "sliderdefaults": {
           "bgcolor": "#C8D4E3",
           "bordercolor": "rgb(17,17,17)",
           "borderwidth": 1,
           "tickwidth": 0
          },
          "ternary": {
           "aaxis": {
            "gridcolor": "#506784",
            "linecolor": "#506784",
            "ticks": ""
           },
           "baxis": {
            "gridcolor": "#506784",
            "linecolor": "#506784",
            "ticks": ""
           },
           "bgcolor": "rgb(17,17,17)",
           "caxis": {
            "gridcolor": "#506784",
            "linecolor": "#506784",
            "ticks": ""
           }
          },
          "title": {
           "x": 0.05
          },
          "updatemenudefaults": {
           "bgcolor": "#506784",
           "borderwidth": 0
          },
          "xaxis": {
           "automargin": true,
           "gridcolor": "#283442",
           "linecolor": "#506784",
           "ticks": "",
           "title": {
            "standoff": 15
           },
           "zerolinecolor": "#283442",
           "zerolinewidth": 2
          },
          "yaxis": {
           "automargin": true,
           "gridcolor": "#283442",
           "linecolor": "#506784",
           "ticks": "",
           "title": {
            "standoff": 15
           },
           "zerolinecolor": "#283442",
           "zerolinewidth": 2
          }
         }
        },
        "title": {
         "text": "Restaurant bills"
        },
        "xaxis": {
         "anchor": "y",
         "autorange": true,
         "domain": [
          0,
          1
         ],
         "range": [
          0,
          1.0526315789473686
         ],
         "title": {
          "text": "ratio"
         },
         "type": "linear"
        },
        "yaxis": {
         "anchor": "x",
         "autorange": true,
         "domain": [
          0,
          1
         ],
         "range": [
          -0.5,
          35.5
         ],
         "title": {
          "text": "chord"
         },
         "type": "category"
        }
       }
      },
      "image/png": "[encoded data removed]",
      "text/html": [
       "<div>                            <div id=\"013be7ab-df81-47bb-8396-d0933d711596\" class=\"plotly-graph-div\" style=\"height:800px; width:100%;\"></div>            <script type=\"text/javascript\">                require([\"plotly\"], function(Plotly) {                    window.PLOTLYENV=window.PLOTLYENV || {};                                    if (document.getElementById(\"013be7ab-df81-47bb-8396-d0933d711596\")) {                    Plotly.newPlot(                        \"013be7ab-df81-47bb-8396-d0933d711596\",                        [{\"alignmentgroup\":\"True\",\"hovertemplate\":\"ratio=%{x}<br>chord=%{y}<br>cluster=%{marker.color}<extra></extra>\",\"legendgroup\":\"\",\"marker\":{\"color\":[0,1,2,3,4,5,6,7,8,9,10,11,12,13,14,0,1,2,3,4,5,6,7,8,9,10,11,12,13,14,0,1,2,3,4,5,6,7,8,9,10,11,12,13,14,0,1,2,3,4,5,6,7,8,9,10,11,12,13,14,0,1,2,3,4,5,6,7,8,9,10,11,12,13,14,0,1,2,3,4,5,6,7,8,9,10,11,12,13,14,0,1,2,3,4,5,6,7,8,9,10,11,12,13,14,0,1,2,3,4,5,6,7,8,9,10,11,12,13,14,0,1,2,3,4,5,6,7,8,9,10,11,12,13,14,0,1,2,3,4,5,6,7,8,9,10,11,12,13,14,0,1,2,3,4,5,6,7,8,9,10,11,12,13,14,0,1,2,3,4,5,6,7,8,9,10,11,12,13,14,0,1,2,3,4,5,6,7,8,9,10,11,12,13,14,0,1,2,3,4,5,6,7,8,9,10,11,12,13,14,0,1,2,3,4,5,6,7,8,9,10,11,12,13,14,0,1,2,3,4,5,6,7,8,9,10,11,12,13,14,0,1,2,3,4,5,6,7,8,9,10,11,12,13,14,0,1,2,3,4,5,6,7,8,9,10,11,12,13,14,0,1,2,3,4,5,6,7,8,9,10,11,12,13,14,0,1,2,3,4,5,6,7,8,9,10,11,12,13,14,0,1,2,3,4,5,6,7,8,9,10,11,12,13,14,0,1,2,3,4,5,6,7,8,9,10,11,12,13,14,0,1,2,3,4,5,6,7,8,9,10,11,12,13,14,0,1,2,3,4,5,6,7,8,9,10,11,12,13,14,0,1,2,3,4,5,6,7,8,9,10,11,12,13,14,0,1,2,3,4,5,6,7,8,9,10,11,12,13,14,0,1,2,3,4,5,6,7,8,9,10,11,12,13,14,0,1,2,3,4,5,6,7,8,9,10,11,12,13,14,0,1,2,3,4,5,6,7,8,9,10,11,12,13,14,0,1,2,3,4,5,6,7,8,9,10,11,12,13,14,0,1,2,3,4,5,6,7,8,9,10,11,12,13,14,0,1,2,3,4,5,6,7,8,9,10,11,12,13,14,0,1,2,3,4,5,6,7,8,9,10,11,12,13,14,0,1,2,3,4,5,6,7,8,9,10,11,12,13,14,0,1,2,3,4,5,6,7,8,9,10,11,12,13,14,0,1,2,3,4,5,6,7,8,9,10,11,12,13,14],\"coloraxis\":\"coloraxis\",\"pattern\":{\"shape\":\"\"}},\"name\":\"\",\"offsetgroup\":\"\",\"orientation\":\"h\",\"showlegend\":false,\"textposition\":\"auto\",\"x\":[0.008175193282284615,0.13609292346391447,0.007352125180335146,0.0022749972256131397,0.10116339289017127,0.013178337587393186,0.013539007879258684,0.02395220656234972,0.038674952835423375,0.17915140753893388,0.08472977471978693,0.004198572115562461,0.127538563977361,0.07535234713128398,0.1846261976103281,0.0,0.44364754098360654,0.02663934426229508,0.07889344262295082,0.06557377049180328,0.02663934426229508,0.00819672131147541,0.01331967213114754,0.03278688524590164,0.1403688524590164,0.01639344262295082,0.006147540983606557,0.025614754098360656,0.06864754098360656,0.0471311475409836,0.0,0.3064516129032258,0.0,0.0,0.0967741935483871,0.0,0.0,0.04838709677419355,0.0,0.08064516129032258,0.0,0.0,0.0,0.16129032258064516,0.3064516129032258,0.0,0.36893203883495146,0.0825242718446602,0.0,0.038834951456310676,0.10679611650485436,0.0,0.10679611650485436,0.11165048543689321,0.13106796116504854,0.0,0.014563106796116505,0.024271844660194174,0.009708737864077669,0.0048543689320388345,0.0,0.21052631578947367,0.0,0.0,0.6842105263157895,0.0,0.0,0.05263157894736842,0.0,0.05263157894736842,0.0,0.0,0.0,0.0,0.0,0.0,0.4300254452926209,0.029686174724342665,0.002544529262086514,0.15521628498727735,0.0364715860899067,0.018659881255301103,0.035623409669211195,0.02374893977947413,0.04664970313825276,0.007633587786259542,0.04240882103477523,0.03816793893129771,0.08312128922815945,0.05004240882103478,0.06537102473498234,0.19752650176678446,0.059481743227326266,0.013545347467608953,0.14016489988221437,0.029093050647820966,0.029799764428739692,0.05818610129564193,0.02131919905771496,0.11507656065959952,0.03439340400471143,0.02061248527679623,0.04240282685512368,0.06089517078916372,0.1121319199057715,0.0,0.2785388127853881,0.030441400304414,0.01750380517503805,0.16552511415525115,0.033866057838660577,0.03272450532724505,0.032343987823439876,0.01598173515981735,0.0928462709284627,0.06811263318112633,0.0121765601217656,0.03120243531202435,0.06316590563165905,0.12557077625570776,0.0,0.5116279069767442,0.0,0.0,0.13953488372093023,0.13953488372093023,0.0,0.16279069767441862,0.0,0.046511627906976744,0.0,0.0,0.0,0.0,0.0,0.0,0.40941176470588236,0.04941176470588235,0.05411764705882353,0.009411764705882352,0.07294117647058823,0.0,0.0,0.08705882352941176,0.03529411764705882,0.0,0.02588235294117647,0.007058823529411765,0.17176470588235293,0.07764705882352942,0.0,0.42105263157894735,0.0,0.0,0.0,0.0,0.0,0.0,0.0,0.15789473684210525,0.0,0.0,0.0,0.42105263157894735,0.0,0.008011849458021948,0.1748468322897731,0.005520770214771427,0.0,0.044637446980407995,0.05301959200161584,0.006463340739244597,0.11987477277317714,0.04931663636975695,0.08701945734868377,0.025045445364572812,0.006261361341143203,0.03059987881236114,0.3134046993873292,0.07597791691914091,0.020109024833434283,0.16159903089036948,0.009085402786190187,0.015748031496062992,0.048576620230163535,0.08806783767413688,0.0025439127801332524,0.3490006056935191,0.02047244094488189,0.10708661417322834,0.017928528164748637,0.0037552998182919443,0.07777104784978801,0.023622047244094488,0.054633555420957,0.0,0.4444444444444444,0.0,0.0,0.0,0.0,0.0,0.0,0.0,0.0,0.0,0.0,0.0,0.5555555555555556,0.0,0.00934631743899709,0.15793597492724423,0.002742332661741661,0.0003917618088202373,0.06010745466756212,0.05708529214237743,0.003917618088202373,0.0661517797179315,0.3666330870830535,0.09312737855383926,0.018524736959928362,0.006212222968435191,0.033971345421983434,0.05921199910454444,0.06464069845533915,0.005815577884247234,0.1176774941275081,0.007605782464273518,0.001438372466032679,0.10214514109502572,0.06938336248020945,0.02008547450769374,0.0407400891997889,0.03344474683609797,0.217970342622391,0.06612374142409222,0.004708341525502654,0.13339611122034004,0.05937684323809721,0.12008857890869956,0.0,0.23842195540308747,0.0,0.2169811320754717,0.15008576329331047,0.038593481989708404,0.00686106346483705,0.04030874785591767,0.07890222984562607,0.11234991423670669,0.007718696397941681,0.002572898799313894,0.007718696397941681,0.057461406518010294,0.04202401372212693,0.0,0.23958333333333334,0.0,0.0,0.13541666666666666,0.0,0.0,0.041666666666666664,0.052083333333333336,0.07291666666666667,0.0,0.0,0.020833333333333332,0.07291666666666667,0.3645833333333333,0.28210526315789475,0.25263157894736843,0.05263157894736842,0.0,0.01263157894736842,0.04,0.002105263157894737,0.056842105263157895,0.1368421052631579,0.04,0.01263157894736842,0.05263157894736842,0.0,0.035789473684210524,0.023157894736842106,0.0,0.5348837209302325,0.0,0.0,0.06976744186046512,0.0,0.0,0.023255813953488372,0.046511627906976744,0.20930232558139536,0.046511627906976744,0.0,0.06976744186046512,0.0,0.0,0.0,0.4137205387205387,0.025673400673400674,0.0,0.023148148148148147,0.0016835016835016834,0.007575757575757576,0.03745791245791246,0.05345117845117845,0.11994949494949494,0.007996632996632997,0.005892255892255892,0.04292929292929293,0.08080808080808081,0.17971380471380471,0.00599288777946173,0.12101671074658504,0.009202302061355284,0.0028924350935583885,0.15820233177815418,0.07140946777213159,0.034431864332907396,0.028696522143967985,0.03613562747020891,0.20437233167909818,0.048190742226580686,0.003882995057105782,0.1181044644537557,0.08167166899448258,0.07579764841064654,0.0,0.38572854291417163,0.012974051896207584,0.02445109780439122,0.09580838323353294,0.015968063872255488,0.02445109780439122,0.006986027944111776,0.02445109780439122,0.10728542914171657,0.06487025948103792,0.011477045908183632,0.05389221556886228,0.05289421157684631,0.1187624750499002,0.0,0.11612903225806452,0.0,0.0,0.14838709677419354,0.21935483870967742,0.0,0.05806451612903226,0.012903225806451613,0.2645161290322581,0.012903225806451613,0.0,0.05161290322580645,0.07741935483870968,0.03870967741935484,0.0,0.3181818181818182,0.0,0.0,0.12121212121212122,0.1590909090909091,0.007575757575757576,0.015151515151515152,0.16666666666666666,0.10606060606060606,0.0,0.0,0.0,0.03787878787878788,0.06818181818181818,0.0,1.0,0.0,0.0,0.0,0.0,0.0,0.0,0.0,0.0,0.0,0.0,0.0,0.0,0.0,0.0,0.2929532858273951,0.019002375296912115,0.0,0.09659540775930324,0.030878859857482184,0.026920031670625493,0.04513064133016627,0.035629453681710214,0.06967537608867776,0.01583531274742676,0.09817893903404593,0.007125890736342043,0.14885193982581155,0.11322248614410134,0.026787298208266808,0.2790491396132695,0.01951392584708178,0.010466560227071138,0.116551357104843,0.03122228135533085,0.01720773461060848,0.047897817988291645,0.07982969664715274,0.10413340429306368,0.023594110342380698,0.018626929217668974,0.034592868547099524,0.12630832002838388,0.06421855596948732,0.0443307757885763,0.23870417732310314,0.016027280477408354,0.016709292412617222,0.14083546462063087,0.02011935208866155,0.01329923273657289,0.013469735720375107,0.014833759590792838,0.09428815004262575,0.037851662404092073,0.02608695652173913,0.024211423699914747,0.17289002557544758,0.12634271099744246,0.0,0.4583333333333333,0.0,0.0,0.2916666666666667,0.0,0.0,0.0,0.20833333333333334,0.0,0.0,0.0,0.0,0.0,0.041666666666666664,0.0,0.5252808988764045,0.0,0.02247191011235955,0.042134831460674156,0.0,0.008426966292134831,0.0056179775280898875,0.02247191011235955,0.0702247191011236,0.0,0.1151685393258427,0.014044943820224719,0.13764044943820225,0.03651685393258427,0.0,0.375,0.0,0.0,0.0,0.0,0.0,0.0,0.0,0.0,0.0,0.0,0.375,0.25,0.0,0.0030856451065211935,0.09485775028420415,0.006451803404544314,0.00017716622621174316,0.05050713832253111,0.11078794679107673,0.016638861411719545,0.11974960506695408,0.06215581769595323,0.24679255311295822,0.022603457694181567,0.00214075856672523,0.18175778424106417,0.037337782174124874,0.044955929901229826,0.0,0.16447985004686036,0.0037488284910965324,0.08528584817244611,0.12277413308341144,0.04311152764761012,0.0023430178069353325,0.08481724461105905,0.33973758200562326,0.05154639175257732,0.007029053420805998,0.007029053420805998,0.02436738519212746,0.02858481724461106,0.035145267104029994,0.0,0.31092436974789917,0.0,0.0,0.04201680672268908,0.025210084033613446,0.0,0.3949579831932773,0.008403361344537815,0.01680672268907563,0.0,0.0,0.0,0.01680672268907563,0.18487394957983194,0.01606425702811245,0.20381526104417672,0.02710843373493976,0.0,0.07530120481927711,0.09236947791164658,0.08634538152610442,0.12349397590361445,0.05421686746987952,0.13453815261044177,0.012048192771084338,0.025100401606425703,0.008032128514056224,0.10240963855421686,0.0391566265060241],\"xaxis\":\"x\",\"y\":[\"C\",\"C\",\"C\",\"C\",\"C\",\"C\",\"C\",\"C\",\"C\",\"C\",\"C\",\"C\",\"C\",\"C\",\"C\",\"C#\",\"C#\",\"C#\",\"C#\",\"C#\",\"C#\",\"C#\",\"C#\",\"C#\",\"C#\",\"C#\",\"C#\",\"C#\",\"C#\",\"C#\",\"C#dim\",\"C#dim\",\"C#dim\",\"C#dim\",\"C#dim\",\"C#dim\",\"C#dim\",\"C#dim\",\"C#dim\",\"C#dim\",\"C#dim\",\"C#dim\",\"C#dim\",\"C#dim\",\"C#dim\",\"C#m\",\"C#m\",\"C#m\",\"C#m\",\"C#m\",\"C#m\",\"C#m\",\"C#m\",\"C#m\",\"C#m\",\"C#m\",\"C#m\",\"C#m\",\"C#m\",\"C#m\",\"Cdim\",\"Cdim\",\"Cdim\",\"Cdim\",\"Cdim\",\"Cdim\",\"Cdim\",\"Cdim\",\"Cdim\",\"Cdim\",\"Cdim\",\"Cdim\",\"Cdim\",\"Cdim\",\"Cdim\",\"Cm\",\"Cm\",\"Cm\",\"Cm\",\"Cm\",\"Cm\",\"Cm\",\"Cm\",\"Cm\",\"Cm\",\"Cm\",\"Cm\",\"Cm\",\"Cm\",\"Cm\",\"D\",\"D\",\"D\",\"D\",\"D\",\"D\",\"D\",\"D\",\"D\",\"D\",\"D\",\"D\",\"D\",\"D\",\"D\",\"D#\",\"D#\",\"D#\",\"D#\",\"D#\",\"D#\",\"D#\",\"D#\",\"D#\",\"D#\",\"D#\",\"D#\",\"D#\",\"D#\",\"D#\",\"D#dim\",\"D#dim\",\"D#dim\",\"D#dim\",\"D#dim\",\"D#dim\",\"D#dim\",\"D#dim\",\"D#dim\",\"D#dim\",\"D#dim\",\"D#dim\",\"D#dim\",\"D#dim\",\"D#dim\",\"D#m\",\"D#m\",\"D#m\",\"D#m\",\"D#m\",\"D#m\",\"D#m\",\"D#m\",\"D#m\",\"D#m\",\"D#m\",\"D#m\",\"D#m\",\"D#m\",\"D#m\",\"Ddim\",\"Ddim\",\"Ddim\",\"Ddim\",\"Ddim\",\"Ddim\",\"Ddim\",\"Ddim\",\"Ddim\",\"Ddim\",\"Ddim\",\"Ddim\",\"Ddim\",\"Ddim\",\"Ddim\",\"Dm\",\"Dm\",\"Dm\",\"Dm\",\"Dm\",\"Dm\",\"Dm\",\"Dm\",\"Dm\",\"Dm\",\"Dm\",\"Dm\",\"Dm\",\"Dm\",\"Dm\",\"E\",\"E\",\"E\",\"E\",\"E\",\"E\",\"E\",\"E\",\"E\",\"E\",\"E\",\"E\",\"E\",\"E\",\"E\",\"Edim\",\"Edim\",\"Edim\",\"Edim\",\"Edim\",\"Edim\",\"Edim\",\"Edim\",\"Edim\",\"Edim\",\"Edim\",\"Edim\",\"Edim\",\"Edim\",\"Edim\",\"Em\",\"Em\",\"Em\",\"Em\",\"Em\",\"Em\",\"Em\",\"Em\",\"Em\",\"Em\",\"Em\",\"Em\",\"Em\",\"Em\",\"Em\",\"F\",\"F\",\"F\",\"F\",\"F\",\"F\",\"F\",\"F\",\"F\",\"F\",\"F\",\"F\",\"F\",\"F\",\"F\",\"F#\",\"F#\",\"F#\",\"F#\",\"F#\",\"F#\",\"F#\",\"F#\",\"F#\",\"F#\",\"F#\",\"F#\",\"F#\",\"F#\",\"F#\",\"F#dim\",\"F#dim\",\"F#dim\",\"F#dim\",\"F#dim\",\"F#dim\",\"F#dim\",\"F#dim\",\"F#dim\",\"F#dim\",\"F#dim\",\"F#dim\",\"F#dim\",\"F#dim\",\"F#dim\",\"F#m\",\"F#m\",\"F#m\",\"F#m\",\"F#m\",\"F#m\",\"F#m\",\"F#m\",\"F#m\",\"F#m\",\"F#m\",\"F#m\",\"F#m\",\"F#m\",\"F#m\",\"Fdim\",\"Fdim\",\"Fdim\",\"Fdim\",\"Fdim\",\"Fdim\",\"Fdim\",\"Fdim\",\"Fdim\",\"Fdim\",\"Fdim\",\"Fdim\",\"Fdim\",\"Fdim\",\"Fdim\",\"Fm\",\"Fm\",\"Fm\",\"Fm\",\"Fm\",\"Fm\",\"Fm\",\"Fm\",\"Fm\",\"Fm\",\"Fm\",\"Fm\",\"Fm\",\"Fm\",\"Fm\",\"G\",\"G\",\"G\",\"G\",\"G\",\"G\",\"G\",\"G\",\"G\",\"G\",\"G\",\"G\",\"G\",\"G\",\"G\",\"G#\",\"G#\",\"G#\",\"G#\",\"G#\",\"G#\",\"G#\",\"G#\",\"G#\",\"G#\",\"G#\",\"G#\",\"G#\",\"G#\",\"G#\",\"G#dim\",\"G#dim\",\"G#dim\",\"G#dim\",\"G#dim\",\"G#dim\",\"G#dim\",\"G#dim\",\"G#dim\",\"G#dim\",\"G#dim\",\"G#dim\",\"G#dim\",\"G#dim\",\"G#dim\",\"G#m\",\"G#m\",\"G#m\",\"G#m\",\"G#m\",\"G#m\",\"G#m\",\"G#m\",\"G#m\",\"G#m\",\"G#m\",\"G#m\",\"G#m\",\"G#m\",\"G#m\",\"Gdim\",\"Gdim\",\"Gdim\",\"Gdim\",\"Gdim\",\"Gdim\",\"Gdim\",\"Gdim\",\"Gdim\",\"Gdim\",\"Gdim\",\"Gdim\",\"Gdim\",\"Gdim\",\"Gdim\",\"Gm\",\"Gm\",\"Gm\",\"Gm\",\"Gm\",\"Gm\",\"Gm\",\"Gm\",\"Gm\",\"Gm\",\"Gm\",\"Gm\",\"Gm\",\"Gm\",\"Gm\",\"A\",\"A\",\"A\",\"A\",\"A\",\"A\",\"A\",\"A\",\"A\",\"A\",\"A\",\"A\",\"A\",\"A\",\"A\",\"A#\",\"A#\",\"A#\",\"A#\",\"A#\",\"A#\",\"A#\",\"A#\",\"A#\",\"A#\",\"A#\",\"A#\",\"A#\",\"A#\",\"A#\",\"A#dim\",\"A#dim\",\"A#dim\",\"A#dim\",\"A#dim\",\"A#dim\",\"A#dim\",\"A#dim\",\"A#dim\",\"A#dim\",\"A#dim\",\"A#dim\",\"A#dim\",\"A#dim\",\"A#dim\",\"A#m\",\"A#m\",\"A#m\",\"A#m\",\"A#m\",\"A#m\",\"A#m\",\"A#m\",\"A#m\",\"A#m\",\"A#m\",\"A#m\",\"A#m\",\"A#m\",\"A#m\",\"Adim\",\"Adim\",\"Adim\",\"Adim\",\"Adim\",\"Adim\",\"Adim\",\"Adim\",\"Adim\",\"Adim\",\"Adim\",\"Adim\",\"Adim\",\"Adim\",\"Adim\",\"Am\",\"Am\",\"Am\",\"Am\",\"Am\",\"Am\",\"Am\",\"Am\",\"Am\",\"Am\",\"Am\",\"Am\",\"Am\",\"Am\",\"Am\",\"B\",\"B\",\"B\",\"B\",\"B\",\"B\",\"B\",\"B\",\"B\",\"B\",\"B\",\"B\",\"B\",\"B\",\"B\",\"Bdim\",\"Bdim\",\"Bdim\",\"Bdim\",\"Bdim\",\"Bdim\",\"Bdim\",\"Bdim\",\"Bdim\",\"Bdim\",\"Bdim\",\"Bdim\",\"Bdim\",\"Bdim\",\"Bdim\",\"Bm\",\"Bm\",\"Bm\",\"Bm\",\"Bm\",\"Bm\",\"Bm\",\"Bm\",\"Bm\",\"Bm\",\"Bm\",\"Bm\",\"Bm\",\"Bm\",\"Bm\"],\"yaxis\":\"y\",\"type\":\"bar\"}],                        {\"template\":{\"data\":{\"barpolar\":[{\"marker\":{\"line\":{\"color\":\"rgb(17,17,17)\",\"width\":0.5},\"pattern\":{\"fillmode\":\"overlay\",\"size\":10,\"solidity\":0.2}},\"type\":\"barpolar\"}],\"bar\":[{\"error_x\":{\"color\":\"#f2f5fa\"},\"error_y\":{\"color\":\"#f2f5fa\"},\"marker\":{\"line\":{\"color\":\"rgb(17,17,17)\",\"width\":0.5},\"pattern\":{\"fillmode\":\"overlay\",\"size\":10,\"solidity\":0.2}},\"type\":\"bar\"}],\"carpet\":[{\"aaxis\":{\"endlinecolor\":\"#A2B1C6\",\"gridcolor\":\"#506784\",\"linecolor\":\"#506784\",\"minorgridcolor\":\"#506784\",\"startlinecolor\":\"#A2B1C6\"},\"baxis\":{\"endlinecolor\":\"#A2B1C6\",\"gridcolor\":\"#506784\",\"linecolor\":\"#506784\",\"minorgridcolor\":\"#506784\",\"startlinecolor\":\"#A2B1C6\"},\"type\":\"carpet\"}],\"choropleth\":[{\"colorbar\":{\"outlinewidth\":0,\"ticks\":\"\"},\"type\":\"choropleth\"}],\"contourcarpet\":[{\"colorbar\":{\"outlinewidth\":0,\"ticks\":\"\"},\"type\":\"contourcarpet\"}],\"contour\":[{\"colorbar\":{\"outlinewidth\":0,\"ticks\":\"\"},\"colorscale\":[[0.0,\"#0d0887\"],[0.1111111111111111,\"#46039f\"],[0.2222222222222222,\"#7201a8\"],[0.3333333333333333,\"#9c179e\"],[0.4444444444444444,\"#bd3786\"],[0.5555555555555556,\"#d8576b\"],[0.6666666666666666,\"#ed7953\"],[0.7777777777777778,\"#fb9f3a\"],[0.8888888888888888,\"#fdca26\"],[1.0,\"#f0f921\"]],\"type\":\"contour\"}],\"heatmapgl\":[{\"colorbar\":{\"outlinewidth\":0,\"ticks\":\"\"},\"colorscale\":[[0.0,\"#0d0887\"],[0.1111111111111111,\"#46039f\"],[0.2222222222222222,\"#7201a8\"],[0.3333333333333333,\"#9c179e\"],[0.4444444444444444,\"#bd3786\"],[0.5555555555555556,\"#d8576b\"],[0.6666666666666666,\"#ed7953\"],[0.7777777777777778,\"#fb9f3a\"],[0.8888888888888888,\"#fdca26\"],[1.0,\"#f0f921\"]],\"type\":\"heatmapgl\"}],\"heatmap\":[{\"colorbar\":{\"outlinewidth\":0,\"ticks\":\"\"},\"colorscale\":[[0.0,\"#0d0887\"],[0.1111111111111111,\"#46039f\"],[0.2222222222222222,\"#7201a8\"],[0.3333333333333333,\"#9c179e\"],[0.4444444444444444,\"#bd3786\"],[0.5555555555555556,\"#d8576b\"],[0.6666666666666666,\"#ed7953\"],[0.7777777777777778,\"#fb9f3a\"],[0.8888888888888888,\"#fdca26\"],[1.0,\"#f0f921\"]],\"type\":\"heatmap\"}],\"histogram2dcontour\":[{\"colorbar\":{\"outlinewidth\":0,\"ticks\":\"\"},\"colorscale\":[[0.0,\"#0d0887\"],[0.1111111111111111,\"#46039f\"],[0.2222222222222222,\"#7201a8\"],[0.3333333333333333,\"#9c179e\"],[0.4444444444444444,\"#bd3786\"],[0.5555555555555556,\"#d8576b\"],[0.6666666666666666,\"#ed7953\"],[0.7777777777777778,\"#fb9f3a\"],[0.8888888888888888,\"#fdca26\"],[1.0,\"#f0f921\"]],\"type\":\"histogram2dcontour\"}],\"histogram2d\":[{\"colorbar\":{\"outlinewidth\":0,\"ticks\":\"\"},\"colorscale\":[[0.0,\"#0d0887\"],[0.1111111111111111,\"#46039f\"],[0.2222222222222222,\"#7201a8\"],[0.3333333333333333,\"#9c179e\"],[0.4444444444444444,\"#bd3786\"],[0.5555555555555556,\"#d8576b\"],[0.6666666666666666,\"#ed7953\"],[0.7777777777777778,\"#fb9f3a\"],[0.8888888888888888,\"#fdca26\"],[1.0,\"#f0f921\"]],\"type\":\"histogram2d\"}],\"histogram\":[{\"marker\":{\"pattern\":{\"fillmode\":\"overlay\",\"size\":10,\"solidity\":0.2}},\"type\":\"histogram\"}],\"mesh3d\":[{\"colorbar\":{\"outlinewidth\":0,\"ticks\":\"\"},\"type\":\"mesh3d\"}],\"parcoords\":[{\"line\":{\"colorbar\":{\"outlinewidth\":0,\"ticks\":\"\"}},\"type\":\"parcoords\"}],\"pie\":[{\"automargin\":true,\"type\":\"pie\"}],\"scatter3d\":[{\"line\":{\"colorbar\":{\"outlinewidth\":0,\"ticks\":\"\"}},\"marker\":{\"colorbar\":{\"outlinewidth\":0,\"ticks\":\"\"}},\"type\":\"scatter3d\"}],\"scattercarpet\":[{\"marker\":{\"colorbar\":{\"outlinewidth\":0,\"ticks\":\"\"}},\"type\":\"scattercarpet\"}],\"scattergeo\":[{\"marker\":{\"colorbar\":{\"outlinewidth\":0,\"ticks\":\"\"}},\"type\":\"scattergeo\"}],\"scattergl\":[{\"marker\":{\"line\":{\"color\":\"#283442\"}},\"type\":\"scattergl\"}],\"scattermapbox\":[{\"marker\":{\"colorbar\":{\"outlinewidth\":0,\"ticks\":\"\"}},\"type\":\"scattermapbox\"}],\"scatterpolargl\":[{\"marker\":{\"colorbar\":{\"outlinewidth\":0,\"ticks\":\"\"}},\"type\":\"scatterpolargl\"}],\"scatterpolar\":[{\"marker\":{\"colorbar\":{\"outlinewidth\":0,\"ticks\":\"\"}},\"type\":\"scatterpolar\"}],\"scatter\":[{\"marker\":{\"line\":{\"color\":\"#283442\"}},\"type\":\"scatter\"}],\"scatterternary\":[{\"marker\":{\"colorbar\":{\"outlinewidth\":0,\"ticks\":\"\"}},\"type\":\"scatterternary\"}],\"surface\":[{\"colorbar\":{\"outlinewidth\":0,\"ticks\":\"\"},\"colorscale\":[[0.0,\"#0d0887\"],[0.1111111111111111,\"#46039f\"],[0.2222222222222222,\"#7201a8\"],[0.3333333333333333,\"#9c179e\"],[0.4444444444444444,\"#bd3786\"],[0.5555555555555556,\"#d8576b\"],[0.6666666666666666,\"#ed7953\"],[0.7777777777777778,\"#fb9f3a\"],[0.8888888888888888,\"#fdca26\"],[1.0,\"#f0f921\"]],\"type\":\"surface\"}],\"table\":[{\"cells\":{\"fill\":{\"color\":\"#506784\"},\"line\":{\"color\":\"rgb(17,17,17)\"}},\"header\":{\"fill\":{\"color\":\"#2a3f5f\"},\"line\":{\"color\":\"rgb(17,17,17)\"}},\"type\":\"table\"}]},\"layout\":{\"annotationdefaults\":{\"arrowcolor\":\"#f2f5fa\",\"arrowhead\":0,\"arrowwidth\":1},\"autotypenumbers\":\"strict\",\"coloraxis\":{\"colorbar\":{\"outlinewidth\":0,\"ticks\":\"\"}},\"colorscale\":{\"diverging\":[[0,\"#8e0152\"],[0.1,\"#c51b7d\"],[0.2,\"#de77ae\"],[0.3,\"#f1b6da\"],[0.4,\"#fde0ef\"],[0.5,\"#f7f7f7\"],[0.6,\"#e6f5d0\"],[0.7,\"#b8e186\"],[0.8,\"#7fbc41\"],[0.9,\"#4d9221\"],[1,\"#276419\"]],\"sequential\":[[0.0,\"#0d0887\"],[0.1111111111111111,\"#46039f\"],[0.2222222222222222,\"#7201a8\"],[0.3333333333333333,\"#9c179e\"],[0.4444444444444444,\"#bd3786\"],[0.5555555555555556,\"#d8576b\"],[0.6666666666666666,\"#ed7953\"],[0.7777777777777778,\"#fb9f3a\"],[0.8888888888888888,\"#fdca26\"],[1.0,\"#f0f921\"]],\"sequentialminus\":[[0.0,\"#0d0887\"],[0.1111111111111111,\"#46039f\"],[0.2222222222222222,\"#7201a8\"],[0.3333333333333333,\"#9c179e\"],[0.4444444444444444,\"#bd3786\"],[0.5555555555555556,\"#d8576b\"],[0.6666666666666666,\"#ed7953\"],[0.7777777777777778,\"#fb9f3a\"],[0.8888888888888888,\"#fdca26\"],[1.0,\"#f0f921\"]]},\"colorway\":[\"#636efa\",\"#EF553B\",\"#00cc96\",\"#ab63fa\",\"#FFA15A\",\"#19d3f3\",\"#FF6692\",\"#B6E880\",\"#FF97FF\",\"#FECB52\"],\"font\":{\"color\":\"#f2f5fa\"},\"geo\":{\"bgcolor\":\"rgb(17,17,17)\",\"lakecolor\":\"rgb(17,17,17)\",\"landcolor\":\"rgb(17,17,17)\",\"showlakes\":true,\"showland\":true,\"subunitcolor\":\"#506784\"},\"hoverlabel\":{\"align\":\"left\"},\"hovermode\":\"closest\",\"mapbox\":{\"style\":\"dark\"},\"paper_bgcolor\":\"rgb(17,17,17)\",\"plot_bgcolor\":\"rgb(17,17,17)\",\"polar\":{\"angularaxis\":{\"gridcolor\":\"#506784\",\"linecolor\":\"#506784\",\"ticks\":\"\"},\"bgcolor\":\"rgb(17,17,17)\",\"radialaxis\":{\"gridcolor\":\"#506784\",\"linecolor\":\"#506784\",\"ticks\":\"\"}},\"scene\":{\"xaxis\":{\"backgroundcolor\":\"rgb(17,17,17)\",\"gridcolor\":\"#506784\",\"gridwidth\":2,\"linecolor\":\"#506784\",\"showbackground\":true,\"ticks\":\"\",\"zerolinecolor\":\"#C8D4E3\"},\"yaxis\":{\"backgroundcolor\":\"rgb(17,17,17)\",\"gridcolor\":\"#506784\",\"gridwidth\":2,\"linecolor\":\"#506784\",\"showbackground\":true,\"ticks\":\"\",\"zerolinecolor\":\"#C8D4E3\"},\"zaxis\":{\"backgroundcolor\":\"rgb(17,17,17)\",\"gridcolor\":\"#506784\",\"gridwidth\":2,\"linecolor\":\"#506784\",\"showbackground\":true,\"ticks\":\"\",\"zerolinecolor\":\"#C8D4E3\"}},\"shapedefaults\":{\"line\":{\"color\":\"#f2f5fa\"}},\"sliderdefaults\":{\"bgcolor\":\"#C8D4E3\",\"bordercolor\":\"rgb(17,17,17)\",\"borderwidth\":1,\"tickwidth\":0},\"ternary\":{\"aaxis\":{\"gridcolor\":\"#506784\",\"linecolor\":\"#506784\",\"ticks\":\"\"},\"baxis\":{\"gridcolor\":\"#506784\",\"linecolor\":\"#506784\",\"ticks\":\"\"},\"bgcolor\":\"rgb(17,17,17)\",\"caxis\":{\"gridcolor\":\"#506784\",\"linecolor\":\"#506784\",\"ticks\":\"\"}},\"title\":{\"x\":0.05},\"updatemenudefaults\":{\"bgcolor\":\"#506784\",\"borderwidth\":0},\"xaxis\":{\"automargin\":true,\"gridcolor\":\"#283442\",\"linecolor\":\"#506784\",\"ticks\":\"\",\"title\":{\"standoff\":15},\"zerolinecolor\":\"#283442\",\"zerolinewidth\":2},\"yaxis\":{\"automargin\":true,\"gridcolor\":\"#283442\",\"linecolor\":\"#506784\",\"ticks\":\"\",\"title\":{\"standoff\":15},\"zerolinecolor\":\"#283442\",\"zerolinewidth\":2}}},\"xaxis\":{\"anchor\":\"y\",\"domain\":[0.0,1.0],\"title\":{\"text\":\"ratio\"}},\"yaxis\":{\"anchor\":\"x\",\"domain\":[0.0,1.0],\"title\":{\"text\":\"chord\"}},\"coloraxis\":{\"colorbar\":{\"title\":{\"text\":\"cluster\"}},\"colorscale\":[[0.0,\"#0d0887\"],[0.1111111111111111,\"#46039f\"],[0.2222222222222222,\"#7201a8\"],[0.3333333333333333,\"#9c179e\"],[0.4444444444444444,\"#bd3786\"],[0.5555555555555556,\"#d8576b\"],[0.6666666666666666,\"#ed7953\"],[0.7777777777777778,\"#fb9f3a\"],[0.8888888888888888,\"#fdca26\"],[1.0,\"#f0f921\"]]},\"legend\":{\"tracegroupgap\":0},\"title\":{\"text\":\"Restaurant bills\"},\"barmode\":\"relative\",\"height\":800},                        {\"responsive\": true}                    ).then(function(){\n",
       "                            \n",
       "var gd = document.getElementById('013be7ab-df81-47bb-8396-d0933d711596');\n",
       "var x = new MutationObserver(function (mutations, observer) {{\n",
       "        var display = window.getComputedStyle(gd).display;\n",
       "        if (!display || display === 'none') {{\n",
       "            console.log([gd, 'removed!']);\n",
       "            Plotly.purge(gd);\n",
       "            observer.disconnect();\n",
       "        }}\n",
       "}});\n",
       "\n",
       "// Listen for the removal of the full notebook cells\n",
       "var notebookContainer = gd.closest('#notebook-container');\n",
       "if (notebookContainer) {{\n",
       "    x.observe(notebookContainer, {childList: true});\n",
       "}}\n",
       "\n",
       "// Listen for the clearing of the current output cell\n",
       "var outputEl = gd.closest('.output');\n",
       "if (outputEl) {{\n",
       "    x.observe(outputEl, {childList: true});\n",
       "}}\n",
       "\n",
       "                        })                };                });            </script>        </div>"
      ]
     },
     "metadata": {},
     "output_type": "display_data"
    }
   ],
   "source": [
    "fig = px.bar(clusterChordsRatio, x=\"ratio\", y=\"chord\", color='cluster', orientation='h',\n",
    "             height=800,\n",
    "             template='plotly_dark',\n",
    "             title='Restaurant bills')\n",
    "fig.show()"
   ]
  },
  {
   "cell_type": "code",
   "execution_count": 482,
   "id": "98afad9d-544a-460f-937f-8d81716d4038",
   "metadata": {},
   "outputs": [
    {
     "data": {
      "application/vnd.plotly.v1+json": {
       "config": {
        "plotlyServerURL": "https://plot.ly"
       },
       "data": [
        {
         "alignmentgroup": "True",
         "hovertemplate": "cluster=0<br>ratio=%{x}<br>chord=%{y}<extra></extra>",
         "legendgroup": "0",
         "marker": {
          "color": "#636efa",
          "pattern": {
           "shape": ""
          }
         },
         "name": "0",
         "offsetgroup": "0",
         "orientation": "h",
         "showlegend": true,
         "textposition": "auto",
         "type": "bar",
         "x": [
          0.008175193282284615,
          0,
          0,
          0,
          0,
          0,
          0.06537102473498234,
          0,
          0,
          0,
          0,
          0.008011849458021948,
          0.020109024833434283,
          0,
          0.00934631743899709,
          0.005815577884247234,
          0,
          0,
          0.28210526315789475,
          0,
          0,
          0.00599288777946173,
          0,
          0,
          0,
          0,
          0,
          0.026787298208266808,
          0.0443307757885763,
          0,
          0,
          0,
          0.0030856451065211935,
          0,
          0,
          0.01606425702811245
         ],
         "xaxis": "x",
         "y": [
          "C",
          "C#",
          "C#dim",
          "C#m",
          "Cdim",
          "Cm",
          "D",
          "D#",
          "D#dim",
          "D#m",
          "Ddim",
          "Dm",
          "E",
          "Edim",
          "Em",
          "F",
          "F#",
          "F#dim",
          "F#m",
          "Fdim",
          "Fm",
          "G",
          "G#",
          "G#dim",
          "G#m",
          "Gdim",
          "Gm",
          "A",
          "A#",
          "A#dim",
          "A#m",
          "Adim",
          "Am",
          "B",
          "Bdim",
          "Bm"
         ],
         "yaxis": "y"
        },
        {
         "alignmentgroup": "True",
         "hovertemplate": "cluster=1<br>ratio=%{x}<br>chord=%{y}<extra></extra>",
         "legendgroup": "1",
         "marker": {
          "color": "#EF553B",
          "pattern": {
           "shape": ""
          }
         },
         "name": "1",
         "offsetgroup": "1",
         "orientation": "h",
         "showlegend": true,
         "textposition": "auto",
         "type": "bar",
         "x": [
          0.13609292346391447,
          0.44364754098360654,
          0.3064516129032258,
          0.36893203883495146,
          0.21052631578947367,
          0.4300254452926209,
          0.19752650176678446,
          0.2785388127853881,
          0.5116279069767442,
          0.40941176470588236,
          0.42105263157894735,
          0.1748468322897731,
          0.16159903089036948,
          0.4444444444444444,
          0.15793597492724423,
          0.1176774941275081,
          0.23842195540308747,
          0.23958333333333334,
          0.25263157894736843,
          0.5348837209302325,
          0.4137205387205387,
          0.12101671074658504,
          0.38572854291417163,
          0.11612903225806452,
          0.3181818181818182,
          1,
          0.2929532858273951,
          0.2790491396132695,
          0.23870417732310314,
          0.4583333333333333,
          0.5252808988764045,
          0.375,
          0.09485775028420415,
          0.16447985004686036,
          0.31092436974789917,
          0.20381526104417672
         ],
         "xaxis": "x",
         "y": [
          "C",
          "C#",
          "C#dim",
          "C#m",
          "Cdim",
          "Cm",
          "D",
          "D#",
          "D#dim",
          "D#m",
          "Ddim",
          "Dm",
          "E",
          "Edim",
          "Em",
          "F",
          "F#",
          "F#dim",
          "F#m",
          "Fdim",
          "Fm",
          "G",
          "G#",
          "G#dim",
          "G#m",
          "Gdim",
          "Gm",
          "A",
          "A#",
          "A#dim",
          "A#m",
          "Adim",
          "Am",
          "B",
          "Bdim",
          "Bm"
         ],
         "yaxis": "y"
        },
        {
         "alignmentgroup": "True",
         "hovertemplate": "cluster=2<br>ratio=%{x}<br>chord=%{y}<extra></extra>",
         "legendgroup": "2",
         "marker": {
          "color": "#00cc96",
          "pattern": {
           "shape": ""
          }
         },
         "name": "2",
         "offsetgroup": "2",
         "orientation": "h",
         "showlegend": true,
         "textposition": "auto",
         "type": "bar",
         "x": [
          0.007352125180335146,
          0.02663934426229508,
          0,
          0.0825242718446602,
          0,
          0.029686174724342665,
          0.059481743227326266,
          0.030441400304414,
          0,
          0.04941176470588235,
          0,
          0.005520770214771427,
          0.009085402786190187,
          0,
          0.002742332661741661,
          0.007605782464273518,
          0,
          0,
          0.05263157894736842,
          0,
          0.025673400673400674,
          0.009202302061355284,
          0.012974051896207584,
          0,
          0,
          0,
          0.019002375296912115,
          0.01951392584708178,
          0.016027280477408354,
          0,
          0,
          0,
          0.006451803404544314,
          0.0037488284910965324,
          0,
          0.02710843373493976
         ],
         "xaxis": "x",
         "y": [
          "C",
          "C#",
          "C#dim",
          "C#m",
          "Cdim",
          "Cm",
          "D",
          "D#",
          "D#dim",
          "D#m",
          "Ddim",
          "Dm",
          "E",
          "Edim",
          "Em",
          "F",
          "F#",
          "F#dim",
          "F#m",
          "Fdim",
          "Fm",
          "G",
          "G#",
          "G#dim",
          "G#m",
          "Gdim",
          "Gm",
          "A",
          "A#",
          "A#dim",
          "A#m",
          "Adim",
          "Am",
          "B",
          "Bdim",
          "Bm"
         ],
         "yaxis": "y"
        },
        {
         "alignmentgroup": "True",
         "hovertemplate": "cluster=3<br>ratio=%{x}<br>chord=%{y}<extra></extra>",
         "legendgroup": "3",
         "marker": {
          "color": "#ab63fa",
          "pattern": {
           "shape": ""
          }
         },
         "name": "3",
         "offsetgroup": "3",
         "orientation": "h",
         "showlegend": true,
         "textposition": "auto",
         "type": "bar",
         "x": [
          0.0022749972256131397,
          0.07889344262295082,
          0,
          0,
          0,
          0.002544529262086514,
          0.013545347467608953,
          0.01750380517503805,
          0,
          0.05411764705882353,
          0,
          0,
          0.015748031496062992,
          0,
          0.0003917618088202373,
          0.001438372466032679,
          0.2169811320754717,
          0,
          0,
          0,
          0,
          0.0028924350935583885,
          0.02445109780439122,
          0,
          0,
          0,
          0,
          0.010466560227071138,
          0.016709292412617222,
          0,
          0.02247191011235955,
          0,
          0.00017716622621174316,
          0.08528584817244611,
          0,
          0
         ],
         "xaxis": "x",
         "y": [
          "C",
          "C#",
          "C#dim",
          "C#m",
          "Cdim",
          "Cm",
          "D",
          "D#",
          "D#dim",
          "D#m",
          "Ddim",
          "Dm",
          "E",
          "Edim",
          "Em",
          "F",
          "F#",
          "F#dim",
          "F#m",
          "Fdim",
          "Fm",
          "G",
          "G#",
          "G#dim",
          "G#m",
          "Gdim",
          "Gm",
          "A",
          "A#",
          "A#dim",
          "A#m",
          "Adim",
          "Am",
          "B",
          "Bdim",
          "Bm"
         ],
         "yaxis": "y"
        },
        {
         "alignmentgroup": "True",
         "hovertemplate": "cluster=4<br>ratio=%{x}<br>chord=%{y}<extra></extra>",
         "legendgroup": "4",
         "marker": {
          "color": "#FFA15A",
          "pattern": {
           "shape": ""
          }
         },
         "name": "4",
         "offsetgroup": "4",
         "orientation": "h",
         "showlegend": true,
         "textposition": "auto",
         "type": "bar",
         "x": [
          0.10116339289017127,
          0.06557377049180328,
          0.0967741935483871,
          0.038834951456310676,
          0.6842105263157895,
          0.15521628498727735,
          0.14016489988221437,
          0.16552511415525115,
          0.13953488372093023,
          0.009411764705882352,
          0,
          0.044637446980407995,
          0.048576620230163535,
          0,
          0.06010745466756212,
          0.10214514109502572,
          0.15008576329331047,
          0.13541666666666666,
          0.01263157894736842,
          0.06976744186046512,
          0.023148148148148147,
          0.15820233177815418,
          0.09580838323353294,
          0.14838709677419354,
          0.12121212121212122,
          0,
          0.09659540775930324,
          0.116551357104843,
          0.14083546462063087,
          0.2916666666666667,
          0.042134831460674156,
          0,
          0.05050713832253111,
          0.12277413308341144,
          0.04201680672268908,
          0.07530120481927711
         ],
         "xaxis": "x",
         "y": [
          "C",
          "C#",
          "C#dim",
          "C#m",
          "Cdim",
          "Cm",
          "D",
          "D#",
          "D#dim",
          "D#m",
          "Ddim",
          "Dm",
          "E",
          "Edim",
          "Em",
          "F",
          "F#",
          "F#dim",
          "F#m",
          "Fdim",
          "Fm",
          "G",
          "G#",
          "G#dim",
          "G#m",
          "Gdim",
          "Gm",
          "A",
          "A#",
          "A#dim",
          "A#m",
          "Adim",
          "Am",
          "B",
          "Bdim",
          "Bm"
         ],
         "yaxis": "y"
        },
        {
         "alignmentgroup": "True",
         "hovertemplate": "cluster=5<br>ratio=%{x}<br>chord=%{y}<extra></extra>",
         "legendgroup": "5",
         "marker": {
          "color": "#19d3f3",
          "pattern": {
           "shape": ""
          }
         },
         "name": "5",
         "offsetgroup": "5",
         "orientation": "h",
         "showlegend": true,
         "textposition": "auto",
         "type": "bar",
         "x": [
          0.013178337587393186,
          0.02663934426229508,
          0,
          0.10679611650485436,
          0,
          0.0364715860899067,
          0.029093050647820966,
          0.033866057838660577,
          0.13953488372093023,
          0.07294117647058823,
          0,
          0.05301959200161584,
          0.08806783767413688,
          0,
          0.05708529214237743,
          0.06938336248020945,
          0.038593481989708404,
          0,
          0.04,
          0,
          0.0016835016835016834,
          0.07140946777213159,
          0.015968063872255488,
          0.21935483870967742,
          0.1590909090909091,
          0,
          0.030878859857482184,
          0.03122228135533085,
          0.02011935208866155,
          0,
          0,
          0,
          0.11078794679107673,
          0.04311152764761012,
          0.025210084033613446,
          0.09236947791164658
         ],
         "xaxis": "x",
         "y": [
          "C",
          "C#",
          "C#dim",
          "C#m",
          "Cdim",
          "Cm",
          "D",
          "D#",
          "D#dim",
          "D#m",
          "Ddim",
          "Dm",
          "E",
          "Edim",
          "Em",
          "F",
          "F#",
          "F#dim",
          "F#m",
          "Fdim",
          "Fm",
          "G",
          "G#",
          "G#dim",
          "G#m",
          "Gdim",
          "Gm",
          "A",
          "A#",
          "A#dim",
          "A#m",
          "Adim",
          "Am",
          "B",
          "Bdim",
          "Bm"
         ],
         "yaxis": "y"
        },
        {
         "alignmentgroup": "True",
         "hovertemplate": "cluster=6<br>ratio=%{x}<br>chord=%{y}<extra></extra>",
         "legendgroup": "6",
         "marker": {
          "color": "#FF6692",
          "pattern": {
           "shape": ""
          }
         },
         "name": "6",
         "offsetgroup": "6",
         "orientation": "h",
         "showlegend": true,
         "textposition": "auto",
         "type": "bar",
         "x": [
          0.013539007879258684,
          0.00819672131147541,
          0,
          0,
          0,
          0.018659881255301103,
          0.029799764428739692,
          0.03272450532724505,
          0,
          0,
          0,
          0.006463340739244597,
          0.0025439127801332524,
          0,
          0.003917618088202373,
          0.02008547450769374,
          0.00686106346483705,
          0,
          0.002105263157894737,
          0,
          0.007575757575757576,
          0.034431864332907396,
          0.02445109780439122,
          0,
          0.007575757575757576,
          0,
          0.026920031670625493,
          0.01720773461060848,
          0.01329923273657289,
          0,
          0.008426966292134831,
          0,
          0.016638861411719545,
          0.0023430178069353325,
          0,
          0.08634538152610442
         ],
         "xaxis": "x",
         "y": [
          "C",
          "C#",
          "C#dim",
          "C#m",
          "Cdim",
          "Cm",
          "D",
          "D#",
          "D#dim",
          "D#m",
          "Ddim",
          "Dm",
          "E",
          "Edim",
          "Em",
          "F",
          "F#",
          "F#dim",
          "F#m",
          "Fdim",
          "Fm",
          "G",
          "G#",
          "G#dim",
          "G#m",
          "Gdim",
          "Gm",
          "A",
          "A#",
          "A#dim",
          "A#m",
          "Adim",
          "Am",
          "B",
          "Bdim",
          "Bm"
         ],
         "yaxis": "y"
        },
        {
         "alignmentgroup": "True",
         "hovertemplate": "cluster=7<br>ratio=%{x}<br>chord=%{y}<extra></extra>",
         "legendgroup": "7",
         "marker": {
          "color": "#B6E880",
          "pattern": {
           "shape": ""
          }
         },
         "name": "7",
         "offsetgroup": "7",
         "orientation": "h",
         "showlegend": true,
         "textposition": "auto",
         "type": "bar",
         "x": [
          0.02395220656234972,
          0.01331967213114754,
          0.04838709677419355,
          0.10679611650485436,
          0.05263157894736842,
          0.035623409669211195,
          0.05818610129564193,
          0.032343987823439876,
          0.16279069767441862,
          0,
          0,
          0.11987477277317714,
          0.3490006056935191,
          0,
          0.0661517797179315,
          0.0407400891997889,
          0.04030874785591767,
          0.041666666666666664,
          0.056842105263157895,
          0.023255813953488372,
          0.03745791245791246,
          0.028696522143967985,
          0.006986027944111776,
          0.05806451612903226,
          0.015151515151515152,
          0,
          0.04513064133016627,
          0.047897817988291645,
          0.013469735720375107,
          0,
          0.0056179775280898875,
          0,
          0.11974960506695408,
          0.08481724461105905,
          0.3949579831932773,
          0.12349397590361445
         ],
         "xaxis": "x",
         "y": [
          "C",
          "C#",
          "C#dim",
          "C#m",
          "Cdim",
          "Cm",
          "D",
          "D#",
          "D#dim",
          "D#m",
          "Ddim",
          "Dm",
          "E",
          "Edim",
          "Em",
          "F",
          "F#",
          "F#dim",
          "F#m",
          "Fdim",
          "Fm",
          "G",
          "G#",
          "G#dim",
          "G#m",
          "Gdim",
          "Gm",
          "A",
          "A#",
          "A#dim",
          "A#m",
          "Adim",
          "Am",
          "B",
          "Bdim",
          "Bm"
         ],
         "yaxis": "y"
        },
        {
         "alignmentgroup": "True",
         "hovertemplate": "cluster=8<br>ratio=%{x}<br>chord=%{y}<extra></extra>",
         "legendgroup": "8",
         "marker": {
          "color": "#FF97FF",
          "pattern": {
           "shape": ""
          }
         },
         "name": "8",
         "offsetgroup": "8",
         "orientation": "h",
         "showlegend": true,
         "textposition": "auto",
         "type": "bar",
         "x": [
          0.038674952835423375,
          0.03278688524590164,
          0,
          0.11165048543689321,
          0,
          0.02374893977947413,
          0.02131919905771496,
          0.01598173515981735,
          0,
          0.08705882352941176,
          0,
          0.04931663636975695,
          0.02047244094488189,
          0,
          0.3666330870830535,
          0.03344474683609797,
          0.07890222984562607,
          0.052083333333333336,
          0.1368421052631579,
          0.046511627906976744,
          0.05345117845117845,
          0.03613562747020891,
          0.02445109780439122,
          0.012903225806451613,
          0.16666666666666666,
          0,
          0.035629453681710214,
          0.07982969664715274,
          0.014833759590792838,
          0.20833333333333334,
          0.02247191011235955,
          0,
          0.06215581769595323,
          0.33973758200562326,
          0.008403361344537815,
          0.05421686746987952
         ],
         "xaxis": "x",
         "y": [
          "C",
          "C#",
          "C#dim",
          "C#m",
          "Cdim",
          "Cm",
          "D",
          "D#",
          "D#dim",
          "D#m",
          "Ddim",
          "Dm",
          "E",
          "Edim",
          "Em",
          "F",
          "F#",
          "F#dim",
          "F#m",
          "Fdim",
          "Fm",
          "G",
          "G#",
          "G#dim",
          "G#m",
          "Gdim",
          "Gm",
          "A",
          "A#",
          "A#dim",
          "A#m",
          "Adim",
          "Am",
          "B",
          "Bdim",
          "Bm"
         ],
         "yaxis": "y"
        },
        {
         "alignmentgroup": "True",
         "hovertemplate": "cluster=9<br>ratio=%{x}<br>chord=%{y}<extra></extra>",
         "legendgroup": "9",
         "marker": {
          "color": "#FECB52",
          "pattern": {
           "shape": ""
          }
         },
         "name": "9",
         "offsetgroup": "9",
         "orientation": "h",
         "showlegend": true,
         "textposition": "auto",
         "type": "bar",
         "x": [
          0.17915140753893388,
          0.1403688524590164,
          0.08064516129032258,
          0.13106796116504854,
          0.05263157894736842,
          0.04664970313825276,
          0.11507656065959952,
          0.0928462709284627,
          0.046511627906976744,
          0.03529411764705882,
          0.15789473684210525,
          0.08701945734868377,
          0.10708661417322834,
          0,
          0.09312737855383926,
          0.217970342622391,
          0.11234991423670669,
          0.07291666666666667,
          0.04,
          0.20930232558139536,
          0.11994949494949494,
          0.20437233167909818,
          0.10728542914171657,
          0.2645161290322581,
          0.10606060606060606,
          0,
          0.06967537608867776,
          0.10413340429306368,
          0.09428815004262575,
          0,
          0.0702247191011236,
          0,
          0.24679255311295822,
          0.05154639175257732,
          0.01680672268907563,
          0.13453815261044177
         ],
         "xaxis": "x",
         "y": [
          "C",
          "C#",
          "C#dim",
          "C#m",
          "Cdim",
          "Cm",
          "D",
          "D#",
          "D#dim",
          "D#m",
          "Ddim",
          "Dm",
          "E",
          "Edim",
          "Em",
          "F",
          "F#",
          "F#dim",
          "F#m",
          "Fdim",
          "Fm",
          "G",
          "G#",
          "G#dim",
          "G#m",
          "Gdim",
          "Gm",
          "A",
          "A#",
          "A#dim",
          "A#m",
          "Adim",
          "Am",
          "B",
          "Bdim",
          "Bm"
         ],
         "yaxis": "y"
        },
        {
         "alignmentgroup": "True",
         "hovertemplate": "cluster=10<br>ratio=%{x}<br>chord=%{y}<extra></extra>",
         "legendgroup": "10",
         "marker": {
          "color": "#636efa",
          "pattern": {
           "shape": ""
          }
         },
         "name": "10",
         "offsetgroup": "10",
         "orientation": "h",
         "showlegend": true,
         "textposition": "auto",
         "type": "bar",
         "x": [
          0.08472977471978693,
          0.01639344262295082,
          0,
          0,
          0,
          0.007633587786259542,
          0.03439340400471143,
          0.06811263318112633,
          0,
          0,
          0,
          0.025045445364572812,
          0.017928528164748637,
          0,
          0.018524736959928362,
          0.06612374142409222,
          0.007718696397941681,
          0,
          0.01263157894736842,
          0.046511627906976744,
          0.007996632996632997,
          0.048190742226580686,
          0.06487025948103792,
          0.012903225806451613,
          0,
          0,
          0.01583531274742676,
          0.023594110342380698,
          0.037851662404092073,
          0,
          0,
          0,
          0.022603457694181567,
          0.007029053420805998,
          0,
          0.012048192771084338
         ],
         "xaxis": "x",
         "y": [
          "C",
          "C#",
          "C#dim",
          "C#m",
          "Cdim",
          "Cm",
          "D",
          "D#",
          "D#dim",
          "D#m",
          "Ddim",
          "Dm",
          "E",
          "Edim",
          "Em",
          "F",
          "F#",
          "F#dim",
          "F#m",
          "Fdim",
          "Fm",
          "G",
          "G#",
          "G#dim",
          "G#m",
          "Gdim",
          "Gm",
          "A",
          "A#",
          "A#dim",
          "A#m",
          "Adim",
          "Am",
          "B",
          "Bdim",
          "Bm"
         ],
         "yaxis": "y"
        },
        {
         "alignmentgroup": "True",
         "hovertemplate": "cluster=11<br>ratio=%{x}<br>chord=%{y}<extra></extra>",
         "legendgroup": "11",
         "marker": {
          "color": "#EF553B",
          "pattern": {
           "shape": ""
          }
         },
         "name": "11",
         "offsetgroup": "11",
         "orientation": "h",
         "showlegend": true,
         "textposition": "auto",
         "type": "bar",
         "x": [
          0.004198572115562461,
          0.006147540983606557,
          0,
          0.014563106796116505,
          0,
          0.04240882103477523,
          0.02061248527679623,
          0.0121765601217656,
          0,
          0.02588235294117647,
          0,
          0.006261361341143203,
          0.0037552998182919443,
          0,
          0.006212222968435191,
          0.004708341525502654,
          0.002572898799313894,
          0,
          0.05263157894736842,
          0,
          0.005892255892255892,
          0.003882995057105782,
          0.011477045908183632,
          0,
          0,
          0,
          0.09817893903404593,
          0.018626929217668974,
          0.02608695652173913,
          0,
          0.1151685393258427,
          0,
          0.00214075856672523,
          0.007029053420805998,
          0,
          0.025100401606425703
         ],
         "xaxis": "x",
         "y": [
          "C",
          "C#",
          "C#dim",
          "C#m",
          "Cdim",
          "Cm",
          "D",
          "D#",
          "D#dim",
          "D#m",
          "Ddim",
          "Dm",
          "E",
          "Edim",
          "Em",
          "F",
          "F#",
          "F#dim",
          "F#m",
          "Fdim",
          "Fm",
          "G",
          "G#",
          "G#dim",
          "G#m",
          "Gdim",
          "Gm",
          "A",
          "A#",
          "A#dim",
          "A#m",
          "Adim",
          "Am",
          "B",
          "Bdim",
          "Bm"
         ],
         "yaxis": "y"
        },
        {
         "alignmentgroup": "True",
         "hovertemplate": "cluster=12<br>ratio=%{x}<br>chord=%{y}<extra></extra>",
         "legendgroup": "12",
         "marker": {
          "color": "#00cc96",
          "pattern": {
           "shape": ""
          }
         },
         "name": "12",
         "offsetgroup": "12",
         "orientation": "h",
         "showlegend": true,
         "textposition": "auto",
         "type": "bar",
         "x": [
          0.127538563977361,
          0.025614754098360656,
          0,
          0.024271844660194174,
          0,
          0.03816793893129771,
          0.04240282685512368,
          0.03120243531202435,
          0,
          0.007058823529411765,
          0,
          0.03059987881236114,
          0.07777104784978801,
          0,
          0.033971345421983434,
          0.13339611122034004,
          0.007718696397941681,
          0.020833333333333332,
          0,
          0.06976744186046512,
          0.04292929292929293,
          0.1181044644537557,
          0.05389221556886228,
          0.05161290322580645,
          0,
          0,
          0.007125890736342043,
          0.034592868547099524,
          0.024211423699914747,
          0,
          0.014044943820224719,
          0.375,
          0.18175778424106417,
          0.02436738519212746,
          0,
          0.008032128514056224
         ],
         "xaxis": "x",
         "y": [
          "C",
          "C#",
          "C#dim",
          "C#m",
          "Cdim",
          "Cm",
          "D",
          "D#",
          "D#dim",
          "D#m",
          "Ddim",
          "Dm",
          "E",
          "Edim",
          "Em",
          "F",
          "F#",
          "F#dim",
          "F#m",
          "Fdim",
          "Fm",
          "G",
          "G#",
          "G#dim",
          "G#m",
          "Gdim",
          "Gm",
          "A",
          "A#",
          "A#dim",
          "A#m",
          "Adim",
          "Am",
          "B",
          "Bdim",
          "Bm"
         ],
         "yaxis": "y"
        },
        {
         "alignmentgroup": "True",
         "hovertemplate": "cluster=13<br>ratio=%{x}<br>chord=%{y}<extra></extra>",
         "legendgroup": "13",
         "marker": {
          "color": "#ab63fa",
          "pattern": {
           "shape": ""
          }
         },
         "name": "13",
         "offsetgroup": "13",
         "orientation": "h",
         "showlegend": true,
         "textposition": "auto",
         "type": "bar",
         "x": [
          0.07535234713128398,
          0.06864754098360656,
          0.16129032258064516,
          0.009708737864077669,
          0,
          0.08312128922815945,
          0.06089517078916372,
          0.06316590563165905,
          0,
          0.17176470588235293,
          0.42105263157894735,
          0.3134046993873292,
          0.023622047244094488,
          0.5555555555555556,
          0.05921199910454444,
          0.05937684323809721,
          0.057461406518010294,
          0.07291666666666667,
          0.035789473684210524,
          0,
          0.08080808080808081,
          0.08167166899448258,
          0.05289421157684631,
          0.07741935483870968,
          0.03787878787878788,
          0,
          0.14885193982581155,
          0.12630832002838388,
          0.17289002557544758,
          0,
          0.13764044943820225,
          0.25,
          0.037337782174124874,
          0.02858481724461106,
          0.01680672268907563,
          0.10240963855421686
         ],
         "xaxis": "x",
         "y": [
          "C",
          "C#",
          "C#dim",
          "C#m",
          "Cdim",
          "Cm",
          "D",
          "D#",
          "D#dim",
          "D#m",
          "Ddim",
          "Dm",
          "E",
          "Edim",
          "Em",
          "F",
          "F#",
          "F#dim",
          "F#m",
          "Fdim",
          "Fm",
          "G",
          "G#",
          "G#dim",
          "G#m",
          "Gdim",
          "Gm",
          "A",
          "A#",
          "A#dim",
          "A#m",
          "Adim",
          "Am",
          "B",
          "Bdim",
          "Bm"
         ],
         "yaxis": "y"
        },
        {
         "alignmentgroup": "True",
         "hovertemplate": "cluster=14<br>ratio=%{x}<br>chord=%{y}<extra></extra>",
         "legendgroup": "14",
         "marker": {
          "color": "#FFA15A",
          "pattern": {
           "shape": ""
          }
         },
         "name": "14",
         "offsetgroup": "14",
         "orientation": "h",
         "showlegend": true,
         "textposition": "auto",
         "type": "bar",
         "x": [
          0.1846261976103281,
          0.0471311475409836,
          0.3064516129032258,
          0.0048543689320388345,
          0,
          0.05004240882103478,
          0.1121319199057715,
          0.12557077625570776,
          0,
          0.07764705882352942,
          0,
          0.07597791691914091,
          0.054633555420957,
          0,
          0.06464069845533915,
          0.12008857890869956,
          0.04202401372212693,
          0.3645833333333333,
          0.023157894736842106,
          0,
          0.17971380471380471,
          0.07579764841064654,
          0.1187624750499002,
          0.03870967741935484,
          0.06818181818181818,
          0,
          0.11322248614410134,
          0.06421855596948732,
          0.12634271099744246,
          0.041666666666666664,
          0.03651685393258427,
          0,
          0.044955929901229826,
          0.035145267104029994,
          0.18487394957983194,
          0.0391566265060241
         ],
         "xaxis": "x",
         "y": [
          "C",
          "C#",
          "C#dim",
          "C#m",
          "Cdim",
          "Cm",
          "D",
          "D#",
          "D#dim",
          "D#m",
          "Ddim",
          "Dm",
          "E",
          "Edim",
          "Em",
          "F",
          "F#",
          "F#dim",
          "F#m",
          "Fdim",
          "Fm",
          "G",
          "G#",
          "G#dim",
          "G#m",
          "Gdim",
          "Gm",
          "A",
          "A#",
          "A#dim",
          "A#m",
          "Adim",
          "Am",
          "B",
          "Bdim",
          "Bm"
         ],
         "yaxis": "y"
        }
       ],
       "layout": {
        "autosize": true,
        "barmode": "relative",
        "legend": {
         "title": {
          "text": "cluster"
         },
         "tracegroupgap": 0
        },
        "template": {
         "data": {
          "bar": [
           {
            "error_x": {
             "color": "#f2f5fa"
            },
            "error_y": {
             "color": "#f2f5fa"
            },
            "marker": {
             "line": {
              "color": "rgb(17,17,17)",
              "width": 0.5
             },
             "pattern": {
              "fillmode": "overlay",
              "size": 10,
              "solidity": 0.2
             }
            },
            "type": "bar"
           }
          ],
          "barpolar": [
           {
            "marker": {
             "line": {
              "color": "rgb(17,17,17)",
              "width": 0.5
             },
             "pattern": {
              "fillmode": "overlay",
              "size": 10,
              "solidity": 0.2
             }
            },
            "type": "barpolar"
           }
          ],
          "carpet": [
           {
            "aaxis": {
             "endlinecolor": "#A2B1C6",
             "gridcolor": "#506784",
             "linecolor": "#506784",
             "minorgridcolor": "#506784",
             "startlinecolor": "#A2B1C6"
            },
            "baxis": {
             "endlinecolor": "#A2B1C6",
             "gridcolor": "#506784",
             "linecolor": "#506784",
             "minorgridcolor": "#506784",
             "startlinecolor": "#A2B1C6"
            },
            "type": "carpet"
           }
          ],
          "choropleth": [
           {
            "colorbar": {
             "outlinewidth": 0,
             "ticks": ""
            },
            "type": "choropleth"
           }
          ],
          "contour": [
           {
            "colorbar": {
             "outlinewidth": 0,
             "ticks": ""
            },
            "colorscale": [
             [
              0,
              "#0d0887"
             ],
             [
              0.1111111111111111,
              "#46039f"
             ],
             [
              0.2222222222222222,
              "#7201a8"
             ],
             [
              0.3333333333333333,
              "#9c179e"
             ],
             [
              0.4444444444444444,
              "#bd3786"
             ],
             [
              0.5555555555555556,
              "#d8576b"
             ],
             [
              0.6666666666666666,
              "#ed7953"
             ],
             [
              0.7777777777777778,
              "#fb9f3a"
             ],
             [
              0.8888888888888888,
              "#fdca26"
             ],
             [
              1,
              "#f0f921"
             ]
            ],
            "type": "contour"
           }
          ],
          "contourcarpet": [
           {
            "colorbar": {
             "outlinewidth": 0,
             "ticks": ""
            },
            "type": "contourcarpet"
           }
          ],
          "heatmap": [
           {
            "colorbar": {
             "outlinewidth": 0,
             "ticks": ""
            },
            "colorscale": [
             [
              0,
              "#0d0887"
             ],
             [
              0.1111111111111111,
              "#46039f"
             ],
             [
              0.2222222222222222,
              "#7201a8"
             ],
             [
              0.3333333333333333,
              "#9c179e"
             ],
             [
              0.4444444444444444,
              "#bd3786"
             ],
             [
              0.5555555555555556,
              "#d8576b"
             ],
             [
              0.6666666666666666,
              "#ed7953"
             ],
             [
              0.7777777777777778,
              "#fb9f3a"
             ],
             [
              0.8888888888888888,
              "#fdca26"
             ],
             [
              1,
              "#f0f921"
             ]
            ],
            "type": "heatmap"
           }
          ],
          "heatmapgl": [
           {
            "colorbar": {
             "outlinewidth": 0,
             "ticks": ""
            },
            "colorscale": [
             [
              0,
              "#0d0887"
             ],
             [
              0.1111111111111111,
              "#46039f"
             ],
             [
              0.2222222222222222,
              "#7201a8"
             ],
             [
              0.3333333333333333,
              "#9c179e"
             ],
             [
              0.4444444444444444,
              "#bd3786"
             ],
             [
              0.5555555555555556,
              "#d8576b"
             ],
             [
              0.6666666666666666,
              "#ed7953"
             ],
             [
              0.7777777777777778,
              "#fb9f3a"
             ],
             [
              0.8888888888888888,
              "#fdca26"
             ],
             [
              1,
              "#f0f921"
             ]
            ],
            "type": "heatmapgl"
           }
          ],
          "histogram": [
           {
            "marker": {
             "pattern": {
              "fillmode": "overlay",
              "size": 10,
              "solidity": 0.2
             }
            },
            "type": "histogram"
           }
          ],
          "histogram2d": [
           {
            "colorbar": {
             "outlinewidth": 0,
             "ticks": ""
            },
            "colorscale": [
             [
              0,
              "#0d0887"
             ],
             [
              0.1111111111111111,
              "#46039f"
             ],
             [
              0.2222222222222222,
              "#7201a8"
             ],
             [
              0.3333333333333333,
              "#9c179e"
             ],
             [
              0.4444444444444444,
              "#bd3786"
             ],
             [
              0.5555555555555556,
              "#d8576b"
             ],
             [
              0.6666666666666666,
              "#ed7953"
             ],
             [
              0.7777777777777778,
              "#fb9f3a"
             ],
             [
              0.8888888888888888,
              "#fdca26"
             ],
             [
              1,
              "#f0f921"
             ]
            ],
            "type": "histogram2d"
           }
          ],
          "histogram2dcontour": [
           {
            "colorbar": {
             "outlinewidth": 0,
             "ticks": ""
            },
            "colorscale": [
             [
              0,
              "#0d0887"
             ],
             [
              0.1111111111111111,
              "#46039f"
             ],
             [
              0.2222222222222222,
              "#7201a8"
             ],
             [
              0.3333333333333333,
              "#9c179e"
             ],
             [
              0.4444444444444444,
              "#bd3786"
             ],
             [
              0.5555555555555556,
              "#d8576b"
             ],
             [
              0.6666666666666666,
              "#ed7953"
             ],
             [
              0.7777777777777778,
              "#fb9f3a"
             ],
             [
              0.8888888888888888,
              "#fdca26"
             ],
             [
              1,
              "#f0f921"
             ]
            ],
            "type": "histogram2dcontour"
           }
          ],
          "mesh3d": [
           {
            "colorbar": {
             "outlinewidth": 0,
             "ticks": ""
            },
            "type": "mesh3d"
           }
          ],
          "parcoords": [
           {
            "line": {
             "colorbar": {
              "outlinewidth": 0,
              "ticks": ""
             }
            },
            "type": "parcoords"
           }
          ],
          "pie": [
           {
            "automargin": true,
            "type": "pie"
           }
          ],
          "scatter": [
           {
            "marker": {
             "line": {
              "color": "#283442"
             }
            },
            "type": "scatter"
           }
          ],
          "scatter3d": [
           {
            "line": {
             "colorbar": {
              "outlinewidth": 0,
              "ticks": ""
             }
            },
            "marker": {
             "colorbar": {
              "outlinewidth": 0,
              "ticks": ""
             }
            },
            "type": "scatter3d"
           }
          ],
          "scattercarpet": [
           {
            "marker": {
             "colorbar": {
              "outlinewidth": 0,
              "ticks": ""
             }
            },
            "type": "scattercarpet"
           }
          ],
          "scattergeo": [
           {
            "marker": {
             "colorbar": {
              "outlinewidth": 0,
              "ticks": ""
             }
            },
            "type": "scattergeo"
           }
          ],
          "scattergl": [
           {
            "marker": {
             "line": {
              "color": "#283442"
             }
            },
            "type": "scattergl"
           }
          ],
          "scattermapbox": [
           {
            "marker": {
             "colorbar": {
              "outlinewidth": 0,
              "ticks": ""
             }
            },
            "type": "scattermapbox"
           }
          ],
          "scatterpolar": [
           {
            "marker": {
             "colorbar": {
              "outlinewidth": 0,
              "ticks": ""
             }
            },
            "type": "scatterpolar"
           }
          ],
          "scatterpolargl": [
           {
            "marker": {
             "colorbar": {
              "outlinewidth": 0,
              "ticks": ""
             }
            },
            "type": "scatterpolargl"
           }
          ],
          "scatterternary": [
           {
            "marker": {
             "colorbar": {
              "outlinewidth": 0,
              "ticks": ""
             }
            },
            "type": "scatterternary"
           }
          ],
          "surface": [
           {
            "colorbar": {
             "outlinewidth": 0,
             "ticks": ""
            },
            "colorscale": [
             [
              0,
              "#0d0887"
             ],
             [
              0.1111111111111111,
              "#46039f"
             ],
             [
              0.2222222222222222,
              "#7201a8"
             ],
             [
              0.3333333333333333,
              "#9c179e"
             ],
             [
              0.4444444444444444,
              "#bd3786"
             ],
             [
              0.5555555555555556,
              "#d8576b"
             ],
             [
              0.6666666666666666,
              "#ed7953"
             ],
             [
              0.7777777777777778,
              "#fb9f3a"
             ],
             [
              0.8888888888888888,
              "#fdca26"
             ],
             [
              1,
              "#f0f921"
             ]
            ],
            "type": "surface"
           }
          ],
          "table": [
           {
            "cells": {
             "fill": {
              "color": "#506784"
             },
             "line": {
              "color": "rgb(17,17,17)"
             }
            },
            "header": {
             "fill": {
              "color": "#2a3f5f"
             },
             "line": {
              "color": "rgb(17,17,17)"
             }
            },
            "type": "table"
           }
          ]
         },
         "layout": {
          "annotationdefaults": {
           "arrowcolor": "#f2f5fa",
           "arrowhead": 0,
           "arrowwidth": 1
          },
          "autotypenumbers": "strict",
          "coloraxis": {
           "colorbar": {
            "outlinewidth": 0,
            "ticks": ""
           }
          },
          "colorscale": {
           "diverging": [
            [
             0,
             "#8e0152"
            ],
            [
             0.1,
             "#c51b7d"
            ],
            [
             0.2,
             "#de77ae"
            ],
            [
             0.3,
             "#f1b6da"
            ],
            [
             0.4,
             "#fde0ef"
            ],
            [
             0.5,
             "#f7f7f7"
            ],
            [
             0.6,
             "#e6f5d0"
            ],
            [
             0.7,
             "#b8e186"
            ],
            [
             0.8,
             "#7fbc41"
            ],
            [
             0.9,
             "#4d9221"
            ],
            [
             1,
             "#276419"
            ]
           ],
           "sequential": [
            [
             0,
             "#0d0887"
            ],
            [
             0.1111111111111111,
             "#46039f"
            ],
            [
             0.2222222222222222,
             "#7201a8"
            ],
            [
             0.3333333333333333,
             "#9c179e"
            ],
            [
             0.4444444444444444,
             "#bd3786"
            ],
            [
             0.5555555555555556,
             "#d8576b"
            ],
            [
             0.6666666666666666,
             "#ed7953"
            ],
            [
             0.7777777777777778,
             "#fb9f3a"
            ],
            [
             0.8888888888888888,
             "#fdca26"
            ],
            [
             1,
             "#f0f921"
            ]
           ],
           "sequentialminus": [
            [
             0,
             "#0d0887"
            ],
            [
             0.1111111111111111,
             "#46039f"
            ],
            [
             0.2222222222222222,
             "#7201a8"
            ],
            [
             0.3333333333333333,
             "#9c179e"
            ],
            [
             0.4444444444444444,
             "#bd3786"
            ],
            [
             0.5555555555555556,
             "#d8576b"
            ],
            [
             0.6666666666666666,
             "#ed7953"
            ],
            [
             0.7777777777777778,
             "#fb9f3a"
            ],
            [
             0.8888888888888888,
             "#fdca26"
            ],
            [
             1,
             "#f0f921"
            ]
           ]
          },
          "colorway": [
           "#636efa",
           "#EF553B",
           "#00cc96",
           "#ab63fa",
           "#FFA15A",
           "#19d3f3",
           "#FF6692",
           "#B6E880",
           "#FF97FF",
           "#FECB52"
          ],
          "font": {
           "color": "#f2f5fa"
          },
          "geo": {
           "bgcolor": "rgb(17,17,17)",
           "lakecolor": "rgb(17,17,17)",
           "landcolor": "rgb(17,17,17)",
           "showlakes": true,
           "showland": true,
           "subunitcolor": "#506784"
          },
          "hoverlabel": {
           "align": "left"
          },
          "hovermode": "closest",
          "mapbox": {
           "style": "dark"
          },
          "paper_bgcolor": "rgb(17,17,17)",
          "plot_bgcolor": "rgb(17,17,17)",
          "polar": {
           "angularaxis": {
            "gridcolor": "#506784",
            "linecolor": "#506784",
            "ticks": ""
           },
           "bgcolor": "rgb(17,17,17)",
           "radialaxis": {
            "gridcolor": "#506784",
            "linecolor": "#506784",
            "ticks": ""
           }
          },
          "scene": {
           "xaxis": {
            "backgroundcolor": "rgb(17,17,17)",
            "gridcolor": "#506784",
            "gridwidth": 2,
            "linecolor": "#506784",
            "showbackground": true,
            "ticks": "",
            "zerolinecolor": "#C8D4E3"
           },
           "yaxis": {
            "backgroundcolor": "rgb(17,17,17)",
            "gridcolor": "#506784",
            "gridwidth": 2,
            "linecolor": "#506784",
            "showbackground": true,
            "ticks": "",
            "zerolinecolor": "#C8D4E3"
           },
           "zaxis": {
            "backgroundcolor": "rgb(17,17,17)",
            "gridcolor": "#506784",
            "gridwidth": 2,
            "linecolor": "#506784",
            "showbackground": true,
            "ticks": "",
            "zerolinecolor": "#C8D4E3"
           }
          },
          "shapedefaults": {
           "line": {
            "color": "#f2f5fa"
           }
          },
          "sliderdefaults": {
           "bgcolor": "#C8D4E3",
           "bordercolor": "rgb(17,17,17)",
           "borderwidth": 1,
           "tickwidth": 0
          },
          "ternary": {
           "aaxis": {
            "gridcolor": "#506784",
            "linecolor": "#506784",
            "ticks": ""
           },
           "baxis": {
            "gridcolor": "#506784",
            "linecolor": "#506784",
            "ticks": ""
           },
           "bgcolor": "rgb(17,17,17)",
           "caxis": {
            "gridcolor": "#506784",
            "linecolor": "#506784",
            "ticks": ""
           }
          },
          "title": {
           "x": 0.05
          },
          "updatemenudefaults": {
           "bgcolor": "#506784",
           "borderwidth": 0
          },
          "xaxis": {
           "automargin": true,
           "gridcolor": "#283442",
           "linecolor": "#506784",
           "ticks": "",
           "title": {
            "standoff": 15
           },
           "zerolinecolor": "#283442",
           "zerolinewidth": 2
          },
          "yaxis": {
           "automargin": true,
           "gridcolor": "#283442",
           "linecolor": "#506784",
           "ticks": "",
           "title": {
            "standoff": 15
           },
           "zerolinecolor": "#283442",
           "zerolinewidth": 2
          }
         }
        },
        "title": {
         "text": "Restaurant bills"
        },
        "xaxis": {
         "anchor": "y",
         "autorange": true,
         "domain": [
          0,
          1
         ],
         "range": [
          0,
          1.0526315789473686
         ],
         "title": {
          "text": "ratio"
         },
         "type": "linear"
        },
        "yaxis": {
         "anchor": "x",
         "autorange": true,
         "domain": [
          0,
          1
         ],
         "range": [
          -0.5,
          35.5
         ],
         "title": {
          "text": "chord"
         },
         "type": "category"
        }
       }
      },
      "image/png": "[encoded data removed]",
      "text/html": [
       "<div>                            <div id=\"ef77cab3-2e72-4c6b-822f-0e99685de9a7\" class=\"plotly-graph-div\" style=\"height:800px; width:100%;\"></div>            <script type=\"text/javascript\">                require([\"plotly\"], function(Plotly) {                    window.PLOTLYENV=window.PLOTLYENV || {};                                    if (document.getElementById(\"ef77cab3-2e72-4c6b-822f-0e99685de9a7\")) {                    Plotly.newPlot(                        \"ef77cab3-2e72-4c6b-822f-0e99685de9a7\",                        [{\"alignmentgroup\":\"True\",\"hovertemplate\":\"cluster=0<br>ratio=%{x}<br>chord=%{y}<extra></extra>\",\"legendgroup\":\"0\",\"marker\":{\"color\":\"#636efa\",\"pattern\":{\"shape\":\"\"}},\"name\":\"0\",\"offsetgroup\":\"0\",\"orientation\":\"h\",\"showlegend\":true,\"textposition\":\"auto\",\"x\":[0.008175193282284615,0.0,0.0,0.0,0.0,0.0,0.06537102473498234,0.0,0.0,0.0,0.0,0.008011849458021948,0.020109024833434283,0.0,0.00934631743899709,0.005815577884247234,0.0,0.0,0.28210526315789475,0.0,0.0,0.00599288777946173,0.0,0.0,0.0,0.0,0.0,0.026787298208266808,0.0443307757885763,0.0,0.0,0.0,0.0030856451065211935,0.0,0.0,0.01606425702811245],\"xaxis\":\"x\",\"y\":[\"C\",\"C#\",\"C#dim\",\"C#m\",\"Cdim\",\"Cm\",\"D\",\"D#\",\"D#dim\",\"D#m\",\"Ddim\",\"Dm\",\"E\",\"Edim\",\"Em\",\"F\",\"F#\",\"F#dim\",\"F#m\",\"Fdim\",\"Fm\",\"G\",\"G#\",\"G#dim\",\"G#m\",\"Gdim\",\"Gm\",\"A\",\"A#\",\"A#dim\",\"A#m\",\"Adim\",\"Am\",\"B\",\"Bdim\",\"Bm\"],\"yaxis\":\"y\",\"type\":\"bar\"},{\"alignmentgroup\":\"True\",\"hovertemplate\":\"cluster=1<br>ratio=%{x}<br>chord=%{y}<extra></extra>\",\"legendgroup\":\"1\",\"marker\":{\"color\":\"#EF553B\",\"pattern\":{\"shape\":\"\"}},\"name\":\"1\",\"offsetgroup\":\"1\",\"orientation\":\"h\",\"showlegend\":true,\"textposition\":\"auto\",\"x\":[0.13609292346391447,0.44364754098360654,0.3064516129032258,0.36893203883495146,0.21052631578947367,0.4300254452926209,0.19752650176678446,0.2785388127853881,0.5116279069767442,0.40941176470588236,0.42105263157894735,0.1748468322897731,0.16159903089036948,0.4444444444444444,0.15793597492724423,0.1176774941275081,0.23842195540308747,0.23958333333333334,0.25263157894736843,0.5348837209302325,0.4137205387205387,0.12101671074658504,0.38572854291417163,0.11612903225806452,0.3181818181818182,1.0,0.2929532858273951,0.2790491396132695,0.23870417732310314,0.4583333333333333,0.5252808988764045,0.375,0.09485775028420415,0.16447985004686036,0.31092436974789917,0.20381526104417672],\"xaxis\":\"x\",\"y\":[\"C\",\"C#\",\"C#dim\",\"C#m\",\"Cdim\",\"Cm\",\"D\",\"D#\",\"D#dim\",\"D#m\",\"Ddim\",\"Dm\",\"E\",\"Edim\",\"Em\",\"F\",\"F#\",\"F#dim\",\"F#m\",\"Fdim\",\"Fm\",\"G\",\"G#\",\"G#dim\",\"G#m\",\"Gdim\",\"Gm\",\"A\",\"A#\",\"A#dim\",\"A#m\",\"Adim\",\"Am\",\"B\",\"Bdim\",\"Bm\"],\"yaxis\":\"y\",\"type\":\"bar\"},{\"alignmentgroup\":\"True\",\"hovertemplate\":\"cluster=2<br>ratio=%{x}<br>chord=%{y}<extra></extra>\",\"legendgroup\":\"2\",\"marker\":{\"color\":\"#00cc96\",\"pattern\":{\"shape\":\"\"}},\"name\":\"2\",\"offsetgroup\":\"2\",\"orientation\":\"h\",\"showlegend\":true,\"textposition\":\"auto\",\"x\":[0.007352125180335146,0.02663934426229508,0.0,0.0825242718446602,0.0,0.029686174724342665,0.059481743227326266,0.030441400304414,0.0,0.04941176470588235,0.0,0.005520770214771427,0.009085402786190187,0.0,0.002742332661741661,0.007605782464273518,0.0,0.0,0.05263157894736842,0.0,0.025673400673400674,0.009202302061355284,0.012974051896207584,0.0,0.0,0.0,0.019002375296912115,0.01951392584708178,0.016027280477408354,0.0,0.0,0.0,0.006451803404544314,0.0037488284910965324,0.0,0.02710843373493976],\"xaxis\":\"x\",\"y\":[\"C\",\"C#\",\"C#dim\",\"C#m\",\"Cdim\",\"Cm\",\"D\",\"D#\",\"D#dim\",\"D#m\",\"Ddim\",\"Dm\",\"E\",\"Edim\",\"Em\",\"F\",\"F#\",\"F#dim\",\"F#m\",\"Fdim\",\"Fm\",\"G\",\"G#\",\"G#dim\",\"G#m\",\"Gdim\",\"Gm\",\"A\",\"A#\",\"A#dim\",\"A#m\",\"Adim\",\"Am\",\"B\",\"Bdim\",\"Bm\"],\"yaxis\":\"y\",\"type\":\"bar\"},{\"alignmentgroup\":\"True\",\"hovertemplate\":\"cluster=3<br>ratio=%{x}<br>chord=%{y}<extra></extra>\",\"legendgroup\":\"3\",\"marker\":{\"color\":\"#ab63fa\",\"pattern\":{\"shape\":\"\"}},\"name\":\"3\",\"offsetgroup\":\"3\",\"orientation\":\"h\",\"showlegend\":true,\"textposition\":\"auto\",\"x\":[0.0022749972256131397,0.07889344262295082,0.0,0.0,0.0,0.002544529262086514,0.013545347467608953,0.01750380517503805,0.0,0.05411764705882353,0.0,0.0,0.015748031496062992,0.0,0.0003917618088202373,0.001438372466032679,0.2169811320754717,0.0,0.0,0.0,0.0,0.0028924350935583885,0.02445109780439122,0.0,0.0,0.0,0.0,0.010466560227071138,0.016709292412617222,0.0,0.02247191011235955,0.0,0.00017716622621174316,0.08528584817244611,0.0,0.0],\"xaxis\":\"x\",\"y\":[\"C\",\"C#\",\"C#dim\",\"C#m\",\"Cdim\",\"Cm\",\"D\",\"D#\",\"D#dim\",\"D#m\",\"Ddim\",\"Dm\",\"E\",\"Edim\",\"Em\",\"F\",\"F#\",\"F#dim\",\"F#m\",\"Fdim\",\"Fm\",\"G\",\"G#\",\"G#dim\",\"G#m\",\"Gdim\",\"Gm\",\"A\",\"A#\",\"A#dim\",\"A#m\",\"Adim\",\"Am\",\"B\",\"Bdim\",\"Bm\"],\"yaxis\":\"y\",\"type\":\"bar\"},{\"alignmentgroup\":\"True\",\"hovertemplate\":\"cluster=4<br>ratio=%{x}<br>chord=%{y}<extra></extra>\",\"legendgroup\":\"4\",\"marker\":{\"color\":\"#FFA15A\",\"pattern\":{\"shape\":\"\"}},\"name\":\"4\",\"offsetgroup\":\"4\",\"orientation\":\"h\",\"showlegend\":true,\"textposition\":\"auto\",\"x\":[0.10116339289017127,0.06557377049180328,0.0967741935483871,0.038834951456310676,0.6842105263157895,0.15521628498727735,0.14016489988221437,0.16552511415525115,0.13953488372093023,0.009411764705882352,0.0,0.044637446980407995,0.048576620230163535,0.0,0.06010745466756212,0.10214514109502572,0.15008576329331047,0.13541666666666666,0.01263157894736842,0.06976744186046512,0.023148148148148147,0.15820233177815418,0.09580838323353294,0.14838709677419354,0.12121212121212122,0.0,0.09659540775930324,0.116551357104843,0.14083546462063087,0.2916666666666667,0.042134831460674156,0.0,0.05050713832253111,0.12277413308341144,0.04201680672268908,0.07530120481927711],\"xaxis\":\"x\",\"y\":[\"C\",\"C#\",\"C#dim\",\"C#m\",\"Cdim\",\"Cm\",\"D\",\"D#\",\"D#dim\",\"D#m\",\"Ddim\",\"Dm\",\"E\",\"Edim\",\"Em\",\"F\",\"F#\",\"F#dim\",\"F#m\",\"Fdim\",\"Fm\",\"G\",\"G#\",\"G#dim\",\"G#m\",\"Gdim\",\"Gm\",\"A\",\"A#\",\"A#dim\",\"A#m\",\"Adim\",\"Am\",\"B\",\"Bdim\",\"Bm\"],\"yaxis\":\"y\",\"type\":\"bar\"},{\"alignmentgroup\":\"True\",\"hovertemplate\":\"cluster=5<br>ratio=%{x}<br>chord=%{y}<extra></extra>\",\"legendgroup\":\"5\",\"marker\":{\"color\":\"#19d3f3\",\"pattern\":{\"shape\":\"\"}},\"name\":\"5\",\"offsetgroup\":\"5\",\"orientation\":\"h\",\"showlegend\":true,\"textposition\":\"auto\",\"x\":[0.013178337587393186,0.02663934426229508,0.0,0.10679611650485436,0.0,0.0364715860899067,0.029093050647820966,0.033866057838660577,0.13953488372093023,0.07294117647058823,0.0,0.05301959200161584,0.08806783767413688,0.0,0.05708529214237743,0.06938336248020945,0.038593481989708404,0.0,0.04,0.0,0.0016835016835016834,0.07140946777213159,0.015968063872255488,0.21935483870967742,0.1590909090909091,0.0,0.030878859857482184,0.03122228135533085,0.02011935208866155,0.0,0.0,0.0,0.11078794679107673,0.04311152764761012,0.025210084033613446,0.09236947791164658],\"xaxis\":\"x\",\"y\":[\"C\",\"C#\",\"C#dim\",\"C#m\",\"Cdim\",\"Cm\",\"D\",\"D#\",\"D#dim\",\"D#m\",\"Ddim\",\"Dm\",\"E\",\"Edim\",\"Em\",\"F\",\"F#\",\"F#dim\",\"F#m\",\"Fdim\",\"Fm\",\"G\",\"G#\",\"G#dim\",\"G#m\",\"Gdim\",\"Gm\",\"A\",\"A#\",\"A#dim\",\"A#m\",\"Adim\",\"Am\",\"B\",\"Bdim\",\"Bm\"],\"yaxis\":\"y\",\"type\":\"bar\"},{\"alignmentgroup\":\"True\",\"hovertemplate\":\"cluster=6<br>ratio=%{x}<br>chord=%{y}<extra></extra>\",\"legendgroup\":\"6\",\"marker\":{\"color\":\"#FF6692\",\"pattern\":{\"shape\":\"\"}},\"name\":\"6\",\"offsetgroup\":\"6\",\"orientation\":\"h\",\"showlegend\":true,\"textposition\":\"auto\",\"x\":[0.013539007879258684,0.00819672131147541,0.0,0.0,0.0,0.018659881255301103,0.029799764428739692,0.03272450532724505,0.0,0.0,0.0,0.006463340739244597,0.0025439127801332524,0.0,0.003917618088202373,0.02008547450769374,0.00686106346483705,0.0,0.002105263157894737,0.0,0.007575757575757576,0.034431864332907396,0.02445109780439122,0.0,0.007575757575757576,0.0,0.026920031670625493,0.01720773461060848,0.01329923273657289,0.0,0.008426966292134831,0.0,0.016638861411719545,0.0023430178069353325,0.0,0.08634538152610442],\"xaxis\":\"x\",\"y\":[\"C\",\"C#\",\"C#dim\",\"C#m\",\"Cdim\",\"Cm\",\"D\",\"D#\",\"D#dim\",\"D#m\",\"Ddim\",\"Dm\",\"E\",\"Edim\",\"Em\",\"F\",\"F#\",\"F#dim\",\"F#m\",\"Fdim\",\"Fm\",\"G\",\"G#\",\"G#dim\",\"G#m\",\"Gdim\",\"Gm\",\"A\",\"A#\",\"A#dim\",\"A#m\",\"Adim\",\"Am\",\"B\",\"Bdim\",\"Bm\"],\"yaxis\":\"y\",\"type\":\"bar\"},{\"alignmentgroup\":\"True\",\"hovertemplate\":\"cluster=7<br>ratio=%{x}<br>chord=%{y}<extra></extra>\",\"legendgroup\":\"7\",\"marker\":{\"color\":\"#B6E880\",\"pattern\":{\"shape\":\"\"}},\"name\":\"7\",\"offsetgroup\":\"7\",\"orientation\":\"h\",\"showlegend\":true,\"textposition\":\"auto\",\"x\":[0.02395220656234972,0.01331967213114754,0.04838709677419355,0.10679611650485436,0.05263157894736842,0.035623409669211195,0.05818610129564193,0.032343987823439876,0.16279069767441862,0.0,0.0,0.11987477277317714,0.3490006056935191,0.0,0.0661517797179315,0.0407400891997889,0.04030874785591767,0.041666666666666664,0.056842105263157895,0.023255813953488372,0.03745791245791246,0.028696522143967985,0.006986027944111776,0.05806451612903226,0.015151515151515152,0.0,0.04513064133016627,0.047897817988291645,0.013469735720375107,0.0,0.0056179775280898875,0.0,0.11974960506695408,0.08481724461105905,0.3949579831932773,0.12349397590361445],\"xaxis\":\"x\",\"y\":[\"C\",\"C#\",\"C#dim\",\"C#m\",\"Cdim\",\"Cm\",\"D\",\"D#\",\"D#dim\",\"D#m\",\"Ddim\",\"Dm\",\"E\",\"Edim\",\"Em\",\"F\",\"F#\",\"F#dim\",\"F#m\",\"Fdim\",\"Fm\",\"G\",\"G#\",\"G#dim\",\"G#m\",\"Gdim\",\"Gm\",\"A\",\"A#\",\"A#dim\",\"A#m\",\"Adim\",\"Am\",\"B\",\"Bdim\",\"Bm\"],\"yaxis\":\"y\",\"type\":\"bar\"},{\"alignmentgroup\":\"True\",\"hovertemplate\":\"cluster=8<br>ratio=%{x}<br>chord=%{y}<extra></extra>\",\"legendgroup\":\"8\",\"marker\":{\"color\":\"#FF97FF\",\"pattern\":{\"shape\":\"\"}},\"name\":\"8\",\"offsetgroup\":\"8\",\"orientation\":\"h\",\"showlegend\":true,\"textposition\":\"auto\",\"x\":[0.038674952835423375,0.03278688524590164,0.0,0.11165048543689321,0.0,0.02374893977947413,0.02131919905771496,0.01598173515981735,0.0,0.08705882352941176,0.0,0.04931663636975695,0.02047244094488189,0.0,0.3666330870830535,0.03344474683609797,0.07890222984562607,0.052083333333333336,0.1368421052631579,0.046511627906976744,0.05345117845117845,0.03613562747020891,0.02445109780439122,0.012903225806451613,0.16666666666666666,0.0,0.035629453681710214,0.07982969664715274,0.014833759590792838,0.20833333333333334,0.02247191011235955,0.0,0.06215581769595323,0.33973758200562326,0.008403361344537815,0.05421686746987952],\"xaxis\":\"x\",\"y\":[\"C\",\"C#\",\"C#dim\",\"C#m\",\"Cdim\",\"Cm\",\"D\",\"D#\",\"D#dim\",\"D#m\",\"Ddim\",\"Dm\",\"E\",\"Edim\",\"Em\",\"F\",\"F#\",\"F#dim\",\"F#m\",\"Fdim\",\"Fm\",\"G\",\"G#\",\"G#dim\",\"G#m\",\"Gdim\",\"Gm\",\"A\",\"A#\",\"A#dim\",\"A#m\",\"Adim\",\"Am\",\"B\",\"Bdim\",\"Bm\"],\"yaxis\":\"y\",\"type\":\"bar\"},{\"alignmentgroup\":\"True\",\"hovertemplate\":\"cluster=9<br>ratio=%{x}<br>chord=%{y}<extra></extra>\",\"legendgroup\":\"9\",\"marker\":{\"color\":\"#FECB52\",\"pattern\":{\"shape\":\"\"}},\"name\":\"9\",\"offsetgroup\":\"9\",\"orientation\":\"h\",\"showlegend\":true,\"textposition\":\"auto\",\"x\":[0.17915140753893388,0.1403688524590164,0.08064516129032258,0.13106796116504854,0.05263157894736842,0.04664970313825276,0.11507656065959952,0.0928462709284627,0.046511627906976744,0.03529411764705882,0.15789473684210525,0.08701945734868377,0.10708661417322834,0.0,0.09312737855383926,0.217970342622391,0.11234991423670669,0.07291666666666667,0.04,0.20930232558139536,0.11994949494949494,0.20437233167909818,0.10728542914171657,0.2645161290322581,0.10606060606060606,0.0,0.06967537608867776,0.10413340429306368,0.09428815004262575,0.0,0.0702247191011236,0.0,0.24679255311295822,0.05154639175257732,0.01680672268907563,0.13453815261044177],\"xaxis\":\"x\",\"y\":[\"C\",\"C#\",\"C#dim\",\"C#m\",\"Cdim\",\"Cm\",\"D\",\"D#\",\"D#dim\",\"D#m\",\"Ddim\",\"Dm\",\"E\",\"Edim\",\"Em\",\"F\",\"F#\",\"F#dim\",\"F#m\",\"Fdim\",\"Fm\",\"G\",\"G#\",\"G#dim\",\"G#m\",\"Gdim\",\"Gm\",\"A\",\"A#\",\"A#dim\",\"A#m\",\"Adim\",\"Am\",\"B\",\"Bdim\",\"Bm\"],\"yaxis\":\"y\",\"type\":\"bar\"},{\"alignmentgroup\":\"True\",\"hovertemplate\":\"cluster=10<br>ratio=%{x}<br>chord=%{y}<extra></extra>\",\"legendgroup\":\"10\",\"marker\":{\"color\":\"#636efa\",\"pattern\":{\"shape\":\"\"}},\"name\":\"10\",\"offsetgroup\":\"10\",\"orientation\":\"h\",\"showlegend\":true,\"textposition\":\"auto\",\"x\":[0.08472977471978693,0.01639344262295082,0.0,0.0,0.0,0.007633587786259542,0.03439340400471143,0.06811263318112633,0.0,0.0,0.0,0.025045445364572812,0.017928528164748637,0.0,0.018524736959928362,0.06612374142409222,0.007718696397941681,0.0,0.01263157894736842,0.046511627906976744,0.007996632996632997,0.048190742226580686,0.06487025948103792,0.012903225806451613,0.0,0.0,0.01583531274742676,0.023594110342380698,0.037851662404092073,0.0,0.0,0.0,0.022603457694181567,0.007029053420805998,0.0,0.012048192771084338],\"xaxis\":\"x\",\"y\":[\"C\",\"C#\",\"C#dim\",\"C#m\",\"Cdim\",\"Cm\",\"D\",\"D#\",\"D#dim\",\"D#m\",\"Ddim\",\"Dm\",\"E\",\"Edim\",\"Em\",\"F\",\"F#\",\"F#dim\",\"F#m\",\"Fdim\",\"Fm\",\"G\",\"G#\",\"G#dim\",\"G#m\",\"Gdim\",\"Gm\",\"A\",\"A#\",\"A#dim\",\"A#m\",\"Adim\",\"Am\",\"B\",\"Bdim\",\"Bm\"],\"yaxis\":\"y\",\"type\":\"bar\"},{\"alignmentgroup\":\"True\",\"hovertemplate\":\"cluster=11<br>ratio=%{x}<br>chord=%{y}<extra></extra>\",\"legendgroup\":\"11\",\"marker\":{\"color\":\"#EF553B\",\"pattern\":{\"shape\":\"\"}},\"name\":\"11\",\"offsetgroup\":\"11\",\"orientation\":\"h\",\"showlegend\":true,\"textposition\":\"auto\",\"x\":[0.004198572115562461,0.006147540983606557,0.0,0.014563106796116505,0.0,0.04240882103477523,0.02061248527679623,0.0121765601217656,0.0,0.02588235294117647,0.0,0.006261361341143203,0.0037552998182919443,0.0,0.006212222968435191,0.004708341525502654,0.002572898799313894,0.0,0.05263157894736842,0.0,0.005892255892255892,0.003882995057105782,0.011477045908183632,0.0,0.0,0.0,0.09817893903404593,0.018626929217668974,0.02608695652173913,0.0,0.1151685393258427,0.0,0.00214075856672523,0.007029053420805998,0.0,0.025100401606425703],\"xaxis\":\"x\",\"y\":[\"C\",\"C#\",\"C#dim\",\"C#m\",\"Cdim\",\"Cm\",\"D\",\"D#\",\"D#dim\",\"D#m\",\"Ddim\",\"Dm\",\"E\",\"Edim\",\"Em\",\"F\",\"F#\",\"F#dim\",\"F#m\",\"Fdim\",\"Fm\",\"G\",\"G#\",\"G#dim\",\"G#m\",\"Gdim\",\"Gm\",\"A\",\"A#\",\"A#dim\",\"A#m\",\"Adim\",\"Am\",\"B\",\"Bdim\",\"Bm\"],\"yaxis\":\"y\",\"type\":\"bar\"},{\"alignmentgroup\":\"True\",\"hovertemplate\":\"cluster=12<br>ratio=%{x}<br>chord=%{y}<extra></extra>\",\"legendgroup\":\"12\",\"marker\":{\"color\":\"#00cc96\",\"pattern\":{\"shape\":\"\"}},\"name\":\"12\",\"offsetgroup\":\"12\",\"orientation\":\"h\",\"showlegend\":true,\"textposition\":\"auto\",\"x\":[0.127538563977361,0.025614754098360656,0.0,0.024271844660194174,0.0,0.03816793893129771,0.04240282685512368,0.03120243531202435,0.0,0.007058823529411765,0.0,0.03059987881236114,0.07777104784978801,0.0,0.033971345421983434,0.13339611122034004,0.007718696397941681,0.020833333333333332,0.0,0.06976744186046512,0.04292929292929293,0.1181044644537557,0.05389221556886228,0.05161290322580645,0.0,0.0,0.007125890736342043,0.034592868547099524,0.024211423699914747,0.0,0.014044943820224719,0.375,0.18175778424106417,0.02436738519212746,0.0,0.008032128514056224],\"xaxis\":\"x\",\"y\":[\"C\",\"C#\",\"C#dim\",\"C#m\",\"Cdim\",\"Cm\",\"D\",\"D#\",\"D#dim\",\"D#m\",\"Ddim\",\"Dm\",\"E\",\"Edim\",\"Em\",\"F\",\"F#\",\"F#dim\",\"F#m\",\"Fdim\",\"Fm\",\"G\",\"G#\",\"G#dim\",\"G#m\",\"Gdim\",\"Gm\",\"A\",\"A#\",\"A#dim\",\"A#m\",\"Adim\",\"Am\",\"B\",\"Bdim\",\"Bm\"],\"yaxis\":\"y\",\"type\":\"bar\"},{\"alignmentgroup\":\"True\",\"hovertemplate\":\"cluster=13<br>ratio=%{x}<br>chord=%{y}<extra></extra>\",\"legendgroup\":\"13\",\"marker\":{\"color\":\"#ab63fa\",\"pattern\":{\"shape\":\"\"}},\"name\":\"13\",\"offsetgroup\":\"13\",\"orientation\":\"h\",\"showlegend\":true,\"textposition\":\"auto\",\"x\":[0.07535234713128398,0.06864754098360656,0.16129032258064516,0.009708737864077669,0.0,0.08312128922815945,0.06089517078916372,0.06316590563165905,0.0,0.17176470588235293,0.42105263157894735,0.3134046993873292,0.023622047244094488,0.5555555555555556,0.05921199910454444,0.05937684323809721,0.057461406518010294,0.07291666666666667,0.035789473684210524,0.0,0.08080808080808081,0.08167166899448258,0.05289421157684631,0.07741935483870968,0.03787878787878788,0.0,0.14885193982581155,0.12630832002838388,0.17289002557544758,0.0,0.13764044943820225,0.25,0.037337782174124874,0.02858481724461106,0.01680672268907563,0.10240963855421686],\"xaxis\":\"x\",\"y\":[\"C\",\"C#\",\"C#dim\",\"C#m\",\"Cdim\",\"Cm\",\"D\",\"D#\",\"D#dim\",\"D#m\",\"Ddim\",\"Dm\",\"E\",\"Edim\",\"Em\",\"F\",\"F#\",\"F#dim\",\"F#m\",\"Fdim\",\"Fm\",\"G\",\"G#\",\"G#dim\",\"G#m\",\"Gdim\",\"Gm\",\"A\",\"A#\",\"A#dim\",\"A#m\",\"Adim\",\"Am\",\"B\",\"Bdim\",\"Bm\"],\"yaxis\":\"y\",\"type\":\"bar\"},{\"alignmentgroup\":\"True\",\"hovertemplate\":\"cluster=14<br>ratio=%{x}<br>chord=%{y}<extra></extra>\",\"legendgroup\":\"14\",\"marker\":{\"color\":\"#FFA15A\",\"pattern\":{\"shape\":\"\"}},\"name\":\"14\",\"offsetgroup\":\"14\",\"orientation\":\"h\",\"showlegend\":true,\"textposition\":\"auto\",\"x\":[0.1846261976103281,0.0471311475409836,0.3064516129032258,0.0048543689320388345,0.0,0.05004240882103478,0.1121319199057715,0.12557077625570776,0.0,0.07764705882352942,0.0,0.07597791691914091,0.054633555420957,0.0,0.06464069845533915,0.12008857890869956,0.04202401372212693,0.3645833333333333,0.023157894736842106,0.0,0.17971380471380471,0.07579764841064654,0.1187624750499002,0.03870967741935484,0.06818181818181818,0.0,0.11322248614410134,0.06421855596948732,0.12634271099744246,0.041666666666666664,0.03651685393258427,0.0,0.044955929901229826,0.035145267104029994,0.18487394957983194,0.0391566265060241],\"xaxis\":\"x\",\"y\":[\"C\",\"C#\",\"C#dim\",\"C#m\",\"Cdim\",\"Cm\",\"D\",\"D#\",\"D#dim\",\"D#m\",\"Ddim\",\"Dm\",\"E\",\"Edim\",\"Em\",\"F\",\"F#\",\"F#dim\",\"F#m\",\"Fdim\",\"Fm\",\"G\",\"G#\",\"G#dim\",\"G#m\",\"Gdim\",\"Gm\",\"A\",\"A#\",\"A#dim\",\"A#m\",\"Adim\",\"Am\",\"B\",\"Bdim\",\"Bm\"],\"yaxis\":\"y\",\"type\":\"bar\"}],                        {\"template\":{\"data\":{\"barpolar\":[{\"marker\":{\"line\":{\"color\":\"rgb(17,17,17)\",\"width\":0.5},\"pattern\":{\"fillmode\":\"overlay\",\"size\":10,\"solidity\":0.2}},\"type\":\"barpolar\"}],\"bar\":[{\"error_x\":{\"color\":\"#f2f5fa\"},\"error_y\":{\"color\":\"#f2f5fa\"},\"marker\":{\"line\":{\"color\":\"rgb(17,17,17)\",\"width\":0.5},\"pattern\":{\"fillmode\":\"overlay\",\"size\":10,\"solidity\":0.2}},\"type\":\"bar\"}],\"carpet\":[{\"aaxis\":{\"endlinecolor\":\"#A2B1C6\",\"gridcolor\":\"#506784\",\"linecolor\":\"#506784\",\"minorgridcolor\":\"#506784\",\"startlinecolor\":\"#A2B1C6\"},\"baxis\":{\"endlinecolor\":\"#A2B1C6\",\"gridcolor\":\"#506784\",\"linecolor\":\"#506784\",\"minorgridcolor\":\"#506784\",\"startlinecolor\":\"#A2B1C6\"},\"type\":\"carpet\"}],\"choropleth\":[{\"colorbar\":{\"outlinewidth\":0,\"ticks\":\"\"},\"type\":\"choropleth\"}],\"contourcarpet\":[{\"colorbar\":{\"outlinewidth\":0,\"ticks\":\"\"},\"type\":\"contourcarpet\"}],\"contour\":[{\"colorbar\":{\"outlinewidth\":0,\"ticks\":\"\"},\"colorscale\":[[0.0,\"#0d0887\"],[0.1111111111111111,\"#46039f\"],[0.2222222222222222,\"#7201a8\"],[0.3333333333333333,\"#9c179e\"],[0.4444444444444444,\"#bd3786\"],[0.5555555555555556,\"#d8576b\"],[0.6666666666666666,\"#ed7953\"],[0.7777777777777778,\"#fb9f3a\"],[0.8888888888888888,\"#fdca26\"],[1.0,\"#f0f921\"]],\"type\":\"contour\"}],\"heatmapgl\":[{\"colorbar\":{\"outlinewidth\":0,\"ticks\":\"\"},\"colorscale\":[[0.0,\"#0d0887\"],[0.1111111111111111,\"#46039f\"],[0.2222222222222222,\"#7201a8\"],[0.3333333333333333,\"#9c179e\"],[0.4444444444444444,\"#bd3786\"],[0.5555555555555556,\"#d8576b\"],[0.6666666666666666,\"#ed7953\"],[0.7777777777777778,\"#fb9f3a\"],[0.8888888888888888,\"#fdca26\"],[1.0,\"#f0f921\"]],\"type\":\"heatmapgl\"}],\"heatmap\":[{\"colorbar\":{\"outlinewidth\":0,\"ticks\":\"\"},\"colorscale\":[[0.0,\"#0d0887\"],[0.1111111111111111,\"#46039f\"],[0.2222222222222222,\"#7201a8\"],[0.3333333333333333,\"#9c179e\"],[0.4444444444444444,\"#bd3786\"],[0.5555555555555556,\"#d8576b\"],[0.6666666666666666,\"#ed7953\"],[0.7777777777777778,\"#fb9f3a\"],[0.8888888888888888,\"#fdca26\"],[1.0,\"#f0f921\"]],\"type\":\"heatmap\"}],\"histogram2dcontour\":[{\"colorbar\":{\"outlinewidth\":0,\"ticks\":\"\"},\"colorscale\":[[0.0,\"#0d0887\"],[0.1111111111111111,\"#46039f\"],[0.2222222222222222,\"#7201a8\"],[0.3333333333333333,\"#9c179e\"],[0.4444444444444444,\"#bd3786\"],[0.5555555555555556,\"#d8576b\"],[0.6666666666666666,\"#ed7953\"],[0.7777777777777778,\"#fb9f3a\"],[0.8888888888888888,\"#fdca26\"],[1.0,\"#f0f921\"]],\"type\":\"histogram2dcontour\"}],\"histogram2d\":[{\"colorbar\":{\"outlinewidth\":0,\"ticks\":\"\"},\"colorscale\":[[0.0,\"#0d0887\"],[0.1111111111111111,\"#46039f\"],[0.2222222222222222,\"#7201a8\"],[0.3333333333333333,\"#9c179e\"],[0.4444444444444444,\"#bd3786\"],[0.5555555555555556,\"#d8576b\"],[0.6666666666666666,\"#ed7953\"],[0.7777777777777778,\"#fb9f3a\"],[0.8888888888888888,\"#fdca26\"],[1.0,\"#f0f921\"]],\"type\":\"histogram2d\"}],\"histogram\":[{\"marker\":{\"pattern\":{\"fillmode\":\"overlay\",\"size\":10,\"solidity\":0.2}},\"type\":\"histogram\"}],\"mesh3d\":[{\"colorbar\":{\"outlinewidth\":0,\"ticks\":\"\"},\"type\":\"mesh3d\"}],\"parcoords\":[{\"line\":{\"colorbar\":{\"outlinewidth\":0,\"ticks\":\"\"}},\"type\":\"parcoords\"}],\"pie\":[{\"automargin\":true,\"type\":\"pie\"}],\"scatter3d\":[{\"line\":{\"colorbar\":{\"outlinewidth\":0,\"ticks\":\"\"}},\"marker\":{\"colorbar\":{\"outlinewidth\":0,\"ticks\":\"\"}},\"type\":\"scatter3d\"}],\"scattercarpet\":[{\"marker\":{\"colorbar\":{\"outlinewidth\":0,\"ticks\":\"\"}},\"type\":\"scattercarpet\"}],\"scattergeo\":[{\"marker\":{\"colorbar\":{\"outlinewidth\":0,\"ticks\":\"\"}},\"type\":\"scattergeo\"}],\"scattergl\":[{\"marker\":{\"line\":{\"color\":\"#283442\"}},\"type\":\"scattergl\"}],\"scattermapbox\":[{\"marker\":{\"colorbar\":{\"outlinewidth\":0,\"ticks\":\"\"}},\"type\":\"scattermapbox\"}],\"scatterpolargl\":[{\"marker\":{\"colorbar\":{\"outlinewidth\":0,\"ticks\":\"\"}},\"type\":\"scatterpolargl\"}],\"scatterpolar\":[{\"marker\":{\"colorbar\":{\"outlinewidth\":0,\"ticks\":\"\"}},\"type\":\"scatterpolar\"}],\"scatter\":[{\"marker\":{\"line\":{\"color\":\"#283442\"}},\"type\":\"scatter\"}],\"scatterternary\":[{\"marker\":{\"colorbar\":{\"outlinewidth\":0,\"ticks\":\"\"}},\"type\":\"scatterternary\"}],\"surface\":[{\"colorbar\":{\"outlinewidth\":0,\"ticks\":\"\"},\"colorscale\":[[0.0,\"#0d0887\"],[0.1111111111111111,\"#46039f\"],[0.2222222222222222,\"#7201a8\"],[0.3333333333333333,\"#9c179e\"],[0.4444444444444444,\"#bd3786\"],[0.5555555555555556,\"#d8576b\"],[0.6666666666666666,\"#ed7953\"],[0.7777777777777778,\"#fb9f3a\"],[0.8888888888888888,\"#fdca26\"],[1.0,\"#f0f921\"]],\"type\":\"surface\"}],\"table\":[{\"cells\":{\"fill\":{\"color\":\"#506784\"},\"line\":{\"color\":\"rgb(17,17,17)\"}},\"header\":{\"fill\":{\"color\":\"#2a3f5f\"},\"line\":{\"color\":\"rgb(17,17,17)\"}},\"type\":\"table\"}]},\"layout\":{\"annotationdefaults\":{\"arrowcolor\":\"#f2f5fa\",\"arrowhead\":0,\"arrowwidth\":1},\"autotypenumbers\":\"strict\",\"coloraxis\":{\"colorbar\":{\"outlinewidth\":0,\"ticks\":\"\"}},\"colorscale\":{\"diverging\":[[0,\"#8e0152\"],[0.1,\"#c51b7d\"],[0.2,\"#de77ae\"],[0.3,\"#f1b6da\"],[0.4,\"#fde0ef\"],[0.5,\"#f7f7f7\"],[0.6,\"#e6f5d0\"],[0.7,\"#b8e186\"],[0.8,\"#7fbc41\"],[0.9,\"#4d9221\"],[1,\"#276419\"]],\"sequential\":[[0.0,\"#0d0887\"],[0.1111111111111111,\"#46039f\"],[0.2222222222222222,\"#7201a8\"],[0.3333333333333333,\"#9c179e\"],[0.4444444444444444,\"#bd3786\"],[0.5555555555555556,\"#d8576b\"],[0.6666666666666666,\"#ed7953\"],[0.7777777777777778,\"#fb9f3a\"],[0.8888888888888888,\"#fdca26\"],[1.0,\"#f0f921\"]],\"sequentialminus\":[[0.0,\"#0d0887\"],[0.1111111111111111,\"#46039f\"],[0.2222222222222222,\"#7201a8\"],[0.3333333333333333,\"#9c179e\"],[0.4444444444444444,\"#bd3786\"],[0.5555555555555556,\"#d8576b\"],[0.6666666666666666,\"#ed7953\"],[0.7777777777777778,\"#fb9f3a\"],[0.8888888888888888,\"#fdca26\"],[1.0,\"#f0f921\"]]},\"colorway\":[\"#636efa\",\"#EF553B\",\"#00cc96\",\"#ab63fa\",\"#FFA15A\",\"#19d3f3\",\"#FF6692\",\"#B6E880\",\"#FF97FF\",\"#FECB52\"],\"font\":{\"color\":\"#f2f5fa\"},\"geo\":{\"bgcolor\":\"rgb(17,17,17)\",\"lakecolor\":\"rgb(17,17,17)\",\"landcolor\":\"rgb(17,17,17)\",\"showlakes\":true,\"showland\":true,\"subunitcolor\":\"#506784\"},\"hoverlabel\":{\"align\":\"left\"},\"hovermode\":\"closest\",\"mapbox\":{\"style\":\"dark\"},\"paper_bgcolor\":\"rgb(17,17,17)\",\"plot_bgcolor\":\"rgb(17,17,17)\",\"polar\":{\"angularaxis\":{\"gridcolor\":\"#506784\",\"linecolor\":\"#506784\",\"ticks\":\"\"},\"bgcolor\":\"rgb(17,17,17)\",\"radialaxis\":{\"gridcolor\":\"#506784\",\"linecolor\":\"#506784\",\"ticks\":\"\"}},\"scene\":{\"xaxis\":{\"backgroundcolor\":\"rgb(17,17,17)\",\"gridcolor\":\"#506784\",\"gridwidth\":2,\"linecolor\":\"#506784\",\"showbackground\":true,\"ticks\":\"\",\"zerolinecolor\":\"#C8D4E3\"},\"yaxis\":{\"backgroundcolor\":\"rgb(17,17,17)\",\"gridcolor\":\"#506784\",\"gridwidth\":2,\"linecolor\":\"#506784\",\"showbackground\":true,\"ticks\":\"\",\"zerolinecolor\":\"#C8D4E3\"},\"zaxis\":{\"backgroundcolor\":\"rgb(17,17,17)\",\"gridcolor\":\"#506784\",\"gridwidth\":2,\"linecolor\":\"#506784\",\"showbackground\":true,\"ticks\":\"\",\"zerolinecolor\":\"#C8D4E3\"}},\"shapedefaults\":{\"line\":{\"color\":\"#f2f5fa\"}},\"sliderdefaults\":{\"bgcolor\":\"#C8D4E3\",\"bordercolor\":\"rgb(17,17,17)\",\"borderwidth\":1,\"tickwidth\":0},\"ternary\":{\"aaxis\":{\"gridcolor\":\"#506784\",\"linecolor\":\"#506784\",\"ticks\":\"\"},\"baxis\":{\"gridcolor\":\"#506784\",\"linecolor\":\"#506784\",\"ticks\":\"\"},\"bgcolor\":\"rgb(17,17,17)\",\"caxis\":{\"gridcolor\":\"#506784\",\"linecolor\":\"#506784\",\"ticks\":\"\"}},\"title\":{\"x\":0.05},\"updatemenudefaults\":{\"bgcolor\":\"#506784\",\"borderwidth\":0},\"xaxis\":{\"automargin\":true,\"gridcolor\":\"#283442\",\"linecolor\":\"#506784\",\"ticks\":\"\",\"title\":{\"standoff\":15},\"zerolinecolor\":\"#283442\",\"zerolinewidth\":2},\"yaxis\":{\"automargin\":true,\"gridcolor\":\"#283442\",\"linecolor\":\"#506784\",\"ticks\":\"\",\"title\":{\"standoff\":15},\"zerolinecolor\":\"#283442\",\"zerolinewidth\":2}}},\"xaxis\":{\"anchor\":\"y\",\"domain\":[0.0,1.0],\"title\":{\"text\":\"ratio\"}},\"yaxis\":{\"anchor\":\"x\",\"domain\":[0.0,1.0],\"title\":{\"text\":\"chord\"}},\"legend\":{\"title\":{\"text\":\"cluster\"},\"tracegroupgap\":0},\"title\":{\"text\":\"Restaurant bills\"},\"barmode\":\"relative\",\"height\":800},                        {\"responsive\": true}                    ).then(function(){\n",
       "                            \n",
       "var gd = document.getElementById('ef77cab3-2e72-4c6b-822f-0e99685de9a7');\n",
       "var x = new MutationObserver(function (mutations, observer) {{\n",
       "        var display = window.getComputedStyle(gd).display;\n",
       "        if (!display || display === 'none') {{\n",
       "            console.log([gd, 'removed!']);\n",
       "            Plotly.purge(gd);\n",
       "            observer.disconnect();\n",
       "        }}\n",
       "}});\n",
       "\n",
       "// Listen for the removal of the full notebook cells\n",
       "var notebookContainer = gd.closest('#notebook-container');\n",
       "if (notebookContainer) {{\n",
       "    x.observe(notebookContainer, {childList: true});\n",
       "}}\n",
       "\n",
       "// Listen for the clearing of the current output cell\n",
       "var outputEl = gd.closest('.output');\n",
       "if (outputEl) {{\n",
       "    x.observe(outputEl, {childList: true});\n",
       "}}\n",
       "\n",
       "                        })                };                });            </script>        </div>"
      ]
     },
     "metadata": {},
     "output_type": "display_data"
    }
   ],
   "source": [
    "clusterChordsRatio['cluster'] = clusterChordsRatio['cluster'].astype(str)\n",
    "fig = px.bar(clusterChordsRatio, x=\"ratio\", y=\"chord\", color='cluster', orientation='h',\n",
    "             height=800,\n",
    "             template='plotly_dark',\n",
    "             title='Restaurant bills')\n",
    "fig.show()"
   ]
  },
  {
   "cell_type": "markdown",
   "id": "11a2c6b1-d255-4e21-a316-33f064fea0db",
   "metadata": {},
   "source": [
    "## Using Euclidean distance to make recommendations"
   ]
  },
  {
   "cell_type": "markdown",
   "id": "debcadc6-b136-419e-85be-a223c371307b",
   "metadata": {},
   "source": [
    "### what songs are close to coldplay's don't panic"
   ]
  },
  {
   "cell_type": "code",
   "execution_count": 511,
   "id": "7bdeee37-6601-4967-a0c9-ad7e89340711",
   "metadata": {},
   "outputs": [],
   "source": [
    "\n",
    "\n",
    "# df[df['song']=='Dont Panic'] ---- 163\n",
    "\n",
    "coldplaySong = chordsDF.filter(items = [163], axis=0).iloc[:,0:-1].values.tolist()[0]\n",
    "closest_clusters(coldplaySong)"
   ]
  },
  {
   "cell_type": "code",
   "execution_count": 516,
   "id": "c23133e8-0828-43a8-9e2d-7d90b09fc2ae",
   "metadata": {},
   "outputs": [
    {
     "data": {
      "text/plain": [
       "[(10, 0.4116053949613803),\n",
       " (6, 0.47043322361816636),\n",
       " (12, 0.478586741255917),\n",
       " (2, 0.49791451176831864),\n",
       " (11, 0.5137852277562857),\n",
       " (5, 0.5232989753086791),\n",
       " (3, 0.5517588488324034),\n",
       " (0, 0.5628589972618132),\n",
       " (9, 0.6092232978545252),\n",
       " (14, 0.7038972353533323),\n",
       " (7, 0.7107148621565298),\n",
       " (8, 0.7416296592520742),\n",
       " (13, 0.9626552693589769),\n",
       " (4, 0.9740014788112132),\n",
       " (1, 2.149682562142517)]"
      ]
     },
     "execution_count": 516,
     "metadata": {},
     "output_type": "execute_result"
    }
   ],
   "source": []
  },
  {
   "cell_type": "code",
   "execution_count": 520,
   "id": "e460d1ee-6e94-4b47-8456-6112007fb1c8",
   "metadata": {},
   "outputs": [
    {
     "data": {
      "text/html": [
       "<div>\n",
       "<style scoped>\n",
       "    .dataframe tbody tr th:only-of-type {\n",
       "        vertical-align: middle;\n",
       "    }\n",
       "\n",
       "    .dataframe tbody tr th {\n",
       "        vertical-align: top;\n",
       "    }\n",
       "\n",
       "    .dataframe thead th {\n",
       "        text-align: right;\n",
       "    }\n",
       "</style>\n",
       "<table border=\"1\" class=\"dataframe\">\n",
       "  <thead>\n",
       "    <tr style=\"text-align: right;\">\n",
       "      <th></th>\n",
       "      <th>C</th>\n",
       "      <th>C#</th>\n",
       "      <th>C#dim</th>\n",
       "      <th>C#m</th>\n",
       "      <th>Cdim</th>\n",
       "      <th>Cm</th>\n",
       "      <th>D</th>\n",
       "      <th>D#</th>\n",
       "      <th>D#dim</th>\n",
       "      <th>D#m</th>\n",
       "      <th>...</th>\n",
       "      <th>A</th>\n",
       "      <th>A#</th>\n",
       "      <th>A#dim</th>\n",
       "      <th>A#m</th>\n",
       "      <th>Adim</th>\n",
       "      <th>Am</th>\n",
       "      <th>B</th>\n",
       "      <th>Bdim</th>\n",
       "      <th>Bm</th>\n",
       "      <th>category</th>\n",
       "    </tr>\n",
       "  </thead>\n",
       "  <tbody>\n",
       "    <tr>\n",
       "      <th>15</th>\n",
       "      <td>76</td>\n",
       "      <td>0</td>\n",
       "      <td>0</td>\n",
       "      <td>0</td>\n",
       "      <td>0</td>\n",
       "      <td>0</td>\n",
       "      <td>0</td>\n",
       "      <td>0</td>\n",
       "      <td>0</td>\n",
       "      <td>0</td>\n",
       "      <td>...</td>\n",
       "      <td>0</td>\n",
       "      <td>0</td>\n",
       "      <td>0</td>\n",
       "      <td>0</td>\n",
       "      <td>0</td>\n",
       "      <td>6</td>\n",
       "      <td>0</td>\n",
       "      <td>0</td>\n",
       "      <td>0</td>\n",
       "      <td>10</td>\n",
       "    </tr>\n",
       "    <tr>\n",
       "      <th>19</th>\n",
       "      <td>54</td>\n",
       "      <td>0</td>\n",
       "      <td>0</td>\n",
       "      <td>0</td>\n",
       "      <td>0</td>\n",
       "      <td>0</td>\n",
       "      <td>0</td>\n",
       "      <td>0</td>\n",
       "      <td>0</td>\n",
       "      <td>0</td>\n",
       "      <td>...</td>\n",
       "      <td>8</td>\n",
       "      <td>0</td>\n",
       "      <td>0</td>\n",
       "      <td>0</td>\n",
       "      <td>0</td>\n",
       "      <td>15</td>\n",
       "      <td>0</td>\n",
       "      <td>0</td>\n",
       "      <td>0</td>\n",
       "      <td>10</td>\n",
       "    </tr>\n",
       "    <tr>\n",
       "      <th>29</th>\n",
       "      <td>43</td>\n",
       "      <td>0</td>\n",
       "      <td>0</td>\n",
       "      <td>0</td>\n",
       "      <td>0</td>\n",
       "      <td>0</td>\n",
       "      <td>1</td>\n",
       "      <td>0</td>\n",
       "      <td>0</td>\n",
       "      <td>0</td>\n",
       "      <td>...</td>\n",
       "      <td>0</td>\n",
       "      <td>1</td>\n",
       "      <td>0</td>\n",
       "      <td>0</td>\n",
       "      <td>0</td>\n",
       "      <td>0</td>\n",
       "      <td>0</td>\n",
       "      <td>0</td>\n",
       "      <td>0</td>\n",
       "      <td>10</td>\n",
       "    </tr>\n",
       "    <tr>\n",
       "      <th>43</th>\n",
       "      <td>156</td>\n",
       "      <td>0</td>\n",
       "      <td>0</td>\n",
       "      <td>0</td>\n",
       "      <td>0</td>\n",
       "      <td>0</td>\n",
       "      <td>6</td>\n",
       "      <td>0</td>\n",
       "      <td>0</td>\n",
       "      <td>0</td>\n",
       "      <td>...</td>\n",
       "      <td>0</td>\n",
       "      <td>0</td>\n",
       "      <td>0</td>\n",
       "      <td>0</td>\n",
       "      <td>0</td>\n",
       "      <td>0</td>\n",
       "      <td>0</td>\n",
       "      <td>0</td>\n",
       "      <td>0</td>\n",
       "      <td>10</td>\n",
       "    </tr>\n",
       "    <tr>\n",
       "      <th>51</th>\n",
       "      <td>66</td>\n",
       "      <td>0</td>\n",
       "      <td>0</td>\n",
       "      <td>0</td>\n",
       "      <td>0</td>\n",
       "      <td>0</td>\n",
       "      <td>6</td>\n",
       "      <td>0</td>\n",
       "      <td>0</td>\n",
       "      <td>0</td>\n",
       "      <td>...</td>\n",
       "      <td>0</td>\n",
       "      <td>0</td>\n",
       "      <td>0</td>\n",
       "      <td>0</td>\n",
       "      <td>0</td>\n",
       "      <td>0</td>\n",
       "      <td>0</td>\n",
       "      <td>0</td>\n",
       "      <td>0</td>\n",
       "      <td>10</td>\n",
       "    </tr>\n",
       "    <tr>\n",
       "      <th>...</th>\n",
       "      <td>...</td>\n",
       "      <td>...</td>\n",
       "      <td>...</td>\n",
       "      <td>...</td>\n",
       "      <td>...</td>\n",
       "      <td>...</td>\n",
       "      <td>...</td>\n",
       "      <td>...</td>\n",
       "      <td>...</td>\n",
       "      <td>...</td>\n",
       "      <td>...</td>\n",
       "      <td>...</td>\n",
       "      <td>...</td>\n",
       "      <td>...</td>\n",
       "      <td>...</td>\n",
       "      <td>...</td>\n",
       "      <td>...</td>\n",
       "      <td>...</td>\n",
       "      <td>...</td>\n",
       "      <td>...</td>\n",
       "      <td>...</td>\n",
       "    </tr>\n",
       "    <tr>\n",
       "      <th>4367</th>\n",
       "      <td>84</td>\n",
       "      <td>0</td>\n",
       "      <td>0</td>\n",
       "      <td>0</td>\n",
       "      <td>0</td>\n",
       "      <td>0</td>\n",
       "      <td>0</td>\n",
       "      <td>0</td>\n",
       "      <td>0</td>\n",
       "      <td>0</td>\n",
       "      <td>...</td>\n",
       "      <td>0</td>\n",
       "      <td>0</td>\n",
       "      <td>0</td>\n",
       "      <td>0</td>\n",
       "      <td>0</td>\n",
       "      <td>25</td>\n",
       "      <td>0</td>\n",
       "      <td>0</td>\n",
       "      <td>0</td>\n",
       "      <td>10</td>\n",
       "    </tr>\n",
       "    <tr>\n",
       "      <th>4376</th>\n",
       "      <td>60</td>\n",
       "      <td>0</td>\n",
       "      <td>0</td>\n",
       "      <td>0</td>\n",
       "      <td>0</td>\n",
       "      <td>0</td>\n",
       "      <td>0</td>\n",
       "      <td>0</td>\n",
       "      <td>0</td>\n",
       "      <td>0</td>\n",
       "      <td>...</td>\n",
       "      <td>0</td>\n",
       "      <td>0</td>\n",
       "      <td>0</td>\n",
       "      <td>0</td>\n",
       "      <td>0</td>\n",
       "      <td>14</td>\n",
       "      <td>0</td>\n",
       "      <td>0</td>\n",
       "      <td>0</td>\n",
       "      <td>10</td>\n",
       "    </tr>\n",
       "    <tr>\n",
       "      <th>4487</th>\n",
       "      <td>58</td>\n",
       "      <td>0</td>\n",
       "      <td>0</td>\n",
       "      <td>0</td>\n",
       "      <td>0</td>\n",
       "      <td>0</td>\n",
       "      <td>0</td>\n",
       "      <td>0</td>\n",
       "      <td>0</td>\n",
       "      <td>0</td>\n",
       "      <td>...</td>\n",
       "      <td>0</td>\n",
       "      <td>0</td>\n",
       "      <td>0</td>\n",
       "      <td>0</td>\n",
       "      <td>0</td>\n",
       "      <td>20</td>\n",
       "      <td>0</td>\n",
       "      <td>0</td>\n",
       "      <td>0</td>\n",
       "      <td>10</td>\n",
       "    </tr>\n",
       "    <tr>\n",
       "      <th>4555</th>\n",
       "      <td>52</td>\n",
       "      <td>0</td>\n",
       "      <td>0</td>\n",
       "      <td>0</td>\n",
       "      <td>0</td>\n",
       "      <td>0</td>\n",
       "      <td>0</td>\n",
       "      <td>0</td>\n",
       "      <td>0</td>\n",
       "      <td>0</td>\n",
       "      <td>...</td>\n",
       "      <td>0</td>\n",
       "      <td>0</td>\n",
       "      <td>0</td>\n",
       "      <td>0</td>\n",
       "      <td>0</td>\n",
       "      <td>16</td>\n",
       "      <td>0</td>\n",
       "      <td>0</td>\n",
       "      <td>0</td>\n",
       "      <td>10</td>\n",
       "    </tr>\n",
       "    <tr>\n",
       "      <th>4709</th>\n",
       "      <td>58</td>\n",
       "      <td>0</td>\n",
       "      <td>0</td>\n",
       "      <td>0</td>\n",
       "      <td>0</td>\n",
       "      <td>0</td>\n",
       "      <td>0</td>\n",
       "      <td>0</td>\n",
       "      <td>0</td>\n",
       "      <td>0</td>\n",
       "      <td>...</td>\n",
       "      <td>0</td>\n",
       "      <td>0</td>\n",
       "      <td>0</td>\n",
       "      <td>0</td>\n",
       "      <td>0</td>\n",
       "      <td>8</td>\n",
       "      <td>0</td>\n",
       "      <td>0</td>\n",
       "      <td>0</td>\n",
       "      <td>10</td>\n",
       "    </tr>\n",
       "  </tbody>\n",
       "</table>\n",
       "<p>137 rows × 37 columns</p>\n",
       "</div>"
      ],
      "text/plain": [
       "        C C# C#dim C#m Cdim Cm  D D# D#dim D#m  ...  A A# A#dim A#m Adim  Am  \\\n",
       "15     76  0     0   0    0  0  0  0     0   0  ...  0  0     0   0    0   6   \n",
       "19     54  0     0   0    0  0  0  0     0   0  ...  8  0     0   0    0  15   \n",
       "29     43  0     0   0    0  0  1  0     0   0  ...  0  1     0   0    0   0   \n",
       "43    156  0     0   0    0  0  6  0     0   0  ...  0  0     0   0    0   0   \n",
       "51     66  0     0   0    0  0  6  0     0   0  ...  0  0     0   0    0   0   \n",
       "...   ... ..   ...  ..  ... .. .. ..   ...  ..  ... .. ..   ...  ..  ...  ..   \n",
       "4367   84  0     0   0    0  0  0  0     0   0  ...  0  0     0   0    0  25   \n",
       "4376   60  0     0   0    0  0  0  0     0   0  ...  0  0     0   0    0  14   \n",
       "4487   58  0     0   0    0  0  0  0     0   0  ...  0  0     0   0    0  20   \n",
       "4555   52  0     0   0    0  0  0  0     0   0  ...  0  0     0   0    0  16   \n",
       "4709   58  0     0   0    0  0  0  0     0   0  ...  0  0     0   0    0   8   \n",
       "\n",
       "      B Bdim Bm category  \n",
       "15    0    0  0       10  \n",
       "19    0    0  0       10  \n",
       "29    0    0  0       10  \n",
       "43    0    0  0       10  \n",
       "51    0    0  0       10  \n",
       "...  ..  ... ..      ...  \n",
       "4367  0    0  0       10  \n",
       "4376  0    0  0       10  \n",
       "4487  0    0  0       10  \n",
       "4555  0    0  0       10  \n",
       "4709  0    0  0       10  \n",
       "\n",
       "[137 rows x 37 columns]"
      ]
     },
     "execution_count": 520,
     "metadata": {},
     "output_type": "execute_result"
    }
   ],
   "source": [
    "chordsDF[chordsDF['category'] == 10]\n"
   ]
  },
  {
   "cell_type": "code",
   "execution_count": 523,
   "id": "caddf37e-9ea9-430c-aa12-2876895d1b1d",
   "metadata": {},
   "outputs": [
    {
     "data": {
      "text/html": [
       "<div>\n",
       "<style scoped>\n",
       "    .dataframe tbody tr th:only-of-type {\n",
       "        vertical-align: middle;\n",
       "    }\n",
       "\n",
       "    .dataframe tbody tr th {\n",
       "        vertical-align: top;\n",
       "    }\n",
       "\n",
       "    .dataframe thead th {\n",
       "        text-align: right;\n",
       "    }\n",
       "</style>\n",
       "<table border=\"1\" class=\"dataframe\">\n",
       "  <thead>\n",
       "    <tr style=\"text-align: right;\">\n",
       "      <th></th>\n",
       "      <th>id</th>\n",
       "      <th>song</th>\n",
       "      <th>artist</th>\n",
       "      <th>tonality</th>\n",
       "      <th>capo</th>\n",
       "      <th>orig_key</th>\n",
       "      <th>chords</th>\n",
       "    </tr>\n",
       "  </thead>\n",
       "  <tbody>\n",
       "    <tr>\n",
       "      <th>19</th>\n",
       "      <td>816</td>\n",
       "      <td>Beautiful Day</td>\n",
       "      <td>U2</td>\n",
       "      <td></td>\n",
       "      <td>0</td>\n",
       "      <td>D</td>\n",
       "      <td>G,Am,C,F,C,G,G,Am,C,F,C,G,G,Am,C,F,C,G,G,Am,C,...</td>\n",
       "    </tr>\n",
       "  </tbody>\n",
       "</table>\n",
       "</div>"
      ],
      "text/plain": [
       "     id           song artist tonality  capo orig_key  \\\n",
       "19  816  Beautiful Day     U2              0        D   \n",
       "\n",
       "                                               chords  \n",
       "19  G,Am,C,F,C,G,G,Am,C,F,C,G,G,Am,C,F,C,G,G,Am,C,...  "
      ]
     },
     "execution_count": 523,
     "metadata": {},
     "output_type": "execute_result"
    }
   ],
   "source": []
  },
  {
   "cell_type": "code",
   "execution_count": 526,
   "id": "cedec0f1-31ed-4d01-8c20-15fe592a6b95",
   "metadata": {},
   "outputs": [
    {
     "data": {
      "text/html": [
       "<div>\n",
       "<style scoped>\n",
       "    .dataframe tbody tr th:only-of-type {\n",
       "        vertical-align: middle;\n",
       "    }\n",
       "\n",
       "    .dataframe tbody tr th {\n",
       "        vertical-align: top;\n",
       "    }\n",
       "\n",
       "    .dataframe thead th {\n",
       "        text-align: right;\n",
       "    }\n",
       "</style>\n",
       "<table border=\"1\" class=\"dataframe\">\n",
       "  <thead>\n",
       "    <tr style=\"text-align: right;\">\n",
       "      <th></th>\n",
       "      <th>id</th>\n",
       "      <th>song</th>\n",
       "      <th>artist</th>\n",
       "      <th>tonality</th>\n",
       "      <th>capo</th>\n",
       "      <th>orig_key</th>\n",
       "      <th>chords</th>\n",
       "    </tr>\n",
       "  </thead>\n",
       "  <tbody>\n",
       "    <tr>\n",
       "      <th>19</th>\n",
       "      <td>816</td>\n",
       "      <td>Beautiful Day</td>\n",
       "      <td>U2</td>\n",
       "      <td></td>\n",
       "      <td>0</td>\n",
       "      <td>D</td>\n",
       "      <td>G,Am,C,F,C,G,G,Am,C,F,C,G,G,Am,C,F,C,G,G,Am,C,...</td>\n",
       "    </tr>\n",
       "  </tbody>\n",
       "</table>\n",
       "</div>"
      ],
      "text/plain": [
       "     id           song artist tonality  capo orig_key  \\\n",
       "19  816  Beautiful Day     U2              0        D   \n",
       "\n",
       "                                               chords  \n",
       "19  G,Am,C,F,C,G,G,Am,C,F,C,G,G,Am,C,F,C,G,G,Am,C,...  "
      ]
     },
     "execution_count": 526,
     "metadata": {},
     "output_type": "execute_result"
    }
   ],
   "source": [
    "df.filter(items = [19], axis=0)"
   ]
  },
  {
   "cell_type": "code",
   "execution_count": 528,
   "id": "eccc3907-60f8-4d96-9b3b-58e2ea61d37e",
   "metadata": {},
   "outputs": [],
   "source": [
    "u2beautiful = chordsDF.filter(items = [19], axis=0).iloc[:,0:-1].values.tolist()[0]"
   ]
  },
  {
   "cell_type": "code",
   "execution_count": 529,
   "id": "88ed03c5-2b46-423a-91e7-25128f731ef1",
   "metadata": {},
   "outputs": [
    {
     "data": {
      "text/plain": [
       "[0.32727272727272727,\n",
       " 0.0,\n",
       " 0.0,\n",
       " 0.0,\n",
       " 0.0,\n",
       " 0.0,\n",
       " 0.0,\n",
       " 0.0,\n",
       " 0.0,\n",
       " 0.0,\n",
       " 0.0,\n",
       " 0.024242424242424242,\n",
       " 0.0,\n",
       " 0.0,\n",
       " 0.024242424242424242,\n",
       " 0.18181818181818182,\n",
       " 0.0,\n",
       " 0.0,\n",
       " 0.0,\n",
       " 0.0,\n",
       " 0.0,\n",
       " 0.30303030303030304,\n",
       " 0.0,\n",
       " 0.0,\n",
       " 0.0,\n",
       " 0.0,\n",
       " 0.0,\n",
       " 0.048484848484848485,\n",
       " 0.0,\n",
       " 0.0,\n",
       " 0.0,\n",
       " 0.0,\n",
       " 0.09090909090909091,\n",
       " 0.0,\n",
       " 0.0,\n",
       " 0.0]"
      ]
     },
     "execution_count": 529,
     "metadata": {},
     "output_type": "execute_result"
    }
   ],
   "source": [
    "getRatioChordsSong(u2beautiful)"
   ]
  },
  {
   "cell_type": "code",
   "execution_count": 531,
   "id": "b2caf507-3372-4da6-930f-7e0ba2f36c20",
   "metadata": {},
   "outputs": [
    {
     "data": {
      "text/plain": [
       "[0.21739130434782608,\n",
       " 0.0,\n",
       " 0.0,\n",
       " 0.0,\n",
       " 0.0,\n",
       " 0.0,\n",
       " 0.0,\n",
       " 0.0,\n",
       " 0.0,\n",
       " 0.0,\n",
       " 0.0,\n",
       " 0.13043478260869565,\n",
       " 0.0,\n",
       " 0.0,\n",
       " 0.0,\n",
       " 0.30434782608695654,\n",
       " 0.0,\n",
       " 0.0,\n",
       " 0.0,\n",
       " 0.0,\n",
       " 0.0,\n",
       " 0.06521739130434782,\n",
       " 0.0,\n",
       " 0.0,\n",
       " 0.0,\n",
       " 0.0,\n",
       " 0.0,\n",
       " 0.0,\n",
       " 0.0,\n",
       " 0.0,\n",
       " 0.0,\n",
       " 0.0,\n",
       " 0.2826086956521739,\n",
       " 0.0,\n",
       " 0.0,\n",
       " 0.0]"
      ]
     },
     "execution_count": 531,
     "metadata": {},
     "output_type": "execute_result"
    }
   ],
   "source": [
    "getRatioChordsSong(coldplaySong)"
   ]
  },
  {
   "cell_type": "code",
   "execution_count": null,
   "id": "00280330-f351-487b-8e08-915a131e9154",
   "metadata": {},
   "outputs": [],
   "source": []
  }
 ],
 "metadata": {
  "kernelspec": {
   "display_name": "Python 3",
   "language": "python",
   "name": "python3"
  },
  "language_info": {
   "codemirror_mode": {
    "name": "ipython",
    "version": 3
   },
   "file_extension": ".py",
   "mimetype": "text/x-python",
   "name": "python",
   "nbconvert_exporter": "python",
   "pygments_lexer": "ipython3",
   "version": "3.9.12"
  }
 },
 "nbformat": 4,
 "nbformat_minor": 5
}
