{
 "cells": [
  {
   "cell_type": "code",
   "execution_count": 1,
   "id": "d3add964-4527-454b-b786-8597b79d0580",
   "metadata": {},
   "outputs": [],
   "source": [
    "import mysql.connector\n",
    "from mysql.connector import Error\n",
    "\n",
    "def connectDB():\n",
    "    return mysql.connector.connect(host='localhost',\n",
    "                                         database='chordMusikRecommender',\n",
    "                                         user='root',\n",
    "                                         password='test1234')\n"
   ]
  },
  {
   "cell_type": "code",
   "execution_count": 2,
   "id": "d504b2ab-9cdc-49fe-8e90-a6a893b4e52b",
   "metadata": {},
   "outputs": [],
   "source": [
    "def getDB(query):\n",
    "    try:\n",
    "        cn = connectDB()\n",
    "        if cn.is_connected():\n",
    "            cr = cn.cursor()\n",
    "            cr.execute(query)\n",
    "            result = cr.fetchall()\n",
    "            return result\n",
    "\n",
    "\n",
    "    except Error as e:\n",
    "        print(\"Error while connecting to MySQL\", e)\n",
    "    finally:\n",
    "        if cn.is_connected():\n",
    "            cn.commit()\n",
    "            cr.close()\n",
    "            cn.close()\n",
    "            print(\"MySQL cn is closed\")"
   ]
  },
  {
   "cell_type": "code",
   "execution_count": null,
   "id": "c7ca16d0-bdac-4351-8807-c1747c0f30d2",
   "metadata": {},
   "outputs": [],
   "source": []
  },
  {
   "cell_type": "code",
   "execution_count": null,
   "id": "d21325b3-dd7a-4a5b-8f6d-50f4f887b242",
   "metadata": {},
   "outputs": [],
   "source": []
  }
 ],
 "metadata": {
  "kernelspec": {
   "display_name": "Python 3",
   "language": "python",
   "name": "python3"
  },
  "language_info": {
   "codemirror_mode": {
    "name": "ipython",
    "version": 3
   },
   "file_extension": ".py",
   "mimetype": "text/x-python",
   "name": "python",
   "nbconvert_exporter": "python",
   "pygments_lexer": "ipython3",
   "version": "3.9.12"
  }
 },
 "nbformat": 4,
 "nbformat_minor": 5
}
