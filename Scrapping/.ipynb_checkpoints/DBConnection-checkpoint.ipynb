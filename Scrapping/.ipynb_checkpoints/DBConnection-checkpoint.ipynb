{
 "cells": [
  {
   "cell_type": "code",
   "execution_count": 1,
   "id": "40c5766f-92c2-4bcc-94c6-1c6808a41b85",
   "metadata": {},
   "outputs": [],
   "source": [
    "import sqlite3\n",
    "import re\n",
    "import json\n",
    "\n",
    "\n",
    "def create_sqlite_connector(db='UltimateGuitarTabs.db'):\n",
    "    con = sqlite3.connect('./{}'.format(db))\n",
    "    cr = con.cursor()\n",
    "    return(con, cr)\n",
    "\n",
    "def get_table(cr, tableName):\n",
    "    cr.execute(\"SELECT * FROM \"+tableName)\n",
    "    \n",
    "    return(cr.fetchall())\n",
    "\n",
    "def exe_query(cr, query):\n",
    "    cr.execute(query)\n",
    "\n",
    "    return(cr.fetchall())"
   ]
  },
  {
   "cell_type": "code",
   "execution_count": null,
   "id": "6dd8b9ed-fb67-430b-a323-47f6408120eb",
   "metadata": {},
   "outputs": [],
   "source": []
  }
 ],
 "metadata": {
  "kernelspec": {
   "display_name": "Python 3",
   "language": "python",
   "name": "python3"
  },
  "language_info": {
   "codemirror_mode": {
    "name": "ipython",
    "version": 3
   },
   "file_extension": ".py",
   "mimetype": "text/x-python",
   "name": "python",
   "nbconvert_exporter": "python",
   "pygments_lexer": "ipython3",
   "version": "3.9.12"
  }
 },
 "nbformat": 4,
 "nbformat_minor": 5
}
