{
 "cells": [
  {
   "cell_type": "code",
   "execution_count": null,
   "id": "70375c66-16e9-4c18-8de8-4e6520d764db",
   "metadata": {},
   "outputs": [],
   "source": [
    "import csv\n"
   ]
  },
  {
   "cell_type": "code",
   "execution_count": 3,
   "id": "0a0b5afc-1511-40eb-9630-7e86d9cb93a3",
   "metadata": {},
   "outputs": [],
   "source": [
    "listSongs = ['Coldplay - The Scientist (Acoustic Cover) (128kbit_AAC)-converted.mp3.csv',\n",
    "'Coldplay - The Scientist (Cello & Piano) - Brooklyn Duo (152kbit_Opus)-converted.mp3.csv',\n",
    "'Coldplay - The Scientist (Live in Madrid 2011) (128kbit_AAC)-converted.mp3.csv',\n",
    "'Coldplay - The Scientist (Official Video) (152kbit_Opus)-converted.mp3.csv',\n",
    "'Coldplay - The Scientist (Piano Cover) (152kbit_Opus)-converted.mp3.csv',\n",
    "'Coldplay - The Scientist in the Live Lounge (152kbit_Opus)-converted.mp3.csv',\n",
    "'Coldplay The Scientist Frankfurt 5-7-22 (128kbit_AAC)-converted.mp3.csv',\n",
    "'GABRIELLA - Coldplay - The Scientist (Cover) (152kbit_Opus)-converted.mp3.csv',\n",
    "'GLEE - The Scientist (Full Performance) (Official Music Video) (128kbit_AAC)-converted.mp3.csv',\n",
    "'GLEE - The Scientist (Full Performance) HD (152kbit_Opus)-converted.mp3.csv',\n",
    "'Miley Cyrus - The Scientist (Coldplay Cover) (152kbit_Opus)-converted.mp3.csv',\n",
    "'Savanna Leigh - The Scientist (Lyrics) (152kbit_Opus)-converted.mp3.csv',\n",
    "'The Scientist (152kbit_Opus)-converted.mp3.csv',\n",
    "'The Scientist - Coldplay (Boyce Avenue feat. Hannah Trigwell acoustic cover) on Spotify & Apple (152kbit_Opus)-converted.mp3.csv',\n",
    "'The Scientist - Coldplay (Cover) by Alice Kristiansen (128kbit_AAC)-converted.mp3.csv',\n",
    "'The Scientist - Coldplay (Holly Henry Acoustic Cover) (152kbit_Opus)-converted.mp3.csv',\n",
    "'The Scientist - Coldplay (Piano Accompaniment + Tutorial) (152kbit_Opus)-converted.mp3.csv',\n",
    "'The Scientist - Coldplay Cover (ft. Kina Grannis, Tyler Ward, Lindsey Stirling) (152kbit_Opus)-converted.mp3.csv',\n",
    "'The Scientist - Coldplay _ Alex Goot & Jada Facer (152kbit_Opus)-converted.mp3.csv',\n",
    "'The Scientist - The Petersens (LIVE) (128kbit_AAC)-converted.mp3.csv',\n",
    "'Wicker Park - The Scientist (Coldplay) (192kbit_AAC)-converted.mp3.csv',\n",
    "'coldplay - the scientist (cover) (128kbit_AAC)-converted.mp3.csv',\n",
    "'coverTheScientist-converted.mp3.csv',\n",
    "'gleechapversionthescientist-converted.mp3.csv',\n",
    "'officialsongtehscientist-converted.mp3.csv',\n",
    "'piano cover the scientist-converted.mp3.csv',\n",
    "'thescientistcover-converted.mp3.csv',\n",
    "'thescientistguitarcover-converted.mp3.csv',\n",
    "'thescientistliev-converted.mp3.csv']"
   ]
  },
  {
   "cell_type": "code",
   "execution_count": 5,
   "id": "59f0ac4f-d388-4312-b9d8-df71cc9e7f5d",
   "metadata": {},
   "outputs": [
    {
     "ename": "FileNotFoundError",
     "evalue": "[Errno 2] No such file or directory: 'Coldplay - The Scientist (Acoustic Cover) (128kbit_AAC)-converted.mp3.csv'",
     "output_type": "error",
     "traceback": [
      "\u001b[0;31m---------------------------------------------------------------------------\u001b[0m",
      "\u001b[0;31mFileNotFoundError\u001b[0m                         Traceback (most recent call last)",
      "\u001b[0;32m<ipython-input-5-b84c9d1470ac>\u001b[0m in \u001b[0;36m<module>\u001b[0;34m\u001b[0m\n\u001b[0;32m----> 1\u001b[0;31m \u001b[0mfile\u001b[0m \u001b[0;34m=\u001b[0m \u001b[0mopen\u001b[0m\u001b[0;34m(\u001b[0m\u001b[0mlistSongs\u001b[0m\u001b[0;34m[\u001b[0m\u001b[0;36m0\u001b[0m\u001b[0;34m]\u001b[0m\u001b[0;34m)\u001b[0m\u001b[0;34m\u001b[0m\u001b[0;34m\u001b[0m\u001b[0m\n\u001b[0m\u001b[1;32m      2\u001b[0m \u001b[0mcsvreader\u001b[0m \u001b[0;34m=\u001b[0m \u001b[0mcsv\u001b[0m\u001b[0;34m.\u001b[0m\u001b[0mreader\u001b[0m\u001b[0;34m(\u001b[0m\u001b[0mfile\u001b[0m\u001b[0;34m)\u001b[0m\u001b[0;34m\u001b[0m\u001b[0;34m\u001b[0m\u001b[0m\n",
      "\u001b[0;31mFileNotFoundError\u001b[0m: [Errno 2] No such file or directory: 'Coldplay - The Scientist (Acoustic Cover) (128kbit_AAC)-converted.mp3.csv'"
     ]
    }
   ],
   "source": [
    "file = open('' + listSongs[0])\n",
    "csvreader = csv.reader(file)"
   ]
  },
  {
   "cell_type": "code",
   "execution_count": null,
   "id": "e01388b1-5cd3-47ec-afef-7b0a13996bc7",
   "metadata": {},
   "outputs": [],
   "source": []
  }
 ],
 "metadata": {
  "kernelspec": {
   "display_name": "Python 3",
   "language": "python",
   "name": "python3"
  },
  "language_info": {
   "codemirror_mode": {
    "name": "ipython",
    "version": 3
   },
   "file_extension": ".py",
   "mimetype": "text/x-python",
   "name": "python",
   "nbconvert_exporter": "python",
   "pygments_lexer": "ipython3",
   "version": "3.9.12"
  }
 },
 "nbformat": 4,
 "nbformat_minor": 5
}
