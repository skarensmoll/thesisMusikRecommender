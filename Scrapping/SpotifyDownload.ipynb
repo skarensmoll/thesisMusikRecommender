{
 "cells": [
  {
   "cell_type": "code",
   "execution_count": 33,
   "metadata": {},
   "outputs": [],
   "source": [
    "from pytube import YouTube\n",
    "from os.path import exists\n",
    "import json"
   ]
  },
  {
   "cell_type": "code",
   "execution_count": 47,
   "metadata": {},
   "outputs": [],
   "source": [
    "def downloadSongYT(song):\n",
    "    yt = YouTube(song[\"ytlink\"])\n",
    "    yt.streams.first().download(output_path=\"../Databases/songs/SpotifyMP3/\", filename= song['id']+'.mp3')"
   ]
  },
  {
   "cell_type": "code",
   "execution_count": 54,
   "metadata": {},
   "outputs": [],
   "source": [
    "route = '../Databases/songs/SpotifyMP3/SongsInfo.json'\n",
    "f = open(route,)\n",
    "SongsInfo = json.load(f)\n",
    "f.close()\n",
    "len(SongsInfo)"
   ]
  },
  {
   "cell_type": "code",
   "execution_count": 63,
   "metadata": {},
   "outputs": [
    {
     "name": "stdout",
     "output_type": "stream",
     "text": [
      "---TOTAL SONGS--- 1\n",
      "ea1b13ceabae45bf - TEST1\n",
      "NEW SONGS  1\n",
      "ALREADY SONGS 0\n",
      "---TOTAL SONGS--- 2\n",
      "Already Downloaded\n",
      "584BzZR9hwnHJWFo00JUra - TEST1\n",
      "NEW SONGS  1\n",
      "ALREADY SONGS 1\n"
     ]
    }
   ],
   "source": [
    "already = 0\n",
    "new = 0\n",
    "\n",
    "for i,song in enumerate(SongsInfo):\n",
    "    print(\"---TOTAL SONGS---\", i + 1)\n",
    "    if not exists('../Databases/songs/SpotifyMP3/'+ song['id'] + '.mp3'):\n",
    "        new += 1\n",
    "        downloadSongYT(song)\n",
    "        print(song['id'] + \" - \" + song['name'])  \n",
    "    else:\n",
    "        already += 1\n",
    "        print(\"Already Downloaded\")\n",
    "        print(song['id'] + \" - \" + song['name'])  \n",
    "    \n",
    "    print('NEW SONGS ', new) \n",
    "    print('ALREADY SONGS', already)"
   ]
  }
 ],
 "metadata": {
  "kernelspec": {
   "display_name": "Python 3.10.5 64-bit",
   "language": "python",
   "name": "python3"
  },
  "language_info": {
   "codemirror_mode": {
    "name": "ipython",
    "version": 3
   },
   "file_extension": ".py",
   "mimetype": "text/x-python",
   "name": "python",
   "nbconvert_exporter": "python",
   "pygments_lexer": "ipython3",
   "version": "3.10.5"
  },
  "orig_nbformat": 4,
  "vscode": {
   "interpreter": {
    "hash": "0167474e25ac903b7ed206b2a6261fba13c5d8405c8ccde398587cd3f7fc7183"
   }
  }
 },
 "nbformat": 4,
 "nbformat_minor": 2
}
